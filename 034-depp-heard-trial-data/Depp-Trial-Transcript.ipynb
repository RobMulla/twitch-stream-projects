{
 "cells": [
  {
   "cell_type": "code",
   "execution_count": 1,
   "id": "e8244a4e-9b99-407d-95bf-e56fbd1a2abb",
   "metadata": {},
   "outputs": [],
   "source": [
    "import pandas as pd"
   ]
  },
  {
   "cell_type": "markdown",
   "id": "327b34f1-1d91-4926-88bf-8eb60718296a",
   "metadata": {},
   "source": [
    "# Read PDF Data"
   ]
  },
  {
   "cell_type": "code",
   "execution_count": 2,
   "id": "1074c492-002b-4123-a8a7-0cc28549ab47",
   "metadata": {},
   "outputs": [
    {
     "ename": "ImportError",
     "evalue": "cannot import name 'PDFFileReader' from 'PyPDF2' (/home/robmulla/anaconda3/envs/kaggle2/lib/python3.8/site-packages/PyPDF2/__init__.py)",
     "output_type": "error",
     "traceback": [
      "\u001b[0;31m---------------------------------------------------------------------------\u001b[0m",
      "\u001b[0;31mImportError\u001b[0m                               Traceback (most recent call last)",
      "\u001b[0;32m/tmp/ipykernel_1748445/2850782491.py\u001b[0m in \u001b[0;36m<module>\u001b[0;34m\u001b[0m\n\u001b[0;32m----> 1\u001b[0;31m \u001b[0;32mfrom\u001b[0m \u001b[0mPyPDF2\u001b[0m \u001b[0;32mimport\u001b[0m \u001b[0mPDFFileReader\u001b[0m\u001b[0;34m\u001b[0m\u001b[0;34m\u001b[0m\u001b[0m\n\u001b[0m\u001b[1;32m      2\u001b[0m \u001b[0mtemp\u001b[0m \u001b[0;34m=\u001b[0m \u001b[0mopen\u001b[0m\u001b[0;34m(\u001b[0m\u001b[0;34m'document_path.PDF'\u001b[0m\u001b[0;34m,\u001b[0m \u001b[0;34m'rb'\u001b[0m\u001b[0;34m)\u001b[0m\u001b[0;34m\u001b[0m\u001b[0;34m\u001b[0m\u001b[0m\n\u001b[1;32m      3\u001b[0m \u001b[0mPDF_read\u001b[0m \u001b[0;34m=\u001b[0m \u001b[0mPDFFileReader\u001b[0m\u001b[0;34m(\u001b[0m\u001b[0mtemp\u001b[0m\u001b[0;34m)\u001b[0m\u001b[0;34m\u001b[0m\u001b[0;34m\u001b[0m\u001b[0m\n\u001b[1;32m      4\u001b[0m \u001b[0mfirst_page\u001b[0m \u001b[0;34m=\u001b[0m \u001b[0mPDF_read\u001b[0m\u001b[0;34m.\u001b[0m\u001b[0mgetPage\u001b[0m\u001b[0;34m(\u001b[0m\u001b[0;36m0\u001b[0m\u001b[0;34m)\u001b[0m\u001b[0;34m\u001b[0m\u001b[0;34m\u001b[0m\u001b[0m\n\u001b[1;32m      5\u001b[0m \u001b[0mprint\u001b[0m\u001b[0;34m(\u001b[0m\u001b[0mfirst_page\u001b[0m\u001b[0;34m.\u001b[0m\u001b[0mextractText\u001b[0m\u001b[0;34m(\u001b[0m\u001b[0;34m)\u001b[0m\u001b[0;34m)\u001b[0m\u001b[0;34m\u001b[0m\u001b[0;34m\u001b[0m\u001b[0m\n",
      "\u001b[0;31mImportError\u001b[0m: cannot import name 'PDFFileReader' from 'PyPDF2' (/home/robmulla/anaconda3/envs/kaggle2/lib/python3.8/site-packages/PyPDF2/__init__.py)"
     ]
    }
   ],
   "source": [
    "from PyPDF2 import PDFFileReader\n",
    "temp = open('document_path.PDF', 'rb')\n",
    "PDF_read = PDFFileReader(temp)\n",
    "first_page = PDF_read.getPage(0)\n",
    "print(first_page.extractText())"
   ]
  },
  {
   "cell_type": "code",
   "execution_count": 31,
   "id": "d250ded2-fd89-4981-a556-c712a6a55bf2",
   "metadata": {},
   "outputs": [
    {
     "name": "stdout",
     "output_type": "stream",
     "text": [
      "{'matrix': (0.75, 0.0, 0.0, 0.75, 36.0, 798.84004475), 'fontname': 'CIDFont+F1', 'adv': 7.2003, 'upright': True, 'x0': 36.0, 'y0': 796.1399322499999, 'x1': 41.400225, 'y1': 805.14030725, 'width': 5.400224999999999, 'height': 9.000375000000076, 'size': 9.000375000000076, 'object_type': 'char', 'page_number': 2, 'text': 'D', 'stroking_color': None, 'non_stroking_color': (0.0, 0.0, 0.0), 'top': 36.779732749999994, 'bottom': 45.78010775000007, 'doctop': 878.69977275}\n"
     ]
    }
   ],
   "source": [
    "import pdfplumber\n",
    "\n",
    "with pdfplumber.open(\"Depp v NGN & Wootton - Proceedings 28.07.20 - Day 16.pdf\") as pdf:\n",
    "    first_page = pdf.pages[1]\n",
    "    print(first_page.chars[0])"
   ]
  },
  {
   "cell_type": "code",
   "execution_count": 77,
   "id": "05cdc19b-3b29-4692-8f37-d116390bd869",
   "metadata": {},
   "outputs": [
    {
     "data": {
      "text/plain": [
       "(0.0, 0.0, 595.32001, 841.92004)"
      ]
     },
     "execution_count": 77,
     "metadata": {},
     "output_type": "execute_result"
    }
   ],
   "source": [
    "first_page.bbox"
   ]
  },
  {
   "cell_type": "code",
   "execution_count": 123,
   "id": "084598e7-b9aa-4a85-8b7b-909fb1f098d8",
   "metadata": {},
   "outputs": [],
   "source": [
    "text = first_page.within_bbox((60,60, 595/2, 841/2)).get_text_layout().as_string.strip('\\n').replace('\\n','').replace('\\'','').split(' ')\n",
    "text = [t for t in text if t != '']"
   ]
  },
  {
   "cell_type": "code",
   "execution_count": 124,
   "id": "3ee3a96c-7064-4f7a-863d-8d34816225b9",
   "metadata": {},
   "outputs": [
    {
     "data": {
      "text/plain": [
       "'CLOSING - SHERBORNE evidence and the defendants closing submissions yesterday, and to the accounts given (hugely varying accounts as they were) of what went on in the relationship between Mr. Depp and Ms. Heard, it would be easy to lose focus on precisely why we are all here and, in particular, why the claimant has subjected himself to days of cross-examination, why so many individuals have come to give evidence in support of his case, many of whom no longer work for him even if they did at some time during the relationship, or have little or no connection with him at all. There are the two police officers, the concierges in the Eastern Columbia Building and so on. So, why are we all here in this courtroom? There is a short answer to that and a longer one as well. Let us start with the short one. On 27th April 2018, the The Sun published an article under the headline \"How can JK Rowling be genuinely happy casting wife beater Johnny Depp in the new Fantastic Beasts film?\" \"In his brand new column\", it continues, \"Dan Wootton reveals that the Harry Potter author is facing a significant backlash from the #MeToo movement over her decision to stand by the casting of Depp despite claims he beat his ex-wife Amber Heard.\" As your Lordship will see from the article, the newspaper and its executive editor and author, Dan Wootton, whose name has for some reason been as absent from these'"
      ]
     },
     "execution_count": 124,
     "metadata": {},
     "output_type": "execute_result"
    }
   ],
   "source": [
    "' '.join(text)"
   ]
  }
 ],
 "metadata": {
  "kernelspec": {
   "display_name": "Python 3 (ipykernel)",
   "language": "python",
   "name": "python3"
  },
  "language_info": {
   "codemirror_mode": {
    "name": "ipython",
    "version": 3
   },
   "file_extension": ".py",
   "mimetype": "text/x-python",
   "name": "python",
   "nbconvert_exporter": "python",
   "pygments_lexer": "ipython3",
   "version": "3.8.5"
  }
 },
 "nbformat": 4,
 "nbformat_minor": 5
}
