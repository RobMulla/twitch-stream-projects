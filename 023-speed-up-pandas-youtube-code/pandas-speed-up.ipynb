{
 "cells": [
  {
   "cell_type": "markdown",
   "id": "52eb4d9c-6d8f-4c5d-a7f3-b5a6cfa3c969",
   "metadata": {},
   "source": [
    "# Speed up your Pandas Code!"
   ]
  },
  {
   "cell_type": "code",
   "execution_count": 1,
   "id": "b014a085-a37c-43ad-a8d0-1319ff131ca9",
   "metadata": {},
   "outputs": [],
   "source": [
    "import pandas as pd\n",
    "import numpy as np"
   ]
  },
  {
   "cell_type": "markdown",
   "id": "9c38cb1f-fc99-4bcc-bed5-4c12308649c9",
   "metadata": {},
   "source": [
    "## Create our dataset"
   ]
  },
  {
   "cell_type": "code",
   "execution_count": 2,
   "id": "d071158e-0d06-43a7-856a-0da9377204df",
   "metadata": {},
   "outputs": [],
   "source": [
    "def get_data(size = 10_000):\n",
    "    df = pd.DataFrame()\n",
    "    df['age'] = np.random.randint(0, 100, size)\n",
    "    df['time_in_bed'] = np.random.randint(0, 9, size)\n",
    "    df['pct_sleeping'] = np.random.rand(size)\n",
    "    df['favorite_food'] = np.random.choice(['pizza', 'taco', 'ice-cream'], size)\n",
    "    df['hate_food'] = np.random.choice(['broccoli', 'candy corn', 'eggs'], size)\n",
    "    return df"
   ]
  },
  {
   "cell_type": "markdown",
   "id": "8817da6d-562f-4caa-a4cb-03a83052acf6",
   "metadata": {},
   "source": [
    "## The Problem\n",
    "Reward calculation:\n",
    "- If they were in bed for more than 5 hours AND they were sleeping for more than 50% we give them their favorite food.\n",
    "- Otherwise we give them their hate food.\n",
    "- If they are over 90 years old give their favorite food regardless."
   ]
  },
  {
   "cell_type": "code",
   "execution_count": 3,
   "id": "2825036d-7a4f-4ea0-8908-f2a8d78af6c9",
   "metadata": {},
   "outputs": [],
   "source": [
    "def reward_calc(row):\n",
    "    if row['age'] >= 90:\n",
    "        return row['favorite_food']\n",
    "    if (row['time_in_bed'] > 5) & (row['pct_sleeping'] > 0.5):\n",
    "        return row['favorite_food']\n",
    "    return row['hate_food']"
   ]
  },
  {
   "cell_type": "markdown",
   "id": "2c03a705-7746-449f-9345-68fd798109b1",
   "metadata": {},
   "source": [
    "## Level 1 - Loop"
   ]
  },
  {
   "cell_type": "code",
   "execution_count": 5,
   "id": "238df60c-bf4f-4c09-98ce-4b13c653e9ee",
   "metadata": {},
   "outputs": [
    {
     "name": "stdout",
     "output_type": "stream",
     "text": [
      "3.44 s ± 5.56 ms per loop (mean ± std. dev. of 7 runs, 1 loop each)\n"
     ]
    }
   ],
   "source": [
    "%%timeit\n",
    "df = get_data()\n",
    "for index, row in df.iterrows():\n",
    "    df.loc[index, 'reward'] = reward_calc(row)"
   ]
  },
  {
   "cell_type": "markdown",
   "id": "cd8c69b5-09cc-45f0-8013-6e81074b0e38",
   "metadata": {},
   "source": [
    "## Level 2 - Apply"
   ]
  },
  {
   "cell_type": "code",
   "execution_count": 6,
   "id": "f551cc8c-db11-4f31-8261-7cbaf6e5ef08",
   "metadata": {},
   "outputs": [
    {
     "name": "stdout",
     "output_type": "stream",
     "text": [
      "189 ms ± 1.97 ms per loop (mean ± std. dev. of 7 runs, 10 loops each)\n"
     ]
    }
   ],
   "source": [
    "%%timeit\n",
    "df = get_data()\n",
    "df['reward'] = df.apply(reward_calc, axis=1)"
   ]
  },
  {
   "cell_type": "markdown",
   "id": "78ddf7b8-62f0-4c7c-b3aa-0c02e0c4be42",
   "metadata": {},
   "source": [
    "## Level 3 - Vectorized"
   ]
  },
  {
   "cell_type": "code",
   "execution_count": 30,
   "id": "44070c11-ed9f-46fe-8ff5-ccfd2c4f5391",
   "metadata": {},
   "outputs": [],
   "source": [
    "df = get_data()"
   ]
  },
  {
   "cell_type": "code",
   "execution_count": 31,
   "id": "0e9897ec-8386-4594-997e-b5b4f34a4e0f",
   "metadata": {},
   "outputs": [
    {
     "name": "stdout",
     "output_type": "stream",
     "text": [
      "1.57 ms ± 40.7 µs per loop (mean ± std. dev. of 7 runs, 1000 loops each)\n"
     ]
    }
   ],
   "source": [
    "%%timeit\n",
    "df['reward'] = df['hate_food']\n",
    "df.loc[((df['pct_sleeping'] > 0.5) &\n",
    "        (df['time_in_bed'] > 5)) |\n",
    "       (df['age'] > 90), 'reward'] = df['favorite_food']"
   ]
  },
  {
   "cell_type": "markdown",
   "id": "28abfcc5-385e-472f-a494-03f53f1031db",
   "metadata": {},
   "source": [
    "# Plot Differences"
   ]
  },
  {
   "cell_type": "code",
   "execution_count": 32,
   "id": "b8a38ae5-b7ae-4dd2-aa22-1a1aa2ae699e",
   "metadata": {},
   "outputs": [],
   "source": [
    "results = pd.DataFrame(\n",
    "    [\n",
    "        [\"loop\", 3580, 48.3],\n",
    "        [\"apply\", 192, 6.34],\n",
    "        [\"vectorized\", 1.36, 0.00896],\n",
    "    ],\n",
    "    columns=[\"type\", \"mean\", \"std\"],\n",
    ")"
   ]
  },
  {
   "cell_type": "code",
   "execution_count": 34,
   "id": "f388480d-a2c4-4946-b395-20408d773cee",
   "metadata": {},
   "outputs": [
    {
     "data": {
      "text/plain": [
       "<AxesSubplot:title={'center':'Time to Run Reward Calc'}, xlabel='type'>"
      ]
     },
     "execution_count": 34,
     "metadata": {},
     "output_type": "execute_result"
    },
    {
     "data": {
      "image/png": "[encoded data removed]",
      "text/plain": [
       "<Figure size 432x288 with 1 Axes>"
      ]
     },
     "metadata": {
      "needs_background": "light"
     },
     "output_type": "display_data"
    }
   ],
   "source": [
    "results.set_index('type')['mean'].plot(kind='bar', title='Time to Run Reward Calc')"
   ]
  },
  {
   "cell_type": "code",
   "execution_count": null,
   "id": "d3e9d629-cfc5-4383-bf8c-9f5b5b5b3b9d",
   "metadata": {},
   "outputs": [],
   "source": []
  }
 ],
 "metadata": {
  "kernelspec": {
   "display_name": "Python 3 (ipykernel)",
   "language": "python",
   "name": "python3"
  },
  "language_info": {
   "codemirror_mode": {
    "name": "ipython",
    "version": 3
   },
   "file_extension": ".py",
   "mimetype": "text/x-python",
   "name": "python",
   "nbconvert_exporter": "python",
   "pygments_lexer": "ipython3",
   "version": "3.8.5"
  }
 },
 "nbformat": 4,
 "nbformat_minor": 5
}
