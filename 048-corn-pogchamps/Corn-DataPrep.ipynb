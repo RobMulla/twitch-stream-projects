{
 "cells": [
  {
   "cell_type": "markdown",
   "id": "46506fdc-4bc5-411a-b11c-c80a495180cd",
   "metadata": {},
   "source": [
    "# Corn Dataset Creation"
   ]
  },
  {
   "cell_type": "code",
   "execution_count": 1,
   "id": "d0e9ec5c-0e44-43c0-9a5b-c958354a2d11",
   "metadata": {},
   "outputs": [],
   "source": [
    "import pandas as pd\n",
    "import numpy as np\n",
    "from glob import glob\n",
    "from PIL import Image"
   ]
  },
  {
   "cell_type": "code",
   "execution_count": 2,
   "id": "94a8f916-f237-4ef6-9ac9-1d436ed5252f",
   "metadata": {},
   "outputs": [],
   "source": [
    "%load_ext lab_black"
   ]
  },
  {
   "cell_type": "code",
   "execution_count": 11,
   "id": "c17d2ca6-9f23-4a8e-a5ab-20b2f728b383",
   "metadata": {},
   "outputs": [],
   "source": [
    "df = pd.concat(\n",
    "    [\n",
    "        pd.DataFrame(glob(\"data/train/broken/*.png\"))\n",
    "        .rename(columns={0: \"image\"})\n",
    "        .assign(label=\"broken\")\n",
    "        .assign(group=\"train\"),\n",
    "        pd.DataFrame(glob(\"data/train/discolored/*.png\"))\n",
    "        .rename(columns={0: \"image\"})\n",
    "        .assign(label=\"discolored\")\n",
    "        .assign(group=\"train\"),\n",
    "        pd.DataFrame(glob(\"data/train/pure/*.png\"))\n",
    "        .rename(columns={0: \"image\"})\n",
    "        .assign(label=\"pure\")\n",
    "        .assign(group=\"train\"),\n",
    "        pd.DataFrame(glob(\"data/train/silkcut/*.png\"))\n",
    "        .rename(columns={0: \"image\"})\n",
    "        .assign(label=\"silkcut\")\n",
    "        .assign(group=\"train\"),\n",
    "        pd.DataFrame(glob(\"data/validation/broken/*.png\"))\n",
    "        .rename(columns={0: \"image\"})\n",
    "        .assign(label=\"broken\")\n",
    "        .assign(group=\"test\"),\n",
    "        pd.DataFrame(glob(\"data/validation/discolored/*.png\"))\n",
    "        .rename(columns={0: \"image\"})\n",
    "        .assign(label=\"discolored\")\n",
    "        .assign(group=\"test\"),\n",
    "        pd.DataFrame(glob(\"data/validation/pure/*.png\"))\n",
    "        .rename(columns={0: \"image\"})\n",
    "        .assign(label=\"pure\")\n",
    "        .assign(group=\"test\"),\n",
    "        pd.DataFrame(glob(\"data/validation/silkcut/*.png\"))\n",
    "        .rename(columns={0: \"image\"})\n",
    "        .assign(label=\"silkcut\")\n",
    "        .assign(group=\"test\"),\n",
    "    ]\n",
    ")\n",
    "\n",
    "df = df.assign(fn=df[\"image\"].str.split(\"/\").str[-1])\n",
    "\n",
    "df = df.assign(view=df[\"fn\"].str.split(\"_\").str[-2]).assign(\n",
    "    number=df[\"fn\"].str.split(\"_\").str[-1].str.split(\".\").str[0].astype(\"int\")\n",
    ")"
   ]
  },
  {
   "cell_type": "code",
   "execution_count": 35,
   "id": "51ff04fb-84d9-46bc-930b-1da1402e32b6",
   "metadata": {},
   "outputs": [],
   "source": [
    "np.random.seed(529)\n",
    "df[\"seed_id\"] = np.random.choice(range(17801), replace=False, size=17801)\n",
    "df[\"seed_id\"] = df[\"seed_id\"].astype(\"str\").str.zfill(5)"
   ]
  },
  {
   "cell_type": "code",
   "execution_count": 36,
   "id": "3f3ac168-3f09-40a3-b1a5-08e323851106",
   "metadata": {},
   "outputs": [
    {
     "data": {
      "text/html": [
       "<div>\n",
       "<style scoped>\n",
       "    .dataframe tbody tr th:only-of-type {\n",
       "        vertical-align: middle;\n",
       "    }\n",
       "\n",
       "    .dataframe tbody tr th {\n",
       "        vertical-align: top;\n",
       "    }\n",
       "\n",
       "    .dataframe thead th {\n",
       "        text-align: right;\n",
       "    }\n",
       "</style>\n",
       "<table border=\"1\" class=\"dataframe\">\n",
       "  <thead>\n",
       "    <tr style=\"text-align: right;\">\n",
       "      <th></th>\n",
       "      <th>image</th>\n",
       "      <th>label</th>\n",
       "      <th>group</th>\n",
       "      <th>fn</th>\n",
       "      <th>view</th>\n",
       "      <th>number</th>\n",
       "      <th>seed_id</th>\n",
       "    </tr>\n",
       "  </thead>\n",
       "  <tbody>\n",
       "    <tr>\n",
       "      <th>0</th>\n",
       "      <td>data/train/broken/new_dc354_discolored_002_top...</td>\n",
       "      <td>broken</td>\n",
       "      <td>train</td>\n",
       "      <td>new_dc354_discolored_002_top_116.png</td>\n",
       "      <td>top</td>\n",
       "      <td>116</td>\n",
       "      <td>03287</td>\n",
       "    </tr>\n",
       "    <tr>\n",
       "      <th>1</th>\n",
       "      <td>data/train/broken/new_dc354_discolored_001_bot...</td>\n",
       "      <td>broken</td>\n",
       "      <td>train</td>\n",
       "      <td>new_dc354_discolored_001_bottom_331.png</td>\n",
       "      <td>bottom</td>\n",
       "      <td>331</td>\n",
       "      <td>13484</td>\n",
       "    </tr>\n",
       "    <tr>\n",
       "      <th>2</th>\n",
       "      <td>data/train/broken/dc354_broken_003_bottom_018.png</td>\n",
       "      <td>broken</td>\n",
       "      <td>train</td>\n",
       "      <td>dc354_broken_003_bottom_018.png</td>\n",
       "      <td>bottom</td>\n",
       "      <td>18</td>\n",
       "      <td>10701</td>\n",
       "    </tr>\n",
       "    <tr>\n",
       "      <th>3</th>\n",
       "      <td>data/train/broken/dc354_discolored_001_bottom_...</td>\n",
       "      <td>broken</td>\n",
       "      <td>train</td>\n",
       "      <td>dc354_discolored_001_bottom_200.png</td>\n",
       "      <td>bottom</td>\n",
       "      <td>200</td>\n",
       "      <td>05661</td>\n",
       "    </tr>\n",
       "    <tr>\n",
       "      <th>4</th>\n",
       "      <td>data/train/broken/new_dc354_broken_002_bottom_...</td>\n",
       "      <td>broken</td>\n",
       "      <td>train</td>\n",
       "      <td>new_dc354_broken_002_bottom_290.png</td>\n",
       "      <td>bottom</td>\n",
       "      <td>290</td>\n",
       "      <td>13366</td>\n",
       "    </tr>\n",
       "    <tr>\n",
       "      <th>...</th>\n",
       "      <td>...</td>\n",
       "      <td>...</td>\n",
       "      <td>...</td>\n",
       "      <td>...</td>\n",
       "      <td>...</td>\n",
       "      <td>...</td>\n",
       "      <td>...</td>\n",
       "    </tr>\n",
       "    <tr>\n",
       "      <th>319</th>\n",
       "      <td>data/validation/silkcut/dc354_silkcut_004_top_...</td>\n",
       "      <td>silkcut</td>\n",
       "      <td>test</td>\n",
       "      <td>dc354_silkcut_004_top_089.png</td>\n",
       "      <td>top</td>\n",
       "      <td>89</td>\n",
       "      <td>01461</td>\n",
       "    </tr>\n",
       "    <tr>\n",
       "      <th>320</th>\n",
       "      <td>data/validation/silkcut/dc354_discolored_002_t...</td>\n",
       "      <td>silkcut</td>\n",
       "      <td>test</td>\n",
       "      <td>dc354_discolored_002_top_280.png</td>\n",
       "      <td>top</td>\n",
       "      <td>280</td>\n",
       "      <td>02566</td>\n",
       "    </tr>\n",
       "    <tr>\n",
       "      <th>321</th>\n",
       "      <td>data/validation/silkcut/dc354_silkcut_001_top_...</td>\n",
       "      <td>silkcut</td>\n",
       "      <td>test</td>\n",
       "      <td>dc354_silkcut_001_top_278.png</td>\n",
       "      <td>top</td>\n",
       "      <td>278</td>\n",
       "      <td>11504</td>\n",
       "    </tr>\n",
       "    <tr>\n",
       "      <th>322</th>\n",
       "      <td>data/validation/silkcut/dc354_broken_000_botto...</td>\n",
       "      <td>silkcut</td>\n",
       "      <td>test</td>\n",
       "      <td>dc354_broken_000_bottom_180.png</td>\n",
       "      <td>bottom</td>\n",
       "      <td>180</td>\n",
       "      <td>05140</td>\n",
       "    </tr>\n",
       "    <tr>\n",
       "      <th>323</th>\n",
       "      <td>data/validation/silkcut/dc354_silkcut_000_top_...</td>\n",
       "      <td>silkcut</td>\n",
       "      <td>test</td>\n",
       "      <td>dc354_silkcut_000_top_214.png</td>\n",
       "      <td>top</td>\n",
       "      <td>214</td>\n",
       "      <td>06025</td>\n",
       "    </tr>\n",
       "  </tbody>\n",
       "</table>\n",
       "<p>17801 rows × 7 columns</p>\n",
       "</div>"
      ],
      "text/plain": [
       "                                                 image    label  group  \\\n",
       "0    data/train/broken/new_dc354_discolored_002_top...   broken  train   \n",
       "1    data/train/broken/new_dc354_discolored_001_bot...   broken  train   \n",
       "2    data/train/broken/dc354_broken_003_bottom_018.png   broken  train   \n",
       "3    data/train/broken/dc354_discolored_001_bottom_...   broken  train   \n",
       "4    data/train/broken/new_dc354_broken_002_bottom_...   broken  train   \n",
       "..                                                 ...      ...    ...   \n",
       "319  data/validation/silkcut/dc354_silkcut_004_top_...  silkcut   test   \n",
       "320  data/validation/silkcut/dc354_discolored_002_t...  silkcut   test   \n",
       "321  data/validation/silkcut/dc354_silkcut_001_top_...  silkcut   test   \n",
       "322  data/validation/silkcut/dc354_broken_000_botto...  silkcut   test   \n",
       "323  data/validation/silkcut/dc354_silkcut_000_top_...  silkcut   test   \n",
       "\n",
       "                                          fn    view  number seed_id  \n",
       "0       new_dc354_discolored_002_top_116.png     top     116   03287  \n",
       "1    new_dc354_discolored_001_bottom_331.png  bottom     331   13484  \n",
       "2            dc354_broken_003_bottom_018.png  bottom      18   10701  \n",
       "3        dc354_discolored_001_bottom_200.png  bottom     200   05661  \n",
       "4        new_dc354_broken_002_bottom_290.png  bottom     290   13366  \n",
       "..                                       ...     ...     ...     ...  \n",
       "319            dc354_silkcut_004_top_089.png     top      89   01461  \n",
       "320         dc354_discolored_002_top_280.png     top     280   02566  \n",
       "321            dc354_silkcut_001_top_278.png     top     278   11504  \n",
       "322          dc354_broken_000_bottom_180.png  bottom     180   05140  \n",
       "323            dc354_silkcut_000_top_214.png     top     214   06025  \n",
       "\n",
       "[17801 rows x 7 columns]"
      ]
     },
     "execution_count": 36,
     "metadata": {},
     "output_type": "execute_result"
    }
   ],
   "source": [
    "df"
   ]
  },
  {
   "cell_type": "markdown",
   "id": "ded64296-c58e-4847-b947-e4fef9653325",
   "metadata": {},
   "source": [
    "# Move Files to new folder"
   ]
  },
  {
   "cell_type": "code",
   "execution_count": 37,
   "id": "b30f9a40-9412-46c0-bb08-d1ee3af44cc8",
   "metadata": {},
   "outputs": [],
   "source": [
    "from tqdm.notebook import tqdm\n",
    "import os\n",
    "import shutil"
   ]
  },
  {
   "cell_type": "code",
   "execution_count": 38,
   "id": "1634c9f3-f28d-4eb3-b04f-495a5e93db06",
   "metadata": {},
   "outputs": [
    {
     "data": {
      "application/vnd.jupyter.widget-view+json": {
       "model_id": "143f01b74fac484f82497aa9d67a5ad1",
       "version_major": 2,
       "version_minor": 0
      },
      "text/plain": [
       "  0%|          | 0/17801 [00:00<?, ?it/s]"
      ]
     },
     "metadata": {},
     "output_type": "display_data"
    }
   ],
   "source": [
    "for i, d in tqdm(df.iterrows(), total=len(df)):\n",
    "    out_img = \"corn/\" + d[\"group\"] + \"/\" + d[\"seed_id\"] + \".png\"\n",
    "    shutil.copy(d[\"image\"], out_img)"
   ]
  },
  {
   "cell_type": "code",
   "execution_count": 49,
   "id": "75846310-e720-4ebe-b539-eb4fb0f69ee2",
   "metadata": {},
   "outputs": [],
   "source": [
    "df[\"image\"] = df[\"group\"] + \"/\" + df[\"seed_id\"] + \".png\""
   ]
  },
  {
   "cell_type": "code",
   "execution_count": 123,
   "id": "7217e29f-0e7a-4c15-86b9-d6a7855bc6ac",
   "metadata": {},
   "outputs": [],
   "source": [
    "df.query('group == \"train\"').sort_values(\"seed_id\")[\n",
    "    [\"seed_id\", \"view\", \"image\", \"label\"]\n",
    "].to_csv(\"corn/train.csv\", index=False)\n",
    "df.query('group == \"test\"').sort_values(\"seed_id\")[[\"seed_id\", \"view\", \"image\"]].to_csv(\n",
    "    \"corn/test.csv\", index=False\n",
    ")\n",
    "solution = df.query('group == \"test\"')[[\"seed_id\", \"label\"]]\n",
    "\n",
    "solution[\"Usage\"] = \"Private\"\n",
    "public_seeds = solution[\"seed_id\"].sample(frac=0.2, random_state=529).unique()\n",
    "solution.loc[solution[\"seed_id\"].isin(public_seeds), \"Usage\"] = \"Public\"\n",
    "solution.to_csv(\"corn/score.csv\", index=False)"
   ]
  },
  {
   "cell_type": "code",
   "execution_count": 103,
   "id": "192ed175-e046-4c39-bf6b-0fd0a4364ff8",
   "metadata": {},
   "outputs": [],
   "source": [
    "train = pd.read_csv(\"corn/train.csv\")\n",
    "test = pd.read_csv(\"corn/test.csv\")"
   ]
  },
  {
   "cell_type": "code",
   "execution_count": null,
   "id": "7523a2ae-fd78-4594-b34c-8fa679a52276",
   "metadata": {},
   "outputs": [],
   "source": [
    "ss = pd.read_csv(\"corn/score.csv\")\n",
    "\n",
    "ss[\"label\"] = ss.sample(frac=1, random_state=529)[\"label\"].values"
   ]
  },
  {
   "cell_type": "code",
   "execution_count": 97,
   "id": "0aa599d7-8310-4225-979d-3b4ca45b7395",
   "metadata": {},
   "outputs": [],
   "source": [
    "ss.drop(\"Usage\", axis=1).to_csv(\"corn/sample_submission.csv\", index=False)"
   ]
  },
  {
   "cell_type": "code",
   "execution_count": 114,
   "id": "6c1b5e9f-138f-4ce1-9bb6-c869db991a4c",
   "metadata": {},
   "outputs": [
    {
     "data": {
      "text/plain": [
       "silkcut       905\n",
       "broken        903\n",
       "pure          868\n",
       "discolored    803\n",
       "Name: label, dtype: int64"
      ]
     },
     "execution_count": 114,
     "metadata": {},
     "output_type": "execute_result"
    }
   ],
   "source": [
    "ss[\"label\"].value_counts()"
   ]
  },
  {
   "cell_type": "code",
   "execution_count": 127,
   "id": "34f6e516-dc22-4f53-b2fe-832422690c79",
   "metadata": {},
   "outputs": [
    {
     "data": {
      "text/html": [
       "<div>\n",
       "<style scoped>\n",
       "    .dataframe tbody tr th:only-of-type {\n",
       "        vertical-align: middle;\n",
       "    }\n",
       "\n",
       "    .dataframe tbody tr th {\n",
       "        vertical-align: top;\n",
       "    }\n",
       "\n",
       "    .dataframe thead th {\n",
       "        text-align: right;\n",
       "    }\n",
       "</style>\n",
       "<table border=\"1\" class=\"dataframe\">\n",
       "  <thead>\n",
       "    <tr style=\"text-align: right;\">\n",
       "      <th></th>\n",
       "      <th>seed_id</th>\n",
       "      <th>label</th>\n",
       "      <th>Usage</th>\n",
       "    </tr>\n",
       "  </thead>\n",
       "  <tbody>\n",
       "    <tr>\n",
       "      <th>801</th>\n",
       "      <td>2</td>\n",
       "      <td>discolored</td>\n",
       "      <td>Private</td>\n",
       "    </tr>\n",
       "    <tr>\n",
       "      <th>2369</th>\n",
       "      <td>11</td>\n",
       "      <td>silkcut</td>\n",
       "      <td>Private</td>\n",
       "    </tr>\n",
       "    <tr>\n",
       "      <th>1723</th>\n",
       "      <td>13</td>\n",
       "      <td>discolored</td>\n",
       "      <td>Private</td>\n",
       "    </tr>\n",
       "    <tr>\n",
       "      <th>1397</th>\n",
       "      <td>19</td>\n",
       "      <td>silkcut</td>\n",
       "      <td>Public</td>\n",
       "    </tr>\n",
       "    <tr>\n",
       "      <th>867</th>\n",
       "      <td>27</td>\n",
       "      <td>pure</td>\n",
       "      <td>Private</td>\n",
       "    </tr>\n",
       "  </tbody>\n",
       "</table>\n",
       "</div>"
      ],
      "text/plain": [
       "      seed_id       label    Usage\n",
       "801         2  discolored  Private\n",
       "2369       11     silkcut  Private\n",
       "1723       13  discolored  Private\n",
       "1397       19     silkcut   Public\n",
       "867        27        pure  Private"
      ]
     },
     "execution_count": 127,
     "metadata": {},
     "output_type": "execute_result"
    }
   ],
   "source": [
    "ss.sort_values(\"seed_id\").head()"
   ]
  },
  {
   "cell_type": "code",
   "execution_count": 99,
   "id": "da414b08-283a-4663-8e2e-3499299a30c7",
   "metadata": {},
   "outputs": [],
   "source": [
    "ss[\"label\"] = np.random.choice(ss[\"label\"].unique(), size=len(ss))"
   ]
  },
  {
   "cell_type": "code",
   "execution_count": 100,
   "id": "7ddccaae-026d-4233-8f66-f89b4af103fd",
   "metadata": {},
   "outputs": [],
   "source": [
    "ss.drop(\"Usage\", axis=1).to_csv(\"corn/sample_submission.csv\", index=False)"
   ]
  },
  {
   "cell_type": "code",
   "execution_count": null,
   "id": "04d7b97b-7213-4093-bafd-e636777b3a29",
   "metadata": {},
   "outputs": [],
   "source": []
  }
 ],
 "metadata": {
  "kernelspec": {
   "display_name": "Python 3 (ipykernel)",
   "language": "python",
   "name": "python3"
  },
  "language_info": {
   "codemirror_mode": {
    "name": "ipython",
    "version": 3
   },
   "file_extension": ".py",
   "mimetype": "text/x-python",
   "name": "python",
   "nbconvert_exporter": "python",
   "pygments_lexer": "ipython3",
   "version": "3.8.5"
  }
 },
 "nbformat": 4,
 "nbformat_minor": 5
}
