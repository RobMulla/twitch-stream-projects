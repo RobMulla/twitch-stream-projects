{
 "cells": [
  {
   "cell_type": "markdown",
   "id": "e6b19efb-054a-414a-aff6-999ea85e2348",
   "metadata": {},
   "source": [
    "# SNScrape Test"
   ]
  },
  {
   "cell_type": "code",
   "execution_count": 1,
   "id": "dca413a8-d199-4c35-863e-aaa90664a1e8",
   "metadata": {},
   "outputs": [],
   "source": [
    "!snscrape twitter-user robikscube > out.txt"
   ]
  },
  {
   "cell_type": "code",
   "execution_count": 2,
   "id": "7e73b8c0-d2bf-4a20-98dc-3415e3db3085",
   "metadata": {},
   "outputs": [],
   "source": [
    "import pandas as pd"
   ]
  },
  {
   "cell_type": "markdown",
   "id": "6102f3e2-6307-4276-9000-77de87bff06b",
   "metadata": {},
   "source": [
    "## Example pulling tweets"
   ]
  },
  {
   "cell_type": "code",
   "execution_count": 3,
   "id": "4c7aca85-ee83-4737-a1e6-a324454a98d4",
   "metadata": {},
   "outputs": [],
   "source": [
    "%load_ext lab_black"
   ]
  },
  {
   "cell_type": "code",
   "execution_count": 22,
   "id": "211c7385-1baa-4bca-a18f-947a5d947a94",
   "metadata": {},
   "outputs": [
    {
     "data": {
      "application/vnd.jupyter.widget-view+json": {
       "model_id": "1eb931b368f44d32b28c6a7aa02a16eb",
       "version_major": 2,
       "version_minor": 0
      },
      "text/plain": [
       "  0%|          | 0/1000 [00:00<?, ?it/s]"
      ]
     },
     "metadata": {},
     "output_type": "display_data"
    }
   ],
   "source": [
    "# importing libraries and packages\n",
    "import snscrape.modules.twitter as sntwitter\n",
    "import pandas\n",
    "from tqdm.notebook import tqdm\n",
    "\n",
    "# Creating list to append tweet data\n",
    "tweets_list1 = []\n",
    "\n",
    "# Using TwitterSearchScraper to scrape data and append tweets to list\n",
    "for i, tweet in tqdm(\n",
    "    enumerate(sntwitter.TwitterSearchScraper(\"from:Rob_Mulla\").get_items()), total=1000\n",
    "):  # declare a username\n",
    "    if i > 1000:  # number of tweets you want to scrape\n",
    "        break\n",
    "    tweets_list1.append(\n",
    "        [tweet.date, tweet.id, tweet.content, tweet.user.username]\n",
    "    )  # declare the attributes to be returned\n",
    "    break\n",
    "# Creating a dataframe from the tweets list above\n",
    "tweets_df1 = pd.DataFrame(\n",
    "    tweets_list1, columns=[\"Datetime\", \"Tweet Id\", \"Text\", \"Username\"]\n",
    ")"
   ]
  },
  {
   "cell_type": "code",
   "execution_count": 32,
   "id": "07511ac3-18ed-4aac-a0c5-b35091cfd81f",
   "metadata": {},
   "outputs": [
    {
     "data": {
      "text/plain": [
       "'https://pbs.twimg.com/media/FVNwgF0XEAET5m3?format=jpg&name=large'"
      ]
     },
     "execution_count": 32,
     "metadata": {},
     "output_type": "execute_result"
    }
   ],
   "source": []
  },
  {
   "cell_type": "code",
   "execution_count": 18,
   "id": "acd91a63-549e-4791-8eb3-932eafe30c11",
   "metadata": {},
   "outputs": [
    {
     "data": {
      "text/html": [
       "<div>\n",
       "<style scoped>\n",
       "    .dataframe tbody tr th:only-of-type {\n",
       "        vertical-align: middle;\n",
       "    }\n",
       "\n",
       "    .dataframe tbody tr th {\n",
       "        vertical-align: top;\n",
       "    }\n",
       "\n",
       "    .dataframe thead th {\n",
       "        text-align: right;\n",
       "    }\n",
       "</style>\n",
       "<table border=\"1\" class=\"dataframe\">\n",
       "  <thead>\n",
       "    <tr style=\"text-align: right;\">\n",
       "      <th></th>\n",
       "      <th>Datetime</th>\n",
       "      <th>Text</th>\n",
       "    </tr>\n",
       "  </thead>\n",
       "  <tbody>\n",
       "    <tr>\n",
       "      <th>0</th>\n",
       "      <td>2022-06-14 13:03:14+00:00</td>\n",
       "      <td>Object Detection in 10 minutes with YOLOv5 and...</td>\n",
       "    </tr>\n",
       "    <tr>\n",
       "      <th>1</th>\n",
       "      <td>2022-06-10 13:26:14+00:00</td>\n",
       "      <td>🎥 + 🐍 = 🔥\\nEver wondered how to work with vide...</td>\n",
       "    </tr>\n",
       "    <tr>\n",
       "      <th>2</th>\n",
       "      <td>2022-06-09 17:47:22+00:00</td>\n",
       "      <td>@extremesaro They might just be bots to you. B...</td>\n",
       "    </tr>\n",
       "    <tr>\n",
       "      <th>3</th>\n",
       "      <td>2022-06-09 15:59:15+00:00</td>\n",
       "      <td>30 minutes after posting my latest YouTube vid...</td>\n",
       "    </tr>\n",
       "    <tr>\n",
       "      <th>4</th>\n",
       "      <td>2022-06-03 14:06:02+00:00</td>\n",
       "      <td>@levyvix3 Thanks man, love any feedback! I'm t...</td>\n",
       "    </tr>\n",
       "    <tr>\n",
       "      <th>...</th>\n",
       "      <td>...</td>\n",
       "      <td>...</td>\n",
       "    </tr>\n",
       "    <tr>\n",
       "      <th>362</th>\n",
       "      <td>2008-11-06 15:03:13+00:00</td>\n",
       "      <td>Getting excited for football to return to Blac...</td>\n",
       "    </tr>\n",
       "    <tr>\n",
       "      <th>363</th>\n",
       "      <td>2008-11-05 22:39:07+00:00</td>\n",
       "      <td>Trying to find some people to follow on twitter</td>\n",
       "    </tr>\n",
       "    <tr>\n",
       "      <th>364</th>\n",
       "      <td>2008-11-05 21:29:34+00:00</td>\n",
       "      <td>Logging onto twitter for the first time in a l...</td>\n",
       "    </tr>\n",
       "    <tr>\n",
       "      <th>365</th>\n",
       "      <td>2008-06-07 18:18:16+00:00</td>\n",
       "      <td>Going to watch a UFC fight with Big O and Dukes</td>\n",
       "    </tr>\n",
       "    <tr>\n",
       "      <th>366</th>\n",
       "      <td>2008-04-17 03:42:14+00:00</td>\n",
       "      <td>about to go to bed. Just had 6th grade night.</td>\n",
       "    </tr>\n",
       "  </tbody>\n",
       "</table>\n",
       "<p>367 rows × 2 columns</p>\n",
       "</div>"
      ],
      "text/plain": [
       "                     Datetime  \\\n",
       "0   2022-06-14 13:03:14+00:00   \n",
       "1   2022-06-10 13:26:14+00:00   \n",
       "2   2022-06-09 17:47:22+00:00   \n",
       "3   2022-06-09 15:59:15+00:00   \n",
       "4   2022-06-03 14:06:02+00:00   \n",
       "..                        ...   \n",
       "362 2008-11-06 15:03:13+00:00   \n",
       "363 2008-11-05 22:39:07+00:00   \n",
       "364 2008-11-05 21:29:34+00:00   \n",
       "365 2008-06-07 18:18:16+00:00   \n",
       "366 2008-04-17 03:42:14+00:00   \n",
       "\n",
       "                                                  Text  \n",
       "0    Object Detection in 10 minutes with YOLOv5 and...  \n",
       "1    🎥 + 🐍 = 🔥\\nEver wondered how to work with vide...  \n",
       "2    @extremesaro They might just be bots to you. B...  \n",
       "3    30 minutes after posting my latest YouTube vid...  \n",
       "4    @levyvix3 Thanks man, love any feedback! I'm t...  \n",
       "..                                                 ...  \n",
       "362  Getting excited for football to return to Blac...  \n",
       "363    Trying to find some people to follow on twitter  \n",
       "364  Logging onto twitter for the first time in a l...  \n",
       "365    Going to watch a UFC fight with Big O and Dukes  \n",
       "366      about to go to bed. Just had 6th grade night.  \n",
       "\n",
       "[367 rows x 2 columns]"
      ]
     },
     "execution_count": 18,
     "metadata": {},
     "output_type": "execute_result"
    }
   ],
   "source": [
    "tweets_df1[[\"Datetime\", \"Text\"]]"
   ]
  }
 ],
 "metadata": {
  "kernelspec": {
   "display_name": "Python 3 (ipykernel)",
   "language": "python",
   "name": "python3"
  },
  "language_info": {
   "codemirror_mode": {
    "name": "ipython",
    "version": 3
   },
   "file_extension": ".py",
   "mimetype": "text/x-python",
   "name": "python",
   "nbconvert_exporter": "python",
   "pygments_lexer": "ipython3",
   "version": "3.8.5"
  }
 },
 "nbformat": 4,
 "nbformat_minor": 5
}
