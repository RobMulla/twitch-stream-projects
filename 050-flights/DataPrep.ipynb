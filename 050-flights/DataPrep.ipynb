{
 "cells": [
  {
   "cell_type": "markdown",
   "id": "9893ee3e-9bd2-4581-a31e-333aa6b17a04",
   "metadata": {},
   "source": [
    "# Data Prep"
   ]
  },
  {
   "cell_type": "code",
   "execution_count": 1,
   "id": "a4671b9c-a56d-4a9b-9486-50dca7fb72b4",
   "metadata": {},
   "outputs": [],
   "source": [
    "import shutil\n",
    "from glob import glob\n",
    "import pandas as pd\n",
    "\n",
    "pd.set_option(\"display.max_columns\", 500)\n",
    "%load_ext lab_black"
   ]
  },
  {
   "cell_type": "code",
   "execution_count": 6,
   "id": "e3e5429e-324f-48b2-9172-69ff27445375",
   "metadata": {},
   "outputs": [],
   "source": [
    "flights = glob(\"flights/csvs/*.csv\")\n",
    "\n",
    "for fn in flights:\n",
    "    fn_new = fn.replace(\n",
    "        \"On_Time_Marketing_Carrier_On_Time_Performance_(Beginning_January_2018)_\",\n",
    "        \"Flights_\",\n",
    "    )\n",
    "    shutil.move(fn, fn_new)"
   ]
  },
  {
   "cell_type": "code",
   "execution_count": 3,
   "id": "cab1e9a9-3762-428d-a6ad-d481233d9b7e",
   "metadata": {},
   "outputs": [],
   "source": [
    "CSV = (\n",
    "    \"https://raw.githubusercontent.com/beanumber/airlines/master/data-raw/airlines.csv\"\n",
    ")\n",
    "airlines = pd.read_csv(CSV)\n",
    "airline_map = airlines.set_index(\"Code\")[\"Description\"]\n",
    "airlines.to_csv(\"flights/csvs/Airlines.csv\", index=False)"
   ]
  },
  {
   "cell_type": "markdown",
   "id": "9ebe3c82-9614-42db-ba56-99f809e79963",
   "metadata": {},
   "source": [
    "# Pull in Year at a Time"
   ]
  },
  {
   "cell_type": "code",
   "execution_count": 4,
   "id": "93dabef3-4db8-4c20-a868-7387102ffbc7",
   "metadata": {},
   "outputs": [],
   "source": [
    "KEEP_COLS = [\n",
    "    \"FlightDate\",\n",
    "    \"Airline\",\n",
    "    \"Origin\",\n",
    "    \"Dest\",\n",
    "    \"Cancelled\",\n",
    "    \"Diverted\",\n",
    "    \"CRSDepTime\",\n",
    "    \"DepTime\",\n",
    "    \"DepDelayMinutes\",\n",
    "    \"DepDelay\",\n",
    "    \"ArrTime\",\n",
    "    \"ArrDelayMinutes\",\n",
    "    \"AirTime\",\n",
    "    \"CRSElapsedTime\",\n",
    "    \"ActualElapsedTime\",\n",
    "    \"Distance\",\n",
    "    \"Year\",\n",
    "    \"Quarter\",\n",
    "    \"Month\",\n",
    "    \"DayofMonth\",\n",
    "    \"DayOfWeek\",\n",
    "    \"Marketing_Airline_Network\",\n",
    "    \"Operated_or_Branded_Code_Share_Partners\",\n",
    "    \"DOT_ID_Marketing_Airline\",\n",
    "    \"IATA_Code_Marketing_Airline\",\n",
    "    \"Flight_Number_Marketing_Airline\",\n",
    "    \"Operating_Airline\",\n",
    "    \"DOT_ID_Operating_Airline\",\n",
    "    \"IATA_Code_Operating_Airline\",\n",
    "    \"Tail_Number\",\n",
    "    \"Flight_Number_Operating_Airline\",\n",
    "    \"OriginAirportID\",\n",
    "    \"OriginAirportSeqID\",\n",
    "    \"OriginCityMarketID\",\n",
    "    \"OriginCityName\",\n",
    "    \"OriginState\",\n",
    "    \"OriginStateFips\",\n",
    "    \"OriginStateName\",\n",
    "    \"OriginWac\",\n",
    "    \"DestAirportID\",\n",
    "    \"DestAirportSeqID\",\n",
    "    \"DestCityMarketID\",\n",
    "    \"DestCityName\",\n",
    "    \"DestState\",\n",
    "    \"DestStateFips\",\n",
    "    \"DestStateName\",\n",
    "    \"DestWac\",\n",
    "    \"DepDel15\",\n",
    "    \"DepartureDelayGroups\",\n",
    "    \"DepTimeBlk\",\n",
    "    \"TaxiOut\",\n",
    "    \"WheelsOff\",\n",
    "    \"WheelsOn\",\n",
    "    \"TaxiIn\",\n",
    "    \"CRSArrTime\",\n",
    "    \"ArrDelay\",\n",
    "    \"ArrDel15\",\n",
    "    \"ArrivalDelayGroups\",\n",
    "    \"ArrTimeBlk\",\n",
    "    # \"Flights\",\n",
    "    \"DistanceGroup\",\n",
    "    \"DivAirportLandings\",\n",
    "    # \"Duplicate\",\n",
    "]"
   ]
  },
  {
   "cell_type": "code",
   "execution_count": null,
   "id": "28e88eb5-8a2e-4f39-af21-6a591e985e45",
   "metadata": {},
   "outputs": [],
   "source": [
    "# for year in [2018, 2019, 2020, 2021, 2022]:\n",
    "#     csvs = glob(f\"flights/csvs/*_{year}_*.csv\")\n",
    "#     df = pd.concat([pd.read_csv(f, low_memory=False) for f in csvs])\n",
    "#     df = df.rename(columns={\"Operating_Airline \": \"Operating_Airline\"})\n",
    "\n",
    "#     df[\"FlightDate\"] = pd.to_datetime(df[\"FlightDate\"])\n",
    "#     df[\"Diverted\"] = df[\"Diverted\"].astype(\"bool\")\n",
    "#     df[\"Cancelled\"] = df[\"Cancelled\"].astype(\"bool\")\n",
    "#     df[\"Airline\"] = df[\"Operating_Airline\"].map(airline_map)\n",
    "#     df = df[KEEP_COLS].copy()\n",
    "\n",
    "#     df.to_csv(f\"flights/csvs/Combined_Flights_{year}.csv\", index=False)\n",
    "#     df.to_parquet(f\"flights/csvs/Combined_Flights_{year}.parquet\")    "
   ]
  },
  {
   "cell_type": "code",
   "execution_count": 9,
   "id": "01ae23c8-0305-48b7-b31b-99438b3fc8a6",
   "metadata": {},
   "outputs": [],
   "source": [
    "year = 2022\n",
    "csvs = glob(f\"flights/csvs/*_{year}_*.csv\")\n",
    "df = pd.concat([pd.read_csv(f, low_memory=False) for f in csvs])\n",
    "df = df.rename(columns={\"Operating_Airline \": \"Operating_Airline\"})\n",
    "\n",
    "df[\"FlightDate\"] = pd.to_datetime(df[\"FlightDate\"])\n",
    "df[\"Diverted\"] = df[\"Diverted\"].astype(\"bool\")\n",
    "df[\"Cancelled\"] = df[\"Cancelled\"].astype(\"bool\")\n",
    "df[\"Airline\"] = df[\"Operating_Airline\"].map(airline_map)\n",
    "df = df[KEEP_COLS].copy()\n",
    "\n",
    "df.to_csv(f\"flights/csvs/Combined_Flights_{year}.csv\", index=False)\n",
    "df.to_parquet(f\"flights/csvs/Combined_Flights_{year}.parquet\")"
   ]
  },
  {
   "cell_type": "code",
   "execution_count": null,
   "id": "067b4f89-dfad-4d6f-9a84-4f825ce1baac",
   "metadata": {},
   "outputs": [],
   "source": []
  }
 ],
 "metadata": {
  "kernelspec": {
   "display_name": "Python 3 (ipykernel)",
   "language": "python",
   "name": "python3"
  },
  "language_info": {
   "codemirror_mode": {
    "name": "ipython",
    "version": 3
   },
   "file_extension": ".py",
   "mimetype": "text/x-python",
   "name": "python",
   "nbconvert_exporter": "python",
   "pygments_lexer": "ipython3",
   "version": "3.8.5"
  }
 },
 "nbformat": 4,
 "nbformat_minor": 5
}
