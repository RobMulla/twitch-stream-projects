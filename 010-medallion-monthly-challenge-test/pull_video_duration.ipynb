{
 "cells": [
  {
   "cell_type": "markdown",
   "metadata": {},
   "source": [
    "# Pull Video Duration using Youtube API"
   ]
  },
  {
   "cell_type": "code",
   "execution_count": 42,
   "metadata": {},
   "outputs": [],
   "source": [
    "import pandas as pd\n",
    "from tqdm import tqdm\n",
    "from googleapiclient.discovery import build\n",
    "\n",
    "with open(\"/home/robmulla/Repos/data-science-youtube-stats/apikey/youtube.key\") as f:\n",
    "    youTubeApiKey = f.read()\n",
    "youtube = build(\"youtube\", \"v3\", developerKey=youTubeApiKey)"
   ]
  },
  {
   "cell_type": "code",
   "execution_count": 2,
   "metadata": {},
   "outputs": [],
   "source": [
    "df = pd.read_csv('youtube-trending-video-dataset/US_youtube_trending_data.csv')"
   ]
  },
  {
   "cell_type": "code",
   "execution_count": 43,
   "metadata": {},
   "outputs": [],
   "source": [
    "video_ids = df['video_id'].unique()"
   ]
  },
  {
   "cell_type": "code",
   "execution_count": 70,
   "metadata": {},
   "outputs": [
    {
     "name": "stderr",
     "output_type": "stream",
     "text": [
      "100%|██████████| 455/455 [02:06<00:00,  3.60it/s]\n"
     ]
    }
   ],
   "source": [
    "stats = []\n",
    "for i in tqdm(range(0, len(video_ids), 40), total=455):\n",
    "    res = (\n",
    "        (youtube)\n",
    "        .videos()\n",
    "        .list(id=\",\".join(video_ids[i : i + 40]),\n",
    "              part=\"snippet,statistics,contentDetails,status,topicDetails,recordingDetails,localizations\",\n",
    "             )\n",
    "        .execute()\n",
    "    )\n",
    "    stats += res[\"items\"]\n",
    "    # break\n",
    "stats_df = pd.json_normalize(stats)\n",
    "df_stats = df_column_uniquify(df)"
   ]
  },
  {
   "cell_type": "code",
   "execution_count": 73,
   "metadata": {},
   "outputs": [],
   "source": [
    "durations_df = pd.json_normalize(stats)[['id','contentDetails.duration']]"
   ]
  },
  {
   "cell_type": "code",
   "execution_count": 74,
   "metadata": {},
   "outputs": [
    {
     "data": {
      "text/html": [
       "<div>\n",
       "<style scoped>\n",
       "    .dataframe tbody tr th:only-of-type {\n",
       "        vertical-align: middle;\n",
       "    }\n",
       "\n",
       "    .dataframe tbody tr th {\n",
       "        vertical-align: top;\n",
       "    }\n",
       "\n",
       "    .dataframe thead th {\n",
       "        text-align: right;\n",
       "    }\n",
       "</style>\n",
       "<table border=\"1\" class=\"dataframe\">\n",
       "  <thead>\n",
       "    <tr style=\"text-align: right;\">\n",
       "      <th></th>\n",
       "      <th>id</th>\n",
       "      <th>contentDetails.duration</th>\n",
       "    </tr>\n",
       "  </thead>\n",
       "  <tbody>\n",
       "    <tr>\n",
       "      <th>0</th>\n",
       "      <td>z_LdKL0drkA</td>\n",
       "      <td>PT13M30S</td>\n",
       "    </tr>\n",
       "    <tr>\n",
       "      <th>1</th>\n",
       "      <td>1niAIYz6JZg</td>\n",
       "      <td>PT12M29S</td>\n",
       "    </tr>\n",
       "    <tr>\n",
       "      <th>2</th>\n",
       "      <td>jTMJK7wb0rM</td>\n",
       "      <td>PT1H3M18S</td>\n",
       "    </tr>\n",
       "    <tr>\n",
       "      <th>3</th>\n",
       "      <td>gHPubcpGkrk</td>\n",
       "      <td>PT9M40S</td>\n",
       "    </tr>\n",
       "    <tr>\n",
       "      <th>4</th>\n",
       "      <td>UUOGVgComrU</td>\n",
       "      <td>PT4M8S</td>\n",
       "    </tr>\n",
       "  </tbody>\n",
       "</table>\n",
       "</div>"
      ],
      "text/plain": [
       "            id contentDetails.duration\n",
       "0  z_LdKL0drkA                PT13M30S\n",
       "1  1niAIYz6JZg                PT12M29S\n",
       "2  jTMJK7wb0rM               PT1H3M18S\n",
       "3  gHPubcpGkrk                 PT9M40S\n",
       "4  UUOGVgComrU                  PT4M8S"
      ]
     },
     "execution_count": 74,
     "metadata": {},
     "output_type": "execute_result"
    }
   ],
   "source": [
    "durations_df.head()"
   ]
  },
  {
   "cell_type": "code",
   "execution_count": 75,
   "metadata": {},
   "outputs": [],
   "source": [
    "durations_df[\"duration\"] = durations_df[\"contentDetails.duration\"].apply(pd.Timedelta)\n",
    "durations_df[\"duration_seconds\"] = (\n",
    "    durations_df[\"duration\"].astype(\"timedelta64[s]\").fillna(0).astype(\"int\")\n",
    ")\n"
   ]
  },
  {
   "cell_type": "code",
   "execution_count": 76,
   "metadata": {},
   "outputs": [
    {
     "data": {
      "text/html": [
       "<div>\n",
       "<style scoped>\n",
       "    .dataframe tbody tr th:only-of-type {\n",
       "        vertical-align: middle;\n",
       "    }\n",
       "\n",
       "    .dataframe tbody tr th {\n",
       "        vertical-align: top;\n",
       "    }\n",
       "\n",
       "    .dataframe thead th {\n",
       "        text-align: right;\n",
       "    }\n",
       "</style>\n",
       "<table border=\"1\" class=\"dataframe\">\n",
       "  <thead>\n",
       "    <tr style=\"text-align: right;\">\n",
       "      <th></th>\n",
       "      <th>id</th>\n",
       "      <th>contentDetails.duration</th>\n",
       "      <th>duration</th>\n",
       "      <th>duration_seconds</th>\n",
       "    </tr>\n",
       "  </thead>\n",
       "  <tbody>\n",
       "    <tr>\n",
       "      <th>0</th>\n",
       "      <td>z_LdKL0drkA</td>\n",
       "      <td>PT13M30S</td>\n",
       "      <td>0 days 00:13:30</td>\n",
       "      <td>810</td>\n",
       "    </tr>\n",
       "    <tr>\n",
       "      <th>1</th>\n",
       "      <td>1niAIYz6JZg</td>\n",
       "      <td>PT12M29S</td>\n",
       "      <td>0 days 00:12:29</td>\n",
       "      <td>749</td>\n",
       "    </tr>\n",
       "    <tr>\n",
       "      <th>2</th>\n",
       "      <td>jTMJK7wb0rM</td>\n",
       "      <td>PT1H3M18S</td>\n",
       "      <td>0 days 01:03:18</td>\n",
       "      <td>3798</td>\n",
       "    </tr>\n",
       "    <tr>\n",
       "      <th>3</th>\n",
       "      <td>gHPubcpGkrk</td>\n",
       "      <td>PT9M40S</td>\n",
       "      <td>0 days 00:09:40</td>\n",
       "      <td>580</td>\n",
       "    </tr>\n",
       "    <tr>\n",
       "      <th>4</th>\n",
       "      <td>UUOGVgComrU</td>\n",
       "      <td>PT4M8S</td>\n",
       "      <td>0 days 00:04:08</td>\n",
       "      <td>248</td>\n",
       "    </tr>\n",
       "  </tbody>\n",
       "</table>\n",
       "</div>"
      ],
      "text/plain": [
       "            id contentDetails.duration        duration  duration_seconds\n",
       "0  z_LdKL0drkA                PT13M30S 0 days 00:13:30               810\n",
       "1  1niAIYz6JZg                PT12M29S 0 days 00:12:29               749\n",
       "2  jTMJK7wb0rM               PT1H3M18S 0 days 01:03:18              3798\n",
       "3  gHPubcpGkrk                 PT9M40S 0 days 00:09:40               580\n",
       "4  UUOGVgComrU                  PT4M8S 0 days 00:04:08               248"
      ]
     },
     "execution_count": 76,
     "metadata": {},
     "output_type": "execute_result"
    }
   ],
   "source": [
    "durations_df.head()"
   ]
  },
  {
   "cell_type": "code",
   "execution_count": 77,
   "metadata": {},
   "outputs": [
    {
     "data": {
      "text/html": [
       "<div>\n",
       "<style scoped>\n",
       "    .dataframe tbody tr th:only-of-type {\n",
       "        vertical-align: middle;\n",
       "    }\n",
       "\n",
       "    .dataframe tbody tr th {\n",
       "        vertical-align: top;\n",
       "    }\n",
       "\n",
       "    .dataframe thead th {\n",
       "        text-align: right;\n",
       "    }\n",
       "</style>\n",
       "<table border=\"1\" class=\"dataframe\">\n",
       "  <thead>\n",
       "    <tr style=\"text-align: right;\">\n",
       "      <th></th>\n",
       "      <th>id</th>\n",
       "      <th>contentDetails.duration</th>\n",
       "      <th>duration</th>\n",
       "      <th>duration_seconds</th>\n",
       "    </tr>\n",
       "  </thead>\n",
       "  <tbody>\n",
       "    <tr>\n",
       "      <th>0</th>\n",
       "      <td>z_LdKL0drkA</td>\n",
       "      <td>PT13M30S</td>\n",
       "      <td>0 days 00:13:30</td>\n",
       "      <td>810</td>\n",
       "    </tr>\n",
       "    <tr>\n",
       "      <th>1</th>\n",
       "      <td>1niAIYz6JZg</td>\n",
       "      <td>PT12M29S</td>\n",
       "      <td>0 days 00:12:29</td>\n",
       "      <td>749</td>\n",
       "    </tr>\n",
       "    <tr>\n",
       "      <th>2</th>\n",
       "      <td>jTMJK7wb0rM</td>\n",
       "      <td>PT1H3M18S</td>\n",
       "      <td>0 days 01:03:18</td>\n",
       "      <td>3798</td>\n",
       "    </tr>\n",
       "    <tr>\n",
       "      <th>3</th>\n",
       "      <td>gHPubcpGkrk</td>\n",
       "      <td>PT9M40S</td>\n",
       "      <td>0 days 00:09:40</td>\n",
       "      <td>580</td>\n",
       "    </tr>\n",
       "    <tr>\n",
       "      <th>4</th>\n",
       "      <td>UUOGVgComrU</td>\n",
       "      <td>PT4M8S</td>\n",
       "      <td>0 days 00:04:08</td>\n",
       "      <td>248</td>\n",
       "    </tr>\n",
       "  </tbody>\n",
       "</table>\n",
       "</div>"
      ],
      "text/plain": [
       "            id contentDetails.duration        duration  duration_seconds\n",
       "0  z_LdKL0drkA                PT13M30S 0 days 00:13:30               810\n",
       "1  1niAIYz6JZg                PT12M29S 0 days 00:12:29               749\n",
       "2  jTMJK7wb0rM               PT1H3M18S 0 days 01:03:18              3798\n",
       "3  gHPubcpGkrk                 PT9M40S 0 days 00:09:40               580\n",
       "4  UUOGVgComrU                  PT4M8S 0 days 00:04:08               248"
      ]
     },
     "execution_count": 77,
     "metadata": {},
     "output_type": "execute_result"
    }
   ],
   "source": [
    "durations_df.head()"
   ]
  },
  {
   "cell_type": "code",
   "execution_count": 82,
   "metadata": {},
   "outputs": [],
   "source": [
    "durations_df.to_csv('durations.csv', index=False)"
   ]
  }
 ],
 "metadata": {
  "kernelspec": {
   "display_name": "Python 3",
   "language": "python",
   "name": "python3"
  },
  "language_info": {
   "codemirror_mode": {
    "name": "ipython",
    "version": 3
   },
   "file_extension": ".py",
   "mimetype": "text/x-python",
   "name": "python",
   "nbconvert_exporter": "python",
   "pygments_lexer": "ipython3",
   "version": "3.7.7"
  }
 },
 "nbformat": 4,
 "nbformat_minor": 4
}
