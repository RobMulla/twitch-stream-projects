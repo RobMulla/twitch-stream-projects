{
 "cells": [
  {
   "cell_type": "markdown",
   "metadata": {},
   "source": [
    "# Setup the Final Data for the Official Launch\n",
    "## Kaggle Pog Champs Series E01"
   ]
  },
  {
   "cell_type": "code",
   "execution_count": 9,
   "metadata": {},
   "outputs": [
    {
     "name": "stdout",
     "output_type": "stream",
     "text": [
      "The lab_black extension is already loaded. To reload it, use:\n",
      "  %reload_ext lab_black\n"
     ]
    }
   ],
   "source": [
    "import pandas as pd\n",
    "import numpy as np\n",
    "import matplotlib.pylab as plt\n",
    "import os\n",
    "\n",
    "%matplotlib inline\n",
    "%load_ext lab_black"
   ]
  },
  {
   "cell_type": "code",
   "execution_count": 10,
   "metadata": {},
   "outputs": [],
   "source": [
    "df = pd.read_csv(\"youtube-trending-video-dataset/US_youtube_trending_data.csv\")\n",
    "df[\"trending_date\"] = pd.to_datetime(df[\"trending_date\"]).dt.date\n",
    "df[\"publishedAt\"] = pd.to_datetime(df[\"publishedAt\"])\n",
    "df[\"id\"] = df[\"video_id\"] + \"_\" + df[\"trending_date\"].astype(\"str\")\n",
    "df = df.drop_duplicates(subset=[\"id\"]).reset_index(drop=True).copy()"
   ]
  },
  {
   "cell_type": "markdown",
   "metadata": {},
   "source": [
    "## Remove Zero View Count Videos"
   ]
  },
  {
   "cell_type": "code",
   "execution_count": 11,
   "metadata": {},
   "outputs": [],
   "source": [
    "df = df.loc[df[\"view_count\"] != 0].reset_index(drop=True).copy()"
   ]
  },
  {
   "cell_type": "markdown",
   "metadata": {},
   "source": [
    "## Add the Video Durations"
   ]
  },
  {
   "cell_type": "code",
   "execution_count": 13,
   "metadata": {},
   "outputs": [
    {
     "name": "stdout",
     "output_type": "stream",
     "text": [
      "(98075, 17) (17791, 4)\n"
     ]
    }
   ],
   "source": [
    "dur = pd.read_csv(\"durations.csv\")\n",
    "dur = dur.rename(columns={\"id\": \"video_id\"})\n",
    "print(df.shape, dur.shape)\n",
    "\n",
    "dur = dur.drop_duplicates()\n",
    "df = df.merge(\n",
    "    dur[[\"video_id\", \"duration_seconds\"]], on=\"video_id\", how=\"left\", validate=\"m:1\",\n",
    ")"
   ]
  },
  {
   "cell_type": "markdown",
   "metadata": {},
   "source": [
    "# Add `HasThumbnail` Data"
   ]
  },
  {
   "cell_type": "code",
   "execution_count": 20,
   "metadata": {},
   "outputs": [
    {
     "data": {
      "text/plain": [
       "True     86010\n",
       "False    12065\n",
       "Name: has_thumbnail, dtype: int64"
      ]
     },
     "execution_count": 20,
     "metadata": {},
     "output_type": "execute_result"
    }
   ],
   "source": [
    "videos_with_tn = [c.strip(\".jpg\") for c in os.listdir(\"out/\")]\n",
    "df[\"has_thumbnail\"] = df[\"video_id\"].isin(videos_with_tn)\n",
    "df[\"has_thumbnail\"].value_counts()"
   ]
  },
  {
   "cell_type": "markdown",
   "metadata": {},
   "source": [
    "# Make Target Column"
   ]
  },
  {
   "cell_type": "code",
   "execution_count": 22,
   "metadata": {},
   "outputs": [],
   "source": [
    "# Likes to view count is the target\n",
    "df[\"target\"] = df[\"likes\"] / df[\"view_count\"]"
   ]
  },
  {
   "cell_type": "markdown",
   "metadata": {},
   "source": [
    "# Split Train/Test on Cutoff Date"
   ]
  },
  {
   "cell_type": "code",
   "execution_count": 27,
   "metadata": {},
   "outputs": [],
   "source": [
    "cutoff_date = \"2021-12-01\"\n",
    "df[\"isTest\"] = df[\"trending_date\"] >= pd.to_datetime(cutoff_date).date()\n",
    "\n",
    "train_df = df.query(\"isTest == False\").copy()\n",
    "test_df = df.query(\"isTest == True\").copy()\n",
    "\n",
    "train_df = train_df.drop([\"isTest\"], axis=1).reset_index(drop=True).copy()\n",
    "solution_df = test_df.drop([\"isTest\"], axis=1).reset_index(drop=True).copy()\n",
    "test_df = (\n",
    "    test_df.drop([\"view_count\", \"likes\", \"dislikes\", \"comment_count\", \"target\"], axis=1)\n",
    "    .reset_index(drop=True)\n",
    "    .copy()\n",
    ")"
   ]
  },
  {
   "cell_type": "markdown",
   "metadata": {},
   "source": [
    "# Save of Train and Test Data"
   ]
  },
  {
   "cell_type": "code",
   "execution_count": 28,
   "metadata": {},
   "outputs": [],
   "source": [
    "train_df.to_parquet(\"train.parquet\")\n",
    "test_df.to_parquet(\"test.parquet\")"
   ]
  },
  {
   "cell_type": "markdown",
   "metadata": {},
   "source": [
    "# Save off The Ground Truth Solution"
   ]
  },
  {
   "cell_type": "code",
   "execution_count": 30,
   "metadata": {},
   "outputs": [],
   "source": [
    "solution_df[[\"id\", \"target\"]].to_csv(\"solution.csv\", index=False)\n",
    "train_df[[\"id\", \"target\"]].head().to_csv(\"sample_submission.csv\", index=False)"
   ]
  },
  {
   "cell_type": "markdown",
   "metadata": {},
   "source": [
    "# Average Solution"
   ]
  },
  {
   "cell_type": "code",
   "execution_count": 36,
   "metadata": {},
   "outputs": [],
   "source": [
    "average_solution = solution_df[[\"id\", \"target\"]].copy()\n",
    "average_solution[\"target\"] = int(np.round(train_df[\"target\"].mean()))\n",
    "average_solution.to_csv(\"avg_solution.csv\", index=False)"
   ]
  },
  {
   "cell_type": "code",
   "execution_count": null,
   "metadata": {},
   "outputs": [],
   "source": []
  }
 ],
 "metadata": {
  "kernelspec": {
   "display_name": "Python 3 (ipykernel)",
   "language": "python",
   "name": "python3"
  },
  "language_info": {
   "codemirror_mode": {
    "name": "ipython",
    "version": 3
   },
   "file_extension": ".py",
   "mimetype": "text/x-python",
   "name": "python",
   "nbconvert_exporter": "python",
   "pygments_lexer": "ipython3",
   "version": "3.8.5"
  }
 },
 "nbformat": 4,
 "nbformat_minor": 4
}
