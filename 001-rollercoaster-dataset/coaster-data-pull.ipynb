{
 "cells": [
  {
   "cell_type": "markdown",
   "metadata": {},
   "source": [
    "# Roller Coaster Data Pull\n",
    "- Twitch Stream Project"
   ]
  },
  {
   "cell_type": "code",
   "execution_count": 1,
   "metadata": {},
   "outputs": [],
   "source": [
    "%load_ext autoreload\n",
    "%autoreload 2"
   ]
  },
  {
   "cell_type": "code",
   "execution_count": 2,
   "metadata": {},
   "outputs": [],
   "source": [
    "import pandas as pd\n",
    "import wikipediaapi\n",
    "from tqdm import tqdm\n",
    "# Our code import\n",
    "from coaster import parse_coaster_infobox"
   ]
  },
  {
   "cell_type": "markdown",
   "metadata": {},
   "source": [
    "# Pull Data for Operating Coasters"
   ]
  },
  {
   "cell_type": "code",
   "execution_count": 4,
   "metadata": {},
   "outputs": [
    {
     "name": "stderr",
     "output_type": "stream",
     "text": [
      "  4%|▍         | 29/695 [00:04<01:46,  6.28it/s]\n"
     ]
    }
   ],
   "source": [
    "wiki = wikipediaapi.Wikipedia('en')\n",
    "cat = wiki.page('Category:Operating roller coasters')\n",
    "len(cat.categorymembers)\n",
    "DEBUG = True\n",
    "ds = []\n",
    "i = 0\n",
    "for coaster, page in tqdm(cat.categorymembers.items()):\n",
    "    url = page.fullurl\n",
    "    ds.append(parse_coaster_infobox(url, filter_cols=False))\n",
    "    i += 1\n",
    "    if i == 30 and DEBUG:\n",
    "        break\n",
    "if not DEBUG:\n",
    "    coaster_db = pd.concat(ds)"
   ]
  },
  {
   "cell_type": "code",
   "execution_count": 250,
   "metadata": {},
   "outputs": [],
   "source": [
    "coaster_db.to_csv('dbv1.csv')"
   ]
  },
  {
   "cell_type": "markdown",
   "metadata": {},
   "source": [
    "# Data for All Coasters"
   ]
  },
  {
   "cell_type": "code",
   "execution_count": 3,
   "metadata": {},
   "outputs": [],
   "source": [
    "url = 'https://en.wikipedia.org/wiki/Euclid_Beach_Park'\n",
    "df = pd.read_html(url, attrs= {'class': 'infobox'})[0]"
   ]
  },
  {
   "cell_type": "code",
   "execution_count": 55,
   "metadata": {},
   "outputs": [
    {
     "name": "stderr",
     "output_type": "stream",
     "text": [
      "100%|██████████| 101/101 [03:13<00:00,  1.92s/it]\n"
     ]
    }
   ],
   "source": [
    "DEBUG = False\n",
    "wiki = wikipediaapi.Wikipedia('en')\n",
    "cat = wiki.page('Category:Roller_coaster_introductions_by_year')\n",
    "i = 0\n",
    "ds = []\n",
    "for year in tqdm(cat.categorymembers):\n",
    "    cat_year = wiki.page(year)\n",
    "    cat_year.categorymembers\n",
    "    for coaster, page in cat_year.categorymembers.items():\n",
    "        url = page.fullurl\n",
    "        ds.append(parse_coaster_infobox(url, coaster, filter_cols=True))\n",
    "        i += 1\n",
    "    if i == 20 and DEBUG:\n",
    "        break\n",
    "if not DEBUG:\n",
    "    coaster_db = pd.concat(ds)"
   ]
  },
  {
   "cell_type": "code",
   "execution_count": 56,
   "metadata": {},
   "outputs": [],
   "source": [
    "# (~coaster_db.isna()).sum().to_frame().rename(columns={0:'count'}) \\\n",
    "#     .query('count > 20') \\\n",
    "#     ['count'].sort_values(ascending=True) \\\n",
    "#     .plot(kind='barh',\n",
    "#           figsize=(15, 20)\n",
    "#          )"
   ]
  },
  {
   "cell_type": "code",
   "execution_count": 60,
   "metadata": {},
   "outputs": [],
   "source": [
    "MAIN_KEYS = ['coaster_name', 'Length', 'Speed', 'Location', 'Coordinates',\n",
    "                     'Status', 'Opening date',\n",
    "                     'General statistics', 'Type', 'Manufacturer',\n",
    "                     'Height restriction',\n",
    "                     'Model', 'Height', 'Inversions', 'Lift/launch system',\n",
    "                     'Cost', 'Trains',\n",
    "                     'Park section', 'Duration', 'Capacity',\n",
    "                     'G-force', 'Designer',\n",
    "                     'Max vertical angle', 'Drop', 'Soft opening date',\n",
    "                     'Fast Lane available', 'Replaced', 'Track layout',\n",
    "                     'Fastrack available','Soft opening date',\n",
    "                     'Closing date', 'Opened', 'Replaced by', 'General Statistics',\n",
    "                     'Website', 'Flash Pass Available', 'Must transfer from wheelchair',\n",
    "                     'Theme', 'Single rider line available',\n",
    "                     'Restraint Style',\n",
    "                      'Flash Pass available', 'Acceleration',\n",
    "                      'Restraints', 'Name']"
   ]
  },
  {
   "cell_type": "code",
   "execution_count": 64,
   "metadata": {},
   "outputs": [
    {
     "data": {
      "text/html": [
       "<div>\n",
       "<style scoped>\n",
       "    .dataframe tbody tr th:only-of-type {\n",
       "        vertical-align: middle;\n",
       "    }\n",
       "\n",
       "    .dataframe tbody tr th {\n",
       "        vertical-align: top;\n",
       "    }\n",
       "\n",
       "    .dataframe thead th {\n",
       "        text-align: right;\n",
       "    }\n",
       "</style>\n",
       "<table border=\"1\" class=\"dataframe\">\n",
       "  <thead>\n",
       "    <tr style=\"text-align: right;\">\n",
       "      <th></th>\n",
       "      <th>coaster_name</th>\n",
       "    </tr>\n",
       "  </thead>\n",
       "  <tbody>\n",
       "    <tr>\n",
       "      <th>Switchback Railway</th>\n",
       "      <td>Switchback Railway</td>\n",
       "    </tr>\n",
       "    <tr>\n",
       "      <th>Flip Flap Railway</th>\n",
       "      <td>Flip Flap Railway</td>\n",
       "    </tr>\n",
       "    <tr>\n",
       "      <th>0</th>\n",
       "      <td>Switchback Railway (Euclid Beach Park)</td>\n",
       "    </tr>\n",
       "    <tr>\n",
       "      <th>Loop the Loop</th>\n",
       "      <td>Loop the Loop (Coney Island)</td>\n",
       "    </tr>\n",
       "    <tr>\n",
       "      <th>Loop the Loop</th>\n",
       "      <td>Loop the Loop (Young's Pier)</td>\n",
       "    </tr>\n",
       "    <tr>\n",
       "      <th>...</th>\n",
       "      <td>...</td>\n",
       "    </tr>\n",
       "    <tr>\n",
       "      <th>American Dreier Looping</th>\n",
       "      <td>American Dreier Looping</td>\n",
       "    </tr>\n",
       "    <tr>\n",
       "      <th>(Pantheon, Busch Gardens Williamsburg)</th>\n",
       "      <td>Pantheon (roller coaster)</td>\n",
       "    </tr>\n",
       "    <tr>\n",
       "      <th>Tron Lightcycle Power RunChinese: 创极速光轮</th>\n",
       "      <td>Tron Lightcycle Power Run</td>\n",
       "    </tr>\n",
       "    <tr>\n",
       "      <th>Tumbili</th>\n",
       "      <td>Tumbili</td>\n",
       "    </tr>\n",
       "    <tr>\n",
       "      <th>(Wonder Woman Flight of Courage, Six Flags Magic Mountain)</th>\n",
       "      <td>Wonder Woman Flight of Courage</td>\n",
       "    </tr>\n",
       "  </tbody>\n",
       "</table>\n",
       "<p>1088 rows × 1 columns</p>\n",
       "</div>"
      ],
      "text/plain": [
       "                                                                              coaster_name\n",
       "Switchback Railway                                                      Switchback Railway\n",
       "Flip Flap Railway                                                        Flip Flap Railway\n",
       "0                                                   Switchback Railway (Euclid Beach Park)\n",
       "Loop the Loop                                                 Loop the Loop (Coney Island)\n",
       "Loop the Loop                                                 Loop the Loop (Young's Pier)\n",
       "...                                                                                    ...\n",
       "American Dreier Looping                                            American Dreier Looping\n",
       "(Pantheon, Busch Gardens Williamsburg)                           Pantheon (roller coaster)\n",
       "Tron Lightcycle Power RunChinese: 创极速光轮                          Tron Lightcycle Power Run\n",
       "Tumbili                                                                            Tumbili\n",
       "(Wonder Woman Flight of Courage, Six Flags Magi...          Wonder Woman Flight of Courage\n",
       "\n",
       "[1088 rows x 1 columns]"
      ]
     },
     "execution_count": 64,
     "metadata": {},
     "output_type": "execute_result"
    }
   ],
   "source": [
    "coaster_db[['coaster_name']]"
   ]
  },
  {
   "cell_type": "code",
   "execution_count": 67,
   "metadata": {},
   "outputs": [],
   "source": [
    "coaster_db[MAIN_KEYS].to_csv('coaster_db_v1.csv')"
   ]
  }
 ],
 "metadata": {
  "kernelspec": {
   "display_name": "Python 3.7.4 64-bit ('kaggle': conda)",
   "language": "python",
   "name": "python37464bitkaggleconda18034ea463cd4bab8d22e3f6fd554cbd"
  },
  "language_info": {
   "codemirror_mode": {
    "name": "ipython",
    "version": 3
   },
   "file_extension": ".py",
   "mimetype": "text/x-python",
   "name": "python",
   "nbconvert_exporter": "python",
   "pygments_lexer": "ipython3",
   "version": "3.7.7"
  }
 },
 "nbformat": 4,
 "nbformat_minor": 4
}
