{
 "cells": [
  {
   "cell_type": "markdown",
   "metadata": {},
   "source": [
    "# Roller Coaster Data Pull\n",
    "- Twitch Stream Project"
   ]
  },
  {
   "cell_type": "code",
   "execution_count": null,
   "metadata": {},
   "outputs": [],
   "source": [
    "%load_ext autoreload\n",
    "%autoreload 2"
   ]
  },
  {
   "cell_type": "code",
   "execution_count": null,
   "metadata": {},
   "outputs": [],
   "source": [
    "import pandas as pd\n",
    "import wikipediaapi\n",
    "from tqdm import tqdm\n",
    "# Our code import\n",
    "from coaster import parse_coaster_infobox"
   ]
  },
  {
   "cell_type": "markdown",
   "metadata": {},
   "source": [
    "# Pull Data for Operating Coasters"
   ]
  },
  {
   "cell_type": "code",
   "execution_count": 6,
   "metadata": {},
   "outputs": [],
   "source": [
    "# wiki = wikipediaapi.Wikipedia('en')\n",
    "# cat = wiki.page('Category:Operating roller coasters')\n",
    "# len(cat.categorymembers)\n",
    "# DEBUG = True\n",
    "# ds = []\n",
    "# i = 0\n",
    "# for coaster, page in tqdm(cat.categorymembers.items()):\n",
    "#     url = page.fullurl\n",
    "#     ds.append(parse_coaster_infobox(url, filter_cols=False))\n",
    "#     i += 1\n",
    "#     if i == 30 and DEBUG:\n",
    "#         break\n",
    "# if not DEBUG:\n",
    "#     coaster_db = pd.concat(ds)"
   ]
  },
  {
   "cell_type": "code",
   "execution_count": 8,
   "metadata": {},
   "outputs": [],
   "source": [
    "# coaster_db.to_csv('dbv1.csv')"
   ]
  },
  {
   "cell_type": "markdown",
   "metadata": {},
   "source": [
    "# Data for All Coasters"
   ]
  },
  {
   "cell_type": "code",
   "execution_count": 16,
   "metadata": {},
   "outputs": [
    {
     "name": "stderr",
     "output_type": "stream",
     "text": [
      "100%|██████████| 101/101 [03:44<00:00,  2.22s/it]\n"
     ]
    }
   ],
   "source": [
    "DEBUG = False\n",
    "wiki = wikipediaapi.Wikipedia('en')\n",
    "cat = wiki.page('Category:Roller_coaster_introductions_by_year')\n",
    "i = 0\n",
    "ds = []\n",
    "for year in tqdm(cat.categorymembers):\n",
    "    cat_year = wiki.page(year)\n",
    "    cat_year.categorymembers\n",
    "    for coaster, page in cat_year.categorymembers.items():\n",
    "        url = page.fullurl\n",
    "        parsed_df = parse_coaster_infobox(url, coaster, filter_cols=True)\n",
    "        parsed_df['year_introduced'] = int(year[-4:])\n",
    "        ds.append(parsed_df)\n",
    "        i += 1\n",
    "    if i == 20 and DEBUG:\n",
    "        break\n",
    "if not DEBUG:\n",
    "    coaster_db = pd.concat(ds)"
   ]
  },
  {
   "cell_type": "code",
   "execution_count": 56,
   "metadata": {},
   "outputs": [],
   "source": [
    "# (~coaster_db.isna()).sum().to_frame().rename(columns={0:'count'}) \\\n",
    "#     .query('count > 20') \\\n",
    "#     ['count'].sort_values(ascending=True) \\\n",
    "#     .plot(kind='barh',\n",
    "#           figsize=(15, 20)\n",
    "#          )"
   ]
  },
  {
   "cell_type": "code",
   "execution_count": 26,
   "metadata": {},
   "outputs": [],
   "source": [
    "MAIN_KEYS = ['coaster_name', 'Length', 'Speed', 'Location', 'Coordinates',\n",
    "                     'Status', 'Opening date',\n",
    "                     'General statistics', 'Type', 'Manufacturer',\n",
    "                     'Height restriction',\n",
    "                     'Model', 'Height', 'Inversions', 'Lift/launch system',\n",
    "                     'Cost', 'Trains',\n",
    "                     'Park section', 'Duration', 'Capacity',\n",
    "                     'G-force', 'Designer',\n",
    "                     'Max vertical angle', 'Drop', 'Soft opening date',\n",
    "                     'Fast Lane available', 'Replaced', 'Track layout',\n",
    "                     'Fastrack available','Soft opening date',\n",
    "                     'Closing date', 'Opened', 'Replaced by', 'General Statistics',\n",
    "                     'Website', 'Flash Pass Available', 'Must transfer from wheelchair',\n",
    "                     'Theme', 'Single rider line available',\n",
    "                     'Restraint Style',\n",
    "                      'Flash Pass available', 'Acceleration',\n",
    "                      'Restraints', 'Name','year_introduced']"
   ]
  },
  {
   "cell_type": "code",
   "execution_count": 28,
   "metadata": {},
   "outputs": [],
   "source": [
    "coaster_db[MAIN_KEYS].to_csv('coaster_db_v2.csv')"
   ]
  }
 ],
 "metadata": {
  "kernelspec": {
   "display_name": "Python 3.7.4 64-bit ('kaggle': conda)",
   "language": "python",
   "name": "python37464bitkaggleconda18034ea463cd4bab8d22e3f6fd554cbd"
  },
  "language_info": {
   "codemirror_mode": {
    "name": "ipython",
    "version": 3
   },
   "file_extension": ".py",
   "mimetype": "text/x-python",
   "name": "python",
   "nbconvert_exporter": "python",
   "pygments_lexer": "ipython3",
   "version": "3.7.7"
  }
 },
 "nbformat": 4,
 "nbformat_minor": 4
}
