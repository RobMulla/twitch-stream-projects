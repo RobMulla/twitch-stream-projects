{
 "cells": [
  {
   "cell_type": "markdown",
   "id": "48db57ec",
   "metadata": {
    "_cell_guid": "b1076dfc-b9ad-4769-8c92-a6c4dae69d19",
    "_uuid": "8f2839f25d086af736a60e9eeb907d3b93b6e0e5",
    "papermill": {
     "duration": 0.013111,
     "end_time": "2021-11-02T03:20:22.093579",
     "exception": false,
     "start_time": "2021-11-02T03:20:22.080468",
     "status": "completed"
    },
    "tags": []
   },
   "source": [
    "# Building a Roller Coaster Dataset from Wikipedia\n",
    "\n",
    "![test](https://external-content.duckduckgo.com/iu/?u=http%3A%2F%2Fwww.travelandleisure.com%2Fsites%2Fdefault%2Ffiles%2Fstyles%2F1600x1000%2Fpublic%2F1475074126%2Frollercoaster-KIDNEY0916.jpg%3Fitok%3DbpPex-qD&f=1&nofb=1)\n",
    "\n",
    "In this notebook I'll attempt to gather data about roller coasters!\n",
    "\n",
    "This code was created during a live stream on twitch. Check out my channel here: https://www.twitch.tv/medallionstallion_"
   ]
  },
  {
   "cell_type": "code",
   "execution_count": 1,
   "id": "3e5eb33e",
   "metadata": {
    "papermill": {
     "duration": 12.522319,
     "end_time": "2021-11-02T03:20:34.628206",
     "exception": false,
     "start_time": "2021-11-02T03:20:22.105887",
     "status": "completed"
    },
    "tags": []
   },
   "outputs": [],
   "source": [
    "!pip install Wikipedia-API > /dev/null"
   ]
  },
  {
   "cell_type": "code",
   "execution_count": 2,
   "id": "e718c143",
   "metadata": {
    "papermill": {
     "duration": 0.098677,
     "end_time": "2021-11-02T03:20:34.742088",
     "exception": false,
     "start_time": "2021-11-02T03:20:34.643411",
     "status": "completed"
    },
    "tags": []
   },
   "outputs": [],
   "source": [
    "import pandas as pd\n",
    "import numpy as np\n",
    "import wikipediaapi\n",
    "from tqdm.notebook import tqdm\n",
    "\n",
    "pd.set_option('max_columns', 500)"
   ]
  },
  {
   "cell_type": "markdown",
   "id": "19940a2d",
   "metadata": {
    "execution": {
     "iopub.execute_input": "2021-11-02T01:10:12.971099Z",
     "iopub.status.busy": "2021-11-02T01:10:12.970769Z",
     "iopub.status.idle": "2021-11-02T01:10:12.975834Z",
     "shell.execute_reply": "2021-11-02T01:10:12.974480Z",
     "shell.execute_reply.started": "2021-11-02T01:10:12.971060Z"
    },
    "papermill": {
     "duration": 0.012905,
     "end_time": "2021-11-02T03:20:34.767510",
     "exception": false,
     "start_time": "2021-11-02T03:20:34.754605",
     "status": "completed"
    },
    "tags": []
   },
   "source": [
    "# Gathering from Wikipedia\n",
    "- Category:Operating roller coasters\n",
    "\n",
    "What are we going to do here?\n",
    "1. Get a list of all the roller coasters from the category.\n",
    "2. Iterate over each and load the page using the wiki api\n",
    "3. Pull key statistics and gather into a dataset\n",
    "Features:\n",
    "    - Location\n",
    "    - Coords\n",
    "    - Height\n",
    "    - Construction (Wood / Steel)\n",
    "    - Dates\n",
    "        - Opening date\n",
    "        - Closing date\n",
    "    - Cost\n",
    "    - Speed"
   ]
  },
  {
   "cell_type": "markdown",
   "id": "b831d5c0",
   "metadata": {
    "papermill": {
     "duration": 0.012916,
     "end_time": "2021-11-02T03:20:34.793290",
     "exception": false,
     "start_time": "2021-11-02T03:20:34.780374",
     "status": "completed"
    },
    "tags": []
   },
   "source": [
    "## We have 692 Operating Coasters"
   ]
  },
  {
   "cell_type": "code",
   "execution_count": 4,
   "id": "3e1eef6b",
   "metadata": {
    "papermill": {
     "duration": 378.862681,
     "end_time": "2021-11-02T03:26:54.230477",
     "exception": true,
     "start_time": "2021-11-02T03:20:35.367796",
     "status": "failed"
    },
    "tags": []
   },
   "outputs": [
    {
     "data": {
      "application/vnd.jupyter.widget-view+json": {
       "model_id": "4e3dba566883432f96ce4a1210cca6b9",
       "version_major": 2,
       "version_minor": 0
      },
      "text/plain": [
       "HBox(children=(HTML(value=''), FloatProgress(value=0.0, max=695.0), HTML(value='')))"
      ]
     },
     "metadata": {},
     "output_type": "display_data"
    },
    {
     "name": "stdout",
     "output_type": "stream",
     "text": [
      "\n"
     ]
    },
    {
     "ename": "NameError",
     "evalue": "name 'parse_coaster_infobox' is not defined",
     "output_type": "error",
     "traceback": [
      "\u001b[0;31m---------------------------------------------------------------------------\u001b[0m",
      "\u001b[0;31mNameError\u001b[0m                                 Traceback (most recent call last)",
      "\u001b[0;32m<ipython-input-4-cb5439779119>\u001b[0m in \u001b[0;36m<module>\u001b[0;34m\u001b[0m\n\u001b[1;32m      6\u001b[0m \u001b[0;32mfor\u001b[0m \u001b[0mcoaster\u001b[0m\u001b[0;34m,\u001b[0m \u001b[0mpage\u001b[0m \u001b[0;32min\u001b[0m \u001b[0mtqdm\u001b[0m\u001b[0;34m(\u001b[0m\u001b[0mcat\u001b[0m\u001b[0;34m.\u001b[0m\u001b[0mcategorymembers\u001b[0m\u001b[0;34m.\u001b[0m\u001b[0mitems\u001b[0m\u001b[0;34m(\u001b[0m\u001b[0;34m)\u001b[0m\u001b[0;34m)\u001b[0m\u001b[0;34m:\u001b[0m\u001b[0;34m\u001b[0m\u001b[0;34m\u001b[0m\u001b[0m\n\u001b[1;32m      7\u001b[0m     \u001b[0murl\u001b[0m \u001b[0;34m=\u001b[0m \u001b[0mpage\u001b[0m\u001b[0;34m.\u001b[0m\u001b[0mfullurl\u001b[0m\u001b[0;34m\u001b[0m\u001b[0;34m\u001b[0m\u001b[0m\n\u001b[0;32m----> 8\u001b[0;31m     \u001b[0mds\u001b[0m\u001b[0;34m.\u001b[0m\u001b[0mappend\u001b[0m\u001b[0;34m(\u001b[0m\u001b[0mparse_coaster_infobox\u001b[0m\u001b[0;34m(\u001b[0m\u001b[0murl\u001b[0m\u001b[0;34m,\u001b[0m \u001b[0mfilter_cols\u001b[0m\u001b[0;34m=\u001b[0m\u001b[0;32mTrue\u001b[0m\u001b[0;34m)\u001b[0m\u001b[0;34m)\u001b[0m\u001b[0;34m\u001b[0m\u001b[0;34m\u001b[0m\u001b[0m\n\u001b[0m\u001b[1;32m      9\u001b[0m \u001b[0mcoaster_db\u001b[0m \u001b[0;34m=\u001b[0m \u001b[0mpd\u001b[0m\u001b[0;34m.\u001b[0m\u001b[0mconcat\u001b[0m\u001b[0;34m(\u001b[0m\u001b[0mds\u001b[0m\u001b[0;34m)\u001b[0m\u001b[0;34m\u001b[0m\u001b[0;34m\u001b[0m\u001b[0m\n",
      "\u001b[0;31mNameError\u001b[0m: name 'parse_coaster_infobox' is not defined"
     ]
    }
   ],
   "source": [
    "wiki = wikipediaapi.Wikipedia('en')\n",
    "cat = wiki.page('Category:Operating roller coasters')\n",
    "len(cat.categorymembers)\n",
    "\n",
    "ds = []\n",
    "for coaster, page in tqdm(cat.categorymembers.items()):\n",
    "    url = page.fullurl\n",
    "    ds.append(parse_coaster_infobox(url, filter_cols=True))\n",
    "coaster_db = pd.concat(ds)"
   ]
  },
  {
   "cell_type": "code",
   "execution_count": null,
   "id": "b1a8f0b4",
   "metadata": {
    "papermill": {
     "duration": null,
     "end_time": null,
     "exception": null,
     "start_time": null,
     "status": "pending"
    },
    "tags": []
   },
   "outputs": [],
   "source": [
    "# ds_new"
   ]
  },
  {
   "cell_type": "code",
   "execution_count": null,
   "id": "cf2c6f76",
   "metadata": {
    "execution": {
     "iopub.execute_input": "2021-11-02T02:35:14.901196Z",
     "iopub.status.busy": "2021-11-02T02:35:14.900912Z",
     "iopub.status.idle": "2021-11-02T02:35:15.969396Z",
     "shell.execute_reply": "2021-11-02T02:35:15.968579Z",
     "shell.execute_reply.started": "2021-11-02T02:35:14.901165Z"
    },
    "papermill": {
     "duration": null,
     "end_time": null,
     "exception": null,
     "start_time": null,
     "status": "pending"
    },
    "tags": []
   },
   "outputs": [],
   "source": [
    "coaster_db = pd.concat(ds_new)"
   ]
  },
  {
   "cell_type": "markdown",
   "id": "a8811943",
   "metadata": {
    "papermill": {
     "duration": null,
     "end_time": null,
     "exception": null,
     "start_time": null,
     "status": "pending"
    },
    "tags": []
   },
   "source": [
    "# TODO\n",
    "- Go through entire list of coasters from wikipedia category\n",
    "    - https://en.wikipedia.org/wiki/Category:Roller_coaster_introductions_by_year\n",
    "- Parse data:\n",
    "    - years/dates\n",
    "    - Capacity\n",
    "    - Coordinates"
   ]
  },
  {
   "cell_type": "code",
   "execution_count": null,
   "id": "f70b4ce3",
   "metadata": {
    "execution": {
     "iopub.execute_input": "2021-11-02T02:48:42.673176Z",
     "iopub.status.busy": "2021-11-02T02:48:42.672907Z",
     "iopub.status.idle": "2021-11-02T02:48:42.693299Z",
     "shell.execute_reply": "2021-11-02T02:48:42.692192Z",
     "shell.execute_reply.started": "2021-11-02T02:48:42.673150Z"
    },
    "papermill": {
     "duration": null,
     "end_time": null,
     "exception": null,
     "start_time": null,
     "status": "pending"
    },
    "tags": []
   },
   "outputs": [],
   "source": [
    "# Save off our results\n",
    "coaster_db.to_csv('coaster_db.csv', index_label='Coaster')\n",
    "coaster_db = pd.read_csv('coaster_db.csv')"
   ]
  },
  {
   "cell_type": "markdown",
   "id": "d460e0e3",
   "metadata": {
    "papermill": {
     "duration": null,
     "end_time": null,
     "exception": null,
     "start_time": null,
     "status": "pending"
    },
    "tags": []
   },
   "source": [
    "# Parse Coords"
   ]
  },
  {
   "cell_type": "code",
   "execution_count": null,
   "id": "b905969b",
   "metadata": {
    "execution": {
     "iopub.execute_input": "2021-11-02T03:08:13.602926Z",
     "iopub.status.busy": "2021-11-02T03:08:13.602306Z",
     "iopub.status.idle": "2021-11-02T03:08:13.608845Z",
     "shell.execute_reply": "2021-11-02T03:08:13.607920Z",
     "shell.execute_reply.started": "2021-11-02T03:08:13.602879Z"
    },
    "papermill": {
     "duration": null,
     "end_time": null,
     "exception": null,
     "start_time": null,
     "status": "pending"
    },
    "tags": []
   },
   "outputs": [],
   "source": [
    "def parse_coordinates(df):\n",
    "    \"\"\"\n",
    "    Messy clean of coordinates - fix and make better later\n",
    "    \"\"\"\n",
    "    coaster_db['Coordinates'] = coaster_db['Coordinates'].str.split('/').str[-1]\n",
    "    coaster_db['lat_str'] = coaster_db['Coordinates'].str.split(' ').str[1]\n",
    "    coaster_db['lon_str'] = coaster_db['Coordinates'].str.split(' ').str[2]\n",
    "\n",
    "    coaster_db['lat'] = coaster_db['lat_str'].str[:-2].str.strip('\\ufeff').astype('float')\n",
    "    coaster_db['lon'] = coaster_db['lon_str'].str[:-2].str.strip('\\ufeff').str.strip('°E[').str.strip('°W').astype('float')\n",
    "\n",
    "    return df\n",
    "\n",
    "coaster_db = parse_coordinates(coaster_db)"
   ]
  },
  {
   "cell_type": "markdown",
   "id": "1803c25c",
   "metadata": {
    "papermill": {
     "duration": null,
     "end_time": null,
     "exception": null,
     "start_time": null,
     "status": "pending"
    },
    "tags": []
   },
   "source": [
    "# Trying to plot all the coaster on a map\n",
    "- TODO - fix this later!"
   ]
  },
  {
   "cell_type": "code",
   "execution_count": null,
   "id": "ede14cbd",
   "metadata": {
    "execution": {
     "iopub.execute_input": "2021-11-02T03:08:17.479114Z",
     "iopub.status.busy": "2021-11-02T03:08:17.478852Z",
     "iopub.status.idle": "2021-11-02T03:08:17.533970Z",
     "shell.execute_reply": "2021-11-02T03:08:17.533068Z",
     "shell.execute_reply.started": "2021-11-02T03:08:17.479087Z"
    },
    "papermill": {
     "duration": null,
     "end_time": null,
     "exception": null,
     "start_time": null,
     "status": "pending"
    },
    "tags": []
   },
   "outputs": [],
   "source": [
    "import plotly.express as px\n",
    "import pandas as pd\n",
    "\n",
    "fig = px.scatter_geo(coaster_db,lat='lat',lon='lon')\n",
    "fig.update_layout(title = 'Coaster map', title_x=0.5)\n",
    "fig.show()"
   ]
  }
 ],
 "metadata": {
  "kernelspec": {
   "display_name": "Python 3",
   "language": "python",
   "name": "python3"
  },
  "language_info": {
   "codemirror_mode": {
    "name": "ipython",
    "version": 3
   },
   "file_extension": ".py",
   "mimetype": "text/x-python",
   "name": "python",
   "nbconvert_exporter": "python",
   "pygments_lexer": "ipython3",
   "version": "3.7.7"
  },
  "papermill": {
   "default_parameters": {},
   "duration": 402.304744,
   "end_time": "2021-11-02T03:26:54.956605",
   "environment_variables": {},
   "exception": true,
   "input_path": "__notebook__.ipynb",
   "output_path": "__notebook__.ipynb",
   "parameters": {},
   "start_time": "2021-11-02T03:20:12.651861",
   "version": "2.3.3"
  },
  "widgets": {
   "application/vnd.jupyter.widget-state+json": {
    "state": {
     "1f49b85d000f43f69521083225f71def": {
      "model_module": "@jupyter-widgets/controls",
      "model_module_version": "1.5.0",
      "model_name": "HTMLModel",
      "state": {
       "_dom_classes": [],
       "_model_module": "@jupyter-widgets/controls",
       "_model_module_version": "1.5.0",
       "_model_name": "HTMLModel",
       "_view_count": null,
       "_view_module": "@jupyter-widgets/controls",
       "_view_module_version": "1.5.0",
       "_view_name": "HTMLView",
       "description": "",
       "description_tooltip": null,
       "layout": "IPY_MODEL_33b0ea88a9fd40b8a724c7b46ef6f210",
       "placeholder": "​",
       "style": "IPY_MODEL_6bcc45186af94ba7bcff2e1b32799996",
       "value": "100%"
      }
     },
     "33b0ea88a9fd40b8a724c7b46ef6f210": {
      "model_module": "@jupyter-widgets/base",
      "model_module_version": "1.2.0",
      "model_name": "LayoutModel",
      "state": {
       "_model_module": "@jupyter-widgets/base",
       "_model_module_version": "1.2.0",
       "_model_name": "LayoutModel",
       "_view_count": null,
       "_view_module": "@jupyter-widgets/base",
       "_view_module_version": "1.2.0",
       "_view_name": "LayoutView",
       "align_content": null,
       "align_items": null,
       "align_self": null,
       "border": null,
       "bottom": null,
       "display": null,
       "flex": null,
       "flex_flow": null,
       "grid_area": null,
       "grid_auto_columns": null,
       "grid_auto_flow": null,
       "grid_auto_rows": null,
       "grid_column": null,
       "grid_gap": null,
       "grid_row": null,
       "grid_template_areas": null,
       "grid_template_columns": null,
       "grid_template_rows": null,
       "height": null,
       "justify_content": null,
       "justify_items": null,
       "left": null,
       "margin": null,
       "max_height": null,
       "max_width": null,
       "min_height": null,
       "min_width": null,
       "object_fit": null,
       "object_position": null,
       "order": null,
       "overflow": null,
       "overflow_x": null,
       "overflow_y": null,
       "padding": null,
       "right": null,
       "top": null,
       "visibility": null,
       "width": null
      }
     },
     "5aa75bb5ec68418c9b281cae414e5f4d": {
      "model_module": "@jupyter-widgets/controls",
      "model_module_version": "1.5.0",
      "model_name": "HBoxModel",
      "state": {
       "_dom_classes": [],
       "_model_module": "@jupyter-widgets/controls",
       "_model_module_version": "1.5.0",
       "_model_name": "HBoxModel",
       "_view_count": null,
       "_view_module": "@jupyter-widgets/controls",
       "_view_module_version": "1.5.0",
       "_view_name": "HBoxView",
       "box_style": "",
       "children": [
        "IPY_MODEL_1f49b85d000f43f69521083225f71def",
        "IPY_MODEL_dcc19bc9eff2431d9e0873e442675291",
        "IPY_MODEL_8350a1d8246342deb18d667e585abf44"
       ],
       "layout": "IPY_MODEL_9093ccfe14b54e798a707a8b0d1c91c4"
      }
     },
     "6bcc45186af94ba7bcff2e1b32799996": {
      "model_module": "@jupyter-widgets/controls",
      "model_module_version": "1.5.0",
      "model_name": "DescriptionStyleModel",
      "state": {
       "_model_module": "@jupyter-widgets/controls",
       "_model_module_version": "1.5.0",
       "_model_name": "DescriptionStyleModel",
       "_view_count": null,
       "_view_module": "@jupyter-widgets/base",
       "_view_module_version": "1.2.0",
       "_view_name": "StyleView",
       "description_width": ""
      }
     },
     "8350a1d8246342deb18d667e585abf44": {
      "model_module": "@jupyter-widgets/controls",
      "model_module_version": "1.5.0",
      "model_name": "HTMLModel",
      "state": {
       "_dom_classes": [],
       "_model_module": "@jupyter-widgets/controls",
       "_model_module_version": "1.5.0",
       "_model_name": "HTMLModel",
       "_view_count": null,
       "_view_module": "@jupyter-widgets/controls",
       "_view_module_version": "1.5.0",
       "_view_name": "HTMLView",
       "description": "",
       "description_tooltip": null,
       "layout": "IPY_MODEL_a4c95c46fbff482cbb26340fd006ce8d",
       "placeholder": "​",
       "style": "IPY_MODEL_9f5dc77f84ae437eb3bd870e8d5ed1f5",
       "value": " 692/692 [06:18&lt;00:00,  1.86it/s]"
      }
     },
     "9093ccfe14b54e798a707a8b0d1c91c4": {
      "model_module": "@jupyter-widgets/base",
      "model_module_version": "1.2.0",
      "model_name": "LayoutModel",
      "state": {
       "_model_module": "@jupyter-widgets/base",
       "_model_module_version": "1.2.0",
       "_model_name": "LayoutModel",
       "_view_count": null,
       "_view_module": "@jupyter-widgets/base",
       "_view_module_version": "1.2.0",
       "_view_name": "LayoutView",
       "align_content": null,
       "align_items": null,
       "align_self": null,
       "border": null,
       "bottom": null,
       "display": null,
       "flex": null,
       "flex_flow": null,
       "grid_area": null,
       "grid_auto_columns": null,
       "grid_auto_flow": null,
       "grid_auto_rows": null,
       "grid_column": null,
       "grid_gap": null,
       "grid_row": null,
       "grid_template_areas": null,
       "grid_template_columns": null,
       "grid_template_rows": null,
       "height": null,
       "justify_content": null,
       "justify_items": null,
       "left": null,
       "margin": null,
       "max_height": null,
       "max_width": null,
       "min_height": null,
       "min_width": null,
       "object_fit": null,
       "object_position": null,
       "order": null,
       "overflow": null,
       "overflow_x": null,
       "overflow_y": null,
       "padding": null,
       "right": null,
       "top": null,
       "visibility": null,
       "width": null
      }
     },
     "9a4c4dcfaa0b49f6830b24d10d2c22b2": {
      "model_module": "@jupyter-widgets/base",
      "model_module_version": "1.2.0",
      "model_name": "LayoutModel",
      "state": {
       "_model_module": "@jupyter-widgets/base",
       "_model_module_version": "1.2.0",
       "_model_name": "LayoutModel",
       "_view_count": null,
       "_view_module": "@jupyter-widgets/base",
       "_view_module_version": "1.2.0",
       "_view_name": "LayoutView",
       "align_content": null,
       "align_items": null,
       "align_self": null,
       "border": null,
       "bottom": null,
       "display": null,
       "flex": null,
       "flex_flow": null,
       "grid_area": null,
       "grid_auto_columns": null,
       "grid_auto_flow": null,
       "grid_auto_rows": null,
       "grid_column": null,
       "grid_gap": null,
       "grid_row": null,
       "grid_template_areas": null,
       "grid_template_columns": null,
       "grid_template_rows": null,
       "height": null,
       "justify_content": null,
       "justify_items": null,
       "left": null,
       "margin": null,
       "max_height": null,
       "max_width": null,
       "min_height": null,
       "min_width": null,
       "object_fit": null,
       "object_position": null,
       "order": null,
       "overflow": null,
       "overflow_x": null,
       "overflow_y": null,
       "padding": null,
       "right": null,
       "top": null,
       "visibility": null,
       "width": null
      }
     },
     "9f5dc77f84ae437eb3bd870e8d5ed1f5": {
      "model_module": "@jupyter-widgets/controls",
      "model_module_version": "1.5.0",
      "model_name": "DescriptionStyleModel",
      "state": {
       "_model_module": "@jupyter-widgets/controls",
       "_model_module_version": "1.5.0",
       "_model_name": "DescriptionStyleModel",
       "_view_count": null,
       "_view_module": "@jupyter-widgets/base",
       "_view_module_version": "1.2.0",
       "_view_name": "StyleView",
       "description_width": ""
      }
     },
     "a374a4e4801b478d9dffab2ea002c615": {
      "model_module": "@jupyter-widgets/controls",
      "model_module_version": "1.5.0",
      "model_name": "ProgressStyleModel",
      "state": {
       "_model_module": "@jupyter-widgets/controls",
       "_model_module_version": "1.5.0",
       "_model_name": "ProgressStyleModel",
       "_view_count": null,
       "_view_module": "@jupyter-widgets/base",
       "_view_module_version": "1.2.0",
       "_view_name": "StyleView",
       "bar_color": null,
       "description_width": ""
      }
     },
     "a4c95c46fbff482cbb26340fd006ce8d": {
      "model_module": "@jupyter-widgets/base",
      "model_module_version": "1.2.0",
      "model_name": "LayoutModel",
      "state": {
       "_model_module": "@jupyter-widgets/base",
       "_model_module_version": "1.2.0",
       "_model_name": "LayoutModel",
       "_view_count": null,
       "_view_module": "@jupyter-widgets/base",
       "_view_module_version": "1.2.0",
       "_view_name": "LayoutView",
       "align_content": null,
       "align_items": null,
       "align_self": null,
       "border": null,
       "bottom": null,
       "display": null,
       "flex": null,
       "flex_flow": null,
       "grid_area": null,
       "grid_auto_columns": null,
       "grid_auto_flow": null,
       "grid_auto_rows": null,
       "grid_column": null,
       "grid_gap": null,
       "grid_row": null,
       "grid_template_areas": null,
       "grid_template_columns": null,
       "grid_template_rows": null,
       "height": null,
       "justify_content": null,
       "justify_items": null,
       "left": null,
       "margin": null,
       "max_height": null,
       "max_width": null,
       "min_height": null,
       "min_width": null,
       "object_fit": null,
       "object_position": null,
       "order": null,
       "overflow": null,
       "overflow_x": null,
       "overflow_y": null,
       "padding": null,
       "right": null,
       "top": null,
       "visibility": null,
       "width": null
      }
     },
     "dcc19bc9eff2431d9e0873e442675291": {
      "model_module": "@jupyter-widgets/controls",
      "model_module_version": "1.5.0",
      "model_name": "FloatProgressModel",
      "state": {
       "_dom_classes": [],
       "_model_module": "@jupyter-widgets/controls",
       "_model_module_version": "1.5.0",
       "_model_name": "FloatProgressModel",
       "_view_count": null,
       "_view_module": "@jupyter-widgets/controls",
       "_view_module_version": "1.5.0",
       "_view_name": "ProgressView",
       "bar_style": "success",
       "description": "",
       "description_tooltip": null,
       "layout": "IPY_MODEL_9a4c4dcfaa0b49f6830b24d10d2c22b2",
       "max": 692,
       "min": 0,
       "orientation": "horizontal",
       "style": "IPY_MODEL_a374a4e4801b478d9dffab2ea002c615",
       "value": 692
      }
     }
    },
    "version_major": 2,
    "version_minor": 0
   }
  }
 },
 "nbformat": 4,
 "nbformat_minor": 5
}
