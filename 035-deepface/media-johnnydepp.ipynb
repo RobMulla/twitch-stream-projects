{
 "cells": [
  {
   "cell_type": "code",
   "execution_count": 1,
   "id": "63875b2b-5587-4b59-bb4a-b0a378c569b9",
   "metadata": {},
   "outputs": [],
   "source": [
    "import matplotlib.pyplot as plt"
   ]
  },
  {
   "cell_type": "code",
   "execution_count": 23,
   "id": "8e5949fa-5a93-4ff8-9278-af5e8a0fd9a2",
   "metadata": {},
   "outputs": [],
   "source": [
    "import cv2\n",
    "import mediapipe as mp\n",
    "mp_drawing = mp.solutions.drawing_utils\n",
    "mp_drawing_styles = mp.solutions.drawing_styles\n",
    "mp_face_mesh = mp.solutions.face_mesh\n",
    "\n",
    "# For static images:\n",
    "# IMAGE_FILES = []\n",
    "\n",
    "cap = cv2.VideoCapture('Amber Heard vs Johnny Depp Comparison of Depositions.mp4')\n",
    "\n",
    "drawing_spec = mp_drawing.DrawingSpec(thickness=1, circle_radius=1)\n",
    "with mp_face_mesh.FaceMesh(\n",
    "    static_image_mode=True,\n",
    "    max_num_faces=1,\n",
    "    refine_landmarks=True,\n",
    "    min_detection_confidence=0.5) as face_mesh:\n",
    "  # for idx, file in enumerate(IMAGE_FILES):\n",
    "  for idx in range(1000):\n",
    "    frame = idx\n",
    "    ret, image = cap.read()\n",
    "    # image = cv2.imread(file)\n",
    "    # Convert the BGR image to RGB before processing.\n",
    "    results = face_mesh.process(cv2.cvtColor(image, cv2.COLOR_BGR2RGB))\n",
    "\n",
    "    # Print and draw face mesh landmarks on the image.\n",
    "    if not results.multi_face_landmarks:\n",
    "      continue\n",
    "    annotated_image = image.copy()\n",
    "    for face_landmarks in results.multi_face_landmarks:\n",
    "      # print('face_landmarks:', face_landmarks)\n",
    "      # mp_drawing.draw_landmarks(\n",
    "      #     image=annotated_image,\n",
    "      #     landmark_list=face_landmarks,\n",
    "      #     connections=mp_face_mesh.FACEMESH_TESSELATION,\n",
    "      #     landmark_drawing_spec=None,\n",
    "      #     connection_drawing_spec=mp_drawing_styles\n",
    "      #     .get_default_face_mesh_tesselation_style())\n",
    "      # mp_drawing.draw_landmarks(\n",
    "      #     image=annotated_image,\n",
    "      #     landmark_list=face_landmarks,\n",
    "      #     connections=mp_face_mesh.FACEMESH_CONTOURS,\n",
    "      #     landmark_drawing_spec=None,\n",
    "      #     connection_drawing_spec=mp_drawing_styles\n",
    "      #     .get_default_face_mesh_contours_style())\n",
    "      mp_drawing.draw_landmarks(\n",
    "          image=annotated_image,\n",
    "          landmark_list=face_landmarks,\n",
    "          connections=mp_face_mesh.FACEMESH_IRISES,\n",
    "          landmark_drawing_spec=None,\n",
    "          connection_drawing_spec=mp_drawing_styles\n",
    "          .get_default_face_mesh_iris_connections_style())\n",
    "    # cv2.imwrite('/tmp/annotated_image' + str(idx) + '.png', annotated_image)\n",
    "    \n",
    "    if frame % 100 == 0:\n",
    "        cv2.imshow('annot',annotated_image)\n",
    "\n",
    "        cv2.waitKey(0)\n",
    "\n",
    "        cv2.destroyAllWindows()\n",
    "    # break"
   ]
  }
 ],
 "metadata": {
  "kernelspec": {
   "display_name": "mediapipe",
   "language": "python",
   "name": "mediapipe"
  },
  "language_info": {
   "codemirror_mode": {
    "name": "ipython",
    "version": 3
   },
   "file_extension": ".py",
   "mimetype": "text/x-python",
   "name": "python",
   "nbconvert_exporter": "python",
   "pygments_lexer": "ipython3",
   "version": "3.8.13"
  }
 },
 "nbformat": 4,
 "nbformat_minor": 5
}
