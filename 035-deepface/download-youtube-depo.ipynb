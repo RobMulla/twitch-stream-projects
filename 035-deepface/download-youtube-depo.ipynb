{
 "cells": [
  {
   "cell_type": "code",
   "execution_count": 1,
   "id": "e51d8a86-fece-4eda-9d7a-1cef73800fb9",
   "metadata": {},
   "outputs": [],
   "source": [
    "url = 'https://www.youtube.com/watch?v=X7PWjY8g3gk'"
   ]
  },
  {
   "cell_type": "code",
   "execution_count": 5,
   "id": "0d80ad1c-749d-4a70-8417-4179c2f416b5",
   "metadata": {},
   "outputs": [],
   "source": [
    "#  !pip install pytube"
   ]
  },
  {
   "cell_type": "code",
   "execution_count": 6,
   "id": "9c2e12f3-8206-4638-80fd-f8b96f14b0a2",
   "metadata": {},
   "outputs": [],
   "source": [
    "from pytube import YouTube"
   ]
  },
  {
   "cell_type": "code",
   "execution_count": null,
   "id": "090c0b17-03e8-4a53-a9dc-af033826b970",
   "metadata": {},
   "outputs": [],
   "source": []
  },
  {
   "cell_type": "code",
   "execution_count": 15,
   "id": "405afb2b-a1c8-4f4c-8223-196fa9f0d069",
   "metadata": {},
   "outputs": [],
   "source": [
    "# yt = YouTube(url)\n",
    "#to set the name of the file\n",
    "# yt.set_filename('Trial')  \n",
    "video_id = 'v=X7PWjY8g3gk'\n",
    "\n",
    "stream = YouTube(\n",
    "        f\"http://www.youtube.com/watch?v={video_id}\"\n",
    "    ).streams.get_highest_resolution()\n",
    "stream.download()\n",
    "fn = stream.default_filename"
   ]
  },
  {
   "cell_type": "code",
   "execution_count": 16,
   "id": "33a0bf5f-abd6-405d-955b-f287f34bed7d",
   "metadata": {},
   "outputs": [],
   "source": [
    "import IPython.display as ipd"
   ]
  },
  {
   "cell_type": "code",
   "execution_count": 17,
   "id": "c45a2341-29f0-426d-afcc-24b08038b9c1",
   "metadata": {},
   "outputs": [
    {
     "data": {
      "text/html": [
       "<video src=\"Amber Heard vs Johnny Depp Comparison of Depositions.mp4\" controls  >\n",
       "      Your browser does not support the <code>video</code> element.\n",
       "    </video>"
      ],
      "text/plain": [
       "<IPython.core.display.Video object>"
      ]
     },
     "execution_count": 17,
     "metadata": {},
     "output_type": "execute_result"
    }
   ],
   "source": [
    "ipd.Video('Amber Heard vs Johnny Depp Comparison of Depositions.mp4')"
   ]
  },
  {
   "cell_type": "code",
   "execution_count": null,
   "id": "ec9b8fee-85ed-4151-bf54-ab331742cefa",
   "metadata": {},
   "outputs": [],
   "source": []
  },
  {
   "cell_type": "code",
   "execution_count": null,
   "id": "8eac0915-1169-41fd-973a-77ba7627cb7b",
   "metadata": {},
   "outputs": [],
   "source": []
  }
 ],
 "metadata": {
  "kernelspec": {
   "display_name": "Python 3 (ipykernel)",
   "language": "python",
   "name": "python3"
  },
  "language_info": {
   "codemirror_mode": {
    "name": "ipython",
    "version": 3
   },
   "file_extension": ".py",
   "mimetype": "text/x-python",
   "name": "python",
   "nbconvert_exporter": "python",
   "pygments_lexer": "ipython3",
   "version": "3.8.5"
  }
 },
 "nbformat": 4,
 "nbformat_minor": 5
}
