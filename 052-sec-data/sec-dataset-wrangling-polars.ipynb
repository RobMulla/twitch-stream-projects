{
 "cells": [
  {
   "cell_type": "markdown",
   "id": "846bea0d-7d0e-4c38-a8e6-676fad69ce49",
   "metadata": {},
   "source": [
    "# Data Merging Job with Polars"
   ]
  },
  {
   "cell_type": "code",
   "execution_count": 1,
   "id": "d9c474ee-7eec-4e7a-a55a-8aebf3bec8bf",
   "metadata": {},
   "outputs": [],
   "source": [
    "import pandas as pd\n",
    "import numpy as np\n",
    "import matplotlib.pyplot as plt\n",
    "import polars as pl\n",
    "\n",
    "from glob import glob\n",
    "from tqdm.notebook import tqdm\n",
    "\n",
    "pd.set_option(\"display.max_columns\", 500)\n",
    "%load_ext lab_black\n",
    "\n",
    "import os\n",
    "\n",
    "os.environ[\"POLARS_MAX_THREADS\"] = \"16\""
   ]
  },
  {
   "cell_type": "code",
   "execution_count": 2,
   "id": "d2517684-162b-4518-80c1-47c5dd7e428d",
   "metadata": {},
   "outputs": [],
   "source": [
    "numbers = pl.scan_parquet(\"numbers.parquet\")\n",
    "submissions = pl.scan_parquet(\"parquets/submissions_combined.parquet\")\n",
    "\n",
    "merged = numbers.join(\n",
    "    submissions.select(\n",
    "        pl.col(\n",
    "            [\"adsh\", \"period\", \"name\", \"cik\", \"filed\", \"accepted\", \"fy\", \"fp\", \"form\"]\n",
    "        )\n",
    "    ),\n",
    "    on=[\"adsh\"],\n",
    ")"
   ]
  },
  {
   "cell_type": "code",
   "execution_count": 3,
   "id": "59d95148-b5a7-44ed-8073-89855768274c",
   "metadata": {},
   "outputs": [],
   "source": [
    "merged = merged.collect(streaming=True)"
   ]
  },
  {
   "cell_type": "code",
   "execution_count": 4,
   "id": "f54f480e-5b59-4b86-942a-e74e3656500a",
   "metadata": {},
   "outputs": [
    {
     "data": {
      "text/plain": [
       "(125348023, 19)"
      ]
     },
     "execution_count": 4,
     "metadata": {},
     "output_type": "execute_result"
    }
   ],
   "source": [
    "merged.shape"
   ]
  },
  {
   "cell_type": "code",
   "execution_count": 6,
   "id": "a86ab984-d174-4672-bf31-98f41c538b96",
   "metadata": {},
   "outputs": [],
   "source": [
    "merged_df = merged.to_pandas()"
   ]
  },
  {
   "cell_type": "code",
   "execution_count": null,
   "id": "b011b007-2a66-4c7b-b5e2-dfbcd8a35d24",
   "metadata": {},
   "outputs": [],
   "source": [
    "merged_df.head()"
   ]
  }
 ],
 "metadata": {
  "kernelspec": {
   "display_name": "Python 3 (ipykernel)",
   "language": "python",
   "name": "python3"
  },
  "language_info": {
   "codemirror_mode": {
    "name": "ipython",
    "version": 3
   },
   "file_extension": ".py",
   "mimetype": "text/x-python",
   "name": "python",
   "nbconvert_exporter": "python",
   "pygments_lexer": "ipython3",
   "version": "3.8.5"
  }
 },
 "nbformat": 4,
 "nbformat_minor": 5
}
