{
 "cells": [
  {
   "cell_type": "markdown",
   "id": "6f83ba9d",
   "metadata": {
    "papermill": {
     "duration": 0.006171,
     "end_time": "2022-11-14T14:20:30.774495",
     "exception": false,
     "start_time": "2022-11-14T14:20:30.768324",
     "status": "completed"
    },
    "tags": []
   },
   "source": [
    "# Goal of This Notebook\n",
    "1. Pull links to the most recent data from the SEC website:\n",
    "    - https://www.sec.gov/dera/data/financial-statement-data-sets.html\n",
    "2. Download the zip files from the urls\n",
    "3. Unzip and format data into \"workable\" format.\n",
    "4. Save as CSV and Parquet format."
   ]
  },
  {
   "cell_type": "code",
   "execution_count": 1,
   "id": "5c0d7d73",
   "metadata": {
    "_cell_guid": "b1076dfc-b9ad-4769-8c92-a6c4dae69d19",
    "_uuid": "8f2839f25d086af736a60e9eeb907d3b93b6e0e5",
    "papermill": {
     "duration": 0.303404,
     "end_time": "2022-11-14T14:20:31.082941",
     "exception": false,
     "start_time": "2022-11-14T14:20:30.779537",
     "status": "completed"
    },
    "tags": []
   },
   "outputs": [],
   "source": [
    "import pandas as pd\n",
    "import numpy as np\n",
    "\n",
    "import requests\n",
    "import re\n",
    "import urllib.request\n",
    "\n",
    "from glob import glob\n",
    "import shutil\n",
    "import os\n",
    "\n",
    "from bs4 import BeautifulSoup\n",
    "from tqdm.notebook import tqdm\n",
    "\n",
    "import matplotlib.pyplot as plt\n",
    "plt.style.use('fivethirtyeight')\n",
    "\n",
    "pd.set_option('display.max_columns', 500)"
   ]
  },
  {
   "cell_type": "markdown",
   "id": "51739456",
   "metadata": {
    "papermill": {
     "duration": 0.004686,
     "end_time": "2022-11-14T14:20:31.092858",
     "exception": false,
     "start_time": "2022-11-14T14:20:31.088172",
     "status": "completed"
    },
    "tags": []
   },
   "source": [
    "# Step 1 & 2. Download Files and Unzip"
   ]
  },
  {
   "cell_type": "code",
   "execution_count": 2,
   "id": "e34676bf",
   "metadata": {
    "papermill": {
     "duration": 0.016994,
     "end_time": "2022-11-14T14:20:31.114763",
     "exception": false,
     "start_time": "2022-11-14T14:20:31.097769",
     "status": "completed"
    },
    "tags": []
   },
   "outputs": [],
   "source": [
    "def get_links(site = 'https://www.sec.gov/dera/data/financial-statement-data-sets.html'):\n",
    "    r  = requests.get(site)\n",
    "    data = r.text\n",
    "    soup = BeautifulSoup(data)\n",
    "\n",
    "    links = []\n",
    "    for link in soup.find_all('a'):\n",
    "        links.append(link.get('href'))\n",
    "\n",
    "    zips = [c for c in links if str(c).endswith('.zip')]\n",
    "    zips = [*set(zips)]\n",
    "    zips = ['http://www.sec.gov' + a for a in zips]\n",
    "    return zips\n",
    "\n",
    "def download_zips(player_zips, zip_dir='./'):\n",
    "    for z in tqdm(player_zips):\n",
    "        out = z.split('/')[-1]\n",
    "        urllib.request.urlretrieve(z, f\"{zip_dir}/{out}\")\n",
    "\n",
    "def unzip_files(zip_dir='./', delete_zip=True):\n",
    "    for fn in glob(f'{zip_dir}/*.zip'):\n",
    "        out_fn = fn.split('.')[1].replace('/','')\n",
    "        shutil.unpack_archive(fn, out_fn)\n",
    "        if delete_zip:\n",
    "            os.remove(fn)"
   ]
  },
  {
   "cell_type": "code",
   "execution_count": 3,
   "id": "76f7ab00",
   "metadata": {
    "papermill": {
     "duration": 86.136807,
     "end_time": "2022-11-14T14:21:57.256779",
     "exception": false,
     "start_time": "2022-11-14T14:20:31.119972",
     "status": "completed"
    },
    "tags": []
   },
   "outputs": [
    {
     "data": {
      "application/vnd.jupyter.widget-view+json": {
       "model_id": "385af98aab6a4e6f9bf66280ee844b73",
       "version_major": 2,
       "version_minor": 0
      },
      "text/plain": [
       "  0%|          | 0/55 [00:00<?, ?it/s]"
      ]
     },
     "metadata": {},
     "output_type": "display_data"
    }
   ],
   "source": [
    "zips = get_links()\n",
    "\n",
    "# For now filter down to 2020s\n",
    "# TODO Get this working for all years in the future\n",
    "# zips = [z for z in zips if '202' in z]\n",
    "zips.sort()\n",
    "\n",
    "download_zips(zips)\n",
    "unzip_files()"
   ]
  },
  {
   "cell_type": "markdown",
   "id": "3b9e385b",
   "metadata": {
    "papermill": {
     "duration": 0.049789,
     "end_time": "2022-11-14T14:22:00.159456",
     "exception": false,
     "start_time": "2022-11-14T14:22:00.109667",
     "status": "completed"
    },
    "tags": []
   },
   "source": [
    "# Step 3. Read and Format Data\n",
    "\n",
    "# TODO - What heck even is this data?\n",
    "\n",
    "- sub.txt (Submissions)\n",
    "    - The submissions data set contains summary information about an entire EDGAR submission. Some fields were sourced directly from EDGAR submission information, while other columns of data were sourced from the Interactive Data attachments of the submission. Note: EDGAR derived fields represent the most recent EDGAR assignment as of a given filing’s submission date and do not necessarily represent the most current assignments.\n",
    "- tag.txt (Tags)\n",
    "    - The TAG data set contains all standard taxonomy tags, not just those appearing in submissions to date, and also includes all custom taxonomy tags defined in the submissions.  The source is the “as filed” XBRL filer submissions.  The standard tags are derived from taxonomies in http://www.sec.gov/info/edgar/edgartaxonomies.shtml. \n",
    "\n",
    "- num.txt (Numbers)\n",
    "    - The NUM data set contains numeric data, one row per data point in the financial statements. The source for the table is the “as filed” XBRL filer submissions.\n",
    "- pre.txt (Presentation of Statements)\n",
    "    - The PRE data set contains one row for each line of the financial statements tagged by the filer.  The source for the data set is the “as filed” XBRL filer submissions.   Note that there may be more than one row per entry in NUM because the same tag can appear in more than one statement (the tag NetIncome, for example can appear in both the Income Statement and Cash Flows in a single financial statement, and the tag Cash may appear in both the Balance Sheet and Cash Flows).\n"
   ]
  },
  {
   "cell_type": "code",
   "execution_count": 4,
   "id": "ae30e5cf",
   "metadata": {
    "papermill": {
     "duration": 1.140105,
     "end_time": "2022-11-14T14:22:01.304970",
     "exception": false,
     "start_time": "2022-11-14T14:22:00.164865",
     "status": "completed"
    },
    "tags": []
   },
   "outputs": [
    {
     "name": "stdout",
     "output_type": "stream",
     "text": [
      "total 444M\n",
      "-rw-rw-r-- 1 robmulla robmulla 273M Nov 15 20:41 num.txt\n",
      "-rw-rw-r-- 1 robmulla robmulla 143M Nov 15 20:41 pre.txt\n",
      "-rw-rw-r-- 1 robmulla robmulla 149K Nov 15 20:41 readme.htm\n",
      "-rw-rw-r-- 1 robmulla robmulla 6.5M Nov 15 20:41 sub.txt\n",
      "-rw-rw-r-- 1 robmulla robmulla  22M Nov 15 20:41 tag.txt\n"
     ]
    }
   ],
   "source": [
    "!ls 2022q3/ -lh"
   ]
  },
  {
   "cell_type": "markdown",
   "id": "2e1addbd",
   "metadata": {
    "papermill": {
     "duration": 0.039322,
     "end_time": "2022-11-14T14:22:01.753979",
     "exception": false,
     "start_time": "2022-11-14T14:22:01.714657",
     "status": "completed"
    },
    "tags": []
   },
   "source": [
    "## Read and concat \"sub\" files"
   ]
  },
  {
   "cell_type": "code",
   "execution_count": 5,
   "id": "554d5c47",
   "metadata": {
    "papermill": {
     "duration": 3.148009,
     "end_time": "2022-11-14T14:22:04.949408",
     "exception": false,
     "start_time": "2022-11-14T14:22:01.801399",
     "status": "completed"
    },
    "tags": []
   },
   "outputs": [
    {
     "data": {
      "application/vnd.jupyter.widget-view+json": {
       "model_id": "ec06358473f04447bfb74207a8faf7a2",
       "version_major": 2,
       "version_minor": 0
      },
      "text/plain": [
       "  0%|          | 0/55 [00:00<?, ?it/s]"
      ]
     },
     "metadata": {},
     "output_type": "display_data"
    }
   ],
   "source": [
    "sub_files = glob('*/sub.txt')\n",
    "subs = []\n",
    "for f in tqdm(sub_files):\n",
    "    subs.append(pd.read_csv(f, sep='\\t', low_memory=False).assign(filename=f))\n",
    "subs = pd.concat(subs)\n",
    "subs.to_parquet('submissions_combined.parquet')"
   ]
  },
  {
   "cell_type": "code",
   "execution_count": 6,
   "id": "15bfa69b",
   "metadata": {
    "papermill": {
     "duration": 7.32828,
     "end_time": "2022-11-14T14:22:12.283316",
     "exception": false,
     "start_time": "2022-11-14T14:22:04.955036",
     "status": "completed"
    },
    "tags": []
   },
   "outputs": [
    {
     "data": {
      "application/vnd.jupyter.widget-view+json": {
       "model_id": "594d1af999fd47e498890fc3790ce03f",
       "version_major": 2,
       "version_minor": 0
      },
      "text/plain": [
       "  0%|          | 0/55 [00:00<?, ?it/s]"
      ]
     },
     "metadata": {},
     "output_type": "display_data"
    }
   ],
   "source": [
    "tag_files = glob('*/tag.txt')\n",
    "tags = []\n",
    "for f in tqdm(tag_files):\n",
    "    tags.append(pd.read_csv(f, sep='\\t').assign(filename=f))\n",
    "tags = pd.concat(tags)\n",
    "tags.to_parquet('tags_combined.parquet')"
   ]
  },
  {
   "cell_type": "code",
   "execution_count": 7,
   "id": "513358c9",
   "metadata": {
    "papermill": {
     "duration": 71.006904,
     "end_time": "2022-11-14T14:23:23.296689",
     "exception": false,
     "start_time": "2022-11-14T14:22:12.289785",
     "status": "completed"
    },
    "tags": []
   },
   "outputs": [
    {
     "data": {
      "application/vnd.jupyter.widget-view+json": {
       "model_id": "f788045cbf604448977dba1f78736ff1",
       "version_major": 2,
       "version_minor": 0
      },
      "text/plain": [
       "  0%|          | 0/22 [00:00<?, ?it/s]"
      ]
     },
     "metadata": {},
     "output_type": "display_data"
    },
    {
     "name": "stderr",
     "output_type": "stream",
     "text": [
      "/tmp/ipykernel_2781584/4129995374.py:7: DtypeWarning: Columns (3) have mixed types. Specify dtype option on import or set low_memory=False.\n",
      "  nums.append(pd.read_csv(f, sep='\\t').assign(filename=f))\n",
      "/tmp/ipykernel_2781584/4129995374.py:7: DtypeWarning: Columns (8) have mixed types. Specify dtype option on import or set low_memory=False.\n",
      "  nums.append(pd.read_csv(f, sep='\\t').assign(filename=f))\n",
      "/tmp/ipykernel_2781584/4129995374.py:7: DtypeWarning: Columns (8) have mixed types. Specify dtype option on import or set low_memory=False.\n",
      "  nums.append(pd.read_csv(f, sep='\\t').assign(filename=f))\n"
     ]
    }
   ],
   "source": [
    "for year in tqdm(range(2009, 2031)):\n",
    "    num_files = glob(f'*{year}*/num.txt')\n",
    "    if len(num_files) == 0:\n",
    "        continue\n",
    "    nums = []\n",
    "    for f in num_files:\n",
    "        nums.append(pd.read_csv(f, sep='\\t').assign(filename=f))\n",
    "    nums = pd.concat(nums)\n",
    "    nums.to_parquet(f'numbers_combined_{year}.parquet')"
   ]
  },
  {
   "cell_type": "code",
   "execution_count": 8,
   "id": "ebb488c3",
   "metadata": {
    "papermill": {
     "duration": 38.379688,
     "end_time": "2022-11-14T14:24:01.682679",
     "exception": false,
     "start_time": "2022-11-14T14:23:23.302991",
     "status": "completed"
    },
    "tags": []
   },
   "outputs": [
    {
     "data": {
      "application/vnd.jupyter.widget-view+json": {
       "model_id": "a9c8e6165b9d40929cf20ba0f1459794",
       "version_major": 2,
       "version_minor": 0
      },
      "text/plain": [
       "  0%|          | 0/22 [00:00<?, ?it/s]"
      ]
     },
     "metadata": {},
     "output_type": "display_data"
    }
   ],
   "source": [
    "for year in tqdm(range(2009, 2031)):\n",
    "    pre_files = glob(f'*{year}*/pre.txt')\n",
    "    if len(pre_files) == 0:\n",
    "        continue\n",
    "    pres = []\n",
    "    for f in pre_files:\n",
    "        pres.append(pd.read_csv(f, sep='\\t').assign(filename=f))\n",
    "    pres = pd.concat(pres)\n",
    "    pres.to_parquet(f'presentation_combined_{year}.parquet')"
   ]
  },
  {
   "cell_type": "markdown",
   "id": "3b349f22",
   "metadata": {
    "papermill": {
     "duration": 0.005602,
     "end_time": "2022-11-14T14:24:01.694230",
     "exception": false,
     "start_time": "2022-11-14T14:24:01.688628",
     "status": "completed"
    },
    "tags": []
   },
   "source": [
    "# EDA\n",
    "- GOAL:\n",
    "    - Find Twitter Filings"
   ]
  },
  {
   "cell_type": "code",
   "execution_count": 9,
   "id": "e2d79f02",
   "metadata": {
    "papermill": {
     "duration": 0.691603,
     "end_time": "2022-11-14T14:24:02.393346",
     "exception": false,
     "start_time": "2022-11-14T14:24:01.701743",
     "status": "completed"
    },
    "tags": []
   },
   "outputs": [],
   "source": [
    "# Get the twitter filing numbers\n",
    "subs_twitter = subs.loc[subs['name'].str.lower().str.contains('twitter')]\n",
    "# Pull only the 10Q filings\n",
    "adsh_twit = subs_twitter.query('form == \"10-Q\"')['adsh'].unique().tolist()\n",
    "nums['ddate'] = pd.to_datetime(nums['ddate'], format='%Y%m%d')"
   ]
  },
  {
   "cell_type": "code",
   "execution_count": 10,
   "id": "5f44fc5b",
   "metadata": {
    "execution": {
     "iopub.execute_input": "2022-11-14T14:24:02.407181Z",
     "iopub.status.busy": "2022-11-14T14:24:02.406762Z",
     "iopub.status.idle": "2022-11-14T14:24:02.411964Z",
     "shell.execute_reply": "2022-11-14T14:24:02.411159Z"
    },
    "papermill": {
     "duration": 0.014945,
     "end_time": "2022-11-14T14:24:02.414265",
     "exception": false,
     "start_time": "2022-11-14T14:24:02.399320",
     "status": "completed"
    },
    "tags": []
   },
   "outputs": [],
   "source": [
    "# nums.query(\"adsh in @adsh_twit\")['tag'].unique()"
   ]
  },
  {
   "cell_type": "code",
   "execution_count": 11,
   "id": "41c601e3",
   "metadata": {
    "execution": {
     "iopub.execute_input": "2022-11-14T14:24:02.427716Z",
     "iopub.status.busy": "2022-11-14T14:24:02.427291Z",
     "iopub.status.idle": "2022-11-14T14:24:05.324775Z",
     "shell.execute_reply": "2022-11-14T14:24:05.323604Z"
    },
    "papermill": {
     "duration": 2.90692,
     "end_time": "2022-11-14T14:24:05.327122",
     "exception": false,
     "start_time": "2022-11-14T14:24:02.420202",
     "status": "completed"
    },
    "tags": []
   },
   "outputs": [
    {
     "data": {
      "text/html": [
       "<div>\n",
       "<style scoped>\n",
       "    .dataframe tbody tr th:only-of-type {\n",
       "        vertical-align: middle;\n",
       "    }\n",
       "\n",
       "    .dataframe tbody tr th {\n",
       "        vertical-align: top;\n",
       "    }\n",
       "\n",
       "    .dataframe thead th {\n",
       "        text-align: right;\n",
       "    }\n",
       "</style>\n",
       "<table border=\"1\" class=\"dataframe\">\n",
       "  <thead>\n",
       "    <tr style=\"text-align: right;\">\n",
       "      <th></th>\n",
       "      <th>adsh</th>\n",
       "      <th>tag</th>\n",
       "      <th>version</th>\n",
       "      <th>coreg</th>\n",
       "      <th>ddate</th>\n",
       "      <th>qtrs</th>\n",
       "      <th>uom</th>\n",
       "      <th>value</th>\n",
       "      <th>footnote</th>\n",
       "      <th>filename</th>\n",
       "    </tr>\n",
       "  </thead>\n",
       "  <tbody>\n",
       "    <tr>\n",
       "      <th>896223</th>\n",
       "      <td>0001418091-22-000075</td>\n",
       "      <td>LiabilitiesAndStockholdersEquity</td>\n",
       "      <td>us-gaap/2021</td>\n",
       "      <td>NaN</td>\n",
       "      <td>2021-12-31</td>\n",
       "      <td>0</td>\n",
       "      <td>USD</td>\n",
       "      <td>1.405952e+10</td>\n",
       "      <td>NaN</td>\n",
       "      <td>2022q2/num.txt</td>\n",
       "    </tr>\n",
       "    <tr>\n",
       "      <th>666174</th>\n",
       "      <td>0001418091-22-000147</td>\n",
       "      <td>Assets</td>\n",
       "      <td>us-gaap/2022</td>\n",
       "      <td>NaN</td>\n",
       "      <td>2021-12-31</td>\n",
       "      <td>0</td>\n",
       "      <td>USD</td>\n",
       "      <td>1.405952e+10</td>\n",
       "      <td>NaN</td>\n",
       "      <td>2022q3/num.txt</td>\n",
       "    </tr>\n",
       "    <tr>\n",
       "      <th>140114</th>\n",
       "      <td>0001418091-22-000075</td>\n",
       "      <td>Assets</td>\n",
       "      <td>us-gaap/2021</td>\n",
       "      <td>NaN</td>\n",
       "      <td>2021-12-31</td>\n",
       "      <td>0</td>\n",
       "      <td>USD</td>\n",
       "      <td>1.405952e+10</td>\n",
       "      <td>NaN</td>\n",
       "      <td>2022q2/num.txt</td>\n",
       "    </tr>\n",
       "    <tr>\n",
       "      <th>1456440</th>\n",
       "      <td>0001418091-22-000147</td>\n",
       "      <td>LiabilitiesAndStockholdersEquity</td>\n",
       "      <td>us-gaap/2022</td>\n",
       "      <td>NaN</td>\n",
       "      <td>2021-12-31</td>\n",
       "      <td>0</td>\n",
       "      <td>USD</td>\n",
       "      <td>1.405952e+10</td>\n",
       "      <td>NaN</td>\n",
       "      <td>2022q3/num.txt</td>\n",
       "    </tr>\n",
       "    <tr>\n",
       "      <th>1456439</th>\n",
       "      <td>0001418091-22-000147</td>\n",
       "      <td>LiabilitiesAndStockholdersEquity</td>\n",
       "      <td>us-gaap/2022</td>\n",
       "      <td>NaN</td>\n",
       "      <td>2022-06-30</td>\n",
       "      <td>0</td>\n",
       "      <td>USD</td>\n",
       "      <td>1.357929e+10</td>\n",
       "      <td>NaN</td>\n",
       "      <td>2022q3/num.txt</td>\n",
       "    </tr>\n",
       "    <tr>\n",
       "      <th>...</th>\n",
       "      <td>...</td>\n",
       "      <td>...</td>\n",
       "      <td>...</td>\n",
       "      <td>...</td>\n",
       "      <td>...</td>\n",
       "      <td>...</td>\n",
       "      <td>...</td>\n",
       "      <td>...</td>\n",
       "      <td>...</td>\n",
       "      <td>...</td>\n",
       "    </tr>\n",
       "    <tr>\n",
       "      <th>260174</th>\n",
       "      <td>0001418091-22-000075</td>\n",
       "      <td>CommitmentsAndContingencies</td>\n",
       "      <td>us-gaap/2021</td>\n",
       "      <td>NaN</td>\n",
       "      <td>2022-03-31</td>\n",
       "      <td>0</td>\n",
       "      <td>USD</td>\n",
       "      <td>NaN</td>\n",
       "      <td>NaN</td>\n",
       "      <td>2022q2/num.txt</td>\n",
       "    </tr>\n",
       "    <tr>\n",
       "      <th>926696</th>\n",
       "      <td>0001418091-22-000075</td>\n",
       "      <td>LongTermDebt</td>\n",
       "      <td>us-gaap/2021</td>\n",
       "      <td>NaN</td>\n",
       "      <td>2022-03-31</td>\n",
       "      <td>0</td>\n",
       "      <td>USD</td>\n",
       "      <td>NaN</td>\n",
       "      <td>NaN</td>\n",
       "      <td>2022q2/num.txt</td>\n",
       "    </tr>\n",
       "    <tr>\n",
       "      <th>781148</th>\n",
       "      <td>0001418091-22-000147</td>\n",
       "      <td>CommitmentsAndContingencies</td>\n",
       "      <td>us-gaap/2022</td>\n",
       "      <td>NaN</td>\n",
       "      <td>2022-06-30</td>\n",
       "      <td>0</td>\n",
       "      <td>USD</td>\n",
       "      <td>NaN</td>\n",
       "      <td>NaN</td>\n",
       "      <td>2022q3/num.txt</td>\n",
       "    </tr>\n",
       "    <tr>\n",
       "      <th>781149</th>\n",
       "      <td>0001418091-22-000147</td>\n",
       "      <td>CommitmentsAndContingencies</td>\n",
       "      <td>us-gaap/2022</td>\n",
       "      <td>NaN</td>\n",
       "      <td>2021-12-31</td>\n",
       "      <td>0</td>\n",
       "      <td>USD</td>\n",
       "      <td>NaN</td>\n",
       "      <td>NaN</td>\n",
       "      <td>2022q3/num.txt</td>\n",
       "    </tr>\n",
       "    <tr>\n",
       "      <th>1487407</th>\n",
       "      <td>0001418091-22-000147</td>\n",
       "      <td>LongTermDebt</td>\n",
       "      <td>us-gaap/2022</td>\n",
       "      <td>NaN</td>\n",
       "      <td>2022-06-30</td>\n",
       "      <td>0</td>\n",
       "      <td>USD</td>\n",
       "      <td>NaN</td>\n",
       "      <td>NaN</td>\n",
       "      <td>2022q3/num.txt</td>\n",
       "    </tr>\n",
       "  </tbody>\n",
       "</table>\n",
       "<p>771 rows × 10 columns</p>\n",
       "</div>"
      ],
      "text/plain": [
       "                         adsh                               tag       version  \\\n",
       "896223   0001418091-22-000075  LiabilitiesAndStockholdersEquity  us-gaap/2021   \n",
       "666174   0001418091-22-000147                            Assets  us-gaap/2022   \n",
       "140114   0001418091-22-000075                            Assets  us-gaap/2021   \n",
       "1456440  0001418091-22-000147  LiabilitiesAndStockholdersEquity  us-gaap/2022   \n",
       "1456439  0001418091-22-000147  LiabilitiesAndStockholdersEquity  us-gaap/2022   \n",
       "...                       ...                               ...           ...   \n",
       "260174   0001418091-22-000075       CommitmentsAndContingencies  us-gaap/2021   \n",
       "926696   0001418091-22-000075                      LongTermDebt  us-gaap/2021   \n",
       "781148   0001418091-22-000147       CommitmentsAndContingencies  us-gaap/2022   \n",
       "781149   0001418091-22-000147       CommitmentsAndContingencies  us-gaap/2022   \n",
       "1487407  0001418091-22-000147                      LongTermDebt  us-gaap/2022   \n",
       "\n",
       "        coreg      ddate  qtrs  uom         value footnote        filename  \n",
       "896223    NaN 2021-12-31     0  USD  1.405952e+10      NaN  2022q2/num.txt  \n",
       "666174    NaN 2021-12-31     0  USD  1.405952e+10      NaN  2022q3/num.txt  \n",
       "140114    NaN 2021-12-31     0  USD  1.405952e+10      NaN  2022q2/num.txt  \n",
       "1456440   NaN 2021-12-31     0  USD  1.405952e+10      NaN  2022q3/num.txt  \n",
       "1456439   NaN 2022-06-30     0  USD  1.357929e+10      NaN  2022q3/num.txt  \n",
       "...       ...        ...   ...  ...           ...      ...             ...  \n",
       "260174    NaN 2022-03-31     0  USD           NaN      NaN  2022q2/num.txt  \n",
       "926696    NaN 2022-03-31     0  USD           NaN      NaN  2022q2/num.txt  \n",
       "781148    NaN 2022-06-30     0  USD           NaN      NaN  2022q3/num.txt  \n",
       "781149    NaN 2021-12-31     0  USD           NaN      NaN  2022q3/num.txt  \n",
       "1487407   NaN 2022-06-30     0  USD           NaN      NaN  2022q3/num.txt  \n",
       "\n",
       "[771 rows x 10 columns]"
      ]
     },
     "execution_count": 11,
     "metadata": {},
     "output_type": "execute_result"
    }
   ],
   "source": [
    "nums.query(\"adsh in @adsh_twit\").sort_values('value', ascending=False)"
   ]
  },
  {
   "cell_type": "code",
   "execution_count": 12,
   "id": "a3af147d",
   "metadata": {
    "execution": {
     "iopub.execute_input": "2022-11-14T14:24:05.342067Z",
     "iopub.status.busy": "2022-11-14T14:24:05.340880Z",
     "iopub.status.idle": "2022-11-14T14:24:05.348878Z",
     "shell.execute_reply": "2022-11-14T14:24:05.347976Z"
    },
    "papermill": {
     "duration": 0.017336,
     "end_time": "2022-11-14T14:24:05.350928",
     "exception": false,
     "start_time": "2022-11-14T14:24:05.333592",
     "status": "completed"
    },
    "tags": []
   },
   "outputs": [
    {
     "data": {
      "text/plain": [
       "<pandas.core.groupby.generic.DataFrameGroupBy object at 0x7f3ea08aed90>"
      ]
     },
     "execution_count": 12,
     "metadata": {},
     "output_type": "execute_result"
    }
   ],
   "source": [
    "nums.groupby('ddate')"
   ]
  },
  {
   "cell_type": "code",
   "execution_count": 13,
   "id": "1f170a97",
   "metadata": {
    "execution": {
     "iopub.execute_input": "2022-11-14T14:24:05.365965Z",
     "iopub.status.busy": "2022-11-14T14:24:05.364999Z",
     "iopub.status.idle": "2022-11-14T14:24:06.108493Z",
     "shell.execute_reply": "2022-11-14T14:24:06.107150Z"
    },
    "papermill": {
     "duration": 0.753711,
     "end_time": "2022-11-14T14:24:06.111108",
     "exception": false,
     "start_time": "2022-11-14T14:24:05.357397",
     "status": "completed"
    },
    "tags": []
   },
   "outputs": [
    {
     "data": {
      "text/plain": [
       "<AxesSubplot:title={'center':'Costs and Expenses at Twitter'}, xlabel='ddate'>"
      ]
     },
     "execution_count": 13,
     "metadata": {},
     "output_type": "execute_result"
    },
    {
     "data": {
      "image/png": "[encoded data removed]",
      "text/plain": [
       "<Figure size 432x288 with 1 Axes>"
      ]
     },
     "metadata": {},
     "output_type": "display_data"
    }
   ],
   "source": [
    "nums.query(\"adsh in @adsh_twit\").query('tag == \"CostsAndExpenses\"') \\\n",
    "    .set_index('ddate')['value'] \\\n",
    "    .sort_index() \\\n",
    "    .plot(kind='bar',\n",
    "          title='Costs and Expenses at Twitter')"
   ]
  },
  {
   "cell_type": "code",
   "execution_count": 14,
   "id": "4c1298b1",
   "metadata": {
    "execution": {
     "iopub.execute_input": "2022-11-14T14:24:06.127269Z",
     "iopub.status.busy": "2022-11-14T14:24:06.126845Z",
     "iopub.status.idle": "2022-11-14T14:24:06.803391Z",
     "shell.execute_reply": "2022-11-14T14:24:06.801980Z"
    },
    "papermill": {
     "duration": 0.68771,
     "end_time": "2022-11-14T14:24:06.806089",
     "exception": false,
     "start_time": "2022-11-14T14:24:06.118379",
     "status": "completed"
    },
    "tags": []
   },
   "outputs": [
    {
     "data": {
      "text/plain": [
       "<AxesSubplot:title={'center':'Assets at Twitter'}, xlabel='ddate'>"
      ]
     },
     "execution_count": 14,
     "metadata": {},
     "output_type": "execute_result"
    },
    {
     "data": {
      "image/png": "[encoded data removed]",
      "text/plain": [
       "<Figure size 432x288 with 1 Axes>"
      ]
     },
     "metadata": {},
     "output_type": "display_data"
    }
   ],
   "source": [
    "nums.query(\"adsh in @adsh_twit\").query('tag == \"Assets\"') \\\n",
    "    .set_index('ddate')['value'] \\\n",
    "    .sort_index() \\\n",
    "    .plot(kind='bar',\n",
    "          title='Assets at Twitter')"
   ]
  },
  {
   "cell_type": "markdown",
   "id": "9cf9875a",
   "metadata": {
    "papermill": {
     "duration": 0.007422,
     "end_time": "2022-11-14T14:24:06.821583",
     "exception": false,
     "start_time": "2022-11-14T14:24:06.814161",
     "status": "completed"
    },
    "tags": []
   },
   "source": [
    "## Done"
   ]
  }
 ],
 "metadata": {
  "kernelspec": {
   "display_name": "Python 3 (ipykernel)",
   "language": "python",
   "name": "python3"
  },
  "language_info": {
   "codemirror_mode": {
    "name": "ipython",
    "version": 3
   },
   "file_extension": ".py",
   "mimetype": "text/x-python",
   "name": "python",
   "nbconvert_exporter": "python",
   "pygments_lexer": "ipython3",
   "version": "3.8.5"
  },
  "papermill": {
   "default_parameters": {},
   "duration": 225.616455,
   "end_time": "2022-11-14T14:24:08.156821",
   "environment_variables": {},
   "exception": null,
   "input_path": "__notebook__.ipynb",
   "output_path": "__notebook__.ipynb",
   "parameters": {},
   "start_time": "2022-11-14T14:20:22.540366",
   "version": "2.3.4"
  },
  "widgets": {
   "application/vnd.jupyter.widget-state+json": {
    "state": {
     "0d3a230f39244c049eff067727a3fd1f": {
      "model_module": "@jupyter-widgets/controls",
      "model_module_version": "1.5.0",
      "model_name": "DescriptionStyleModel",
      "state": {
       "_model_module": "@jupyter-widgets/controls",
       "_model_module_version": "1.5.0",
       "_model_name": "DescriptionStyleModel",
       "_view_count": null,
       "_view_module": "@jupyter-widgets/base",
       "_view_module_version": "1.2.0",
       "_view_name": "StyleView",
       "description_width": ""
      }
     },
     "16b8c171c1094333b91f6379beff8b4d": {
      "model_module": "@jupyter-widgets/controls",
      "model_module_version": "1.5.0",
      "model_name": "HTMLModel",
      "state": {
       "_dom_classes": [],
       "_model_module": "@jupyter-widgets/controls",
       "_model_module_version": "1.5.0",
       "_model_name": "HTMLModel",
       "_view_count": null,
       "_view_module": "@jupyter-widgets/controls",
       "_view_module_version": "1.5.0",
       "_view_name": "HTMLView",
       "description": "",
       "description_tooltip": null,
       "layout": "IPY_MODEL_3a3f9e8bf8ab426d86373e44e570befe",
       "placeholder": "​",
       "style": "IPY_MODEL_610a15b0ec3c4c86ae770ff19385df73",
       "value": "100%"
      }
     },
     "189aab0d873042418b50282fce457338": {
      "model_module": "@jupyter-widgets/controls",
      "model_module_version": "1.5.0",
      "model_name": "FloatProgressModel",
      "state": {
       "_dom_classes": [],
       "_model_module": "@jupyter-widgets/controls",
       "_model_module_version": "1.5.0",
       "_model_name": "FloatProgressModel",
       "_view_count": null,
       "_view_module": "@jupyter-widgets/controls",
       "_view_module_version": "1.5.0",
       "_view_name": "ProgressView",
       "bar_style": "success",
       "description": "",
       "description_tooltip": null,
       "layout": "IPY_MODEL_1b6c67938b2f4d7db84e4c671e89e01a",
       "max": 22,
       "min": 0,
       "orientation": "horizontal",
       "style": "IPY_MODEL_b0909b7ad6894118ae8666ec20127e1c",
       "value": 22
      }
     },
     "19cbd0b11c9846de90d1873b3b812839": {
      "model_module": "@jupyter-widgets/controls",
      "model_module_version": "1.5.0",
      "model_name": "HBoxModel",
      "state": {
       "_dom_classes": [],
       "_model_module": "@jupyter-widgets/controls",
       "_model_module_version": "1.5.0",
       "_model_name": "HBoxModel",
       "_view_count": null,
       "_view_module": "@jupyter-widgets/controls",
       "_view_module_version": "1.5.0",
       "_view_name": "HBoxView",
       "box_style": "",
       "children": [
        "IPY_MODEL_8f2fbe20d8b94973b5e5d17aec5b4756",
        "IPY_MODEL_8942e4b72c6b464ba16d1184fc3fe25e",
        "IPY_MODEL_787b240123e34ac9925bf01902da8763"
       ],
       "layout": "IPY_MODEL_61bc50678d094c518b02b23a01512745"
      }
     },
     "1b6c67938b2f4d7db84e4c671e89e01a": {
      "model_module": "@jupyter-widgets/base",
      "model_module_version": "1.2.0",
      "model_name": "LayoutModel",
      "state": {
       "_model_module": "@jupyter-widgets/base",
       "_model_module_version": "1.2.0",
       "_model_name": "LayoutModel",
       "_view_count": null,
       "_view_module": "@jupyter-widgets/base",
       "_view_module_version": "1.2.0",
       "_view_name": "LayoutView",
       "align_content": null,
       "align_items": null,
       "align_self": null,
       "border": null,
       "bottom": null,
       "display": null,
       "flex": null,
       "flex_flow": null,
       "grid_area": null,
       "grid_auto_columns": null,
       "grid_auto_flow": null,
       "grid_auto_rows": null,
       "grid_column": null,
       "grid_gap": null,
       "grid_row": null,
       "grid_template_areas": null,
       "grid_template_columns": null,
       "grid_template_rows": null,
       "height": null,
       "justify_content": null,
       "justify_items": null,
       "left": null,
       "margin": null,
       "max_height": null,
       "max_width": null,
       "min_height": null,
       "min_width": null,
       "object_fit": null,
       "object_position": null,
       "order": null,
       "overflow": null,
       "overflow_x": null,
       "overflow_y": null,
       "padding": null,
       "right": null,
       "top": null,
       "visibility": null,
       "width": null
      }
     },
     "2bbb28c6d1d64d4998d939677856e220": {
      "model_module": "@jupyter-widgets/base",
      "model_module_version": "1.2.0",
      "model_name": "LayoutModel",
      "state": {
       "_model_module": "@jupyter-widgets/base",
       "_model_module_version": "1.2.0",
       "_model_name": "LayoutModel",
       "_view_count": null,
       "_view_module": "@jupyter-widgets/base",
       "_view_module_version": "1.2.0",
       "_view_name": "LayoutView",
       "align_content": null,
       "align_items": null,
       "align_self": null,
       "border": null,
       "bottom": null,
       "display": null,
       "flex": null,
       "flex_flow": null,
       "grid_area": null,
       "grid_auto_columns": null,
       "grid_auto_flow": null,
       "grid_auto_rows": null,
       "grid_column": null,
       "grid_gap": null,
       "grid_row": null,
       "grid_template_areas": null,
       "grid_template_columns": null,
       "grid_template_rows": null,
       "height": null,
       "justify_content": null,
       "justify_items": null,
       "left": null,
       "margin": null,
       "max_height": null,
       "max_width": null,
       "min_height": null,
       "min_width": null,
       "object_fit": null,
       "object_position": null,
       "order": null,
       "overflow": null,
       "overflow_x": null,
       "overflow_y": null,
       "padding": null,
       "right": null,
       "top": null,
       "visibility": null,
       "width": null
      }
     },
     "2f334d74ee724645a221078b5cd19e17": {
      "model_module": "@jupyter-widgets/base",
      "model_module_version": "1.2.0",
      "model_name": "LayoutModel",
      "state": {
       "_model_module": "@jupyter-widgets/base",
       "_model_module_version": "1.2.0",
       "_model_name": "LayoutModel",
       "_view_count": null,
       "_view_module": "@jupyter-widgets/base",
       "_view_module_version": "1.2.0",
       "_view_name": "LayoutView",
       "align_content": null,
       "align_items": null,
       "align_self": null,
       "border": null,
       "bottom": null,
       "display": null,
       "flex": null,
       "flex_flow": null,
       "grid_area": null,
       "grid_auto_columns": null,
       "grid_auto_flow": null,
       "grid_auto_rows": null,
       "grid_column": null,
       "grid_gap": null,
       "grid_row": null,
       "grid_template_areas": null,
       "grid_template_columns": null,
       "grid_template_rows": null,
       "height": null,
       "justify_content": null,
       "justify_items": null,
       "left": null,
       "margin": null,
       "max_height": null,
       "max_width": null,
       "min_height": null,
       "min_width": null,
       "object_fit": null,
       "object_position": null,
       "order": null,
       "overflow": null,
       "overflow_x": null,
       "overflow_y": null,
       "padding": null,
       "right": null,
       "top": null,
       "visibility": null,
       "width": null
      }
     },
     "3665f999f2e944b7ab8ec6f6ddc4dd28": {
      "model_module": "@jupyter-widgets/base",
      "model_module_version": "1.2.0",
      "model_name": "LayoutModel",
      "state": {
       "_model_module": "@jupyter-widgets/base",
       "_model_module_version": "1.2.0",
       "_model_name": "LayoutModel",
       "_view_count": null,
       "_view_module": "@jupyter-widgets/base",
       "_view_module_version": "1.2.0",
       "_view_name": "LayoutView",
       "align_content": null,
       "align_items": null,
       "align_self": null,
       "border": null,
       "bottom": null,
       "display": null,
       "flex": null,
       "flex_flow": null,
       "grid_area": null,
       "grid_auto_columns": null,
       "grid_auto_flow": null,
       "grid_auto_rows": null,
       "grid_column": null,
       "grid_gap": null,
       "grid_row": null,
       "grid_template_areas": null,
       "grid_template_columns": null,
       "grid_template_rows": null,
       "height": null,
       "justify_content": null,
       "justify_items": null,
       "left": null,
       "margin": null,
       "max_height": null,
       "max_width": null,
       "min_height": null,
       "min_width": null,
       "object_fit": null,
       "object_position": null,
       "order": null,
       "overflow": null,
       "overflow_x": null,
       "overflow_y": null,
       "padding": null,
       "right": null,
       "top": null,
       "visibility": null,
       "width": null
      }
     },
     "3a3f9e8bf8ab426d86373e44e570befe": {
      "model_module": "@jupyter-widgets/base",
      "model_module_version": "1.2.0",
      "model_name": "LayoutModel",
      "state": {
       "_model_module": "@jupyter-widgets/base",
       "_model_module_version": "1.2.0",
       "_model_name": "LayoutModel",
       "_view_count": null,
       "_view_module": "@jupyter-widgets/base",
       "_view_module_version": "1.2.0",
       "_view_name": "LayoutView",
       "align_content": null,
       "align_items": null,
       "align_self": null,
       "border": null,
       "bottom": null,
       "display": null,
       "flex": null,
       "flex_flow": null,
       "grid_area": null,
       "grid_auto_columns": null,
       "grid_auto_flow": null,
       "grid_auto_rows": null,
       "grid_column": null,
       "grid_gap": null,
       "grid_row": null,
       "grid_template_areas": null,
       "grid_template_columns": null,
       "grid_template_rows": null,
       "height": null,
       "justify_content": null,
       "justify_items": null,
       "left": null,
       "margin": null,
       "max_height": null,
       "max_width": null,
       "min_height": null,
       "min_width": null,
       "object_fit": null,
       "object_position": null,
       "order": null,
       "overflow": null,
       "overflow_x": null,
       "overflow_y": null,
       "padding": null,
       "right": null,
       "top": null,
       "visibility": null,
       "width": null
      }
     },
     "3d956df067d545aa87f75f572e48dcaf": {
      "model_module": "@jupyter-widgets/controls",
      "model_module_version": "1.5.0",
      "model_name": "DescriptionStyleModel",
      "state": {
       "_model_module": "@jupyter-widgets/controls",
       "_model_module_version": "1.5.0",
       "_model_name": "DescriptionStyleModel",
       "_view_count": null,
       "_view_module": "@jupyter-widgets/base",
       "_view_module_version": "1.2.0",
       "_view_name": "StyleView",
       "description_width": ""
      }
     },
     "3fb2256547004619b7d3562e38409d5f": {
      "model_module": "@jupyter-widgets/controls",
      "model_module_version": "1.5.0",
      "model_name": "HTMLModel",
      "state": {
       "_dom_classes": [],
       "_model_module": "@jupyter-widgets/controls",
       "_model_module_version": "1.5.0",
       "_model_name": "HTMLModel",
       "_view_count": null,
       "_view_module": "@jupyter-widgets/controls",
       "_view_module_version": "1.5.0",
       "_view_name": "HTMLView",
       "description": "",
       "description_tooltip": null,
       "layout": "IPY_MODEL_64bb2ee71181425f8ec900ed4783cf41",
       "placeholder": "​",
       "style": "IPY_MODEL_47a6fb1945574badb5c77d83e38548e9",
       "value": "100%"
      }
     },
     "4047137c3db84972aaac1a6b39db566c": {
      "model_module": "@jupyter-widgets/base",
      "model_module_version": "1.2.0",
      "model_name": "LayoutModel",
      "state": {
       "_model_module": "@jupyter-widgets/base",
       "_model_module_version": "1.2.0",
       "_model_name": "LayoutModel",
       "_view_count": null,
       "_view_module": "@jupyter-widgets/base",
       "_view_module_version": "1.2.0",
       "_view_name": "LayoutView",
       "align_content": null,
       "align_items": null,
       "align_self": null,
       "border": null,
       "bottom": null,
       "display": null,
       "flex": null,
       "flex_flow": null,
       "grid_area": null,
       "grid_auto_columns": null,
       "grid_auto_flow": null,
       "grid_auto_rows": null,
       "grid_column": null,
       "grid_gap": null,
       "grid_row": null,
       "grid_template_areas": null,
       "grid_template_columns": null,
       "grid_template_rows": null,
       "height": null,
       "justify_content": null,
       "justify_items": null,
       "left": null,
       "margin": null,
       "max_height": null,
       "max_width": null,
       "min_height": null,
       "min_width": null,
       "object_fit": null,
       "object_position": null,
       "order": null,
       "overflow": null,
       "overflow_x": null,
       "overflow_y": null,
       "padding": null,
       "right": null,
       "top": null,
       "visibility": null,
       "width": null
      }
     },
     "464fafbf1ade42048403d699a26ebcf6": {
      "model_module": "@jupyter-widgets/controls",
      "model_module_version": "1.5.0",
      "model_name": "HTMLModel",
      "state": {
       "_dom_classes": [],
       "_model_module": "@jupyter-widgets/controls",
       "_model_module_version": "1.5.0",
       "_model_name": "HTMLModel",
       "_view_count": null,
       "_view_module": "@jupyter-widgets/controls",
       "_view_module_version": "1.5.0",
       "_view_name": "HTMLView",
       "description": "",
       "description_tooltip": null,
       "layout": "IPY_MODEL_7d4da2bd31fb4d66baff3b22b6ca3f6b",
       "placeholder": "​",
       "style": "IPY_MODEL_be41d35f975641c9ab4b48618b5175ad",
       "value": "100%"
      }
     },
     "47a6fb1945574badb5c77d83e38548e9": {
      "model_module": "@jupyter-widgets/controls",
      "model_module_version": "1.5.0",
      "model_name": "DescriptionStyleModel",
      "state": {
       "_model_module": "@jupyter-widgets/controls",
       "_model_module_version": "1.5.0",
       "_model_name": "DescriptionStyleModel",
       "_view_count": null,
       "_view_module": "@jupyter-widgets/base",
       "_view_module_version": "1.2.0",
       "_view_name": "StyleView",
       "description_width": ""
      }
     },
     "4afc39e6385f4dc0bfd4ddf13d359551": {
      "model_module": "@jupyter-widgets/controls",
      "model_module_version": "1.5.0",
      "model_name": "HTMLModel",
      "state": {
       "_dom_classes": [],
       "_model_module": "@jupyter-widgets/controls",
       "_model_module_version": "1.5.0",
       "_model_name": "HTMLModel",
       "_view_count": null,
       "_view_module": "@jupyter-widgets/controls",
       "_view_module_version": "1.5.0",
       "_view_name": "HTMLView",
       "description": "",
       "description_tooltip": null,
       "layout": "IPY_MODEL_3665f999f2e944b7ab8ec6f6ddc4dd28",
       "placeholder": "​",
       "style": "IPY_MODEL_0d3a230f39244c049eff067727a3fd1f",
       "value": " 11/11 [01:03&lt;00:00,  5.78s/it]"
      }
     },
     "548dc06f54984814a963b86a6c468c38": {
      "model_module": "@jupyter-widgets/controls",
      "model_module_version": "1.5.0",
      "model_name": "DescriptionStyleModel",
      "state": {
       "_model_module": "@jupyter-widgets/controls",
       "_model_module_version": "1.5.0",
       "_model_name": "DescriptionStyleModel",
       "_view_count": null,
       "_view_module": "@jupyter-widgets/base",
       "_view_module_version": "1.2.0",
       "_view_name": "StyleView",
       "description_width": ""
      }
     },
     "5a75d7f18402405589a8ea4ec3212994": {
      "model_module": "@jupyter-widgets/base",
      "model_module_version": "1.2.0",
      "model_name": "LayoutModel",
      "state": {
       "_model_module": "@jupyter-widgets/base",
       "_model_module_version": "1.2.0",
       "_model_name": "LayoutModel",
       "_view_count": null,
       "_view_module": "@jupyter-widgets/base",
       "_view_module_version": "1.2.0",
       "_view_name": "LayoutView",
       "align_content": null,
       "align_items": null,
       "align_self": null,
       "border": null,
       "bottom": null,
       "display": null,
       "flex": null,
       "flex_flow": null,
       "grid_area": null,
       "grid_auto_columns": null,
       "grid_auto_flow": null,
       "grid_auto_rows": null,
       "grid_column": null,
       "grid_gap": null,
       "grid_row": null,
       "grid_template_areas": null,
       "grid_template_columns": null,
       "grid_template_rows": null,
       "height": null,
       "justify_content": null,
       "justify_items": null,
       "left": null,
       "margin": null,
       "max_height": null,
       "max_width": null,
       "min_height": null,
       "min_width": null,
       "object_fit": null,
       "object_position": null,
       "order": null,
       "overflow": null,
       "overflow_x": null,
       "overflow_y": null,
       "padding": null,
       "right": null,
       "top": null,
       "visibility": null,
       "width": null
      }
     },
     "5b4a28e2c22c406aa2179843a9118b6e": {
      "model_module": "@jupyter-widgets/controls",
      "model_module_version": "1.5.0",
      "model_name": "HTMLModel",
      "state": {
       "_dom_classes": [],
       "_model_module": "@jupyter-widgets/controls",
       "_model_module_version": "1.5.0",
       "_model_name": "HTMLModel",
       "_view_count": null,
       "_view_module": "@jupyter-widgets/controls",
       "_view_module_version": "1.5.0",
       "_view_name": "HTMLView",
       "description": "",
       "description_tooltip": null,
       "layout": "IPY_MODEL_bcc0231e00374749b9f937c3b724a8bb",
       "placeholder": "​",
       "style": "IPY_MODEL_3d956df067d545aa87f75f572e48dcaf",
       "value": " 11/11 [00:04&lt;00:00,  2.27it/s]"
      }
     },
     "5baf1dfb8c684ec39c800dc5f5162dcd": {
      "model_module": "@jupyter-widgets/controls",
      "model_module_version": "1.5.0",
      "model_name": "FloatProgressModel",
      "state": {
       "_dom_classes": [],
       "_model_module": "@jupyter-widgets/controls",
       "_model_module_version": "1.5.0",
       "_model_name": "FloatProgressModel",
       "_view_count": null,
       "_view_module": "@jupyter-widgets/controls",
       "_view_module_version": "1.5.0",
       "_view_name": "ProgressView",
       "bar_style": "success",
       "description": "",
       "description_tooltip": null,
       "layout": "IPY_MODEL_f6d5f5de2c654148b94a5f7c1abaacc4",
       "max": 11,
       "min": 0,
       "orientation": "horizontal",
       "style": "IPY_MODEL_686fbfe4073e42878295944dd9e32459",
       "value": 11
      }
     },
     "5d274beb557848148b31490817572d9a": {
      "model_module": "@jupyter-widgets/controls",
      "model_module_version": "1.5.0",
      "model_name": "ProgressStyleModel",
      "state": {
       "_model_module": "@jupyter-widgets/controls",
       "_model_module_version": "1.5.0",
       "_model_name": "ProgressStyleModel",
       "_view_count": null,
       "_view_module": "@jupyter-widgets/base",
       "_view_module_version": "1.2.0",
       "_view_name": "StyleView",
       "bar_color": null,
       "description_width": ""
      }
     },
     "5d6ba6fdc9e34cfbaef2fa656940f159": {
      "model_module": "@jupyter-widgets/base",
      "model_module_version": "1.2.0",
      "model_name": "LayoutModel",
      "state": {
       "_model_module": "@jupyter-widgets/base",
       "_model_module_version": "1.2.0",
       "_model_name": "LayoutModel",
       "_view_count": null,
       "_view_module": "@jupyter-widgets/base",
       "_view_module_version": "1.2.0",
       "_view_name": "LayoutView",
       "align_content": null,
       "align_items": null,
       "align_self": null,
       "border": null,
       "bottom": null,
       "display": null,
       "flex": null,
       "flex_flow": null,
       "grid_area": null,
       "grid_auto_columns": null,
       "grid_auto_flow": null,
       "grid_auto_rows": null,
       "grid_column": null,
       "grid_gap": null,
       "grid_row": null,
       "grid_template_areas": null,
       "grid_template_columns": null,
       "grid_template_rows": null,
       "height": null,
       "justify_content": null,
       "justify_items": null,
       "left": null,
       "margin": null,
       "max_height": null,
       "max_width": null,
       "min_height": null,
       "min_width": null,
       "object_fit": null,
       "object_position": null,
       "order": null,
       "overflow": null,
       "overflow_x": null,
       "overflow_y": null,
       "padding": null,
       "right": null,
       "top": null,
       "visibility": null,
       "width": null
      }
     },
     "5f9150d5a0d54286bbc2a21f821f6e70": {
      "model_module": "@jupyter-widgets/base",
      "model_module_version": "1.2.0",
      "model_name": "LayoutModel",
      "state": {
       "_model_module": "@jupyter-widgets/base",
       "_model_module_version": "1.2.0",
       "_model_name": "LayoutModel",
       "_view_count": null,
       "_view_module": "@jupyter-widgets/base",
       "_view_module_version": "1.2.0",
       "_view_name": "LayoutView",
       "align_content": null,
       "align_items": null,
       "align_self": null,
       "border": null,
       "bottom": null,
       "display": null,
       "flex": null,
       "flex_flow": null,
       "grid_area": null,
       "grid_auto_columns": null,
       "grid_auto_flow": null,
       "grid_auto_rows": null,
       "grid_column": null,
       "grid_gap": null,
       "grid_row": null,
       "grid_template_areas": null,
       "grid_template_columns": null,
       "grid_template_rows": null,
       "height": null,
       "justify_content": null,
       "justify_items": null,
       "left": null,
       "margin": null,
       "max_height": null,
       "max_width": null,
       "min_height": null,
       "min_width": null,
       "object_fit": null,
       "object_position": null,
       "order": null,
       "overflow": null,
       "overflow_x": null,
       "overflow_y": null,
       "padding": null,
       "right": null,
       "top": null,
       "visibility": null,
       "width": null
      }
     },
     "60bc0c931754451691a003623d9f4333": {
      "model_module": "@jupyter-widgets/controls",
      "model_module_version": "1.5.0",
      "model_name": "HBoxModel",
      "state": {
       "_dom_classes": [],
       "_model_module": "@jupyter-widgets/controls",
       "_model_module_version": "1.5.0",
       "_model_name": "HBoxModel",
       "_view_count": null,
       "_view_module": "@jupyter-widgets/controls",
       "_view_module_version": "1.5.0",
       "_view_name": "HBoxView",
       "box_style": "",
       "children": [
        "IPY_MODEL_3fb2256547004619b7d3562e38409d5f",
        "IPY_MODEL_d6067dad53a142b69e02c95b124e2012",
        "IPY_MODEL_bb8a73714ed14544b6192a2e64920e4e"
       ],
       "layout": "IPY_MODEL_b5ca9ce2231b47789ea725c9ee9d610c"
      }
     },
     "60fab868f1844f4c9c641fcba7e1d259": {
      "model_module": "@jupyter-widgets/base",
      "model_module_version": "1.2.0",
      "model_name": "LayoutModel",
      "state": {
       "_model_module": "@jupyter-widgets/base",
       "_model_module_version": "1.2.0",
       "_model_name": "LayoutModel",
       "_view_count": null,
       "_view_module": "@jupyter-widgets/base",
       "_view_module_version": "1.2.0",
       "_view_name": "LayoutView",
       "align_content": null,
       "align_items": null,
       "align_self": null,
       "border": null,
       "bottom": null,
       "display": null,
       "flex": null,
       "flex_flow": null,
       "grid_area": null,
       "grid_auto_columns": null,
       "grid_auto_flow": null,
       "grid_auto_rows": null,
       "grid_column": null,
       "grid_gap": null,
       "grid_row": null,
       "grid_template_areas": null,
       "grid_template_columns": null,
       "grid_template_rows": null,
       "height": null,
       "justify_content": null,
       "justify_items": null,
       "left": null,
       "margin": null,
       "max_height": null,
       "max_width": null,
       "min_height": null,
       "min_width": null,
       "object_fit": null,
       "object_position": null,
       "order": null,
       "overflow": null,
       "overflow_x": null,
       "overflow_y": null,
       "padding": null,
       "right": null,
       "top": null,
       "visibility": null,
       "width": null
      }
     },
     "610a15b0ec3c4c86ae770ff19385df73": {
      "model_module": "@jupyter-widgets/controls",
      "model_module_version": "1.5.0",
      "model_name": "DescriptionStyleModel",
      "state": {
       "_model_module": "@jupyter-widgets/controls",
       "_model_module_version": "1.5.0",
       "_model_name": "DescriptionStyleModel",
       "_view_count": null,
       "_view_module": "@jupyter-widgets/base",
       "_view_module_version": "1.2.0",
       "_view_name": "StyleView",
       "description_width": ""
      }
     },
     "61bc50678d094c518b02b23a01512745": {
      "model_module": "@jupyter-widgets/base",
      "model_module_version": "1.2.0",
      "model_name": "LayoutModel",
      "state": {
       "_model_module": "@jupyter-widgets/base",
       "_model_module_version": "1.2.0",
       "_model_name": "LayoutModel",
       "_view_count": null,
       "_view_module": "@jupyter-widgets/base",
       "_view_module_version": "1.2.0",
       "_view_name": "LayoutView",
       "align_content": null,
       "align_items": null,
       "align_self": null,
       "border": null,
       "bottom": null,
       "display": null,
       "flex": null,
       "flex_flow": null,
       "grid_area": null,
       "grid_auto_columns": null,
       "grid_auto_flow": null,
       "grid_auto_rows": null,
       "grid_column": null,
       "grid_gap": null,
       "grid_row": null,
       "grid_template_areas": null,
       "grid_template_columns": null,
       "grid_template_rows": null,
       "height": null,
       "justify_content": null,
       "justify_items": null,
       "left": null,
       "margin": null,
       "max_height": null,
       "max_width": null,
       "min_height": null,
       "min_width": null,
       "object_fit": null,
       "object_position": null,
       "order": null,
       "overflow": null,
       "overflow_x": null,
       "overflow_y": null,
       "padding": null,
       "right": null,
       "top": null,
       "visibility": null,
       "width": null
      }
     },
     "64bb2ee71181425f8ec900ed4783cf41": {
      "model_module": "@jupyter-widgets/base",
      "model_module_version": "1.2.0",
      "model_name": "LayoutModel",
      "state": {
       "_model_module": "@jupyter-widgets/base",
       "_model_module_version": "1.2.0",
       "_model_name": "LayoutModel",
       "_view_count": null,
       "_view_module": "@jupyter-widgets/base",
       "_view_module_version": "1.2.0",
       "_view_name": "LayoutView",
       "align_content": null,
       "align_items": null,
       "align_self": null,
       "border": null,
       "bottom": null,
       "display": null,
       "flex": null,
       "flex_flow": null,
       "grid_area": null,
       "grid_auto_columns": null,
       "grid_auto_flow": null,
       "grid_auto_rows": null,
       "grid_column": null,
       "grid_gap": null,
       "grid_row": null,
       "grid_template_areas": null,
       "grid_template_columns": null,
       "grid_template_rows": null,
       "height": null,
       "justify_content": null,
       "justify_items": null,
       "left": null,
       "margin": null,
       "max_height": null,
       "max_width": null,
       "min_height": null,
       "min_width": null,
       "object_fit": null,
       "object_position": null,
       "order": null,
       "overflow": null,
       "overflow_x": null,
       "overflow_y": null,
       "padding": null,
       "right": null,
       "top": null,
       "visibility": null,
       "width": null
      }
     },
     "66c1256ad20442e9bcadf7f25341dade": {
      "model_module": "@jupyter-widgets/base",
      "model_module_version": "1.2.0",
      "model_name": "LayoutModel",
      "state": {
       "_model_module": "@jupyter-widgets/base",
       "_model_module_version": "1.2.0",
       "_model_name": "LayoutModel",
       "_view_count": null,
       "_view_module": "@jupyter-widgets/base",
       "_view_module_version": "1.2.0",
       "_view_name": "LayoutView",
       "align_content": null,
       "align_items": null,
       "align_self": null,
       "border": null,
       "bottom": null,
       "display": null,
       "flex": null,
       "flex_flow": null,
       "grid_area": null,
       "grid_auto_columns": null,
       "grid_auto_flow": null,
       "grid_auto_rows": null,
       "grid_column": null,
       "grid_gap": null,
       "grid_row": null,
       "grid_template_areas": null,
       "grid_template_columns": null,
       "grid_template_rows": null,
       "height": null,
       "justify_content": null,
       "justify_items": null,
       "left": null,
       "margin": null,
       "max_height": null,
       "max_width": null,
       "min_height": null,
       "min_width": null,
       "object_fit": null,
       "object_position": null,
       "order": null,
       "overflow": null,
       "overflow_x": null,
       "overflow_y": null,
       "padding": null,
       "right": null,
       "top": null,
       "visibility": null,
       "width": null
      }
     },
     "686fbfe4073e42878295944dd9e32459": {
      "model_module": "@jupyter-widgets/controls",
      "model_module_version": "1.5.0",
      "model_name": "ProgressStyleModel",
      "state": {
       "_model_module": "@jupyter-widgets/controls",
       "_model_module_version": "1.5.0",
       "_model_name": "ProgressStyleModel",
       "_view_count": null,
       "_view_module": "@jupyter-widgets/base",
       "_view_module_version": "1.2.0",
       "_view_name": "StyleView",
       "bar_color": null,
       "description_width": ""
      }
     },
     "70f89c4207d84a39b2cfb4420905cd11": {
      "model_module": "@jupyter-widgets/controls",
      "model_module_version": "1.5.0",
      "model_name": "ProgressStyleModel",
      "state": {
       "_model_module": "@jupyter-widgets/controls",
       "_model_module_version": "1.5.0",
       "_model_name": "ProgressStyleModel",
       "_view_count": null,
       "_view_module": "@jupyter-widgets/base",
       "_view_module_version": "1.2.0",
       "_view_name": "StyleView",
       "bar_color": null,
       "description_width": ""
      }
     },
     "787b240123e34ac9925bf01902da8763": {
      "model_module": "@jupyter-widgets/controls",
      "model_module_version": "1.5.0",
      "model_name": "HTMLModel",
      "state": {
       "_dom_classes": [],
       "_model_module": "@jupyter-widgets/controls",
       "_model_module_version": "1.5.0",
       "_model_name": "HTMLModel",
       "_view_count": null,
       "_view_module": "@jupyter-widgets/controls",
       "_view_module_version": "1.5.0",
       "_view_name": "HTMLView",
       "description": "",
       "description_tooltip": null,
       "layout": "IPY_MODEL_f1f7473570684a71bf07e0e82ed7b320",
       "placeholder": "​",
       "style": "IPY_MODEL_d451d9c38ffd42dab2016e78e402c8c5",
       "value": " 11/11 [00:02&lt;00:00,  5.24it/s]"
      }
     },
     "7d4da2bd31fb4d66baff3b22b6ca3f6b": {
      "model_module": "@jupyter-widgets/base",
      "model_module_version": "1.2.0",
      "model_name": "LayoutModel",
      "state": {
       "_model_module": "@jupyter-widgets/base",
       "_model_module_version": "1.2.0",
       "_model_name": "LayoutModel",
       "_view_count": null,
       "_view_module": "@jupyter-widgets/base",
       "_view_module_version": "1.2.0",
       "_view_name": "LayoutView",
       "align_content": null,
       "align_items": null,
       "align_self": null,
       "border": null,
       "bottom": null,
       "display": null,
       "flex": null,
       "flex_flow": null,
       "grid_area": null,
       "grid_auto_columns": null,
       "grid_auto_flow": null,
       "grid_auto_rows": null,
       "grid_column": null,
       "grid_gap": null,
       "grid_row": null,
       "grid_template_areas": null,
       "grid_template_columns": null,
       "grid_template_rows": null,
       "height": null,
       "justify_content": null,
       "justify_items": null,
       "left": null,
       "margin": null,
       "max_height": null,
       "max_width": null,
       "min_height": null,
       "min_width": null,
       "object_fit": null,
       "object_position": null,
       "order": null,
       "overflow": null,
       "overflow_x": null,
       "overflow_y": null,
       "padding": null,
       "right": null,
       "top": null,
       "visibility": null,
       "width": null
      }
     },
     "8942e4b72c6b464ba16d1184fc3fe25e": {
      "model_module": "@jupyter-widgets/controls",
      "model_module_version": "1.5.0",
      "model_name": "FloatProgressModel",
      "state": {
       "_dom_classes": [],
       "_model_module": "@jupyter-widgets/controls",
       "_model_module_version": "1.5.0",
       "_model_name": "FloatProgressModel",
       "_view_count": null,
       "_view_module": "@jupyter-widgets/controls",
       "_view_module_version": "1.5.0",
       "_view_name": "ProgressView",
       "bar_style": "success",
       "description": "",
       "description_tooltip": null,
       "layout": "IPY_MODEL_5f9150d5a0d54286bbc2a21f821f6e70",
       "max": 11,
       "min": 0,
       "orientation": "horizontal",
       "style": "IPY_MODEL_70f89c4207d84a39b2cfb4420905cd11",
       "value": 11
      }
     },
     "8f2fbe20d8b94973b5e5d17aec5b4756": {
      "model_module": "@jupyter-widgets/controls",
      "model_module_version": "1.5.0",
      "model_name": "HTMLModel",
      "state": {
       "_dom_classes": [],
       "_model_module": "@jupyter-widgets/controls",
       "_model_module_version": "1.5.0",
       "_model_name": "HTMLModel",
       "_view_count": null,
       "_view_module": "@jupyter-widgets/controls",
       "_view_module_version": "1.5.0",
       "_view_name": "HTMLView",
       "description": "",
       "description_tooltip": null,
       "layout": "IPY_MODEL_5a75d7f18402405589a8ea4ec3212994",
       "placeholder": "​",
       "style": "IPY_MODEL_dbd51dc865cd47649abd99bd272de6b4",
       "value": "100%"
      }
     },
     "99cdc93b66af40b386c392064d0fdf37": {
      "model_module": "@jupyter-widgets/controls",
      "model_module_version": "1.5.0",
      "model_name": "HBoxModel",
      "state": {
       "_dom_classes": [],
       "_model_module": "@jupyter-widgets/controls",
       "_model_module_version": "1.5.0",
       "_model_name": "HBoxModel",
       "_view_count": null,
       "_view_module": "@jupyter-widgets/controls",
       "_view_module_version": "1.5.0",
       "_view_name": "HBoxView",
       "box_style": "",
       "children": [
        "IPY_MODEL_16b8c171c1094333b91f6379beff8b4d",
        "IPY_MODEL_189aab0d873042418b50282fce457338",
        "IPY_MODEL_f77d6a8baf5647ea826088de835f9c26"
       ],
       "layout": "IPY_MODEL_d97b16b07d4d4e17b7ad7eee5be201a4"
      }
     },
     "9b098e3e31894a1598e7d097d6a74e40": {
      "model_module": "@jupyter-widgets/controls",
      "model_module_version": "1.5.0",
      "model_name": "HBoxModel",
      "state": {
       "_dom_classes": [],
       "_model_module": "@jupyter-widgets/controls",
       "_model_module_version": "1.5.0",
       "_model_name": "HBoxModel",
       "_view_count": null,
       "_view_module": "@jupyter-widgets/controls",
       "_view_module_version": "1.5.0",
       "_view_name": "HBoxView",
       "box_style": "",
       "children": [
        "IPY_MODEL_464fafbf1ade42048403d699a26ebcf6",
        "IPY_MODEL_5baf1dfb8c684ec39c800dc5f5162dcd",
        "IPY_MODEL_5b4a28e2c22c406aa2179843a9118b6e"
       ],
       "layout": "IPY_MODEL_66c1256ad20442e9bcadf7f25341dade"
      }
     },
     "9ee9107a82c44c809fe2d79e4cbe1d10": {
      "model_module": "@jupyter-widgets/controls",
      "model_module_version": "1.5.0",
      "model_name": "DescriptionStyleModel",
      "state": {
       "_model_module": "@jupyter-widgets/controls",
       "_model_module_version": "1.5.0",
       "_model_name": "DescriptionStyleModel",
       "_view_count": null,
       "_view_module": "@jupyter-widgets/base",
       "_view_module_version": "1.2.0",
       "_view_name": "StyleView",
       "description_width": ""
      }
     },
     "a0f094e0e8a7403287a5c6162cd9461a": {
      "model_module": "@jupyter-widgets/controls",
      "model_module_version": "1.5.0",
      "model_name": "HTMLModel",
      "state": {
       "_dom_classes": [],
       "_model_module": "@jupyter-widgets/controls",
       "_model_module_version": "1.5.0",
       "_model_name": "HTMLModel",
       "_view_count": null,
       "_view_module": "@jupyter-widgets/controls",
       "_view_module_version": "1.5.0",
       "_view_name": "HTMLView",
       "description": "",
       "description_tooltip": null,
       "layout": "IPY_MODEL_4047137c3db84972aaac1a6b39db566c",
       "placeholder": "​",
       "style": "IPY_MODEL_cccd2583caae4cde8e3afb23c80a46e5",
       "value": "100%"
      }
     },
     "a1e3689cfee04be6a76a57fec46ffaa0": {
      "model_module": "@jupyter-widgets/base",
      "model_module_version": "1.2.0",
      "model_name": "LayoutModel",
      "state": {
       "_model_module": "@jupyter-widgets/base",
       "_model_module_version": "1.2.0",
       "_model_name": "LayoutModel",
       "_view_count": null,
       "_view_module": "@jupyter-widgets/base",
       "_view_module_version": "1.2.0",
       "_view_name": "LayoutView",
       "align_content": null,
       "align_items": null,
       "align_self": null,
       "border": null,
       "bottom": null,
       "display": null,
       "flex": null,
       "flex_flow": null,
       "grid_area": null,
       "grid_auto_columns": null,
       "grid_auto_flow": null,
       "grid_auto_rows": null,
       "grid_column": null,
       "grid_gap": null,
       "grid_row": null,
       "grid_template_areas": null,
       "grid_template_columns": null,
       "grid_template_rows": null,
       "height": null,
       "justify_content": null,
       "justify_items": null,
       "left": null,
       "margin": null,
       "max_height": null,
       "max_width": null,
       "min_height": null,
       "min_width": null,
       "object_fit": null,
       "object_position": null,
       "order": null,
       "overflow": null,
       "overflow_x": null,
       "overflow_y": null,
       "padding": null,
       "right": null,
       "top": null,
       "visibility": null,
       "width": null
      }
     },
     "b0909b7ad6894118ae8666ec20127e1c": {
      "model_module": "@jupyter-widgets/controls",
      "model_module_version": "1.5.0",
      "model_name": "ProgressStyleModel",
      "state": {
       "_model_module": "@jupyter-widgets/controls",
       "_model_module_version": "1.5.0",
       "_model_name": "ProgressStyleModel",
       "_view_count": null,
       "_view_module": "@jupyter-widgets/base",
       "_view_module_version": "1.2.0",
       "_view_name": "StyleView",
       "bar_color": null,
       "description_width": ""
      }
     },
     "b5ca9ce2231b47789ea725c9ee9d610c": {
      "model_module": "@jupyter-widgets/base",
      "model_module_version": "1.2.0",
      "model_name": "LayoutModel",
      "state": {
       "_model_module": "@jupyter-widgets/base",
       "_model_module_version": "1.2.0",
       "_model_name": "LayoutModel",
       "_view_count": null,
       "_view_module": "@jupyter-widgets/base",
       "_view_module_version": "1.2.0",
       "_view_name": "LayoutView",
       "align_content": null,
       "align_items": null,
       "align_self": null,
       "border": null,
       "bottom": null,
       "display": null,
       "flex": null,
       "flex_flow": null,
       "grid_area": null,
       "grid_auto_columns": null,
       "grid_auto_flow": null,
       "grid_auto_rows": null,
       "grid_column": null,
       "grid_gap": null,
       "grid_row": null,
       "grid_template_areas": null,
       "grid_template_columns": null,
       "grid_template_rows": null,
       "height": null,
       "justify_content": null,
       "justify_items": null,
       "left": null,
       "margin": null,
       "max_height": null,
       "max_width": null,
       "min_height": null,
       "min_width": null,
       "object_fit": null,
       "object_position": null,
       "order": null,
       "overflow": null,
       "overflow_x": null,
       "overflow_y": null,
       "padding": null,
       "right": null,
       "top": null,
       "visibility": null,
       "width": null
      }
     },
     "bb8a73714ed14544b6192a2e64920e4e": {
      "model_module": "@jupyter-widgets/controls",
      "model_module_version": "1.5.0",
      "model_name": "HTMLModel",
      "state": {
       "_dom_classes": [],
       "_model_module": "@jupyter-widgets/controls",
       "_model_module_version": "1.5.0",
       "_model_name": "HTMLModel",
       "_view_count": null,
       "_view_module": "@jupyter-widgets/controls",
       "_view_module_version": "1.5.0",
       "_view_name": "HTMLView",
       "description": "",
       "description_tooltip": null,
       "layout": "IPY_MODEL_2f334d74ee724645a221078b5cd19e17",
       "placeholder": "​",
       "style": "IPY_MODEL_548dc06f54984814a963b86a6c468c38",
       "value": " 22/22 [00:38&lt;00:00,  3.67s/it]"
      }
     },
     "bcc0231e00374749b9f937c3b724a8bb": {
      "model_module": "@jupyter-widgets/base",
      "model_module_version": "1.2.0",
      "model_name": "LayoutModel",
      "state": {
       "_model_module": "@jupyter-widgets/base",
       "_model_module_version": "1.2.0",
       "_model_name": "LayoutModel",
       "_view_count": null,
       "_view_module": "@jupyter-widgets/base",
       "_view_module_version": "1.2.0",
       "_view_name": "LayoutView",
       "align_content": null,
       "align_items": null,
       "align_self": null,
       "border": null,
       "bottom": null,
       "display": null,
       "flex": null,
       "flex_flow": null,
       "grid_area": null,
       "grid_auto_columns": null,
       "grid_auto_flow": null,
       "grid_auto_rows": null,
       "grid_column": null,
       "grid_gap": null,
       "grid_row": null,
       "grid_template_areas": null,
       "grid_template_columns": null,
       "grid_template_rows": null,
       "height": null,
       "justify_content": null,
       "justify_items": null,
       "left": null,
       "margin": null,
       "max_height": null,
       "max_width": null,
       "min_height": null,
       "min_width": null,
       "object_fit": null,
       "object_position": null,
       "order": null,
       "overflow": null,
       "overflow_x": null,
       "overflow_y": null,
       "padding": null,
       "right": null,
       "top": null,
       "visibility": null,
       "width": null
      }
     },
     "be41d35f975641c9ab4b48618b5175ad": {
      "model_module": "@jupyter-widgets/controls",
      "model_module_version": "1.5.0",
      "model_name": "DescriptionStyleModel",
      "state": {
       "_model_module": "@jupyter-widgets/controls",
       "_model_module_version": "1.5.0",
       "_model_name": "DescriptionStyleModel",
       "_view_count": null,
       "_view_module": "@jupyter-widgets/base",
       "_view_module_version": "1.2.0",
       "_view_name": "StyleView",
       "description_width": ""
      }
     },
     "bfc19cccf4e443518d02251e4bae04e6": {
      "model_module": "@jupyter-widgets/controls",
      "model_module_version": "1.5.0",
      "model_name": "HBoxModel",
      "state": {
       "_dom_classes": [],
       "_model_module": "@jupyter-widgets/controls",
       "_model_module_version": "1.5.0",
       "_model_name": "HBoxModel",
       "_view_count": null,
       "_view_module": "@jupyter-widgets/controls",
       "_view_module_version": "1.5.0",
       "_view_name": "HBoxView",
       "box_style": "",
       "children": [
        "IPY_MODEL_a0f094e0e8a7403287a5c6162cd9461a",
        "IPY_MODEL_c6148f14d3264a7f98dc5024da731d59",
        "IPY_MODEL_4afc39e6385f4dc0bfd4ddf13d359551"
       ],
       "layout": "IPY_MODEL_a1e3689cfee04be6a76a57fec46ffaa0"
      }
     },
     "c6148f14d3264a7f98dc5024da731d59": {
      "model_module": "@jupyter-widgets/controls",
      "model_module_version": "1.5.0",
      "model_name": "FloatProgressModel",
      "state": {
       "_dom_classes": [],
       "_model_module": "@jupyter-widgets/controls",
       "_model_module_version": "1.5.0",
       "_model_name": "FloatProgressModel",
       "_view_count": null,
       "_view_module": "@jupyter-widgets/controls",
       "_view_module_version": "1.5.0",
       "_view_name": "ProgressView",
       "bar_style": "success",
       "description": "",
       "description_tooltip": null,
       "layout": "IPY_MODEL_2bbb28c6d1d64d4998d939677856e220",
       "max": 11,
       "min": 0,
       "orientation": "horizontal",
       "style": "IPY_MODEL_e6995f1c87414bf3bf1b21cff9c43d1c",
       "value": 11
      }
     },
     "cccd2583caae4cde8e3afb23c80a46e5": {
      "model_module": "@jupyter-widgets/controls",
      "model_module_version": "1.5.0",
      "model_name": "DescriptionStyleModel",
      "state": {
       "_model_module": "@jupyter-widgets/controls",
       "_model_module_version": "1.5.0",
       "_model_name": "DescriptionStyleModel",
       "_view_count": null,
       "_view_module": "@jupyter-widgets/base",
       "_view_module_version": "1.2.0",
       "_view_name": "StyleView",
       "description_width": ""
      }
     },
     "d451d9c38ffd42dab2016e78e402c8c5": {
      "model_module": "@jupyter-widgets/controls",
      "model_module_version": "1.5.0",
      "model_name": "DescriptionStyleModel",
      "state": {
       "_model_module": "@jupyter-widgets/controls",
       "_model_module_version": "1.5.0",
       "_model_name": "DescriptionStyleModel",
       "_view_count": null,
       "_view_module": "@jupyter-widgets/base",
       "_view_module_version": "1.2.0",
       "_view_name": "StyleView",
       "description_width": ""
      }
     },
     "d6067dad53a142b69e02c95b124e2012": {
      "model_module": "@jupyter-widgets/controls",
      "model_module_version": "1.5.0",
      "model_name": "FloatProgressModel",
      "state": {
       "_dom_classes": [],
       "_model_module": "@jupyter-widgets/controls",
       "_model_module_version": "1.5.0",
       "_model_name": "FloatProgressModel",
       "_view_count": null,
       "_view_module": "@jupyter-widgets/controls",
       "_view_module_version": "1.5.0",
       "_view_name": "ProgressView",
       "bar_style": "success",
       "description": "",
       "description_tooltip": null,
       "layout": "IPY_MODEL_5d6ba6fdc9e34cfbaef2fa656940f159",
       "max": 22,
       "min": 0,
       "orientation": "horizontal",
       "style": "IPY_MODEL_5d274beb557848148b31490817572d9a",
       "value": 22
      }
     },
     "d97b16b07d4d4e17b7ad7eee5be201a4": {
      "model_module": "@jupyter-widgets/base",
      "model_module_version": "1.2.0",
      "model_name": "LayoutModel",
      "state": {
       "_model_module": "@jupyter-widgets/base",
       "_model_module_version": "1.2.0",
       "_model_name": "LayoutModel",
       "_view_count": null,
       "_view_module": "@jupyter-widgets/base",
       "_view_module_version": "1.2.0",
       "_view_name": "LayoutView",
       "align_content": null,
       "align_items": null,
       "align_self": null,
       "border": null,
       "bottom": null,
       "display": null,
       "flex": null,
       "flex_flow": null,
       "grid_area": null,
       "grid_auto_columns": null,
       "grid_auto_flow": null,
       "grid_auto_rows": null,
       "grid_column": null,
       "grid_gap": null,
       "grid_row": null,
       "grid_template_areas": null,
       "grid_template_columns": null,
       "grid_template_rows": null,
       "height": null,
       "justify_content": null,
       "justify_items": null,
       "left": null,
       "margin": null,
       "max_height": null,
       "max_width": null,
       "min_height": null,
       "min_width": null,
       "object_fit": null,
       "object_position": null,
       "order": null,
       "overflow": null,
       "overflow_x": null,
       "overflow_y": null,
       "padding": null,
       "right": null,
       "top": null,
       "visibility": null,
       "width": null
      }
     },
     "dbd51dc865cd47649abd99bd272de6b4": {
      "model_module": "@jupyter-widgets/controls",
      "model_module_version": "1.5.0",
      "model_name": "DescriptionStyleModel",
      "state": {
       "_model_module": "@jupyter-widgets/controls",
       "_model_module_version": "1.5.0",
       "_model_name": "DescriptionStyleModel",
       "_view_count": null,
       "_view_module": "@jupyter-widgets/base",
       "_view_module_version": "1.2.0",
       "_view_name": "StyleView",
       "description_width": ""
      }
     },
     "e6995f1c87414bf3bf1b21cff9c43d1c": {
      "model_module": "@jupyter-widgets/controls",
      "model_module_version": "1.5.0",
      "model_name": "ProgressStyleModel",
      "state": {
       "_model_module": "@jupyter-widgets/controls",
       "_model_module_version": "1.5.0",
       "_model_name": "ProgressStyleModel",
       "_view_count": null,
       "_view_module": "@jupyter-widgets/base",
       "_view_module_version": "1.2.0",
       "_view_name": "StyleView",
       "bar_color": null,
       "description_width": ""
      }
     },
     "f1f7473570684a71bf07e0e82ed7b320": {
      "model_module": "@jupyter-widgets/base",
      "model_module_version": "1.2.0",
      "model_name": "LayoutModel",
      "state": {
       "_model_module": "@jupyter-widgets/base",
       "_model_module_version": "1.2.0",
       "_model_name": "LayoutModel",
       "_view_count": null,
       "_view_module": "@jupyter-widgets/base",
       "_view_module_version": "1.2.0",
       "_view_name": "LayoutView",
       "align_content": null,
       "align_items": null,
       "align_self": null,
       "border": null,
       "bottom": null,
       "display": null,
       "flex": null,
       "flex_flow": null,
       "grid_area": null,
       "grid_auto_columns": null,
       "grid_auto_flow": null,
       "grid_auto_rows": null,
       "grid_column": null,
       "grid_gap": null,
       "grid_row": null,
       "grid_template_areas": null,
       "grid_template_columns": null,
       "grid_template_rows": null,
       "height": null,
       "justify_content": null,
       "justify_items": null,
       "left": null,
       "margin": null,
       "max_height": null,
       "max_width": null,
       "min_height": null,
       "min_width": null,
       "object_fit": null,
       "object_position": null,
       "order": null,
       "overflow": null,
       "overflow_x": null,
       "overflow_y": null,
       "padding": null,
       "right": null,
       "top": null,
       "visibility": null,
       "width": null
      }
     },
     "f6d5f5de2c654148b94a5f7c1abaacc4": {
      "model_module": "@jupyter-widgets/base",
      "model_module_version": "1.2.0",
      "model_name": "LayoutModel",
      "state": {
       "_model_module": "@jupyter-widgets/base",
       "_model_module_version": "1.2.0",
       "_model_name": "LayoutModel",
       "_view_count": null,
       "_view_module": "@jupyter-widgets/base",
       "_view_module_version": "1.2.0",
       "_view_name": "LayoutView",
       "align_content": null,
       "align_items": null,
       "align_self": null,
       "border": null,
       "bottom": null,
       "display": null,
       "flex": null,
       "flex_flow": null,
       "grid_area": null,
       "grid_auto_columns": null,
       "grid_auto_flow": null,
       "grid_auto_rows": null,
       "grid_column": null,
       "grid_gap": null,
       "grid_row": null,
       "grid_template_areas": null,
       "grid_template_columns": null,
       "grid_template_rows": null,
       "height": null,
       "justify_content": null,
       "justify_items": null,
       "left": null,
       "margin": null,
       "max_height": null,
       "max_width": null,
       "min_height": null,
       "min_width": null,
       "object_fit": null,
       "object_position": null,
       "order": null,
       "overflow": null,
       "overflow_x": null,
       "overflow_y": null,
       "padding": null,
       "right": null,
       "top": null,
       "visibility": null,
       "width": null
      }
     },
     "f77d6a8baf5647ea826088de835f9c26": {
      "model_module": "@jupyter-widgets/controls",
      "model_module_version": "1.5.0",
      "model_name": "HTMLModel",
      "state": {
       "_dom_classes": [],
       "_model_module": "@jupyter-widgets/controls",
       "_model_module_version": "1.5.0",
       "_model_name": "HTMLModel",
       "_view_count": null,
       "_view_module": "@jupyter-widgets/controls",
       "_view_module_version": "1.5.0",
       "_view_name": "HTMLView",
       "description": "",
       "description_tooltip": null,
       "layout": "IPY_MODEL_60fab868f1844f4c9c641fcba7e1d259",
       "placeholder": "​",
       "style": "IPY_MODEL_9ee9107a82c44c809fe2d79e4cbe1d10",
       "value": " 22/22 [01:10&lt;00:00,  6.71s/it]"
      }
     }
    },
    "version_major": 2,
    "version_minor": 0
   }
  }
 },
 "nbformat": 4,
 "nbformat_minor": 5
}
