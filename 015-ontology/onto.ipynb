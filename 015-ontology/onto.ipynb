{
 "cells": [
  {
   "cell_type": "markdown",
   "id": "f619220c-26d7-4965-a579-191966bd3dbf",
   "metadata": {},
   "source": [
    "# Ontology"
   ]
  },
  {
   "cell_type": "code",
   "execution_count": 1,
   "id": "249f59d0-2047-4b66-a918-a1a0f7fd8022",
   "metadata": {},
   "outputs": [],
   "source": [
    "%load_ext lab_black"
   ]
  },
  {
   "cell_type": "code",
   "execution_count": 33,
   "id": "e28bab7a-6c90-4a19-8d15-d399c86640f3",
   "metadata": {},
   "outputs": [],
   "source": [
    "from owlready2 import get_ontology, onto_path, sync_reasoner"
   ]
  },
  {
   "cell_type": "code",
   "execution_count": 3,
   "id": "eac9cde5-199b-49ee-ab08-67b01fb5d5e3",
   "metadata": {},
   "outputs": [
    {
     "data": {
      "text/plain": [
       "get_ontology(\"http://www.lesfleursdunormal.fr/static/_downloads/pizza_onto.owl#\")"
      ]
     },
     "execution_count": 3,
     "metadata": {},
     "output_type": "execute_result"
    }
   ],
   "source": [
    "# Download the onto\n",
    "onto = get_ontology(\"http://www.lesfleursdunormal.fr/static/_downloads/pizza_onto.owl\")\n",
    "onto.load()"
   ]
  },
  {
   "cell_type": "code",
   "execution_count": 5,
   "id": "b3392942-516f-47f4-a411-8201afd105ad",
   "metadata": {},
   "outputs": [],
   "source": [
    "class NonVegetarianPizza(onto.Pizza):\n",
    "    \"\"\"\n",
    "    Class representing a type of pizza.\n",
    "    \"\"\"\n",
    "\n",
    "    equivalent_to = [\n",
    "        onto.Pizza\n",
    "        & (\n",
    "            onto.has_topping.some(onto.MeatTopping)\n",
    "            | onto.has_topping.some(onto.FishTopping)\n",
    "        )\n",
    "    ]\n",
    "\n",
    "    def eat(self):\n",
    "        print(\"Beurk! I'm vegetarian!\")"
   ]
  },
  {
   "cell_type": "code",
   "execution_count": 7,
   "id": "fb8d5a28-503d-4a89-902b-3f31f5048861",
   "metadata": {},
   "outputs": [
    {
     "name": "stdout",
     "output_type": "stream",
     "text": [
      "pizza_onto.CheeseTopping\n",
      "pizza_onto.FishTopping\n",
      "pizza_onto.MeatTopping\n",
      "pizza_onto.Pizza\n",
      "pizza_onto.TomatoTopping\n",
      "pizza_onto.Topping\n",
      "pizza_onto.NonVegetarianPizza\n"
     ]
    }
   ],
   "source": [
    "for c in onto.classes():\n",
    "    print(c)"
   ]
  },
  {
   "cell_type": "code",
   "execution_count": 8,
   "id": "482130bc-8d9d-4929-be42-f854a4c91fe0",
   "metadata": {},
   "outputs": [
    {
     "data": {
      "text/plain": [
       "pizza_onto.Pizza"
      ]
     },
     "execution_count": 8,
     "metadata": {},
     "output_type": "execute_result"
    }
   ],
   "source": [
    "onto.Pizza"
   ]
  },
  {
   "cell_type": "code",
   "execution_count": 9,
   "id": "f4085f9e-f00b-4506-8c86-a2e271b17346",
   "metadata": {},
   "outputs": [],
   "source": [
    "test_pizza = onto.Pizza(\"test_pizza_owl_identifier\")"
   ]
  },
  {
   "cell_type": "code",
   "execution_count": 24,
   "id": "d8fdf81e-17bd-4efc-8a2b-7a27b002f842",
   "metadata": {},
   "outputs": [],
   "source": [
    "test_pizza.has_topping = [onto.CheeseTopping(), onto.TomatoTopping()]"
   ]
  },
  {
   "cell_type": "code",
   "execution_count": 26,
   "id": "3d127a24-573a-43d8-8d18-f4acd68024e0",
   "metadata": {},
   "outputs": [],
   "source": [
    "test_pizza.has_topping.append(onto.MeatTopping())"
   ]
  },
  {
   "cell_type": "code",
   "execution_count": 31,
   "id": "06409e82-f704-4ffb-b19e-92ca77de0ff7",
   "metadata": {},
   "outputs": [
    {
     "data": {
      "text/plain": [
       "pizza_onto.Pizza"
      ]
     },
     "execution_count": 31,
     "metadata": {},
     "output_type": "execute_result"
    }
   ],
   "source": [
    "test_pizza.__class__"
   ]
  },
  {
   "cell_type": "code",
   "execution_count": 34,
   "id": "ca7554c1-753d-43ca-acf7-6ef599e00935",
   "metadata": {},
   "outputs": [
    {
     "name": "stderr",
     "output_type": "stream",
     "text": [
      "* Owlready2 * Running HermiT...\n",
      "    java -Xmx2000M -cp /home/robmulla/anaconda3/envs/kaggle2/lib/python3.8/site-packages/owlready2/hermit:/home/robmulla/anaconda3/envs/kaggle2/lib/python3.8/site-packages/owlready2/hermit/HermiT.jar org.semanticweb.HermiT.cli.CommandLine -c -O -D -I file:////tmp/tmp9k_yda8v\n",
      "* Owlready2 * HermiT took 0.7541608810424805 seconds\n",
      "* Owlready * Reparenting pizza_onto.test_pizza_owl_identifier: {pizza_onto.Pizza} => {pizza_onto.NonVegetarianPizza}\n",
      "* Owlready * (NB: only changes on entities loaded in Python are shown, other changes are done but not listed)\n"
     ]
    }
   ],
   "source": [
    "sync_reasoner()"
   ]
  },
  {
   "cell_type": "code",
   "execution_count": 37,
   "id": "732c0ef9-bd47-4649-9389-da4c6b0ccea7",
   "metadata": {},
   "outputs": [
    {
     "name": "stdout",
     "output_type": "stream",
     "text": [
      "Beurk! I'm vegetarian!\n"
     ]
    }
   ],
   "source": [
    "test_pizza.eat()"
   ]
  },
  {
   "cell_type": "markdown",
   "id": "c32d1a32-ff63-4b8e-97bb-b52969b47a8b",
   "metadata": {},
   "source": [
    "# Load in Gene Ontology"
   ]
  },
  {
   "cell_type": "code",
   "execution_count": 38,
   "id": "419addd9-6eb1-486e-be7e-b946ca3992a1",
   "metadata": {},
   "outputs": [],
   "source": [
    "go = get_ontology(\"http://purl.obolibrary.org/obo/go.owl\").load()"
   ]
  },
  {
   "cell_type": "code",
   "execution_count": 42,
   "id": "92148f40-8b73-4064-913b-f0afe741d5e3",
   "metadata": {},
   "outputs": [],
   "source": [
    "# go.get_children_of('the corn')"
   ]
  }
 ],
 "metadata": {
  "kernelspec": {
   "display_name": "Python 3 (ipykernel)",
   "language": "python",
   "name": "python3"
  },
  "language_info": {
   "codemirror_mode": {
    "name": "ipython",
    "version": 3
   },
   "file_extension": ".py",
   "mimetype": "text/x-python",
   "name": "python",
   "nbconvert_exporter": "python",
   "pygments_lexer": "ipython3",
   "version": "3.8.5"
  }
 },
 "nbformat": 4,
 "nbformat_minor": 5
}
