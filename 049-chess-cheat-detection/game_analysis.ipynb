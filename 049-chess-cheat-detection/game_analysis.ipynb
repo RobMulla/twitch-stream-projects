{
 "cells": [
  {
   "cell_type": "markdown",
   "id": "88487ac1-a694-4eb2-b156-1bdadcf95a91",
   "metadata": {},
   "source": [
    "# Game Analysis using Engine"
   ]
  },
  {
   "cell_type": "code",
   "execution_count": 1,
   "id": "854e630c-d66b-483b-8a4d-ce61e09fcddf",
   "metadata": {},
   "outputs": [],
   "source": [
    "import pandas as pd\n",
    "import numpy as np\n",
    "import chess.pgn\n",
    "import io\n",
    "\n",
    "%load_ext lab_black"
   ]
  },
  {
   "cell_type": "code",
   "execution_count": 2,
   "id": "bececd11-3f08-439d-898b-9a6c22d5bcf4",
   "metadata": {},
   "outputs": [
    {
     "name": "stdout",
     "output_type": "stream",
     "text": [
      "Number of messed up games 3\n"
     ]
    }
   ],
   "source": [
    "df = pd.read_parquet(\"games/Caruana.parquet\")\n",
    "\n",
    "players = pd.Series(np.concatenate([df[\"Black\"].values, df[\"White\"].values]))\n",
    "\n",
    "myplayer = players.value_counts().index[0]\n",
    "\n",
    "df.loc[df[\"White\"] == myplayer, \"playing_as\"] = \"White\"\n",
    "df.loc[df[\"Black\"] == myplayer, \"playing_as\"] = \"Black\"\n",
    "messedup = df[\"playing_as\"].isna().sum()\n",
    "print(f\"Number of messed up games {messedup}\")\n",
    "df_subset = (\n",
    "    df.query(\"Online == False\")\n",
    "    .query(\"Date_clean >= 2021\")\n",
    "    .reset_index(drop=True)\n",
    "    .copy()\n",
    ")"
   ]
  },
  {
   "cell_type": "markdown",
   "id": "b3abbb0a-6ac0-42a1-9063-59c89444ee7f",
   "metadata": {},
   "source": [
    "# Stockfish 15"
   ]
  },
  {
   "cell_type": "code",
   "execution_count": 53,
   "id": "9810014a-2938-4de3-a642-196dd2875ef4",
   "metadata": {},
   "outputs": [],
   "source": [
    "sf = \"/home/robmulla/Downloads/stockfish_15_linux_x64/stockfish_15_src/src/stockfish\"\n",
    "from stockfish import Stockfish\n",
    "\n",
    "stockfish = Stockfish(\n",
    "    path=sf, depth=15, parameters={\"Threads\": 32, \"Minimum Thinking Time\": 5}\n",
    ")"
   ]
  },
  {
   "cell_type": "markdown",
   "id": "14f51e7d-452b-4685-8126-18a90bdba0c5",
   "metadata": {},
   "source": [
    "# Use stockfish to evaluate"
   ]
  },
  {
   "cell_type": "code",
   "execution_count": 54,
   "id": "671649e6-2f0f-42ec-85c3-dd6ab00dbbf6",
   "metadata": {},
   "outputs": [],
   "source": [
    "from tqdm.notebook import tqdm"
   ]
  },
  {
   "cell_type": "code",
   "execution_count": 87,
   "id": "4e24cfa3-794f-4137-ae55-bdd8aee88ff5",
   "metadata": {},
   "outputs": [],
   "source": [
    "def get_game_corr(game, playing_as):\n",
    "    board = game.board()\n",
    "    n_moves = len([m for m in game.mainline_moves()])\n",
    "    engine_cps = []\n",
    "    played_cps = []\n",
    "    top_moves = []\n",
    "    played_moves = []\n",
    "    for move in tqdm(game.mainline_moves(), total=n_moves):\n",
    "\n",
    "        if playing_as == \"White\" and board.turn == True:\n",
    "            stockfish.set_fen_position(board.fen())\n",
    "            top = stockfish.get_top_moves(10)\n",
    "            best_move = top[0][\"Move\"]\n",
    "            best_centipawn = top[0][\"Centipawn\"]\n",
    "            # White's move\n",
    "            board.push(move)\n",
    "            stockfish.set_fen_position(board.fen())\n",
    "            evaluation = stockfish.get_evaluation()[\"value\"]\n",
    "            # print(f\"{best_move}: {best_centipawn} - {move}: {evaluation}\")\n",
    "            top_moves.append(top)\n",
    "            engine_cps.append(best_centipawn)\n",
    "            played_cps.append(evaluation)\n",
    "            played_moves.append(move)\n",
    "\n",
    "        elif playing_as == \"Black\" and board.turn == False:\n",
    "            # black's move\n",
    "            stockfish.set_fen_position(board.fen())\n",
    "            top = stockfish.get_top_moves(10)\n",
    "            best_move = top[0][\"Move\"]\n",
    "            best_centipawn = top[0][\"Centipawn\"]\n",
    "            board.push(move)\n",
    "            stockfish.set_fen_position(board.fen())\n",
    "            evaluation = stockfish.get_evaluation()[\"value\"]\n",
    "            # print(f\"{best_move}: {best_centipawn} - {move}: {evaluation}\")\n",
    "            top_moves.append(top)\n",
    "            engine_cps.append(best_centipawn)\n",
    "            played_cps.append(evaluation)\n",
    "            played_moves.append(move)\n",
    "        else:\n",
    "            board.push(move)\n",
    "    corr = np.corrcoef([engine_cps, played_cps])[1, 0]\n",
    "    return top_moves, played_moves, engine_cps, played_cps, corr"
   ]
  },
  {
   "cell_type": "code",
   "execution_count": 56,
   "id": "bdf4f503-910b-448e-b57d-050bcb80883e",
   "metadata": {},
   "outputs": [
    {
     "data": {
      "application/vnd.jupyter.widget-view+json": {
       "model_id": "dbe0ac778f2f475487071d100cfd0e9b",
       "version_major": 2,
       "version_minor": 0
      },
      "text/plain": [
       "0it [00:00, ?it/s]"
      ]
     },
     "metadata": {},
     "output_type": "display_data"
    },
    {
     "name": "stdout",
     "output_type": "stream",
     "text": [
      "2021.01.16 83rd Tata Steel Masters Van Foreest,Jorden Caruana,F 1/2-1/2 0.6850348581203665\n"
     ]
    }
   ],
   "source": [
    "for i, d in df_subset.iterrows():\n",
    "    pgn = io.StringIO(d[\"mainline_moves\"])\n",
    "    game = chess.pgn.read_game(pgn)\n",
    "    top_moves, played_moves, engine_cps, played_cps, corr = get_game_corr(\n",
    "        game, playing_as=d[\"playing_as\"]\n",
    "    )\n",
    "    print(d[\"Date\"], d[\"Event\"], d[\"Black\"], d[\"White\"], d[\"Result\"], corr)\n",
    "    break"
   ]
  },
  {
   "cell_type": "code",
   "execution_count": 57,
   "id": "c510d53d-b246-4e9f-9171-e568bbc98cee",
   "metadata": {},
   "outputs": [
    {
     "data": {
      "text/plain": [
       "(62, -31)"
      ]
     },
     "execution_count": 57,
     "metadata": {},
     "output_type": "execute_result"
    }
   ],
   "source": [
    "engine_cps[11], played_cps[11]"
   ]
  },
  {
   "cell_type": "code",
   "execution_count": 62,
   "id": "09b5777e-5551-4a77-8354-3919d2521199",
   "metadata": {},
   "outputs": [
    {
     "data": {
      "text/plain": [
       "<AxesSubplot:>"
      ]
     },
     "execution_count": 62,
     "metadata": {},
     "output_type": "execute_result"
    },
    {
     "data": {
      "image/png": "[encoded data removed]",
      "text/plain": [
       "<Figure size 1080x360 with 1 Axes>"
      ]
     },
     "metadata": {
      "needs_background": "light"
     },
     "output_type": "display_data"
    }
   ],
   "source": [
    "pd.DataFrame([engine_cps, played_cps]).T.rename(\n",
    "    columns={0: \"engine\", 1: \"played\"}\n",
    ").plot(figsize=(15, 5), style=\".-\")"
   ]
  },
  {
   "cell_type": "code",
   "execution_count": 63,
   "id": "0a6fbd10-238b-449c-9961-afaa884a3f25",
   "metadata": {},
   "outputs": [
    {
     "data": {
      "text/plain": [
       "0.6850348581203666"
      ]
     },
     "execution_count": 63,
     "metadata": {},
     "output_type": "execute_result"
    }
   ],
   "source": [
    "pd.DataFrame([engine_cps, played_cps]).T.corr()[0][1]"
   ]
  },
  {
   "cell_type": "code",
   "execution_count": 65,
   "id": "ab53edf1-37c2-49a5-a2f1-db70cb004bb4",
   "metadata": {},
   "outputs": [
    {
     "data": {
      "text/plain": [
       "[{'Move': 'a3a8', 'Centipawn': 305, 'Mate': None},\n",
       " {'Move': 'a3a1', 'Centipawn': 173, 'Mate': None},\n",
       " {'Move': 'a3a7', 'Centipawn': 160, 'Mate': None},\n",
       " {'Move': 'a3a4', 'Centipawn': 152, 'Mate': None},\n",
       " {'Move': 'a3a5', 'Centipawn': 139, 'Mate': None},\n",
       " {'Move': 'g4g5', 'Centipawn': 124, 'Mate': None},\n",
       " {'Move': 'a3c3', 'Centipawn': 74, 'Mate': None},\n",
       " {'Move': 'g4f5', 'Centipawn': 62, 'Mate': None},\n",
       " {'Move': 'f4f5', 'Centipawn': 44, 'Mate': None},\n",
       " {'Move': 'g4h5', 'Centipawn': 20, 'Mate': None}]"
      ]
     },
     "execution_count": 65,
     "metadata": {},
     "output_type": "execute_result"
    }
   ],
   "source": [
    "top_moves[40]"
   ]
  },
  {
   "cell_type": "code",
   "execution_count": 39,
   "id": "a952c219-9221-4bf5-91c8-80a84ada5b34",
   "metadata": {},
   "outputs": [
    {
     "data": {
      "text/plain": [
       "313"
      ]
     },
     "execution_count": 39,
     "metadata": {},
     "output_type": "execute_result"
    }
   ],
   "source": [
    "played_cps[40]"
   ]
  },
  {
   "cell_type": "code",
   "execution_count": 38,
   "id": "b9e06562-0155-46fb-aa87-918f96376152",
   "metadata": {},
   "outputs": [
    {
     "data": {
      "text/plain": [
       "Move.from_uci('f4f5')"
      ]
     },
     "execution_count": 38,
     "metadata": {},
     "output_type": "execute_result"
    }
   ],
   "source": [
    "played_moves[40]"
   ]
  },
  {
   "cell_type": "markdown",
   "id": "34950844-0656-42db-b4b9-31dbd0463618",
   "metadata": {},
   "source": [
    "# Run on Nieman"
   ]
  },
  {
   "cell_type": "code",
   "execution_count": 68,
   "id": "417ff9f5-e199-4f4c-a0f1-57976cfaa9b5",
   "metadata": {},
   "outputs": [
    {
     "name": "stdout",
     "output_type": "stream",
     "text": [
      "Number of messed up games 0\n"
     ]
    }
   ],
   "source": [
    "df = pd.read_parquet(\"games/Niemann.parquet\")\n",
    "\n",
    "players = pd.Series(np.concatenate([df[\"Black\"].values, df[\"White\"].values]))\n",
    "\n",
    "myplayer = players.value_counts().index[0]\n",
    "\n",
    "df.loc[df[\"White\"] == myplayer, \"playing_as\"] = \"White\"\n",
    "df.loc[df[\"Black\"] == myplayer, \"playing_as\"] = \"Black\"\n",
    "messedup = df[\"playing_as\"].isna().sum()\n",
    "print(f\"Number of messed up games {messedup}\")\n",
    "df_subset = (\n",
    "    df.query(\"Online == False\")\n",
    "    .query(\"Date_clean >= 2021\")\n",
    "    .reset_index(drop=True)\n",
    "    .copy()\n",
    ")"
   ]
  },
  {
   "cell_type": "markdown",
   "id": "34491d40-c81b-43f3-9a1e-ce3217d4f986",
   "metadata": {},
   "source": [
    "# FIND THE SUS GAME"
   ]
  },
  {
   "cell_type": "code",
   "execution_count": 75,
   "id": "835474a8-2107-4d08-9106-2f500e107ec0",
   "metadata": {},
   "outputs": [],
   "source": [
    "sus_game = df.loc[df[\"Event\"].str.contains(\"Shar\") & (df[\"Round\"] == \"2\")]"
   ]
  },
  {
   "cell_type": "code",
   "execution_count": 77,
   "id": "edb605a6-e0c1-4c21-b4dd-5fdc85307d5d",
   "metadata": {},
   "outputs": [],
   "source": [
    "# sus_game"
   ]
  },
  {
   "cell_type": "code",
   "execution_count": 89,
   "id": "45f34db3-d15d-4bd0-a972-95b0bdd33d2e",
   "metadata": {},
   "outputs": [],
   "source": [
    "sf = \"/home/robmulla/Downloads/stockfish_15_linux_x64/stockfish_15_src/src/stockfish\"\n",
    "from stockfish import Stockfish\n",
    "\n",
    "stockfish = Stockfish(\n",
    "    path=sf, depth=15, parameters={\"Threads\": 32, \"Minimum Thinking Time\": 5}\n",
    ")"
   ]
  },
  {
   "cell_type": "code",
   "execution_count": 90,
   "id": "155f181f-5892-4a65-838a-37a6842cd246",
   "metadata": {},
   "outputs": [
    {
     "data": {
      "application/vnd.jupyter.widget-view+json": {
       "model_id": "dfe39334ca96462db54cba5081857fea",
       "version_major": 2,
       "version_minor": 0
      },
      "text/plain": [
       "  0%|          | 0/89 [00:00<?, ?it/s]"
      ]
     },
     "metadata": {},
     "output_type": "display_data"
    },
    {
     "name": "stdout",
     "output_type": "stream",
     "text": [
      "2021.09.18 Sharjah Masters 4th Rios, Cristhian Camilo Niemann, Hans Moke 1-0 0.9928594634874626\n"
     ]
    }
   ],
   "source": [
    "d = df.loc[1066]\n",
    "pgn = io.StringIO(d[\"mainline_moves\"])\n",
    "game = chess.pgn.read_game(pgn)\n",
    "top_moves, played_moves, engine_cps, played_cps, corr = get_game_corr(\n",
    "    game, playing_as=d[\"playing_as\"]\n",
    ")\n",
    "print(d[\"Date\"], d[\"Event\"], d[\"Black\"], d[\"White\"], d[\"Result\"], corr)"
   ]
  },
  {
   "cell_type": "code",
   "execution_count": 91,
   "id": "2d569acf-5f03-4ffb-9138-002a303f2d9c",
   "metadata": {},
   "outputs": [
    {
     "data": {
      "application/vnd.jupyter.widget-view+json": {
       "model_id": "da6a4be7933d40008e04637c6ed8664e",
       "version_major": 2,
       "version_minor": 0
      },
      "text/plain": [
       "  0%|          | 0/27 [00:00<?, ?it/s]"
      ]
     },
     "metadata": {},
     "output_type": "display_data"
    },
    {
     "name": "stdout",
     "output_type": "stream",
     "text": [
      "2021.09.17 Sharjah Masters 4th 1 Niemann, Hans Moke Naiditsch, Arkadij 1/2-1/2 0.1257001526199132\n"
     ]
    },
    {
     "data": {
      "application/vnd.jupyter.widget-view+json": {
       "model_id": "8c49456f5ed54f3396c52ef9df9a409f",
       "version_major": 2,
       "version_minor": 0
      },
      "text/plain": [
       "  0%|          | 0/89 [00:00<?, ?it/s]"
      ]
     },
     "metadata": {},
     "output_type": "display_data"
    },
    {
     "name": "stdout",
     "output_type": "stream",
     "text": [
      "2021.09.18 Sharjah Masters 4th 2 Rios, Cristhian Camilo Niemann, Hans Moke 1-0 0.992192129285544\n"
     ]
    },
    {
     "data": {
      "application/vnd.jupyter.widget-view+json": {
       "model_id": "425fba367c2b4d4a917bad0dde796599",
       "version_major": 2,
       "version_minor": 0
      },
      "text/plain": [
       "  0%|          | 0/61 [00:00<?, ?it/s]"
      ]
     },
     "metadata": {},
     "output_type": "display_data"
    },
    {
     "name": "stdout",
     "output_type": "stream",
     "text": [
      "2021.09.19 Sharjah Masters 4th 3 Niemann, Hans Moke Salem, AR Saleh 1-0 0.9827896246202426\n"
     ]
    },
    {
     "data": {
      "application/vnd.jupyter.widget-view+json": {
       "model_id": "68b0ba532bf64dd2957eb4100403f746",
       "version_major": 2,
       "version_minor": 0
      },
      "text/plain": [
       "  0%|          | 0/67 [00:00<?, ?it/s]"
      ]
     },
     "metadata": {},
     "output_type": "display_data"
    },
    {
     "ename": "TypeError",
     "evalue": "unsupported operand type(s) for +: 'int' and 'NoneType'",
     "output_type": "error",
     "traceback": [
      "\u001b[0;31m---------------------------------------------------------------------------\u001b[0m",
      "\u001b[0;31mTypeError\u001b[0m                                 Traceback (most recent call last)",
      "\u001b[0;32m/tmp/ipykernel_2713477/3291427600.py\u001b[0m in \u001b[0;36m<module>\u001b[0;34m\u001b[0m\n\u001b[1;32m      3\u001b[0m     \u001b[0mpgn\u001b[0m \u001b[0;34m=\u001b[0m \u001b[0mio\u001b[0m\u001b[0;34m.\u001b[0m\u001b[0mStringIO\u001b[0m\u001b[0;34m(\u001b[0m\u001b[0md\u001b[0m\u001b[0;34m[\u001b[0m\u001b[0;34m\"mainline_moves\"\u001b[0m\u001b[0;34m]\u001b[0m\u001b[0;34m)\u001b[0m\u001b[0;34m\u001b[0m\u001b[0;34m\u001b[0m\u001b[0m\n\u001b[1;32m      4\u001b[0m     \u001b[0mgame\u001b[0m \u001b[0;34m=\u001b[0m \u001b[0mchess\u001b[0m\u001b[0;34m.\u001b[0m\u001b[0mpgn\u001b[0m\u001b[0;34m.\u001b[0m\u001b[0mread_game\u001b[0m\u001b[0;34m(\u001b[0m\u001b[0mpgn\u001b[0m\u001b[0;34m)\u001b[0m\u001b[0;34m\u001b[0m\u001b[0;34m\u001b[0m\u001b[0m\n\u001b[0;32m----> 5\u001b[0;31m     \u001b[0mtop_moves\u001b[0m\u001b[0;34m,\u001b[0m \u001b[0mplayed_moves\u001b[0m\u001b[0;34m,\u001b[0m \u001b[0mengine_cps\u001b[0m\u001b[0;34m,\u001b[0m \u001b[0mplayed_cps\u001b[0m\u001b[0;34m,\u001b[0m \u001b[0mcorr\u001b[0m \u001b[0;34m=\u001b[0m \u001b[0mget_game_corr\u001b[0m\u001b[0;34m(\u001b[0m\u001b[0mgame\u001b[0m\u001b[0;34m,\u001b[0m \u001b[0mplaying_as\u001b[0m\u001b[0;34m=\u001b[0m\u001b[0md\u001b[0m\u001b[0;34m[\u001b[0m\u001b[0;34m\"playing_as\"\u001b[0m\u001b[0;34m]\u001b[0m\u001b[0;34m)\u001b[0m\u001b[0;34m\u001b[0m\u001b[0;34m\u001b[0m\u001b[0m\n\u001b[0m\u001b[1;32m      6\u001b[0m     \u001b[0mprint\u001b[0m\u001b[0;34m(\u001b[0m\u001b[0md\u001b[0m\u001b[0;34m[\u001b[0m\u001b[0;34m\"Date\"\u001b[0m\u001b[0;34m]\u001b[0m\u001b[0;34m,\u001b[0m \u001b[0md\u001b[0m\u001b[0;34m[\u001b[0m\u001b[0;34m\"Event\"\u001b[0m\u001b[0;34m]\u001b[0m\u001b[0;34m,\u001b[0m \u001b[0md\u001b[0m\u001b[0;34m[\u001b[0m\u001b[0;34m'Round'\u001b[0m\u001b[0;34m]\u001b[0m\u001b[0;34m,\u001b[0m \u001b[0md\u001b[0m\u001b[0;34m[\u001b[0m\u001b[0;34m\"Black\"\u001b[0m\u001b[0;34m]\u001b[0m\u001b[0;34m,\u001b[0m \u001b[0md\u001b[0m\u001b[0;34m[\u001b[0m\u001b[0;34m\"White\"\u001b[0m\u001b[0;34m]\u001b[0m\u001b[0;34m,\u001b[0m \u001b[0md\u001b[0m\u001b[0;34m[\u001b[0m\u001b[0;34m\"Result\"\u001b[0m\u001b[0;34m]\u001b[0m\u001b[0;34m,\u001b[0m \u001b[0mcorr\u001b[0m\u001b[0;34m)\u001b[0m\u001b[0;34m\u001b[0m\u001b[0;34m\u001b[0m\u001b[0m\n",
      "\u001b[0;32m/tmp/ipykernel_2713477/3188636174.py\u001b[0m in \u001b[0;36mget_game_corr\u001b[0;34m(game, playing_as)\u001b[0m\n\u001b[1;32m     39\u001b[0m         \u001b[0;32melse\u001b[0m\u001b[0;34m:\u001b[0m\u001b[0;34m\u001b[0m\u001b[0;34m\u001b[0m\u001b[0m\n\u001b[1;32m     40\u001b[0m             \u001b[0mboard\u001b[0m\u001b[0;34m.\u001b[0m\u001b[0mpush\u001b[0m\u001b[0;34m(\u001b[0m\u001b[0mmove\u001b[0m\u001b[0;34m)\u001b[0m\u001b[0;34m\u001b[0m\u001b[0;34m\u001b[0m\u001b[0m\n\u001b[0;32m---> 41\u001b[0;31m     \u001b[0mcorr\u001b[0m \u001b[0;34m=\u001b[0m \u001b[0mnp\u001b[0m\u001b[0;34m.\u001b[0m\u001b[0mcorrcoef\u001b[0m\u001b[0;34m(\u001b[0m\u001b[0;34m[\u001b[0m\u001b[0mengine_cps\u001b[0m\u001b[0;34m,\u001b[0m \u001b[0mplayed_cps\u001b[0m\u001b[0;34m]\u001b[0m\u001b[0;34m)\u001b[0m\u001b[0;34m[\u001b[0m\u001b[0;36m1\u001b[0m\u001b[0;34m,\u001b[0m \u001b[0;36m0\u001b[0m\u001b[0;34m]\u001b[0m\u001b[0;34m\u001b[0m\u001b[0;34m\u001b[0m\u001b[0m\n\u001b[0m\u001b[1;32m     42\u001b[0m     \u001b[0;32mreturn\u001b[0m \u001b[0mtop_moves\u001b[0m\u001b[0;34m,\u001b[0m \u001b[0mplayed_moves\u001b[0m\u001b[0;34m,\u001b[0m \u001b[0mengine_cps\u001b[0m\u001b[0;34m,\u001b[0m \u001b[0mplayed_cps\u001b[0m\u001b[0;34m,\u001b[0m \u001b[0mcorr\u001b[0m\u001b[0;34m\u001b[0m\u001b[0;34m\u001b[0m\u001b[0m\n",
      "\u001b[0;32m<__array_function__ internals>\u001b[0m in \u001b[0;36mcorrcoef\u001b[0;34m(*args, **kwargs)\u001b[0m\n",
      "\u001b[0;32m~/anaconda3/envs/kaggle2/lib/python3.8/site-packages/numpy/lib/function_base.py\u001b[0m in \u001b[0;36mcorrcoef\u001b[0;34m(x, y, rowvar, bias, ddof, dtype)\u001b[0m\n\u001b[1;32m   2681\u001b[0m         warnings.warn('bias and ddof have no effect and are deprecated',\n\u001b[1;32m   2682\u001b[0m                       DeprecationWarning, stacklevel=3)\n\u001b[0;32m-> 2683\u001b[0;31m     \u001b[0mc\u001b[0m \u001b[0;34m=\u001b[0m \u001b[0mcov\u001b[0m\u001b[0;34m(\u001b[0m\u001b[0mx\u001b[0m\u001b[0;34m,\u001b[0m \u001b[0my\u001b[0m\u001b[0;34m,\u001b[0m \u001b[0mrowvar\u001b[0m\u001b[0;34m,\u001b[0m \u001b[0mdtype\u001b[0m\u001b[0;34m=\u001b[0m\u001b[0mdtype\u001b[0m\u001b[0;34m)\u001b[0m\u001b[0;34m\u001b[0m\u001b[0;34m\u001b[0m\u001b[0m\n\u001b[0m\u001b[1;32m   2684\u001b[0m     \u001b[0;32mtry\u001b[0m\u001b[0;34m:\u001b[0m\u001b[0;34m\u001b[0m\u001b[0;34m\u001b[0m\u001b[0m\n\u001b[1;32m   2685\u001b[0m         \u001b[0md\u001b[0m \u001b[0;34m=\u001b[0m \u001b[0mdiag\u001b[0m\u001b[0;34m(\u001b[0m\u001b[0mc\u001b[0m\u001b[0;34m)\u001b[0m\u001b[0;34m\u001b[0m\u001b[0;34m\u001b[0m\u001b[0m\n",
      "\u001b[0;32m<__array_function__ internals>\u001b[0m in \u001b[0;36mcov\u001b[0;34m(*args, **kwargs)\u001b[0m\n",
      "\u001b[0;32m~/anaconda3/envs/kaggle2/lib/python3.8/site-packages/numpy/lib/function_base.py\u001b[0m in \u001b[0;36mcov\u001b[0;34m(m, y, rowvar, bias, ddof, fweights, aweights, dtype)\u001b[0m\n\u001b[1;32m   2516\u001b[0m             \u001b[0mw\u001b[0m \u001b[0;34m*=\u001b[0m \u001b[0maweights\u001b[0m\u001b[0;34m\u001b[0m\u001b[0;34m\u001b[0m\u001b[0m\n\u001b[1;32m   2517\u001b[0m \u001b[0;34m\u001b[0m\u001b[0m\n\u001b[0;32m-> 2518\u001b[0;31m     \u001b[0mavg\u001b[0m\u001b[0;34m,\u001b[0m \u001b[0mw_sum\u001b[0m \u001b[0;34m=\u001b[0m \u001b[0maverage\u001b[0m\u001b[0;34m(\u001b[0m\u001b[0mX\u001b[0m\u001b[0;34m,\u001b[0m \u001b[0maxis\u001b[0m\u001b[0;34m=\u001b[0m\u001b[0;36m1\u001b[0m\u001b[0;34m,\u001b[0m \u001b[0mweights\u001b[0m\u001b[0;34m=\u001b[0m\u001b[0mw\u001b[0m\u001b[0;34m,\u001b[0m \u001b[0mreturned\u001b[0m\u001b[0;34m=\u001b[0m\u001b[0;32mTrue\u001b[0m\u001b[0;34m)\u001b[0m\u001b[0;34m\u001b[0m\u001b[0;34m\u001b[0m\u001b[0m\n\u001b[0m\u001b[1;32m   2519\u001b[0m     \u001b[0mw_sum\u001b[0m \u001b[0;34m=\u001b[0m \u001b[0mw_sum\u001b[0m\u001b[0;34m[\u001b[0m\u001b[0;36m0\u001b[0m\u001b[0;34m]\u001b[0m\u001b[0;34m\u001b[0m\u001b[0;34m\u001b[0m\u001b[0m\n\u001b[1;32m   2520\u001b[0m \u001b[0;34m\u001b[0m\u001b[0m\n",
      "\u001b[0;32m<__array_function__ internals>\u001b[0m in \u001b[0;36maverage\u001b[0;34m(*args, **kwargs)\u001b[0m\n",
      "\u001b[0;32m~/anaconda3/envs/kaggle2/lib/python3.8/site-packages/numpy/lib/function_base.py\u001b[0m in \u001b[0;36maverage\u001b[0;34m(a, axis, weights, returned)\u001b[0m\n\u001b[1;32m    378\u001b[0m \u001b[0;34m\u001b[0m\u001b[0m\n\u001b[1;32m    379\u001b[0m     \u001b[0;32mif\u001b[0m \u001b[0mweights\u001b[0m \u001b[0;32mis\u001b[0m \u001b[0;32mNone\u001b[0m\u001b[0;34m:\u001b[0m\u001b[0;34m\u001b[0m\u001b[0;34m\u001b[0m\u001b[0m\n\u001b[0;32m--> 380\u001b[0;31m         \u001b[0mavg\u001b[0m \u001b[0;34m=\u001b[0m \u001b[0ma\u001b[0m\u001b[0;34m.\u001b[0m\u001b[0mmean\u001b[0m\u001b[0;34m(\u001b[0m\u001b[0maxis\u001b[0m\u001b[0;34m)\u001b[0m\u001b[0;34m\u001b[0m\u001b[0;34m\u001b[0m\u001b[0m\n\u001b[0m\u001b[1;32m    381\u001b[0m         \u001b[0mscl\u001b[0m \u001b[0;34m=\u001b[0m \u001b[0mavg\u001b[0m\u001b[0;34m.\u001b[0m\u001b[0mdtype\u001b[0m\u001b[0;34m.\u001b[0m\u001b[0mtype\u001b[0m\u001b[0;34m(\u001b[0m\u001b[0ma\u001b[0m\u001b[0;34m.\u001b[0m\u001b[0msize\u001b[0m\u001b[0;34m/\u001b[0m\u001b[0mavg\u001b[0m\u001b[0;34m.\u001b[0m\u001b[0msize\u001b[0m\u001b[0;34m)\u001b[0m\u001b[0;34m\u001b[0m\u001b[0;34m\u001b[0m\u001b[0m\n\u001b[1;32m    382\u001b[0m     \u001b[0;32melse\u001b[0m\u001b[0;34m:\u001b[0m\u001b[0;34m\u001b[0m\u001b[0;34m\u001b[0m\u001b[0m\n",
      "\u001b[0;32m~/anaconda3/envs/kaggle2/lib/python3.8/site-packages/numpy/core/_methods.py\u001b[0m in \u001b[0;36m_mean\u001b[0;34m(a, axis, dtype, out, keepdims, where)\u001b[0m\n\u001b[1;32m    177\u001b[0m             \u001b[0mis_float16_result\u001b[0m \u001b[0;34m=\u001b[0m \u001b[0;32mTrue\u001b[0m\u001b[0;34m\u001b[0m\u001b[0;34m\u001b[0m\u001b[0m\n\u001b[1;32m    178\u001b[0m \u001b[0;34m\u001b[0m\u001b[0m\n\u001b[0;32m--> 179\u001b[0;31m     \u001b[0mret\u001b[0m \u001b[0;34m=\u001b[0m \u001b[0mumr_sum\u001b[0m\u001b[0;34m(\u001b[0m\u001b[0marr\u001b[0m\u001b[0;34m,\u001b[0m \u001b[0maxis\u001b[0m\u001b[0;34m,\u001b[0m \u001b[0mdtype\u001b[0m\u001b[0;34m,\u001b[0m \u001b[0mout\u001b[0m\u001b[0;34m,\u001b[0m \u001b[0mkeepdims\u001b[0m\u001b[0;34m,\u001b[0m \u001b[0mwhere\u001b[0m\u001b[0;34m=\u001b[0m\u001b[0mwhere\u001b[0m\u001b[0;34m)\u001b[0m\u001b[0;34m\u001b[0m\u001b[0;34m\u001b[0m\u001b[0m\n\u001b[0m\u001b[1;32m    180\u001b[0m     \u001b[0;32mif\u001b[0m \u001b[0misinstance\u001b[0m\u001b[0;34m(\u001b[0m\u001b[0mret\u001b[0m\u001b[0;34m,\u001b[0m \u001b[0mmu\u001b[0m\u001b[0;34m.\u001b[0m\u001b[0mndarray\u001b[0m\u001b[0;34m)\u001b[0m\u001b[0;34m:\u001b[0m\u001b[0;34m\u001b[0m\u001b[0;34m\u001b[0m\u001b[0m\n\u001b[1;32m    181\u001b[0m         ret = um.true_divide(\n",
      "\u001b[0;31mTypeError\u001b[0m: unsupported operand type(s) for +: 'int' and 'NoneType'"
     ]
    }
   ],
   "source": [
    "df_subset2 = df.loc[df[\"Event\"].str.contains(\"Sharjah\")]\n",
    "for i, d in df_subset2.iterrows():\n",
    "    pgn = io.StringIO(d[\"mainline_moves\"])\n",
    "    game = chess.pgn.read_game(pgn)\n",
    "    top_moves, played_moves, engine_cps, played_cps, corr = get_game_corr(game, playing_as=d[\"playing_as\"])\n",
    "    print(d[\"Date\"], d[\"Event\"], d['Round'], d[\"Black\"], d[\"White\"], d[\"Result\"], corr)"
   ]
  },
  {
   "cell_type": "code",
   "execution_count": 96,
   "id": "21464320-372a-46be-851e-fbbdd8a077d6",
   "metadata": {},
   "outputs": [
    {
     "data": {
      "text/plain": [
       "'1. d4 d5 2. c4 c6 3. Nc3 Nf6 4. Nf3 e6 5. g3 dxc4 6. Bg2 b5 7. Ne5 a6 8. O-O Bb7 9. b3 cxb3 10. axb3 Be7 11. Bb2 O-O 12. Ne4 Nd5 13. Nc5 Bxc5 14. dxc5 f6 15. Nd3 Nd7 16. e4 Nc7 17. Bc3 Qe7 18. Ba5 Rac8 19. f4 e5 20. f5 Rfd8 21. Qc2 g6 22. fxg6 hxg6 23. Bh3 Rf8 24. Rad1 Ne6 25. Bxe6+ Qxe6 26. Nf2 Rce8 27. Rd6 Qf7 28. Ng4 Qh7 29. Qd2 Bc8 30. Rxc6 Re7 31. Bd8'"
      ]
     },
     "execution_count": 96,
     "metadata": {},
     "output_type": "execute_result"
    }
   ],
   "source": [
    "df_subset2.loc[1067][\"mainline_moves\"]"
   ]
  },
  {
   "cell_type": "code",
   "execution_count": 97,
   "id": "8d4a6eae-b50b-4f48-a05f-4c7425f72566",
   "metadata": {},
   "outputs": [
    {
     "data": {
      "text/plain": [
       "Annotator                                                         None\n",
       "Black                                               Niemann, Hans Moke\n",
       "BlackElo                                                          2609\n",
       "BlackTeam                                                         None\n",
       "BlackTeamCountry                                                  None\n",
       "Date                                                        2021.09.19\n",
       "ECO                                                                E04\n",
       "Event                                              Sharjah Masters 4th\n",
       "EventCategory                                                     None\n",
       "EventCountry                                                       UAE\n",
       "EventDate                                                   2021.09.17\n",
       "EventRounds                                                          9\n",
       "EventType                                                        swiss\n",
       "PlyCount                                                            61\n",
       "Result                                                             1-0\n",
       "Round                                                                3\n",
       "Site                                                           Sharjah\n",
       "Source                                                       ChessBase\n",
       "SourceDate                                                  2021.10.06\n",
       "SourceQuality                                                        1\n",
       "SourceTitle                                                   EXT 2022\n",
       "SourceVersion                                                        1\n",
       "SourceVersionDate                                           2021.10.06\n",
       "Tiebreak                                                          None\n",
       "White                                                  Salem, AR Saleh\n",
       "WhiteElo                                                          2679\n",
       "WhiteTeam                                                         None\n",
       "WhiteTeamCountry                                                  None\n",
       "mainline_moves       1. d4 d5 2. c4 c6 3. Nc3 Nf6 4. Nf3 e6 5. g3 d...\n",
       "Date_clean                                         2021-09-19 00:00:00\n",
       "Online                                                           False\n",
       "playing_as                                                       Black\n",
       "Name: 1067, dtype: object"
      ]
     },
     "execution_count": 97,
     "metadata": {},
     "output_type": "execute_result"
    }
   ],
   "source": [
    "df_subset2.loc[1067]"
   ]
  },
  {
   "cell_type": "code",
   "execution_count": 92,
   "id": "34c589a8-e068-46b9-ae04-a8a61bf69987",
   "metadata": {},
   "outputs": [
    {
     "data": {
      "text/plain": [
       "<AxesSubplot:>"
      ]
     },
     "execution_count": 92,
     "metadata": {},
     "output_type": "execute_result"
    },
    {
     "data": {
      "image/png": "[encoded data removed]",
      "text/plain": [
       "<Figure size 1080x360 with 1 Axes>"
      ]
     },
     "metadata": {
      "needs_background": "light"
     },
     "output_type": "display_data"
    }
   ],
   "source": [
    "pd.DataFrame([engine_cps, played_cps]).T.rename(\n",
    "    columns={0: \"engine\", 1: \"played\"}\n",
    ").plot(figsize=(15, 5), style=\".-\")"
   ]
  },
  {
   "cell_type": "code",
   "execution_count": 84,
   "id": "a94105df-2663-4d9b-83ec-4be1d9752f20",
   "metadata": {},
   "outputs": [
    {
     "name": "stdout",
     "output_type": "stream",
     "text": [
      "Number of messed up games 9\n",
      "2022.08.15 FTX Crypto Cup 2022 1.1 Carlsen,M Giri,A 1/2-1/2 0.9977407292056628\n",
      "2022.08.15 FTX Crypto Cup 2022 1.2 Giri,A Carlsen,M 1/2-1/2 0.9947658685764633\n",
      "2022.08.16 FTX Crypto Cup 2022 2.4 Carlsen,M Niemann,Hans Moke 0-1 0.9756421657004327\n",
      "2022.08.16 FTX Crypto Cup 2022 2.3 Niemann,Hans Moke Carlsen,M 1-0 0.9972381721998715\n",
      "2022.08.16 FTX Crypto Cup 2022 2.1 Niemann,Hans Moke Carlsen,M 0-1 0.9726440281938648\n",
      "2022.08.16 FTX Crypto Cup 2022 2.2 Carlsen,M Niemann,Hans Moke 0-1 0.9544904044557002\n",
      "2022.08.17 FTX Crypto Cup 2022 3.2 Aronian,L Carlsen,M 1/2-1/2 0.9952480915985473\n",
      "2022.08.17 FTX Crypto Cup 2022 3.3 Carlsen,M Aronian,L 1/2-1/2 0.9639488602852254\n",
      "2022.08.17 FTX Crypto Cup 2022 3.4 Aronian,L Carlsen,M 1/2-1/2 0.9989274556523078\n",
      "2022.08.18 FTX Crypto Cup 2022 4.3 Le,Quang Liem Carlsen,M 1-0 0.9973151614431043\n",
      "2022.08.18 FTX Crypto Cup 2022 4.2 Carlsen,M Le,Quang Liem 1/2-1/2 0.9939362860219867\n",
      "2022.08.18 FTX Crypto Cup 2022 4.1 Le,Quang Liem Carlsen,M 1/2-1/2 0.9894665431589921\n",
      "2022.08.18 FTX Crypto Cup 2022 4.4 Carlsen,M Le,Quang Liem 0-1 0.4623804651309268\n",
      "2022.08.19 FTX Crypto Cup 2022 5.4 Duda,J Carlsen,M 1-0 0.9637459340849112\n",
      "2022.08.19 FTX Crypto Cup 2022 5.1 Carlsen,M Duda,J 1-0 0.9792108767025123\n",
      "2022.08.19 FTX Crypto Cup 2022 5.2 Duda,J Carlsen,M 0-1 0.9512408101438913\n",
      "2022.08.20 FTX Crypto Cup 2022 6.1 Carlsen,M Firouzja,Alireza 1-0 0.9405719942113718\n",
      "2022.08.20 FTX Crypto Cup 2022 6.5 Firouzja,Alireza Carlsen,M 1-0 0.9976996916082591\n",
      "2022.08.20 FTX Crypto Cup 2022 6.6 Carlsen,M Firouzja,Alireza 1/2-1/2 0.9968905293826007\n",
      "2022.08.20 FTX Crypto Cup 2022 6.2 Firouzja,Alireza Carlsen,M 1-0 0.9963995290633283\n",
      "2022.08.20 FTX Crypto Cup 2022 6.4 Firouzja,Alireza Carlsen,M 1/2-1/2 0.9923392277618225\n",
      "2022.08.21 FTX Crypto Cup 2022 7.5 Praggnanandhaa,R Carlsen,M 0-1 0.9963738747070173\n",
      "2022.08.21 FTX Crypto Cup 2022 7.4 Carlsen,M Praggnanandhaa,R 1-0 0.9954847258728562\n",
      "2022.08.21 FTX Crypto Cup 2022 7.2 Carlsen,M Praggnanandhaa,R 1/2-1/2 0.9588573938876936\n",
      "2022.08.21 FTX Crypto Cup 2022 7.1 Praggnanandhaa,R Carlsen,M 1/2-1/2 0.9938139868623032\n",
      "2022.08.21 FTX Crypto Cup 2022 7.6 Carlsen,M Praggnanandhaa,R 1-0 0.9896397137033119\n"
     ]
    }
   ],
   "source": [
    "df = pd.read_parquet(\"games/Carlsen.parquet\")\n",
    "\n",
    "players = pd.Series(np.concatenate([df[\"Black\"].values, df[\"White\"].values]))\n",
    "\n",
    "myplayer = players.value_counts().index[0]\n",
    "\n",
    "df.loc[df[\"White\"] == myplayer, \"playing_as\"] = \"White\"\n",
    "df.loc[df[\"Black\"] == myplayer, \"playing_as\"] = \"Black\"\n",
    "messedup = df[\"playing_as\"].isna().sum()\n",
    "print(f\"Number of messed up games {messedup}\")\n",
    "df_subset = (\n",
    "    df.query(\"Online == False\")\n",
    "    .query(\"Date_clean >= 2021\")\n",
    "    .reset_index(drop=True)\n",
    "    .copy()\n",
    ")\n",
    "\n",
    "df_subset2 = df_subset.loc[df_subset[\"Event\"].str.contains(\"Crypto\")]\n",
    "for i, d in df_subset2.iterrows():\n",
    "    try:\n",
    "        pgn = io.StringIO(d[\"mainline_moves\"])\n",
    "        game = chess.pgn.read_game(pgn)\n",
    "        game_corr = get_game_corr(game, playing_as=d[\"playing_as\"])\n",
    "        print(\n",
    "            d[\"Date\"],\n",
    "            d[\"Event\"],\n",
    "            d[\"Round\"],\n",
    "            d[\"Black\"],\n",
    "            d[\"White\"],\n",
    "            d[\"Result\"],\n",
    "            game_corr,\n",
    "        )\n",
    "    except:\n",
    "        pass"
   ]
  },
  {
   "cell_type": "code",
   "execution_count": 85,
   "id": "e33930ba-b707-4989-aa9c-64df58b90a62",
   "metadata": {},
   "outputs": [
    {
     "name": "stdout",
     "output_type": "stream",
     "text": [
      "Number of messed up games 0\n",
      "2022.08.15 Miami FTX Crypto Cup 1.1 Duda, Jan Krzysztof Niemann, Hans Moke 1-0 0.9509173700507729\n",
      "2022.08.15 Miami FTX Crypto Cup 1.2 Niemann, Hans Moke Duda, Jan Krzysztof 1-0 0.9901993908298921\n",
      "2022.08.15 Miami FTX Crypto Cup 1.3 Duda, Jan Krzysztof Niemann, Hans Moke 0-1 0.9770584427474743\n",
      "2022.08.16 Miami FTX Crypto Cup 2.1 Niemann, Hans Moke Carlsen, Magnus 0-1 0.9983603699858093\n",
      "2022.08.16 Miami FTX Crypto Cup 2.2 Carlsen, Magnus Niemann, Hans Moke 0-1 0.9967737924297568\n",
      "2022.08.16 Miami FTX Crypto Cup 2.3 Niemann, Hans Moke Carlsen, Magnus 1-0 0.9985035419278069\n",
      "2022.08.16 Miami FTX Crypto Cup 2.4 Carlsen, Magnus Niemann, Hans Moke 0-1 0.9888505203038584\n",
      "2022.08.17 Miami FTX Crypto Cup 3.4 Niemann, Hans Moke Praggnanandhaa, Rameshbabu 1-0 0.9849827300129371\n",
      "2022.08.17 Miami FTX Crypto Cup 3.1 Praggnanandhaa, Rameshbabu Niemann, Hans Moke 1-0 0.9978332622513577\n",
      "2022.08.17 Miami FTX Crypto Cup 3.2 Niemann, Hans Moke Praggnanandhaa, Rameshbabu 1-0 0.9646036050165586\n",
      "2022.08.17 Miami FTX Crypto Cup 3.3 Praggnanandhaa, Rameshbabu Niemann, Hans Moke 1/2-1/2 0.8581612131019247\n",
      "2022.08.18 Miami FTX Crypto Cup 4.3 Niemann, Hans Moke Giri, Anish 0-1 0.9936252705068408\n",
      "2022.08.18 Miami FTX Crypto Cup 4.4 Giri, Anish Niemann, Hans Moke 0-1 0.9636847495984732\n",
      "2022.08.18 Miami FTX Crypto Cup 4.1 Niemann, Hans Moke Giri, Anish 1-0 0.9980393249535335\n",
      "2022.08.18 Miami FTX Crypto Cup 4.2 Giri, Anish Niemann, Hans Moke 1/2-1/2 0.995473131577709\n",
      "2022.08.19 Miami FTX Crypto Cup 5.1 Firouzja, Alireza Niemann, Hans Moke 1/2-1/2 0.956115642472969\n",
      "2022.08.19 Miami FTX Crypto Cup 5.2 Niemann, Hans Moke Firouzja, Alireza 1-0 0.9961533286759581\n",
      "2022.08.20 Miami FTX Crypto Cup 6.1 Aronian, Levon Niemann, Hans Moke 1-0 0.9990255881355926\n",
      "2022.08.20 Miami FTX Crypto Cup 6.2 Niemann, Hans Moke Aronian, Levon 1-0 0.9970467059070264\n",
      "2022.08.20 Miami FTX Crypto Cup 6.3 Aronian, Levon Niemann, Hans Moke 1/2-1/2 0.9882324889088681\n",
      "2022.08.20 Miami FTX Crypto Cup 6.4 Niemann, Hans Moke Aronian, Levon 1-0 0.9934553324925772\n",
      "2022.08.21 Miami FTX Crypto Cup 7.2 Le, Quang Liem Niemann, Hans Moke 1-0 0.9950425123001511\n",
      "2022.08.21 Miami FTX Crypto Cup 7.4 Le, Quang Liem Niemann, Hans Moke 0-1 0.9944812053086832\n",
      "2022.08.21 Miami FTX Crypto Cup 7.1 Niemann, Hans Moke Le, Quang Liem 1-0 0.9603083603510255\n"
     ]
    }
   ],
   "source": [
    "df = pd.read_parquet(\"games/Niema.parquet\")\n",
    "\n",
    "players = pd.Series(np.concatenate([df[\"Black\"].values, df[\"White\"].values]))\n",
    "\n",
    "myplayer = players.value_counts().index[0]\n",
    "\n",
    "df.loc[df[\"White\"] == myplayer, \"playing_as\"] = \"White\"\n",
    "df.loc[df[\"Black\"] == myplayer, \"playing_as\"] = \"Black\"\n",
    "messedup = df[\"playing_as\"].isna().sum()\n",
    "print(f\"Number of messed up games {messedup}\")\n",
    "df_subset = (\n",
    "    df.query(\"Online == False\")\n",
    "    .query(\"Date_clean >= 2021\")\n",
    "    .reset_index(drop=True)\n",
    "    .copy()\n",
    ")\n",
    "\n",
    "df_subset2 = df_subset.loc[df_subset[\"Event\"].str.contains(\"Crypto\")]\n",
    "for i, d in df_subset2.iterrows():\n",
    "    try:\n",
    "        pgn = io.StringIO(d[\"mainline_moves\"])\n",
    "        game = chess.pgn.read_game(pgn)\n",
    "        game_corr = get_game_corr(game, playing_as=d[\"playing_as\"])\n",
    "        print(\n",
    "            d[\"Date\"],\n",
    "            d[\"Event\"],\n",
    "            d[\"Round\"],\n",
    "            d[\"Black\"],\n",
    "            d[\"White\"],\n",
    "            d[\"Result\"],\n",
    "            game_corr,\n",
    "        )\n",
    "    except:\n",
    "        pass"
   ]
  },
  {
   "cell_type": "markdown",
   "id": "0421ec72-eb19-432d-9319-050af2f857a1",
   "metadata": {},
   "source": [
    "# Questionable Game"
   ]
  },
  {
   "cell_type": "code",
   "execution_count": 124,
   "id": "efea3938-e613-4892-a1f9-bba302d94bc2",
   "metadata": {},
   "outputs": [],
   "source": [
    "stockfish = Stockfish(\n",
    "    path=sf, depth=12, parameters={\"Threads\": 32, \"Minimum Thinking Time\": 5}\n",
    ")\n",
    "\n",
    "d = df_subset.loc[317]\n",
    "pgn = io.StringIO(d[\"mainline_moves\"])\n",
    "game = chess.pgn.read_game(pgn)\n",
    "top_moves, played_moves, engine_cps, played_cps, corr = get_game_corr(\n",
    "    game, playing_as=d[\"playing_as\"]\n",
    ")"
   ]
  },
  {
   "cell_type": "code",
   "execution_count": 125,
   "id": "4c8e0b2b-ef93-4c39-936b-a1f6ade797e2",
   "metadata": {},
   "outputs": [
    {
     "data": {
      "text/plain": [
       "<AxesSubplot:>"
      ]
     },
     "execution_count": 125,
     "metadata": {},
     "output_type": "execute_result"
    },
    {
     "data": {
      "image/png": "[encoded data removed]",
      "text/plain": [
       "<Figure size 432x288 with 1 Axes>"
      ]
     },
     "metadata": {
      "needs_background": "light"
     },
     "output_type": "display_data"
    }
   ],
   "source": [
    "pd.DataFrame([played_cps, engine_cps]).T.rename(\n",
    "    columns={0: \"engine\", 1: \"played\"}\n",
    ").plot(style=\".\")"
   ]
  },
  {
   "cell_type": "code",
   "execution_count": 161,
   "id": "4f523005-d914-4fcd-ac77-8bdb545c8584",
   "metadata": {},
   "outputs": [
    {
     "data": {
      "text/plain": [
       "(Move.from_uci('h6g7'),\n",
       " 115,\n",
       " 76,\n",
       " [{'Move': 'h6g7', 'Centipawn': 115, 'Mate': None},\n",
       "  {'Move': 'd1h1', 'Centipawn': 53, 'Mate': None},\n",
       "  {'Move': 'c3e2', 'Centipawn': 37, 'Mate': None},\n",
       "  {'Move': 'd1e1', 'Centipawn': 31, 'Mate': None},\n",
       "  {'Move': 'h6h7', 'Centipawn': -10, 'Mate': None},\n",
       "  {'Move': 'c3b1', 'Centipawn': -13, 'Mate': None},\n",
       "  {'Move': 'd1f1', 'Centipawn': -18, 'Mate': None},\n",
       "  {'Move': 'c3a4', 'Centipawn': -23, 'Mate': None},\n",
       "  {'Move': 'c1c2', 'Centipawn': -24, 'Mate': None},\n",
       "  {'Move': 'a2a3', 'Centipawn': -59, 'Mate': None}])"
      ]
     },
     "execution_count": 161,
     "metadata": {},
     "output_type": "execute_result"
    }
   ],
   "source": [
    "i = 22\n",
    "played_moves[i], engine_cps[i], played_cps[i], top_moves[i]"
   ]
  },
  {
   "cell_type": "code",
   "execution_count": 166,
   "id": "9ea5dc9f-770c-4361-b1bf-6b3dcb552350",
   "metadata": {},
   "outputs": [
    {
     "data": {
      "text/plain": [
       "76"
      ]
     },
     "execution_count": 166,
     "metadata": {},
     "output_type": "execute_result"
    }
   ],
   "source": [
    "played_cps[22]"
   ]
  },
  {
   "cell_type": "code",
   "execution_count": 136,
   "id": "23d54dfd-5dbf-40a2-a81e-82ddd6767550",
   "metadata": {},
   "outputs": [
    {
     "data": {
      "text/plain": [
       "Move.from_uci('f2f4')"
      ]
     },
     "execution_count": 136,
     "metadata": {},
     "output_type": "execute_result"
    }
   ],
   "source": [
    "played_moves[13]"
   ]
  },
  {
   "cell_type": "code",
   "execution_count": 121,
   "id": "986d7092-dc61-465d-af46-5a34bd808962",
   "metadata": {},
   "outputs": [
    {
     "data": {
      "text/plain": [
       "<Game at 0x7f59bbe092e0 ('?' vs. '?', '????.??.??')>"
      ]
     },
     "execution_count": 121,
     "metadata": {},
     "output_type": "execute_result"
    }
   ],
   "source": []
  }
 ],
 "metadata": {
  "kernelspec": {
   "display_name": "Python 3 (ipykernel)",
   "language": "python",
   "name": "python3"
  },
  "language_info": {
   "codemirror_mode": {
    "name": "ipython",
    "version": 3
   },
   "file_extension": ".py",
   "mimetype": "text/x-python",
   "name": "python",
   "nbconvert_exporter": "python",
   "pygments_lexer": "ipython3",
   "version": "3.8.5"
  }
 },
 "nbformat": 4,
 "nbformat_minor": 5
}
