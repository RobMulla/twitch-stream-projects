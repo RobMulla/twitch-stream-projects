{
 "cells": [
  {
   "cell_type": "markdown",
   "id": "28a1f1de-27f0-4003-838e-7c411c0a6585",
   "metadata": {},
   "source": [
    "# Base Analysis of Game vs Stockfish.\n",
    "- For one of the players.\n",
    "- Look at the top moves in any given position.\n",
    "- Look at the +/- of the move they made."
   ]
  },
  {
   "cell_type": "code",
   "execution_count": 1,
   "id": "8f43fc70-9235-4787-840e-f5a5a3e41d03",
   "metadata": {},
   "outputs": [],
   "source": [
    "import pandas as pd\n",
    "import numpy as np\n",
    "\n",
    "import chess\n",
    "import chess.pgn\n",
    "from stockfish import Stockfish\n",
    "stockfish = Stockfish(path=\"/usr/games/stockfish\", depth=5, parameters={\"Threads\": 32, \"Minimum Thinking Time\": 5})\n",
    "\n",
    "from tqdm.notebook import tqdm, trange\n",
    "\n",
    "import seaborn as sns\n",
    "import matplotlib.pyplot as plt"
   ]
  },
  {
   "cell_type": "markdown",
   "id": "3cc968ec-45ae-434b-9a9b-086edf4c6b25",
   "metadata": {},
   "source": [
    "## Load FENS of a Player"
   ]
  },
  {
   "cell_type": "code",
   "execution_count": 229,
   "id": "6230db0a-f996-41c2-8053-0a810cb2ee1b",
   "metadata": {},
   "outputs": [],
   "source": [
    "def get_games_df(pgn_file):\n",
    "    headers = []\n",
    "    games = []\n",
    "    mainline_moves = []\n",
    "    ngames = 1659\n",
    "    with open(pgn_file, mode='r', encoding=\"utf-8\") as pgn:\n",
    "        while True:\n",
    "            header = chess.pgn.read_headers(pgn)\n",
    "            if header is None:\n",
    "                break\n",
    "            headers.append(header)\n",
    "            \n",
    "    with open(pgn_file, mode='r', encoding=\"utf-8\") as pgn:\n",
    "        for _ in trange(len(headers)):\n",
    "            game = chess.pgn.read_game(pgn)\n",
    "            games.append(game)\n",
    "            moves = str(game.mainline_moves())\n",
    "            mainline_moves.append(moves)\n",
    "    games_df = pd.DataFrame(headers)\n",
    "    games_df['Date_clean'] = pd.to_datetime(games_df['Date'])\n",
    "    games_df = games_df.sort_values('Date_clean').reset_index(drop=True).copy()\n",
    "    games_df['Online'] = games_df['Site'].str.endswith('INT')\n",
    "    games_df['mainline_moves'] = mainline_moves\n",
    "    return games_df"
   ]
  },
  {
   "cell_type": "code",
   "execution_count": 230,
   "id": "0efcb22d-aa4e-44d8-9874-3a6acfd8e2ec",
   "metadata": {},
   "outputs": [
    {
     "data": {
      "application/vnd.jupyter.widget-view+json": {
       "model_id": "1846b8a1298a4ed091baf44deb581e11",
       "version_major": 2,
       "version_minor": 0
      },
      "text/plain": [
       "  0%|          | 0/1659 [00:00<?, ?it/s]"
      ]
     },
     "metadata": {},
     "output_type": "display_data"
    }
   ],
   "source": [
    "games_df = get_games_df(\"pgns/niemann.pgn\")"
   ]
  },
  {
   "cell_type": "code",
   "execution_count": 234,
   "id": "a026668d-0acf-4337-a550-6d42975fa153",
   "metadata": {},
   "outputs": [
    {
     "data": {
      "text/plain": [
       "'1. e4 e5 2. Nc3 Bc5 3. Bc4 d6 4. f4 Bxg1 5. Rxg1 Qh4+ 6. Ke2 Bg4+ 7. Ke3 exf4+ 8. Kd4 Nc6+ 9. Kd3 Nb4+ 10. Kd4 c5#'"
      ]
     },
     "execution_count": 234,
     "metadata": {},
     "output_type": "execute_result"
    }
   ],
   "source": []
  },
  {
   "cell_type": "code",
   "execution_count": 235,
   "id": "4dc1d3b2-786d-4a10-a552-195389c1ea18",
   "metadata": {},
   "outputs": [],
   "source": []
  },
  {
   "cell_type": "code",
   "execution_count": 236,
   "id": "8aa6133b-b117-4040-b746-1bb4c2fec314",
   "metadata": {},
   "outputs": [
    {
     "data": {
      "text/plain": [
       "<Game at 0x7f92154e32e0 ('?' vs. '?', '????.??.??')>"
      ]
     },
     "execution_count": 236,
     "metadata": {},
     "output_type": "execute_result"
    }
   ],
   "source": []
  },
  {
   "cell_type": "code",
   "execution_count": 223,
   "id": "c9b07798-358a-44bf-9ff8-37768c3b49b3",
   "metadata": {},
   "outputs": [
    {
     "data": {
      "text/plain": [
       "<Mainline at 0x7f921c2e43a0 (1. e4 e5 2. Nc3 Bc5 3. Bc4 d6 4. f4 Bxg1 5. Rxg1 Qh4+ 6. Ke2 Bg4+ 7. Ke3 exf4+ 8. Kd4 Nc6+ 9. Kd3 Nb4+ 10. Kd4 c5#)>"
      ]
     },
     "execution_count": 223,
     "metadata": {},
     "output_type": "execute_result"
    }
   ],
   "source": [
    "game.mainline()"
   ]
  },
  {
   "cell_type": "code",
   "execution_count": 225,
   "id": "bd0f509e-9ff5-4753-9231-eff45bd45201",
   "metadata": {},
   "outputs": [
    {
     "data": {
      "text/plain": [
       "'1. e4 e5 2. Nc3 Bc5 3. Bc4 d6 4. f4 Bxg1 5. Rxg1 Qh4+ 6. Ke2 Bg4+ 7. Ke3 exf4+ 8. Kd4 Nc6+ 9. Kd3 Nb4+ 10. Kd4 c5#'"
      ]
     },
     "execution_count": 225,
     "metadata": {},
     "output_type": "execute_result"
    }
   ],
   "source": [
    "str(game.mainline_moves())"
   ]
  },
  {
   "cell_type": "code",
   "execution_count": 218,
   "id": "5172c85a-a4aa-47fb-ba00-81f506dabfda",
   "metadata": {},
   "outputs": [],
   "source": [
    "game.eval()"
   ]
  },
  {
   "cell_type": "code",
   "execution_count": 221,
   "id": "fabe50a0-1c81-4154-8208-7ad69b630284",
   "metadata": {},
   "outputs": [],
   "source": []
  },
  {
   "cell_type": "code",
   "execution_count": 128,
   "id": "062b5070-5daa-4795-832a-be834a5ea368",
   "metadata": {},
   "outputs": [
    {
     "data": {
      "application/vnd.jupyter.widget-view+json": {
       "model_id": "55103c35745342429fa99c31a959fa6a",
       "version_major": 2,
       "version_minor": 0
      },
      "text/plain": [
       "  0%|          | 0/1659 [00:00<?, ?it/s]"
      ]
     },
     "metadata": {},
     "output_type": "display_data"
    }
   ],
   "source": []
  },
  {
   "cell_type": "markdown",
   "id": "ebd282b5-b172-4804-ab99-c144dd128eae",
   "metadata": {},
   "source": [
    "# Loop through moves in the game"
   ]
  },
  {
   "cell_type": "code",
   "execution_count": 135,
   "id": "5de9f43b-d83c-4eff-87ba-f5f4253d17a1",
   "metadata": {},
   "outputs": [],
   "source": [
    "def get_move_ranks(game, player, disable_tqdm=True):\n",
    "    board = game.board()\n",
    "    top_moves = []\n",
    "    evaluations = []\n",
    "\n",
    "    mainline = game.mainline_moves()\n",
    "    n_moves = len([g for g in mainline])\n",
    "\n",
    "\n",
    "    move_number = 0\n",
    "    move_ranks = []\n",
    "    moves = []\n",
    "\n",
    "    if game.headers['White'] == player:\n",
    "        is_white = True\n",
    "    elif game.headers['Black'] == player:\n",
    "        is_white = False\n",
    "    else:\n",
    "        print('Player not in either black or white position')\n",
    "        print(game.headers['White'])\n",
    "        print(game.headers['Black'])\n",
    "        return pd.DataFrame()\n",
    "\n",
    "    for move in tqdm(game.mainline_moves(), total=n_moves, disable=disable_tqdm):\n",
    "        move_number += 1\n",
    "        board.push(move)\n",
    "        if (move_number <= 20):\n",
    "            # stockfish.set_fen_position(board.fen())\n",
    "            top_moves.append([])\n",
    "            evaluations.append(np.nan)\n",
    "        if (move_number == 1):\n",
    "            stockfish.set_fen_position(board.fen())\n",
    "            top_moves.append(stockfish.get_top_moves(10))\n",
    "            evaluations.append(stockfish.get_evaluation())\n",
    "        # only evaluate player move\n",
    "        elif ((move_number % 2 == 1) and is_white) | ((move_number % 2 != 1) and not is_white):\n",
    "            moves.append(str(move))\n",
    "            current_move_rank = np.nan\n",
    "            for rank, m in enumerate(top_moves[-1]):\n",
    "                if m['Move'] == str(move):\n",
    "                    current_move_rank = rank + 1\n",
    "            move_ranks.append(current_move_rank)\n",
    "\n",
    "        else:\n",
    "            stockfish.set_fen_position(board.fen())\n",
    "            top_moves.append(stockfish.get_top_moves(10))\n",
    "            evaluations.append(stockfish.get_evaluation())\n",
    "    move_ranks_df = pd.DataFrame(data=np.array([moves, move_ranks]).T, columns=['move','move_rank'])\n",
    "    move_ranks_df = pd.concat([move_ranks_df, pd.DataFrame(top_moves[1:])], axis=1)\n",
    "    return move_ranks_df"
   ]
  },
  {
   "cell_type": "code",
   "execution_count": 19,
   "id": "4cc02b5f-529b-459d-8180-f3f626383e71",
   "metadata": {},
   "outputs": [
    {
     "data": {
      "application/vnd.jupyter.widget-view+json": {
       "model_id": "8d25b645cf774a66a62bbbc5bb44c814",
       "version_major": 2,
       "version_minor": 0
      },
      "text/plain": [
       "  0%|          | 0/100 [00:00<?, ?it/s]"
      ]
     },
     "metadata": {},
     "output_type": "display_data"
    }
   ],
   "source": [
    "player = 'Kasparov,G'\n",
    "games_move_ranks_df = []\n",
    "for i, row in tqdm(games_df[-100:].iterrows(), total=len(games_df[-100:])):\n",
    "    g = row['game']\n",
    "    move_ranks_df = get_move_ranks(g, player)\n",
    "    move_ranks_df['game'] = g\n",
    "    games_move_ranks_df.append(move_ranks_df)"
   ]
  },
  {
   "cell_type": "code",
   "execution_count": 28,
   "id": "0a6b4e42-eff4-4214-8645-4ab9aca08c4c",
   "metadata": {},
   "outputs": [],
   "source": [
    "results = {}"
   ]
  },
  {
   "cell_type": "code",
   "execution_count": 56,
   "id": "32d88aa4-4cb2-41f9-b05d-45391542ea76",
   "metadata": {},
   "outputs": [
    {
     "data": {
      "text/plain": [
       "Text(0.5, 1.0, 'Kasparov,G Move rank vs move number')"
      ]
     },
     "execution_count": 56,
     "metadata": {},
     "output_type": "execute_result"
    },
    {
     "data": {
      "image/png": "[encoded data removed]",
      "text/plain": [
       "<Figure size 1080x360 with 1 Axes>"
      ]
     },
     "metadata": {
      "needs_background": "light"
     },
     "output_type": "display_data"
    }
   ],
   "source": [
    "move_ranks = [g['move_rank'].astype('float') for g in games_move_ranks_df]\n",
    "df = pd.DataFrame(move_ranks)\n",
    "\n",
    "df_temp = df.T[10:].T.copy()\n",
    "df_temp.index = games_df[-100:]['game']\n",
    "\n",
    "results[player] = df_temp\n",
    "\n",
    "fig, ax = plt.subplots(figsize=(15, 5))\n",
    "sns.barplot(data=df, ax=ax)\n",
    "ax.set_title(player + ' Move rank vs move number')"
   ]
  },
  {
   "cell_type": "code",
   "execution_count": 25,
   "id": "f34b5127-d8fd-4178-bbdd-7010683fb609",
   "metadata": {},
   "outputs": [
    {
     "data": {
      "text/plain": [
       "<AxesSubplot:title={'center':'Distribution of Kasparov,G Last 100 Games Move Rank (Move 10+)'}, ylabel='Frequency'>"
      ]
     },
     "execution_count": 25,
     "metadata": {},
     "output_type": "execute_result"
    },
    {
     "data": {
      "image/png": "[encoded data removed]",
      "text/plain": [
       "<Figure size 432x288 with 1 Axes>"
      ]
     },
     "metadata": {
      "needs_background": "light"
     },
     "output_type": "display_data"
    }
   ],
   "source": [
    "df.T[20:].T.mean(axis=1).plot(kind='hist', bins=20, title=f'Distribution of {player} Last 100 Games Move Rank (Move 10+)')"
   ]
  },
  {
   "cell_type": "code",
   "execution_count": 27,
   "id": "f8195edb-ff62-499f-967f-71d6528d6776",
   "metadata": {},
   "outputs": [
    {
     "data": {
      "text/plain": [
       "Text(0.5, 1.0, 'Kasparov,G: Moves vs Move Rank')"
      ]
     },
     "execution_count": 27,
     "metadata": {},
     "output_type": "execute_result"
    },
    {
     "data": {
      "image/png": "[encoded data removed]",
      "text/plain": [
       "<Figure size 432x288 with 1 Axes>"
      ]
     },
     "metadata": {
      "needs_background": "light"
     },
     "output_type": "display_data"
    }
   ],
   "source": [
    "n_moves = (~df.isna()).sum(axis=1)\n",
    "fig, ax= plt.subplots()\n",
    "plt.scatter(x=n_moves,\n",
    "            y=df.T[10:].T.mean(axis=1).values)\n",
    "ax.set_title(f'{player}: Moves vs Move Rank')"
   ]
  },
  {
   "cell_type": "markdown",
   "id": "4610d614-17e7-4d7f-a5d4-010be76a6a5f",
   "metadata": {},
   "source": [
    "# Magnus"
   ]
  },
  {
   "cell_type": "code",
   "execution_count": 57,
   "id": "ba813405-045e-4519-8d77-bc7e1d76a2a0",
   "metadata": {},
   "outputs": [
    {
     "data": {
      "application/vnd.jupyter.widget-view+json": {
       "model_id": "82803b1ae6c44f0081c7323db70e7c5c",
       "version_major": 2,
       "version_minor": 0
      },
      "text/plain": [
       "  0%|          | 0/4314 [00:00<?, ?it/s]"
      ]
     },
     "metadata": {},
     "output_type": "display_data"
    }
   ],
   "source": [
    "games_df = get_games_df(\"pgns/Carlsen.pgn\")"
   ]
  },
  {
   "cell_type": "code",
   "execution_count": 58,
   "id": "87a39822-a313-4589-9494-91d8bc0cfe45",
   "metadata": {},
   "outputs": [
    {
     "data": {
      "text/plain": [
       "<Game at 0x7f4dcc541bb0 ('Carlsen,Magnus' vs. 'Brameld,A', '2001.01.06')>"
      ]
     },
     "execution_count": 58,
     "metadata": {},
     "output_type": "execute_result"
    }
   ],
   "source": [
    "games_df['game'][0]"
   ]
  },
  {
   "cell_type": "code",
   "execution_count": 62,
   "id": "aba4842b-15ab-4e9d-9c8d-81cca2f3b748",
   "metadata": {},
   "outputs": [
    {
     "data": {
      "application/vnd.jupyter.widget-view+json": {
       "model_id": "e65f29e72c954da3800e3ffe5fcc1065",
       "version_major": 2,
       "version_minor": 0
      },
      "text/plain": [
       "  0%|          | 0/100 [00:00<?, ?it/s]"
      ]
     },
     "metadata": {},
     "output_type": "display_data"
    }
   ],
   "source": [
    "player = 'Carlsen,M'\n",
    "games_move_ranks_df = []\n",
    "for i, row in tqdm(games_df[-100:].iterrows(), total=len(games_df[-100:])):\n",
    "    g = row['game']\n",
    "    move_ranks_df = get_move_ranks(g, player)\n",
    "    move_ranks_df['game'] = g\n",
    "    games_move_ranks_df.append(move_ranks_df)"
   ]
  },
  {
   "cell_type": "code",
   "execution_count": 63,
   "id": "d6213499-8629-4a07-bc69-baf079d998b0",
   "metadata": {},
   "outputs": [
    {
     "data": {
      "text/plain": [
       "Text(0.5, 1.0, 'Carlsen,M Move rank vs move number')"
      ]
     },
     "execution_count": 63,
     "metadata": {},
     "output_type": "execute_result"
    },
    {
     "data": {
      "image/png": "[encoded data removed]",
      "text/plain": [
       "<Figure size 1080x360 with 1 Axes>"
      ]
     },
     "metadata": {
      "needs_background": "light"
     },
     "output_type": "display_data"
    }
   ],
   "source": [
    "move_ranks = [g['move_rank'].astype('float') for g in games_move_ranks_df]\n",
    "df = pd.DataFrame(move_ranks)\n",
    "\n",
    "df_temp = df.T[10:].T.copy()\n",
    "df_temp.index = games_df[-100:]['game']\n",
    "\n",
    "results[player] = df_temp\n",
    "\n",
    "fig, ax = plt.subplots(figsize=(15, 5))\n",
    "sns.barplot(data=df, ax=ax)\n",
    "ax.set_title(player + ' Move rank vs move number')"
   ]
  },
  {
   "cell_type": "code",
   "execution_count": 64,
   "id": "eb02ac02-630a-417e-8ca1-5f73e76b9b82",
   "metadata": {},
   "outputs": [
    {
     "data": {
      "text/plain": [
       "<AxesSubplot:title={'center':'Distribution of Magnus Last 20 Games Move Rank (Move 10+)'}, ylabel='Frequency'>"
      ]
     },
     "execution_count": 64,
     "metadata": {},
     "output_type": "execute_result"
    },
    {
     "data": {
      "image/png": "[encoded data removed]",
      "text/plain": [
       "<Figure size 432x288 with 1 Axes>"
      ]
     },
     "metadata": {
      "needs_background": "light"
     },
     "output_type": "display_data"
    }
   ],
   "source": [
    "df.T[10:].T.mean(axis=1).plot(kind='hist', bins=20, title='Distribution of Magnus Last 20 Games Move Rank (Move 10+)')"
   ]
  },
  {
   "cell_type": "code",
   "execution_count": 65,
   "id": "96b88fdb-3db6-4022-b0f5-be5338263dd4",
   "metadata": {},
   "outputs": [],
   "source": [
    "n_moves = (~df.isna()).sum(axis=1)"
   ]
  },
  {
   "cell_type": "code",
   "execution_count": 66,
   "id": "2491e50a-14d2-4c4f-a642-af78871e6ca2",
   "metadata": {},
   "outputs": [
    {
     "data": {
      "text/plain": [
       "Text(0.5, 1.0, 'Carlsen,M: Moves vs Move Rank')"
      ]
     },
     "execution_count": 66,
     "metadata": {},
     "output_type": "execute_result"
    },
    {
     "data": {
      "image/png": "[encoded data removed]",
      "text/plain": [
       "<Figure size 432x288 with 1 Axes>"
      ]
     },
     "metadata": {
      "needs_background": "light"
     },
     "output_type": "display_data"
    }
   ],
   "source": [
    "fig, ax= plt.subplots()\n",
    "plt.scatter(x=n_moves,\n",
    "            y=df.T[10:].T.mean(axis=1).values)\n",
    "ax.set_title(f'{player}: Moves vs Move Rank')"
   ]
  },
  {
   "cell_type": "markdown",
   "id": "4b2cc2f0-054e-4533-bc80-8e3554a0d0d8",
   "metadata": {},
   "source": [
    "# Same thing for Fabi"
   ]
  },
  {
   "cell_type": "code",
   "execution_count": 67,
   "id": "137c0005-b3a9-44bb-8936-bd72a84f13e4",
   "metadata": {},
   "outputs": [
    {
     "data": {
      "application/vnd.jupyter.widget-view+json": {
       "model_id": "13776de70b794f96b77daa4b1b028ffd",
       "version_major": 2,
       "version_minor": 0
      },
      "text/plain": [
       "  0%|          | 0/3429 [00:00<?, ?it/s]"
      ]
     },
     "metadata": {},
     "output_type": "display_data"
    },
    {
     "data": {
      "application/vnd.jupyter.widget-view+json": {
       "model_id": "9475666c37fb4d8daa75ab89bce322ee",
       "version_major": 2,
       "version_minor": 0
      },
      "text/plain": [
       "  0%|          | 0/100 [00:00<?, ?it/s]"
      ]
     },
     "metadata": {},
     "output_type": "display_data"
    },
    {
     "name": "stdout",
     "output_type": "stream",
     "text": [
      "Player not in either black or white position\n",
      "?\n",
      "?\n"
     ]
    }
   ],
   "source": [
    "games_df = get_games_df(\"pgns/Caruana.pgn\")\n",
    "\n",
    "player = 'Caruana,F'\n",
    "games_move_ranks_df = []\n",
    "for i, row in tqdm(games_df[-100:].iterrows(), total=len(games_df[-100:])):\n",
    "    g = row['game']\n",
    "    move_ranks_df = get_move_ranks(g, player)\n",
    "    move_ranks_df['game'] = g\n",
    "    games_move_ranks_df.append(move_ranks_df)\n"
   ]
  },
  {
   "cell_type": "code",
   "execution_count": 69,
   "id": "343ca645-7a54-4aac-99c0-71fccede795b",
   "metadata": {},
   "outputs": [],
   "source": [
    "move_ranks = [g['move_rank'].astype('float') for g in games_move_ranks_df[:-1]]\n",
    "df = pd.DataFrame(move_ranks)\n",
    "\n",
    "df_temp = df.T[10:].T.copy()\n",
    "df_temp.index = games_df[-100:-1]['game']\n",
    "\n",
    "results[player] = df_temp"
   ]
  },
  {
   "cell_type": "code",
   "execution_count": 70,
   "id": "527dde16-c18b-43b0-a764-97543ad152f1",
   "metadata": {},
   "outputs": [
    {
     "data": {
      "text/plain": [
       "Text(0.5, 1.0, 'Caruana,F Move rank vs move number')"
      ]
     },
     "execution_count": 70,
     "metadata": {},
     "output_type": "execute_result"
    },
    {
     "data": {
      "image/png": "[encoded data removed]",
      "text/plain": [
       "<Figure size 1080x360 with 1 Axes>"
      ]
     },
     "metadata": {
      "needs_background": "light"
     },
     "output_type": "display_data"
    }
   ],
   "source": [
    "fig, ax = plt.subplots(figsize=(15, 5))\n",
    "sns.barplot(data=df, ax=ax)\n",
    "ax.set_title(player + ' Move rank vs move number')"
   ]
  },
  {
   "cell_type": "code",
   "execution_count": 71,
   "id": "753d283d-b05e-4af1-b60e-6452d9d08cc2",
   "metadata": {},
   "outputs": [
    {
     "data": {
      "text/plain": [
       "<AxesSubplot:title={'center':'Distribution of Fabi Last 20 Games Move Rank (Move 10+)'}, ylabel='Frequency'>"
      ]
     },
     "execution_count": 71,
     "metadata": {},
     "output_type": "execute_result"
    },
    {
     "data": {
      "image/png": "[encoded data removed]",
      "text/plain": [
       "<Figure size 432x288 with 1 Axes>"
      ]
     },
     "metadata": {
      "needs_background": "light"
     },
     "output_type": "display_data"
    }
   ],
   "source": [
    "df.T[10:].T.mean(axis=1).plot(kind='hist', bins=20, title='Distribution of Fabi Last 20 Games Move Rank (Move 10+)')"
   ]
  },
  {
   "cell_type": "code",
   "execution_count": 72,
   "id": "b320e80d-c3ff-4272-8364-d1245f932713",
   "metadata": {},
   "outputs": [
    {
     "data": {
      "text/plain": [
       "Text(0.5, 1.0, 'Caruana,F: Moves vs Move Rank')"
      ]
     },
     "execution_count": 72,
     "metadata": {},
     "output_type": "execute_result"
    },
    {
     "data": {
      "image/png": "[encoded data removed]",
      "text/plain": [
       "<Figure size 432x288 with 1 Axes>"
      ]
     },
     "metadata": {
      "needs_background": "light"
     },
     "output_type": "display_data"
    }
   ],
   "source": [
    "n_moves = (~df.isna()).sum(axis=1)\n",
    "fig, ax= plt.subplots()\n",
    "plt.scatter(x=n_moves,\n",
    "            y=df.T[10:].T.mean(axis=1).values)\n",
    "ax.set_title(f'{player}: Moves vs Move Rank')"
   ]
  },
  {
   "cell_type": "code",
   "execution_count": 74,
   "id": "157b0bab-5553-47e7-8983-b9c55bce7954",
   "metadata": {},
   "outputs": [
    {
     "data": {
      "text/plain": [
       "dict_keys(['Kasparov,G', 'Carlsen,M', 'Caruana,F'])"
      ]
     },
     "execution_count": 74,
     "metadata": {},
     "output_type": "execute_result"
    }
   ],
   "source": [
    "results.keys()"
   ]
  },
  {
   "cell_type": "code",
   "execution_count": 97,
   "id": "783dadbd-abb3-42b7-8704-19ee078e1961",
   "metadata": {},
   "outputs": [
    {
     "data": {
      "text/plain": [
       "<matplotlib.legend.Legend at 0x7f4db71e4e80>"
      ]
     },
     "execution_count": 97,
     "metadata": {},
     "output_type": "execute_result"
    },
    {
     "data": {
      "image/png": "[encoded data removed]",
      "text/plain": [
       "<Figure size 720x360 with 1 Axes>"
      ]
     },
     "metadata": {
      "needs_background": "light"
     },
     "output_type": "display_data"
    }
   ],
   "source": [
    "fig, ax = plt.subplots(figsize=(10, 5))\n",
    "results['Kasparov,G'].mean(axis=1).plot(kind='hist', label='Kasparov', bins=20, alpha=0.5)\n",
    "results['Carlsen,M'].mean(axis=1).plot(kind='hist', label='Carlsen', bins=20, alpha=0.5)\n",
    "results['Caruana,F'].mean(axis=1).plot(kind='hist', label='Caruana', bins=20, alpha=0.5)\n",
    "plt.legend()"
   ]
  },
  {
   "cell_type": "code",
   "execution_count": 119,
   "id": "dc88cd51-0dae-4111-ac72-903da76612a7",
   "metadata": {},
   "outputs": [],
   "source": [
    "pal = sns.color_palette()"
   ]
  },
  {
   "cell_type": "code",
   "execution_count": 289,
   "id": "92ea48b9-387d-4a8f-9d16-8858028c1cbb",
   "metadata": {},
   "outputs": [
    {
     "name": "stderr",
     "output_type": "stream",
     "text": [
      "Exception ignored in: <function Stockfish.__del__ at 0x7f4e6a5c61f0>\n",
      "Traceback (most recent call last):\n",
      "  File \"/home/robmulla/anaconda3/envs/kaggle2/lib/python3.8/site-packages/stockfish/models.py\", line 757, in __del__\n",
      "    if self._stockfish.poll() is None:\n",
      "AttributeError: 'Stockfish' object has no attribute '_stockfish'\n",
      "Exception ignored in: <function Stockfish.__del__ at 0x7f4e6a5c61f0>\n",
      "Traceback (most recent call last):\n",
      "  File \"/home/robmulla/anaconda3/envs/kaggle2/lib/python3.8/site-packages/stockfish/models.py\", line 757, in __del__\n",
      "    if self._stockfish.poll() is None:\n",
      "AttributeError: 'Stockfish' object has no attribute '_stockfish'\n"
     ]
    },
    {
     "data": {
      "image/png": "[encoded data removed]",
      "text/plain": [
       "<Figure size 720x720 with 1 Axes>"
      ]
     },
     "metadata": {
      "needs_background": "light"
     },
     "output_type": "display_data"
    }
   ],
   "source": [
    "fig, ax = plt.subplots(figsize=(10, 10))\n",
    "idx = 0\n",
    "for i, d in results.items():\n",
    "    pd.DataFrame([(~d.isna()).sum(axis=1), d.mean(axis=1)]).T.plot(x=0, y=1, kind='scatter', ax=ax, label=i, color=pal[idx])\n",
    "    idx += 1"
   ]
  },
  {
   "cell_type": "markdown",
   "id": "983daa17-699c-4332-b62e-80cdd3e5895d",
   "metadata": {},
   "source": [
    "# Hans"
   ]
  },
  {
   "cell_type": "code",
   "execution_count": 136,
   "id": "6cd61ea0-c686-4df6-82db-1d36b8eebf4d",
   "metadata": {},
   "outputs": [
    {
     "data": {
      "application/vnd.jupyter.widget-view+json": {
       "model_id": "386d60cd12b74444aacbf2741ca2521d",
       "version_major": 2,
       "version_minor": 0
      },
      "text/plain": [
       "  0%|          | 0/1659 [00:00<?, ?it/s]"
      ]
     },
     "metadata": {},
     "output_type": "display_data"
    },
    {
     "data": {
      "application/vnd.jupyter.widget-view+json": {
       "model_id": "4481deae65884f5ab3a8b4c9fde4ae47",
       "version_major": 2,
       "version_minor": 0
      },
      "text/plain": [
       "  0%|          | 0/100 [00:00<?, ?it/s]"
      ]
     },
     "metadata": {},
     "output_type": "display_data"
    }
   ],
   "source": [
    "games_df = get_games_df(\"pgns/niemann.pgn\")\n",
    "games_df = games_df.query('Online == False')\n",
    "\n",
    "player = 'Niemann, Hans Moke'\n",
    "games_move_ranks_df = []\n",
    "for i, row in tqdm(games_df[-100:].iterrows(), total=len(games_df[-100:])):\n",
    "    g = row['game']\n",
    "    move_ranks_df = get_move_ranks(g, player)\n",
    "    move_ranks_df['game'] = g\n",
    "    games_move_ranks_df.append(move_ranks_df)\n"
   ]
  },
  {
   "cell_type": "code",
   "execution_count": 138,
   "id": "808d5ff2-f4b6-4405-9271-97bfcca96eb9",
   "metadata": {},
   "outputs": [],
   "source": [
    "results = {}"
   ]
  },
  {
   "cell_type": "code",
   "execution_count": 139,
   "id": "259773d0-6c25-450f-b3ad-cc89c94d093f",
   "metadata": {},
   "outputs": [],
   "source": [
    "move_ranks = [g['move_rank'].astype('float') for g in games_move_ranks_df]\n",
    "df = pd.DataFrame(move_ranks)\n",
    "\n",
    "df_temp = df.T[10:].T.copy()\n",
    "df_temp.index = games_df[-100:]['game']\n",
    "\n",
    "results[player] = df_temp"
   ]
  },
  {
   "cell_type": "code",
   "execution_count": 140,
   "id": "bb86a094-84c9-4061-88ac-7a829833feff",
   "metadata": {},
   "outputs": [
    {
     "data": {
      "text/plain": [
       "Text(0.5, 1.0, 'Niemann, Hans Moke Move rank vs move number')"
      ]
     },
     "execution_count": 140,
     "metadata": {},
     "output_type": "execute_result"
    },
    {
     "data": {
      "image/png": "[encoded data removed]",
      "text/plain": [
       "<Figure size 1080x360 with 1 Axes>"
      ]
     },
     "metadata": {
      "needs_background": "light"
     },
     "output_type": "display_data"
    }
   ],
   "source": [
    "fig, ax = plt.subplots(figsize=(15, 5))\n",
    "sns.barplot(data=df, ax=ax)\n",
    "ax.set_title(player + ' Move rank vs move number')"
   ]
  },
  {
   "cell_type": "code",
   "execution_count": 141,
   "id": "bbbb4738-c4fb-4041-88a5-1c95cfd00d31",
   "metadata": {},
   "outputs": [
    {
     "data": {
      "text/plain": [
       "<AxesSubplot:title={'center':'Distribution of Hans Last 20 Games Move Rank (Move 10+)'}, ylabel='Frequency'>"
      ]
     },
     "execution_count": 141,
     "metadata": {},
     "output_type": "execute_result"
    },
    {
     "data": {
      "image/png": "[encoded data removed]",
      "text/plain": [
       "<Figure size 432x288 with 1 Axes>"
      ]
     },
     "metadata": {
      "needs_background": "light"
     },
     "output_type": "display_data"
    }
   ],
   "source": [
    "df.T[10:].T.mean(axis=1).plot(kind='hist', bins=20, title='Distribution of Hans Last 20 Games Move Rank (Move 10+)')"
   ]
  },
  {
   "cell_type": "code",
   "execution_count": 142,
   "id": "cec4971f-d716-4116-8b0e-4f4272dc8cf8",
   "metadata": {},
   "outputs": [
    {
     "data": {
      "text/plain": [
       "Text(0.5, 1.0, 'Niemann, Hans Moke: Moves vs Move Rank')"
      ]
     },
     "execution_count": 142,
     "metadata": {},
     "output_type": "execute_result"
    },
    {
     "data": {
      "image/png": "[encoded data removed]",
      "text/plain": [
       "<Figure size 432x288 with 1 Axes>"
      ]
     },
     "metadata": {
      "needs_background": "light"
     },
     "output_type": "display_data"
    }
   ],
   "source": [
    "n_moves = (~df.isna()).sum(axis=1)\n",
    "fig, ax= plt.subplots()\n",
    "plt.scatter(x=n_moves,\n",
    "            y=df.T[10:].T.mean(axis=1).values)\n",
    "ax.set_title(f'{player}: Moves vs Move Rank')"
   ]
  },
  {
   "cell_type": "code",
   "execution_count": 146,
   "id": "374b2a2c-a44a-401f-86b2-8299ff376fcc",
   "metadata": {},
   "outputs": [
    {
     "data": {
      "text/plain": [
       "dict_keys(['Niemann, Hans Moke'])"
      ]
     },
     "execution_count": 146,
     "metadata": {},
     "output_type": "execute_result"
    }
   ],
   "source": [
    "results.keys()"
   ]
  },
  {
   "cell_type": "code",
   "execution_count": 150,
   "id": "2f0835b3-0110-4cb1-8378-73ed8f9f4caa",
   "metadata": {},
   "outputs": [
    {
     "data": {
      "text/plain": [
       "<matplotlib.legend.Legend at 0x7f921cbc4370>"
      ]
     },
     "execution_count": 150,
     "metadata": {},
     "output_type": "execute_result"
    },
    {
     "data": {
      "image/png": "[encoded data removed]",
      "text/plain": [
       "<Figure size 720x360 with 1 Axes>"
      ]
     },
     "metadata": {
      "needs_background": "light"
     },
     "output_type": "display_data"
    }
   ],
   "source": [
    "pal = sns.color_palette()\n",
    "fig, ax = plt.subplots(figsize=(10, 5))\n",
    "# results['Kasparov,G'].mean(axis=1).plot(kind='hist', label='Kasparov', bins=50, alpha=0.5)\n",
    "# results['Carlsen,M'].mean(axis=1).plot(kind='hist', label='Carlsen', bins=50, alpha=0.5)\n",
    "# results['Caruana,F'].mean(axis=1).plot(kind='hist', label='Caruana', bins=50, alpha=0.5)\n",
    "results['Niemann, Hans Moke'].mean(axis=1).plot(kind='hist', label='Niemann', bins=50, alpha=0.5)\n",
    "\n",
    "plt.legend()"
   ]
  },
  {
   "cell_type": "code",
   "execution_count": 180,
   "id": "ee3c0556-a469-45a2-a618-4ec12410a343",
   "metadata": {},
   "outputs": [],
   "source": [
    "results['Niemann, Hans Moke']['Date'] = games_df.tail(100)['Date'].values\n",
    "results['Niemann, Hans Moke']['Black'] = games_df.tail(100)['Black'].values\n",
    "results['Niemann, Hans Moke']['White'] = games_df.tail(100)['White'].values"
   ]
  },
  {
   "cell_type": "code",
   "execution_count": 195,
   "id": "1c79b3e8-556e-4084-a328-fdf9d8e5de11",
   "metadata": {},
   "outputs": [],
   "source": [
    "pd.set_option('display.max_columns', 500)"
   ]
  },
  {
   "cell_type": "code",
   "execution_count": 196,
   "id": "782ce9fd-bc5c-4ea8-95ec-6b74ead4ed39",
   "metadata": {},
   "outputs": [
    {
     "data": {
      "text/html": [
       "<div>\n",
       "<style scoped>\n",
       "    .dataframe tbody tr th:only-of-type {\n",
       "        vertical-align: middle;\n",
       "    }\n",
       "\n",
       "    .dataframe tbody tr th {\n",
       "        vertical-align: top;\n",
       "    }\n",
       "\n",
       "    .dataframe thead th {\n",
       "        text-align: right;\n",
       "    }\n",
       "</style>\n",
       "<table border=\"1\" class=\"dataframe\">\n",
       "  <thead>\n",
       "    <tr style=\"text-align: right;\">\n",
       "      <th></th>\n",
       "      <th>Annotator</th>\n",
       "      <th>Black</th>\n",
       "      <th>BlackElo</th>\n",
       "      <th>BlackTeam</th>\n",
       "      <th>BlackTeamCountry</th>\n",
       "      <th>Date</th>\n",
       "      <th>ECO</th>\n",
       "      <th>Event</th>\n",
       "      <th>EventCategory</th>\n",
       "      <th>EventCountry</th>\n",
       "      <th>EventDate</th>\n",
       "      <th>EventRounds</th>\n",
       "      <th>EventType</th>\n",
       "      <th>PlyCount</th>\n",
       "      <th>Result</th>\n",
       "      <th>Round</th>\n",
       "      <th>Site</th>\n",
       "      <th>Source</th>\n",
       "      <th>SourceDate</th>\n",
       "      <th>SourceQuality</th>\n",
       "      <th>SourceTitle</th>\n",
       "      <th>SourceVersion</th>\n",
       "      <th>SourceVersionDate</th>\n",
       "      <th>Tiebreak</th>\n",
       "      <th>White</th>\n",
       "      <th>WhiteElo</th>\n",
       "      <th>WhiteTeam</th>\n",
       "      <th>WhiteTeamCountry</th>\n",
       "      <th>game</th>\n",
       "      <th>Date_clean</th>\n",
       "      <th>Online</th>\n",
       "      <th>mainline_moves</th>\n",
       "      <th>number_of_moves</th>\n",
       "    </tr>\n",
       "  </thead>\n",
       "  <tbody>\n",
       "    <tr>\n",
       "      <th>1356</th>\n",
       "      <td>NaN</td>\n",
       "      <td>Gretarsson, Hjorvar Steinn</td>\n",
       "      <td>2542</td>\n",
       "      <td>NaN</td>\n",
       "      <td>NaN</td>\n",
       "      <td>2022.04.09</td>\n",
       "      <td>B47</td>\n",
       "      <td>Reykjavik Kvika op</td>\n",
       "      <td>NaN</td>\n",
       "      <td>ISL</td>\n",
       "      <td>2022.04.06</td>\n",
       "      <td>9</td>\n",
       "      <td>swiss</td>\n",
       "      <td>73</td>\n",
       "      <td>1-0</td>\n",
       "      <td>5</td>\n",
       "      <td>Reykjavik</td>\n",
       "      <td>Chessbase</td>\n",
       "      <td>2022.04.21</td>\n",
       "      <td>1</td>\n",
       "      <td>Mega2022 Update 25</td>\n",
       "      <td>1</td>\n",
       "      <td>2022.04.21</td>\n",
       "      <td>NaN</td>\n",
       "      <td>Niemann, Hans Moke</td>\n",
       "      <td>2637</td>\n",
       "      <td>NaN</td>\n",
       "      <td>NaN</td>\n",
       "      <td>[Event \"Reykjavik Kvika op\"]\\n[Site \"Reykjavik...</td>\n",
       "      <td>2022-04-09</td>\n",
       "      <td>False</td>\n",
       "      <td>1. e4 c5 2. Nf3 e6 3. d4 cxd4 4. Nxd4 Nc6 5. N...</td>\n",
       "      <td>73</td>\n",
       "    </tr>\n",
       "  </tbody>\n",
       "</table>\n",
       "</div>"
      ],
      "text/plain": [
       "     Annotator                       Black BlackElo BlackTeam  \\\n",
       "1356       NaN  Gretarsson, Hjorvar Steinn     2542       NaN   \n",
       "\n",
       "     BlackTeamCountry        Date  ECO               Event EventCategory  \\\n",
       "1356              NaN  2022.04.09  B47  Reykjavik Kvika op           NaN   \n",
       "\n",
       "     EventCountry   EventDate EventRounds EventType PlyCount Result Round  \\\n",
       "1356          ISL  2022.04.06           9     swiss       73    1-0     5   \n",
       "\n",
       "           Site     Source  SourceDate SourceQuality         SourceTitle  \\\n",
       "1356  Reykjavik  Chessbase  2022.04.21             1  Mega2022 Update 25   \n",
       "\n",
       "     SourceVersion SourceVersionDate Tiebreak               White WhiteElo  \\\n",
       "1356             1        2022.04.21      NaN  Niemann, Hans Moke     2637   \n",
       "\n",
       "     WhiteTeam WhiteTeamCountry  \\\n",
       "1356       NaN              NaN   \n",
       "\n",
       "                                                   game Date_clean  Online  \\\n",
       "1356  [Event \"Reykjavik Kvika op\"]\\n[Site \"Reykjavik... 2022-04-09   False   \n",
       "\n",
       "                                         mainline_moves  number_of_moves  \n",
       "1356  1. e4 c5 2. Nf3 e6 3. d4 cxd4 4. Nxd4 Nc6 5. N...               73  "
      ]
     },
     "execution_count": 196,
     "metadata": {},
     "output_type": "execute_result"
    }
   ],
   "source": [
    "games_df.loc[games_df['Black'].str.contains('Gretarsson')]"
   ]
  },
  {
   "cell_type": "code",
   "execution_count": null,
   "id": "1acd2ad7-4296-40ee-9d2f-112f2910ef90",
   "metadata": {},
   "outputs": [],
   "source": []
  },
  {
   "cell_type": "code",
   "execution_count": null,
   "id": "da692144-62c4-446e-827f-8aba5084870c",
   "metadata": {},
   "outputs": [],
   "source": [
    "chess."
   ]
  },
  {
   "cell_type": "code",
   "execution_count": 204,
   "id": "cdbf3a19-9570-43b8-a39a-f57f48682f0d",
   "metadata": {},
   "outputs": [],
   "source": [
    "moves = games_df['mainline_moves'].values[0]"
   ]
  },
  {
   "cell_type": "code",
   "execution_count": 208,
   "id": "6ae1ac61-cd4d-4263-a05b-f9f3c5ac3298",
   "metadata": {},
   "outputs": [],
   "source": [
    "my_game = chess.pgn.Game()"
   ]
  },
  {
   "cell_type": "code",
   "execution_count": null,
   "id": "235cea26-2504-4748-8611-d508f8dd5ff9",
   "metadata": {},
   "outputs": [],
   "source": []
  },
  {
   "cell_type": "code",
   "execution_count": null,
   "id": "e6b685ca-c7a0-4d53-be03-96b0c5209f13",
   "metadata": {},
   "outputs": [],
   "source": []
  },
  {
   "cell_type": "code",
   "execution_count": 192,
   "id": "b226c05f-7751-4aa2-973e-bb86c8c82b82",
   "metadata": {},
   "outputs": [
    {
     "data": {
      "text/html": [
       "<div>\n",
       "<style scoped>\n",
       "    .dataframe tbody tr th:only-of-type {\n",
       "        vertical-align: middle;\n",
       "    }\n",
       "\n",
       "    .dataframe tbody tr th {\n",
       "        vertical-align: top;\n",
       "    }\n",
       "\n",
       "    .dataframe thead th {\n",
       "        text-align: right;\n",
       "    }\n",
       "</style>\n",
       "<table border=\"1\" class=\"dataframe\">\n",
       "  <thead>\n",
       "    <tr style=\"text-align: right;\">\n",
       "      <th></th>\n",
       "      <th>10</th>\n",
       "      <th>11</th>\n",
       "      <th>12</th>\n",
       "      <th>13</th>\n",
       "      <th>14</th>\n",
       "      <th>15</th>\n",
       "      <th>16</th>\n",
       "      <th>17</th>\n",
       "      <th>18</th>\n",
       "      <th>19</th>\n",
       "      <th>...</th>\n",
       "      <th>111</th>\n",
       "      <th>112</th>\n",
       "      <th>113</th>\n",
       "      <th>114</th>\n",
       "      <th>115</th>\n",
       "      <th>116</th>\n",
       "      <th>117</th>\n",
       "      <th>Date</th>\n",
       "      <th>Black</th>\n",
       "      <th>White</th>\n",
       "    </tr>\n",
       "    <tr>\n",
       "      <th>game</th>\n",
       "      <th></th>\n",
       "      <th></th>\n",
       "      <th></th>\n",
       "      <th></th>\n",
       "      <th></th>\n",
       "      <th></th>\n",
       "      <th></th>\n",
       "      <th></th>\n",
       "      <th></th>\n",
       "      <th></th>\n",
       "      <th></th>\n",
       "      <th></th>\n",
       "      <th></th>\n",
       "      <th></th>\n",
       "      <th></th>\n",
       "      <th></th>\n",
       "      <th></th>\n",
       "      <th></th>\n",
       "      <th></th>\n",
       "      <th></th>\n",
       "      <th></th>\n",
       "    </tr>\n",
       "  </thead>\n",
       "  <tbody>\n",
       "    <tr>\n",
       "      <th>[Event \"Bundesliga 2122\"]\\n[Site \"Germany\"]\\n[Date \"2022.05.14\"]\\n[Round \"7.2\"]\\n[White \"Fridman, Daniel\"]\\n[Black \"Niemann, Hans Moke\"]\\n[Result \"1/2-1/2\"]\\n[BlackElo \"2642\"]\\n[BlackTeam \"Kiel Turm\"]\\n[BlackTeamCountry \"GER\"]\\n[ECO \"E15\"]\\n[EventCountry \"GER\"]\\n[EventDate \"2022.03.05\"]\\n[EventRounds \"15\"]\\n[EventType \"team-tourn\"]\\n[PlyCount \"104\"]\\n[Source \"Chessbase\"]\\n[SourceDate \"2022.05.20\"]\\n[SourceQuality \"1\"]\\n[SourceTitle \"Mega2022 Update 29\"]\\n[SourceVersion \"1\"]\\n[SourceVersionDate \"2022.05.20\"]\\n[WhiteElo \"2628\"]\\n[WhiteTeam \"Muelheim Nord\"]\\n[WhiteTeamCountry \"GER\"]\\n\\n1. d4 Nf6 2. c4 e6 3. Nf3 b6 4. g3 Ba6 5. Qa4 Bb7 6. Bg2 c5 7. dxc5 bxc5 8. Nc3 Be7 9. O-O O-O 10. Rd1 d6 11. Bf4 Qb6 12. Qb5 Rd8 13. Rd2 Nbd7 14. Rad1 Ne8 15. b3 Qc7 16. Qa4 a6 17. Qa3 h6 18. Qc1 Ndf6 19. h3 g5 20. Be3 d5 21. cxd5 exd5 22. Nxg5 hxg5 23. Nxd5 Nxd5 24. Bxd5 Bxd5 25. Rxd5 Rxd5 26. Rxd5 Rd8 27. Rxd8 Qxd8 28. Bxc5 Qc8 29. Ba3 Qxc1+ 30. Bxc1 Nc7 31. Bd2 Kg7 32. Kf1 Nd5 33. e4 Nb4 34. Bc3+ Kg6 35. a3 Nc2 36. a4 f5 37. exf5+ Kxf5 38. Ke2 Ke4 39. f3+ Kd5 40. Kd3 Nb4+ 41. Ke3 Bc5+ 42. Ke2 Nc6 43. Kd3 Nb4+ 44. Ke2 Ke6 45. Bd2 Bd6 46. f4 gxf4 47. Bxf4 Bxf4 48. gxf4 Nd5 49. Kd3 Nxf4+ 50. Kc4 Kd6 51. Kb4 Nxh3 52. Ka5 Kc7 1/2-1/2</th>\n",
       "      <td>3.0</td>\n",
       "      <td>4.0</td>\n",
       "      <td>5.0</td>\n",
       "      <td>3.0</td>\n",
       "      <td>NaN</td>\n",
       "      <td>1.0</td>\n",
       "      <td>1.0</td>\n",
       "      <td>5.0</td>\n",
       "      <td>1.0</td>\n",
       "      <td>2.0</td>\n",
       "      <td>...</td>\n",
       "      <td>NaN</td>\n",
       "      <td>NaN</td>\n",
       "      <td>NaN</td>\n",
       "      <td>NaN</td>\n",
       "      <td>NaN</td>\n",
       "      <td>NaN</td>\n",
       "      <td>NaN</td>\n",
       "      <td>2022.05.14</td>\n",
       "      <td>Niemann, Hans Moke</td>\n",
       "      <td>Fridman, Daniel</td>\n",
       "    </tr>\n",
       "    <tr>\n",
       "      <th>[Event \"Bundesliga 2122\"]\\n[Site \"Germany\"]\\n[Date \"2022.05.15\"]\\n[Round \"8.1\"]\\n[White \"Niemann, Hans Moke\"]\\n[Black \"Areshchenko, Alexander\"]\\n[Result \"1-0\"]\\n[BlackElo \"2670\"]\\n[BlackTeam \"Werder Bremen\"]\\n[BlackTeamCountry \"GER\"]\\n[ECO \"B51\"]\\n[EventCountry \"GER\"]\\n[EventDate \"2022.03.05\"]\\n[EventRounds \"15\"]\\n[EventType \"team-tourn\"]\\n[PlyCount \"85\"]\\n[Source \"Chessbase\"]\\n[SourceDate \"2022.05.20\"]\\n[SourceQuality \"1\"]\\n[SourceTitle \"Mega2022 Update 29\"]\\n[SourceVersion \"1\"]\\n[SourceVersionDate \"2022.05.20\"]\\n[WhiteElo \"2642\"]\\n[WhiteTeam \"Kiel Turm\"]\\n[WhiteTeamCountry \"GER\"]\\n\\n1. e4 c5 2. Nf3 d6 3. Bb5+ Nd7 4. O-O a6 5. Bd3 Ngf6 6. Re1 e6 { Die\\nHauptvariante 6...e6 punktet besser als 6...b5. } 7. Bf1 b5 8. a4 Bb7 9. d4 $146 ( { Vorgänger: } 9. d3 Be7 10. c3 O-O 11. Nbd2 Re8 12. Nb3 Bf8 13. Bf4 Qb6 14. Nbd2 Bc6 15. h3 { 0-1 (51) Tomashevsky,E (2702)-Kevlishvili,R (2451) Chess.com\\nINT 2019 } ) 9... cxd4 10. axb5 axb5 11. Rxa8 Qxa8 12. Nxd4 b4 13. Nb5 Qb8 14. Bf4 e5 15. Bd2 Bc6 16. Qe2 Nxe4 17. Bxb4 Be7 18. N1c3 Nxc3 19. bxc3 O-O 20. Nd4 exd4 21. Qxe7 dxc3 22. Bxd6 Qa8 23. Bc4 h6 24. Qe3 Qa4 25. Qf4 Qxc2 26. Bxf8 Qg6 27. Qg3 Nxf8 28. Qxg6 Nxg6 29. Rc1 Nf4 30. f3 Nd5 31. Bxd5 Bxd5 32. Rxc3 g5 33. Kf2 Kg7 34. Ke3 Kf6 35. Kd4 Be6 36. Rc5 Bb3 37. Ke4 Be6 38. Rc6 Ke7 39. Ke5 f6+ 40. Kd4 h5 41. Rc7+ Kd8 42. Rh7 h4 43. f4 1-0</th>\n",
       "      <td>3.0</td>\n",
       "      <td>1.0</td>\n",
       "      <td>5.0</td>\n",
       "      <td>2.0</td>\n",
       "      <td>2.0</td>\n",
       "      <td>1.0</td>\n",
       "      <td>NaN</td>\n",
       "      <td>2.0</td>\n",
       "      <td>1.0</td>\n",
       "      <td>1.0</td>\n",
       "      <td>...</td>\n",
       "      <td>NaN</td>\n",
       "      <td>NaN</td>\n",
       "      <td>NaN</td>\n",
       "      <td>NaN</td>\n",
       "      <td>NaN</td>\n",
       "      <td>NaN</td>\n",
       "      <td>NaN</td>\n",
       "      <td>2022.05.15</td>\n",
       "      <td>Areshchenko, Alexander</td>\n",
       "      <td>Niemann, Hans Moke</td>\n",
       "    </tr>\n",
       "    <tr>\n",
       "      <th>[Event \"Sharjah Masters 5th\"]\\n[Site \"Sharjah\"]\\n[Date \"2022.05.21\"]\\n[Round \"1\"]\\n[White \"Van Foreest, Lucas\"]\\n[Black \"Niemann, Hans Moke\"]\\n[Result \"1-0\"]\\n[BlackElo \"2656\"]\\n[ECO \"D35\"]\\n[EventCountry \"UAE\"]\\n[EventDate \"2022.05.21\"]\\n[EventRounds \"9\"]\\n[EventType \"swiss\"]\\n[PlyCount \"63\"]\\n[Source \"Chessbase\"]\\n[SourceDate \"2022.06.02\"]\\n[SourceQuality \"1\"]\\n[SourceTitle \"Mega2022 Update 31\"]\\n[SourceVersion \"1\"]\\n[SourceVersionDate \"2022.06.02\"]\\n[WhiteElo \"2572\"]\\n\\n1. d4 Nf6 2. c4 e6 3. Nc3 d5 4. cxd5 exd5 5. Bg5 c6 6. e3 Be7 7. Bd3 h6 8. Bf4 Nbd7 9. h3 Nf8 10. Nf3 Ne6 11. Bh2 O-O 12. O-O b6 13. Rc1 Bb7 14. Qe2 c5 15. dxc5 bxc5 16. Rfd1 Qb6 17. b3 Rfe8 18. Be5 a6 19. Bf5 Bc6 20. Na4 Bxa4 21. bxa4 Red8 22. Rb1 Qc6 23. a5 Nd7 24. Bg3 Rac8 25. Ne5 Nxe5 26. Bxe5 d4 27. exd4 cxd4 28. Rb6 Qe8 29. Rxe6 fxe6 30. Bxe6+ Kh8 31. Bxc8 Bf6 32. Bxa6 1-0</th>\n",
       "      <td>1.0</td>\n",
       "      <td>1.0</td>\n",
       "      <td>2.0</td>\n",
       "      <td>2.0</td>\n",
       "      <td>1.0</td>\n",
       "      <td>1.0</td>\n",
       "      <td>5.0</td>\n",
       "      <td>NaN</td>\n",
       "      <td>4.0</td>\n",
       "      <td>4.0</td>\n",
       "      <td>...</td>\n",
       "      <td>NaN</td>\n",
       "      <td>NaN</td>\n",
       "      <td>NaN</td>\n",
       "      <td>NaN</td>\n",
       "      <td>NaN</td>\n",
       "      <td>NaN</td>\n",
       "      <td>NaN</td>\n",
       "      <td>2022.05.21</td>\n",
       "      <td>Niemann, Hans Moke</td>\n",
       "      <td>Van Foreest, Lucas</td>\n",
       "    </tr>\n",
       "    <tr>\n",
       "      <th>[Event \"Sharjah Masters 5th\"]\\n[Site \"Sharjah\"]\\n[Date \"2022.05.21\"]\\n[Round \"1\"]\\n[White \"Van Foreest, Lucas\"]\\n[Black \"Niemann, Hans Moke\"]\\n[Result \"1-0\"]\\n[BlackElo \"2656\"]\\n[ECO \"D35\"]\\n[EventCountry \"UAE\"]\\n[EventDate \"2022.05.21\"]\\n[EventRounds \"9\"]\\n[EventType \"swiss\"]\\n[PlyCount \"63\"]\\n[Source \"Chessbase\"]\\n[SourceDate \"2022.06.02\"]\\n[SourceQuality \"1\"]\\n[SourceTitle \"Mega2022 Update 31\"]\\n[SourceVersion \"1\"]\\n[SourceVersionDate \"2022.06.02\"]\\n[WhiteElo \"2572\"]\\n\\n1. d4 Nf6 2. c4 e6 3. Nc3 d5 4. cxd5 exd5 5. Bg5 c6 6. e3 Be7 7. Bd3 h6 8. Bf4 Nbd7 9. h3 Nf8 10. Nf3 Ne6 11. Bh2 O-O 12. O-O b6 13. Rc1 Bb7 14. Qe2 c5 15. dxc5 bxc5 16. Rfd1 Qb6 17. b3 Rfe8 18. Be5 a6 19. Bf5 Bc6 20. Na4 Bxa4 21. bxa4 Red8 22. Rb1 Qc6 23. a5 Nd7 24. Bg3 Rac8 25. Ne5 Nxe5 26. Bxe5 d4 27. exd4 cxd4 28. Rb6 Qe8 29. Rxe6 fxe6 30. Bxe6+ Kh8 31. Bxc8 Bf6 32. Bxa6 1-0</th>\n",
       "      <td>1.0</td>\n",
       "      <td>NaN</td>\n",
       "      <td>1.0</td>\n",
       "      <td>2.0</td>\n",
       "      <td>1.0</td>\n",
       "      <td>3.0</td>\n",
       "      <td>NaN</td>\n",
       "      <td>NaN</td>\n",
       "      <td>4.0</td>\n",
       "      <td>5.0</td>\n",
       "      <td>...</td>\n",
       "      <td>NaN</td>\n",
       "      <td>NaN</td>\n",
       "      <td>NaN</td>\n",
       "      <td>NaN</td>\n",
       "      <td>NaN</td>\n",
       "      <td>NaN</td>\n",
       "      <td>NaN</td>\n",
       "      <td>2022.05.21</td>\n",
       "      <td>Niemann, Hans Moke</td>\n",
       "      <td>Van Foreest, Lucas</td>\n",
       "    </tr>\n",
       "    <tr>\n",
       "      <th>[Event \"Sharjah Masters 5th\"]\\n[Site \"Sharjah\"]\\n[Date \"2022.05.22\"]\\n[Round \"2\"]\\n[White \"Niemann, Hans Moke\"]\\n[Black \"Mammadzada, Gunay Vuqar Qizi\"]\\n[Result \"1-0\"]\\n[BlackElo \"2454\"]\\n[ECO \"B94\"]\\n[EventCountry \"UAE\"]\\n[EventDate \"2022.05.21\"]\\n[EventRounds \"9\"]\\n[EventType \"swiss\"]\\n[PlyCount \"97\"]\\n[Source \"Chessbase\"]\\n[SourceDate \"2022.06.02\"]\\n[SourceQuality \"1\"]\\n[SourceTitle \"Mega2022 Update 31\"]\\n[SourceVersion \"1\"]\\n[SourceVersionDate \"2022.06.02\"]\\n[WhiteElo \"2656\"]\\n\\n1. e4 c5 2. Nf3 d6 3. d4 cxd4 4. Nxd4 Nf6 5. Nc3 a6 6. Bg5 Nbd7 7. Be3 $5 { [%mdl 4] 7.Qe2 ist aktuell in Mode. Eine interessante Nebenvariante. } 7... e6 8. g4 h6 9. a4 b6 10. h4 Bb7 11. Bg2 Rc8 $146 ( { Vorgänger: } 11... g6 12. g5 hxg5 13. hxg5 Rxh1+ 14. Bxh1 Nh5 15. Bf3 Ng7 16. Qd2 Rc8 17. O-O-O Ne5 { 1-0 (41)\\nKochavi,O (2253)-Ibrahimli,M (2432) Terme Catez 2022 } ) 12. g5 Rxc3 13. bxc3 Nxe4 14. g6 Ndf6 15. gxf7+ Kxf7 16. O-O Be7 17. Re1 e5 18. Nf5 Qd7 19. Qf3 Rb8 20. Nxe7 Qxe7 21. Qh3 Bc8 22. Qh1 Bf5 23. c4 Qc7 24. Bf1 Nc5 25. Ra2 Kg8 26. Qf3 Bg4 27. Qg3 Kh8 28. a5 bxa5 29. Rea1 Nce4 30. Qg2 Bc8 31. Rxa5 Bb7 32. f3 Nc5 33. Bxc5 dxc5 34. R5a3 e4 35. fxe4 Bxe4 36. Qg3 Qd8 37. Qe5 Qf8 38. Rxa6 Ng4 39. Qg3 h5 40. Bd3 Bb7 41. Rf1 Qd8 42. Rd6 Qc8 43. Rf5 Ra8 44. Rxh5+ Kg8 45. Bh7+ Kf7 46. Qf4+ Nf6 47. Rxf6+ gxf6 48. Bg6+ Kg8 49. Rh8+ 1-0</th>\n",
       "      <td>2.0</td>\n",
       "      <td>2.0</td>\n",
       "      <td>1.0</td>\n",
       "      <td>1.0</td>\n",
       "      <td>3.0</td>\n",
       "      <td>NaN</td>\n",
       "      <td>1.0</td>\n",
       "      <td>3.0</td>\n",
       "      <td>2.0</td>\n",
       "      <td>NaN</td>\n",
       "      <td>...</td>\n",
       "      <td>NaN</td>\n",
       "      <td>NaN</td>\n",
       "      <td>NaN</td>\n",
       "      <td>NaN</td>\n",
       "      <td>NaN</td>\n",
       "      <td>NaN</td>\n",
       "      <td>NaN</td>\n",
       "      <td>2022.05.22</td>\n",
       "      <td>Mammadzada, Gunay Vuqar Qizi</td>\n",
       "      <td>Niemann, Hans Moke</td>\n",
       "    </tr>\n",
       "    <tr>\n",
       "      <th>...</th>\n",
       "      <td>...</td>\n",
       "      <td>...</td>\n",
       "      <td>...</td>\n",
       "      <td>...</td>\n",
       "      <td>...</td>\n",
       "      <td>...</td>\n",
       "      <td>...</td>\n",
       "      <td>...</td>\n",
       "      <td>...</td>\n",
       "      <td>...</td>\n",
       "      <td>...</td>\n",
       "      <td>...</td>\n",
       "      <td>...</td>\n",
       "      <td>...</td>\n",
       "      <td>...</td>\n",
       "      <td>...</td>\n",
       "      <td>...</td>\n",
       "      <td>...</td>\n",
       "      <td>...</td>\n",
       "      <td>...</td>\n",
       "      <td>...</td>\n",
       "    </tr>\n",
       "    <tr>\n",
       "      <th>[Event \"Sinquefield Cup 9th\"]\\n[Site \"Saint Louis\"]\\n[Date \"2022.09.06\"]\\n[Round \"5\"]\\n[White \"Dominguez Perez, Leinier\"]\\n[Black \"Niemann, Hans Moke\"]\\n[Result \"1/2-1/2\"]\\n[BlackElo \"2688\"]\\n[ECO \"C54\"]\\n[EventCategory \"21\"]\\n[EventCountry \"USA\"]\\n[EventDate \"2022.09.02\"]\\n[EventRounds \"9\"]\\n[EventType \"tourn\"]\\n[PlyCount \"94\"]\\n[Source \"Chessbase\"]\\n[SourceDate \"2022.09.19\"]\\n[SourceQuality \"1\"]\\n[SourceTitle \"Mega2022 Update 46\"]\\n[SourceVersion \"1\"]\\n[SourceVersionDate \"2022.09.19\"]\\n[WhiteElo \"2745\"]\\n\\n1. e4 e5 2. Nf3 Nc6 3. Bc4 Nf6 4. d3 Bc5 5. O-O d6 6. c3 a6 7. a4 Ba7 8. Nbd2 O-O 9. h3 h6 10. Re1 Ne7 11. Bb3 c5 12. Nf1 Be6 13. Ne3 Qd7 14. Bd2 Rad8 15. a5 Bb8 16. Ba4 Qc8 17. c4 Ng6 18. Nd5 Nxd5 19. cxd5 Bd7 20. b4 cxb4 21. Rc1 Bxa4 22. Qxa4 Qd7 23. Qxd7 Rxd7 24. Rc4 Ba7 25. Be3 Bxe3 26. fxe3 f5 27. exf5 Rxf5 28. Rb1 Rff7 29. Nd2 Ne7 30. e4 Kf8 31. Rcxb4 Nc8 32. Nf3 Na7 33. d4 exd4 34. Nxd4 g6 35. R1b3 Kg7 36. h4 Nb5 37. Nxb5 axb5 38. Rf3 Rfe7 39. Kf2 Rc7 40. Ke3 Rc2 41. Rf2 Rc1 42. Kd3 Rd1+ 43. Rd2 Re1 44. Re2 Rd1+ 45. Rd2 Re1 46. Rf2 Rd1+ 47. Rd2 Re1 1/2-1/2</th>\n",
       "      <td>NaN</td>\n",
       "      <td>2.0</td>\n",
       "      <td>10.0</td>\n",
       "      <td>5.0</td>\n",
       "      <td>3.0</td>\n",
       "      <td>1.0</td>\n",
       "      <td>2.0</td>\n",
       "      <td>1.0</td>\n",
       "      <td>1.0</td>\n",
       "      <td>5.0</td>\n",
       "      <td>...</td>\n",
       "      <td>NaN</td>\n",
       "      <td>NaN</td>\n",
       "      <td>NaN</td>\n",
       "      <td>NaN</td>\n",
       "      <td>NaN</td>\n",
       "      <td>NaN</td>\n",
       "      <td>NaN</td>\n",
       "      <td>2022.09.06</td>\n",
       "      <td>Niemann, Hans Moke</td>\n",
       "      <td>Dominguez Perez, Leinier</td>\n",
       "    </tr>\n",
       "    <tr>\n",
       "      <th>[Event \"Sinquefield Cup 9th\"]\\n[Site \"Saint Louis\"]\\n[Date \"2022.09.08\"]\\n[Round \"6\"]\\n[White \"Niemann, Hans Moke\"]\\n[Black \"So, Wesley\"]\\n[Result \"0-1\"]\\n[BlackElo \"2771\"]\\n[ECO \"C42\"]\\n[EventCategory \"21\"]\\n[EventCountry \"USA\"]\\n[EventDate \"2022.09.02\"]\\n[EventRounds \"9\"]\\n[EventType \"tourn\"]\\n[PlyCount \"118\"]\\n[Source \"Chessbase\"]\\n[SourceDate \"2022.09.19\"]\\n[SourceQuality \"1\"]\\n[SourceTitle \"Mega2022 Update 46\"]\\n[SourceVersion \"1\"]\\n[SourceVersionDate \"2022.09.19\"]\\n[WhiteElo \"2688\"]\\n\\n1. e4 e5 2. Nf3 Nf6 3. Nxe5 d6 4. Nf3 Nxe4 5. d4 d5 6. Bd3 Bf5 7. O-O Be7 8. Re1 O-O 9. Nbd2 { Der moderne Zug. } 9... Nd6 10. Nf1 c6 11. Bf4 Bxd3 12. Qxd3 Na6 13. Ne3 Nc7 14. b3 $146 ( { Vorgänger: } 14. Re2 Ne6 15. Bxd6 Bxd6 16. g3 Qd7 17. Rae1 Rae8 18. b3 Nc7 19. c4 { ½-½ (31) Anand,V (2767)-Yu,Y (2738) Stavanger\\n2019 } ) 14... Ne6 15. Be5 Ne4 16. c4 Nf6 17. Rad1 g6 18. g3 a6 19. Re2 Re8 20. h4 Nh5 21. cxd5 cxd5 22. Ng2 f6 23. Bb8 Kf7 24. g4 Qxb8 25. gxh5 Nf4 26. Nxf4 Qxf4 27. hxg6+ hxg6 28. Rde1 Bd6 29. Rxe8 Rxe8 30. Rxe8 Qg4+ 31. Kf1 Kxe8 32. a4 Kf7 33. Qe3 Bf4 34. Qd3 Qh3+ 35. Ke2 Qe6+ 36. Kf1 Qe4 37. Qc3 Bd6 38. Kg2 Qg4+ 39. Kf1 Ke7 40. Ng1 Qf5 41. Qe3+ Qe4 42. Ke2 Bh2 43. Nf3 Bf4 44. Qxe4+ dxe4 45. Ne1 Ke6 46. Ng2 Bb8 47. Ne3 Ba7 48. d5+ Kd6 49. Ng2 Ke5 50. d6 Kxd6 51. Nf4 g5 52. hxg5 fxg5 53. Nh3 g4 54. Ng5 Ke5 55. Nf7+ Kf4 56. Kf1 Bb6 57. Nd6 Kf3 58. Nc4 Bxf2 59. Nd2+ Kf4 0-1</th>\n",
       "      <td>1.0</td>\n",
       "      <td>1.0</td>\n",
       "      <td>NaN</td>\n",
       "      <td>2.0</td>\n",
       "      <td>2.0</td>\n",
       "      <td>8.0</td>\n",
       "      <td>NaN</td>\n",
       "      <td>5.0</td>\n",
       "      <td>8.0</td>\n",
       "      <td>1.0</td>\n",
       "      <td>...</td>\n",
       "      <td>NaN</td>\n",
       "      <td>NaN</td>\n",
       "      <td>NaN</td>\n",
       "      <td>NaN</td>\n",
       "      <td>NaN</td>\n",
       "      <td>NaN</td>\n",
       "      <td>NaN</td>\n",
       "      <td>2022.09.08</td>\n",
       "      <td>So, Wesley</td>\n",
       "      <td>Niemann, Hans Moke</td>\n",
       "    </tr>\n",
       "    <tr>\n",
       "      <th>[Event \"Sinquefield Cup 9th\"]\\n[Site \"Saint Louis\"]\\n[Date \"2022.09.09\"]\\n[Round \"7\"]\\n[White \"Vachier Lagrave, Maxime\"]\\n[Black \"Niemann, Hans Moke\"]\\n[Result \"1/2-1/2\"]\\n[BlackElo \"2688\"]\\n[ECO \"D73\"]\\n[EventCategory \"21\"]\\n[EventCountry \"USA\"]\\n[EventDate \"2022.09.02\"]\\n[EventRounds \"9\"]\\n[EventType \"tourn\"]\\n[PlyCount \"109\"]\\n[Source \"Chessbase\"]\\n[SourceDate \"2022.09.19\"]\\n[SourceQuality \"1\"]\\n[SourceTitle \"Mega2022 Update 46\"]\\n[SourceVersion \"1\"]\\n[SourceVersionDate \"2022.09.19\"]\\n[WhiteElo \"2757\"]\\n\\n1. Nf3 d5 2. g3 Nf6 3. Bg2 c5 4. O-O g6 5. d4 cxd4 6. Nxd4 Bg7 7. c4 { 7.Nb3\\nverdient Beachtung. } 7... O-O 8. cxd5 Nxd5 9. Nb3 Nb4 10. Nc3 N8c6 11. Bd2 Bf5 12. Rc1 Rc8 13. a3 Na6 14. Be3 Be6 15. Qc2 $146 ( { Vorgänger: } 15. Nd2 Nc7 16. Qa4 Nd5 17. Bxd5 Bxd5 18. Rfd1 Bxc3 19. Rxc3 Qd7 20. Ne4 Qf5 21. Nc5 { 1-0 (34)\\nPantsulaia,L (2607)-Grigoryan,A (2537) Martuni 2008 } ) 15... Bf5 16. Be4 Qd7 17. Rfd1 Qe6 18. Bxf5 gxf5 19. Nd4 Nxd4 20. Bxd4 Nc5 21. Bxg7 Kxg7 22. Rd5 Ne4 23. Qd3 Rc6 24. Rd1 Nxc3 25. bxc3 Rfc8 26. c4 Rxc4 27. Rxf5 Qe4 28. Qxe4 Rxe4 29. Rd7 b6 30. e3 a5 31. Rg5+ Kf6 32. Rb5 Re6 33. Rd4 Kg7 34. Rf4 Rf6 35. Rxf6 exf6 36. Rxb6 Rc3 37. Ra6 Rxa3 38. g4 Ra1+ 39. Kg2 a4 40. h4 h6 41. Kf3 a3 42. h5 Ra2 43. Kg3 Ra1 44. Kf4 Ra2 45. Kf3 Ra1 46. e4 Ra2 47. Ke3 Ra1 48. Kf4 Ra2 49. f3 Ra1 50. Kf5 a2 51. f4 Kg8 52. Ra8+ Kg7 53. Ra6 Kg8 54. Ra8+ Kg7 55. Ra6 1/2-1/2</th>\n",
       "      <td>1.0</td>\n",
       "      <td>7.0</td>\n",
       "      <td>1.0</td>\n",
       "      <td>2.0</td>\n",
       "      <td>1.0</td>\n",
       "      <td>3.0</td>\n",
       "      <td>1.0</td>\n",
       "      <td>1.0</td>\n",
       "      <td>2.0</td>\n",
       "      <td>1.0</td>\n",
       "      <td>...</td>\n",
       "      <td>NaN</td>\n",
       "      <td>NaN</td>\n",
       "      <td>NaN</td>\n",
       "      <td>NaN</td>\n",
       "      <td>NaN</td>\n",
       "      <td>NaN</td>\n",
       "      <td>NaN</td>\n",
       "      <td>2022.09.09</td>\n",
       "      <td>Niemann, Hans Moke</td>\n",
       "      <td>Vachier Lagrave, Maxime</td>\n",
       "    </tr>\n",
       "    <tr>\n",
       "      <th>[Event \"Sinquefield Cup 9th\"]\\n[Site \"Saint Louis\"]\\n[Date \"2022.09.10\"]\\n[Round \"8\"]\\n[White \"Niemann, Hans Moke\"]\\n[Black \"Caruana, Fabiano\"]\\n[Result \"0-1\"]\\n[BlackElo \"2758\"]\\n[ECO \"A21\"]\\n[EventCategory \"21\"]\\n[EventCountry \"USA\"]\\n[EventDate \"2022.09.02\"]\\n[EventRounds \"9\"]\\n[EventType \"tourn\"]\\n[PlyCount \"138\"]\\n[Source \"Chessbase\"]\\n[SourceDate \"2022.09.19\"]\\n[SourceQuality \"1\"]\\n[SourceTitle \"Mega2022 Update 46\"]\\n[SourceVersion \"1\"]\\n[SourceVersionDate \"2022.09.19\"]\\n[WhiteElo \"2688\"]\\n\\n1. c4 e5 2. Nc3 Bb4 3. Nd5 a5 4. a3 Bc5 5. Nf3 d6 6. e3 c6 7. d4 Ba7 8. Nc3 Nd7 9. b4 Ngf6 10. Bb2 O-O 11. Be2 exd4 $1 $146 { [%mdl 8] Eine Top Neuerung. } ( { Vorgänger: } 11... Re8 12. O-O e4 13. Nd2 d5 14. cxd5 cxd5 15. Qb3 Nf8 16. Rfc1 Bb8 17. Nf1 axb4 18. Qxb4 { 1-0 (61) Cori,J (2652)-Mareco,S (2629) Krasnaya\\nPolyana 2021 } ) 12. Nxd4 Ne5 13. h3 Re8 14. O-O Bd7 15. Qd2 Bb6 16. Rad1 axb4 17. axb4 Qc8 18. f4 Ng6 19. Kh2 c5 20. bxc5 Qxc5 21. g4 Ba5 22. Qd3 Bxc3 23. Qxc3 Ne4 24. Qd3 Qb4 25. Rb1 Nd2 26. Bc3 Nxf1+ 27. Bxf1 Ra2+ 28. Kg1 Qa4 29. Rxb7 Nh4 30. Bb2 Qa8 31. Qb3 Ra7 32. Rxa7 Qxa7 33. Qc3 f6 34. Qd2 Qxd4 35. Qxd4 Nf3+ 36. Kf2 Nxd4 37. Bxd4 Rc8 38. Bg2 Kf8 39. Bd5 Ke7 40. f5 Ba4 41. Ke2 Bb3 42. Kd3 Ba2 43. Ba7 Bb3 44. Kd4 h5 45. gxh5 Rh8 46. Bf3 Bc2 47. Bg4 Ra8 48. Bb6 Ra3 49. c5 Rd3+ 50. Kc4 dxc5 51. Bxc5+ Kf7 52. Bd4 Ra3 53. Bc3 Be4 54. Kd4 Ra4+ 55. Kc5 Bc2 56. Bb4 Ra1 57. Kd4 Rf1 58. Be2 Rxf5 59. Bd6 Bb3 60. Bf4 Ra5 61. h4 Kg8 62. h6 g6 63. Bc7 Rd5+ 64. Kc3 Rc5+ 65. Kxb3 Rxc7 66. Bd3 f5 67. h5 gxh5 68. Bxf5 h4 69. e4 Rc5 0-1</th>\n",
       "      <td>1.0</td>\n",
       "      <td>1.0</td>\n",
       "      <td>1.0</td>\n",
       "      <td>8.0</td>\n",
       "      <td>4.0</td>\n",
       "      <td>1.0</td>\n",
       "      <td>2.0</td>\n",
       "      <td>8.0</td>\n",
       "      <td>1.0</td>\n",
       "      <td>9.0</td>\n",
       "      <td>...</td>\n",
       "      <td>NaN</td>\n",
       "      <td>NaN</td>\n",
       "      <td>NaN</td>\n",
       "      <td>NaN</td>\n",
       "      <td>NaN</td>\n",
       "      <td>NaN</td>\n",
       "      <td>NaN</td>\n",
       "      <td>2022.09.10</td>\n",
       "      <td>Caruana, Fabiano</td>\n",
       "      <td>Niemann, Hans Moke</td>\n",
       "    </tr>\n",
       "    <tr>\n",
       "      <th>[Event \"Sinquefield Cup 9th\"]\\n[Site \"Saint Louis\"]\\n[Date \"2022.09.11\"]\\n[Round \"9\"]\\n[White \"Nepomniachtchi, Ian\"]\\n[Black \"Niemann, Hans Moke\"]\\n[Result \"1/2-1/2\"]\\n[BlackElo \"2688\"]\\n[ECO \"A21\"]\\n[EventCategory \"21\"]\\n[EventCountry \"USA\"]\\n[EventDate \"2022.09.02\"]\\n[EventRounds \"9\"]\\n[EventType \"tourn\"]\\n[PlyCount \"108\"]\\n[Source \"Chessbase\"]\\n[SourceDate \"2022.09.19\"]\\n[SourceQuality \"1\"]\\n[SourceTitle \"Mega2022 Update 46\"]\\n[SourceVersion \"1\"]\\n[SourceVersionDate \"2022.09.19\"]\\n[WhiteElo \"2792\"]\\n\\n1. c4 e5 2. Nc3 Bb4 3. Nd5 Be7 4. d4 exd4 5. Qxd4 Nf6 6. Nxe7 Qxe7 7. Bg5 Nc6 8. Qc3 d6 9. Nf3 Be6 10. g3 h6 11. Bxf6 Qxf6 12. Qxf6 gxf6 13. Nd2 d5 14. Bg2 dxc4 15. Bxc6+ bxc6 16. O-O-O c3 17. bxc3 Ke7 18. Kc2 Rhb8 19. Rb1 Rb6 20. c4 Ra6 21. Rb2 Rg8 22. h4 Ra4 23. Kc3 Rg4 24. Kb3 Ra5 25. Rc2 Rb5+ 26. Kc3 Rc5 27. Kb2 Re5 28. e3 Rf5 29. Rf1 Rg8 30. Kc3 Ra5 31. Rb1 Rg4 32. Rb4 c5 33. Rb7 Kd7 34. Rb8 Ra3+ 35. Kb2 Ra6 36. Rh8 Ra4 37. a3 f5 38. Rc3 Ke7 39. Rb8 Ra6 40. Kc2 Rb6 41. Ra8 Ra6 42. Kb2 Rb6+ 43. Kc1 Ra6 44. Kc2 Bd7 45. Kb2 Be6 46. Rh8 Rd6 47. Kc1 Bd7 48. Nb3 Ba4 49. Nxc5 Rd1+ 50. Kb2 Rd2+ 51. Kb1 Rd1+ 52. Kb2 Rd2+ 53. Kb1 Rd1+ 54. Kb2 Rd2+ 1/2-1/2</th>\n",
       "      <td>1.0</td>\n",
       "      <td>1.0</td>\n",
       "      <td>3.0</td>\n",
       "      <td>3.0</td>\n",
       "      <td>1.0</td>\n",
       "      <td>3.0</td>\n",
       "      <td>1.0</td>\n",
       "      <td>8.0</td>\n",
       "      <td>1.0</td>\n",
       "      <td>2.0</td>\n",
       "      <td>...</td>\n",
       "      <td>NaN</td>\n",
       "      <td>NaN</td>\n",
       "      <td>NaN</td>\n",
       "      <td>NaN</td>\n",
       "      <td>NaN</td>\n",
       "      <td>NaN</td>\n",
       "      <td>NaN</td>\n",
       "      <td>2022.09.11</td>\n",
       "      <td>Niemann, Hans Moke</td>\n",
       "      <td>Nepomniachtchi, Ian</td>\n",
       "    </tr>\n",
       "  </tbody>\n",
       "</table>\n",
       "<p>100 rows × 111 columns</p>\n",
       "</div>"
      ],
      "text/plain": [
       "                                                     10   11    12   13   14  \\\n",
       "game                                                                           \n",
       "[Event \"Bundesliga 2122\"]\\n[Site \"Germany\"]\\n[D...  3.0  4.0   5.0  3.0  NaN   \n",
       "[Event \"Bundesliga 2122\"]\\n[Site \"Germany\"]\\n[D...  3.0  1.0   5.0  2.0  2.0   \n",
       "[Event \"Sharjah Masters 5th\"]\\n[Site \"Sharjah\"]...  1.0  1.0   2.0  2.0  1.0   \n",
       "[Event \"Sharjah Masters 5th\"]\\n[Site \"Sharjah\"]...  1.0  NaN   1.0  2.0  1.0   \n",
       "[Event \"Sharjah Masters 5th\"]\\n[Site \"Sharjah\"]...  2.0  2.0   1.0  1.0  3.0   \n",
       "...                                                 ...  ...   ...  ...  ...   \n",
       "[Event \"Sinquefield Cup 9th\"]\\n[Site \"Saint Lou...  NaN  2.0  10.0  5.0  3.0   \n",
       "[Event \"Sinquefield Cup 9th\"]\\n[Site \"Saint Lou...  1.0  1.0   NaN  2.0  2.0   \n",
       "[Event \"Sinquefield Cup 9th\"]\\n[Site \"Saint Lou...  1.0  7.0   1.0  2.0  1.0   \n",
       "[Event \"Sinquefield Cup 9th\"]\\n[Site \"Saint Lou...  1.0  1.0   1.0  8.0  4.0   \n",
       "[Event \"Sinquefield Cup 9th\"]\\n[Site \"Saint Lou...  1.0  1.0   3.0  3.0  1.0   \n",
       "\n",
       "                                                     15   16   17   18   19  \\\n",
       "game                                                                          \n",
       "[Event \"Bundesliga 2122\"]\\n[Site \"Germany\"]\\n[D...  1.0  1.0  5.0  1.0  2.0   \n",
       "[Event \"Bundesliga 2122\"]\\n[Site \"Germany\"]\\n[D...  1.0  NaN  2.0  1.0  1.0   \n",
       "[Event \"Sharjah Masters 5th\"]\\n[Site \"Sharjah\"]...  1.0  5.0  NaN  4.0  4.0   \n",
       "[Event \"Sharjah Masters 5th\"]\\n[Site \"Sharjah\"]...  3.0  NaN  NaN  4.0  5.0   \n",
       "[Event \"Sharjah Masters 5th\"]\\n[Site \"Sharjah\"]...  NaN  1.0  3.0  2.0  NaN   \n",
       "...                                                 ...  ...  ...  ...  ...   \n",
       "[Event \"Sinquefield Cup 9th\"]\\n[Site \"Saint Lou...  1.0  2.0  1.0  1.0  5.0   \n",
       "[Event \"Sinquefield Cup 9th\"]\\n[Site \"Saint Lou...  8.0  NaN  5.0  8.0  1.0   \n",
       "[Event \"Sinquefield Cup 9th\"]\\n[Site \"Saint Lou...  3.0  1.0  1.0  2.0  1.0   \n",
       "[Event \"Sinquefield Cup 9th\"]\\n[Site \"Saint Lou...  1.0  2.0  8.0  1.0  9.0   \n",
       "[Event \"Sinquefield Cup 9th\"]\\n[Site \"Saint Lou...  3.0  1.0  8.0  1.0  2.0   \n",
       "\n",
       "                                                    ...  111  112  113  114  \\\n",
       "game                                                ...                       \n",
       "[Event \"Bundesliga 2122\"]\\n[Site \"Germany\"]\\n[D...  ...  NaN  NaN  NaN  NaN   \n",
       "[Event \"Bundesliga 2122\"]\\n[Site \"Germany\"]\\n[D...  ...  NaN  NaN  NaN  NaN   \n",
       "[Event \"Sharjah Masters 5th\"]\\n[Site \"Sharjah\"]...  ...  NaN  NaN  NaN  NaN   \n",
       "[Event \"Sharjah Masters 5th\"]\\n[Site \"Sharjah\"]...  ...  NaN  NaN  NaN  NaN   \n",
       "[Event \"Sharjah Masters 5th\"]\\n[Site \"Sharjah\"]...  ...  NaN  NaN  NaN  NaN   \n",
       "...                                                 ...  ...  ...  ...  ...   \n",
       "[Event \"Sinquefield Cup 9th\"]\\n[Site \"Saint Lou...  ...  NaN  NaN  NaN  NaN   \n",
       "[Event \"Sinquefield Cup 9th\"]\\n[Site \"Saint Lou...  ...  NaN  NaN  NaN  NaN   \n",
       "[Event \"Sinquefield Cup 9th\"]\\n[Site \"Saint Lou...  ...  NaN  NaN  NaN  NaN   \n",
       "[Event \"Sinquefield Cup 9th\"]\\n[Site \"Saint Lou...  ...  NaN  NaN  NaN  NaN   \n",
       "[Event \"Sinquefield Cup 9th\"]\\n[Site \"Saint Lou...  ...  NaN  NaN  NaN  NaN   \n",
       "\n",
       "                                                    115  116  117        Date  \\\n",
       "game                                                                            \n",
       "[Event \"Bundesliga 2122\"]\\n[Site \"Germany\"]\\n[D...  NaN  NaN  NaN  2022.05.14   \n",
       "[Event \"Bundesliga 2122\"]\\n[Site \"Germany\"]\\n[D...  NaN  NaN  NaN  2022.05.15   \n",
       "[Event \"Sharjah Masters 5th\"]\\n[Site \"Sharjah\"]...  NaN  NaN  NaN  2022.05.21   \n",
       "[Event \"Sharjah Masters 5th\"]\\n[Site \"Sharjah\"]...  NaN  NaN  NaN  2022.05.21   \n",
       "[Event \"Sharjah Masters 5th\"]\\n[Site \"Sharjah\"]...  NaN  NaN  NaN  2022.05.22   \n",
       "...                                                 ...  ...  ...         ...   \n",
       "[Event \"Sinquefield Cup 9th\"]\\n[Site \"Saint Lou...  NaN  NaN  NaN  2022.09.06   \n",
       "[Event \"Sinquefield Cup 9th\"]\\n[Site \"Saint Lou...  NaN  NaN  NaN  2022.09.08   \n",
       "[Event \"Sinquefield Cup 9th\"]\\n[Site \"Saint Lou...  NaN  NaN  NaN  2022.09.09   \n",
       "[Event \"Sinquefield Cup 9th\"]\\n[Site \"Saint Lou...  NaN  NaN  NaN  2022.09.10   \n",
       "[Event \"Sinquefield Cup 9th\"]\\n[Site \"Saint Lou...  NaN  NaN  NaN  2022.09.11   \n",
       "\n",
       "                                                                           Black  \\\n",
       "game                                                                               \n",
       "[Event \"Bundesliga 2122\"]\\n[Site \"Germany\"]\\n[D...            Niemann, Hans Moke   \n",
       "[Event \"Bundesliga 2122\"]\\n[Site \"Germany\"]\\n[D...        Areshchenko, Alexander   \n",
       "[Event \"Sharjah Masters 5th\"]\\n[Site \"Sharjah\"]...            Niemann, Hans Moke   \n",
       "[Event \"Sharjah Masters 5th\"]\\n[Site \"Sharjah\"]...            Niemann, Hans Moke   \n",
       "[Event \"Sharjah Masters 5th\"]\\n[Site \"Sharjah\"]...  Mammadzada, Gunay Vuqar Qizi   \n",
       "...                                                                          ...   \n",
       "[Event \"Sinquefield Cup 9th\"]\\n[Site \"Saint Lou...            Niemann, Hans Moke   \n",
       "[Event \"Sinquefield Cup 9th\"]\\n[Site \"Saint Lou...                    So, Wesley   \n",
       "[Event \"Sinquefield Cup 9th\"]\\n[Site \"Saint Lou...            Niemann, Hans Moke   \n",
       "[Event \"Sinquefield Cup 9th\"]\\n[Site \"Saint Lou...              Caruana, Fabiano   \n",
       "[Event \"Sinquefield Cup 9th\"]\\n[Site \"Saint Lou...            Niemann, Hans Moke   \n",
       "\n",
       "                                                                       White  \n",
       "game                                                                          \n",
       "[Event \"Bundesliga 2122\"]\\n[Site \"Germany\"]\\n[D...           Fridman, Daniel  \n",
       "[Event \"Bundesliga 2122\"]\\n[Site \"Germany\"]\\n[D...        Niemann, Hans Moke  \n",
       "[Event \"Sharjah Masters 5th\"]\\n[Site \"Sharjah\"]...        Van Foreest, Lucas  \n",
       "[Event \"Sharjah Masters 5th\"]\\n[Site \"Sharjah\"]...        Van Foreest, Lucas  \n",
       "[Event \"Sharjah Masters 5th\"]\\n[Site \"Sharjah\"]...        Niemann, Hans Moke  \n",
       "...                                                                      ...  \n",
       "[Event \"Sinquefield Cup 9th\"]\\n[Site \"Saint Lou...  Dominguez Perez, Leinier  \n",
       "[Event \"Sinquefield Cup 9th\"]\\n[Site \"Saint Lou...        Niemann, Hans Moke  \n",
       "[Event \"Sinquefield Cup 9th\"]\\n[Site \"Saint Lou...   Vachier Lagrave, Maxime  \n",
       "[Event \"Sinquefield Cup 9th\"]\\n[Site \"Saint Lou...        Niemann, Hans Moke  \n",
       "[Event \"Sinquefield Cup 9th\"]\\n[Site \"Saint Lou...       Nepomniachtchi, Ian  \n",
       "\n",
       "[100 rows x 111 columns]"
      ]
     },
     "execution_count": 192,
     "metadata": {},
     "output_type": "execute_result"
    }
   ],
   "source": [
    "results['Niemann, Hans Moke']"
   ]
  },
  {
   "cell_type": "code",
   "execution_count": 186,
   "id": "b1da0137-c52e-4481-986c-0f86bd79d0fe",
   "metadata": {},
   "outputs": [
    {
     "data": {
      "text/html": [
       "<div>\n",
       "<style scoped>\n",
       "    .dataframe tbody tr th:only-of-type {\n",
       "        vertical-align: middle;\n",
       "    }\n",
       "\n",
       "    .dataframe tbody tr th {\n",
       "        vertical-align: top;\n",
       "    }\n",
       "\n",
       "    .dataframe thead th {\n",
       "        text-align: right;\n",
       "    }\n",
       "</style>\n",
       "<table border=\"1\" class=\"dataframe\">\n",
       "  <thead>\n",
       "    <tr style=\"text-align: right;\">\n",
       "      <th></th>\n",
       "      <th>10</th>\n",
       "      <th>11</th>\n",
       "      <th>12</th>\n",
       "      <th>13</th>\n",
       "      <th>14</th>\n",
       "      <th>15</th>\n",
       "      <th>16</th>\n",
       "      <th>17</th>\n",
       "      <th>18</th>\n",
       "      <th>19</th>\n",
       "      <th>...</th>\n",
       "      <th>111</th>\n",
       "      <th>112</th>\n",
       "      <th>113</th>\n",
       "      <th>114</th>\n",
       "      <th>115</th>\n",
       "      <th>116</th>\n",
       "      <th>117</th>\n",
       "      <th>Date</th>\n",
       "      <th>Black</th>\n",
       "      <th>White</th>\n",
       "    </tr>\n",
       "    <tr>\n",
       "      <th>game</th>\n",
       "      <th></th>\n",
       "      <th></th>\n",
       "      <th></th>\n",
       "      <th></th>\n",
       "      <th></th>\n",
       "      <th></th>\n",
       "      <th></th>\n",
       "      <th></th>\n",
       "      <th></th>\n",
       "      <th></th>\n",
       "      <th></th>\n",
       "      <th></th>\n",
       "      <th></th>\n",
       "      <th></th>\n",
       "      <th></th>\n",
       "      <th></th>\n",
       "      <th></th>\n",
       "      <th></th>\n",
       "      <th></th>\n",
       "      <th></th>\n",
       "      <th></th>\n",
       "    </tr>\n",
       "  </thead>\n",
       "  <tbody>\n",
       "  </tbody>\n",
       "</table>\n",
       "<p>0 rows × 111 columns</p>\n",
       "</div>"
      ],
      "text/plain": [
       "Empty DataFrame\n",
       "Columns: [10, 11, 12, 13, 14, 15, 16, 17, 18, 19, 20, 21, 22, 23, 24, 25, 26, 27, 28, 29, 30, 31, 32, 33, 34, 35, 36, 37, 38, 39, 40, 41, 42, 43, 44, 45, 46, 47, 48, 49, 50, 51, 52, 53, 54, 55, 56, 57, 58, 59, 60, 61, 62, 63, 64, 65, 66, 67, 68, 69, 70, 71, 72, 73, 74, 75, 76, 77, 78, 79, 80, 81, 82, 83, 84, 85, 86, 87, 88, 89, 90, 91, 92, 93, 94, 95, 96, 97, 98, 99, 100, 101, 102, 103, 104, 105, 106, 107, 108, 109, ...]\n",
       "Index: []\n",
       "\n",
       "[0 rows x 111 columns]"
      ]
     },
     "execution_count": 186,
     "metadata": {},
     "output_type": "execute_result"
    }
   ],
   "source": [
    "results['Niemann, Hans Moke'].loc[results['Niemann, Hans Moke']['White'].str.contains('Gretarsson')]"
   ]
  },
  {
   "cell_type": "code",
   "execution_count": 172,
   "id": "311c79de-08eb-4fca-8093-3117fe0ecc20",
   "metadata": {},
   "outputs": [
    {
     "data": {
      "text/html": [
       "<div>\n",
       "<style scoped>\n",
       "    .dataframe tbody tr th:only-of-type {\n",
       "        vertical-align: middle;\n",
       "    }\n",
       "\n",
       "    .dataframe tbody tr th {\n",
       "        vertical-align: top;\n",
       "    }\n",
       "\n",
       "    .dataframe thead th {\n",
       "        text-align: right;\n",
       "    }\n",
       "</style>\n",
       "<table border=\"1\" class=\"dataframe\">\n",
       "  <thead>\n",
       "    <tr style=\"text-align: right;\">\n",
       "      <th></th>\n",
       "      <th>10</th>\n",
       "      <th>11</th>\n",
       "      <th>12</th>\n",
       "      <th>13</th>\n",
       "      <th>14</th>\n",
       "      <th>15</th>\n",
       "      <th>16</th>\n",
       "      <th>17</th>\n",
       "      <th>18</th>\n",
       "      <th>19</th>\n",
       "      <th>...</th>\n",
       "      <th>109</th>\n",
       "      <th>110</th>\n",
       "      <th>111</th>\n",
       "      <th>112</th>\n",
       "      <th>113</th>\n",
       "      <th>114</th>\n",
       "      <th>115</th>\n",
       "      <th>116</th>\n",
       "      <th>117</th>\n",
       "      <th>Date</th>\n",
       "    </tr>\n",
       "    <tr>\n",
       "      <th>game</th>\n",
       "      <th></th>\n",
       "      <th></th>\n",
       "      <th></th>\n",
       "      <th></th>\n",
       "      <th></th>\n",
       "      <th></th>\n",
       "      <th></th>\n",
       "      <th></th>\n",
       "      <th></th>\n",
       "      <th></th>\n",
       "      <th></th>\n",
       "      <th></th>\n",
       "      <th></th>\n",
       "      <th></th>\n",
       "      <th></th>\n",
       "      <th></th>\n",
       "      <th></th>\n",
       "      <th></th>\n",
       "      <th></th>\n",
       "      <th></th>\n",
       "      <th></th>\n",
       "    </tr>\n",
       "  </thead>\n",
       "  <tbody>\n",
       "    <tr>\n",
       "      <th>[Event \"Bundesliga 2122\"]\\n[Site \"Germany\"]\\n[Date \"2022.05.14\"]\\n[Round \"7.2\"]\\n[White \"Fridman, Daniel\"]\\n[Black \"Niemann, Hans Moke\"]\\n[Result \"1/2-1/2\"]\\n[BlackElo \"2642\"]\\n[BlackTeam \"Kiel Turm\"]\\n[BlackTeamCountry \"GER\"]\\n[ECO \"E15\"]\\n[EventCountry \"GER\"]\\n[EventDate \"2022.03.05\"]\\n[EventRounds \"15\"]\\n[EventType \"team-tourn\"]\\n[PlyCount \"104\"]\\n[Source \"Chessbase\"]\\n[SourceDate \"2022.05.20\"]\\n[SourceQuality \"1\"]\\n[SourceTitle \"Mega2022 Update 29\"]\\n[SourceVersion \"1\"]\\n[SourceVersionDate \"2022.05.20\"]\\n[WhiteElo \"2628\"]\\n[WhiteTeam \"Muelheim Nord\"]\\n[WhiteTeamCountry \"GER\"]\\n\\n1. d4 Nf6 2. c4 e6 3. Nf3 b6 4. g3 Ba6 5. Qa4 Bb7 6. Bg2 c5 7. dxc5 bxc5 8. Nc3 Be7 9. O-O O-O 10. Rd1 d6 11. Bf4 Qb6 12. Qb5 Rd8 13. Rd2 Nbd7 14. Rad1 Ne8 15. b3 Qc7 16. Qa4 a6 17. Qa3 h6 18. Qc1 Ndf6 19. h3 g5 20. Be3 d5 21. cxd5 exd5 22. Nxg5 hxg5 23. Nxd5 Nxd5 24. Bxd5 Bxd5 25. Rxd5 Rxd5 26. Rxd5 Rd8 27. Rxd8 Qxd8 28. Bxc5 Qc8 29. Ba3 Qxc1+ 30. Bxc1 Nc7 31. Bd2 Kg7 32. Kf1 Nd5 33. e4 Nb4 34. Bc3+ Kg6 35. a3 Nc2 36. a4 f5 37. exf5+ Kxf5 38. Ke2 Ke4 39. f3+ Kd5 40. Kd3 Nb4+ 41. Ke3 Bc5+ 42. Ke2 Nc6 43. Kd3 Nb4+ 44. Ke2 Ke6 45. Bd2 Bd6 46. f4 gxf4 47. Bxf4 Bxf4 48. gxf4 Nd5 49. Kd3 Nxf4+ 50. Kc4 Kd6 51. Kb4 Nxh3 52. Ka5 Kc7 1/2-1/2</th>\n",
       "      <td>3.0</td>\n",
       "      <td>4.0</td>\n",
       "      <td>5.0</td>\n",
       "      <td>3.0</td>\n",
       "      <td>NaN</td>\n",
       "      <td>1.0</td>\n",
       "      <td>1.0</td>\n",
       "      <td>5.0</td>\n",
       "      <td>1.0</td>\n",
       "      <td>2.0</td>\n",
       "      <td>...</td>\n",
       "      <td>NaN</td>\n",
       "      <td>NaN</td>\n",
       "      <td>NaN</td>\n",
       "      <td>NaN</td>\n",
       "      <td>NaN</td>\n",
       "      <td>NaN</td>\n",
       "      <td>NaN</td>\n",
       "      <td>NaN</td>\n",
       "      <td>NaN</td>\n",
       "      <td>NaN</td>\n",
       "    </tr>\n",
       "    <tr>\n",
       "      <th>[Event \"Bundesliga 2122\"]\\n[Site \"Germany\"]\\n[Date \"2022.05.15\"]\\n[Round \"8.1\"]\\n[White \"Niemann, Hans Moke\"]\\n[Black \"Areshchenko, Alexander\"]\\n[Result \"1-0\"]\\n[BlackElo \"2670\"]\\n[BlackTeam \"Werder Bremen\"]\\n[BlackTeamCountry \"GER\"]\\n[ECO \"B51\"]\\n[EventCountry \"GER\"]\\n[EventDate \"2022.03.05\"]\\n[EventRounds \"15\"]\\n[EventType \"team-tourn\"]\\n[PlyCount \"85\"]\\n[Source \"Chessbase\"]\\n[SourceDate \"2022.05.20\"]\\n[SourceQuality \"1\"]\\n[SourceTitle \"Mega2022 Update 29\"]\\n[SourceVersion \"1\"]\\n[SourceVersionDate \"2022.05.20\"]\\n[WhiteElo \"2642\"]\\n[WhiteTeam \"Kiel Turm\"]\\n[WhiteTeamCountry \"GER\"]\\n\\n1. e4 c5 2. Nf3 d6 3. Bb5+ Nd7 4. O-O a6 5. Bd3 Ngf6 6. Re1 e6 { Die\\nHauptvariante 6...e6 punktet besser als 6...b5. } 7. Bf1 b5 8. a4 Bb7 9. d4 $146 ( { Vorgänger: } 9. d3 Be7 10. c3 O-O 11. Nbd2 Re8 12. Nb3 Bf8 13. Bf4 Qb6 14. Nbd2 Bc6 15. h3 { 0-1 (51) Tomashevsky,E (2702)-Kevlishvili,R (2451) Chess.com\\nINT 2019 } ) 9... cxd4 10. axb5 axb5 11. Rxa8 Qxa8 12. Nxd4 b4 13. Nb5 Qb8 14. Bf4 e5 15. Bd2 Bc6 16. Qe2 Nxe4 17. Bxb4 Be7 18. N1c3 Nxc3 19. bxc3 O-O 20. Nd4 exd4 21. Qxe7 dxc3 22. Bxd6 Qa8 23. Bc4 h6 24. Qe3 Qa4 25. Qf4 Qxc2 26. Bxf8 Qg6 27. Qg3 Nxf8 28. Qxg6 Nxg6 29. Rc1 Nf4 30. f3 Nd5 31. Bxd5 Bxd5 32. Rxc3 g5 33. Kf2 Kg7 34. Ke3 Kf6 35. Kd4 Be6 36. Rc5 Bb3 37. Ke4 Be6 38. Rc6 Ke7 39. Ke5 f6+ 40. Kd4 h5 41. Rc7+ Kd8 42. Rh7 h4 43. f4 1-0</th>\n",
       "      <td>3.0</td>\n",
       "      <td>1.0</td>\n",
       "      <td>5.0</td>\n",
       "      <td>2.0</td>\n",
       "      <td>2.0</td>\n",
       "      <td>1.0</td>\n",
       "      <td>NaN</td>\n",
       "      <td>2.0</td>\n",
       "      <td>1.0</td>\n",
       "      <td>1.0</td>\n",
       "      <td>...</td>\n",
       "      <td>NaN</td>\n",
       "      <td>NaN</td>\n",
       "      <td>NaN</td>\n",
       "      <td>NaN</td>\n",
       "      <td>NaN</td>\n",
       "      <td>NaN</td>\n",
       "      <td>NaN</td>\n",
       "      <td>NaN</td>\n",
       "      <td>NaN</td>\n",
       "      <td>NaN</td>\n",
       "    </tr>\n",
       "    <tr>\n",
       "      <th>[Event \"Sharjah Masters 5th\"]\\n[Site \"Sharjah\"]\\n[Date \"2022.05.21\"]\\n[Round \"1\"]\\n[White \"Van Foreest, Lucas\"]\\n[Black \"Niemann, Hans Moke\"]\\n[Result \"1-0\"]\\n[BlackElo \"2656\"]\\n[ECO \"D35\"]\\n[EventCountry \"UAE\"]\\n[EventDate \"2022.05.21\"]\\n[EventRounds \"9\"]\\n[EventType \"swiss\"]\\n[PlyCount \"63\"]\\n[Source \"Chessbase\"]\\n[SourceDate \"2022.06.02\"]\\n[SourceQuality \"1\"]\\n[SourceTitle \"Mega2022 Update 31\"]\\n[SourceVersion \"1\"]\\n[SourceVersionDate \"2022.06.02\"]\\n[WhiteElo \"2572\"]\\n\\n1. d4 Nf6 2. c4 e6 3. Nc3 d5 4. cxd5 exd5 5. Bg5 c6 6. e3 Be7 7. Bd3 h6 8. Bf4 Nbd7 9. h3 Nf8 10. Nf3 Ne6 11. Bh2 O-O 12. O-O b6 13. Rc1 Bb7 14. Qe2 c5 15. dxc5 bxc5 16. Rfd1 Qb6 17. b3 Rfe8 18. Be5 a6 19. Bf5 Bc6 20. Na4 Bxa4 21. bxa4 Red8 22. Rb1 Qc6 23. a5 Nd7 24. Bg3 Rac8 25. Ne5 Nxe5 26. Bxe5 d4 27. exd4 cxd4 28. Rb6 Qe8 29. Rxe6 fxe6 30. Bxe6+ Kh8 31. Bxc8 Bf6 32. Bxa6 1-0</th>\n",
       "      <td>1.0</td>\n",
       "      <td>1.0</td>\n",
       "      <td>2.0</td>\n",
       "      <td>2.0</td>\n",
       "      <td>1.0</td>\n",
       "      <td>1.0</td>\n",
       "      <td>5.0</td>\n",
       "      <td>NaN</td>\n",
       "      <td>4.0</td>\n",
       "      <td>4.0</td>\n",
       "      <td>...</td>\n",
       "      <td>NaN</td>\n",
       "      <td>NaN</td>\n",
       "      <td>NaN</td>\n",
       "      <td>NaN</td>\n",
       "      <td>NaN</td>\n",
       "      <td>NaN</td>\n",
       "      <td>NaN</td>\n",
       "      <td>NaN</td>\n",
       "      <td>NaN</td>\n",
       "      <td>NaN</td>\n",
       "    </tr>\n",
       "    <tr>\n",
       "      <th>[Event \"Sharjah Masters 5th\"]\\n[Site \"Sharjah\"]\\n[Date \"2022.05.21\"]\\n[Round \"1\"]\\n[White \"Van Foreest, Lucas\"]\\n[Black \"Niemann, Hans Moke\"]\\n[Result \"1-0\"]\\n[BlackElo \"2656\"]\\n[ECO \"D35\"]\\n[EventCountry \"UAE\"]\\n[EventDate \"2022.05.21\"]\\n[EventRounds \"9\"]\\n[EventType \"swiss\"]\\n[PlyCount \"63\"]\\n[Source \"Chessbase\"]\\n[SourceDate \"2022.06.02\"]\\n[SourceQuality \"1\"]\\n[SourceTitle \"Mega2022 Update 31\"]\\n[SourceVersion \"1\"]\\n[SourceVersionDate \"2022.06.02\"]\\n[WhiteElo \"2572\"]\\n\\n1. d4 Nf6 2. c4 e6 3. Nc3 d5 4. cxd5 exd5 5. Bg5 c6 6. e3 Be7 7. Bd3 h6 8. Bf4 Nbd7 9. h3 Nf8 10. Nf3 Ne6 11. Bh2 O-O 12. O-O b6 13. Rc1 Bb7 14. Qe2 c5 15. dxc5 bxc5 16. Rfd1 Qb6 17. b3 Rfe8 18. Be5 a6 19. Bf5 Bc6 20. Na4 Bxa4 21. bxa4 Red8 22. Rb1 Qc6 23. a5 Nd7 24. Bg3 Rac8 25. Ne5 Nxe5 26. Bxe5 d4 27. exd4 cxd4 28. Rb6 Qe8 29. Rxe6 fxe6 30. Bxe6+ Kh8 31. Bxc8 Bf6 32. Bxa6 1-0</th>\n",
       "      <td>1.0</td>\n",
       "      <td>NaN</td>\n",
       "      <td>1.0</td>\n",
       "      <td>2.0</td>\n",
       "      <td>1.0</td>\n",
       "      <td>3.0</td>\n",
       "      <td>NaN</td>\n",
       "      <td>NaN</td>\n",
       "      <td>4.0</td>\n",
       "      <td>5.0</td>\n",
       "      <td>...</td>\n",
       "      <td>NaN</td>\n",
       "      <td>NaN</td>\n",
       "      <td>NaN</td>\n",
       "      <td>NaN</td>\n",
       "      <td>NaN</td>\n",
       "      <td>NaN</td>\n",
       "      <td>NaN</td>\n",
       "      <td>NaN</td>\n",
       "      <td>NaN</td>\n",
       "      <td>NaN</td>\n",
       "    </tr>\n",
       "    <tr>\n",
       "      <th>[Event \"Sharjah Masters 5th\"]\\n[Site \"Sharjah\"]\\n[Date \"2022.05.22\"]\\n[Round \"2\"]\\n[White \"Niemann, Hans Moke\"]\\n[Black \"Mammadzada, Gunay Vuqar Qizi\"]\\n[Result \"1-0\"]\\n[BlackElo \"2454\"]\\n[ECO \"B94\"]\\n[EventCountry \"UAE\"]\\n[EventDate \"2022.05.21\"]\\n[EventRounds \"9\"]\\n[EventType \"swiss\"]\\n[PlyCount \"97\"]\\n[Source \"Chessbase\"]\\n[SourceDate \"2022.06.02\"]\\n[SourceQuality \"1\"]\\n[SourceTitle \"Mega2022 Update 31\"]\\n[SourceVersion \"1\"]\\n[SourceVersionDate \"2022.06.02\"]\\n[WhiteElo \"2656\"]\\n\\n1. e4 c5 2. Nf3 d6 3. d4 cxd4 4. Nxd4 Nf6 5. Nc3 a6 6. Bg5 Nbd7 7. Be3 $5 { [%mdl 4] 7.Qe2 ist aktuell in Mode. Eine interessante Nebenvariante. } 7... e6 8. g4 h6 9. a4 b6 10. h4 Bb7 11. Bg2 Rc8 $146 ( { Vorgänger: } 11... g6 12. g5 hxg5 13. hxg5 Rxh1+ 14. Bxh1 Nh5 15. Bf3 Ng7 16. Qd2 Rc8 17. O-O-O Ne5 { 1-0 (41)\\nKochavi,O (2253)-Ibrahimli,M (2432) Terme Catez 2022 } ) 12. g5 Rxc3 13. bxc3 Nxe4 14. g6 Ndf6 15. gxf7+ Kxf7 16. O-O Be7 17. Re1 e5 18. Nf5 Qd7 19. Qf3 Rb8 20. Nxe7 Qxe7 21. Qh3 Bc8 22. Qh1 Bf5 23. c4 Qc7 24. Bf1 Nc5 25. Ra2 Kg8 26. Qf3 Bg4 27. Qg3 Kh8 28. a5 bxa5 29. Rea1 Nce4 30. Qg2 Bc8 31. Rxa5 Bb7 32. f3 Nc5 33. Bxc5 dxc5 34. R5a3 e4 35. fxe4 Bxe4 36. Qg3 Qd8 37. Qe5 Qf8 38. Rxa6 Ng4 39. Qg3 h5 40. Bd3 Bb7 41. Rf1 Qd8 42. Rd6 Qc8 43. Rf5 Ra8 44. Rxh5+ Kg8 45. Bh7+ Kf7 46. Qf4+ Nf6 47. Rxf6+ gxf6 48. Bg6+ Kg8 49. Rh8+ 1-0</th>\n",
       "      <td>2.0</td>\n",
       "      <td>2.0</td>\n",
       "      <td>1.0</td>\n",
       "      <td>1.0</td>\n",
       "      <td>3.0</td>\n",
       "      <td>NaN</td>\n",
       "      <td>1.0</td>\n",
       "      <td>3.0</td>\n",
       "      <td>2.0</td>\n",
       "      <td>NaN</td>\n",
       "      <td>...</td>\n",
       "      <td>NaN</td>\n",
       "      <td>NaN</td>\n",
       "      <td>NaN</td>\n",
       "      <td>NaN</td>\n",
       "      <td>NaN</td>\n",
       "      <td>NaN</td>\n",
       "      <td>NaN</td>\n",
       "      <td>NaN</td>\n",
       "      <td>NaN</td>\n",
       "      <td>NaN</td>\n",
       "    </tr>\n",
       "    <tr>\n",
       "      <th>...</th>\n",
       "      <td>...</td>\n",
       "      <td>...</td>\n",
       "      <td>...</td>\n",
       "      <td>...</td>\n",
       "      <td>...</td>\n",
       "      <td>...</td>\n",
       "      <td>...</td>\n",
       "      <td>...</td>\n",
       "      <td>...</td>\n",
       "      <td>...</td>\n",
       "      <td>...</td>\n",
       "      <td>...</td>\n",
       "      <td>...</td>\n",
       "      <td>...</td>\n",
       "      <td>...</td>\n",
       "      <td>...</td>\n",
       "      <td>...</td>\n",
       "      <td>...</td>\n",
       "      <td>...</td>\n",
       "      <td>...</td>\n",
       "      <td>...</td>\n",
       "    </tr>\n",
       "    <tr>\n",
       "      <th>[Event \"Sinquefield Cup 9th\"]\\n[Site \"Saint Louis\"]\\n[Date \"2022.09.06\"]\\n[Round \"5\"]\\n[White \"Dominguez Perez, Leinier\"]\\n[Black \"Niemann, Hans Moke\"]\\n[Result \"1/2-1/2\"]\\n[BlackElo \"2688\"]\\n[ECO \"C54\"]\\n[EventCategory \"21\"]\\n[EventCountry \"USA\"]\\n[EventDate \"2022.09.02\"]\\n[EventRounds \"9\"]\\n[EventType \"tourn\"]\\n[PlyCount \"94\"]\\n[Source \"Chessbase\"]\\n[SourceDate \"2022.09.19\"]\\n[SourceQuality \"1\"]\\n[SourceTitle \"Mega2022 Update 46\"]\\n[SourceVersion \"1\"]\\n[SourceVersionDate \"2022.09.19\"]\\n[WhiteElo \"2745\"]\\n\\n1. e4 e5 2. Nf3 Nc6 3. Bc4 Nf6 4. d3 Bc5 5. O-O d6 6. c3 a6 7. a4 Ba7 8. Nbd2 O-O 9. h3 h6 10. Re1 Ne7 11. Bb3 c5 12. Nf1 Be6 13. Ne3 Qd7 14. Bd2 Rad8 15. a5 Bb8 16. Ba4 Qc8 17. c4 Ng6 18. Nd5 Nxd5 19. cxd5 Bd7 20. b4 cxb4 21. Rc1 Bxa4 22. Qxa4 Qd7 23. Qxd7 Rxd7 24. Rc4 Ba7 25. Be3 Bxe3 26. fxe3 f5 27. exf5 Rxf5 28. Rb1 Rff7 29. Nd2 Ne7 30. e4 Kf8 31. Rcxb4 Nc8 32. Nf3 Na7 33. d4 exd4 34. Nxd4 g6 35. R1b3 Kg7 36. h4 Nb5 37. Nxb5 axb5 38. Rf3 Rfe7 39. Kf2 Rc7 40. Ke3 Rc2 41. Rf2 Rc1 42. Kd3 Rd1+ 43. Rd2 Re1 44. Re2 Rd1+ 45. Rd2 Re1 46. Rf2 Rd1+ 47. Rd2 Re1 1/2-1/2</th>\n",
       "      <td>NaN</td>\n",
       "      <td>2.0</td>\n",
       "      <td>10.0</td>\n",
       "      <td>5.0</td>\n",
       "      <td>3.0</td>\n",
       "      <td>1.0</td>\n",
       "      <td>2.0</td>\n",
       "      <td>1.0</td>\n",
       "      <td>1.0</td>\n",
       "      <td>5.0</td>\n",
       "      <td>...</td>\n",
       "      <td>NaN</td>\n",
       "      <td>NaN</td>\n",
       "      <td>NaN</td>\n",
       "      <td>NaN</td>\n",
       "      <td>NaN</td>\n",
       "      <td>NaN</td>\n",
       "      <td>NaN</td>\n",
       "      <td>NaN</td>\n",
       "      <td>NaN</td>\n",
       "      <td>NaN</td>\n",
       "    </tr>\n",
       "    <tr>\n",
       "      <th>[Event \"Sinquefield Cup 9th\"]\\n[Site \"Saint Louis\"]\\n[Date \"2022.09.08\"]\\n[Round \"6\"]\\n[White \"Niemann, Hans Moke\"]\\n[Black \"So, Wesley\"]\\n[Result \"0-1\"]\\n[BlackElo \"2771\"]\\n[ECO \"C42\"]\\n[EventCategory \"21\"]\\n[EventCountry \"USA\"]\\n[EventDate \"2022.09.02\"]\\n[EventRounds \"9\"]\\n[EventType \"tourn\"]\\n[PlyCount \"118\"]\\n[Source \"Chessbase\"]\\n[SourceDate \"2022.09.19\"]\\n[SourceQuality \"1\"]\\n[SourceTitle \"Mega2022 Update 46\"]\\n[SourceVersion \"1\"]\\n[SourceVersionDate \"2022.09.19\"]\\n[WhiteElo \"2688\"]\\n\\n1. e4 e5 2. Nf3 Nf6 3. Nxe5 d6 4. Nf3 Nxe4 5. d4 d5 6. Bd3 Bf5 7. O-O Be7 8. Re1 O-O 9. Nbd2 { Der moderne Zug. } 9... Nd6 10. Nf1 c6 11. Bf4 Bxd3 12. Qxd3 Na6 13. Ne3 Nc7 14. b3 $146 ( { Vorgänger: } 14. Re2 Ne6 15. Bxd6 Bxd6 16. g3 Qd7 17. Rae1 Rae8 18. b3 Nc7 19. c4 { ½-½ (31) Anand,V (2767)-Yu,Y (2738) Stavanger\\n2019 } ) 14... Ne6 15. Be5 Ne4 16. c4 Nf6 17. Rad1 g6 18. g3 a6 19. Re2 Re8 20. h4 Nh5 21. cxd5 cxd5 22. Ng2 f6 23. Bb8 Kf7 24. g4 Qxb8 25. gxh5 Nf4 26. Nxf4 Qxf4 27. hxg6+ hxg6 28. Rde1 Bd6 29. Rxe8 Rxe8 30. Rxe8 Qg4+ 31. Kf1 Kxe8 32. a4 Kf7 33. Qe3 Bf4 34. Qd3 Qh3+ 35. Ke2 Qe6+ 36. Kf1 Qe4 37. Qc3 Bd6 38. Kg2 Qg4+ 39. Kf1 Ke7 40. Ng1 Qf5 41. Qe3+ Qe4 42. Ke2 Bh2 43. Nf3 Bf4 44. Qxe4+ dxe4 45. Ne1 Ke6 46. Ng2 Bb8 47. Ne3 Ba7 48. d5+ Kd6 49. Ng2 Ke5 50. d6 Kxd6 51. Nf4 g5 52. hxg5 fxg5 53. Nh3 g4 54. Ng5 Ke5 55. Nf7+ Kf4 56. Kf1 Bb6 57. Nd6 Kf3 58. Nc4 Bxf2 59. Nd2+ Kf4 0-1</th>\n",
       "      <td>1.0</td>\n",
       "      <td>1.0</td>\n",
       "      <td>NaN</td>\n",
       "      <td>2.0</td>\n",
       "      <td>2.0</td>\n",
       "      <td>8.0</td>\n",
       "      <td>NaN</td>\n",
       "      <td>5.0</td>\n",
       "      <td>8.0</td>\n",
       "      <td>1.0</td>\n",
       "      <td>...</td>\n",
       "      <td>NaN</td>\n",
       "      <td>NaN</td>\n",
       "      <td>NaN</td>\n",
       "      <td>NaN</td>\n",
       "      <td>NaN</td>\n",
       "      <td>NaN</td>\n",
       "      <td>NaN</td>\n",
       "      <td>NaN</td>\n",
       "      <td>NaN</td>\n",
       "      <td>NaN</td>\n",
       "    </tr>\n",
       "    <tr>\n",
       "      <th>[Event \"Sinquefield Cup 9th\"]\\n[Site \"Saint Louis\"]\\n[Date \"2022.09.09\"]\\n[Round \"7\"]\\n[White \"Vachier Lagrave, Maxime\"]\\n[Black \"Niemann, Hans Moke\"]\\n[Result \"1/2-1/2\"]\\n[BlackElo \"2688\"]\\n[ECO \"D73\"]\\n[EventCategory \"21\"]\\n[EventCountry \"USA\"]\\n[EventDate \"2022.09.02\"]\\n[EventRounds \"9\"]\\n[EventType \"tourn\"]\\n[PlyCount \"109\"]\\n[Source \"Chessbase\"]\\n[SourceDate \"2022.09.19\"]\\n[SourceQuality \"1\"]\\n[SourceTitle \"Mega2022 Update 46\"]\\n[SourceVersion \"1\"]\\n[SourceVersionDate \"2022.09.19\"]\\n[WhiteElo \"2757\"]\\n\\n1. Nf3 d5 2. g3 Nf6 3. Bg2 c5 4. O-O g6 5. d4 cxd4 6. Nxd4 Bg7 7. c4 { 7.Nb3\\nverdient Beachtung. } 7... O-O 8. cxd5 Nxd5 9. Nb3 Nb4 10. Nc3 N8c6 11. Bd2 Bf5 12. Rc1 Rc8 13. a3 Na6 14. Be3 Be6 15. Qc2 $146 ( { Vorgänger: } 15. Nd2 Nc7 16. Qa4 Nd5 17. Bxd5 Bxd5 18. Rfd1 Bxc3 19. Rxc3 Qd7 20. Ne4 Qf5 21. Nc5 { 1-0 (34)\\nPantsulaia,L (2607)-Grigoryan,A (2537) Martuni 2008 } ) 15... Bf5 16. Be4 Qd7 17. Rfd1 Qe6 18. Bxf5 gxf5 19. Nd4 Nxd4 20. Bxd4 Nc5 21. Bxg7 Kxg7 22. Rd5 Ne4 23. Qd3 Rc6 24. Rd1 Nxc3 25. bxc3 Rfc8 26. c4 Rxc4 27. Rxf5 Qe4 28. Qxe4 Rxe4 29. Rd7 b6 30. e3 a5 31. Rg5+ Kf6 32. Rb5 Re6 33. Rd4 Kg7 34. Rf4 Rf6 35. Rxf6 exf6 36. Rxb6 Rc3 37. Ra6 Rxa3 38. g4 Ra1+ 39. Kg2 a4 40. h4 h6 41. Kf3 a3 42. h5 Ra2 43. Kg3 Ra1 44. Kf4 Ra2 45. Kf3 Ra1 46. e4 Ra2 47. Ke3 Ra1 48. Kf4 Ra2 49. f3 Ra1 50. Kf5 a2 51. f4 Kg8 52. Ra8+ Kg7 53. Ra6 Kg8 54. Ra8+ Kg7 55. Ra6 1/2-1/2</th>\n",
       "      <td>1.0</td>\n",
       "      <td>7.0</td>\n",
       "      <td>1.0</td>\n",
       "      <td>2.0</td>\n",
       "      <td>1.0</td>\n",
       "      <td>3.0</td>\n",
       "      <td>1.0</td>\n",
       "      <td>1.0</td>\n",
       "      <td>2.0</td>\n",
       "      <td>1.0</td>\n",
       "      <td>...</td>\n",
       "      <td>NaN</td>\n",
       "      <td>NaN</td>\n",
       "      <td>NaN</td>\n",
       "      <td>NaN</td>\n",
       "      <td>NaN</td>\n",
       "      <td>NaN</td>\n",
       "      <td>NaN</td>\n",
       "      <td>NaN</td>\n",
       "      <td>NaN</td>\n",
       "      <td>NaN</td>\n",
       "    </tr>\n",
       "    <tr>\n",
       "      <th>[Event \"Sinquefield Cup 9th\"]\\n[Site \"Saint Louis\"]\\n[Date \"2022.09.10\"]\\n[Round \"8\"]\\n[White \"Niemann, Hans Moke\"]\\n[Black \"Caruana, Fabiano\"]\\n[Result \"0-1\"]\\n[BlackElo \"2758\"]\\n[ECO \"A21\"]\\n[EventCategory \"21\"]\\n[EventCountry \"USA\"]\\n[EventDate \"2022.09.02\"]\\n[EventRounds \"9\"]\\n[EventType \"tourn\"]\\n[PlyCount \"138\"]\\n[Source \"Chessbase\"]\\n[SourceDate \"2022.09.19\"]\\n[SourceQuality \"1\"]\\n[SourceTitle \"Mega2022 Update 46\"]\\n[SourceVersion \"1\"]\\n[SourceVersionDate \"2022.09.19\"]\\n[WhiteElo \"2688\"]\\n\\n1. c4 e5 2. Nc3 Bb4 3. Nd5 a5 4. a3 Bc5 5. Nf3 d6 6. e3 c6 7. d4 Ba7 8. Nc3 Nd7 9. b4 Ngf6 10. Bb2 O-O 11. Be2 exd4 $1 $146 { [%mdl 8] Eine Top Neuerung. } ( { Vorgänger: } 11... Re8 12. O-O e4 13. Nd2 d5 14. cxd5 cxd5 15. Qb3 Nf8 16. Rfc1 Bb8 17. Nf1 axb4 18. Qxb4 { 1-0 (61) Cori,J (2652)-Mareco,S (2629) Krasnaya\\nPolyana 2021 } ) 12. Nxd4 Ne5 13. h3 Re8 14. O-O Bd7 15. Qd2 Bb6 16. Rad1 axb4 17. axb4 Qc8 18. f4 Ng6 19. Kh2 c5 20. bxc5 Qxc5 21. g4 Ba5 22. Qd3 Bxc3 23. Qxc3 Ne4 24. Qd3 Qb4 25. Rb1 Nd2 26. Bc3 Nxf1+ 27. Bxf1 Ra2+ 28. Kg1 Qa4 29. Rxb7 Nh4 30. Bb2 Qa8 31. Qb3 Ra7 32. Rxa7 Qxa7 33. Qc3 f6 34. Qd2 Qxd4 35. Qxd4 Nf3+ 36. Kf2 Nxd4 37. Bxd4 Rc8 38. Bg2 Kf8 39. Bd5 Ke7 40. f5 Ba4 41. Ke2 Bb3 42. Kd3 Ba2 43. Ba7 Bb3 44. Kd4 h5 45. gxh5 Rh8 46. Bf3 Bc2 47. Bg4 Ra8 48. Bb6 Ra3 49. c5 Rd3+ 50. Kc4 dxc5 51. Bxc5+ Kf7 52. Bd4 Ra3 53. Bc3 Be4 54. Kd4 Ra4+ 55. Kc5 Bc2 56. Bb4 Ra1 57. Kd4 Rf1 58. Be2 Rxf5 59. Bd6 Bb3 60. Bf4 Ra5 61. h4 Kg8 62. h6 g6 63. Bc7 Rd5+ 64. Kc3 Rc5+ 65. Kxb3 Rxc7 66. Bd3 f5 67. h5 gxh5 68. Bxf5 h4 69. e4 Rc5 0-1</th>\n",
       "      <td>1.0</td>\n",
       "      <td>1.0</td>\n",
       "      <td>1.0</td>\n",
       "      <td>8.0</td>\n",
       "      <td>4.0</td>\n",
       "      <td>1.0</td>\n",
       "      <td>2.0</td>\n",
       "      <td>8.0</td>\n",
       "      <td>1.0</td>\n",
       "      <td>9.0</td>\n",
       "      <td>...</td>\n",
       "      <td>NaN</td>\n",
       "      <td>NaN</td>\n",
       "      <td>NaN</td>\n",
       "      <td>NaN</td>\n",
       "      <td>NaN</td>\n",
       "      <td>NaN</td>\n",
       "      <td>NaN</td>\n",
       "      <td>NaN</td>\n",
       "      <td>NaN</td>\n",
       "      <td>NaN</td>\n",
       "    </tr>\n",
       "    <tr>\n",
       "      <th>[Event \"Sinquefield Cup 9th\"]\\n[Site \"Saint Louis\"]\\n[Date \"2022.09.11\"]\\n[Round \"9\"]\\n[White \"Nepomniachtchi, Ian\"]\\n[Black \"Niemann, Hans Moke\"]\\n[Result \"1/2-1/2\"]\\n[BlackElo \"2688\"]\\n[ECO \"A21\"]\\n[EventCategory \"21\"]\\n[EventCountry \"USA\"]\\n[EventDate \"2022.09.02\"]\\n[EventRounds \"9\"]\\n[EventType \"tourn\"]\\n[PlyCount \"108\"]\\n[Source \"Chessbase\"]\\n[SourceDate \"2022.09.19\"]\\n[SourceQuality \"1\"]\\n[SourceTitle \"Mega2022 Update 46\"]\\n[SourceVersion \"1\"]\\n[SourceVersionDate \"2022.09.19\"]\\n[WhiteElo \"2792\"]\\n\\n1. c4 e5 2. Nc3 Bb4 3. Nd5 Be7 4. d4 exd4 5. Qxd4 Nf6 6. Nxe7 Qxe7 7. Bg5 Nc6 8. Qc3 d6 9. Nf3 Be6 10. g3 h6 11. Bxf6 Qxf6 12. Qxf6 gxf6 13. Nd2 d5 14. Bg2 dxc4 15. Bxc6+ bxc6 16. O-O-O c3 17. bxc3 Ke7 18. Kc2 Rhb8 19. Rb1 Rb6 20. c4 Ra6 21. Rb2 Rg8 22. h4 Ra4 23. Kc3 Rg4 24. Kb3 Ra5 25. Rc2 Rb5+ 26. Kc3 Rc5 27. Kb2 Re5 28. e3 Rf5 29. Rf1 Rg8 30. Kc3 Ra5 31. Rb1 Rg4 32. Rb4 c5 33. Rb7 Kd7 34. Rb8 Ra3+ 35. Kb2 Ra6 36. Rh8 Ra4 37. a3 f5 38. Rc3 Ke7 39. Rb8 Ra6 40. Kc2 Rb6 41. Ra8 Ra6 42. Kb2 Rb6+ 43. Kc1 Ra6 44. Kc2 Bd7 45. Kb2 Be6 46. Rh8 Rd6 47. Kc1 Bd7 48. Nb3 Ba4 49. Nxc5 Rd1+ 50. Kb2 Rd2+ 51. Kb1 Rd1+ 52. Kb2 Rd2+ 53. Kb1 Rd1+ 54. Kb2 Rd2+ 1/2-1/2</th>\n",
       "      <td>1.0</td>\n",
       "      <td>1.0</td>\n",
       "      <td>3.0</td>\n",
       "      <td>3.0</td>\n",
       "      <td>1.0</td>\n",
       "      <td>3.0</td>\n",
       "      <td>1.0</td>\n",
       "      <td>8.0</td>\n",
       "      <td>1.0</td>\n",
       "      <td>2.0</td>\n",
       "      <td>...</td>\n",
       "      <td>NaN</td>\n",
       "      <td>NaN</td>\n",
       "      <td>NaN</td>\n",
       "      <td>NaN</td>\n",
       "      <td>NaN</td>\n",
       "      <td>NaN</td>\n",
       "      <td>NaN</td>\n",
       "      <td>NaN</td>\n",
       "      <td>NaN</td>\n",
       "      <td>NaN</td>\n",
       "    </tr>\n",
       "  </tbody>\n",
       "</table>\n",
       "<p>100 rows × 109 columns</p>\n",
       "</div>"
      ],
      "text/plain": [
       "                                                     10   11    12   13   14  \\\n",
       "game                                                                           \n",
       "[Event \"Bundesliga 2122\"]\\n[Site \"Germany\"]\\n[D...  3.0  4.0   5.0  3.0  NaN   \n",
       "[Event \"Bundesliga 2122\"]\\n[Site \"Germany\"]\\n[D...  3.0  1.0   5.0  2.0  2.0   \n",
       "[Event \"Sharjah Masters 5th\"]\\n[Site \"Sharjah\"]...  1.0  1.0   2.0  2.0  1.0   \n",
       "[Event \"Sharjah Masters 5th\"]\\n[Site \"Sharjah\"]...  1.0  NaN   1.0  2.0  1.0   \n",
       "[Event \"Sharjah Masters 5th\"]\\n[Site \"Sharjah\"]...  2.0  2.0   1.0  1.0  3.0   \n",
       "...                                                 ...  ...   ...  ...  ...   \n",
       "[Event \"Sinquefield Cup 9th\"]\\n[Site \"Saint Lou...  NaN  2.0  10.0  5.0  3.0   \n",
       "[Event \"Sinquefield Cup 9th\"]\\n[Site \"Saint Lou...  1.0  1.0   NaN  2.0  2.0   \n",
       "[Event \"Sinquefield Cup 9th\"]\\n[Site \"Saint Lou...  1.0  7.0   1.0  2.0  1.0   \n",
       "[Event \"Sinquefield Cup 9th\"]\\n[Site \"Saint Lou...  1.0  1.0   1.0  8.0  4.0   \n",
       "[Event \"Sinquefield Cup 9th\"]\\n[Site \"Saint Lou...  1.0  1.0   3.0  3.0  1.0   \n",
       "\n",
       "                                                     15   16   17   18   19  \\\n",
       "game                                                                          \n",
       "[Event \"Bundesliga 2122\"]\\n[Site \"Germany\"]\\n[D...  1.0  1.0  5.0  1.0  2.0   \n",
       "[Event \"Bundesliga 2122\"]\\n[Site \"Germany\"]\\n[D...  1.0  NaN  2.0  1.0  1.0   \n",
       "[Event \"Sharjah Masters 5th\"]\\n[Site \"Sharjah\"]...  1.0  5.0  NaN  4.0  4.0   \n",
       "[Event \"Sharjah Masters 5th\"]\\n[Site \"Sharjah\"]...  3.0  NaN  NaN  4.0  5.0   \n",
       "[Event \"Sharjah Masters 5th\"]\\n[Site \"Sharjah\"]...  NaN  1.0  3.0  2.0  NaN   \n",
       "...                                                 ...  ...  ...  ...  ...   \n",
       "[Event \"Sinquefield Cup 9th\"]\\n[Site \"Saint Lou...  1.0  2.0  1.0  1.0  5.0   \n",
       "[Event \"Sinquefield Cup 9th\"]\\n[Site \"Saint Lou...  8.0  NaN  5.0  8.0  1.0   \n",
       "[Event \"Sinquefield Cup 9th\"]\\n[Site \"Saint Lou...  3.0  1.0  1.0  2.0  1.0   \n",
       "[Event \"Sinquefield Cup 9th\"]\\n[Site \"Saint Lou...  1.0  2.0  8.0  1.0  9.0   \n",
       "[Event \"Sinquefield Cup 9th\"]\\n[Site \"Saint Lou...  3.0  1.0  8.0  1.0  2.0   \n",
       "\n",
       "                                                    ...  109  110  111  112  \\\n",
       "game                                                ...                       \n",
       "[Event \"Bundesliga 2122\"]\\n[Site \"Germany\"]\\n[D...  ...  NaN  NaN  NaN  NaN   \n",
       "[Event \"Bundesliga 2122\"]\\n[Site \"Germany\"]\\n[D...  ...  NaN  NaN  NaN  NaN   \n",
       "[Event \"Sharjah Masters 5th\"]\\n[Site \"Sharjah\"]...  ...  NaN  NaN  NaN  NaN   \n",
       "[Event \"Sharjah Masters 5th\"]\\n[Site \"Sharjah\"]...  ...  NaN  NaN  NaN  NaN   \n",
       "[Event \"Sharjah Masters 5th\"]\\n[Site \"Sharjah\"]...  ...  NaN  NaN  NaN  NaN   \n",
       "...                                                 ...  ...  ...  ...  ...   \n",
       "[Event \"Sinquefield Cup 9th\"]\\n[Site \"Saint Lou...  ...  NaN  NaN  NaN  NaN   \n",
       "[Event \"Sinquefield Cup 9th\"]\\n[Site \"Saint Lou...  ...  NaN  NaN  NaN  NaN   \n",
       "[Event \"Sinquefield Cup 9th\"]\\n[Site \"Saint Lou...  ...  NaN  NaN  NaN  NaN   \n",
       "[Event \"Sinquefield Cup 9th\"]\\n[Site \"Saint Lou...  ...  NaN  NaN  NaN  NaN   \n",
       "[Event \"Sinquefield Cup 9th\"]\\n[Site \"Saint Lou...  ...  NaN  NaN  NaN  NaN   \n",
       "\n",
       "                                                    113  114  115  116  117  \\\n",
       "game                                                                          \n",
       "[Event \"Bundesliga 2122\"]\\n[Site \"Germany\"]\\n[D...  NaN  NaN  NaN  NaN  NaN   \n",
       "[Event \"Bundesliga 2122\"]\\n[Site \"Germany\"]\\n[D...  NaN  NaN  NaN  NaN  NaN   \n",
       "[Event \"Sharjah Masters 5th\"]\\n[Site \"Sharjah\"]...  NaN  NaN  NaN  NaN  NaN   \n",
       "[Event \"Sharjah Masters 5th\"]\\n[Site \"Sharjah\"]...  NaN  NaN  NaN  NaN  NaN   \n",
       "[Event \"Sharjah Masters 5th\"]\\n[Site \"Sharjah\"]...  NaN  NaN  NaN  NaN  NaN   \n",
       "...                                                 ...  ...  ...  ...  ...   \n",
       "[Event \"Sinquefield Cup 9th\"]\\n[Site \"Saint Lou...  NaN  NaN  NaN  NaN  NaN   \n",
       "[Event \"Sinquefield Cup 9th\"]\\n[Site \"Saint Lou...  NaN  NaN  NaN  NaN  NaN   \n",
       "[Event \"Sinquefield Cup 9th\"]\\n[Site \"Saint Lou...  NaN  NaN  NaN  NaN  NaN   \n",
       "[Event \"Sinquefield Cup 9th\"]\\n[Site \"Saint Lou...  NaN  NaN  NaN  NaN  NaN   \n",
       "[Event \"Sinquefield Cup 9th\"]\\n[Site \"Saint Lou...  NaN  NaN  NaN  NaN  NaN   \n",
       "\n",
       "                                                    Date  \n",
       "game                                                      \n",
       "[Event \"Bundesliga 2122\"]\\n[Site \"Germany\"]\\n[D...   NaN  \n",
       "[Event \"Bundesliga 2122\"]\\n[Site \"Germany\"]\\n[D...   NaN  \n",
       "[Event \"Sharjah Masters 5th\"]\\n[Site \"Sharjah\"]...   NaN  \n",
       "[Event \"Sharjah Masters 5th\"]\\n[Site \"Sharjah\"]...   NaN  \n",
       "[Event \"Sharjah Masters 5th\"]\\n[Site \"Sharjah\"]...   NaN  \n",
       "...                                                  ...  \n",
       "[Event \"Sinquefield Cup 9th\"]\\n[Site \"Saint Lou...   NaN  \n",
       "[Event \"Sinquefield Cup 9th\"]\\n[Site \"Saint Lou...   NaN  \n",
       "[Event \"Sinquefield Cup 9th\"]\\n[Site \"Saint Lou...   NaN  \n",
       "[Event \"Sinquefield Cup 9th\"]\\n[Site \"Saint Lou...   NaN  \n",
       "[Event \"Sinquefield Cup 9th\"]\\n[Site \"Saint Lou...   NaN  \n",
       "\n",
       "[100 rows x 109 columns]"
      ]
     },
     "execution_count": 172,
     "metadata": {},
     "output_type": "execute_result"
    }
   ],
   "source": [
    "results['Niemann, Hans Moke']"
   ]
  },
  {
   "cell_type": "code",
   "execution_count": 161,
   "id": "44351951-4045-449b-b162-f27d54319151",
   "metadata": {},
   "outputs": [
    {
     "ename": "NameError",
     "evalue": "name 'Gretarsson' is not defined",
     "output_type": "error",
     "traceback": [
      "\u001b[0;31m---------------------------------------------------------------------------\u001b[0m",
      "\u001b[0;31mNameError\u001b[0m                                 Traceback (most recent call last)",
      "\u001b[0;32m/tmp/ipykernel_1999401/3071683411.py\u001b[0m in \u001b[0;36m<module>\u001b[0;34m\u001b[0m\n\u001b[0;32m----> 1\u001b[0;31m \u001b[0mGretarsson\u001b[0m\u001b[0;34m\u001b[0m\u001b[0;34m\u001b[0m\u001b[0m\n\u001b[0m",
      "\u001b[0;31mNameError\u001b[0m: name 'Gretarsson' is not defined"
     ]
    }
   ],
   "source": [
    "Gretarsson"
   ]
  },
  {
   "cell_type": "code",
   "execution_count": 159,
   "id": "14db3931-3cf1-4d82-bda1-a474bef3c803",
   "metadata": {},
   "outputs": [
    {
     "data": {
      "text/html": [
       "<div>\n",
       "<style scoped>\n",
       "    .dataframe tbody tr th:only-of-type {\n",
       "        vertical-align: middle;\n",
       "    }\n",
       "\n",
       "    .dataframe tbody tr th {\n",
       "        vertical-align: top;\n",
       "    }\n",
       "\n",
       "    .dataframe thead th {\n",
       "        text-align: right;\n",
       "    }\n",
       "</style>\n",
       "<table border=\"1\" class=\"dataframe\">\n",
       "  <thead>\n",
       "    <tr style=\"text-align: right;\">\n",
       "      <th></th>\n",
       "      <th>Annotator</th>\n",
       "      <th>Black</th>\n",
       "      <th>BlackElo</th>\n",
       "      <th>BlackTeam</th>\n",
       "      <th>BlackTeamCountry</th>\n",
       "      <th>Date</th>\n",
       "      <th>ECO</th>\n",
       "      <th>Event</th>\n",
       "      <th>EventCategory</th>\n",
       "      <th>EventCountry</th>\n",
       "      <th>...</th>\n",
       "      <th>Tiebreak</th>\n",
       "      <th>White</th>\n",
       "      <th>WhiteElo</th>\n",
       "      <th>WhiteTeam</th>\n",
       "      <th>WhiteTeamCountry</th>\n",
       "      <th>game</th>\n",
       "      <th>Date_clean</th>\n",
       "      <th>Online</th>\n",
       "      <th>mainline_moves</th>\n",
       "      <th>number_of_moves</th>\n",
       "    </tr>\n",
       "  </thead>\n",
       "  <tbody>\n",
       "    <tr>\n",
       "      <th>96</th>\n",
       "      <td>NaN</td>\n",
       "      <td>Palmeri, Ralph P</td>\n",
       "      <td>1642</td>\n",
       "      <td>NaN</td>\n",
       "      <td>NaN</td>\n",
       "      <td>2015.03.10</td>\n",
       "      <td>A43</td>\n",
       "      <td>Reykjavik op</td>\n",
       "      <td>NaN</td>\n",
       "      <td>ISL</td>\n",
       "      <td>...</td>\n",
       "      <td>NaN</td>\n",
       "      <td>Niemann, Hans Moke</td>\n",
       "      <td>2275</td>\n",
       "      <td>NaN</td>\n",
       "      <td>NaN</td>\n",
       "      <td>[Event \"Reykjavik op\"]\\n[Site \"Reykjavik\"]\\n[D...</td>\n",
       "      <td>2015-03-10</td>\n",
       "      <td>False</td>\n",
       "      <td>1. d4 c5 2. d5 d6 3. c4 g6 4. Nf3 Nf6 5. Nc3 N...</td>\n",
       "      <td>79</td>\n",
       "    </tr>\n",
       "    <tr>\n",
       "      <th>97</th>\n",
       "      <td>NaN</td>\n",
       "      <td>Stefansson, Vignir Vatnar</td>\n",
       "      <td>1909</td>\n",
       "      <td>NaN</td>\n",
       "      <td>NaN</td>\n",
       "      <td>2015.03.11</td>\n",
       "      <td>E16</td>\n",
       "      <td>Reykjavik op</td>\n",
       "      <td>NaN</td>\n",
       "      <td>ISL</td>\n",
       "      <td>...</td>\n",
       "      <td>NaN</td>\n",
       "      <td>Niemann, Hans Moke</td>\n",
       "      <td>2275</td>\n",
       "      <td>NaN</td>\n",
       "      <td>NaN</td>\n",
       "      <td>[Event \"Reykjavik op\"]\\n[Site \"Reykjavik\"]\\n[D...</td>\n",
       "      <td>2015-03-11</td>\n",
       "      <td>False</td>\n",
       "      <td>1. d4 Nf6 2. c4 e6 3. Nf3 b6 4. g3 Bb7 5. Bg2 ...</td>\n",
       "      <td>121</td>\n",
       "    </tr>\n",
       "    <tr>\n",
       "      <th>98</th>\n",
       "      <td>NaN</td>\n",
       "      <td>Niemann, Hans Moke</td>\n",
       "      <td>2275</td>\n",
       "      <td>NaN</td>\n",
       "      <td>NaN</td>\n",
       "      <td>2015.03.11</td>\n",
       "      <td>E94</td>\n",
       "      <td>Reykjavik op</td>\n",
       "      <td>NaN</td>\n",
       "      <td>ISL</td>\n",
       "      <td>...</td>\n",
       "      <td>NaN</td>\n",
       "      <td>Rasmussen, Allan Stig</td>\n",
       "      <td>2532</td>\n",
       "      <td>NaN</td>\n",
       "      <td>NaN</td>\n",
       "      <td>[Event \"Reykjavik op\"]\\n[Site \"Reykjavik\"]\\n[D...</td>\n",
       "      <td>2015-03-11</td>\n",
       "      <td>False</td>\n",
       "      <td>1. d4 Nf6 2. c4 g6 3. Nc3 Bg7 4. e4 d6 5. Nf3 ...</td>\n",
       "      <td>88</td>\n",
       "    </tr>\n",
       "    <tr>\n",
       "      <th>99</th>\n",
       "      <td>NaN</td>\n",
       "      <td>Niemann, Hans Moke</td>\n",
       "      <td>2275</td>\n",
       "      <td>NaN</td>\n",
       "      <td>NaN</td>\n",
       "      <td>2015.03.12</td>\n",
       "      <td>B22</td>\n",
       "      <td>Reykjavik op</td>\n",
       "      <td>NaN</td>\n",
       "      <td>ISL</td>\n",
       "      <td>...</td>\n",
       "      <td>NaN</td>\n",
       "      <td>Borg, Flemming</td>\n",
       "      <td>1828</td>\n",
       "      <td>NaN</td>\n",
       "      <td>NaN</td>\n",
       "      <td>[Event \"Reykjavik op\"]\\n[Site \"Reykjavik\"]\\n[D...</td>\n",
       "      <td>2015-03-12</td>\n",
       "      <td>False</td>\n",
       "      <td>1. e4 c5 2. c3 Nf6 3. d3 d6 4. g3 Nc6 5. f4 c4...</td>\n",
       "      <td>42</td>\n",
       "    </tr>\n",
       "    <tr>\n",
       "      <th>100</th>\n",
       "      <td>NaN</td>\n",
       "      <td>Wang, Yiye</td>\n",
       "      <td>2433</td>\n",
       "      <td>NaN</td>\n",
       "      <td>NaN</td>\n",
       "      <td>2015.03.13</td>\n",
       "      <td>D23</td>\n",
       "      <td>Reykjavik op</td>\n",
       "      <td>NaN</td>\n",
       "      <td>ISL</td>\n",
       "      <td>...</td>\n",
       "      <td>NaN</td>\n",
       "      <td>Niemann, Hans Moke</td>\n",
       "      <td>2275</td>\n",
       "      <td>NaN</td>\n",
       "      <td>NaN</td>\n",
       "      <td>[Event \"Reykjavik op\"]\\n[Site \"Reykjavik\"]\\n[D...</td>\n",
       "      <td>2015-03-13</td>\n",
       "      <td>False</td>\n",
       "      <td>1. d4 d5 2. c4 c6 3. Nf3 Nf6 4. Qc2 dxc4 5. Qx...</td>\n",
       "      <td>126</td>\n",
       "    </tr>\n",
       "    <tr>\n",
       "      <th>101</th>\n",
       "      <td>NaN</td>\n",
       "      <td>Niemann, Hans Moke</td>\n",
       "      <td>2275</td>\n",
       "      <td>NaN</td>\n",
       "      <td>NaN</td>\n",
       "      <td>2015.03.14</td>\n",
       "      <td>B70</td>\n",
       "      <td>Reykjavik op</td>\n",
       "      <td>NaN</td>\n",
       "      <td>ISL</td>\n",
       "      <td>...</td>\n",
       "      <td>NaN</td>\n",
       "      <td>Baldvinsson, Loftur</td>\n",
       "      <td>1945</td>\n",
       "      <td>NaN</td>\n",
       "      <td>NaN</td>\n",
       "      <td>[Event \"Reykjavik op\"]\\n[Site \"Reykjavik\"]\\n[D...</td>\n",
       "      <td>2015-03-14</td>\n",
       "      <td>False</td>\n",
       "      <td>1. e4 c5 2. Nf3 d6 3. d4 cxd4 4. Nxd4 Nf6 5. N...</td>\n",
       "      <td>167</td>\n",
       "    </tr>\n",
       "    <tr>\n",
       "      <th>102</th>\n",
       "      <td>NaN</td>\n",
       "      <td>Hansen, Lars Henrik Bech</td>\n",
       "      <td>1994</td>\n",
       "      <td>NaN</td>\n",
       "      <td>NaN</td>\n",
       "      <td>2015.03.15</td>\n",
       "      <td>E92</td>\n",
       "      <td>Reykjavik op</td>\n",
       "      <td>NaN</td>\n",
       "      <td>ISL</td>\n",
       "      <td>...</td>\n",
       "      <td>NaN</td>\n",
       "      <td>Niemann, Hans Moke</td>\n",
       "      <td>2275</td>\n",
       "      <td>NaN</td>\n",
       "      <td>NaN</td>\n",
       "      <td>[Event \"Reykjavik op\"]\\n[Site \"Reykjavik\"]\\n[D...</td>\n",
       "      <td>2015-03-15</td>\n",
       "      <td>False</td>\n",
       "      <td>1. d4 g6 2. c4 Nf6 3. Nc3 Bg7 4. e4 d6 5. Nf3 ...</td>\n",
       "      <td>108</td>\n",
       "    </tr>\n",
       "    <tr>\n",
       "      <th>103</th>\n",
       "      <td>NaN</td>\n",
       "      <td>Niemann, Hans Moke</td>\n",
       "      <td>2275</td>\n",
       "      <td>NaN</td>\n",
       "      <td>NaN</td>\n",
       "      <td>2015.03.16</td>\n",
       "      <td>A48</td>\n",
       "      <td>Reykjavik op</td>\n",
       "      <td>NaN</td>\n",
       "      <td>ISL</td>\n",
       "      <td>...</td>\n",
       "      <td>NaN</td>\n",
       "      <td>Valtysson, Thor</td>\n",
       "      <td>1974</td>\n",
       "      <td>NaN</td>\n",
       "      <td>NaN</td>\n",
       "      <td>[Event \"Reykjavik op\"]\\n[Site \"Reykjavik\"]\\n[D...</td>\n",
       "      <td>2015-03-16</td>\n",
       "      <td>False</td>\n",
       "      <td>1. d4 Nf6 2. Nf3 g6 3. Bf4 Bg7 4. e3 O-O 5. Be...</td>\n",
       "      <td>108</td>\n",
       "    </tr>\n",
       "    <tr>\n",
       "      <th>104</th>\n",
       "      <td>NaN</td>\n",
       "      <td>Birkisson, Bardur Orn</td>\n",
       "      <td>1839</td>\n",
       "      <td>NaN</td>\n",
       "      <td>NaN</td>\n",
       "      <td>2015.03.17</td>\n",
       "      <td>E16</td>\n",
       "      <td>Reykjavik op</td>\n",
       "      <td>NaN</td>\n",
       "      <td>ISL</td>\n",
       "      <td>...</td>\n",
       "      <td>NaN</td>\n",
       "      <td>Niemann, Hans Moke</td>\n",
       "      <td>2275</td>\n",
       "      <td>NaN</td>\n",
       "      <td>NaN</td>\n",
       "      <td>[Event \"Reykjavik op\"]\\n[Site \"Reykjavik\"]\\n[D...</td>\n",
       "      <td>2015-03-17</td>\n",
       "      <td>False</td>\n",
       "      <td>1. d4 Nf6 2. c4 e6 3. Nf3 Bb4+ 4. Bd2 a5 5. g3...</td>\n",
       "      <td>107</td>\n",
       "    </tr>\n",
       "    <tr>\n",
       "      <th>105</th>\n",
       "      <td>NaN</td>\n",
       "      <td>Niemann, Hans Moke</td>\n",
       "      <td>2275</td>\n",
       "      <td>NaN</td>\n",
       "      <td>NaN</td>\n",
       "      <td>2015.03.18</td>\n",
       "      <td>B01</td>\n",
       "      <td>Reykjavik op</td>\n",
       "      <td>NaN</td>\n",
       "      <td>ISL</td>\n",
       "      <td>...</td>\n",
       "      <td>NaN</td>\n",
       "      <td>Sequera Paolini, Jose Rafael</td>\n",
       "      <td>2408</td>\n",
       "      <td>NaN</td>\n",
       "      <td>NaN</td>\n",
       "      <td>[Event \"Reykjavik op\"]\\n[Site \"Reykjavik\"]\\n[D...</td>\n",
       "      <td>2015-03-18</td>\n",
       "      <td>False</td>\n",
       "      <td>1. e4 d5 2. exd5 Qxd5 3. Nc3 Qd6 4. d4 c6 5. g...</td>\n",
       "      <td>126</td>\n",
       "    </tr>\n",
       "    <tr>\n",
       "      <th>1352</th>\n",
       "      <td>NaN</td>\n",
       "      <td>Johansson, Carl Fredrik</td>\n",
       "      <td>2221</td>\n",
       "      <td>NaN</td>\n",
       "      <td>NaN</td>\n",
       "      <td>2022.04.06</td>\n",
       "      <td>B51</td>\n",
       "      <td>Reykjavik Kvika op</td>\n",
       "      <td>NaN</td>\n",
       "      <td>ISL</td>\n",
       "      <td>...</td>\n",
       "      <td>NaN</td>\n",
       "      <td>Niemann, Hans Moke</td>\n",
       "      <td>2637</td>\n",
       "      <td>NaN</td>\n",
       "      <td>NaN</td>\n",
       "      <td>[Event \"Reykjavik Kvika op\"]\\n[Site \"Reykjavik...</td>\n",
       "      <td>2022-04-06</td>\n",
       "      <td>False</td>\n",
       "      <td>1. e4 c5 2. Nf3 d6 3. Bb5+ Nd7 4. O-O a6 5. Bd...</td>\n",
       "      <td>95</td>\n",
       "    </tr>\n",
       "    <tr>\n",
       "      <th>1353</th>\n",
       "      <td>NaN</td>\n",
       "      <td>Niemann, Hans Moke</td>\n",
       "      <td>2637</td>\n",
       "      <td>NaN</td>\n",
       "      <td>NaN</td>\n",
       "      <td>2022.04.07</td>\n",
       "      <td>B23</td>\n",
       "      <td>Reykjavik Kvika op</td>\n",
       "      <td>NaN</td>\n",
       "      <td>ISL</td>\n",
       "      <td>...</td>\n",
       "      <td>NaN</td>\n",
       "      <td>Sukandar, Irine Kharisma</td>\n",
       "      <td>2386</td>\n",
       "      <td>NaN</td>\n",
       "      <td>NaN</td>\n",
       "      <td>[Event \"Reykjavik Kvika op\"]\\n[Site \"Reykjavik...</td>\n",
       "      <td>2022-04-07</td>\n",
       "      <td>False</td>\n",
       "      <td>1. e4 c5 2. Nc3 Nc6 3. Bb5 g6 4. Bxc6 bxc6 5. ...</td>\n",
       "      <td>74</td>\n",
       "    </tr>\n",
       "    <tr>\n",
       "      <th>1354</th>\n",
       "      <td>NaN</td>\n",
       "      <td>Beerdsen, Thomas</td>\n",
       "      <td>2496</td>\n",
       "      <td>NaN</td>\n",
       "      <td>NaN</td>\n",
       "      <td>2022.04.07</td>\n",
       "      <td>B51</td>\n",
       "      <td>Reykjavik Kvika op</td>\n",
       "      <td>NaN</td>\n",
       "      <td>ISL</td>\n",
       "      <td>...</td>\n",
       "      <td>NaN</td>\n",
       "      <td>Niemann, Hans Moke</td>\n",
       "      <td>2637</td>\n",
       "      <td>NaN</td>\n",
       "      <td>NaN</td>\n",
       "      <td>[Event \"Reykjavik Kvika op\"]\\n[Site \"Reykjavik...</td>\n",
       "      <td>2022-04-07</td>\n",
       "      <td>False</td>\n",
       "      <td>1. e4 c5 2. Nf3 d6 3. Bb5+ Nd7 4. O-O a6 5. Bd...</td>\n",
       "      <td>59</td>\n",
       "    </tr>\n",
       "    <tr>\n",
       "      <th>1355</th>\n",
       "      <td>NaN</td>\n",
       "      <td>Niemann, Hans Moke</td>\n",
       "      <td>2637</td>\n",
       "      <td>NaN</td>\n",
       "      <td>NaN</td>\n",
       "      <td>2022.04.08</td>\n",
       "      <td>C83</td>\n",
       "      <td>Reykjavik Kvika op</td>\n",
       "      <td>NaN</td>\n",
       "      <td>ISL</td>\n",
       "      <td>...</td>\n",
       "      <td>NaN</td>\n",
       "      <td>Jarmula, Lukasz</td>\n",
       "      <td>2434</td>\n",
       "      <td>NaN</td>\n",
       "      <td>NaN</td>\n",
       "      <td>[Event \"Reykjavik Kvika op\"]\\n[Site \"Reykjavik...</td>\n",
       "      <td>2022-04-08</td>\n",
       "      <td>False</td>\n",
       "      <td>1. e4 e5 2. Nf3 Nc6 3. Bb5 a6 4. Ba4 Nf6 5. O-...</td>\n",
       "      <td>113</td>\n",
       "    </tr>\n",
       "    <tr>\n",
       "      <th>1356</th>\n",
       "      <td>NaN</td>\n",
       "      <td>Gretarsson, Hjorvar Steinn</td>\n",
       "      <td>2542</td>\n",
       "      <td>NaN</td>\n",
       "      <td>NaN</td>\n",
       "      <td>2022.04.09</td>\n",
       "      <td>B47</td>\n",
       "      <td>Reykjavik Kvika op</td>\n",
       "      <td>NaN</td>\n",
       "      <td>ISL</td>\n",
       "      <td>...</td>\n",
       "      <td>NaN</td>\n",
       "      <td>Niemann, Hans Moke</td>\n",
       "      <td>2637</td>\n",
       "      <td>NaN</td>\n",
       "      <td>NaN</td>\n",
       "      <td>[Event \"Reykjavik Kvika op\"]\\n[Site \"Reykjavik...</td>\n",
       "      <td>2022-04-09</td>\n",
       "      <td>False</td>\n",
       "      <td>1. e4 c5 2. Nf3 e6 3. d4 cxd4 4. Nxd4 Nc6 5. N...</td>\n",
       "      <td>73</td>\n",
       "    </tr>\n",
       "    <tr>\n",
       "      <th>1357</th>\n",
       "      <td>NaN</td>\n",
       "      <td>Niemann, Hans Moke</td>\n",
       "      <td>2637</td>\n",
       "      <td>NaN</td>\n",
       "      <td>NaN</td>\n",
       "      <td>2022.04.10</td>\n",
       "      <td>A20</td>\n",
       "      <td>Reykjavik Kvika op</td>\n",
       "      <td>NaN</td>\n",
       "      <td>ISL</td>\n",
       "      <td>...</td>\n",
       "      <td>NaN</td>\n",
       "      <td>Hjartarson, Johann</td>\n",
       "      <td>2465</td>\n",
       "      <td>NaN</td>\n",
       "      <td>NaN</td>\n",
       "      <td>[Event \"Reykjavik Kvika op\"]\\n[Site \"Reykjavik...</td>\n",
       "      <td>2022-04-10</td>\n",
       "      <td>False</td>\n",
       "      <td>1. c4 e5 2. g3 c6 3. d4 e4 4. Nc3 d5 5. Nh3 h6...</td>\n",
       "      <td>53</td>\n",
       "    </tr>\n",
       "    <tr>\n",
       "      <th>1358</th>\n",
       "      <td>NaN</td>\n",
       "      <td>Hedman, Erik</td>\n",
       "      <td>2362</td>\n",
       "      <td>NaN</td>\n",
       "      <td>NaN</td>\n",
       "      <td>2022.04.10</td>\n",
       "      <td>C41</td>\n",
       "      <td>Reykjavik Kvika op</td>\n",
       "      <td>NaN</td>\n",
       "      <td>ISL</td>\n",
       "      <td>...</td>\n",
       "      <td>NaN</td>\n",
       "      <td>Niemann, Hans Moke</td>\n",
       "      <td>2637</td>\n",
       "      <td>NaN</td>\n",
       "      <td>NaN</td>\n",
       "      <td>[Event \"Reykjavik Kvika op\"]\\n[Site \"Reykjavik...</td>\n",
       "      <td>2022-04-10</td>\n",
       "      <td>False</td>\n",
       "      <td>1. e4 d6 2. d4 Nf6 3. Nc3 e5 4. Nf3 Nbd7 5. Bc...</td>\n",
       "      <td>71</td>\n",
       "    </tr>\n",
       "    <tr>\n",
       "      <th>1359</th>\n",
       "      <td>NaN</td>\n",
       "      <td>Niemann, Hans Moke</td>\n",
       "      <td>2637</td>\n",
       "      <td>NaN</td>\n",
       "      <td>NaN</td>\n",
       "      <td>2022.04.11</td>\n",
       "      <td>A04</td>\n",
       "      <td>Reykjavik Kvika op</td>\n",
       "      <td>NaN</td>\n",
       "      <td>ISL</td>\n",
       "      <td>...</td>\n",
       "      <td>NaN</td>\n",
       "      <td>Thorfinnsson, Bragi</td>\n",
       "      <td>2419</td>\n",
       "      <td>NaN</td>\n",
       "      <td>NaN</td>\n",
       "      <td>[Event \"Reykjavik Kvika op\"]\\n[Site \"Reykjavik...</td>\n",
       "      <td>2022-04-11</td>\n",
       "      <td>False</td>\n",
       "      <td>1. Nf3 c5 2. b3 d6 3. Bb2 e5 4. e3 Nf6 5. Bb5+...</td>\n",
       "      <td>119</td>\n",
       "    </tr>\n",
       "    <tr>\n",
       "      <th>1360</th>\n",
       "      <td>NaN</td>\n",
       "      <td>Thorhallsson, Throstur</td>\n",
       "      <td>2422</td>\n",
       "      <td>NaN</td>\n",
       "      <td>NaN</td>\n",
       "      <td>2022.04.12</td>\n",
       "      <td>D00</td>\n",
       "      <td>Reykjavik Kvika op</td>\n",
       "      <td>NaN</td>\n",
       "      <td>ISL</td>\n",
       "      <td>...</td>\n",
       "      <td>NaN</td>\n",
       "      <td>Niemann, Hans Moke</td>\n",
       "      <td>2637</td>\n",
       "      <td>NaN</td>\n",
       "      <td>NaN</td>\n",
       "      <td>[Event \"Reykjavik Kvika op\"]\\n[Site \"Reykjavik...</td>\n",
       "      <td>2022-04-12</td>\n",
       "      <td>False</td>\n",
       "      <td>1. d4 Nf6 2. Nc3 d5 3. Bf4 a6 4. e3 b5 5. h4 e...</td>\n",
       "      <td>41</td>\n",
       "    </tr>\n",
       "  </tbody>\n",
       "</table>\n",
       "<p>19 rows × 33 columns</p>\n",
       "</div>"
      ],
      "text/plain": [
       "     Annotator                       Black BlackElo BlackTeam  \\\n",
       "96         NaN            Palmeri, Ralph P     1642       NaN   \n",
       "97         NaN   Stefansson, Vignir Vatnar     1909       NaN   \n",
       "98         NaN          Niemann, Hans Moke     2275       NaN   \n",
       "99         NaN          Niemann, Hans Moke     2275       NaN   \n",
       "100        NaN                  Wang, Yiye     2433       NaN   \n",
       "101        NaN          Niemann, Hans Moke     2275       NaN   \n",
       "102        NaN    Hansen, Lars Henrik Bech     1994       NaN   \n",
       "103        NaN          Niemann, Hans Moke     2275       NaN   \n",
       "104        NaN       Birkisson, Bardur Orn     1839       NaN   \n",
       "105        NaN          Niemann, Hans Moke     2275       NaN   \n",
       "1352       NaN     Johansson, Carl Fredrik     2221       NaN   \n",
       "1353       NaN          Niemann, Hans Moke     2637       NaN   \n",
       "1354       NaN            Beerdsen, Thomas     2496       NaN   \n",
       "1355       NaN          Niemann, Hans Moke     2637       NaN   \n",
       "1356       NaN  Gretarsson, Hjorvar Steinn     2542       NaN   \n",
       "1357       NaN          Niemann, Hans Moke     2637       NaN   \n",
       "1358       NaN                Hedman, Erik     2362       NaN   \n",
       "1359       NaN          Niemann, Hans Moke     2637       NaN   \n",
       "1360       NaN      Thorhallsson, Throstur     2422       NaN   \n",
       "\n",
       "     BlackTeamCountry        Date  ECO               Event EventCategory  \\\n",
       "96                NaN  2015.03.10  A43        Reykjavik op           NaN   \n",
       "97                NaN  2015.03.11  E16        Reykjavik op           NaN   \n",
       "98                NaN  2015.03.11  E94        Reykjavik op           NaN   \n",
       "99                NaN  2015.03.12  B22        Reykjavik op           NaN   \n",
       "100               NaN  2015.03.13  D23        Reykjavik op           NaN   \n",
       "101               NaN  2015.03.14  B70        Reykjavik op           NaN   \n",
       "102               NaN  2015.03.15  E92        Reykjavik op           NaN   \n",
       "103               NaN  2015.03.16  A48        Reykjavik op           NaN   \n",
       "104               NaN  2015.03.17  E16        Reykjavik op           NaN   \n",
       "105               NaN  2015.03.18  B01        Reykjavik op           NaN   \n",
       "1352              NaN  2022.04.06  B51  Reykjavik Kvika op           NaN   \n",
       "1353              NaN  2022.04.07  B23  Reykjavik Kvika op           NaN   \n",
       "1354              NaN  2022.04.07  B51  Reykjavik Kvika op           NaN   \n",
       "1355              NaN  2022.04.08  C83  Reykjavik Kvika op           NaN   \n",
       "1356              NaN  2022.04.09  B47  Reykjavik Kvika op           NaN   \n",
       "1357              NaN  2022.04.10  A20  Reykjavik Kvika op           NaN   \n",
       "1358              NaN  2022.04.10  C41  Reykjavik Kvika op           NaN   \n",
       "1359              NaN  2022.04.11  A04  Reykjavik Kvika op           NaN   \n",
       "1360              NaN  2022.04.12  D00  Reykjavik Kvika op           NaN   \n",
       "\n",
       "     EventCountry  ... Tiebreak                         White WhiteElo  \\\n",
       "96            ISL  ...      NaN            Niemann, Hans Moke     2275   \n",
       "97            ISL  ...      NaN            Niemann, Hans Moke     2275   \n",
       "98            ISL  ...      NaN         Rasmussen, Allan Stig     2532   \n",
       "99            ISL  ...      NaN                Borg, Flemming     1828   \n",
       "100           ISL  ...      NaN            Niemann, Hans Moke     2275   \n",
       "101           ISL  ...      NaN           Baldvinsson, Loftur     1945   \n",
       "102           ISL  ...      NaN            Niemann, Hans Moke     2275   \n",
       "103           ISL  ...      NaN               Valtysson, Thor     1974   \n",
       "104           ISL  ...      NaN            Niemann, Hans Moke     2275   \n",
       "105           ISL  ...      NaN  Sequera Paolini, Jose Rafael     2408   \n",
       "1352          ISL  ...      NaN            Niemann, Hans Moke     2637   \n",
       "1353          ISL  ...      NaN      Sukandar, Irine Kharisma     2386   \n",
       "1354          ISL  ...      NaN            Niemann, Hans Moke     2637   \n",
       "1355          ISL  ...      NaN               Jarmula, Lukasz     2434   \n",
       "1356          ISL  ...      NaN            Niemann, Hans Moke     2637   \n",
       "1357          ISL  ...      NaN            Hjartarson, Johann     2465   \n",
       "1358          ISL  ...      NaN            Niemann, Hans Moke     2637   \n",
       "1359          ISL  ...      NaN           Thorfinnsson, Bragi     2419   \n",
       "1360          ISL  ...      NaN            Niemann, Hans Moke     2637   \n",
       "\n",
       "     WhiteTeam WhiteTeamCountry  \\\n",
       "96         NaN              NaN   \n",
       "97         NaN              NaN   \n",
       "98         NaN              NaN   \n",
       "99         NaN              NaN   \n",
       "100        NaN              NaN   \n",
       "101        NaN              NaN   \n",
       "102        NaN              NaN   \n",
       "103        NaN              NaN   \n",
       "104        NaN              NaN   \n",
       "105        NaN              NaN   \n",
       "1352       NaN              NaN   \n",
       "1353       NaN              NaN   \n",
       "1354       NaN              NaN   \n",
       "1355       NaN              NaN   \n",
       "1356       NaN              NaN   \n",
       "1357       NaN              NaN   \n",
       "1358       NaN              NaN   \n",
       "1359       NaN              NaN   \n",
       "1360       NaN              NaN   \n",
       "\n",
       "                                                   game Date_clean Online  \\\n",
       "96    [Event \"Reykjavik op\"]\\n[Site \"Reykjavik\"]\\n[D... 2015-03-10  False   \n",
       "97    [Event \"Reykjavik op\"]\\n[Site \"Reykjavik\"]\\n[D... 2015-03-11  False   \n",
       "98    [Event \"Reykjavik op\"]\\n[Site \"Reykjavik\"]\\n[D... 2015-03-11  False   \n",
       "99    [Event \"Reykjavik op\"]\\n[Site \"Reykjavik\"]\\n[D... 2015-03-12  False   \n",
       "100   [Event \"Reykjavik op\"]\\n[Site \"Reykjavik\"]\\n[D... 2015-03-13  False   \n",
       "101   [Event \"Reykjavik op\"]\\n[Site \"Reykjavik\"]\\n[D... 2015-03-14  False   \n",
       "102   [Event \"Reykjavik op\"]\\n[Site \"Reykjavik\"]\\n[D... 2015-03-15  False   \n",
       "103   [Event \"Reykjavik op\"]\\n[Site \"Reykjavik\"]\\n[D... 2015-03-16  False   \n",
       "104   [Event \"Reykjavik op\"]\\n[Site \"Reykjavik\"]\\n[D... 2015-03-17  False   \n",
       "105   [Event \"Reykjavik op\"]\\n[Site \"Reykjavik\"]\\n[D... 2015-03-18  False   \n",
       "1352  [Event \"Reykjavik Kvika op\"]\\n[Site \"Reykjavik... 2022-04-06  False   \n",
       "1353  [Event \"Reykjavik Kvika op\"]\\n[Site \"Reykjavik... 2022-04-07  False   \n",
       "1354  [Event \"Reykjavik Kvika op\"]\\n[Site \"Reykjavik... 2022-04-07  False   \n",
       "1355  [Event \"Reykjavik Kvika op\"]\\n[Site \"Reykjavik... 2022-04-08  False   \n",
       "1356  [Event \"Reykjavik Kvika op\"]\\n[Site \"Reykjavik... 2022-04-09  False   \n",
       "1357  [Event \"Reykjavik Kvika op\"]\\n[Site \"Reykjavik... 2022-04-10  False   \n",
       "1358  [Event \"Reykjavik Kvika op\"]\\n[Site \"Reykjavik... 2022-04-10  False   \n",
       "1359  [Event \"Reykjavik Kvika op\"]\\n[Site \"Reykjavik... 2022-04-11  False   \n",
       "1360  [Event \"Reykjavik Kvika op\"]\\n[Site \"Reykjavik... 2022-04-12  False   \n",
       "\n",
       "                                         mainline_moves number_of_moves  \n",
       "96    1. d4 c5 2. d5 d6 3. c4 g6 4. Nf3 Nf6 5. Nc3 N...              79  \n",
       "97    1. d4 Nf6 2. c4 e6 3. Nf3 b6 4. g3 Bb7 5. Bg2 ...             121  \n",
       "98    1. d4 Nf6 2. c4 g6 3. Nc3 Bg7 4. e4 d6 5. Nf3 ...              88  \n",
       "99    1. e4 c5 2. c3 Nf6 3. d3 d6 4. g3 Nc6 5. f4 c4...              42  \n",
       "100   1. d4 d5 2. c4 c6 3. Nf3 Nf6 4. Qc2 dxc4 5. Qx...             126  \n",
       "101   1. e4 c5 2. Nf3 d6 3. d4 cxd4 4. Nxd4 Nf6 5. N...             167  \n",
       "102   1. d4 g6 2. c4 Nf6 3. Nc3 Bg7 4. e4 d6 5. Nf3 ...             108  \n",
       "103   1. d4 Nf6 2. Nf3 g6 3. Bf4 Bg7 4. e3 O-O 5. Be...             108  \n",
       "104   1. d4 Nf6 2. c4 e6 3. Nf3 Bb4+ 4. Bd2 a5 5. g3...             107  \n",
       "105   1. e4 d5 2. exd5 Qxd5 3. Nc3 Qd6 4. d4 c6 5. g...             126  \n",
       "1352  1. e4 c5 2. Nf3 d6 3. Bb5+ Nd7 4. O-O a6 5. Bd...              95  \n",
       "1353  1. e4 c5 2. Nc3 Nc6 3. Bb5 g6 4. Bxc6 bxc6 5. ...              74  \n",
       "1354  1. e4 c5 2. Nf3 d6 3. Bb5+ Nd7 4. O-O a6 5. Bd...              59  \n",
       "1355  1. e4 e5 2. Nf3 Nc6 3. Bb5 a6 4. Ba4 Nf6 5. O-...             113  \n",
       "1356  1. e4 c5 2. Nf3 e6 3. d4 cxd4 4. Nxd4 Nc6 5. N...              73  \n",
       "1357  1. c4 e5 2. g3 c6 3. d4 e4 4. Nc3 d5 5. Nh3 h6...              53  \n",
       "1358  1. e4 d6 2. d4 Nf6 3. Nc3 e5 4. Nf3 Nbd7 5. Bc...              71  \n",
       "1359  1. Nf3 c5 2. b3 d6 3. Bb2 e5 4. e3 Nf6 5. Bb5+...             119  \n",
       "1360  1. d4 Nf6 2. Nc3 d5 3. Bf4 a6 4. e3 b5 5. h4 e...              41  \n",
       "\n",
       "[19 rows x 33 columns]"
      ]
     },
     "execution_count": 159,
     "metadata": {},
     "output_type": "execute_result"
    }
   ],
   "source": [
    "games_df.loc[games_df['Event'].str.contains('Rey')]"
   ]
  },
  {
   "cell_type": "code",
   "execution_count": 156,
   "id": "e4cf259d-202b-498d-92af-8e1279fd5435",
   "metadata": {},
   "outputs": [
    {
     "data": {
      "text/plain": [
       "Miami FTX Crypto Cup                 25\n",
       "Wch Blitz                            21\n",
       "USA-ch U20                           18\n",
       "Prague Challengers 4th               18\n",
       "Lindores Abbey Blitz Tal Memorial    18\n",
       "Sharjah Masters 5th                  18\n",
       "Charlotte CCCSA IM                   18\n",
       "Jermuk Avagyan Memorial              18\n",
       "Wch U12                              17\n",
       "USA-ch U16                           16\n",
       "Las Vegas National op                15\n",
       "US Masters op                        14\n",
       "San Francisco TNM Summer op          14\n",
       "San Francisco TNM Fall op            13\n",
       "San Francisco TNM Spring op          13\n",
       "Wch Rapid                            13\n",
       "San Francisco TNM Winter op          13\n",
       "SRB-chT Premier                      11\n",
       "FIDE Grand Swiss                     11\n",
       "Wch U16                              11\n",
       "Name: Event, dtype: int64"
      ]
     },
     "execution_count": 156,
     "metadata": {},
     "output_type": "execute_result"
    }
   ],
   "source": [
    "games_df['Event'].value_counts().head(20)"
   ]
  },
  {
   "cell_type": "code",
   "execution_count": 151,
   "id": "ffee75b4-282c-4489-a670-7b41df4834fe",
   "metadata": {},
   "outputs": [],
   "source": [
    "# fig, ax = plt.subplots(figsize=(15, 10))\n",
    "# idx = 0\n",
    "# for i, d in results.items():\n",
    "#     pd.DataFrame([(~d.isna()).sum(axis=1), d.mean(axis=1)]).T.plot(x=0, y=1, kind='scatter', ax=ax, label=i, color=pal[idx])\n",
    "#     idx += 1"
   ]
  }
 ],
 "metadata": {
  "kernelspec": {
   "display_name": "Python 3 (ipykernel)",
   "language": "python",
   "name": "python3"
  },
  "language_info": {
   "codemirror_mode": {
    "name": "ipython",
    "version": 3
   },
   "file_extension": ".py",
   "mimetype": "text/x-python",
   "name": "python",
   "nbconvert_exporter": "python",
   "pygments_lexer": "ipython3",
   "version": "3.8.5"
  }
 },
 "nbformat": 4,
 "nbformat_minor": 5
}
