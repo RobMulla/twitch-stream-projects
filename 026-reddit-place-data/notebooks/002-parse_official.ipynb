{
 "cells": [
  {
   "cell_type": "markdown",
   "id": "ae432262-5e22-49c9-81d8-7d9ec1418b2d",
   "metadata": {},
   "source": [
    "# Process Files and Convert to Parquet"
   ]
  },
  {
   "cell_type": "code",
   "execution_count": 1,
   "id": "40d35d4b-3858-4cc8-8356-8cabc3ac8dfe",
   "metadata": {},
   "outputs": [],
   "source": [
    "import pandas as pd\n",
    "from pathlib import Path\n",
    "import os\n",
    "from tqdm.notebook import tqdm\n",
    "from p_tqdm import p_map, p_umap, p_imap, p_uimap"
   ]
  },
  {
   "cell_type": "markdown",
   "id": "bf28d295-890f-49d3-b444-710b0c602b62",
   "metadata": {},
   "source": [
    "## Set the base directory of the files."
   ]
  },
  {
   "cell_type": "code",
   "execution_count": 2,
   "id": "1fde79ed-3c6d-4378-b04e-ba36f88846bc",
   "metadata": {},
   "outputs": [],
   "source": [
    "base_dir = Path('/media/robmulla/moardata/reddit_place2/')"
   ]
  },
  {
   "cell_type": "code",
   "execution_count": 3,
   "id": "165059a6-57fd-4652-b52b-d6e0e472c502",
   "metadata": {},
   "outputs": [],
   "source": [
    "def process_csv(fn):\n",
    "    # fn = '2022_place_canvas_history-000000000000.csv.gzip'\n",
    "    df = pd.read_csv(base_dir / fn, compression='gzip')\n",
    "\n",
    "    df['timestamp'] = pd.to_datetime(df['timestamp'])\n",
    "\n",
    "    df['x'] = df['coordinate'].str.split(',', expand=True)[0].astype('int')\n",
    "    df['y'] = df['coordinate'].str.split(',', expand=True)[1].astype('int')\n",
    "    try:\n",
    "        df['x2'] = df['coordinate'].str.split(',', expand=True)[2].astype('int')\n",
    "        df['y2'] = df['coordinate'].str.split(',', expand=True)[3].astype('int')\n",
    "        print(f'{fn} has additional x,y points')\n",
    "    except:\n",
    "        pass\n",
    "    df = df.drop('coordinate', axis=1)\n",
    "    out_fn = base_dir / (fn.strip('csv.gzip') + '.parquet')\n",
    "    df.to_parquet(out_fn)"
   ]
  },
  {
   "cell_type": "code",
   "execution_count": 4,
   "id": "3d8dd8e7-52a7-4cbd-bdec-f17751922635",
   "metadata": {},
   "outputs": [],
   "source": [
    "csvs = [f for f in os.listdir(base_dir) if f.endswith('csv.gzip')]"
   ]
  },
  {
   "cell_type": "code",
   "execution_count": 5,
   "id": "ca50eeb0-44b5-4ba6-b022-7474e3d67230",
   "metadata": {},
   "outputs": [
    {
     "data": {
      "application/vnd.jupyter.widget-view+json": {
       "model_id": "529a25b097ec4cdf9968cabbb11fc5d5",
       "version_major": 2,
       "version_minor": 0
      },
      "text/plain": [
       "  0%|          | 0/79 [00:00<?, ?it/s]"
      ]
     },
     "metadata": {},
     "output_type": "display_data"
    },
    {
     "data": {
      "text/plain": [
       "[None,\n",
       " None,\n",
       " None,\n",
       " None,\n",
       " None,\n",
       " None,\n",
       " None,\n",
       " None,\n",
       " None,\n",
       " None,\n",
       " None,\n",
       " None,\n",
       " None,\n",
       " None,\n",
       " None,\n",
       " None,\n",
       " None,\n",
       " None,\n",
       " None,\n",
       " None,\n",
       " None,\n",
       " None,\n",
       " None,\n",
       " None,\n",
       " None,\n",
       " None,\n",
       " None,\n",
       " None,\n",
       " None,\n",
       " None,\n",
       " None,\n",
       " None,\n",
       " None,\n",
       " None,\n",
       " None,\n",
       " None,\n",
       " None,\n",
       " None,\n",
       " None,\n",
       " None,\n",
       " None,\n",
       " None,\n",
       " None,\n",
       " None,\n",
       " None,\n",
       " None,\n",
       " None,\n",
       " None,\n",
       " None,\n",
       " None,\n",
       " None,\n",
       " None,\n",
       " None,\n",
       " None,\n",
       " None,\n",
       " None,\n",
       " None,\n",
       " None,\n",
       " None,\n",
       " None,\n",
       " None,\n",
       " None,\n",
       " None,\n",
       " None,\n",
       " None,\n",
       " None,\n",
       " None,\n",
       " None,\n",
       " None,\n",
       " None,\n",
       " None,\n",
       " None,\n",
       " None,\n",
       " None,\n",
       " None,\n",
       " None,\n",
       " None,\n",
       " None,\n",
       " None]"
      ]
     },
     "execution_count": 5,
     "metadata": {},
     "output_type": "execute_result"
    }
   ],
   "source": [
    "p_map(process_csv, csvs, num_cpus=26)"
   ]
  },
  {
   "cell_type": "code",
   "execution_count": null,
   "id": "b2c22897-c9fe-4157-afe2-e7bf82c7e595",
   "metadata": {},
   "outputs": [],
   "source": [
    "print('test this 1,2,3')"
   ]
  }
 ],
 "metadata": {
  "kernelspec": {
   "display_name": "Python 3 (ipykernel)",
   "language": "python",
   "name": "python3"
  },
  "language_info": {
   "codemirror_mode": {
    "name": "ipython",
    "version": 3
   },
   "file_extension": ".py",
   "mimetype": "text/x-python",
   "name": "python",
   "nbconvert_exporter": "python",
   "pygments_lexer": "ipython3",
   "version": "3.8.5"
  }
 },
 "nbformat": 4,
 "nbformat_minor": 5
}
