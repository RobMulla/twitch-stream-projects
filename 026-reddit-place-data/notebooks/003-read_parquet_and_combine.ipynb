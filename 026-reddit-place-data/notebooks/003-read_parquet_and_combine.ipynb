{
 "cells": [
  {
   "cell_type": "markdown",
   "id": "d0d6d725-0d8c-46a0-893a-7db8abcf56a0",
   "metadata": {},
   "source": [
    "# Read Files"
   ]
  },
  {
   "cell_type": "code",
   "execution_count": 1,
   "id": "c5f39d77-0fa5-424a-856a-feaafce96b11",
   "metadata": {},
   "outputs": [],
   "source": [
    "import pandas as pd\n",
    "import numpy as np\n",
    "from glob import glob\n",
    "import os, psutil\n",
    "from tqdm.notebook import tqdm"
   ]
  },
  {
   "cell_type": "code",
   "execution_count": 2,
   "id": "6995cf59-9ed5-4a7c-ba58-ed930ec63d6b",
   "metadata": {},
   "outputs": [],
   "source": [
    "fns = glob('/media/robmulla/moardata/reddit_place2/*.parquet')"
   ]
  },
  {
   "cell_type": "code",
   "execution_count": 3,
   "id": "d05cad16-747b-4dc0-9233-dcd01f8d1376",
   "metadata": {},
   "outputs": [
    {
     "name": "stdout",
     "output_type": "stream",
     "text": [
      "118521856\n"
     ]
    }
   ],
   "source": [
    "process = psutil.Process(os.getpid())\n",
    "print(process.memory_info().rss)"
   ]
  },
  {
   "cell_type": "code",
   "execution_count": 5,
   "id": "21802aef-8483-45ba-99b9-bb79e9b4d98f",
   "metadata": {},
   "outputs": [],
   "source": [
    "fns.sort()"
   ]
  },
  {
   "cell_type": "code",
   "execution_count": 7,
   "id": "c2c764e7-7c1f-4851-89d0-eced51d186d8",
   "metadata": {},
   "outputs": [
    {
     "name": "stdout",
     "output_type": "stream",
     "text": [
      "118722560\n"
     ]
    },
    {
     "data": {
      "application/vnd.jupyter.widget-view+json": {
       "model_id": "580c27d427cd4f59bec79e7a2ff30f27",
       "version_major": 2,
       "version_minor": 0
      },
      "text/plain": [
       "  0%|          | 0/79 [00:00<?, ?it/s]"
      ]
     },
     "metadata": {},
     "output_type": "display_data"
    },
    {
     "name": "stdout",
     "output_type": "stream",
     "text": [
      "About to concat\n",
      "14434549760\n",
      "Done with concat\n",
      "20718911488\n"
     ]
    }
   ],
   "source": [
    "dfs = []\n",
    "print(process.memory_info().rss) \n",
    "for f in tqdm(fns):\n",
    "    df = pd.read_parquet(f)\n",
    "    df['pixel_color'] = df['pixel_color'].astype('category')\n",
    "    df['x'] = df['x'].astype('int32')\n",
    "    df['y'] = df['y'].astype('int32')\n",
    "    dfs.append(df)\n",
    "print('About to concat')\n",
    "print(process.memory_info().rss) \n",
    "# Does this double our memory use\n",
    "dfs = pd.concat(dfs)\n",
    "print('Done with concat')\n",
    "print(process.memory_info().rss)"
   ]
  },
  {
   "cell_type": "code",
   "execution_count": 9,
   "id": "77b1afa2-1ff7-4505-9583-5d30459892b3",
   "metadata": {},
   "outputs": [],
   "source": [
    "dfs.to_parquet('/media/robmulla/moardata/reddit_place2/combined_v1.parquet')"
   ]
  },
  {
   "cell_type": "code",
   "execution_count": 8,
   "id": "04f48a81-b672-42f2-a72e-c17cc2ca468f",
   "metadata": {},
   "outputs": [
    {
     "data": {
      "text/html": [
       "<div>\n",
       "<style scoped>\n",
       "    .dataframe tbody tr th:only-of-type {\n",
       "        vertical-align: middle;\n",
       "    }\n",
       "\n",
       "    .dataframe tbody tr th {\n",
       "        vertical-align: top;\n",
       "    }\n",
       "\n",
       "    .dataframe thead th {\n",
       "        text-align: right;\n",
       "    }\n",
       "</style>\n",
       "<table border=\"1\" class=\"dataframe\">\n",
       "  <thead>\n",
       "    <tr style=\"text-align: right;\">\n",
       "      <th></th>\n",
       "      <th>timestamp</th>\n",
       "      <th>user_id</th>\n",
       "      <th>pixel_color</th>\n",
       "      <th>x</th>\n",
       "      <th>y</th>\n",
       "    </tr>\n",
       "  </thead>\n",
       "  <tbody>\n",
       "    <tr>\n",
       "      <th>0</th>\n",
       "      <td>2022-04-04 00:53:51.577000+00:00</td>\n",
       "      <td>ovTZk4GyTS1mDQnTbV+vDOCu1f+u6w+CkIZ6445vD4XN8a...</td>\n",
       "      <td>#00CCC0</td>\n",
       "      <td>826</td>\n",
       "      <td>1048</td>\n",
       "    </tr>\n",
       "    <tr>\n",
       "      <th>1</th>\n",
       "      <td>2022-04-04 00:53:53.758000+00:00</td>\n",
       "      <td>6NSgFa1CvIPly1VniNhlbrmoN3vgDFbMSKqh+c4TTfrr3d...</td>\n",
       "      <td>#94B3FF</td>\n",
       "      <td>583</td>\n",
       "      <td>1031</td>\n",
       "    </tr>\n",
       "    <tr>\n",
       "      <th>2</th>\n",
       "      <td>2022-04-04 00:53:54.685000+00:00</td>\n",
       "      <td>O5Oityp3Z3owzTuwM9XnMggpLcqKEumsOMKGhRiDTTImWb...</td>\n",
       "      <td>#6A5CFF</td>\n",
       "      <td>1873</td>\n",
       "      <td>558</td>\n",
       "    </tr>\n",
       "    <tr>\n",
       "      <th>3</th>\n",
       "      <td>2022-04-04 00:54:57.541000+00:00</td>\n",
       "      <td>tc273UiqS0wKa6VwiOs/iz/t4LyPYrhL2Q347awn11IQQE...</td>\n",
       "      <td>#009EAA</td>\n",
       "      <td>1627</td>\n",
       "      <td>255</td>\n",
       "    </tr>\n",
       "    <tr>\n",
       "      <th>4</th>\n",
       "      <td>2022-04-04 00:55:16.307000+00:00</td>\n",
       "      <td>OOWsU/HLb4UUkQwclDeXFtsJTOXMlAdNHiRpFA1Qk+SxUr...</td>\n",
       "      <td>#94B3FF</td>\n",
       "      <td>49</td>\n",
       "      <td>1478</td>\n",
       "    </tr>\n",
       "  </tbody>\n",
       "</table>\n",
       "</div>"
      ],
      "text/plain": [
       "                         timestamp  \\\n",
       "0 2022-04-04 00:53:51.577000+00:00   \n",
       "1 2022-04-04 00:53:53.758000+00:00   \n",
       "2 2022-04-04 00:53:54.685000+00:00   \n",
       "3 2022-04-04 00:54:57.541000+00:00   \n",
       "4 2022-04-04 00:55:16.307000+00:00   \n",
       "\n",
       "                                             user_id pixel_color     x     y  \n",
       "0  ovTZk4GyTS1mDQnTbV+vDOCu1f+u6w+CkIZ6445vD4XN8a...     #00CCC0   826  1048  \n",
       "1  6NSgFa1CvIPly1VniNhlbrmoN3vgDFbMSKqh+c4TTfrr3d...     #94B3FF   583  1031  \n",
       "2  O5Oityp3Z3owzTuwM9XnMggpLcqKEumsOMKGhRiDTTImWb...     #6A5CFF  1873   558  \n",
       "3  tc273UiqS0wKa6VwiOs/iz/t4LyPYrhL2Q347awn11IQQE...     #009EAA  1627   255  \n",
       "4  OOWsU/HLb4UUkQwclDeXFtsJTOXMlAdNHiRpFA1Qk+SxUr...     #94B3FF    49  1478  "
      ]
     },
     "execution_count": 8,
     "metadata": {},
     "output_type": "execute_result"
    }
   ],
   "source": [
    "dfs.head()"
   ]
  }
 ],
 "metadata": {
  "kernelspec": {
   "display_name": "Python 3 (ipykernel)",
   "language": "python",
   "name": "python3"
  },
  "language_info": {
   "codemirror_mode": {
    "name": "ipython",
    "version": 3
   },
   "file_extension": ".py",
   "mimetype": "text/x-python",
   "name": "python",
   "nbconvert_exporter": "python",
   "pygments_lexer": "ipython3",
   "version": "3.8.5"
  }
 },
 "nbformat": 4,
 "nbformat_minor": 5
}
