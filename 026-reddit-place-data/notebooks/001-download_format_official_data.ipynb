{
 "cells": [
  {
   "cell_type": "markdown",
   "id": "9953fd85-4178-42a3-b23d-dde0dcf4ca02",
   "metadata": {},
   "source": [
    "# Pull Official Reddit Place Data"
   ]
  },
  {
   "cell_type": "code",
   "execution_count": 2,
   "id": "b9012467-0755-4ab4-b0e7-cc31e8c698b8",
   "metadata": {},
   "outputs": [],
   "source": [
    "import pandas as pd\n",
    "import numpy as np\n",
    "import requests\n",
    "import re\n",
    "from tqdm.notebook import tqdm"
   ]
  },
  {
   "cell_type": "markdown",
   "id": "6b39c0f1-a0cc-421c-a886-5ad78b5ffce4",
   "metadata": {},
   "source": [
    "# Get URLs"
   ]
  },
  {
   "cell_type": "code",
   "execution_count": 3,
   "id": "c88897d4-1417-450f-9823-326aa2df665b",
   "metadata": {},
   "outputs": [],
   "source": [
    "files = 'https://placedata.reddit.com/data/canvas-history/index.html'\n",
    "resp = requests.get(files)\n",
    "\n",
    "urls = []\n",
    "for line in resp.iter_lines():\n",
    "    if 'https' in str(line):\n",
    "        res = re.findall('\"https\\S+gzip\"', str(line))\n",
    "        urls.append(res[0].strip('\"'))"
   ]
  },
  {
   "cell_type": "markdown",
   "id": "ad53a091-07b2-4766-b835-2de82479c6d4",
   "metadata": {},
   "source": [
    "# Download Files"
   ]
  },
  {
   "cell_type": "code",
   "execution_count": 4,
   "id": "811a6739-0c4a-47db-a470-cba31ec047f6",
   "metadata": {},
   "outputs": [],
   "source": [
    "def download_url(url, save_dir='/media/robmulla/moardata/reddit_place2/'):\n",
    "    fn = url.split('/')[-1]\n",
    "    r = requests.get(url)\n",
    "    #retrieving data from the URL using get method\n",
    "    with open(f'{save_dir}{fn}', 'wb') as f:\n",
    "    #giving a name and saving it in any required format\n",
    "    #opening the file in write mode\n",
    "        f.write(r.content) "
   ]
  },
  {
   "cell_type": "code",
   "execution_count": 5,
   "id": "3716a273-58e5-4c2d-996b-8a13428a3b04",
   "metadata": {},
   "outputs": [
    {
     "data": {
      "application/vnd.jupyter.widget-view+json": {
       "model_id": "fd4a28e641d0445384d85af5794fd04d",
       "version_major": 2,
       "version_minor": 0
      },
      "text/plain": [
       "  0%|          | 0/79 [00:00<?, ?it/s]"
      ]
     },
     "metadata": {},
     "output_type": "display_data"
    }
   ],
   "source": [
    "for url in tqdm(urls):\n",
    "    download_url(url)"
   ]
  }
 ],
 "metadata": {
  "kernelspec": {
   "display_name": "Python 3 (ipykernel)",
   "language": "python",
   "name": "python3"
  },
  "language_info": {
   "codemirror_mode": {
    "name": "ipython",
    "version": 3
   },
   "file_extension": ".py",
   "mimetype": "text/x-python",
   "name": "python",
   "nbconvert_exporter": "python",
   "pygments_lexer": "ipython3",
   "version": "3.8.5"
  }
 },
 "nbformat": 4,
 "nbformat_minor": 5
}
