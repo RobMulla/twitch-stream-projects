{
 "cells": [
  {
   "cell_type": "markdown",
   "id": "0d6a24f9-c053-47d2-b330-3e48a95ceee0",
   "metadata": {},
   "source": [
    "# Pandas 2.0\n",
    "- Testing it out!"
   ]
  },
  {
   "cell_type": "code",
   "execution_count": 1,
   "id": "0e875f10-5b4c-4230-9554-bf9cf69c8cbc",
   "metadata": {},
   "outputs": [
    {
     "name": "stdout",
     "output_type": "stream",
     "text": [
      "numpy: 1.24.2\n",
      "pandas 2.0.0rc0\n"
     ]
    }
   ],
   "source": [
    "import pandas as pd\n",
    "import numpy as np\n",
    "\n",
    "print('numpy:', np.__version__)\n",
    "print('pandas', pd.__version__)"
   ]
  },
  {
   "cell_type": "code",
   "execution_count": 2,
   "id": "51cc28d2-5a10-4643-bf99-0bc4b48b36f5",
   "metadata": {},
   "outputs": [],
   "source": [
    "df = pd.read_csv('../046-babynames-popularity/names.csv')"
   ]
  },
  {
   "cell_type": "code",
   "execution_count": 3,
   "id": "4b9dc908-8d48-4a3c-b1b0-24ad8c1122e6",
   "metadata": {},
   "outputs": [
    {
     "data": {
      "text/plain": [
       "numpy.ndarray"
      ]
     },
     "execution_count": 3,
     "metadata": {},
     "output_type": "execute_result"
    }
   ],
   "source": [
    "type(df['Count'].values)"
   ]
  },
  {
   "cell_type": "markdown",
   "id": "4c953052-5a03-4088-859f-e8d92a431061",
   "metadata": {},
   "source": [
    "## Types by Default are the Same"
   ]
  },
  {
   "cell_type": "code",
   "execution_count": 4,
   "id": "7e0a3538-96a1-4b70-905f-8c2783197070",
   "metadata": {},
   "outputs": [
    {
     "data": {
      "text/plain": [
       "0    1\n",
       "1    2\n",
       "2    3\n",
       "3    4\n",
       "dtype: int64"
      ]
     },
     "execution_count": 4,
     "metadata": {},
     "output_type": "execute_result"
    }
   ],
   "source": [
    "pd.Series([1, 2, 3, 4])"
   ]
  },
  {
   "cell_type": "code",
   "execution_count": 5,
   "id": "44679da6-d92a-446a-849f-08555f0bc911",
   "metadata": {},
   "outputs": [
    {
     "data": {
      "text/plain": [
       "0       foo\n",
       "1       bar\n",
       "2    foobar\n",
       "dtype: object"
      ]
     },
     "execution_count": 5,
     "metadata": {},
     "output_type": "execute_result"
    }
   ],
   "source": [
    "pd.Series(['foo', 'bar', 'foobar'])"
   ]
  },
  {
   "cell_type": "markdown",
   "id": "616ea8b3-32f0-4ccd-b71f-d854573ff6fc",
   "metadata": {},
   "source": [
    "## Change dtypes to use arrow"
   ]
  },
  {
   "cell_type": "code",
   "execution_count": 6,
   "id": "797ff92b-d147-43c1-9638-e6962175dabb",
   "metadata": {},
   "outputs": [
    {
     "data": {
      "text/plain": [
       "0    1\n",
       "1    2\n",
       "2    3\n",
       "3    4\n",
       "dtype: int64[pyarrow]"
      ]
     },
     "execution_count": 6,
     "metadata": {},
     "output_type": "execute_result"
    }
   ],
   "source": [
    "pd.Series([1, 2, 3, 4], dtype='int64[pyarrow]')"
   ]
  },
  {
   "cell_type": "code",
   "execution_count": 9,
   "id": "304ff8a1-7dd8-4db4-a839-33ca2a033a2c",
   "metadata": {},
   "outputs": [
    {
     "data": {
      "text/plain": [
       "0    1.0\n",
       "1    2.0\n",
       "2    3.0\n",
       "3    NaN\n",
       "dtype: float64"
      ]
     },
     "execution_count": 9,
     "metadata": {},
     "output_type": "execute_result"
    }
   ],
   "source": [
    "# numpy series will switch this to a float\n",
    "pd.Series([1, 2, 3, np.nan])"
   ]
  },
  {
   "cell_type": "code",
   "execution_count": 10,
   "id": "2292e7d0-e762-40b0-82e3-05c7cc02953d",
   "metadata": {},
   "outputs": [
    {
     "data": {
      "text/plain": [
       "0       1\n",
       "1       2\n",
       "2       3\n",
       "3    <NA>\n",
       "dtype: int64[pyarrow]"
      ]
     },
     "execution_count": 10,
     "metadata": {},
     "output_type": "execute_result"
    }
   ],
   "source": [
    "# pyarrow will keep this as a int64\n",
    "pd.Series([1, 2, 3, np.nan], dtype='int64[pyarrow]')"
   ]
  },
  {
   "cell_type": "code",
   "execution_count": 11,
   "id": "bd284f8f-d313-40b1-adb8-d64c31a3987c",
   "metadata": {},
   "outputs": [
    {
     "data": {
      "text/plain": [
       "0       foo\n",
       "1       bar\n",
       "2    foobar\n",
       "dtype: string"
      ]
     },
     "execution_count": 11,
     "metadata": {},
     "output_type": "execute_result"
    }
   ],
   "source": [
    "pd.Series(['foo', 'bar', 'foobar'], dtype='string[pyarrow]')"
   ]
  },
  {
   "cell_type": "markdown",
   "id": "ceb00565-7949-492b-badb-ae0565be67cf",
   "metadata": {},
   "source": [
    "# Setting pyarrow as the default backend"
   ]
  },
  {
   "cell_type": "code",
   "execution_count": 15,
   "id": "773bd79c-8baa-4d92-b443-80da189593ca",
   "metadata": {},
   "outputs": [
    {
     "name": "stdout",
     "output_type": "stream",
     "text": [
      "<class 'pandas.core.frame.DataFrame'>\n",
      "RangeIndex: 2052781 entries, 0 to 2052780\n",
      "Data columns (total 4 columns):\n",
      " #   Column  Dtype \n",
      "---  ------  ----- \n",
      " 0   Name    object\n",
      " 1   Sex     object\n",
      " 2   Count   int64 \n",
      " 3   Year    int64 \n",
      "dtypes: int64(2), object(2)\n",
      "memory usage: 62.6+ MB\n"
     ]
    }
   ],
   "source": [
    "# The data we loaded before from a csv\n",
    "df.info()"
   ]
  },
  {
   "cell_type": "code",
   "execution_count": 17,
   "id": "19be97f9-35b3-4e99-a420-d2c8e4bc6647",
   "metadata": {},
   "outputs": [],
   "source": [
    "pd.options.mode.dtype_backend = 'pyarrow'\n",
    "fname = '../046-babynames-popularity/names.csv'\n",
    "df_arrow = pd.read_csv(fname, engine='pyarrow', use_nullable_dtypes=True)"
   ]
  },
  {
   "cell_type": "code",
   "execution_count": 21,
   "id": "ea1aa5df-3867-48f0-8559-afd5e69d8454",
   "metadata": {},
   "outputs": [
    {
     "name": "stdout",
     "output_type": "stream",
     "text": [
      "<class 'pandas.core.frame.DataFrame'>\n",
      "RangeIndex: 2052781 entries, 0 to 2052780\n",
      "Data columns (total 4 columns):\n",
      " #   Column  Dtype          \n",
      "---  ------  -----          \n",
      " 0   Name    string[pyarrow]\n",
      " 1   Sex     string[pyarrow]\n",
      " 2   Count   int64[pyarrow] \n",
      " 3   Year    int64[pyarrow] \n",
      "dtypes: int64[pyarrow](2), string[pyarrow](2)\n",
      "memory usage: 61.0 MB\n"
     ]
    }
   ],
   "source": [
    "df_arrow.info()"
   ]
  },
  {
   "cell_type": "markdown",
   "id": "a1dc92a7-354c-49ed-a5a4-5b44f708dcb9",
   "metadata": {},
   "source": [
    "# Speed Comparison"
   ]
  },
  {
   "cell_type": "code",
   "execution_count": 26,
   "id": "4a208431-4a81-43db-a1e5-8476075a7d14",
   "metadata": {},
   "outputs": [
    {
     "name": "stdout",
     "output_type": "stream",
     "text": [
      "2.63 ms ± 39.6 µs per loop (mean ± std. dev. of 7 runs, 100 loops each)\n"
     ]
    }
   ],
   "source": [
    "# Old numpy backend\n",
    "%timeit df['Count'].mean()"
   ]
  },
  {
   "cell_type": "code",
   "execution_count": 27,
   "id": "9e29f902-abaf-4a4d-b06a-58f4595f28fe",
   "metadata": {},
   "outputs": [
    {
     "name": "stdout",
     "output_type": "stream",
     "text": [
      "1.48 ms ± 74.5 µs per loop (mean ± std. dev. of 7 runs, 1,000 loops each)\n"
     ]
    }
   ],
   "source": [
    "# Old numpy backend\n",
    "%timeit df_arrow['Count'].mean()"
   ]
  },
  {
   "cell_type": "code",
   "execution_count": 30,
   "id": "cb3f5651-544c-4b8e-a340-b611f5eb118f",
   "metadata": {},
   "outputs": [
    {
     "name": "stdout",
     "output_type": "stream",
     "text": [
      "687 ms ± 26.2 ms per loop (mean ± std. dev. of 7 runs, 1 loop each)\n"
     ]
    }
   ],
   "source": [
    "%%timeit\n",
    "# Reading in the data\n",
    "df = pd.read_csv(fname)"
   ]
  },
  {
   "cell_type": "code",
   "execution_count": 31,
   "id": "865d7fb4-96b6-4100-8ed7-b6a3c4c8adc2",
   "metadata": {},
   "outputs": [
    {
     "name": "stdout",
     "output_type": "stream",
     "text": [
      "35.4 ms ± 1.63 ms per loop (mean ± std. dev. of 7 runs, 10 loops each)\n"
     ]
    }
   ],
   "source": [
    "%%timeit\n",
    "# Reading in the data\n",
    "df_arrow = pd.read_csv(fname, engine='pyarrow', use_nullable_dtypes=True)"
   ]
  },
  {
   "cell_type": "code",
   "execution_count": 38,
   "id": "0c3d9291-4665-48b6-b01f-de0ffa0e315e",
   "metadata": {},
   "outputs": [
    {
     "name": "stdout",
     "output_type": "stream",
     "text": [
      "417 ms ± 3.66 ms per loop (mean ± std. dev. of 7 runs, 1 loop each)\n"
     ]
    }
   ],
   "source": [
    "%%timeit\n",
    "df['Name'].str.startswith('A')"
   ]
  },
  {
   "cell_type": "code",
   "execution_count": 39,
   "id": "ec8a43ef-6b5d-4c70-8459-abc004142c1a",
   "metadata": {},
   "outputs": [
    {
     "name": "stdout",
     "output_type": "stream",
     "text": [
      "13 ms ± 251 µs per loop (mean ± std. dev. of 7 runs, 100 loops each)\n"
     ]
    }
   ],
   "source": [
    "%%timeit\n",
    "df_arrow['Name'].str.startswith('A')"
   ]
  },
  {
   "cell_type": "markdown",
   "id": "701fd8ac-c515-4966-b86a-990888216712",
   "metadata": {},
   "source": [
    "## Finding.... pyarrow backend is faster..."
   ]
  },
  {
   "cell_type": "code",
   "execution_count": 41,
   "id": "00bd1437-5177-4883-a841-be3fa5c8320d",
   "metadata": {},
   "outputs": [
    {
     "name": "stdout",
     "output_type": "stream",
     "text": [
      "polars 0.16.11\n"
     ]
    }
   ],
   "source": [
    "import polars as pl\n",
    "print('polars', pl.__version__)"
   ]
  },
  {
   "cell_type": "code",
   "execution_count": 46,
   "id": "a3fd6653-10d8-4f6b-a035-10251383512c",
   "metadata": {},
   "outputs": [
    {
     "name": "stdout",
     "output_type": "stream",
     "text": [
      "180 ms ± 4.02 ms per loop (mean ± std. dev. of 7 runs, 10 loops each)\n"
     ]
    }
   ],
   "source": [
    "%%timeit\n",
    "pl.from_pandas(df)"
   ]
  },
  {
   "cell_type": "code",
   "execution_count": 47,
   "id": "afb25523-e49e-4f34-81c9-1f151b677eb7",
   "metadata": {},
   "outputs": [
    {
     "name": "stdout",
     "output_type": "stream",
     "text": [
      "58.6 ms ± 2.01 ms per loop (mean ± std. dev. of 7 runs, 10 loops each)\n"
     ]
    }
   ],
   "source": [
    "%%timeit\n",
    "polars_df = pl.from_pandas(df_arrow)"
   ]
  },
  {
   "cell_type": "code",
   "execution_count": 50,
   "id": "b07d219c-3558-40de-965e-b8f45a539957",
   "metadata": {},
   "outputs": [],
   "source": [
    "polars_df = pl.from_pandas(df_arrow)"
   ]
  },
  {
   "cell_type": "code",
   "execution_count": 60,
   "id": "34923842-7aa3-4bcf-9176-24b3b21899a1",
   "metadata": {},
   "outputs": [],
   "source": [
    "polars_agg = polars_df.groupby('Name') \\\n",
    "    .agg(pl.col(['Count']) \\\n",
    "    .sum().alias('totals'))"
   ]
  },
  {
   "cell_type": "code",
   "execution_count": 67,
   "id": "7be49e61-9927-4bb9-b121-62803843e8ec",
   "metadata": {},
   "outputs": [],
   "source": [
    "polars_agg.to_pandas().to_latex('out.tex')"
   ]
  },
  {
   "cell_type": "markdown",
   "id": "784c56c6-6811-40a9-a661-902437a47426",
   "metadata": {},
   "source": [
    "# Polars vs pandas1 vs pandas2"
   ]
  },
  {
   "cell_type": "code",
   "execution_count": 69,
   "id": "fa871961-d22e-43fe-97b6-c0cdf4a069ce",
   "metadata": {},
   "outputs": [
    {
     "name": "stdout",
     "output_type": "stream",
     "text": [
      "494 ms ± 51.2 ms per loop (mean ± std. dev. of 7 runs, 1 loop each)\n"
     ]
    }
   ],
   "source": [
    "%%timeit\n",
    "_ = df.groupby('Name')['Count'].sum()"
   ]
  },
  {
   "cell_type": "code",
   "execution_count": 74,
   "id": "f54587ae-7dbd-46fb-9b51-fe7e95cb87b0",
   "metadata": {},
   "outputs": [],
   "source": [
    "# %%timeit\n",
    "# _ = df_arrow.groupby('Name')['Count'].sum()"
   ]
  },
  {
   "cell_type": "code",
   "execution_count": 75,
   "id": "e0c6900a-b99e-4fdd-9d8d-a360ed7674e9",
   "metadata": {},
   "outputs": [
    {
     "name": "stdout",
     "output_type": "stream",
     "text": [
      "213 ms ± 11.1 ms per loop (mean ± std. dev. of 7 runs, 1 loop each)\n"
     ]
    }
   ],
   "source": [
    "%%timeit\n",
    "_ = polars_df.groupby('Name') \\\n",
    "    .agg(pl.col(['Count']) \\\n",
    "    .sum().alias('totals'))"
   ]
  },
  {
   "cell_type": "markdown",
   "id": "45b23803-591a-44d6-b38a-298b6d562b76",
   "metadata": {},
   "source": [
    "# Pyarrow datatypes"
   ]
  },
  {
   "cell_type": "code",
   "execution_count": 10,
   "id": "1027a029-d718-4156-8ceb-e0d411db8a86",
   "metadata": {},
   "outputs": [],
   "source": [
    "import datetime\n",
    "import pyarrow\n",
    "import pandas\n",
    "\n",
    "\n",
    "articles = pandas.DataFrame({\n",
    "    'title': pandas.Series(['pandas 2.0 and the Arrow revolution',\n",
    "                            'What I did this weekend'],\n",
    "                           dtype='string[pyarrow]'),\n",
    "    # 'tags': pandas.Series([['pandas', 'arrow', 'data'],\n",
    "    #                        ['scuba-diving', 'rock-climbing']],\n",
    "    #                       dtype=pandas.ArrowDtype(pyarrow.list_(pyarrow.string()))),\n",
    "    'date': pandas.Series([datetime.date(2023, 2, 22),\n",
    "                           datetime.date(2022, 11, 3)],\n",
    "                          dtype='date32[pyarrow]')\n",
    "})"
   ]
  },
  {
   "cell_type": "code",
   "execution_count": 25,
   "id": "9c805db0-d908-4c1c-9104-59df8ba08ead",
   "metadata": {},
   "outputs": [
    {
     "data": {
      "text/plain": [
       "0     53\n",
       "1    307\n",
       "Name: date, dtype: int32"
      ]
     },
     "execution_count": 25,
     "metadata": {},
     "output_type": "execute_result"
    }
   ],
   "source": [
    "pandas.to_datetime(articles['date']).dt.dayofyear"
   ]
  },
  {
   "cell_type": "code",
   "execution_count": 26,
   "id": "e244c66f-07ee-4832-a050-4d8cc17a5ad2",
   "metadata": {},
   "outputs": [
    {
     "data": {
      "text/plain": [
       "0     53\n",
       "1    307\n",
       "Name: date, dtype: int64[pyarrow]"
      ]
     },
     "execution_count": 26,
     "metadata": {},
     "output_type": "execute_result"
    }
   ],
   "source": [
    "articles['date'].dt.dayofyear"
   ]
  }
 ],
 "metadata": {
  "kernelspec": {
   "display_name": "pandas2",
   "language": "python",
   "name": "pandas2"
  },
  "language_info": {
   "codemirror_mode": {
    "name": "ipython",
    "version": 3
   },
   "file_extension": ".py",
   "mimetype": "text/x-python",
   "name": "python",
   "nbconvert_exporter": "python",
   "pygments_lexer": "ipython3",
   "version": "3.9.16"
  }
 },
 "nbformat": 4,
 "nbformat_minor": 5
}
