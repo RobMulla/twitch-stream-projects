{
 "cells": [
  {
   "cell_type": "markdown",
   "id": "a1cebb43-c91d-4076-94ba-9033f127e21e",
   "metadata": {},
   "source": [
    "# Pandas 2.0\n",
    "- Appache Arrow Backend!"
   ]
  },
  {
   "cell_type": "code",
   "execution_count": 1,
   "id": "14beac5e-b22d-4ec9-a898-be7f03bcae55",
   "metadata": {},
   "outputs": [
    {
     "name": "stdout",
     "output_type": "stream",
     "text": [
      "pandas 2.0.0rc0\n",
      "numpy 1.24.2\n",
      "polars 0.16.11\n"
     ]
    }
   ],
   "source": [
    "import pandas as pd\n",
    "import numpy as np\n",
    "import polars as pl\n",
    "print('pandas', pd.__version__)\n",
    "print('numpy', np.__version__)\n",
    "print('polars', pl.__version__)"
   ]
  },
  {
   "cell_type": "markdown",
   "id": "f1e70f7f-a539-4b39-852c-0c4692802832",
   "metadata": {},
   "source": [
    "# Pandas Backend\n",
    "- Numpy / Arrow"
   ]
  },
  {
   "cell_type": "code",
   "execution_count": 3,
   "id": "4e0e05d9-3b41-463b-8ff0-d8f4d49fc4cb",
   "metadata": {},
   "outputs": [
    {
     "data": {
      "text/html": [
       "<div>\n",
       "<style scoped>\n",
       "    .dataframe tbody tr th:only-of-type {\n",
       "        vertical-align: middle;\n",
       "    }\n",
       "\n",
       "    .dataframe tbody tr th {\n",
       "        vertical-align: top;\n",
       "    }\n",
       "\n",
       "    .dataframe thead th {\n",
       "        text-align: right;\n",
       "    }\n",
       "</style>\n",
       "<table border=\"1\" class=\"dataframe\">\n",
       "  <thead>\n",
       "    <tr style=\"text-align: right;\">\n",
       "      <th></th>\n",
       "      <th>Name</th>\n",
       "      <th>Sex</th>\n",
       "      <th>Count</th>\n",
       "      <th>Year</th>\n",
       "    </tr>\n",
       "  </thead>\n",
       "  <tbody>\n",
       "    <tr>\n",
       "      <th>0</th>\n",
       "      <td>Emily</td>\n",
       "      <td>F</td>\n",
       "      <td>25735</td>\n",
       "      <td>1997</td>\n",
       "    </tr>\n",
       "    <tr>\n",
       "      <th>1</th>\n",
       "      <td>Jessica</td>\n",
       "      <td>F</td>\n",
       "      <td>21044</td>\n",
       "      <td>1997</td>\n",
       "    </tr>\n",
       "    <tr>\n",
       "      <th>2</th>\n",
       "      <td>Ashley</td>\n",
       "      <td>F</td>\n",
       "      <td>20895</td>\n",
       "      <td>1997</td>\n",
       "    </tr>\n",
       "    <tr>\n",
       "      <th>3</th>\n",
       "      <td>Sarah</td>\n",
       "      <td>F</td>\n",
       "      <td>20712</td>\n",
       "      <td>1997</td>\n",
       "    </tr>\n",
       "    <tr>\n",
       "      <th>4</th>\n",
       "      <td>Hannah</td>\n",
       "      <td>F</td>\n",
       "      <td>20594</td>\n",
       "      <td>1997</td>\n",
       "    </tr>\n",
       "  </tbody>\n",
       "</table>\n",
       "</div>"
      ],
      "text/plain": [
       "      Name Sex  Count  Year\n",
       "0    Emily   F  25735  1997\n",
       "1  Jessica   F  21044  1997\n",
       "2   Ashley   F  20895  1997\n",
       "3    Sarah   F  20712  1997\n",
       "4   Hannah   F  20594  1997"
      ]
     },
     "execution_count": 3,
     "metadata": {},
     "output_type": "execute_result"
    }
   ],
   "source": [
    "df = pd.read_csv('baby_names.csv')\n",
    "df.head()"
   ]
  },
  {
   "cell_type": "code",
   "execution_count": 4,
   "id": "09b28c5a-66ff-403b-b701-747fd2d18329",
   "metadata": {},
   "outputs": [
    {
     "name": "stdout",
     "output_type": "stream",
     "text": [
      "<class 'pandas.core.frame.DataFrame'>\n",
      "RangeIndex: 2052781 entries, 0 to 2052780\n",
      "Data columns (total 4 columns):\n",
      " #   Column  Dtype \n",
      "---  ------  ----- \n",
      " 0   Name    object\n",
      " 1   Sex     object\n",
      " 2   Count   int64 \n",
      " 3   Year    int64 \n",
      "dtypes: int64(2), object(2)\n",
      "memory usage: 62.6+ MB\n"
     ]
    }
   ],
   "source": [
    "df.info()"
   ]
  },
  {
   "cell_type": "code",
   "execution_count": 6,
   "id": "157a1ff7-fec2-44f4-9ef3-a484c9867a9c",
   "metadata": {},
   "outputs": [
    {
     "data": {
      "text/plain": [
       "array([25735, 21044, 20895, ...,     5,     5,     5])"
      ]
     },
     "execution_count": 6,
     "metadata": {},
     "output_type": "execute_result"
    }
   ],
   "source": [
    "df['Count'].values"
   ]
  },
  {
   "cell_type": "code",
   "execution_count": 9,
   "id": "bbbbd034-b66e-4fb4-af73-44ae71b0fc37",
   "metadata": {},
   "outputs": [
    {
     "data": {
      "text/plain": [
       "numpy.ndarray"
      ]
     },
     "execution_count": 9,
     "metadata": {},
     "output_type": "execute_result"
    }
   ],
   "source": [
    "type(df['Count'].values)"
   ]
  },
  {
   "cell_type": "markdown",
   "id": "24f55c90-db50-4a2a-9bf7-0891c0eb820a",
   "metadata": {},
   "source": [
    "## Creating New Series"
   ]
  },
  {
   "cell_type": "code",
   "execution_count": 10,
   "id": "d65d8151-5d58-4e7f-a1bc-d53713227b08",
   "metadata": {},
   "outputs": [
    {
     "data": {
      "text/plain": [
       "0    1\n",
       "1    2\n",
       "2    3\n",
       "3    4\n",
       "dtype: int64"
      ]
     },
     "execution_count": 10,
     "metadata": {},
     "output_type": "execute_result"
    }
   ],
   "source": [
    "pd.Series([1, 2, 3, 4])"
   ]
  },
  {
   "cell_type": "code",
   "execution_count": 12,
   "id": "9eea10bf-6b65-4ab8-a063-262685d86674",
   "metadata": {},
   "outputs": [
    {
     "data": {
      "text/plain": [
       "0       foo\n",
       "1       bar\n",
       "2    foobar\n",
       "dtype: object"
      ]
     },
     "execution_count": 12,
     "metadata": {},
     "output_type": "execute_result"
    }
   ],
   "source": [
    "pd.Series(['foo', 'bar', 'foobar'])"
   ]
  },
  {
   "cell_type": "markdown",
   "id": "837060bc-15f1-4f7e-9d39-a5b52eab3c61",
   "metadata": {},
   "source": [
    "# Using the Arrow Backend"
   ]
  },
  {
   "cell_type": "code",
   "execution_count": 13,
   "id": "220b0551-d154-4046-9119-8c24b59d38df",
   "metadata": {},
   "outputs": [
    {
     "data": {
      "text/plain": [
       "0    1\n",
       "1    2\n",
       "2    3\n",
       "3    4\n",
       "dtype: int64[pyarrow]"
      ]
     },
     "execution_count": 13,
     "metadata": {},
     "output_type": "execute_result"
    }
   ],
   "source": [
    "pd.Series([1, 2, 3, 4], dtype='int64[pyarrow]')"
   ]
  },
  {
   "cell_type": "code",
   "execution_count": 14,
   "id": "a489d465-b4b2-45a8-a337-2416811d7834",
   "metadata": {},
   "outputs": [
    {
     "data": {
      "text/plain": [
       "0       foo\n",
       "1       bar\n",
       "2    foobar\n",
       "dtype: string"
      ]
     },
     "execution_count": 14,
     "metadata": {},
     "output_type": "execute_result"
    }
   ],
   "source": [
    "pd.Series(['foo', 'bar', 'foobar'], dtype='string[pyarrow]')"
   ]
  },
  {
   "cell_type": "markdown",
   "id": "0672f6ac-7a7b-4de0-8c68-31483fe9da52",
   "metadata": {},
   "source": [
    "## Setting pandas to use arrow by default"
   ]
  },
  {
   "cell_type": "code",
   "execution_count": 16,
   "id": "f1bc50f7-43d9-45e3-9c22-8c0056316808",
   "metadata": {},
   "outputs": [],
   "source": [
    "pd.options.mode.dtype_backend = 'pyarrow'\n",
    "\n",
    "df_arrow = pd.read_csv('baby_names.csv', use_nullable_dtypes=True)"
   ]
  },
  {
   "cell_type": "code",
   "execution_count": 17,
   "id": "3b521c7d-7309-41cc-b4dc-18c30dbd0e8c",
   "metadata": {},
   "outputs": [
    {
     "name": "stdout",
     "output_type": "stream",
     "text": [
      "<class 'pandas.core.frame.DataFrame'>\n",
      "RangeIndex: 2052781 entries, 0 to 2052780\n",
      "Data columns (total 4 columns):\n",
      " #   Column  Dtype          \n",
      "---  ------  -----          \n",
      " 0   Name    string[pyarrow]\n",
      " 1   Sex     string[pyarrow]\n",
      " 2   Count   int64[pyarrow] \n",
      " 3   Year    int64[pyarrow] \n",
      "dtypes: int64[pyarrow](2), string[pyarrow](2)\n",
      "memory usage: 61.0 MB\n"
     ]
    }
   ],
   "source": [
    "df_arrow.info()"
   ]
  },
  {
   "cell_type": "markdown",
   "id": "373ea25d-04ba-4431-a5c9-df566a354fd0",
   "metadata": {},
   "source": [
    "# Why Arrow?"
   ]
  },
  {
   "cell_type": "markdown",
   "id": "58bb40b5-2567-4886-9de4-68a10d954af9",
   "metadata": {},
   "source": [
    "## 1. Missing Values"
   ]
  },
  {
   "cell_type": "code",
   "execution_count": 19,
   "id": "5bbdf539-b954-4638-92e0-59cf214c25c9",
   "metadata": {},
   "outputs": [
    {
     "data": {
      "text/plain": [
       "0    1.0\n",
       "1    2.0\n",
       "2    3.0\n",
       "3    NaN\n",
       "dtype: float64"
      ]
     },
     "execution_count": 19,
     "metadata": {},
     "output_type": "execute_result"
    }
   ],
   "source": [
    "pd.Series([1, 2, 3, None])"
   ]
  },
  {
   "cell_type": "code",
   "execution_count": 21,
   "id": "9ac710a4-d19b-486a-9885-d9e1949af200",
   "metadata": {},
   "outputs": [
    {
     "data": {
      "text/plain": [
       "0       1\n",
       "1       2\n",
       "2       3\n",
       "3    <NA>\n",
       "dtype: int64[pyarrow]"
      ]
     },
     "execution_count": 21,
     "metadata": {},
     "output_type": "execute_result"
    }
   ],
   "source": [
    "pd.Series([1, 2, 3, None], dtype='int64[pyarrow]')"
   ]
  },
  {
   "cell_type": "markdown",
   "id": "8c1c10bc-680d-4353-a8a2-03ebad30127e",
   "metadata": {},
   "source": [
    "## 2. Speed"
   ]
  },
  {
   "cell_type": "code",
   "execution_count": 25,
   "id": "2e36f599-af83-4042-a3e0-1a22e64a04a1",
   "metadata": {},
   "outputs": [
    {
     "name": "stdout",
     "output_type": "stream",
     "text": [
      "1.72 ms ± 16.1 µs per loop (mean ± std. dev. of 7 runs, 1,000 loops each)\n"
     ]
    }
   ],
   "source": [
    "# Old numpy backend\n",
    "%timeit df['Count'].mean()"
   ]
  },
  {
   "cell_type": "code",
   "execution_count": 26,
   "id": "2009ce63-bd62-43f5-a4a7-db6d873be667",
   "metadata": {},
   "outputs": [
    {
     "name": "stdout",
     "output_type": "stream",
     "text": [
      "1.08 ms ± 87.7 µs per loop (mean ± std. dev. of 7 runs, 1,000 loops each)\n"
     ]
    }
   ],
   "source": [
    "# Arrow backend\n",
    "%timeit df_arrow['Count'].mean()"
   ]
  },
  {
   "cell_type": "markdown",
   "id": "c2a1d264-6109-47a2-97ec-4395339b3b09",
   "metadata": {},
   "source": [
    "### Speed: Reading in Data"
   ]
  },
  {
   "cell_type": "code",
   "execution_count": 29,
   "id": "94854e5d-2e34-4ec6-9cf9-03e0d2797065",
   "metadata": {},
   "outputs": [
    {
     "name": "stdout",
     "output_type": "stream",
     "text": [
      "588 ms ± 42.1 ms per loop (mean ± std. dev. of 7 runs, 1 loop each)\n"
     ]
    }
   ],
   "source": [
    "%%timeit\n",
    "# Reading in the data numpy backend\n",
    "df = pd.read_csv('baby_names.csv')"
   ]
  },
  {
   "cell_type": "code",
   "execution_count": 30,
   "id": "1cb77e23-814c-4599-bd82-655d2400f27a",
   "metadata": {},
   "outputs": [
    {
     "name": "stdout",
     "output_type": "stream",
     "text": [
      "30.1 ms ± 950 µs per loop (mean ± std. dev. of 7 runs, 10 loops each)\n"
     ]
    }
   ],
   "source": [
    "%%timeit\n",
    "# Reading in the data\n",
    "df_arrow = pd.read_csv('baby_names.csv',\n",
    "                       engine='pyarrow',\n",
    "                       use_nullable_dtypes=True)"
   ]
  },
  {
   "cell_type": "markdown",
   "id": "d2b68f11-b61a-4ed4-ac48-c975dd30cb8a",
   "metadata": {},
   "source": [
    "### Speed: String Operations"
   ]
  },
  {
   "cell_type": "code",
   "execution_count": 35,
   "id": "407d3ca2-ef54-4d39-8061-5ad59a27e085",
   "metadata": {},
   "outputs": [
    {
     "name": "stdout",
     "output_type": "stream",
     "text": [
      "394 ms ± 1.92 ms per loop (mean ± std. dev. of 7 runs, 1 loop each)\n"
     ]
    }
   ],
   "source": [
    "%timeit df['Name'].str.startswith('A')"
   ]
  },
  {
   "cell_type": "code",
   "execution_count": 36,
   "id": "5fe139f7-fd7a-460a-9acb-9bb400d0bead",
   "metadata": {},
   "outputs": [
    {
     "name": "stdout",
     "output_type": "stream",
     "text": [
      "13.5 ms ± 121 µs per loop (mean ± std. dev. of 7 runs, 100 loops each)\n"
     ]
    }
   ],
   "source": [
    "%timeit df_arrow['Name'].str.startswith('A')"
   ]
  },
  {
   "cell_type": "markdown",
   "id": "56d07775-cb49-417d-be52-65fcacf5de9d",
   "metadata": {},
   "source": [
    "# 3. Interoperability\n",
    "\n",
    "Arrow is used by more than just pandas:\n",
    "- R\n",
    "- Spark\n",
    "- Polars"
   ]
  },
  {
   "cell_type": "code",
   "execution_count": 40,
   "id": "44ea7118-aef6-4036-a7d8-85abf5deef56",
   "metadata": {},
   "outputs": [
    {
     "name": "stdout",
     "output_type": "stream",
     "text": [
      "polars 0.16.11\n"
     ]
    }
   ],
   "source": [
    "print('polars', pl.__version__)"
   ]
  },
  {
   "cell_type": "code",
   "execution_count": 42,
   "id": "3e3caa01-a621-4cc5-b255-3368603d5faf",
   "metadata": {},
   "outputs": [],
   "source": [
    "df_arrow = pd.read_csv('baby_names.csv',\n",
    "                       engine='pyarrow',\n",
    "                       use_nullable_dtypes=True)"
   ]
  },
  {
   "cell_type": "code",
   "execution_count": 51,
   "id": "1b6bb0c3-c604-4597-89aa-41632a36528f",
   "metadata": {},
   "outputs": [],
   "source": [
    "df_polars = pl.from_pandas(df_arrow)\n",
    "\n",
    "agg_polars = (df_polars.groupby('Name')\n",
    "                  .agg(pl.col(['Count'])\n",
    "                  .sum().alias('totals'))\n",
    ")\n",
    "\n",
    "agg_pandas = agg_polars.to_pandas()"
   ]
  },
  {
   "cell_type": "code",
   "execution_count": 62,
   "id": "377d22ff-614c-4b9f-89a1-f45fe92346fc",
   "metadata": {},
   "outputs": [
    {
     "data": {
      "text/plain": [
       "<Axes: title={'center': 'Top Baby Names'}, ylabel='Name'>"
      ]
     },
     "execution_count": 62,
     "metadata": {},
     "output_type": "execute_result"
    },
    {
     "data": {
      "image/png": "[encoded data removed]",
      "text/plain": [
       "<Figure size 640x480 with 1 Axes>"
      ]
     },
     "metadata": {},
     "output_type": "display_data"
    }
   ],
   "source": [
    "agg_pandas.set_index('Name')\\\n",
    "    .sort_values('totals', ascending=False) \\\n",
    "    .head(10) \\\n",
    "    .sort_values('totals') \\\n",
    "    .plot(kind='barh', title='Top Baby Names')"
   ]
  },
  {
   "cell_type": "markdown",
   "id": "0a92b359-b34c-496d-9c38-8d763edf3daa",
   "metadata": {},
   "source": [
    "## 4. Arrow Data Types"
   ]
  },
  {
   "cell_type": "code",
   "execution_count": 73,
   "id": "0cfa60b7-6fd4-4983-b41c-f2be6f059061",
   "metadata": {},
   "outputs": [
    {
     "name": "stdout",
     "output_type": "stream",
     "text": [
      "<class 'pandas.core.series.Series'>\n",
      "RangeIndex: 3 entries, 0 to 2\n",
      "Series name: None\n",
      "Non-Null Count  Dtype \n",
      "--------------  ----- \n",
      "2 non-null      object\n",
      "dtypes: object(1)\n",
      "memory usage: 152.0+ bytes\n"
     ]
    }
   ],
   "source": [
    "pd.Series([True, False, True]).info()"
   ]
  },
  {
   "cell_type": "code",
   "execution_count": 76,
   "id": "93e24257-1a01-4041-bb68-a9f588591564",
   "metadata": {},
   "outputs": [
    {
     "name": "stdout",
     "output_type": "stream",
     "text": [
      "<class 'pandas.core.series.Series'>\n",
      "RangeIndex: 3 entries, 0 to 2\n",
      "Series name: None\n",
      "Non-Null Count  Dtype        \n",
      "--------------  -----        \n",
      "2 non-null      bool[pyarrow]\n",
      "dtypes: bool[pyarrow](1)\n",
      "memory usage: 130.0 bytes\n"
     ]
    }
   ],
   "source": [
    "pd.Series([True, False, None], dtype='bool[pyarrow]').info()"
   ]
  },
  {
   "cell_type": "code",
   "execution_count": 78,
   "id": "fb357724-3c2a-48d3-904b-628220fb5b42",
   "metadata": {},
   "outputs": [
    {
     "data": {
      "text/plain": [
       "0     True\n",
       "1    False\n",
       "2     None\n",
       "dtype: object"
      ]
     },
     "execution_count": 78,
     "metadata": {},
     "output_type": "execute_result"
    }
   ],
   "source": [
    "pd.Series([True, False, None])"
   ]
  },
  {
   "cell_type": "code",
   "execution_count": 87,
   "id": "243b2e27-046a-4f41-9596-c6923fdc29c1",
   "metadata": {},
   "outputs": [],
   "source": [
    "import pyarrow as pa\n",
    "\n",
    "articles = pandas.DataFrame({\n",
    "    'title': pd.Series(['pandas 2.0 and the Arrow revolution',\n",
    "                            'What I did this weekend'],\n",
    "                           dtype='string[pyarrow]'),\n",
    "    # 'tags': pd.Series([['pandas', 'arrow', 'data'],\n",
    "    #                        ['scuba-diving', 'rock-climbing']],\n",
    "    #                       dtype=pd.ArrowDtype(pa.list_(pa.string()))),\n",
    "    'date': pd.Series([datetime.date(2023, 2, 22),\n",
    "                           datetime.date(2022, 11, 3)],\n",
    "                          dtype='date32[pyarrow]')\n",
    "})"
   ]
  },
  {
   "cell_type": "code",
   "execution_count": 91,
   "id": "13b234f6-d188-4223-a042-e692723990b4",
   "metadata": {},
   "outputs": [
    {
     "data": {
      "text/html": [
       "<div>\n",
       "<style scoped>\n",
       "    .dataframe tbody tr th:only-of-type {\n",
       "        vertical-align: middle;\n",
       "    }\n",
       "\n",
       "    .dataframe tbody tr th {\n",
       "        vertical-align: top;\n",
       "    }\n",
       "\n",
       "    .dataframe thead th {\n",
       "        text-align: right;\n",
       "    }\n",
       "</style>\n",
       "<table border=\"1\" class=\"dataframe\">\n",
       "  <thead>\n",
       "    <tr style=\"text-align: right;\">\n",
       "      <th></th>\n",
       "      <th>title</th>\n",
       "      <th>date</th>\n",
       "    </tr>\n",
       "  </thead>\n",
       "  <tbody>\n",
       "    <tr>\n",
       "      <th>0</th>\n",
       "      <td>pandas 2.0 and the Arrow revolution</td>\n",
       "      <td>2023-02-22</td>\n",
       "    </tr>\n",
       "    <tr>\n",
       "      <th>1</th>\n",
       "      <td>What I did this weekend</td>\n",
       "      <td>2022-11-03</td>\n",
       "    </tr>\n",
       "  </tbody>\n",
       "</table>\n",
       "</div>"
      ],
      "text/plain": [
       "                                 title       date\n",
       "0  pandas 2.0 and the Arrow revolution 2023-02-22\n",
       "1              What I did this weekend 2022-11-03"
      ]
     },
     "execution_count": 91,
     "metadata": {},
     "output_type": "execute_result"
    }
   ],
   "source": [
    "articles"
   ]
  },
  {
   "cell_type": "code",
   "execution_count": 96,
   "id": "04f2405f-8b4f-4704-bcb1-ee0d1994e1f7",
   "metadata": {},
   "outputs": [
    {
     "data": {
      "text/plain": [
       "0   2023-02-22\n",
       "1   2022-11-03\n",
       "Name: date, dtype: date32[day][pyarrow]"
      ]
     },
     "execution_count": 96,
     "metadata": {},
     "output_type": "execute_result"
    }
   ],
   "source": [
    "articles['date']"
   ]
  }
 ],
 "metadata": {
  "kernelspec": {
   "display_name": "pandas2",
   "language": "python",
   "name": "pandas2"
  },
  "language_info": {
   "codemirror_mode": {
    "name": "ipython",
    "version": 3
   },
   "file_extension": ".py",
   "mimetype": "text/x-python",
   "name": "python",
   "nbconvert_exporter": "python",
   "pygments_lexer": "ipython3",
   "version": "3.9.16"
  }
 },
 "nbformat": 4,
 "nbformat_minor": 5
}
