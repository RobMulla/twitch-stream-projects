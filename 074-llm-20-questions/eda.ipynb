{
 "cells": [
  {
   "cell_type": "markdown",
   "id": "d3a3f962-c9f1-4ad9-9106-8bea48ea3a80",
   "metadata": {},
   "source": [
    "# Basic EDA of Kaggle Keywords Dataset"
   ]
  },
  {
   "cell_type": "code",
   "execution_count": 33,
   "id": "77a1f416-8d12-4371-a8d1-0e697ef4e940",
   "metadata": {},
   "outputs": [],
   "source": [
    "import json\n",
    "import pandas as pd\n",
    "import jupyter_black\n",
    "\n",
    "from llm_20_questions.keywords import KEYWORDS_JSON\n",
    "\n",
    "jupyter_black.load()\n",
    "\n",
    "keywords = eval(KEYWORDS_JSON)\n",
    "results = []\n",
    "for cat in keywords:\n",
    "    category = cat[\"category\"]\n",
    "    for keyword in cat[\"words\"]:\n",
    "        results.append((category, keyword[\"keyword\"], keyword[\"alts\"]))\n",
    "keyword_df = pd.DataFrame(results, columns=[\"category\", \"keyword\", \"alts\"])"
   ]
  },
  {
   "cell_type": "code",
   "execution_count": 34,
   "id": "7d5c6864-2bfc-47f2-aad5-2a3235891bfb",
   "metadata": {},
   "outputs": [
    {
     "data": {
      "text/plain": [
       "category\n",
       "city        324\n",
       "country     190\n",
       "landmark     49\n",
       "Name: count, dtype: int64"
      ]
     },
     "execution_count": 34,
     "metadata": {},
     "output_type": "execute_result"
    }
   ],
   "source": [
    "keyword_df[\"category\"].value_counts()"
   ]
  }
 ],
 "metadata": {
  "kernelspec": {
   "display_name": "Python 3 (ipykernel)",
   "language": "python",
   "name": "python3"
  },
  "language_info": {
   "codemirror_mode": {
    "name": "ipython",
    "version": 3
   },
   "file_extension": ".py",
   "mimetype": "text/x-python",
   "name": "python",
   "nbconvert_exporter": "python",
   "pygments_lexer": "ipython3",
   "version": "3.10.14"
  }
 },
 "nbformat": 4,
 "nbformat_minor": 5
}
