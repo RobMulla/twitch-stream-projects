{
 "cells": [
  {
   "cell_type": "markdown",
   "id": "dc5e605b-1308-4f8d-b08a-12ac2bc54300",
   "metadata": {},
   "source": [
    "# Create a 20 Questions Answer with Rigging"
   ]
  },
  {
   "cell_type": "code",
   "execution_count": 1,
   "id": "71effb4f-ed9c-451c-b4e0-11c656a63ea0",
   "metadata": {},
   "outputs": [
    {
     "data": {
      "text/html": [
       "\n",
       "                <script type=\"application/javascript\" id=\"jupyter_black\">\n",
       "                (function() {\n",
       "                    if (window.IPython === undefined) {\n",
       "                        return\n",
       "                    }\n",
       "                    var msg = \"WARNING: it looks like you might have loaded \" +\n",
       "                        \"jupyter_black in a non-lab notebook with \" +\n",
       "                        \"`is_lab=True`. Please double check, and if \" +\n",
       "                        \"loading with `%load_ext` please review the README!\"\n",
       "                    console.log(msg)\n",
       "                    alert(msg)\n",
       "                })()\n",
       "                </script>\n",
       "                "
      ],
      "text/plain": [
       "<IPython.core.display.HTML object>"
      ]
     },
     "metadata": {},
     "output_type": "display_data"
    }
   ],
   "source": [
    "import jupyter_black\n",
    "\n",
    "jupyter_black.load()"
   ]
  },
  {
   "cell_type": "markdown",
   "id": "fda2142b-2abf-47a3-bffb-16125650ca10",
   "metadata": {},
   "source": [
    "# Question Asker Agent"
   ]
  },
  {
   "cell_type": "code",
   "execution_count": 1,
   "id": "64dcc698-b43d-44e7-978e-f495de2104b8",
   "metadata": {},
   "outputs": [],
   "source": [
    "import rigging as rg\n",
    "\n",
    "import ipywidgets as widgets\n",
    "from IPython.display import display, clear_output\n",
    "\n",
    "\n",
    "class AskerQuestion(rg.Model):\n",
    "    question: str"
   ]
  },
  {
   "cell_type": "code",
   "execution_count": 40,
   "id": "6e892208-68e1-4d5a-9602-8fd564465405",
   "metadata": {},
   "outputs": [],
   "source": [
    "\n",
    "questions = []\n",
    "answers = []\n",
    "\n",
    "def ask_next_question(questions, answers, verbose=False):\n",
    "    system_prompt = \"\"\"\n",
    "        You are playing the game 20 questions.\n",
    "            - Your task is to ask questions.\n",
    "            - These questions should try to quickly find the keyword.\n",
    "            - You will recieve back only yes or no responses.\n",
    "            - Note previous questions and their answers when creating your next question\n",
    "            - Do not assume anything specific too soon. Ask broad questions that could divide all possible remaining things into an even split.\n",
    "            - The keyword will be a person, place or thing.\n",
    "    \"\"\"\n",
    "    assert len(questions) == len(answers)\n",
    "\n",
    "    prev_content = \"\"\n",
    "    for i, question in enumerate(questions):\n",
    "        prev_content += f\"question {i} <question>{question}</question> <answer>{answers[i]}</answer>\"\n",
    "\n",
    "    user_prompt = f\"\"\"\n",
    "        Previous questions and answers are:\n",
    "            {prev_content}\n",
    "        \n",
    "        Ask your question within the tag {AskerQuestion.xml_tags()}\n",
    "    \"\"\"\n",
    "    asker = (\n",
    "        rg.get_generator(\"gpt-4o\")\n",
    "        .chat(\n",
    "            [\n",
    "                {\"role\": \"system\", \"content\": system_prompt},\n",
    "                {\"role\": \"user\", \"content\": user_prompt},\n",
    "            ]\n",
    "        )\n",
    "        .run()\n",
    "    )\n",
    "\n",
    "    question = asker.last.parse(AskerQuestion).question\n",
    "    if verbose:\n",
    "        print(f\"=== Question {len(questions) + 1} ====\")\n",
    "        print(question)\n",
    "\n",
    "    return question"
   ]
  },
  {
   "cell_type": "code",
   "execution_count": 3,
   "id": "c2e5e20d-71d2-4270-abe7-f5205c9460f4",
   "metadata": {},
   "outputs": [
    {
     "name": "stdout",
     "output_type": "stream",
     "text": [
      "=== Question 1 ====\n",
      "Is the keyword a living thing?\n"
     ]
    }
   ],
   "source": [
    "question = ask_next_question(questions, answers)"
   ]
  },
  {
   "cell_type": "markdown",
   "id": "0ed3f01f-1aa6-4ba5-883b-bf9729fd82f3",
   "metadata": {},
   "source": [
    "# LLM Trying to Guess the Keyword \"TOMATO\""
   ]
  },
  {
   "cell_type": "code",
   "execution_count": 4,
   "id": "f03b2db8-2c83-432c-838a-44a0b118e099",
   "metadata": {},
   "outputs": [
    {
     "name": "stdout",
     "output_type": "stream",
     "text": [
      "=== Question 2 ====\n",
      "Is the keyword a place?\n"
     ]
    }
   ],
   "source": [
    "answer = \"no\"\n",
    "questions.append(question)\n",
    "answers.append(answer)\n",
    "question = ask_next_question(questions, answers)"
   ]
  },
  {
   "cell_type": "code",
   "execution_count": 26,
   "id": "5f7dbc91-f342-4937-a2ff-b5b41f8854a1",
   "metadata": {},
   "outputs": [
    {
     "name": "stdout",
     "output_type": "stream",
     "text": [
      "=== Question 24 ====\n",
      "Is the keyword a tomato?\n"
     ]
    }
   ],
   "source": [
    "answer = \"no, its a red fruit used in sauses with spagetti\"\n",
    "questions.append(question)\n",
    "answers.append(answer)\n",
    "question = ask_next_question(questions, answers)"
   ]
  },
  {
   "cell_type": "markdown",
   "id": "77947f00-12d2-4632-a55c-a61925273a07",
   "metadata": {},
   "source": [
    "# Create our Answerer Agent"
   ]
  },
  {
   "cell_type": "code",
   "execution_count": 37,
   "id": "8ef894e7-d4a0-4610-840c-0714b693892b",
   "metadata": {},
   "outputs": [],
   "source": [
    "class YesNoAnswer(rg.Model):\n",
    "    \"Yes/No answer answer with coercion\"\n",
    "    answer: str\n",
    "\n",
    "\n",
    "def get_agent_answer(keyword, question):\n",
    "    \n",
    "    system_prompt = f\"\"\"\n",
    "        You are playing the game 20 questions. You will be asked a question an must answer yes or no.\n",
    "        The keyword you are answering for is {keyword}\n",
    "    \"\"\"\n",
    "    \n",
    "    user_prompt = f\"\"\"\n",
    "        The question is <question>{question}</question>\n",
    "    \n",
    "        Your response should be given between the tags {YesNoAnswer.xml_tags()}\n",
    "    \n",
    "        It should only be 'yes' or 'no'\n",
    "        \n",
    "        \"\"\"\n",
    "    \n",
    "    answerer = (\n",
    "        rg.get_generator(\"gpt-4o\")\n",
    "        .chat(\n",
    "            [\n",
    "                {\"role\": \"system\", \"content\": system_prompt},\n",
    "                {\"role\": \"user\", \"content\": user_prompt},\n",
    "            ]\n",
    "        )\n",
    "        .run()\n",
    "    )\n",
    "    \n",
    "    answer = answerer.last.parse(YesNoAnswer).answer\n",
    "    return answer"
   ]
  },
  {
   "cell_type": "code",
   "execution_count": 39,
   "id": "f01793bc-da5f-46c5-a1be-0af71b6f75fb",
   "metadata": {},
   "outputs": [
    {
     "data": {
      "text/plain": [
       "'yes'"
      ]
     },
     "execution_count": 39,
     "metadata": {},
     "output_type": "execute_result"
    }
   ],
   "source": [
    "keyword = 'Tom Hanks'\n",
    "question = 'Is he a handsome lad?'\n",
    "get_agent_answer(keyword, question)"
   ]
  },
  {
   "cell_type": "markdown",
   "id": "cb940742-0bb6-4d18-b239-7dcd5dfb0650",
   "metadata": {},
   "source": [
    "# Guesser Agent"
   ]
  },
  {
   "cell_type": "code",
   "execution_count": 84,
   "id": "30c4b915-d60f-4a0e-89f9-d10e07eb0915",
   "metadata": {},
   "outputs": [],
   "source": [
    "class Guess(rg.Model):\n",
    "    \"20 Questions guess\"\n",
    "    guess: str\n",
    "\n",
    "\n",
    "def make_guess(questions : list, answers : list, guesses : list, verbose=False):\n",
    "    system_prompt = \"\"\"\n",
    "        You are playing the game 20 questions.\n",
    "            - Your task is to guess the keyword.\n",
    "            - Note previous questions and their answers when creating your guess\n",
    "            - The keyword will be a person, place or thing.\n",
    "    \"\"\"\n",
    "    assert len(questions) == len(answers)\n",
    "\n",
    "    prev_content = \"\"\n",
    "    for i, question in enumerate(questions):\n",
    "        prev_content += f\"question {i} <question>{question}</question> <answer>{answers[i]}</answer>\"\n",
    "\n",
    "    user_prompt = f\"\"\"\n",
    "        Previous questions and answers are:\n",
    "            {prev_content}\n",
    "\n",
    "        Previous Guesses are, do not repeat these:\n",
    "            {','.join(guesses)}\n",
    "        \n",
    "        You will now guess for the 20 question game.\n",
    "          - Be specific.\n",
    "          - Guess only a single thing.\n",
    "        \n",
    "          \n",
    "        Put the word for your guess in the following tag {Guess.xml_tags()}\n",
    "    \"\"\"\n",
    "    asker = (\n",
    "        rg.get_generator(\"gpt-4o\")\n",
    "        .chat(\n",
    "            [\n",
    "                {\"role\": \"system\", \"content\": system_prompt},\n",
    "                {\"role\": \"user\", \"content\": user_prompt},\n",
    "            ]\n",
    "        )\n",
    "        .run()\n",
    "    )\n",
    "\n",
    "    guess = asker.last.parse(Guess).guess\n",
    "    if verbose:\n",
    "        print(f\"=== Guess {len(questions) + 1} ====\")\n",
    "        print(guess)\n",
    "\n",
    "    return guess"
   ]
  },
  {
   "cell_type": "markdown",
   "id": "d6b57ddc-cdc3-413b-a3ce-626b23387193",
   "metadata": {},
   "source": [
    "# Lets let the Agents fight it out!!!"
   ]
  },
  {
   "cell_type": "code",
   "execution_count": 85,
   "id": "3e7e5bf7-e54d-4420-8265-8e8d4a6dcba8",
   "metadata": {},
   "outputs": [],
   "source": [
    "import string\n",
    "\n",
    "def keyword_guessed(guess: str, keyword: str) -> bool:\n",
    "    def normalize(s: str) -> str:\n",
    "      t = str.maketrans(\"\", \"\", string.punctuation)\n",
    "      return s.lower().replace(\"the\", \"\").replace(\" \", \"\").translate(t)\n",
    "\n",
    "    if normalize(guess) == normalize(keyword):\n",
    "      return True\n",
    "    # for s in alts:\n",
    "    #   if normalize(s) == normalize(guess):\n",
    "    #     return True\n",
    "\n",
    "    return False\n"
   ]
  },
  {
   "cell_type": "code",
   "execution_count": 87,
   "id": "77e44580-a445-4a4a-bd82-aadd0df04c90",
   "metadata": {},
   "outputs": [
    {
     "name": "stdout",
     "output_type": "stream",
     "text": [
      "====================\n",
      "Round 0\n",
      "[Question]: Is the keyword a person?\n",
      "[Answer]:   no\n",
      "[Guess]: Mount Everest\n",
      "====================\n",
      "Round 1\n",
      "[Question]: Is the keyword a place?\n",
      "[Answer]:   no\n",
      "[Guess]: Golden Gate Bridge\n",
      "====================\n",
      "Round 2\n",
      "[Question]: Is the keyword a physical object?\n",
      "[Answer]:   yes\n",
      "[Guess]: Eiffel Tower\n",
      "====================\n",
      "Round 3\n",
      "[Question]: Is the keyword something that is primarily used indoors?\n",
      "[Answer]:   no\n",
      "[Guess]: Statue of Liberty\n",
      "====================\n",
      "Round 4\n",
      "[Question]: Is the keyword something that is found in nature?\n",
      "[Answer]:   yes\n",
      "[Guess]: Grand Canyon\n",
      "====================\n",
      "Round 5\n",
      "[Question]: Is the keyword something that is living?\n",
      "[Answer]:   no\n",
      "[Guess]: The Great Barrier Reef\n",
      "====================\n",
      "Round 6\n",
      "[Question]: Is the keyword a type of mineral or rock?\n",
      "[Answer]:   no\n",
      "[Guess]: Niagara Falls\n",
      "====================\n",
      "Round 7\n",
      "[Question]: Is the keyword a type of plant?\n",
      "[Answer]:   yes\n",
      "[Guess]: Baobab Tree\n",
      "====================\n",
      "Round 8\n",
      "[Question]: Is the keyword a type of tree?\n",
      "[Answer]:   no\n",
      "[Guess]: Cactus\n",
      "====================\n",
      "Round 9\n",
      "[Question]: Is the keyword something typically used in cooking?\n",
      "[Answer]:   yes\n",
      "[Guess]: Rosemary\n",
      "====================\n",
      "Round 10\n",
      "[Question]: Is the keyword an herb?\n",
      "[Answer]:   no\n",
      "[Guess]: Basil\n",
      "====================\n",
      "Round 11\n",
      "[Question]: Is the keyword a type of vegetable?\n",
      "[Answer]:   no\n",
      "[Guess]: garlic\n",
      "====================\n",
      "Round 12\n",
      "[Question]: Is the keyword a type of fruit?\n",
      "[Answer]:   yes\n",
      "[Guess]: apple\n",
      "====================\n",
      "Round 13\n",
      "[Question]: Is the keyword a citrus fruit?\n",
      "[Answer]:   no\n",
      "[Guess]: strawberry\n",
      "====================\n",
      "Round 14\n",
      "[Question]: Is the keyword a berry?\n",
      "[Answer]:   yes\n",
      "[Guess]: blueberry\n",
      "====================\n",
      "Round 15\n",
      "[Question]: Is the keyword a type of berry that is typically red in color?\n",
      "[Answer]:   yes\n",
      "[Guess]: raspberry\n",
      "====================\n",
      "Round 16\n",
      "[Question]: Is the keyword strawberry?\n",
      "[Answer]:   no\n",
      "[Guess]: currant\n",
      "====================\n",
      "Round 17\n",
      "[Question]: Is the keyword raspberry?\n",
      "[Answer]:   no\n",
      "[Guess]: cranberry\n",
      "====================\n",
      "Round 18\n",
      "[Question]: Is the keyword cranberry?\n",
      "[Answer]:   no\n",
      "[Guess]: red currant\n",
      "====================\n",
      "Round 19\n",
      "[Question]: Is the keyword a type of berry that is typically found growing on bushes?\n",
      "[Answer]:   yes\n",
      "[Guess]: gooseberry\n"
     ]
    }
   ],
   "source": [
    "keyword = 'Tomato'\n",
    "questions = []\n",
    "answers = []\n",
    "guesses = []\n",
    "max_questions = 20\n",
    "for i in range(max_questions):\n",
    "    question = ask_next_question(questions, answers)\n",
    "    answer = get_agent_answer(keyword, question)\n",
    "    print('=' * 20)\n",
    "    print(f'Round {i}')\n",
    "    print(f'[Question]: {question}')\n",
    "    print(f'[Answer]:   {answer}')\n",
    "    questions.append(question)\n",
    "    answers.append(answer)\n",
    "    guess = make_guess(questions, answers, guesses)\n",
    "    guesses.append(guess)\n",
    "    print(f'[Guess]: {guess}')\n",
    "    if keyword_guessed(guess, keyword):\n",
    "        print('FOUND IT!!!! BIZNATCH!!!!!!')\n",
    "        break"
   ]
  },
  {
   "cell_type": "markdown",
   "id": "e65e3201-bbc3-4f08-9853-271bfd083c87",
   "metadata": {},
   "source": [
    "# Can GPT-4o Guess Pizza in 20 Questions?!"
   ]
  },
  {
   "cell_type": "code",
   "execution_count": 89,
   "id": "6667067d-0a57-4aae-81ba-224d435174d3",
   "metadata": {},
   "outputs": [
    {
     "name": "stdout",
     "output_type": "stream",
     "text": [
      "====================\n",
      "Round 1\n",
      "[Question]: Is the keyword a person?\n",
      "[Answer]:   no\n",
      "[Guess]: Mount Everest\n",
      "====================\n",
      "Round 2\n",
      "[Question]: Is the keyword a place?\n",
      "[Answer]:   no\n",
      "[Guess]: International Space Station\n",
      "====================\n",
      "Round 3\n",
      "[Question]: Is the keyword something tangible?\n",
      "[Answer]:   yes\n",
      "[Guess]: The Great Wall of China\n",
      "====================\n",
      "Round 4\n",
      "[Question]: Is the keyword something used in daily life?\n",
      "[Answer]:   yes\n",
      "[Guess]: Smartphone\n",
      "====================\n",
      "Round 5\n",
      "[Question]: Is the keyword an electronic device?\n",
      "[Answer]:   no\n",
      "[Guess]: Toothbrush\n",
      "====================\n",
      "Round 6\n",
      "[Question]: Is the keyword something typically found in a household?\n",
      "[Answer]:   yes\n",
      "[Guess]: Refrigerator\n",
      "====================\n",
      "Round 7\n",
      "[Question]: Is the keyword something primarily used in the kitchen?\n",
      "[Answer]:   no\n",
      "[Guess]: Chair\n",
      "====================\n",
      "Round 8\n",
      "[Question]: Is the keyword something used for cleaning?\n",
      "[Answer]:   no\n",
      "[Guess]: Television\n",
      "====================\n",
      "Round 9\n",
      "[Question]: Is the keyword furniture?\n",
      "[Answer]:   no\n",
      "[Guess]: Bed\n",
      "====================\n",
      "Round 10\n",
      "[Question]: Is the keyword something related to personal care?\n",
      "[Answer]:   no\n",
      "[Guess]: Book\n",
      "====================\n",
      "Round 11\n",
      "[Question]: Is the keyword something related to entertainment or leisure?\n",
      "[Answer]:   no\n",
      "[Guess]: Clock\n",
      "====================\n",
      "Round 12\n",
      "[Question]: Is the keyword something used for storage?\n",
      "[Answer]:   no\n",
      "[Guess]: Lamp\n",
      "====================\n",
      "Round 13\n",
      "[Question]: Is the keyword something related to home maintenance or repair?\n",
      "[Answer]:   no\n",
      "[Guess]: Pillow\n",
      "====================\n",
      "Round 14\n",
      "[Question]: Is the keyword something used for decoration?\n",
      "[Answer]:   no\n",
      "[Guess]: Door\n",
      "====================\n",
      "Round 15\n",
      "[Question]: Is the keyword an article of clothing or an accessory?\n",
      "[Answer]:   no\n",
      "[Guess]: Lightbulb\n",
      "====================\n",
      "Round 16\n",
      "[Question]: Is the keyword something used in conjunction with outdoor activities?\n",
      "[Answer]:   no\n",
      "[Guess]: Mirror\n",
      "====================\n",
      "Round 17\n",
      "[Question]: Is the keyword something found in a bathroom?\n",
      "[Answer]:   no\n",
      "[Guess]: Plate\n",
      "====================\n",
      "Round 18\n",
      "[Question]: Is the keyword primarily found in a bedroom?\n",
      "[Answer]:   no\n",
      "[Guess]: Rug\n",
      "====================\n",
      "Round 19\n",
      "[Question]: Is the keyword something used in an office or workspace?\n",
      "[Answer]:   no\n",
      "[Guess]: Mug\n",
      "====================\n",
      "Round 20\n",
      "[Question]: Is the keyword something used for communication?\n",
      "[Answer]:   no\n",
      "[Guess]: Pen\n"
     ]
    }
   ],
   "source": [
    "keyword = 'Pizza'\n",
    "questions = []\n",
    "answers = []\n",
    "guesses = []\n",
    "max_questions = 20\n",
    "\n",
    "for i in range(max_questions):\n",
    "    question = ask_next_question(questions, answers)\n",
    "    answer = get_agent_answer(keyword, question)\n",
    "    print('=' * 20)\n",
    "    print(f'Round {i+1}')\n",
    "    print(f'[Question]: {question}')\n",
    "    print(f'[Answer]:   {answer}')\n",
    "    questions.append(question)\n",
    "    answers.append(answer)\n",
    "    guess = make_guess(questions, answers, guesses)\n",
    "    guesses.append(guess)\n",
    "    print(f'[Guess]: {guess}')\n",
    "    if keyword_guessed(guess, keyword):\n",
    "        print('FOUND IT!!!! BIZNATCH!!!!!!')\n",
    "        break"
   ]
  },
  {
   "cell_type": "code",
   "execution_count": null,
   "id": "83aa1a56-42b1-46f6-a32f-8a83e67c76c2",
   "metadata": {},
   "outputs": [],
   "source": []
  },
  {
   "cell_type": "code",
   "execution_count": null,
   "id": "468e6379-1c0f-4fe5-a7e1-42d692bfd875",
   "metadata": {},
   "outputs": [],
   "source": []
  }
 ],
 "metadata": {
  "kernelspec": {
   "display_name": "Python 3 (ipykernel)",
   "language": "python",
   "name": "python3"
  },
  "language_info": {
   "codemirror_mode": {
    "name": "ipython",
    "version": 3
   },
   "file_extension": ".py",
   "mimetype": "text/x-python",
   "name": "python",
   "nbconvert_exporter": "python",
   "pygments_lexer": "ipython3",
   "version": "3.10.14"
  }
 },
 "nbformat": 4,
 "nbformat_minor": 5
}
