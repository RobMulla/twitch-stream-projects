{
 "cells": [
  {
   "cell_type": "markdown",
   "metadata": {},
   "source": [
    "# Scrape USDA's FoodData Central Data\n",
    "\n",
    "In this notebook we will create a pipeline for pulling data from the USDA's website about food.\n",
    "\n",
    "## Goal of this notebook\n",
    "\n",
    "1. Pull data from the USDA food dataset:\n",
    "    - https://fdc.nal.usda.gov/download-datasets.html\n",
    "2. Extract zip files.\n",
    "3. Format into folders"
   ]
  },
  {
   "cell_type": "code",
   "execution_count": 10,
   "metadata": {
    "_cell_guid": "b1076dfc-b9ad-4769-8c92-a6c4dae69d19",
    "_uuid": "8f2839f25d086af736a60e9eeb907d3b93b6e0e5",
    "tags": []
   },
   "outputs": [],
   "source": [
    "import pandas as pd\n",
    "import numpy as np\n",
    "\n",
    "import requests\n",
    "import re\n",
    "import urllib.request\n",
    "\n",
    "from glob import glob\n",
    "import shutil\n",
    "import os\n",
    "\n",
    "from bs4 import BeautifulSoup\n",
    "from tqdm.notebook import tqdm\n",
    "\n",
    "import matplotlib.pyplot as plt\n",
    "import logging\n",
    "\n",
    "plt.style.use('fivethirtyeight')\n",
    "pd.set_option('display.max_columns', 500)\n",
    "logging.basicConfig(format='%(levelname)s:%(message)s', level=logging.INFO)\n"
   ]
  },
  {
   "cell_type": "code",
   "execution_count": 11,
   "metadata": {
    "tags": []
   },
   "outputs": [],
   "source": [
    "def get_links(base_url = 'https://fdc.nal.usda.gov/',\n",
    "              site = 'https://fdc.nal.usda.gov/download-datasets.html'):\n",
    "    r  = requests.get(site)\n",
    "    data = r.text\n",
    "    soup = BeautifulSoup(data)\n",
    "\n",
    "    links = []\n",
    "    for link in soup.find_all('a'):\n",
    "        links.append(link.get('href'))\n",
    "\n",
    "    zips = [c for c in links if str(c).endswith('.zip')]\n",
    "    zips = [*set(zips)]\n",
    "    zips = [base_url + a for a in zips]\n",
    "    return zips\n",
    "\n",
    "def download_zips(player_zips, zip_dir='./'):\n",
    "    logging.info('======== Starting Download =======')\n",
    "    for z in tqdm(player_zips):\n",
    "        logging.info(f'Downloading {z}')\n",
    "        out = z.split('/')[-1]\n",
    "        urllib.request.urlretrieve(z, f\"{zip_dir}/{out}\")\n",
    "\n",
    "def unzip_files(zip_dir='./', delete_zip=True):\n",
    "    logging.info('======== Starting Unzip =======')\n",
    "    for fn in tqdm(glob(f'{zip_dir}/*.zip')):\n",
    "        logging.info(f'Unzipping {fn}')\n",
    "        out_fn = fn.split('.')[1].replace('/','')\n",
    "        shutil.unpack_archive(fn, out_fn)\n",
    "        if delete_zip:\n",
    "            os.remove(fn)"
   ]
  },
  {
   "cell_type": "code",
   "execution_count": 12,
   "metadata": {
    "tags": []
   },
   "outputs": [
    {
     "name": "stderr",
     "output_type": "stream",
     "text": [
      "INFO:======== Starting Download =======\n"
     ]
    },
    {
     "data": {
      "application/vnd.jupyter.widget-view+json": {
       "model_id": "1c5edd3e3e5c40b9bac65898cfae6460",
       "version_major": 2,
       "version_minor": 0
      },
      "text/plain": [
       "  0%|          | 0/8 [00:00<?, ?it/s]"
      ]
     },
     "metadata": {},
     "output_type": "display_data"
    },
    {
     "name": "stderr",
     "output_type": "stream",
     "text": [
      "INFO:Downloading https://fdc.nal.usda.gov//fdc-datasets/FoodData_Central_csv_2020-10-30.zip\n",
      "INFO:Downloading https://fdc.nal.usda.gov//fdc-datasets/FoodData_Central_csv_2021-10-28.zip\n",
      "INFO:Downloading https://fdc.nal.usda.gov//fdc-datasets/FoodData_Central_csv_2021-04-28.zip\n",
      "INFO:Downloading https://fdc.nal.usda.gov//fdc-datasets/FoodData_Central_csv_2022-10-28.zip\n",
      "INFO:Downloading https://fdc.nal.usda.gov//fdc-datasets/FoodData_Central_csv_2022-04-28.zip\n",
      "INFO:Downloading https://fdc.nal.usda.gov//fdc-datasets/FoodData_Central_csv_2020-04-29.zip\n",
      "INFO:Downloading https://fdc.nal.usda.gov//fdc-datasets/FoodData_Central_csv_%202019-04-02.zip\n",
      "INFO:Downloading https://fdc.nal.usda.gov//fdc-datasets/FoodData_Central_csv_2019-12-17.zip\n",
      "INFO:======== Starting Unzip =======\n"
     ]
    },
    {
     "data": {
      "application/vnd.jupyter.widget-view+json": {
       "model_id": "ceaf4fbef2d14a00a13889ea34b40971",
       "version_major": 2,
       "version_minor": 0
      },
      "text/plain": [
       "  0%|          | 0/8 [00:00<?, ?it/s]"
      ]
     },
     "metadata": {},
     "output_type": "display_data"
    },
    {
     "name": "stderr",
     "output_type": "stream",
     "text": [
      "INFO:Unzipping ./FoodData_Central_csv_2022-10-28.zip\n",
      "INFO:Unzipping ./FoodData_Central_csv_2021-04-28.zip\n",
      "INFO:Unzipping ./FoodData_Central_csv_%202019-04-02.zip\n",
      "INFO:Unzipping ./FoodData_Central_csv_2022-04-28.zip\n",
      "INFO:Unzipping ./FoodData_Central_csv_2019-12-17.zip\n",
      "INFO:Unzipping ./FoodData_Central_csv_2020-04-29.zip\n",
      "INFO:Unzipping ./FoodData_Central_csv_2021-10-28.zip\n",
      "INFO:Unzipping ./FoodData_Central_csv_2020-10-30.zip\n"
     ]
    }
   ],
   "source": [
    "DEBUG = False\n",
    "\n",
    "zips = get_links()\n",
    "# Subset zips just to the main data\n",
    "zips = [z for z in zips if 'FoodData_Central_csv_' in z]\n",
    "if DEBUG:\n",
    "    zips = zips[:2]\n",
    "download_zips(zips)\n",
    "unzip_files()"
   ]
  },
  {
   "cell_type": "code",
   "execution_count": 13,
   "metadata": {
    "execution": {
     "iopub.execute_input": "2023-02-03T03:06:25.599724Z",
     "iopub.status.busy": "2023-02-03T03:06:25.599189Z",
     "iopub.status.idle": "2023-02-03T03:06:26.682779Z",
     "shell.execute_reply": "2023-02-03T03:06:26.681463Z",
     "shell.execute_reply.started": "2023-02-03T03:06:25.599680Z"
    }
   },
   "outputs": [
    {
     "name": "stdout",
     "output_type": "stream",
     "text": [
      "total 120K\n",
      "4.0K drwxrwxr-x 10 robmulla 4.0K Feb  2 22:29 ./\n",
      "4.0K drwxrwxr-x 57 robmulla 4.0K Feb  2 21:37 ../\n",
      " 60K -rw-rw-r--  1 robmulla  58K Jun 30  2022 eda-2022-data.ipynb\n",
      "4.0K drwxrwxr-x  2 robmulla 4.0K Feb  2 22:29 FoodData_Central_csv_2019-12-17/\n",
      "4.0K drwxrwxr-x  3 robmulla 4.0K Feb  2 22:29 FoodData_Central_csv_2020-04-29/\n",
      "4.0K drwxrwxr-x  3 robmulla 4.0K Feb  2 22:29 FoodData_Central_csv_2020-10-30/\n",
      "4.0K drwxrwxr-x  2 robmulla 4.0K Feb  2 22:29 FoodData_Central_csv_%202019-04-02/\n",
      "4.0K drwxrwxr-x  3 robmulla 4.0K Feb  2 22:28 FoodData_Central_csv_2021-04-28/\n",
      "4.0K drwxrwxr-x  3 robmulla 4.0K Feb  2 22:29 FoodData_Central_csv_2021-10-28/\n",
      "4.0K drwxrwxr-x  3 robmulla 4.0K Feb  2 22:29 FoodData_Central_csv_2022-04-28/\n",
      "4.0K drwxrwxr-x  2 robmulla 4.0K Feb  2 22:28 FoodData_Central_csv_2022-10-28/\n",
      "8.0K -rw-rw-r--  1 robmulla 5.6K Feb  2 22:27 fooddata-central-data-scrape.ipynb\n",
      " 12K -rw-rw-r--  1 robmulla  11K Feb  2 21:22 usda-food-data-pull.ipynb\n"
     ]
    }
   ],
   "source": [
    "!ls -GFlash"
   ]
  }
 ],
 "metadata": {
  "kernelspec": {
   "display_name": "Python 3 (ipykernel)",
   "language": "python",
   "name": "python3"
  },
  "language_info": {
   "codemirror_mode": {
    "name": "ipython",
    "version": 3
   },
   "file_extension": ".py",
   "mimetype": "text/x-python",
   "name": "python",
   "nbconvert_exporter": "python",
   "pygments_lexer": "ipython3",
   "version": "3.11.0"
  }
 },
 "nbformat": 4,
 "nbformat_minor": 4
}
