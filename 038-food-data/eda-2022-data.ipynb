{
 "cells": [
  {
   "cell_type": "markdown",
   "id": "ea2b772d-2ba9-48e0-9e33-c2f5b65a9701",
   "metadata": {},
   "source": [
    "# EDA of 2022 USDA Food Data"
   ]
  },
  {
   "cell_type": "code",
   "execution_count": 2,
   "id": "28e87cd5-e36f-47be-b87b-5aff0d9c8ce3",
   "metadata": {},
   "outputs": [],
   "source": [
    "import pandas as pd\n",
    "from glob import glob"
   ]
  },
  {
   "cell_type": "code",
   "execution_count": 4,
   "id": "c9b9f281-9c6b-4044-ac9f-cbe1f19b7d3c",
   "metadata": {},
   "outputs": [],
   "source": [
    "csvs = glob('FoodData_Central_csv_2022-04-28/*.csv')"
   ]
  },
  {
   "cell_type": "code",
   "execution_count": 17,
   "id": "0f1a3689-f77d-4a33-a5e6-3ef18af7e336",
   "metadata": {},
   "outputs": [],
   "source": [
    "branded = pd.read_csv([c for c in csvs if 'branded' in c][0], low_memory=False)"
   ]
  },
  {
   "cell_type": "code",
   "execution_count": 21,
   "id": "8ebfbbed-d438-46b9-9ed1-a084096de773",
   "metadata": {},
   "outputs": [
    {
     "name": "stdout",
     "output_type": "stream",
     "text": [
      "<class 'pandas.core.frame.DataFrame'>\n",
      "RangeIndex: 1628970 entries, 0 to 1628969\n",
      "Data columns (total 19 columns):\n",
      " #   Column                       Non-Null Count    Dtype  \n",
      "---  ------                       --------------    -----  \n",
      " 0   fdc_id                       1628970 non-null  int64  \n",
      " 1   brand_owner                  1627121 non-null  object \n",
      " 2   brand_name                   1069880 non-null  object \n",
      " 3   subbrand_name                57367 non-null    object \n",
      " 4   gtin_upc                     1628970 non-null  object \n",
      " 5   ingredients                  1623555 non-null  object \n",
      " 6   not_a_significant_source_of  51264 non-null    object \n",
      " 7   serving_size                 1614945 non-null  float64\n",
      " 8   serving_size_unit            1603488 non-null  object \n",
      " 9   household_serving_fulltext   538917 non-null   object \n",
      " 10  branded_food_category        1618501 non-null  object \n",
      " 11  data_source                  1628970 non-null  object \n",
      " 12  package_weight               461651 non-null   object \n",
      " 13  modified_date                1628950 non-null  object \n",
      " 14  available_date               1628970 non-null  object \n",
      " 15  market_country               1628968 non-null  object \n",
      " 16  discontinued_date            0 non-null        float64\n",
      " 17  preparation_state_code       16650 non-null    object \n",
      " 18  trade_channel                6835 non-null     object \n",
      "dtypes: float64(2), int64(1), object(16)\n",
      "memory usage: 236.1+ MB\n"
     ]
    }
   ],
   "source": [
    "branded.info()"
   ]
  },
  {
   "cell_type": "code",
   "execution_count": 24,
   "id": "d256dd77-ed4c-46bc-a1d6-1fbe9d65b973",
   "metadata": {},
   "outputs": [
    {
     "data": {
      "text/plain": [
       "Popcorn, Peanuts, Seeds & Related Snacks           77192\n",
       "Candy                                              76252\n",
       "Cheese                                             63650\n",
       "Ice Cream & Frozen Yogurt                          50036\n",
       "Cookies & Biscuits                                 47519\n",
       "Chips, Pretzels & Snacks                           42837\n",
       "Breads & Buns                                      38571\n",
       "Pickles, Olives, Peppers & Relishes                37420\n",
       "Fruit & Vegetable Juice, Nectars & Fruit Drinks    34844\n",
       "Cereal                                             34104\n",
       "Name: branded_food_category, dtype: int64"
      ]
     },
     "execution_count": 24,
     "metadata": {},
     "output_type": "execute_result"
    }
   ],
   "source": [
    "branded['branded_food_category'].value_counts().head(10)"
   ]
  },
  {
   "cell_type": "code",
   "execution_count": 26,
   "id": "f4c25626-3910-43c6-a5c4-dc8922cab67f",
   "metadata": {},
   "outputs": [
    {
     "data": {
      "text/plain": [
       "The Kellogg Company          2958\n",
       "Post Consumer Brands, LLC    2888\n",
       "The Quaker Oats Company      1808\n",
       "General Mills, Inc.          1539\n",
       "MOM Brands Company           1123\n",
       "                             ... \n",
       "TONY'S                          1\n",
       "DUNYA HARVEST                   1\n",
       "CHAPPAQUA CRUNCH                1\n",
       "HAPPY HEALTH                    1\n",
       "BLISS GOURMET FOODS             1\n",
       "Name: brand_owner, Length: 1032, dtype: int64"
      ]
     },
     "execution_count": 26,
     "metadata": {},
     "output_type": "execute_result"
    }
   ],
   "source": [
    "branded.query('branded_food_category == \"Cereal\"')['brand_owner'].value_counts()"
   ]
  },
  {
   "cell_type": "code",
   "execution_count": 31,
   "id": "f1123d1f-3eb2-43bf-8e6a-83b4e7b8647c",
   "metadata": {},
   "outputs": [
    {
     "name": "stdout",
     "output_type": "stream",
     "text": [
      "FoodData_Central_csv_2022-04-28/all_downloaded_table_record_counts.csv\n"
     ]
    },
    {
     "data": {
      "text/html": [
       "<div>\n",
       "<style scoped>\n",
       "    .dataframe tbody tr th:only-of-type {\n",
       "        vertical-align: middle;\n",
       "    }\n",
       "\n",
       "    .dataframe tbody tr th {\n",
       "        vertical-align: top;\n",
       "    }\n",
       "\n",
       "    .dataframe thead th {\n",
       "        text-align: right;\n",
       "    }\n",
       "</style>\n",
       "<table border=\"1\" class=\"dataframe\">\n",
       "  <thead>\n",
       "    <tr style=\"text-align: right;\">\n",
       "      <th></th>\n",
       "      <th>Table</th>\n",
       "      <th>Number of Records</th>\n",
       "    </tr>\n",
       "  </thead>\n",
       "  <tbody>\n",
       "    <tr>\n",
       "      <th>11</th>\n",
       "      <td>food_nutrient</td>\n",
       "      <td>5917370</td>\n",
       "    </tr>\n",
       "    <tr>\n",
       "      <th>6</th>\n",
       "      <td>food_attribute</td>\n",
       "      <td>1907689</td>\n",
       "    </tr>\n",
       "    <tr>\n",
       "      <th>5</th>\n",
       "      <td>food</td>\n",
       "      <td>1687318</td>\n",
       "    </tr>\n",
       "    <tr>\n",
       "      <th>2</th>\n",
       "      <td>branded_food</td>\n",
       "      <td>1628970</td>\n",
       "    </tr>\n",
       "    <tr>\n",
       "      <th>17</th>\n",
       "      <td>food_update_log_entry</td>\n",
       "      <td>1239057</td>\n",
       "    </tr>\n",
       "    <tr>\n",
       "      <th>4</th>\n",
       "      <td>fndds_ingredient_nutrient_value</td>\n",
       "      <td>151580</td>\n",
       "    </tr>\n",
       "    <tr>\n",
       "      <th>31</th>\n",
       "      <td>sub_sample_result</td>\n",
       "      <td>85773</td>\n",
       "    </tr>\n",
       "    <tr>\n",
       "      <th>15</th>\n",
       "      <td>food_portion</td>\n",
       "      <td>56893</td>\n",
       "    </tr>\n",
       "    <tr>\n",
       "      <th>30</th>\n",
       "      <td>sub_sample_food</td>\n",
       "      <td>33994</td>\n",
       "    </tr>\n",
       "    <tr>\n",
       "      <th>19</th>\n",
       "      <td>input_food</td>\n",
       "      <td>24896</td>\n",
       "    </tr>\n",
       "    <tr>\n",
       "      <th>12</th>\n",
       "      <td>food_nutrient_conversion_factor</td>\n",
       "      <td>11154</td>\n",
       "    </tr>\n",
       "    <tr>\n",
       "      <th>29</th>\n",
       "      <td>sr_legacy_food</td>\n",
       "      <td>7793</td>\n",
       "    </tr>\n",
       "    <tr>\n",
       "      <th>32</th>\n",
       "      <td>survey_fndds_food</td>\n",
       "      <td>7083</td>\n",
       "    </tr>\n",
       "    <tr>\n",
       "      <th>0</th>\n",
       "      <td>acquisition_sample</td>\n",
       "      <td>6729</td>\n",
       "    </tr>\n",
       "    <tr>\n",
       "      <th>16</th>\n",
       "      <td>food_protein_conversion_factor</td>\n",
       "      <td>6257</td>\n",
       "    </tr>\n",
       "    <tr>\n",
       "      <th>23</th>\n",
       "      <td>market_acquisition</td>\n",
       "      <td>5945</td>\n",
       "    </tr>\n",
       "    <tr>\n",
       "      <th>8</th>\n",
       "      <td>food_calorie_conversion_factor</td>\n",
       "      <td>4915</td>\n",
       "    </tr>\n",
       "    <tr>\n",
       "      <th>10</th>\n",
       "      <td>food_component</td>\n",
       "      <td>3066</td>\n",
       "    </tr>\n",
       "    <tr>\n",
       "      <th>28</th>\n",
       "      <td>sample_food</td>\n",
       "      <td>2447</td>\n",
       "    </tr>\n",
       "    <tr>\n",
       "      <th>22</th>\n",
       "      <td>lab_method_nutrient</td>\n",
       "      <td>1005</td>\n",
       "    </tr>\n",
       "    <tr>\n",
       "      <th>1</th>\n",
       "      <td>agricultural_acquisition</td>\n",
       "      <td>810</td>\n",
       "    </tr>\n",
       "    <tr>\n",
       "      <th>26</th>\n",
       "      <td>nutrient_incoming_name</td>\n",
       "      <td>730</td>\n",
       "    </tr>\n",
       "    <tr>\n",
       "      <th>25</th>\n",
       "      <td>nutrient</td>\n",
       "      <td>474</td>\n",
       "    </tr>\n",
       "    <tr>\n",
       "      <th>21</th>\n",
       "      <td>lab_method_code</td>\n",
       "      <td>292</td>\n",
       "    </tr>\n",
       "    <tr>\n",
       "      <th>20</th>\n",
       "      <td>lab_method</td>\n",
       "      <td>275</td>\n",
       "    </tr>\n",
       "    <tr>\n",
       "      <th>27</th>\n",
       "      <td>retention_factor</td>\n",
       "      <td>270</td>\n",
       "    </tr>\n",
       "    <tr>\n",
       "      <th>18</th>\n",
       "      <td>foundation_food</td>\n",
       "      <td>184</td>\n",
       "    </tr>\n",
       "    <tr>\n",
       "      <th>33</th>\n",
       "      <td>wweia_food_category</td>\n",
       "      <td>167</td>\n",
       "    </tr>\n",
       "    <tr>\n",
       "      <th>24</th>\n",
       "      <td>measure_unit</td>\n",
       "      <td>122</td>\n",
       "    </tr>\n",
       "    <tr>\n",
       "      <th>13</th>\n",
       "      <td>food_nutrient_derivation</td>\n",
       "      <td>64</td>\n",
       "    </tr>\n",
       "    <tr>\n",
       "      <th>3</th>\n",
       "      <td>fndds_derivation</td>\n",
       "      <td>49</td>\n",
       "    </tr>\n",
       "    <tr>\n",
       "      <th>9</th>\n",
       "      <td>food_category</td>\n",
       "      <td>28</td>\n",
       "    </tr>\n",
       "    <tr>\n",
       "      <th>14</th>\n",
       "      <td>food_nutrient_source</td>\n",
       "      <td>10</td>\n",
       "    </tr>\n",
       "    <tr>\n",
       "      <th>7</th>\n",
       "      <td>food_attribute_type</td>\n",
       "      <td>5</td>\n",
       "    </tr>\n",
       "  </tbody>\n",
       "</table>\n",
       "</div>"
      ],
      "text/plain": [
       "                              Table  Number of Records\n",
       "11                    food_nutrient            5917370\n",
       "6                    food_attribute            1907689\n",
       "5                              food            1687318\n",
       "2                      branded_food            1628970\n",
       "17            food_update_log_entry            1239057\n",
       "4   fndds_ingredient_nutrient_value             151580\n",
       "31                sub_sample_result              85773\n",
       "15                     food_portion              56893\n",
       "30                  sub_sample_food              33994\n",
       "19                       input_food              24896\n",
       "12  food_nutrient_conversion_factor              11154\n",
       "29                   sr_legacy_food               7793\n",
       "32                survey_fndds_food               7083\n",
       "0                acquisition_sample               6729\n",
       "16   food_protein_conversion_factor               6257\n",
       "23               market_acquisition               5945\n",
       "8    food_calorie_conversion_factor               4915\n",
       "10                   food_component               3066\n",
       "28                      sample_food               2447\n",
       "22              lab_method_nutrient               1005\n",
       "1          agricultural_acquisition                810\n",
       "26           nutrient_incoming_name                730\n",
       "25                         nutrient                474\n",
       "21                  lab_method_code                292\n",
       "20                       lab_method                275\n",
       "27                 retention_factor                270\n",
       "18                  foundation_food                184\n",
       "33              wweia_food_category                167\n",
       "24                     measure_unit                122\n",
       "13         food_nutrient_derivation                 64\n",
       "3                  fndds_derivation                 49\n",
       "9                     food_category                 28\n",
       "14             food_nutrient_source                 10\n",
       "7               food_attribute_type                  5"
      ]
     },
     "execution_count": 31,
     "metadata": {},
     "output_type": "execute_result"
    }
   ],
   "source": [
    "print(csvs[0])\n",
    "pd.read_csv(csvs[0]).sort_values('Number of Records', ascending=False)"
   ]
  },
  {
   "cell_type": "code",
   "execution_count": 33,
   "id": "c7eda5d0-d751-4c79-9017-25760bbbc781",
   "metadata": {},
   "outputs": [],
   "source": [
    "food = pd.read_csv('FoodData_Central_csv_2022-04-28/food.csv')"
   ]
  },
  {
   "cell_type": "code",
   "execution_count": 36,
   "id": "8978024e-9409-4748-a457-85d4ded66e80",
   "metadata": {},
   "outputs": [],
   "source": [
    "foundation_food = pd.read_csv('FoodData_Central_csv_2022-04-28/foundation_food.csv')"
   ]
  },
  {
   "cell_type": "code",
   "execution_count": 42,
   "id": "27455983-fdff-49b9-af37-8c801583882b",
   "metadata": {},
   "outputs": [
    {
     "data": {
      "text/plain": [
       "((1687318, 5), (1628970, 19), (184, 3))"
      ]
     },
     "execution_count": 42,
     "metadata": {},
     "output_type": "execute_result"
    }
   ],
   "source": [
    "food.shape, branded.shape, foundation_food.shape"
   ]
  },
  {
   "cell_type": "code",
   "execution_count": 40,
   "id": "f14ac30b-bc79-4fce-99d1-73223bb4c4b4",
   "metadata": {},
   "outputs": [
    {
     "data": {
      "text/plain": [
       "branded_food                1628970\n",
       "sub_sample_food               33994\n",
       "sr_legacy_food                 7793\n",
       "survey_fndds_food              7083\n",
       "market_acquistion              5945\n",
       "sample_food                    2447\n",
       "agricultural_acquisition        810\n",
       "foundation_food                 250\n",
       "experimental_food                26\n",
       "Name: data_type, dtype: int64"
      ]
     },
     "execution_count": 40,
     "metadata": {},
     "output_type": "execute_result"
    }
   ],
   "source": [
    "food['data_type'].value_counts()"
   ]
  },
  {
   "cell_type": "code",
   "execution_count": 47,
   "id": "806f1ef9-ca0a-488a-a6ae-00072e9ac26c",
   "metadata": {},
   "outputs": [],
   "source": [
    "sub_sample_food = pd.read_csv('FoodData_Central_csv_2022-04-28/sub_sample_food.csv')"
   ]
  },
  {
   "cell_type": "code",
   "execution_count": 46,
   "id": "5701f895-72b7-4b39-bda0-a025f3613833",
   "metadata": {},
   "outputs": [],
   "source": [
    "hummus = food.query('data_type == \"sub_sample_food\" and description == \"Hummus\"')['fdc_id'].unique()"
   ]
  },
  {
   "cell_type": "code",
   "execution_count": 53,
   "id": "c92ba0c9-da7b-49c9-95e2-e16fa8a1228f",
   "metadata": {},
   "outputs": [],
   "source": [
    "hummus_sample = sub_sample_food.query('fdc_id in @hummus')['fdc_id_of_sample_food'].unique()"
   ]
  },
  {
   "cell_type": "code",
   "execution_count": 54,
   "id": "7340eba4-458b-489b-a6ce-8e325e56fe4b",
   "metadata": {},
   "outputs": [],
   "source": [
    "sample_food = pd.read_csv('FoodData_Central_csv_2022-04-28/sample_food.csv')"
   ]
  },
  {
   "cell_type": "code",
   "execution_count": 56,
   "id": "f6936ce5-6c10-4ff6-8c02-428b16004655",
   "metadata": {},
   "outputs": [],
   "source": [
    "food_portion = pd.read_csv('FoodData_Central_csv_2022-04-28/food_portion.csv')"
   ]
  },
  {
   "cell_type": "code",
   "execution_count": 61,
   "id": "f74bb00b-17d1-4645-9ddb-29b060899ca2",
   "metadata": {},
   "outputs": [
    {
     "data": {
      "text/html": [
       "<div>\n",
       "<style scoped>\n",
       "    .dataframe tbody tr th:only-of-type {\n",
       "        vertical-align: middle;\n",
       "    }\n",
       "\n",
       "    .dataframe tbody tr th {\n",
       "        vertical-align: top;\n",
       "    }\n",
       "\n",
       "    .dataframe thead th {\n",
       "        text-align: right;\n",
       "    }\n",
       "</style>\n",
       "<table border=\"1\" class=\"dataframe\">\n",
       "  <thead>\n",
       "    <tr style=\"text-align: right;\">\n",
       "      <th></th>\n",
       "      <th>fdc_id</th>\n",
       "      <th>data_type</th>\n",
       "      <th>description</th>\n",
       "      <th>food_category_id</th>\n",
       "      <th>publication_date</th>\n",
       "    </tr>\n",
       "  </thead>\n",
       "  <tbody>\n",
       "    <tr>\n",
       "      <th>0</th>\n",
       "      <td>1105904</td>\n",
       "      <td>branded_food</td>\n",
       "      <td>WESSON Vegetable Oil 1 GAL</td>\n",
       "      <td>NaN</td>\n",
       "      <td>2020-11-13</td>\n",
       "    </tr>\n",
       "    <tr>\n",
       "      <th>1</th>\n",
       "      <td>1105905</td>\n",
       "      <td>branded_food</td>\n",
       "      <td>SWANSON BROTH BEEF</td>\n",
       "      <td>NaN</td>\n",
       "      <td>2020-11-13</td>\n",
       "    </tr>\n",
       "    <tr>\n",
       "      <th>2</th>\n",
       "      <td>1105906</td>\n",
       "      <td>branded_food</td>\n",
       "      <td>CAMPBELL'S SLOW KETTLE SOUP CLAM CHOWDER</td>\n",
       "      <td>NaN</td>\n",
       "      <td>2020-11-13</td>\n",
       "    </tr>\n",
       "    <tr>\n",
       "      <th>3</th>\n",
       "      <td>1105907</td>\n",
       "      <td>branded_food</td>\n",
       "      <td>CAMPBELL'S SLOW KETTLE SOUP CHEESE BROCCOLI</td>\n",
       "      <td>NaN</td>\n",
       "      <td>2020-11-13</td>\n",
       "    </tr>\n",
       "    <tr>\n",
       "      <th>4</th>\n",
       "      <td>1105898</td>\n",
       "      <td>experimental_food</td>\n",
       "      <td>Discrepancy between the Atwater factor predict...</td>\n",
       "      <td>NaN</td>\n",
       "      <td>2020-10-30</td>\n",
       "    </tr>\n",
       "  </tbody>\n",
       "</table>\n",
       "</div>"
      ],
      "text/plain": [
       "    fdc_id          data_type  \\\n",
       "0  1105904       branded_food   \n",
       "1  1105905       branded_food   \n",
       "2  1105906       branded_food   \n",
       "3  1105907       branded_food   \n",
       "4  1105898  experimental_food   \n",
       "\n",
       "                                         description  food_category_id  \\\n",
       "0                         WESSON Vegetable Oil 1 GAL               NaN   \n",
       "1                                 SWANSON BROTH BEEF               NaN   \n",
       "2           CAMPBELL'S SLOW KETTLE SOUP CLAM CHOWDER               NaN   \n",
       "3        CAMPBELL'S SLOW KETTLE SOUP CHEESE BROCCOLI               NaN   \n",
       "4  Discrepancy between the Atwater factor predict...               NaN   \n",
       "\n",
       "  publication_date  \n",
       "0       2020-11-13  \n",
       "1       2020-11-13  \n",
       "2       2020-11-13  \n",
       "3       2020-11-13  \n",
       "4       2020-10-30  "
      ]
     },
     "execution_count": 61,
     "metadata": {},
     "output_type": "execute_result"
    }
   ],
   "source": [
    "food.head()"
   ]
  },
  {
   "cell_type": "code",
   "execution_count": 64,
   "id": "64e53bdc-2ca2-4442-b225-a0334741dbc4",
   "metadata": {},
   "outputs": [],
   "source": [
    "branded_full = branded.merge(food, on=['fdc_id'], how='left', validate='1:1')"
   ]
  },
  {
   "cell_type": "code",
   "execution_count": 70,
   "id": "b4016c1e-f316-4ef6-ae1f-9c485c3e1f35",
   "metadata": {},
   "outputs": [],
   "source": [
    "pd.set_option('display.max_columns', 500)"
   ]
  },
  {
   "cell_type": "code",
   "execution_count": 77,
   "id": "af3ec21c-e94f-4938-a4a7-f91e73a688ae",
   "metadata": {},
   "outputs": [],
   "source": [
    "cheerios = branded_full.loc[branded_full['description'].str.lower().str.contains('cheerios').fillna(False)]"
   ]
  },
  {
   "cell_type": "code",
   "execution_count": 81,
   "id": "a32dddca-00cc-411b-abc9-7df2f988fad1",
   "metadata": {},
   "outputs": [
    {
     "data": {
      "text/plain": [
       "Cheerios Cereal                                                                    46\n",
       "Honey Nut Cheerios Cereal                                                          32\n",
       "Chocolate Peanut Butter Cheerios Cereal                                            20\n",
       "Multi Grain Cheerios Gluten Free Breakfast Cereal                                  17\n",
       "Blueberry Cheerios Cereal                                                          17\n",
       "                                                                                   ..\n",
       "GMILLS CHEERIOS SWEETENED CRN OAT CEREAL BANANA NUT                                 2\n",
       "GENERAL MILLS, CHEERIOS, SWEETENED WHOLE GRAIN OAT CEREAL, HONEY NUT, HONEY NUT     1\n",
       "GMILLS CHEERIOS CEREAL RTE PUMPKIN SPICE                                            1\n",
       "GMILLS CHEERIOS SWEETENED WHL GRN OAT CEREAL PUMPKIN SPICE                          1\n",
       "GMILLS CHEERIOS SWEETENED WHL GRN OAT CEREAL STRWBRY FAMILY SZ                      1\n",
       "Name: description, Length: 79, dtype: int64"
      ]
     },
     "execution_count": 81,
     "metadata": {},
     "output_type": "execute_result"
    }
   ],
   "source": [
    "cheerios['description'].value_counts()"
   ]
  },
  {
   "cell_type": "code",
   "execution_count": 92,
   "id": "cab95b06-b513-4f79-8c08-e5d5ff1fddaf",
   "metadata": {},
   "outputs": [
    {
     "data": {
      "text/plain": [
       "WHOLE GRAIN OATS, CORN STARCH, SUGAR, SALT, TRIPOTASSIUM PHOSPHATE. VITAMIN E (MIXED TOCOPHEROLS) ADDED TO PRESERVE FRESHNESS.VITAMINS AND MINERALS: CALCIUM CARBONATE, IRON AND ZINC (MINERAL NUTRIENTS), VITAMIN C (SODIUM ASCORBATE), A B VITAMIN (NIACINAMIDE), VITAMIN B6 (PYRIDOXINE HYDROCHLORIDE), VITAMIN A (PALMITATE), VITAMIN B1 (THIAMIN MONONITRATE), A B VITAMIN (FOLIC ACID), VITAMIN B12, VITAMIN D3.    46\n",
       "Name: ingredients, dtype: int64"
      ]
     },
     "execution_count": 92,
     "metadata": {},
     "output_type": "execute_result"
    }
   ],
   "source": [
    "branded_full.query('description == \"Cheerios Cereal\"')['ingredients'].value_counts()"
   ]
  },
  {
   "cell_type": "code",
   "execution_count": 104,
   "id": "3f656166-a9a9-4281-91b0-adb6b5bf1bcd",
   "metadata": {},
   "outputs": [],
   "source": [
    "branded_full_dedup = branded_full.drop_duplicates(subset=['description','ingredients']).copy()"
   ]
  },
  {
   "cell_type": "code",
   "execution_count": 116,
   "id": "ee6527ae-b2db-4d58-992e-df4d14a75563",
   "metadata": {},
   "outputs": [
    {
     "data": {
      "text/plain": [
       "Index(['fdc_id', 'brand_owner', 'brand_name', 'subbrand_name', 'gtin_upc',\n",
       "       'ingredients', 'not_a_significant_source_of', 'serving_size',\n",
       "       'serving_size_unit', 'household_serving_fulltext',\n",
       "       'branded_food_category', 'data_source', 'package_weight',\n",
       "       'modified_date', 'available_date', 'market_country',\n",
       "       'discontinued_date', 'preparation_state_code', 'trade_channel',\n",
       "       'data_type', 'description', 'food_category_id', 'publication_date'],\n",
       "      dtype='object')"
      ]
     },
     "execution_count": 116,
     "metadata": {},
     "output_type": "execute_result"
    }
   ],
   "source": [
    "branded_full_dedup.columns"
   ]
  },
  {
   "cell_type": "code",
   "execution_count": 148,
   "id": "ca792c04-f637-4a40-ba99-de599b0908ae",
   "metadata": {},
   "outputs": [
    {
     "ename": "SyntaxError",
     "evalue": "invalid syntax (2747850289.py, line 1)",
     "output_type": "error",
     "traceback": [
      "\u001b[0;36m  File \u001b[0;32m\"/tmp/ipykernel_26646/2747850289.py\"\u001b[0;36m, line \u001b[0;32m1\u001b[0m\n\u001b[0;31m    .str.replace(\"\\([^)]*\\)\", \"\", regex=True) \\\u001b[0m\n\u001b[0m    ^\u001b[0m\n\u001b[0;31mSyntaxError\u001b[0m\u001b[0;31m:\u001b[0m invalid syntax\n"
     ]
    }
   ],
   "source": []
  },
  {
   "cell_type": "code",
   "execution_count": 163,
   "id": "55418394-38e3-439d-ae36-d1b87b02b06e",
   "metadata": {},
   "outputs": [],
   "source": [
    "    # .str.replace(\"\\([^)]*\\)\", \"\", regex=True) \\\n",
    "branded_split = branded_full_dedup.set_index('fdc_id')['ingredients'] \\\n",
    "    .str.split(',').explode() \\\n",
    "    .str.lower() \\\n",
    "    .str.replace('(','', regex=False) \\\n",
    "    .str.replace(')','', regex=False) \\\n",
    "    .str.replace(':','', regex=False) \\\n",
    "    .str.replace('.','', regex=False) \\\n",
    "    .str.replace('ingredients','', regex=False) \\\n",
    "    .str.strip()"
   ]
  },
  {
   "cell_type": "code",
   "execution_count": 164,
   "id": "cdf85d47-4fb3-43c3-a6db-1723dffe448a",
   "metadata": {},
   "outputs": [],
   "source": [
    "top100_ingredients = branded_split.value_counts().head(100).index"
   ]
  },
  {
   "cell_type": "code",
   "execution_count": 165,
   "id": "bd7cf47c-a8b3-4a90-8935-f9541165d7bb",
   "metadata": {},
   "outputs": [],
   "source": [
    "branded_split = branded_split.to_frame('ingredient')"
   ]
  },
  {
   "cell_type": "code",
   "execution_count": 166,
   "id": "c60588f4-a121-4ea0-ae6c-3207338a63d7",
   "metadata": {},
   "outputs": [],
   "source": [
    "branded_split_ingedients = branded_full_dedup[['fdc_id',\n",
    "                                               'brand_owner',\n",
    "                                               'branded_food_category',\n",
    "                                               'description']].copy()"
   ]
  },
  {
   "cell_type": "code",
   "execution_count": 178,
   "id": "2938d72d-e890-4d01-afdb-7b9f8d5ebcc2",
   "metadata": {},
   "outputs": [],
   "source": [
    "from tqdm.notebook import tqdm"
   ]
  },
  {
   "cell_type": "code",
   "execution_count": 180,
   "id": "6542626f-942f-404a-867f-056ec94c15c2",
   "metadata": {},
   "outputs": [
    {
     "data": {
      "application/vnd.jupyter.widget-view+json": {
       "model_id": "ea58447757084ed682c9ad037afba4db",
       "version_major": 2,
       "version_minor": 0
      },
      "text/plain": [
       "  0%|          | 0/100 [00:00<?, ?it/s]"
      ]
     },
     "metadata": {},
     "output_type": "display_data"
    },
    {
     "name": "stderr",
     "output_type": "stream",
     "text": [
      "/tmp/ipykernel_26646/4206120022.py:3: PerformanceWarning: DataFrame is highly fragmented.  This is usually the result of calling `frame.insert` many times, which has poor performance.  Consider joining all columns at once using pd.concat(axis=1) instead. To get a de-fragmented frame, use `newframe = frame.copy()`\n",
      "  branded_split_ingedients[ing] = branded_split_ingedients['fdc_id'].isin(fdc_id_list)\n",
      "/tmp/ipykernel_26646/4206120022.py:3: PerformanceWarning: DataFrame is highly fragmented.  This is usually the result of calling `frame.insert` many times, which has poor performance.  Consider joining all columns at once using pd.concat(axis=1) instead. To get a de-fragmented frame, use `newframe = frame.copy()`\n",
      "  branded_split_ingedients[ing] = branded_split_ingedients['fdc_id'].isin(fdc_id_list)\n"
     ]
    }
   ],
   "source": [
    "for ing in tqdm(top100_ingredients):\n",
    "    fdc_id_list = branded_split.query('ingredient == @ing').index.tolist()\n",
    "    branded_split_ingedients[ing] = branded_split_ingedients['fdc_id'].isin(fdc_id_list)"
   ]
  },
  {
   "cell_type": "code",
   "execution_count": 186,
   "id": "7430bca6-86fa-4549-bf90-fad2d65d154b",
   "metadata": {},
   "outputs": [],
   "source": [
    "branded_split_ingedients['n_top100_ing'] = branded_split_ingedients[top100_ingredients].sum(axis=1)"
   ]
  },
  {
   "cell_type": "code",
   "execution_count": 189,
   "id": "ef5f7a73-bc9b-4552-bfc5-17db547324bb",
   "metadata": {},
   "outputs": [
    {
     "data": {
      "text/plain": [
       "<AxesSubplot:ylabel='Frequency'>"
      ]
     },
     "execution_count": 189,
     "metadata": {},
     "output_type": "execute_result"
    },
    {
     "data": {
      "image/png": "[encoded data removed]",
      "text/plain": [
       "<Figure size 432x288 with 1 Axes>"
      ]
     },
     "metadata": {
      "needs_background": "light"
     },
     "output_type": "display_data"
    }
   ],
   "source": [
    "branded_split_ingedients['n_top100_ing'].plot(kind='hist', bins=20)"
   ]
  },
  {
   "cell_type": "code",
   "execution_count": 191,
   "id": "94c9f079-afe1-4c51-8045-9d6e6b66cc3b",
   "metadata": {},
   "outputs": [
    {
     "data": {
      "text/plain": [
       "0.11301123135375352"
      ]
     },
     "execution_count": 191,
     "metadata": {},
     "output_type": "execute_result"
    }
   ],
   "source": [
    "(branded_split_ingedients['n_top100_ing'] == 0).mean()"
   ]
  },
  {
   "cell_type": "code",
   "execution_count": 194,
   "id": "ef52e7bf-1a59-40f0-91b9-5e5208d27aa6",
   "metadata": {},
   "outputs": [
    {
     "data": {
      "text/html": [
       "<div>\n",
       "<style scoped>\n",
       "    .dataframe tbody tr th:only-of-type {\n",
       "        vertical-align: middle;\n",
       "    }\n",
       "\n",
       "    .dataframe tbody tr th {\n",
       "        vertical-align: top;\n",
       "    }\n",
       "\n",
       "    .dataframe thead th {\n",
       "        text-align: right;\n",
       "    }\n",
       "</style>\n",
       "<table border=\"1\" class=\"dataframe\">\n",
       "  <thead>\n",
       "    <tr style=\"text-align: right;\">\n",
       "      <th></th>\n",
       "      <th>fdc_id</th>\n",
       "      <th>brand_owner</th>\n",
       "      <th>brand_name</th>\n",
       "      <th>subbrand_name</th>\n",
       "      <th>gtin_upc</th>\n",
       "      <th>ingredients</th>\n",
       "      <th>not_a_significant_source_of</th>\n",
       "      <th>serving_size</th>\n",
       "      <th>serving_size_unit</th>\n",
       "      <th>household_serving_fulltext</th>\n",
       "      <th>branded_food_category</th>\n",
       "      <th>data_source</th>\n",
       "      <th>package_weight</th>\n",
       "      <th>modified_date</th>\n",
       "      <th>available_date</th>\n",
       "      <th>market_country</th>\n",
       "      <th>discontinued_date</th>\n",
       "      <th>preparation_state_code</th>\n",
       "      <th>trade_channel</th>\n",
       "      <th>data_type</th>\n",
       "      <th>description</th>\n",
       "      <th>food_category_id</th>\n",
       "      <th>publication_date</th>\n",
       "    </tr>\n",
       "  </thead>\n",
       "  <tbody>\n",
       "    <tr>\n",
       "      <th>0</th>\n",
       "      <td>1105904</td>\n",
       "      <td>Richardson Oilseed Products (US) Limited</td>\n",
       "      <td>NaN</td>\n",
       "      <td>NaN</td>\n",
       "      <td>00027000612323</td>\n",
       "      <td>Vegetable Oil</td>\n",
       "      <td>NaN</td>\n",
       "      <td>15.0</td>\n",
       "      <td>ml</td>\n",
       "      <td>NaN</td>\n",
       "      <td>Oils Edible</td>\n",
       "      <td>GDSN</td>\n",
       "      <td>NaN</td>\n",
       "      <td>2020-10-02</td>\n",
       "      <td>2020-11-13</td>\n",
       "      <td>United States</td>\n",
       "      <td>NaN</td>\n",
       "      <td>NaN</td>\n",
       "      <td>NaN</td>\n",
       "      <td>branded_food</td>\n",
       "      <td>WESSON Vegetable Oil 1 GAL</td>\n",
       "      <td>NaN</td>\n",
       "      <td>2020-11-13</td>\n",
       "    </tr>\n",
       "  </tbody>\n",
       "</table>\n",
       "</div>"
      ],
      "text/plain": [
       "    fdc_id                               brand_owner brand_name subbrand_name  \\\n",
       "0  1105904  Richardson Oilseed Products (US) Limited        NaN           NaN   \n",
       "\n",
       "         gtin_upc    ingredients not_a_significant_source_of  serving_size  \\\n",
       "0  00027000612323  Vegetable Oil                         NaN          15.0   \n",
       "\n",
       "  serving_size_unit household_serving_fulltext branded_food_category  \\\n",
       "0                ml                        NaN           Oils Edible   \n",
       "\n",
       "  data_source package_weight modified_date available_date market_country  \\\n",
       "0        GDSN            NaN    2020-10-02     2020-11-13  United States   \n",
       "\n",
       "   discontinued_date preparation_state_code trade_channel     data_type  \\\n",
       "0                NaN                    NaN           NaN  branded_food   \n",
       "\n",
       "                  description  food_category_id publication_date  \n",
       "0  WESSON Vegetable Oil 1 GAL               NaN       2020-11-13  "
      ]
     },
     "execution_count": 194,
     "metadata": {},
     "output_type": "execute_result"
    }
   ],
   "source": [
    "branded_full.query('fdc_id == 1105904')"
   ]
  },
  {
   "cell_type": "code",
   "execution_count": null,
   "id": "b58f68aa-03d4-4e2d-bd60-04387c4f74db",
   "metadata": {},
   "outputs": [],
   "source": [
    "# branded_split_ingedients.query('n_top100_ing == 0')"
   ]
  },
  {
   "cell_type": "markdown",
   "id": "845d53e8-9155-476d-b261-364a789750e6",
   "metadata": {},
   "source": [
    "# Cluster Based on Ingredients"
   ]
  },
  {
   "cell_type": "code",
   "execution_count": 199,
   "id": "7506bd1a-f350-4f12-b763-3dd187b008cb",
   "metadata": {},
   "outputs": [],
   "source": [
    "X = branded_split_ingedients[top100_ingredients].astype('int').values"
   ]
  },
  {
   "cell_type": "code",
   "execution_count": 206,
   "id": "a273fab4-170f-4a5f-aa03-bcbc6f75de17",
   "metadata": {},
   "outputs": [],
   "source": [
    "# from sklearn.manifold import TSNE\n",
    "\n",
    "# n_components = 2\n",
    "# tsne = TSNE(n_components, n_jobs=4, n_iter=250)\n",
    "# tsne_result = tsne.fit_transform(X)\n",
    "# tsne_result.shape"
   ]
  },
  {
   "cell_type": "code",
   "execution_count": 207,
   "id": "8a951b3a-7928-40b0-a030-044f4abb6dac",
   "metadata": {},
   "outputs": [],
   "source": [
    "from sklearn.cluster import KMeans"
   ]
  },
  {
   "cell_type": "code",
   "execution_count": 208,
   "id": "42389b0b-d321-4cf2-b4a9-d3d98fa799b9",
   "metadata": {},
   "outputs": [],
   "source": [
    "km = KMeans(25)"
   ]
  },
  {
   "cell_type": "code",
   "execution_count": 210,
   "id": "8c419d83-d36d-4d1d-ae9c-659de32ea614",
   "metadata": {},
   "outputs": [],
   "source": [
    "result = km.fit_transform(X)"
   ]
  },
  {
   "cell_type": "code",
   "execution_count": 215,
   "id": "04735adb-1568-44d3-885c-02b981e7f1b2",
   "metadata": {},
   "outputs": [],
   "source": [
    "import numpy as np"
   ]
  },
  {
   "cell_type": "code",
   "execution_count": 218,
   "id": "000330f5-bef5-4f2c-8373-0d1d96b440c4",
   "metadata": {},
   "outputs": [],
   "source": [
    "branded_split_ingedients['cluster'] = np.argmax(result, axis=1)"
   ]
  },
  {
   "cell_type": "code",
   "execution_count": 228,
   "id": "147cc32c-552d-4682-a1e0-ddb8d64c1d4b",
   "metadata": {},
   "outputs": [
    {
     "data": {
      "text/html": [
       "<div>\n",
       "<style scoped>\n",
       "    .dataframe tbody tr th:only-of-type {\n",
       "        vertical-align: middle;\n",
       "    }\n",
       "\n",
       "    .dataframe tbody tr th {\n",
       "        vertical-align: top;\n",
       "    }\n",
       "\n",
       "    .dataframe thead th {\n",
       "        text-align: right;\n",
       "    }\n",
       "</style>\n",
       "<table border=\"1\" class=\"dataframe\">\n",
       "  <thead>\n",
       "    <tr style=\"text-align: right;\">\n",
       "      <th>cluster</th>\n",
       "      <th>0</th>\n",
       "      <th>1</th>\n",
       "      <th>2</th>\n",
       "      <th>3</th>\n",
       "      <th>4</th>\n",
       "      <th>6</th>\n",
       "      <th>7</th>\n",
       "      <th>8</th>\n",
       "      <th>9</th>\n",
       "      <th>10</th>\n",
       "      <th>11</th>\n",
       "      <th>13</th>\n",
       "      <th>14</th>\n",
       "      <th>16</th>\n",
       "      <th>17</th>\n",
       "      <th>18</th>\n",
       "      <th>19</th>\n",
       "      <th>20</th>\n",
       "      <th>21</th>\n",
       "      <th>23</th>\n",
       "      <th>24</th>\n",
       "    </tr>\n",
       "  </thead>\n",
       "  <tbody>\n",
       "    <tr>\n",
       "      <th>salt</th>\n",
       "      <td>631</td>\n",
       "      <td>0</td>\n",
       "      <td>5066</td>\n",
       "      <td>9156</td>\n",
       "      <td>269</td>\n",
       "      <td>34</td>\n",
       "      <td>2160</td>\n",
       "      <td>0</td>\n",
       "      <td>11297</td>\n",
       "      <td>9815</td>\n",
       "      <td>136581</td>\n",
       "      <td>1624</td>\n",
       "      <td>8609</td>\n",
       "      <td>55</td>\n",
       "      <td>13789</td>\n",
       "      <td>22172</td>\n",
       "      <td>52589</td>\n",
       "      <td>19</td>\n",
       "      <td>0</td>\n",
       "      <td>1505</td>\n",
       "      <td>1012</td>\n",
       "    </tr>\n",
       "    <tr>\n",
       "      <th>sugar</th>\n",
       "      <td>1059</td>\n",
       "      <td>302</td>\n",
       "      <td>3626</td>\n",
       "      <td>7889</td>\n",
       "      <td>214</td>\n",
       "      <td>14</td>\n",
       "      <td>2153</td>\n",
       "      <td>2</td>\n",
       "      <td>11043</td>\n",
       "      <td>5660</td>\n",
       "      <td>75560</td>\n",
       "      <td>818</td>\n",
       "      <td>8546</td>\n",
       "      <td>53</td>\n",
       "      <td>14882</td>\n",
       "      <td>14831</td>\n",
       "      <td>70776</td>\n",
       "      <td>0</td>\n",
       "      <td>2</td>\n",
       "      <td>1343</td>\n",
       "      <td>1339</td>\n",
       "    </tr>\n",
       "    <tr>\n",
       "      <th>water</th>\n",
       "      <td>4</td>\n",
       "      <td>302</td>\n",
       "      <td>1122</td>\n",
       "      <td>5147</td>\n",
       "      <td>52</td>\n",
       "      <td>34</td>\n",
       "      <td>2103</td>\n",
       "      <td>2</td>\n",
       "      <td>7139</td>\n",
       "      <td>8457</td>\n",
       "      <td>100756</td>\n",
       "      <td>1684</td>\n",
       "      <td>8512</td>\n",
       "      <td>2</td>\n",
       "      <td>9856</td>\n",
       "      <td>15914</td>\n",
       "      <td>30770</td>\n",
       "      <td>20</td>\n",
       "      <td>0</td>\n",
       "      <td>964</td>\n",
       "      <td>1402</td>\n",
       "    </tr>\n",
       "    <tr>\n",
       "      <th>citric acid</th>\n",
       "      <td>52</td>\n",
       "      <td>224</td>\n",
       "      <td>997</td>\n",
       "      <td>2638</td>\n",
       "      <td>8</td>\n",
       "      <td>14</td>\n",
       "      <td>1366</td>\n",
       "      <td>0</td>\n",
       "      <td>4726</td>\n",
       "      <td>1468</td>\n",
       "      <td>66731</td>\n",
       "      <td>1049</td>\n",
       "      <td>7526</td>\n",
       "      <td>0</td>\n",
       "      <td>9933</td>\n",
       "      <td>7122</td>\n",
       "      <td>20280</td>\n",
       "      <td>19</td>\n",
       "      <td>0</td>\n",
       "      <td>0</td>\n",
       "      <td>14</td>\n",
       "    </tr>\n",
       "    <tr>\n",
       "      <th>natural flavor</th>\n",
       "      <td>116</td>\n",
       "      <td>61</td>\n",
       "      <td>2389</td>\n",
       "      <td>2391</td>\n",
       "      <td>3</td>\n",
       "      <td>11</td>\n",
       "      <td>968</td>\n",
       "      <td>0</td>\n",
       "      <td>2129</td>\n",
       "      <td>3568</td>\n",
       "      <td>42125</td>\n",
       "      <td>513</td>\n",
       "      <td>3968</td>\n",
       "      <td>0</td>\n",
       "      <td>8469</td>\n",
       "      <td>3014</td>\n",
       "      <td>16187</td>\n",
       "      <td>4</td>\n",
       "      <td>0</td>\n",
       "      <td>1225</td>\n",
       "      <td>107</td>\n",
       "    </tr>\n",
       "    <tr>\n",
       "      <th>...</th>\n",
       "      <td>...</td>\n",
       "      <td>...</td>\n",
       "      <td>...</td>\n",
       "      <td>...</td>\n",
       "      <td>...</td>\n",
       "      <td>...</td>\n",
       "      <td>...</td>\n",
       "      <td>...</td>\n",
       "      <td>...</td>\n",
       "      <td>...</td>\n",
       "      <td>...</td>\n",
       "      <td>...</td>\n",
       "      <td>...</td>\n",
       "      <td>...</td>\n",
       "      <td>...</td>\n",
       "      <td>...</td>\n",
       "      <td>...</td>\n",
       "      <td>...</td>\n",
       "      <td>...</td>\n",
       "      <td>...</td>\n",
       "      <td>...</td>\n",
       "    </tr>\n",
       "    <tr>\n",
       "      <th>calcium chloride</th>\n",
       "      <td>0</td>\n",
       "      <td>2</td>\n",
       "      <td>73</td>\n",
       "      <td>80</td>\n",
       "      <td>0</td>\n",
       "      <td>5</td>\n",
       "      <td>130</td>\n",
       "      <td>0</td>\n",
       "      <td>54</td>\n",
       "      <td>332</td>\n",
       "      <td>9653</td>\n",
       "      <td>181</td>\n",
       "      <td>497</td>\n",
       "      <td>0</td>\n",
       "      <td>414</td>\n",
       "      <td>694</td>\n",
       "      <td>505</td>\n",
       "      <td>1</td>\n",
       "      <td>0</td>\n",
       "      <td>15</td>\n",
       "      <td>5</td>\n",
       "    </tr>\n",
       "    <tr>\n",
       "      <th>enriched flour wheat flour</th>\n",
       "      <td>369</td>\n",
       "      <td>81</td>\n",
       "      <td>439</td>\n",
       "      <td>1943</td>\n",
       "      <td>82</td>\n",
       "      <td>0</td>\n",
       "      <td>0</td>\n",
       "      <td>0</td>\n",
       "      <td>2219</td>\n",
       "      <td>1223</td>\n",
       "      <td>49</td>\n",
       "      <td>0</td>\n",
       "      <td>1532</td>\n",
       "      <td>15</td>\n",
       "      <td>2</td>\n",
       "      <td>3554</td>\n",
       "      <td>1409</td>\n",
       "      <td>3</td>\n",
       "      <td>2</td>\n",
       "      <td>173</td>\n",
       "      <td>95</td>\n",
       "    </tr>\n",
       "    <tr>\n",
       "      <th>monosodium glutamate</th>\n",
       "      <td>0</td>\n",
       "      <td>0</td>\n",
       "      <td>799</td>\n",
       "      <td>285</td>\n",
       "      <td>0</td>\n",
       "      <td>0</td>\n",
       "      <td>111</td>\n",
       "      <td>0</td>\n",
       "      <td>389</td>\n",
       "      <td>225</td>\n",
       "      <td>7614</td>\n",
       "      <td>192</td>\n",
       "      <td>322</td>\n",
       "      <td>4</td>\n",
       "      <td>1139</td>\n",
       "      <td>1221</td>\n",
       "      <td>331</td>\n",
       "      <td>2</td>\n",
       "      <td>0</td>\n",
       "      <td>39</td>\n",
       "      <td>0</td>\n",
       "    </tr>\n",
       "    <tr>\n",
       "      <th>gelatin</th>\n",
       "      <td>90</td>\n",
       "      <td>2</td>\n",
       "      <td>204</td>\n",
       "      <td>58</td>\n",
       "      <td>0</td>\n",
       "      <td>0</td>\n",
       "      <td>98</td>\n",
       "      <td>0</td>\n",
       "      <td>843</td>\n",
       "      <td>41</td>\n",
       "      <td>2239</td>\n",
       "      <td>137</td>\n",
       "      <td>225</td>\n",
       "      <td>0</td>\n",
       "      <td>815</td>\n",
       "      <td>126</td>\n",
       "      <td>7683</td>\n",
       "      <td>2</td>\n",
       "      <td>0</td>\n",
       "      <td>38</td>\n",
       "      <td>62</td>\n",
       "    </tr>\n",
       "    <tr>\n",
       "      <th>vitamin d3</th>\n",
       "      <td>0</td>\n",
       "      <td>10</td>\n",
       "      <td>354</td>\n",
       "      <td>158</td>\n",
       "      <td>1</td>\n",
       "      <td>0</td>\n",
       "      <td>26</td>\n",
       "      <td>0</td>\n",
       "      <td>443</td>\n",
       "      <td>192</td>\n",
       "      <td>4669</td>\n",
       "      <td>25</td>\n",
       "      <td>490</td>\n",
       "      <td>6</td>\n",
       "      <td>358</td>\n",
       "      <td>224</td>\n",
       "      <td>5528</td>\n",
       "      <td>0</td>\n",
       "      <td>0</td>\n",
       "      <td>65</td>\n",
       "      <td>69</td>\n",
       "    </tr>\n",
       "  </tbody>\n",
       "</table>\n",
       "<p>100 rows × 21 columns</p>\n",
       "</div>"
      ],
      "text/plain": [
       "cluster                       0    1     2     3    4   6     7   8      9   \\\n",
       "salt                         631    0  5066  9156  269  34  2160   0  11297   \n",
       "sugar                       1059  302  3626  7889  214  14  2153   2  11043   \n",
       "water                          4  302  1122  5147   52  34  2103   2   7139   \n",
       "citric acid                   52  224   997  2638    8  14  1366   0   4726   \n",
       "natural flavor               116   61  2389  2391    3  11   968   0   2129   \n",
       "...                          ...  ...   ...   ...  ...  ..   ...  ..    ...   \n",
       "calcium chloride               0    2    73    80    0   5   130   0     54   \n",
       "enriched flour wheat flour   369   81   439  1943   82   0     0   0   2219   \n",
       "monosodium glutamate           0    0   799   285    0   0   111   0    389   \n",
       "gelatin                       90    2   204    58    0   0    98   0    843   \n",
       "vitamin d3                     0   10   354   158    1   0    26   0    443   \n",
       "\n",
       "cluster                       10      11    13    14  16     17     18     19  \\\n",
       "salt                        9815  136581  1624  8609  55  13789  22172  52589   \n",
       "sugar                       5660   75560   818  8546  53  14882  14831  70776   \n",
       "water                       8457  100756  1684  8512   2   9856  15914  30770   \n",
       "citric acid                 1468   66731  1049  7526   0   9933   7122  20280   \n",
       "natural flavor              3568   42125   513  3968   0   8469   3014  16187   \n",
       "...                          ...     ...   ...   ...  ..    ...    ...    ...   \n",
       "calcium chloride             332    9653   181   497   0    414    694    505   \n",
       "enriched flour wheat flour  1223      49     0  1532  15      2   3554   1409   \n",
       "monosodium glutamate         225    7614   192   322   4   1139   1221    331   \n",
       "gelatin                       41    2239   137   225   0    815    126   7683   \n",
       "vitamin d3                   192    4669    25   490   6    358    224   5528   \n",
       "\n",
       "cluster                     20  21    23    24  \n",
       "salt                        19   0  1505  1012  \n",
       "sugar                        0   2  1343  1339  \n",
       "water                       20   0   964  1402  \n",
       "citric acid                 19   0     0    14  \n",
       "natural flavor               4   0  1225   107  \n",
       "...                         ..  ..   ...   ...  \n",
       "calcium chloride             1   0    15     5  \n",
       "enriched flour wheat flour   3   2   173    95  \n",
       "monosodium glutamate         2   0    39     0  \n",
       "gelatin                      2   0    38    62  \n",
       "vitamin d3                   0   0    65    69  \n",
       "\n",
       "[100 rows x 21 columns]"
      ]
     },
     "execution_count": 228,
     "metadata": {},
     "output_type": "execute_result"
    }
   ],
   "source": [
    "branded_split_ingedients.groupby('cluster')[top100_ingredients].sum().T"
   ]
  },
  {
   "cell_type": "code",
   "execution_count": null,
   "id": "ce382eb8-0809-4b7f-aaf9-92c097f89742",
   "metadata": {},
   "outputs": [],
   "source": [
    "# Plot the result of our TSNE with the label color coded\n",
    "# A lot of the stuff here is about making the plot look pretty and not TSNE\n",
    "tsne_result_df = pd.DataFrame({'tsne_1': tsne_result[:,0], 'tsne_2': tsne_result[:,1], 'label': y})\n",
    "fig, ax = plt.subplots(1)\n",
    "sns.scatterplot(x='tsne_1', y='tsne_2', hue='label', data=tsne_result_df, ax=ax,s=120)\n",
    "lim = (tsne_result.min()-5, tsne_result.max()+5)\n",
    "ax.set_xlim(lim)\n",
    "ax.set_ylim(lim)\n",
    "ax.set_aspect('equal')\n",
    "ax.legend(bbox_to_anchor=(1.05, 1), loc=2, borderaxespad=0.0)"
   ]
  }
 ],
 "metadata": {
  "kernelspec": {
   "display_name": "Python 3 (ipykernel)",
   "language": "python",
   "name": "python3"
  },
  "language_info": {
   "codemirror_mode": {
    "name": "ipython",
    "version": 3
   },
   "file_extension": ".py",
   "mimetype": "text/x-python",
   "name": "python",
   "nbconvert_exporter": "python",
   "pygments_lexer": "ipython3",
   "version": "3.8.5"
  }
 },
 "nbformat": 4,
 "nbformat_minor": 5
}
