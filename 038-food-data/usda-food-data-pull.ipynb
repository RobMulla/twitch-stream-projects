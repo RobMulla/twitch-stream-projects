{
 "cells": [
  {
   "cell_type": "markdown",
   "id": "63489515-9f5a-4b8d-aa43-2f7306efe814",
   "metadata": {},
   "source": [
    "# Goal of this notebook\n",
    "\n",
    "1. Pull data from the USDA food dataset:\n",
    "    - https://fdc.nal.usda.gov/download-datasets.html\n",
    "2. Extract zip files.\n",
    "3. Format into folders"
   ]
  },
  {
   "cell_type": "code",
   "execution_count": 6,
   "id": "4ffa8e4e-cc20-47c2-bc45-0d1d120ed9a9",
   "metadata": {},
   "outputs": [],
   "source": [
    "import requests\n",
    "from bs4 import BeautifulSoup"
   ]
  },
  {
   "cell_type": "code",
   "execution_count": 2,
   "id": "0ecbb39b-3b7b-48ed-bdf6-4d97448bea93",
   "metadata": {},
   "outputs": [],
   "source": [
    "url = 'https://fdc.nal.usda.gov/download-datasets.html'"
   ]
  },
  {
   "cell_type": "code",
   "execution_count": 4,
   "id": "12231d61-14ac-4d16-be61-e2a7507abca4",
   "metadata": {},
   "outputs": [],
   "source": [
    "res = requests.get(url)"
   ]
  },
  {
   "cell_type": "code",
   "execution_count": 9,
   "id": "8fd381a9-7448-4bfa-b51e-19c092b83c88",
   "metadata": {},
   "outputs": [],
   "source": [
    "soup = BeautifulSoup(res.text)"
   ]
  },
  {
   "cell_type": "code",
   "execution_count": 32,
   "id": "f93d3af6-8498-4aee-8450-ab1f29161ed5",
   "metadata": {},
   "outputs": [
    {
     "data": {
      "text/plain": [
       "[]"
      ]
     },
     "execution_count": 32,
     "metadata": {},
     "output_type": "execute_result"
    }
   ],
   "source": [
    "soup.find_all('url*')"
   ]
  },
  {
   "cell_type": "code",
   "execution_count": 33,
   "id": "92ad26c2-f0fa-43da-a569-b491e1c16eef",
   "metadata": {},
   "outputs": [
    {
     "name": "stdout",
     "output_type": "stream",
     "text": [
      "--2022-06-30 22:07:53--  https://fdc.nal.usda.gov/fdc-datasets/FoodData_Central_csv_2022-04-28.zip\n",
      "Resolving fdc.nal.usda.gov (fdc.nal.usda.gov)... 52.245.228.37\n",
      "Connecting to fdc.nal.usda.gov (fdc.nal.usda.gov)|52.245.228.37|:443... connected.\n",
      "HTTP request sent, awaiting response... 200 OK\n",
      "Length: 223993307 (214M) [application/zip]\n",
      "Saving to: ‘FoodData_Central_csv_2022-04-28.zip’\n",
      "\n",
      "FoodData_Central_cs 100%[===================>] 213.62M  11.0MB/s    in 20s     \n",
      "\n",
      "2022-06-30 22:08:13 (10.5 MB/s) - ‘FoodData_Central_csv_2022-04-28.zip’ saved [223993307/223993307]\n",
      "\n"
     ]
    }
   ],
   "source": [
    "!wget https://fdc.nal.usda.gov/fdc-datasets/FoodData_Central_csv_2022-04-28.zip"
   ]
  },
  {
   "cell_type": "code",
   "execution_count": 40,
   "id": "66b8aedb-aaa2-4344-b963-f9fb96326e56",
   "metadata": {},
   "outputs": [
    {
     "name": "stdout",
     "output_type": "stream",
     "text": [
      "--2022-06-30 22:12:51--  https://fdc.nal.usda.gov/fdc-datasets/FoodData_Central_csv_2021-10-28.zip\n",
      "Resolving fdc.nal.usda.gov (fdc.nal.usda.gov)... 52.245.228.37\n",
      "Connecting to fdc.nal.usda.gov (fdc.nal.usda.gov)|52.245.228.37|:443... connected.\n",
      "HTTP request sent, awaiting response... 200 OK\n",
      "Length: 314343147 (300M) [application/zip]\n",
      "Saving to: ‘FoodData_Central_csv_2021-10-28.zip’\n",
      "\n",
      "FoodData_Central_cs 100%[===================>] 299.78M  11.9MB/s    in 26s     \n",
      "\n",
      "2022-06-30 22:13:16 (11.8 MB/s) - ‘FoodData_Central_csv_2021-10-28.zip’ saved [314343147/314343147]\n",
      "\n",
      "--2022-06-30 22:13:16--  https://fdc.nal.usda.gov/fdc-datasets/FoodData_Central_csv_2021-04-28.zip\n",
      "Resolving fdc.nal.usda.gov (fdc.nal.usda.gov)... 52.245.228.37\n",
      "Connecting to fdc.nal.usda.gov (fdc.nal.usda.gov)|52.245.228.37|:443... connected.\n",
      "HTTP request sent, awaiting response... 200 OK\n",
      "Length: 221621950 (211M) [application/zip]\n",
      "Saving to: ‘FoodData_Central_csv_2021-04-28.zip’\n",
      "\n",
      "FoodData_Central_cs 100%[===================>] 211.35M  12.3MB/s    in 17s     \n",
      "\n",
      "2022-06-30 22:13:34 (12.2 MB/s) - ‘FoodData_Central_csv_2021-04-28.zip’ saved [221621950/221621950]\n",
      "\n",
      "--2022-06-30 22:13:34--  https://fdc.nal.usda.gov/fdc-datasets/FoodData_Central_csv_2020-10-30.zip\n",
      "Resolving fdc.nal.usda.gov (fdc.nal.usda.gov)... 52.245.228.37\n",
      "Connecting to fdc.nal.usda.gov (fdc.nal.usda.gov)|52.245.228.37|:443... connected.\n",
      "HTTP request sent, awaiting response... 200 OK\n",
      "Length: 99962008 (95M) [application/zip]\n",
      "Saving to: ‘FoodData_Central_csv_2020-10-30.zip’\n",
      "\n",
      "FoodData_Central_cs 100%[===================>]  95.33M  10.5MB/s    in 8.8s    \n",
      "\n",
      "2022-06-30 22:13:43 (10.9 MB/s) - ‘FoodData_Central_csv_2020-10-30.zip’ saved [99962008/99962008]\n",
      "\n",
      "--2022-06-30 22:13:43--  https://fdc.nal.usda.gov/fdc-datasets/FoodData_Central_csv_2020-04-29.zip\n",
      "Resolving fdc.nal.usda.gov (fdc.nal.usda.gov)... 52.245.228.37\n",
      "Connecting to fdc.nal.usda.gov (fdc.nal.usda.gov)|52.245.228.37|:443... connected.\n",
      "HTTP request sent, awaiting response... 200 OK\n",
      "Length: 88474019 (84M) [application/zip]\n",
      "Saving to: ‘FoodData_Central_csv_2020-04-29.zip’\n",
      "\n",
      "FoodData_Central_cs 100%[===================>]  84.38M  12.7MB/s    in 7.2s    \n",
      "\n",
      "2022-06-30 22:13:50 (11.8 MB/s) - ‘FoodData_Central_csv_2020-04-29.zip’ saved [88474019/88474019]\n",
      "\n",
      "--2022-06-30 22:13:50--  https://fdc.nal.usda.gov/fdc-datasets/FoodData_Central_csv_2019-12-17.zip\n",
      "Resolving fdc.nal.usda.gov (fdc.nal.usda.gov)... 52.245.228.37\n",
      "Connecting to fdc.nal.usda.gov (fdc.nal.usda.gov)|52.245.228.37|:443... connected.\n",
      "HTTP request sent, awaiting response... 200 OK\n",
      "Length: 69287659 (66M) [application/zip]\n",
      "Saving to: ‘FoodData_Central_csv_2019-12-17.zip’\n",
      "\n",
      "FoodData_Central_cs 100%[===================>]  66.08M  12.4MB/s    in 5.5s    \n",
      "\n",
      "2022-06-30 22:13:56 (11.9 MB/s) - ‘FoodData_Central_csv_2019-12-17.zip’ saved [69287659/69287659]\n",
      "\n",
      "--2022-06-30 22:13:56--  https://fdc.nal.usda.gov/fdc-datasets/FoodData_Central_csv_%202019-04-02.zip\n",
      "Resolving fdc.nal.usda.gov (fdc.nal.usda.gov)... 52.245.228.37\n",
      "Connecting to fdc.nal.usda.gov (fdc.nal.usda.gov)|52.245.228.37|:443... connected.\n",
      "HTTP request sent, awaiting response... 200 OK\n",
      "Length: 61465625 (59M) [application/zip]\n",
      "Saving to: ‘FoodData_Central_csv_ 2019-04-02.zip’\n",
      "\n",
      "FoodData_Central_cs 100%[===================>]  58.62M  11.6MB/s    in 5.4s    \n",
      "\n",
      "2022-06-30 22:14:01 (10.9 MB/s) - ‘FoodData_Central_csv_ 2019-04-02.zip’ saved [61465625/61465625]\n",
      "\n"
     ]
    }
   ],
   "source": [
    "!wget https://fdc.nal.usda.gov/fdc-datasets/FoodData_Central_csv_2021-10-28.zip\n",
    "!wget https://fdc.nal.usda.gov/fdc-datasets/FoodData_Central_csv_2021-04-28.zip\n",
    "!wget https://fdc.nal.usda.gov/fdc-datasets/FoodData_Central_csv_2020-10-30.zip\n",
    "!wget https://fdc.nal.usda.gov/fdc-datasets/FoodData_Central_csv_2020-04-29.zip\n",
    "!wget https://fdc.nal.usda.gov/fdc-datasets/FoodData_Central_csv_2019-12-17.zip\n",
    "!wget https://fdc.nal.usda.gov/fdc-datasets/FoodData_Central_csv_%202019-04-02.zip"
   ]
  },
  {
   "cell_type": "code",
   "execution_count": 41,
   "id": "8434cca9-d01c-44ab-ab1d-18492fbe006f",
   "metadata": {},
   "outputs": [],
   "source": [
    "links = [el.attrs[\"href\"] for el in soup.find_all(\"a\") if \"csv\" in el.attrs[\"href\"]]"
   ]
  },
  {
   "cell_type": "code",
   "execution_count": 42,
   "id": "c84f37c1-bb3a-4640-95da-bdea3b1938dd",
   "metadata": {},
   "outputs": [
    {
     "data": {
      "text/plain": [
       "['/fdc-datasets/FoodData_Central_foundation_food_csv_2022-04-28.zip',\n",
       " '/fdc-datasets/FoodData_Central_foundation_food_csv_2021-10-28.zip',\n",
       " '/fdc-datasets/FoodData_Central_foundation_food_csv_2021-04-28.zip',\n",
       " '/fdc-datasets/FoodData_Central_foundation_food_csv_2020-10-30.zip',\n",
       " '/fdc-datasets/FoodData_Central_foundation_food_csv_2020-04-29.zip',\n",
       " '/fdc-datasets/FoodData_Central_foundation_food_csv_2019-12-17.zip',\n",
       " '/fdc-datasets/FoodData_Central_foundation_food_csv_%202019-04-02.zip',\n",
       " '/fdc-datasets/FoodData_Central_survey_food_csv_2020-10-30.zip',\n",
       " '/fdc-datasets/FoodData_Central_survey_food_csv_2020-03-31.zip',\n",
       " '/fdc-datasets/FoodData_Central_survey_food_csv_%202019-04-02.zip',\n",
       " '/fdc-datasets/FoodData_Central_branded_food_csv_2022-04-28.zip',\n",
       " '/fdc-datasets/FoodData_Central_branded_food_csv_2021-10-28.zip',\n",
       " '/fdc-datasets/FoodData_Central_branded_food_csv_2021-04-28.zip',\n",
       " '/fdc-datasets/FoodData_Central_branded_food_csv_2020-10-30.zip',\n",
       " '/fdc-datasets/FoodData_Central_branded_food_csv_2020-04-29.zip',\n",
       " '/fdc-datasets/FoodData_Central_branded_food_csv_2019-12-17.zip',\n",
       " '/fdc-datasets/FoodData_Central_branded_food_csv_%202019-04-02.zip',\n",
       " '/fdc-datasets/FoodData_Central_sr_legacy_food_csv_%202019-04-02.zip',\n",
       " '/fdc-datasets/FoodData_Central_Supporting_Data_csv_2022-04-28.zip',\n",
       " '/fdc-datasets/FoodData_Central_Supporting_Data_csv_2021-10-28.zip',\n",
       " '/fdc-datasets/FoodData_Central_Supporting_Data_csv_2021-04-28.zip',\n",
       " '/fdc-datasets/FoodData_Central_Supporting_Data_csv_2020-10-30.zip',\n",
       " '/fdc-datasets/FoodData_Central_Supporting_Data_csv_2020-04-29.zip',\n",
       " '/fdc-datasets/FoodData_Central_Supporting_Data_csv_2019-12-17.zip',\n",
       " '/fdc-datasets/FoodData_Central_Supporting_Data_csv_%202019-04-02.zip',\n",
       " '/fdc-datasets/FoodData_Central_csv_2022-04-28.zip',\n",
       " '/fdc-datasets/FoodData_Central_csv_2021-10-28.zip',\n",
       " '/fdc-datasets/FoodData_Central_csv_2021-04-28.zip',\n",
       " '/fdc-datasets/FoodData_Central_csv_2020-10-30.zip',\n",
       " '/fdc-datasets/FoodData_Central_csv_2020-04-29.zip',\n",
       " '/fdc-datasets/FoodData_Central_csv_2019-12-17.zip',\n",
       " '/fdc-datasets/FoodData_Central_csv_%202019-04-02.zip']"
      ]
     },
     "execution_count": 42,
     "metadata": {},
     "output_type": "execute_result"
    }
   ],
   "source": [
    "links"
   ]
  }
 ],
 "metadata": {
  "kernelspec": {
   "display_name": "Python 3 (ipykernel)",
   "language": "python",
   "name": "python3"
  },
  "language_info": {
   "codemirror_mode": {
    "name": "ipython",
    "version": 3
   },
   "file_extension": ".py",
   "mimetype": "text/x-python",
   "name": "python",
   "nbconvert_exporter": "python",
   "pygments_lexer": "ipython3",
   "version": "3.11.0"
  }
 },
 "nbformat": 4,
 "nbformat_minor": 5
}
