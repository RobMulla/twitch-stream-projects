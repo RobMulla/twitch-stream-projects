{
 "cells": [
  {
   "cell_type": "markdown",
   "id": "0077bb8e-0b45-44e9-9468-5b3f00c13ceb",
   "metadata": {},
   "source": [
    "# Jet Tracking VIA Twitter"
   ]
  },
  {
   "cell_type": "code",
   "execution_count": 3,
   "id": "809797c3-90e2-4901-875b-03e514b61e9c",
   "metadata": {},
   "outputs": [],
   "source": [
    "import pandas as pd\n",
    "import tweepy"
   ]
  },
  {
   "cell_type": "code",
   "execution_count": null,
   "id": "a9434624-dbd6-47aa-8469-0b5c6f10bdf8",
   "metadata": {},
   "outputs": [],
   "source": []
  }
 ],
 "metadata": {
  "kernelspec": {
   "display_name": "Python 3 (ipykernel)",
   "language": "python",
   "name": "python3"
  },
  "language_info": {
   "codemirror_mode": {
    "name": "ipython",
    "version": 3
   },
   "file_extension": ".py",
   "mimetype": "text/x-python",
   "name": "python",
   "nbconvert_exporter": "python",
   "pygments_lexer": "ipython3",
   "version": "3.8.5"
  }
 },
 "nbformat": 4,
 "nbformat_minor": 5
}
