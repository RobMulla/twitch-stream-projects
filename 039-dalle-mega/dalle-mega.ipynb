{
 "cells": [
  {
   "cell_type": "markdown",
   "id": "00e5166e-8b15-414f-ab02-3c33e09fa11d",
   "metadata": {},
   "source": [
    "# Transformers"
   ]
  },
  {
   "cell_type": "code",
   "execution_count": 1,
   "id": "811066bc-2b36-4db7-8736-b99de5e5de02",
   "metadata": {},
   "outputs": [],
   "source": [
    "from transformers import PreTrainedModel, PretrainedConfig\n",
    "\n",
    "# model = eBart.from_pretrained(\"dalle-mini/dalle-mega\")"
   ]
  },
  {
   "cell_type": "code",
   "execution_count": 7,
   "id": "15b758e0-2fd8-4adc-a62e-5d5df9c25dd2",
   "metadata": {},
   "outputs": [],
   "source": [
    "cfg =PretrainedConfig()"
   ]
  },
  {
   "cell_type": "code",
   "execution_count": 10,
   "id": "684de6e2-137e-4793-b6fb-5a59bb3f0542",
   "metadata": {},
   "outputs": [],
   "source": [
    "cfg = cfg.from_json_file('/home/robmulla/Repos/dalle-mega/config.json')"
   ]
  },
  {
   "cell_type": "code",
   "execution_count": 11,
   "id": "ecddf920-e849-4675-9d8e-60be837c0d18",
   "metadata": {},
   "outputs": [],
   "source": [
    "# from transformers import eBart"
   ]
  },
  {
   "cell_type": "code",
   "execution_count": 13,
   "id": "0b9cbea6-7101-4258-8413-984dcf7b3dd1",
   "metadata": {},
   "outputs": [],
   "source": [
    "model = PreTrainedModel(cfg)"
   ]
  },
  {
   "cell_type": "code",
   "execution_count": 14,
   "id": "b5f8e31b-4afc-4050-8e43-7af9ea721460",
   "metadata": {},
   "outputs": [
    {
     "ename": "TypeError",
     "evalue": "Expected state_dict to be dict-like, got <class 'str'>.",
     "output_type": "error",
     "traceback": [
      "\u001b[0;31m---------------------------------------------------------------------------\u001b[0m",
      "\u001b[0;31mTypeError\u001b[0m                                 Traceback (most recent call last)",
      "\u001b[0;32m/tmp/ipykernel_190521/32766292.py\u001b[0m in \u001b[0;36m<module>\u001b[0;34m\u001b[0m\n\u001b[0;32m----> 1\u001b[0;31m \u001b[0mmodel\u001b[0m\u001b[0;34m.\u001b[0m\u001b[0mload_state_dict\u001b[0m\u001b[0;34m(\u001b[0m\u001b[0;34m'/home/robmulla/Repos/dalle-mega/flax_model.msgpack'\u001b[0m\u001b[0;34m)\u001b[0m\u001b[0;34m\u001b[0m\u001b[0;34m\u001b[0m\u001b[0m\n\u001b[0m",
      "\u001b[0;32m~/anaconda3/envs/kaggle2/lib/python3.8/site-packages/torch/nn/modules/module.py\u001b[0m in \u001b[0;36mload_state_dict\u001b[0;34m(self, state_dict, strict)\u001b[0m\n\u001b[1;32m   1557\u001b[0m         \"\"\"\n\u001b[1;32m   1558\u001b[0m         \u001b[0;32mif\u001b[0m \u001b[0;32mnot\u001b[0m \u001b[0misinstance\u001b[0m\u001b[0;34m(\u001b[0m\u001b[0mstate_dict\u001b[0m\u001b[0;34m,\u001b[0m \u001b[0mMapping\u001b[0m\u001b[0;34m)\u001b[0m\u001b[0;34m:\u001b[0m\u001b[0;34m\u001b[0m\u001b[0;34m\u001b[0m\u001b[0m\n\u001b[0;32m-> 1559\u001b[0;31m             \u001b[0;32mraise\u001b[0m \u001b[0mTypeError\u001b[0m\u001b[0;34m(\u001b[0m\u001b[0;34m\"Expected state_dict to be dict-like, got {}.\"\u001b[0m\u001b[0;34m.\u001b[0m\u001b[0mformat\u001b[0m\u001b[0;34m(\u001b[0m\u001b[0mtype\u001b[0m\u001b[0;34m(\u001b[0m\u001b[0mstate_dict\u001b[0m\u001b[0;34m)\u001b[0m\u001b[0;34m)\u001b[0m\u001b[0;34m)\u001b[0m\u001b[0;34m\u001b[0m\u001b[0;34m\u001b[0m\u001b[0m\n\u001b[0m\u001b[1;32m   1560\u001b[0m \u001b[0;34m\u001b[0m\u001b[0m\n\u001b[1;32m   1561\u001b[0m         \u001b[0mmissing_keys\u001b[0m\u001b[0;34m:\u001b[0m \u001b[0mList\u001b[0m\u001b[0;34m[\u001b[0m\u001b[0mstr\u001b[0m\u001b[0;34m]\u001b[0m \u001b[0;34m=\u001b[0m \u001b[0;34m[\u001b[0m\u001b[0;34m]\u001b[0m\u001b[0;34m\u001b[0m\u001b[0;34m\u001b[0m\u001b[0m\n",
      "\u001b[0;31mTypeError\u001b[0m: Expected state_dict to be dict-like, got <class 'str'>."
     ]
    }
   ],
   "source": [
    "model.load_state_dict('/home/robmulla/Repos/dalle-mega/flax_model.msgpack')"
   ]
  },
  {
   "cell_type": "code",
   "execution_count": 5,
   "id": "85507f84-cb88-4457-94a1-f4bee3cee493",
   "metadata": {},
   "outputs": [],
   "source": [
    "from dalle_mini import DalleBart"
   ]
  },
  {
   "cell_type": "code",
   "execution_count": 1,
   "id": "7f7be11b-5e33-4b38-b8ab-ae609bc84011",
   "metadata": {},
   "outputs": [
    {
     "name": "stderr",
     "output_type": "stream",
     "text": [
      "WARNING:absl:No GPU/TPU found, falling back to CPU. (Set TF_CPP_MIN_LOG_LEVEL=0 and rerun for more info.)\n",
      "2022-07-01 18:55:14.397339: W tensorflow/stream_executor/platform/default/dso_loader.cc:64] Could not load dynamic library 'libcudart.so.11.0'; dlerror: libcudart.so.11.0: cannot open shared object file: No such file or directory; LD_LIBRARY_PATH: /usr/local/cuda/lib64:/usr/local/cuda-11.5/lib64:/usr/lib/x86_64-linux-gnu:/usr/local/cuda/lib64:/usr/local/cuda-11.5/lib64:/usr/lib/x86_64-linux-gnu\n"
     ]
    }
   ],
   "source": [
    "# Load models & tokenizer\n",
    "from dalle_mini import DalleBart, DalleBartProcessor\n",
    "# from vqgan_jax.modeling_flax_vqgan import VQModel\n",
    "from transformers import CLIPProcessor, FlaxCLIPModel\n",
    "\n",
    "# Load dalle-mini\n",
    "model = DalleBart.from_pretrained(\n",
    "    '/home/robmulla/Repos/dalle-mega/')\n",
    "\n",
    "# # Load VQGAN\n",
    "# vqgan, vqgan_params = VQModel.from_pretrained(\n",
    "#     VQGAN_REPO, revision=VQGAN_COMMIT_ID, _do_init=False\n",
    "# )"
   ]
  },
  {
   "cell_type": "code",
   "execution_count": 3,
   "id": "d1c7d695-9fb7-4964-badd-863caff95733",
   "metadata": {},
   "outputs": [],
   "source": [
    "from dalle_mini import DalleBartProcessor\n",
    "\n",
    "processor = DalleBartProcessor.from_pretrained(\n",
    "    '/home/robmulla/Repos/dalle-mega/')\n"
   ]
  },
  {
   "cell_type": "code",
   "execution_count": null,
   "id": "74835de6-4f4e-4849-930e-a26ce0ed97df",
   "metadata": {},
   "outputs": [],
   "source": [
    "model.generate(**processor(['test']))"
   ]
  },
  {
   "cell_type": "code",
   "execution_count": null,
   "id": "36c753b3-96f3-4175-a704-4941115cc2a4",
   "metadata": {},
   "outputs": [],
   "source": []
  }
 ],
 "metadata": {
  "kernelspec": {
   "display_name": "Python 3 (ipykernel)",
   "language": "python",
   "name": "python3"
  },
  "language_info": {
   "codemirror_mode": {
    "name": "ipython",
    "version": 3
   },
   "file_extension": ".py",
   "mimetype": "text/x-python",
   "name": "python",
   "nbconvert_exporter": "python",
   "pygments_lexer": "ipython3",
   "version": "3.8.5"
  }
 },
 "nbformat": 4,
 "nbformat_minor": 5
}
