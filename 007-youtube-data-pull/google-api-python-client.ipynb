{
 "cells": [
  {
   "cell_type": "code",
   "execution_count": 7,
   "id": "260b3d35-2987-44c3-a2ca-795aa9e48b7a",
   "metadata": {},
   "outputs": [],
   "source": [
    "%load_ext lab_black"
   ]
  },
  {
   "cell_type": "code",
   "execution_count": 8,
   "id": "6dd34d25-7c05-43b5-b388-65fea97b6b6f",
   "metadata": {},
   "outputs": [],
   "source": [
    "from googleapiclient.discovery import build\n",
    "import pandas as pd\n",
    "import os"
   ]
  },
  {
   "cell_type": "code",
   "execution_count": 9,
   "id": "f18986ff-f5da-40ef-914c-a528bdfcaf72",
   "metadata": {},
   "outputs": [],
   "source": [
    "youTubeApiKey = _ # Read here\n",
    "youtube = build(\"youtube\", \"v3\", developerKey=youTubeApiKey)"
   ]
  },
  {
   "cell_type": "markdown",
   "id": "72a90371-fa98-414a-a6ee-8c0ac9c080e5",
   "metadata": {},
   "source": [
    "# 1. Snippets"
   ]
  },
  {
   "cell_type": "code",
   "execution_count": 24,
   "id": "e718d5ea-d5c4-4c97-bd0c-e9f7e8b38ecc",
   "metadata": {},
   "outputs": [],
   "source": [
    "snippets = (\n",
    "    youtube.search().list(part=\"snippet\", type=\"channel\", q=\"data science\").execute()\n",
    ")"
   ]
  },
  {
   "cell_type": "code",
   "execution_count": 25,
   "id": "d7861ed7-020f-4808-8ccc-5a29ec8beade",
   "metadata": {},
   "outputs": [
    {
     "data": {
      "text/plain": [
       "6"
      ]
     },
     "execution_count": 25,
     "metadata": {},
     "output_type": "execute_result"
    }
   ],
   "source": [
    "len(snippets)"
   ]
  },
  {
   "cell_type": "code",
   "execution_count": 26,
   "id": "c3ba53a7-fe78-45e4-9f62-e094ef9ea131",
   "metadata": {},
   "outputs": [],
   "source": [
    "channelId = snippets[\"items\"][0][\"snippet\"][\"channelId\"]"
   ]
  },
  {
   "cell_type": "markdown",
   "id": "96cd2b2d-6ae8-4985-b5b0-3faad11885f0",
   "metadata": {},
   "source": [
    "# 2. Stats"
   ]
  },
  {
   "cell_type": "code",
   "execution_count": 29,
   "id": "6e96b612-a5d6-4783-abf5-b707fa68d533",
   "metadata": {},
   "outputs": [],
   "source": [
    "stats = youtube.channels().list(part=\"statistics\", id=channelId).execute()"
   ]
  },
  {
   "cell_type": "code",
   "execution_count": 30,
   "id": "0c7a575f-7524-4f07-9cee-c536fa7ac8e2",
   "metadata": {},
   "outputs": [
    {
     "name": "stdout",
     "output_type": "stream",
     "text": [
      "Total Number of Subscribers of 365 Data Science is 221000\n",
      "Total Number of Videos Uploaded at 365 Data Science is 198\n",
      "Total Number of view on all videos of 365 Data Science is 8713351\n"
     ]
    }
   ],
   "source": [
    "print(\n",
    "    \"Total Number of Subscribers of \"\n",
    "    + snippets[\"items\"][0][\"snippet\"][\"title\"]\n",
    "    + \" is \"\n",
    "    + stats[\"items\"][0][\"statistics\"][\"subscriberCount\"]\n",
    ")\n",
    "print(\n",
    "    \"Total Number of Videos Uploaded at \"\n",
    "    + snippets[\"items\"][0][\"snippet\"][\"title\"]\n",
    "    + \" is \"\n",
    "    + stats[\"items\"][0][\"statistics\"][\"videoCount\"]\n",
    ")\n",
    "print(\n",
    "    \"Total Number of view on all videos of \"\n",
    "    + snippets[\"items\"][0][\"snippet\"][\"title\"]\n",
    "    + \" is \"\n",
    "    + stats[\"items\"][0][\"statistics\"][\"viewCount\"]\n",
    ")"
   ]
  },
  {
   "cell_type": "markdown",
   "id": "ce29f1ef-a858-450f-ac99-87b56c0ecf79",
   "metadata": {},
   "source": [
    "# 3. Content"
   ]
  },
  {
   "cell_type": "code",
   "execution_count": 32,
   "id": "a6c777fb-c59c-4b26-af6f-fe554aa6b3cf",
   "metadata": {},
   "outputs": [
    {
     "data": {
      "text/plain": [
       "[{'kind': 'youtube#channel',\n",
       "  'etag': 'uufRzloPpY1P_2OHLGeCRJz7E24',\n",
       "  'id': 'UCEBpSZhI1X8WaP-kY_2LLcg',\n",
       "  'contentDetails': {'relatedPlaylists': {'likes': '',\n",
       "    'uploads': 'UUEBpSZhI1X8WaP-kY_2LLcg'}}}]"
      ]
     },
     "execution_count": 32,
     "metadata": {},
     "output_type": "execute_result"
    }
   ],
   "source": [
    "content = youtube.channels().list(id=channelId, part=\"contentDetails\").execute()\n",
    "content[\"items\"]"
   ]
  },
  {
   "cell_type": "code",
   "execution_count": 37,
   "id": "bd0ca361-3387-4234-8ba6-c6341594b531",
   "metadata": {},
   "outputs": [
    {
     "name": "stdout",
     "output_type": "stream",
     "text": [
      "The Id of the upload playlist of this channel UUEBpSZhI1X8WaP-kY_2LLcg .In this playlist all the uploaded videos by this channels.\n"
     ]
    }
   ],
   "source": [
    "UploadId = content[\"items\"][0][\"contentDetails\"][\"relatedPlaylists\"][\"uploads\"]\n",
    "print(\n",
    "    \"The Id of the upload playlist of this channel \"\n",
    "    + UploadId\n",
    "    + \" .In this playlist all the uploaded videos by this channels.\"\n",
    ")"
   ]
  },
  {
   "cell_type": "markdown",
   "id": "49efe3db-e4b1-42ca-bb87-d8996d09d36f",
   "metadata": {},
   "source": [
    "# 4. Status"
   ]
  },
  {
   "cell_type": "code",
   "execution_count": 33,
   "id": "d3a133a3-cf96-4d52-a5bd-73f4d2d29964",
   "metadata": {},
   "outputs": [
    {
     "name": "stdout",
     "output_type": "stream",
     "text": [
      "{'kind': 'youtube#channelListResponse', 'etag': 'YDt6WRKagWRVNt6qxkpyIL6Kj_g', 'pageInfo': {'totalResults': 1, 'resultsPerPage': 5}, 'items': [{'kind': 'youtube#channel', 'etag': 'GiWi_5TeeBeU21QVJJ08P102kTM', 'id': 'UCEBpSZhI1X8WaP-kY_2LLcg', 'status': {'privacyStatus': 'public', 'isLinked': True, 'longUploadsStatus': 'longUploadsUnspecified', 'madeForKids': False}}]}\n"
     ]
    }
   ],
   "source": [
    "status = youtube.channels().list(id=channelId, part=\"status\").execute()\n",
    "print(status)"
   ]
  },
  {
   "cell_type": "markdown",
   "id": "0d54b765-8f38-4a48-a349-9c1ee7116832",
   "metadata": {},
   "source": [
    "# 5. Channel Selection"
   ]
  },
  {
   "cell_type": "code",
   "execution_count": 35,
   "id": "681956b0-0707-4764-8544-48413f378068",
   "metadata": {},
   "outputs": [
    {
     "data": {
      "text/plain": [
       "{'kind': 'youtube#channelSection',\n",
       " 'etag': '9wbA-mNAt-xQarB2D4U0-VuAOOo',\n",
       " 'id': 'UCEBpSZhI1X8WaP-kY_2LLcg.jNQXAC9IVRw',\n",
       " 'snippet': {'type': 'recentuploads',\n",
       "  'channelId': 'UCEBpSZhI1X8WaP-kY_2LLcg',\n",
       "  'position': 0}}"
      ]
     },
     "execution_count": 35,
     "metadata": {},
     "output_type": "execute_result"
    }
   ],
   "source": [
    "channelSections = (\n",
    "    youtube.channelSections().list(channelId=channelId, part=\"snippet\").execute()\n",
    ")\n",
    "channelSections[\"items\"][0]"
   ]
  },
  {
   "cell_type": "markdown",
   "id": "9a0ff5c2-4cbd-4b55-8775-2776182f26dc",
   "metadata": {},
   "source": [
    "# 6. Playlist Items"
   ]
  },
  {
   "cell_type": "code",
   "execution_count": 38,
   "id": "7322e5d4-1103-4a88-b043-372f630ca74c",
   "metadata": {},
   "outputs": [],
   "source": [
    "allVideos = []\n",
    "nextPage_token = None\n",
    "res = (\n",
    "    youtube.playlistItems()\n",
    "    .list(playlistId=UploadId, maxResults=50, part=\"snippet\", pageToken=nextPage_token)\n",
    "    .execute()\n",
    ")\n",
    "for _ in range(5):\n",
    "    res = (\n",
    "        youtube.playlistItems()\n",
    "        .list(\n",
    "            playlistId=UploadId, maxResults=50, part=\"snippet\", pageToken=nextPage_token\n",
    "        )\n",
    "        .execute()\n",
    "    )\n",
    "    allVideos += res[\"items\"]\n",
    "\n",
    "    nextPage_token = res.get(\"nextPageToken\")\n",
    "    if nextPage_token is None:\n",
    "        break\n",
    "\n",
    "# print(allVideos)"
   ]
  },
  {
   "cell_type": "code",
   "execution_count": 39,
   "id": "ee0efb1b-ec8d-4aa2-b93a-7e8c18423026",
   "metadata": {},
   "outputs": [
    {
     "name": "stdout",
     "output_type": "stream",
     "text": [
      "Display the information related to the latest uploaded video on the channel\n",
      "\n",
      "Title of latest video uploaded: Free Month at 365 Data Science\n",
      "The latest video uploaded on date: 2021-10-15T14:09:38Z\n"
     ]
    }
   ],
   "source": [
    "print(\"Display the information related to the latest uploaded video on the channel\\n\")\n",
    "print(\"Title of latest video uploaded: \" + allVideos[0][\"snippet\"][\"title\"])\n",
    "print(\"The latest video uploaded on date: \" + allVideos[0][\"snippet\"][\"publishedAt\"])"
   ]
  },
  {
   "cell_type": "markdown",
   "id": "ba9b35e5-6b51-4a37-b098-1a4e27be9414",
   "metadata": {},
   "source": [
    "# Video Stats"
   ]
  },
  {
   "cell_type": "code",
   "execution_count": 44,
   "id": "c4c12483-ac1a-4d02-8da9-ed6679cb3e89",
   "metadata": {},
   "outputs": [
    {
     "name": "stdout",
     "output_type": "stream",
     "text": [
      "198\n"
     ]
    }
   ],
   "source": [
    "video_ids = list(map(lambda x: x[\"snippet\"][\"resourceId\"][\"videoId\"], allVideos))\n",
    "print(len(video_ids))"
   ]
  },
  {
   "cell_type": "code",
   "execution_count": 46,
   "id": "a5726131-5944-4810-8d0c-ea7b33ed4798",
   "metadata": {},
   "outputs": [],
   "source": [
    "stats = []\n",
    "for i in range(0, len(video_ids), 40):\n",
    "    res = (\n",
    "        (youtube)\n",
    "        .videos()\n",
    "        .list(id=\",\".join(video_ids[i : i + 40]), part=\"statistics\")\n",
    "        .execute()\n",
    "    )\n",
    "    stats += res[\"items\"]"
   ]
  },
  {
   "cell_type": "code",
   "execution_count": 49,
   "id": "95e9f5a4-7582-47cb-aebb-018e861e44ca",
   "metadata": {},
   "outputs": [
    {
     "data": {
      "text/plain": [
       "198"
      ]
     },
     "execution_count": 49,
     "metadata": {},
     "output_type": "execute_result"
    }
   ],
   "source": [
    "len(stats)"
   ]
  },
  {
   "cell_type": "code",
   "execution_count": 52,
   "id": "3f410016-c144-40f7-ba68-ce12349a986a",
   "metadata": {},
   "outputs": [],
   "source": [
    "title = []\n",
    "liked = []\n",
    "# disliked = []\n",
    "views = []\n",
    "url = []\n",
    "comment = []\n",
    "videoid = []\n",
    "publishedDate = []\n",
    "video_description = []\n",
    "for i, s in enumerate(stats):\n",
    "    # print(i)\n",
    "    title.append((allVideos[i])[\"snippet\"][\"title\"])\n",
    "    publishedDate.append((allVideos[i])[\"snippet\"][\"publishedAt\"])\n",
    "    video_description.append((allVideos[i])[\"snippet\"][\"description\"])\n",
    "    liked.append(int((stats[i])[\"statistics\"][\"likeCount\"]))\n",
    "    # disliked.append(int((stats[i])['statistics']['dislikeCount']))\n",
    "    views.append(int((stats[i])[\"statistics\"][\"viewCount\"]))\n",
    "    comment.append(int((stats[i])[\"statistics\"][\"commentCount\"]))\n",
    "    videoid.append(allVideos[i][\"snippet\"][\"resourceId\"][\"videoId\"])"
   ]
  },
  {
   "cell_type": "code",
   "execution_count": 55,
   "id": "ee5f5a1e-4552-497d-a5fe-f82f9a6df410",
   "metadata": {},
   "outputs": [
    {
     "data": {
      "text/plain": [
       "(198, 198)"
      ]
     },
     "execution_count": 55,
     "metadata": {},
     "output_type": "execute_result"
    }
   ],
   "source": [
    "len(title), len(liked, publi)"
   ]
  },
  {
   "cell_type": "code",
   "execution_count": 56,
   "id": "d4cd6e19-cf8f-4f52-98ba-716e0da2fcc2",
   "metadata": {},
   "outputs": [
    {
     "data": {
      "text/html": [
       "<div>\n",
       "<style scoped>\n",
       "    .dataframe tbody tr th:only-of-type {\n",
       "        vertical-align: middle;\n",
       "    }\n",
       "\n",
       "    .dataframe tbody tr th {\n",
       "        vertical-align: top;\n",
       "    }\n",
       "\n",
       "    .dataframe thead th {\n",
       "        text-align: right;\n",
       "    }\n",
       "</style>\n",
       "<table border=\"1\" class=\"dataframe\">\n",
       "  <thead>\n",
       "    <tr style=\"text-align: right;\">\n",
       "      <th></th>\n",
       "      <th>title</th>\n",
       "      <th>videoIDS</th>\n",
       "      <th>video_description</th>\n",
       "      <th>publishedDate</th>\n",
       "      <th>likes</th>\n",
       "      <th>views</th>\n",
       "      <th>comment</th>\n",
       "    </tr>\n",
       "  </thead>\n",
       "  <tbody>\n",
       "    <tr>\n",
       "      <th>0</th>\n",
       "      <td>Free Month at 365 Data Science</td>\n",
       "      <td>I2gT9lC3PXI</td>\n",
       "      <td>👉🏻 Download Our Free Data Science Career Guide...</td>\n",
       "      <td>2021-10-15T14:09:38Z</td>\n",
       "      <td>2074</td>\n",
       "      <td>19939</td>\n",
       "      <td>128</td>\n",
       "    </tr>\n",
       "    <tr>\n",
       "      <th>1</th>\n",
       "      <td>Who is a Data Scientist in 2021? A Research on...</td>\n",
       "      <td>0YDycxk1qgI</td>\n",
       "      <td>👉🏻 Download Our Free Data Science Career Guide...</td>\n",
       "      <td>2021-10-14T12:43:01Z</td>\n",
       "      <td>1333</td>\n",
       "      <td>50517</td>\n",
       "      <td>35</td>\n",
       "    </tr>\n",
       "    <tr>\n",
       "      <th>2</th>\n",
       "      <td>Say hello to 365 Data Science v2.0</td>\n",
       "      <td>6b4ABkIH9jQ</td>\n",
       "      <td>👉🏻 Download Our Free Data Science Career Guide...</td>\n",
       "      <td>2021-10-08T09:38:37Z</td>\n",
       "      <td>107</td>\n",
       "      <td>16865</td>\n",
       "      <td>19</td>\n",
       "    </tr>\n",
       "    <tr>\n",
       "      <th>3</th>\n",
       "      <td>Introduction to R Programming | 365 Data Scien...</td>\n",
       "      <td>3scFDnDuT14</td>\n",
       "      <td>👉🏻 Download Our Free Data Science Career Guide...</td>\n",
       "      <td>2021-09-08T13:08:28Z</td>\n",
       "      <td>295</td>\n",
       "      <td>7947</td>\n",
       "      <td>9</td>\n",
       "    </tr>\n",
       "    <tr>\n",
       "      <th>4</th>\n",
       "      <td>Introduction to Excel | 365 Data Science Courses</td>\n",
       "      <td>qM82K6IpVe4</td>\n",
       "      <td>👉🏻 Download Our Free Data Science Career Guide...</td>\n",
       "      <td>2021-09-02T07:58:06Z</td>\n",
       "      <td>180</td>\n",
       "      <td>10248</td>\n",
       "      <td>4</td>\n",
       "    </tr>\n",
       "  </tbody>\n",
       "</table>\n",
       "</div>"
      ],
      "text/plain": [
       "                                               title     videoIDS  \\\n",
       "0                     Free Month at 365 Data Science  I2gT9lC3PXI   \n",
       "1  Who is a Data Scientist in 2021? A Research on...  0YDycxk1qgI   \n",
       "2                 Say hello to 365 Data Science v2.0  6b4ABkIH9jQ   \n",
       "3  Introduction to R Programming | 365 Data Scien...  3scFDnDuT14   \n",
       "4   Introduction to Excel | 365 Data Science Courses  qM82K6IpVe4   \n",
       "\n",
       "                                   video_description         publishedDate  \\\n",
       "0  👉🏻 Download Our Free Data Science Career Guide...  2021-10-15T14:09:38Z   \n",
       "1  👉🏻 Download Our Free Data Science Career Guide...  2021-10-14T12:43:01Z   \n",
       "2  👉🏻 Download Our Free Data Science Career Guide...  2021-10-08T09:38:37Z   \n",
       "3  👉🏻 Download Our Free Data Science Career Guide...  2021-09-08T13:08:28Z   \n",
       "4  👉🏻 Download Our Free Data Science Career Guide...  2021-09-02T07:58:06Z   \n",
       "\n",
       "   likes  views  comment  \n",
       "0   2074  19939      128  \n",
       "1   1333  50517       35  \n",
       "2    107  16865       19  \n",
       "3    295   7947        9  \n",
       "4    180  10248        4  "
      ]
     },
     "execution_count": 56,
     "metadata": {},
     "output_type": "execute_result"
    }
   ],
   "source": [
    "import pandas as pd\n",
    "\n",
    "data = {\n",
    "    \"title\": title,\n",
    "    \"videoIDS\": videoid,\n",
    "    \"video_description\": video_description,\n",
    "    \"publishedDate\": publishedDate,\n",
    "    \"likes\": liked,\n",
    "    \"views\": views,\n",
    "    \"comment\": comment,\n",
    "}\n",
    "df = pd.DataFrame(data)\n",
    "df.head()"
   ]
  },
  {
   "cell_type": "code",
   "execution_count": 59,
   "id": "468f9edc-7ac4-4924-8a1f-a7875e4893e4",
   "metadata": {},
   "outputs": [],
   "source": [
    "df[\"publishedDate\"] = pd.to_datetime(df[\"publishedDate\"])"
   ]
  },
  {
   "cell_type": "code",
   "execution_count": 61,
   "id": "95c2c94c-38d6-4394-a5f1-513fe27228a1",
   "metadata": {},
   "outputs": [],
   "source": [
    "df[\"channelId\"] = channelId"
   ]
  },
  {
   "cell_type": "code",
   "execution_count": null,
   "id": "ddaf5fb0-40c3-44c1-bbca-fcee246b12e9",
   "metadata": {},
   "outputs": [],
   "source": []
  }
 ],
 "metadata": {
  "kernelspec": {
   "display_name": "Python 3 (ipykernel)",
   "language": "python",
   "name": "python3"
  },
  "language_info": {
   "codemirror_mode": {
    "name": "ipython",
    "version": 3
   },
   "file_extension": ".py",
   "mimetype": "text/x-python",
   "name": "python",
   "nbconvert_exporter": "python",
   "pygments_lexer": "ipython3",
   "version": "3.8.5"
  }
 },
 "nbformat": 4,
 "nbformat_minor": 5
}
