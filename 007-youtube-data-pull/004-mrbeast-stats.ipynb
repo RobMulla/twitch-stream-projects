{
 "cells": [
  {
   "cell_type": "markdown",
   "metadata": {},
   "source": [
    "# Pulling Mr.Beast Video Data"
   ]
  },
  {
   "cell_type": "code",
   "execution_count": 1,
   "metadata": {},
   "outputs": [],
   "source": [
    "%load_ext lab_black"
   ]
  },
  {
   "cell_type": "code",
   "execution_count": 3,
   "metadata": {},
   "outputs": [],
   "source": [
    "from googleapiclient.discovery import build\n",
    "import pandas as pd\n",
    "import os\n",
    "from tqdm import tqdm\n",
    "import seaborn as sns\n",
    "import matplotlib.pylab as plt\n",
    "import sys\n",
    "\n",
    "# import plotly_express as px\n",
    "import urllib.request\n",
    "\n",
    "sys.path.append(\"../src/\")\n",
    "from yt_pullers import get_search_results, get_video_stats"
   ]
  },
  {
   "cell_type": "code",
   "execution_count": 4,
   "metadata": {},
   "outputs": [],
   "source": [
    "with open(\"/home/robmulla/Repos/data-science-youtube-stats/apikey/youtube.key\") as f:\n",
    "    youTubeApiKey = f.read()\n",
    "# youTubeApiKey = _ #Read here\n",
    "youtube = build(\"youtube\", \"v3\", developerKey=youTubeApiKey)"
   ]
  },
  {
   "cell_type": "code",
   "execution_count": 5,
   "metadata": {},
   "outputs": [],
   "source": [
    "mr_beast_id = \"UCX6OQ3DkcsbYNE6H8uQQuVA\""
   ]
  },
  {
   "cell_type": "code",
   "execution_count": 6,
   "metadata": {},
   "outputs": [
    {
     "name": "stderr",
     "output_type": "stream",
     "text": [
      " 25%|█████████████████████                                                               | 5/20 [00:01<00:05,  2.64it/s]\n"
     ]
    }
   ],
   "source": [
    "df = get_search_results(query=\"\", channel_id=mr_beast_id, youtube=youtube)"
   ]
  },
  {
   "cell_type": "code",
   "execution_count": 7,
   "metadata": {},
   "outputs": [],
   "source": [
    "df_stats = get_video_stats(df, youtube)"
   ]
  },
  {
   "cell_type": "code",
   "execution_count": 10,
   "metadata": {},
   "outputs": [],
   "source": [
    "pd.set_option(\"display.max_columns\", 500)"
   ]
  },
  {
   "cell_type": "code",
   "execution_count": 13,
   "metadata": {},
   "outputs": [
    {
     "data": {
      "text/plain": [
       "'https://i.ytimg.com/vi/TQHEJj68Jew/hqdefault.jpg'"
      ]
     },
     "execution_count": 13,
     "metadata": {},
     "output_type": "execute_result"
    }
   ],
   "source": [
    "df_stats[\"thumbnails.high.url\"].values[1]"
   ]
  },
  {
   "cell_type": "code",
   "execution_count": 14,
   "metadata": {},
   "outputs": [
    {
     "data": {
      "text/plain": [
       "'https://i.ytimg.com/vi/TQHEJj68Jew/mqdefault.jpg'"
      ]
     },
     "execution_count": 14,
     "metadata": {},
     "output_type": "execute_result"
    }
   ],
   "source": [
    "df_stats[\"thumbnails.medium.url\"].values[1]"
   ]
  },
  {
   "cell_type": "code",
   "execution_count": 73,
   "metadata": {},
   "outputs": [],
   "source": [
    "df_stats[\"publishedAt\"] = pd.to_datetime(df_stats[\"publishedAt\"])"
   ]
  },
  {
   "cell_type": "code",
   "execution_count": 78,
   "metadata": {},
   "outputs": [],
   "source": [
    "df_stats[\"publishTime\"] = pd.to_datetime(df_stats[\"publishTime\"])\n",
    "df_stats[\"duration\"] = df_stats[\"contentDetails.duration\"].apply(pd.Timedelta)\n",
    "df_stats[\"duration_seconds\"] = (\n",
    "    df_stats[\"duration\"].astype(\"timedelta64[s]\").fillna(0).astype(\"int\")\n",
    ")"
   ]
  },
  {
   "cell_type": "code",
   "execution_count": 79,
   "metadata": {},
   "outputs": [],
   "source": [
    "KEEP_COLS = [\n",
    "    \"id\",\n",
    "    \"title\",\n",
    "    \"description\",\n",
    "    # \"publishedAt\",\n",
    "    \"publishTime\",\n",
    "    \"kind_stats\",\n",
    "    \"duration_seconds\",\n",
    "    \"statistics.viewCount\",\n",
    "    \"statistics.likeCount\",\n",
    "    # \"statistics.favoriteCount\",\n",
    "    \"statistics.commentCount\",\n",
    "    \"thumbnails.default.url\",\n",
    "    \"thumbnails.default.width\",\n",
    "    \"thumbnails.default.height\",\n",
    "    \"thumbnails.medium.url\",\n",
    "    \"thumbnails.medium.width\",\n",
    "    \"thumbnails.medium.height\",\n",
    "    \"thumbnails.high.url\",\n",
    "    \"thumbnails.high.width\",\n",
    "    \"thumbnails.high.height\",\n",
    "    \"contentDetails.duration\",\n",
    "    \"contentDetails.dimension\",\n",
    "    \"topicDetails.topicCategories\",\n",
    "    \"snippet.defaultLanguage\",\n",
    "    \"localizations.en.title\",\n",
    "    \"localizations.en.description\",\n",
    "    \"snippet.tags\",\n",
    "    \"contentDetails.contentRating.ytRating\",\n",
    "]"
   ]
  },
  {
   "cell_type": "code",
   "execution_count": 80,
   "metadata": {},
   "outputs": [],
   "source": [
    "df_final = df_stats[KEEP_COLS].copy()"
   ]
  },
  {
   "cell_type": "code",
   "execution_count": 81,
   "metadata": {},
   "outputs": [],
   "source": [
    "df_final = df_final.rename(\n",
    "    columns={\n",
    "        \"statistics.viewCount\": \"viewCount\",\n",
    "        \"statistics.likeCount\": \"likeCount\",\n",
    "        \"statistics.favoriteCount\": \"favoriteCount\",\n",
    "        \"statistics.commentCount\": \"commentCount\",\n",
    "    }\n",
    ").copy()"
   ]
  },
  {
   "cell_type": "code",
   "execution_count": 82,
   "metadata": {},
   "outputs": [],
   "source": [
    "df_final[\"likeCount\"] = pd.to_numeric(df_final[\"likeCount\"])\n",
    "df_final[\"viewCount\"] = pd.to_numeric(df_final[\"viewCount\"])\n",
    "df_final[\"commentCount\"] = pd.to_numeric(df_final[\"commentCount\"])"
   ]
  },
  {
   "cell_type": "code",
   "execution_count": 85,
   "metadata": {},
   "outputs": [
    {
     "data": {
      "application/vnd.plotly.v1+json": {
       "config": {
        "plotlyServerURL": "https://plot.ly"
       },
       "data": [
        {
         "customdata": [
          [
           "I Got Hunted By A Real Bounty Hunter"
          ],
          [
           "Extreme $1,000,000 Hide And Seek"
          ],
          [
           "MrBeast"
          ],
          [
           "I Bought The World&#39;s Largest Mystery Box! ($500,000)"
          ],
          [
           "First To Rob Bank Wins $100,000"
          ],
          [
           "Press This Button To Win $100,000!"
          ],
          [
           "I Survived 50 Hours In A Maximum Security Prison"
          ],
          [
           "I Spent 50 Hours Buried Alive"
          ],
          [
           "I Spent 24 Hours In A Doomsday Bunker"
          ],
          [
           "I Filled My Brother’s House With Slime &amp; Bought Him A New One"
          ],
          [
           "I Got Hunted By The FBI"
          ],
          [
           "Extreme $500,000 Game Of Tag!"
          ],
          [
           "Last To Leave Revolving Door Wins $50,000"
          ],
          [
           "$1,000,000 Influencer Tournament!"
          ],
          [
           "I Got Hunted By The Military"
          ],
          [
           "Would YOU Quit School For $100,000?"
          ],
          [
           "Extreme $100,000 Game of Tag!"
          ],
          [
           "I Won Every Prize At A Theme Park"
          ],
          [
           "I Ate The World’s Largest Slice Of Pizza"
          ],
          [
           "Steal This $100,000 Diamond, You Keep It"
          ],
          [
           "I Survived 24 Hours Straight In Ice"
          ],
          [
           "Last To Leave Circle Wins $500,000"
          ],
          [
           "I Bought The World&#39;s Largest Firework ($600,000)"
          ],
          [
           "I Adopted EVERY Dog In A Dog Shelter"
          ],
          [
           "I Bought A Private Island"
          ],
          [
           "I Spent $1,000,000 On Lottery Tickets and WON"
          ],
          [
           "Last To Stop Running Wins $20,000"
          ],
          [
           "I Bought Everything In 5 Stores"
          ],
          [
           "I Ate $100,000 Golden Ice Cream"
          ],
          [
           "The Real Way Dinosaurs Went Extinct"
          ],
          [
           "I Spent 50 Hours In Solitary Confinement"
          ],
          [
           "Surviving 24 Hours Straight In The Bermuda Triangle"
          ],
          [
           "I Put 1,000,000 Christmas Lights On A House (World Record)"
          ],
          [
           "I Opened A Restaurant That Pays You To Eat At It"
          ],
          [
           "I Cleaned The World’s Dirtiest Beach #TeamSeas"
          ],
          [
           "Offering People $100,000 To Quit Their Job"
          ],
          [
           "Last To Leave VR Wins $20,000"
          ],
          [
           "I Gave Him One Hour To Spend $100,000!"
          ],
          [
           "Surviving 24 Hours Straight In A Desert"
          ],
          [
           "Last to Stop Swinging Wins $1,000,000 (Part 2)"
          ],
          [
           "Last To Fall Wins $1,000,000 (Part 1)"
          ],
          [
           "Spending $1,000,000 In 24 Hours"
          ],
          [
           "Spending 24 Hours On Top Of A Mountain"
          ],
          [
           "I Ate A $70,000 Golden Pizza"
          ],
          [
           "Surviving 24 Hours On A Deserted Island"
          ],
          [
           "Last To Take Hand Off House Keeps It!"
          ],
          [
           "Planting 20,000,000 Trees, My Biggest Project Ever!"
          ],
          [
           "Surviving 24 Hours Straight In A Rain Forest"
          ],
          [
           "Last To Stop Riding Bike Wins $1,000,000 (Part 4)"
          ],
          [
           "$456,000 Squid Game In Real Life!"
          ],
          [
           "Videos I Could Not Upload..."
          ],
          [
           "I Went Back To Boy Scouts For A Day"
          ],
          [
           "$60,000 Extreme Hide And Seek - Challenge"
          ],
          [
           "I Uber’d People And Let Them Keep The Car"
          ],
          [
           "Last To Leave $800,000 Island Keeps It"
          ],
          [
           "$50,000 Game Of Extreme Hide And Seek - Challenge"
          ],
          [
           "Last To Take Hand Off Boat, Keeps It"
          ],
          [
           "Last To Leave Toilet Wins $1,000,000 (Part 3)"
          ],
          [
           "I Sold My House For $1"
          ],
          [
           "Molten Lava Vs Giant Ice Block Experiment"
          ],
          [
           "If You Can Carry $1,000,000 You Keep It!"
          ],
          [
           "Going Through The Same Drive Thru 1,000 Times"
          ],
          [
           "Would You Sit In Snakes For $10,000?"
          ],
          [
           "Last To Take Hand Off Lamborghini, Keeps It"
          ],
          [
           "I Ordered Pizza And Tipped The House"
          ],
          [
           "I Searched 100 Dumpsters, Here&#39;s What I Found"
          ],
          [
           "Spending 24 Hours In A City With No Laws"
          ],
          [
           "Going Around A Ferris Wheel 1,000 Times Straight"
          ],
          [
           "Ordering Water Then Tipping $30,000"
          ],
          [
           "World&#39;s Largest Game Of Dodgeball"
          ],
          [
           "Destroying My Friend&#39;s Car And Surprising Him With A New One"
          ],
          [
           "I Gave A Homeless Man A Home"
          ],
          [
           "I Can&#39;t Believe I Found This Stuff On Amazon.."
          ],
          [
           "I Went Back To 1st Grade For A Day"
          ],
          [
           "Why I Haven’t Been Uploading"
          ],
          [
           "I Broke Into A House"
          ],
          [
           "I Bought Everything In A Store - Challenge"
          ],
          [
           "I Opened A FREE BANK"
          ],
          [
           "Hit The Target, Win $300,000"
          ],
          [
           "Youtube Rewind 2020, Thank God It&#39;s Over"
          ],
          [
           "Surprising TFue With A Fortnite Battle Bus In Real Life"
          ],
          [
           "Anything You Can Fit In The Triangle I’ll Pay For"
          ],
          [
           "I Gave People $1,000,000 But ONLY 1 Minute To Spend It!"
          ],
          [
           "I Spent 24 Hours Straight In Insane Asylum"
          ],
          [
           "I Gave My Credit Card To Random People"
          ],
          [
           "Things That SHOULDN&#39;T Be Sold On Amazon"
          ],
          [
           "Surprising Tfue With $10,000 Live - Fortnite"
          ],
          [
           "Last To Take Hand Off $1,000,000 Keeps It"
          ],
          [
           "I Built The World&#39;s Largest Lego Tower"
          ],
          [
           "Last To Leave Roller Coaster Wins $20,000 - Challenge"
          ],
          [
           "$70,000 Extreme Hide And Seek - Challenge"
          ],
          [
           "24 Hours In The Most Haunted Place On Earth"
          ],
          [
           "Anything You Can Carry, I&#39;ll Pay For Challenge"
          ],
          [
           "Last To Leave The Tesla, Keeps It Challenge"
          ],
          [
           "I Opened A Free Car Dealership"
          ],
          [
           "Lamborghini Race, Winner Keeps Lamborghini"
          ],
          [
           "Can A Glowing 1000 Degree Sword Slice A Car In Half?"
          ],
          [
           "I Hope This Magic Trick Works"
          ],
          [
           "Important Youtube Announcement (please watch)"
          ],
          [
           "Paying People $10,000 To Eat Ghost Pepper"
          ],
          [
           "Why Do We Do Things That Are Bad For Us?????"
          ],
          [
           "I Spent 50 Hours In Solitary Confinement"
          ],
          [
           "I Bought One Snickers Bar From Every Walmart"
          ],
          [
           "Last To Leave Slime Pit Wins $20,000 - Challenge"
          ],
          [
           "I Advertised Pewdiepie At The Super Bowl"
          ],
          [
           "$456,000 Squid Game In Real Life!"
          ],
          [
           "I Spent 24 Hours Straight In Insane Asylum"
          ],
          [
           "SELLING ORGANS FOR $1,000,000"
          ],
          [
           "I Made Money Grow On Trees"
          ],
          [
           "This is a block? Since when lol."
          ],
          [
           "I Built A Giant House Using Only Legos"
          ],
          [
           "I Bought Everything In 5 Stores"
          ],
          [
           "I Built A Mansion Using Only Cardboard Boxes"
          ],
          [
           "MrBeast6000&#39;s First Video (So Bad lol)"
          ],
          [
           "We Drove 3,000 Miles For The World&#39;s Best Burger"
          ],
          [
           "Why I Haven&#39;t Been Uploading"
          ],
          [
           "Big Channel&#39;s Starting Over???"
          ],
          [
           "I Got Hunted By The Military"
          ],
          [
           "I Ran A Marathon In The World&#39;s Largest Shoes"
          ],
          [
           "I Gave $20,000 To People From An Ice Cream Truck"
          ],
          [
           "Press This Button To Win $100,000!"
          ],
          [
           "I Spent 24 Hours In A Doomsday Bunker"
          ],
          [
           "I Gave My Credit Card To Random People"
          ],
          [
           "I Gave My 40,000,000th Subscriber 40 Cars"
          ],
          [
           "Donating $100,000 To A Random Fortnite Streamer"
          ],
          [
           "Attempting The Impossible Maze - $10,000 Challenge"
          ],
          [
           "Would You Sit In Snakes For $10,000?"
          ],
          [
           "The Real Way Dinosaurs Went Extinct"
          ],
          [
           "Destroying My Friend&#39;s Car And Surprising Him With A New One - Slime"
          ],
          [
           "24 Hours In The Most Haunted Place On Earth"
          ],
          [
           "I Survived 24 Hours Straight In Ice"
          ],
          [
           "Last To Leave Ramen Noodle Pool Wins $20,000"
          ],
          [
           "Things That SHOULDN&#39;T Be Sold On Amazon"
          ],
          [
           "Dear Future Me (Scheduled Uploaded 6 Months Ago)"
          ],
          [
           "I Spent 24 Hours Straight In Slime"
          ],
          [
           "5,000 Hype"
          ],
          [
           "Surprising Tfue With $10,000 Live - Fortnite"
          ],
          [
           "I Hope This Magic Trick Works"
          ],
          [
           "World&#39;s Largest Bowl Of Cereal"
          ],
          [
           "I Spent 24 Hours Straight At Area 51"
          ],
          [
           "WHY DO THEY SELL THIS ON AMAZON?"
          ],
          [
           "I Adopted EVERY Dog In A Dog Shelter"
          ],
          [
           "More birds IN MINECRAFT!!"
          ],
          [
           "Am I Ian From Smosh????"
          ],
          [
           "Ordering Water Then Tipping $30,000"
          ],
          [
           "I Built A Working Car Using Only LEGOS"
          ],
          [
           "5 Youtubers I Think Will Be Famous..."
          ],
          [
           "Would YOU Quit School For $100,000?"
          ],
          [
           "If You Can Carry $1,000,000 You Keep It!"
          ],
          [
           "How Much Money Do I Make?????"
          ],
          [
           "Hi Me In 5 Years"
          ],
          [
           "Fidget Spinner Vs Face (Legit Had To Get Stitches)"
          ],
          [
           "Donating $100,000 To A Random Fortnite Streamer"
          ],
          [
           "Would You Rather Have A Giant Diamond or $100,000?"
          ],
          [
           "Returning Destroyed Rental Cars Prank"
          ],
          [
           "Microwaving A Microwave"
          ],
          [
           "Last To Remove Hand, Gets Lamborghini Challenge"
          ],
          [
           "Rocket League In Real Life!"
          ],
          [
           "Can 1,000 Rolls Of Duct Tape Stop A Car??"
          ],
          [
           "We Are Better Than Dude Perfect"
          ],
          [
           "I Put 10 Million Legos in Friend&#39;s House"
          ],
          [
           "Destroying My Friend&#39;s Car And Surprising Him With A New One"
          ],
          [
           "I Donated $50,000 To Ninja - Fortnite"
          ],
          [
           "I Put 100 Million Orbeez In My Friend&#39;s Backyard"
          ],
          [
           "I Dropped $20,000 From A Drone"
          ],
          [
           "Spending 24 Hours Straight Under Water Challenge"
          ],
          [
           "I Took Apart My Friends Car And Put It In His Room"
          ],
          [
           "I Put Millions Of Pennies In My Friends Backyard"
          ],
          [
           "$250,000 Influencer Rock, Paper, Scissors Tournament"
          ],
          [
           "If You Press This, I’ll Pay..."
          ],
          [
           "WHY DO THEY SELL THIS ON AMAZON?"
          ],
          [
           "I Gave $20,000 To Random Homeless People"
          ],
          [
           "I Built A Giant House Using Only Legos"
          ],
          [
           "Donating $100,000 To Shroud In Real Life"
          ],
          [
           "We Drove 3,000 Miles For The World&#39;s Best Burger"
          ],
          [
           "Playing Battleship With Real Ships"
          ],
          [
           "STUPIDEST PERSN ON EART (Really Dumb)"
          ],
          [
           "Breaking Glass Using Only Megaphones"
          ],
          [
           "Surprising Strangers With 100 Zombies - Experiment"
          ],
          [
           "I Bought An Abandoned Storage Unit And Found This.."
          ],
          [
           "How I Gave Away $1,000,000"
          ],
          [
           "Attempting The Impossible Maze - $10,000 Challenge"
          ],
          [
           "I Gave $200,000 To People Who Lost Their Jobs (Corona Virus)"
          ],
          [
           "Life Hacks You Need To Know"
          ],
          [
           "Winning A Game Of Fortnite In The Middle Of The Ocean"
          ],
          [
           "$200,000 Youtuber Battle Royale"
          ],
          [
           "$10,000 Games Of Rock Paper Scissors"
          ],
          [
           "I Donated $30,000 To A Random Twitch Streamer (world record)"
          ],
          [
           "Tipping Pizza Delivery Guys $10,000"
          ],
          [
           "Giving $100,000 To A Homeless Person"
          ],
          [
           "Donating $10000 To Pewdiepie"
          ],
          [
           "Giving 3,000,000 Pennies To My 3,000,000th Subscriber"
          ],
          [
           "Dear Future Me (Scheduled Uploaded 6 Months Ago)"
          ],
          [
           "I Spent $30,000 On Lottery Tickets And Won ____"
          ],
          [
           "MrBeast6000&#39;s First Video (So Bad lol)"
          ],
          [
           "Surprising My 8,000,000th Subscriber With 8,000,000 ___"
          ],
          [
           "Why Do We Do Things That Are Bad For Us?????"
          ],
          [
           "I Flew Using Only Balloons AND Leaf Blowers"
          ],
          [
           "What is Crohn&#39;s Disease?????"
          ],
          [
           "5 Youtubers I Think Will Be Famous..."
          ],
          [
           "Make This Video The Most Liked Video On Youtube"
          ],
          [
           "I Bought Every Billboard In My City For This"
          ],
          [
           "I Gave My 6,000,000th Subscriber 6,000,000 ____"
          ],
          [
           "I Got Bored Of Studying So This Happened"
          ],
          [
           "How Much Money Does Penguinz0 Make????? 2016"
          ],
          [
           "Minecraft Mansion Timelapse"
          ],
          [
           "I Gave $500,000 To Random People"
          ],
          [
           "Am I Ian From Smosh????"
          ],
          [
           "What Is Crohns Disease?????"
          ],
          [
           "Why I Haven&#39;t Been Uploading"
          ],
          [
           "How Much Money Does Tobuscus Make?????"
          ],
          [
           "Big Channel&#39;s Starting Over???"
          ],
          [
           "1k Subs"
          ],
          [
           "MrBeast6000Subs"
          ],
          [
           "How Much Money Do I Make?????"
          ],
          [
           "Flat Earth PROVEN By Independent Research"
          ],
          [
           "I Hate Youtubers That Ask For Likes"
          ],
          [
           "Reacting To The Reaction Of The Reaction To The Reaction Of The Reaction Of The Reaction To The Reac"
          ],
          [
           "Watching Dance Till You&#39;re Dead For 10 Hours"
          ],
          [
           "i&#39;m really sorry"
          ],
          [
           "More birds IN MINECRAFT!!"
          ],
          [
           "How Much Does Pewdiepie Make?"
          ],
          [
           "New Optic Gaming Gear Coming To Advanced Warfare, My Thoughts"
          ],
          [
           "Counting To 10000 In One Sitting"
          ],
          [
           "Watching It&#39;s Everyday Bro For 10 Hours Straight"
          ],
          [
           "I Counted To 100,000!"
          ],
          [
           "Saying Pewdiepie 100,000 Times"
          ],
          [
           "5,000 Hype"
          ],
          [
           "This is a block? Since when lol."
          ],
          [
           "Subscriber Goals For 2016"
          ],
          [
           "Counting To 200,000 (Road To A Mil)"
          ],
          [
           "I Hate Pewdiepie!!!!!"
          ],
          [
           "How Many People Get The Diamond Play Button?????"
          ],
          [
           "Funny Noob Tubing Reaction Montage!"
          ],
          [
           "Battle Pirates!"
          ],
          [
           "Most Epic Thing In Minecraft!?!?!?!?!?!!?????"
          ],
          [
           "How Much Does PewDiePie Make????? 2016"
          ],
          [
           "Epic Ghost Multiplayer EasterEggs! (PrisonBreak, Sovereign, and Flooded)"
          ],
          [
           "Money Problems"
          ],
          [
           "This Kid Should Quit COD...."
          ],
          [
           "100k Subs With No Videos????"
          ],
          [
           "Epic Minecraft city! (w/ download link!)"
          ],
          [
           "Remember When COD Was Fun?"
          ],
          [
           "Insane Gun Sync - 7 Hours To Make"
          ],
          [
           "MY MESSAGE TO COD YOUTUBERS (Watch till end plz)"
          ],
          [
           "L0114R - Biblical Creeper Post for Post @L0114R"
          ],
          [
           "How Much Money Do You Make As An Uber Driver??????"
          ]
         ],
         "hovertemplate": "viewCount=%{x}<br>duration_seconds=%{y}<br>title=%{customdata[0]}<br>commentCount=%{marker.color}<extra></extra>",
         "legendgroup": "",
         "marker": {
          "color": [
           128922,
           73593,
           null,
           162796,
           120621,
           83853,
           94886,
           233576,
           77842,
           116266,
           88986,
           99670,
           173872,
           80603,
           90170,
           78869,
           121200,
           65304,
           125468,
           92745,
           187948,
           94926,
           169970,
           190567,
           127362,
           83396,
           67034,
           187773,
           163287,
           44254,
           106104,
           90444,
           111013,
           726861,
           177576,
           118980,
           90163,
           70116,
           87816,
           80284,
           52860,
           121346,
           107422,
           104376,
           74133,
           43997,
           165127,
           69857,
           94562,
           571946,
           60701,
           44487,
           48182,
           83065,
           225860,
           50048,
           57148,
           47812,
           115383,
           42358,
           67953,
           124528,
           133872,
           116591,
           102806,
           49545,
           62530,
           46098,
           47639,
           54769,
           60791,
           114574,
           25163,
           134931,
           98498,
           182264,
           181956,
           90447,
           84362,
           297513,
           64576,
           87041,
           170811,
           134616,
           94482,
           49576,
           48151,
           301017,
           73663,
           64659,
           67234,
           114242,
           93083,
           44302,
           138144,
           54821,
           39103,
           19884,
           135828,
           36349,
           90,
           106104,
           73226,
           70057,
           68123,
           571946,
           134616,
           8072,
           37412,
           3081,
           50622,
           187773,
           23953,
           33521,
           96737,
           1312,
           92,
           90170,
           61076,
           21838,
           83853,
           77842,
           94482,
           178670,
           51877,
           32951,
           133872,
           44254,
           64569,
           114242,
           187948,
           43030,
           49576,
           12064,
           34343,
           457,
           48151,
           19884,
           80215,
           90618,
           16243,
           190567,
           2586,
           421,
           47639,
           101318,
           634,
           78869,
           67953,
           497,
           202949,
           80540,
           51877,
           72896,
           18067,
           42810,
           75483,
           16674,
           25163,
           38139,
           60152,
           36674,
           63348,
           136009,
           17835,
           105267,
           12424,
           57745,
           57088,
           155975,
           16243,
           75178,
           50622,
           21552,
           96737,
           35715,
           13369,
           78126,
           56359,
           23978,
           35392,
           32951,
           67596,
           11227,
           49482,
           146908,
           26100,
           57446,
           41836,
           73387,
           51873,
           22969,
           12064,
           23161,
           33521,
           19078,
           90,
           46185,
           940,
           634,
           277088,
           112106,
           33235,
           626,
           318,
           2286,
           31579,
           421,
           441,
           1312,
           160,
           92,
           94529,
           2429,
           497,
           137631,
           653,
           26108,
           null,
           10353,
           2586,
           152,
           118,
           48241,
           72610,
           123360,
           173172,
           457,
           3081,
           392,
           19482,
           15901,
           2775,
           333,
           425,
           1379,
           284,
           213,
           295,
           139,
           2844,
           741,
           145,
           105,
           117,
           134,
           59
          ],
          "coloraxis": "coloraxis",
          "symbol": "circle"
         },
         "mode": "markers",
         "name": "",
         "orientation": "v",
         "showlegend": false,
         "type": "scatter",
         "x": [
          84717282,
          32090178,
          null,
          101745632,
          50008942,
          145527042,
          79464833,
          154322660,
          102795467,
          95079717,
          71993932,
          57633714,
          97585126,
          34223993,
          43165039,
          55202068,
          84989496,
          90623591,
          99174289,
          103902204,
          85113492,
          95809336,
          106594059,
          104797858,
          76692327,
          58842218,
          83179815,
          74045114,
          99700649,
          24150678,
          158424466,
          109909726,
          54785723,
          93929098,
          52448898,
          77042095,
          82682475,
          63835088,
          87553418,
          58637341,
          83659525,
          100601425,
          101663010,
          127179753,
          107006436,
          57359031,
          64630566,
          72343261,
          38421073,
          178763228,
          65825475,
          67041958,
          79723782,
          62936687,
          119576253,
          92759192,
          68554762,
          49275426,
          73190107,
          62502385,
          59015812,
          138440792,
          109152270,
          52868114,
          86437502,
          71845651,
          86936731,
          54521829,
          39714916,
          42172274,
          72016728,
          63719508,
          26928544,
          119352796,
          32929921,
          74412826,
          100371975,
          66772832,
          76492851,
          57131190,
          89583695,
          64846876,
          91681798,
          91428157,
          101244292,
          86162309,
          64588022,
          84619778,
          81391428,
          79468147,
          72718526,
          53637455,
          71865419,
          71745185,
          87814365,
          75289471,
          60674883,
          38328312,
          32540299,
          35878816,
          17555,
          158424466,
          40462318,
          80841407,
          39453220,
          178763228,
          91428157,
          3453554,
          15956954,
          360054,
          54418062,
          74045114,
          23717561,
          10953561,
          45984373,
          365229,
          20549,
          43165039,
          63756654,
          14142927,
          145527042,
          102795467,
          101244292,
          87102771,
          49107493,
          49047821,
          109152270,
          24150678,
          85399212,
          53637455,
          85113492,
          42663444,
          86162309,
          1720103,
          37343693,
          68280,
          64588022,
          38328312,
          94292762,
          75223134,
          8221419,
          104797858,
          508657,
          336265,
          39714916,
          60094101,
          115490,
          55202068,
          59015812,
          84770,
          54420826,
          34564059,
          49107493,
          84145733,
          31253076,
          10839661,
          69218300,
          25522152,
          24391194,
          22953310,
          46254313,
          36327719,
          89812159,
          151143603,
          7497101,
          96310085,
          14751108,
          72734247,
          42637553,
          43238893,
          8221419,
          43245962,
          54418062,
          29240368,
          45984373,
          31104058,
          2440007,
          49984992,
          48247473,
          33946503,
          14038257,
          49047821,
          34770962,
          7027186,
          28869730,
          44391052,
          16997867,
          32025776,
          21665288,
          28172177,
          43585366,
          8486338,
          1720103,
          16658791,
          10953561,
          26058263,
          17555,
          30133231,
          243103,
          115490,
          96523287,
          35854023,
          15049764,
          234742,
          51573,
          512942,
          12798771,
          336265,
          104858,
          365229,
          24967,
          20549,
          16308305,
          246087,
          84770,
          24425400,
          104983,
          5799526,
          41577835,
          5020906,
          508657,
          74080,
          13954,
          28634115,
          26678886,
          24636026,
          21226054,
          68280,
          360054,
          24379,
          3357112,
          2660347,
          1711032,
          52419,
          35238,
          188255,
          155556,
          37057,
          102688,
          35121,
          378886,
          142709,
          16312,
          15740,
          18502,
          16627,
          18773
         ],
         "xaxis": "x",
         "y": [
          861,
          729,
          0,
          709,
          482,
          911,
          754,
          760,
          719,
          625,
          1000,
          760,
          824,
          725,
          662,
          694,
          1014,
          802,
          483,
          843,
          694,
          1166,
          669,
          964,
          697,
          613,
          898,
          854,
          797,
          351,
          952,
          701,
          748,
          639,
          295,
          677,
          858,
          830,
          844,
          783,
          1017,
          910,
          924,
          776,
          832,
          1050,
          443,
          789,
          705,
          1542,
          812,
          818,
          1079,
          851,
          1336,
          903,
          1008,
          946,
          649,
          458,
          645,
          938,
          849,
          943,
          782,
          1028,
          869,
          776,
          723,
          677,
          893,
          840,
          501,
          1066,
          382,
          897,
          1016,
          703,
          904,
          391,
          865,
          968,
          858,
          978,
          1008,
          846,
          923,
          1023,
          836,
          917,
          1121,
          907,
          909,
          1109,
          999,
          923,
          613,
          982,
          155,
          886,
          204,
          952,
          640,
          1088,
          793,
          1542,
          978,
          335,
          634,
          52,
          829,
          854,
          431,
          187,
          926,
          363,
          199,
          662,
          899,
          822,
          911,
          719,
          1008,
          1031,
          1382,
          1187,
          849,
          351,
          971,
          907,
          694,
          872,
          846,
          145,
          878,
          184,
          923,
          982,
          942,
          919,
          612,
          964,
          126,
          138,
          723,
          750,
          264,
          694,
          645,
          250,
          128,
          427,
          1382,
          805,
          630,
          604,
          1187,
          775,
          623,
          158,
          917,
          912,
          1322,
          891,
          711,
          911,
          734,
          881,
          1680,
          719,
          612,
          656,
          829,
          854,
          926,
          932,
          326,
          552,
          721,
          729,
          914,
          1187,
          992,
          604,
          615,
          1584,
          787,
          1106,
          769,
          884,
          915,
          610,
          145,
          1052,
          187,
          1132,
          204,
          680,
          424,
          264,
          791,
          931,
          1113,
          129,
          175,
          302,
          903,
          138,
          261,
          363,
          142,
          199,
          195,
          332,
          250,
          712,
          256,
          2009,
          36001,
          207,
          126,
          233,
          151,
          12581,
          36011,
          85686,
          42520,
          184,
          52,
          248,
          84878,
          126,
          236,
          149,
          215,
          273,
          207,
          100,
          242,
          77,
          257,
          154,
          216,
          134,
          292,
          109,
          304
         ],
         "yaxis": "y"
        }
       ],
       "layout": {
        "coloraxis": {
         "colorbar": {
          "title": {
           "text": "commentCount"
          }
         },
         "colorscale": [
          [
           0,
           "#0d0887"
          ],
          [
           0.1111111111111111,
           "#46039f"
          ],
          [
           0.2222222222222222,
           "#7201a8"
          ],
          [
           0.3333333333333333,
           "#9c179e"
          ],
          [
           0.4444444444444444,
           "#bd3786"
          ],
          [
           0.5555555555555556,
           "#d8576b"
          ],
          [
           0.6666666666666666,
           "#ed7953"
          ],
          [
           0.7777777777777778,
           "#fb9f3a"
          ],
          [
           0.8888888888888888,
           "#fdca26"
          ],
          [
           1,
           "#f0f921"
          ]
         ]
        },
        "height": 600,
        "legend": {
         "tracegroupgap": 0
        },
        "template": {
         "data": {
          "bar": [
           {
            "error_x": {
             "color": "#2a3f5f"
            },
            "error_y": {
             "color": "#2a3f5f"
            },
            "marker": {
             "line": {
              "color": "#E5ECF6",
              "width": 0.5
             },
             "pattern": {
              "fillmode": "overlay",
              "size": 10,
              "solidity": 0.2
             }
            },
            "type": "bar"
           }
          ],
          "barpolar": [
           {
            "marker": {
             "line": {
              "color": "#E5ECF6",
              "width": 0.5
             },
             "pattern": {
              "fillmode": "overlay",
              "size": 10,
              "solidity": 0.2
             }
            },
            "type": "barpolar"
           }
          ],
          "carpet": [
           {
            "aaxis": {
             "endlinecolor": "#2a3f5f",
             "gridcolor": "white",
             "linecolor": "white",
             "minorgridcolor": "white",
             "startlinecolor": "#2a3f5f"
            },
            "baxis": {
             "endlinecolor": "#2a3f5f",
             "gridcolor": "white",
             "linecolor": "white",
             "minorgridcolor": "white",
             "startlinecolor": "#2a3f5f"
            },
            "type": "carpet"
           }
          ],
          "choropleth": [
           {
            "colorbar": {
             "outlinewidth": 0,
             "ticks": ""
            },
            "type": "choropleth"
           }
          ],
          "contour": [
           {
            "colorbar": {
             "outlinewidth": 0,
             "ticks": ""
            },
            "colorscale": [
             [
              0,
              "#0d0887"
             ],
             [
              0.1111111111111111,
              "#46039f"
             ],
             [
              0.2222222222222222,
              "#7201a8"
             ],
             [
              0.3333333333333333,
              "#9c179e"
             ],
             [
              0.4444444444444444,
              "#bd3786"
             ],
             [
              0.5555555555555556,
              "#d8576b"
             ],
             [
              0.6666666666666666,
              "#ed7953"
             ],
             [
              0.7777777777777778,
              "#fb9f3a"
             ],
             [
              0.8888888888888888,
              "#fdca26"
             ],
             [
              1,
              "#f0f921"
             ]
            ],
            "type": "contour"
           }
          ],
          "contourcarpet": [
           {
            "colorbar": {
             "outlinewidth": 0,
             "ticks": ""
            },
            "type": "contourcarpet"
           }
          ],
          "heatmap": [
           {
            "colorbar": {
             "outlinewidth": 0,
             "ticks": ""
            },
            "colorscale": [
             [
              0,
              "#0d0887"
             ],
             [
              0.1111111111111111,
              "#46039f"
             ],
             [
              0.2222222222222222,
              "#7201a8"
             ],
             [
              0.3333333333333333,
              "#9c179e"
             ],
             [
              0.4444444444444444,
              "#bd3786"
             ],
             [
              0.5555555555555556,
              "#d8576b"
             ],
             [
              0.6666666666666666,
              "#ed7953"
             ],
             [
              0.7777777777777778,
              "#fb9f3a"
             ],
             [
              0.8888888888888888,
              "#fdca26"
             ],
             [
              1,
              "#f0f921"
             ]
            ],
            "type": "heatmap"
           }
          ],
          "heatmapgl": [
           {
            "colorbar": {
             "outlinewidth": 0,
             "ticks": ""
            },
            "colorscale": [
             [
              0,
              "#0d0887"
             ],
             [
              0.1111111111111111,
              "#46039f"
             ],
             [
              0.2222222222222222,
              "#7201a8"
             ],
             [
              0.3333333333333333,
              "#9c179e"
             ],
             [
              0.4444444444444444,
              "#bd3786"
             ],
             [
              0.5555555555555556,
              "#d8576b"
             ],
             [
              0.6666666666666666,
              "#ed7953"
             ],
             [
              0.7777777777777778,
              "#fb9f3a"
             ],
             [
              0.8888888888888888,
              "#fdca26"
             ],
             [
              1,
              "#f0f921"
             ]
            ],
            "type": "heatmapgl"
           }
          ],
          "histogram": [
           {
            "marker": {
             "pattern": {
              "fillmode": "overlay",
              "size": 10,
              "solidity": 0.2
             }
            },
            "type": "histogram"
           }
          ],
          "histogram2d": [
           {
            "colorbar": {
             "outlinewidth": 0,
             "ticks": ""
            },
            "colorscale": [
             [
              0,
              "#0d0887"
             ],
             [
              0.1111111111111111,
              "#46039f"
             ],
             [
              0.2222222222222222,
              "#7201a8"
             ],
             [
              0.3333333333333333,
              "#9c179e"
             ],
             [
              0.4444444444444444,
              "#bd3786"
             ],
             [
              0.5555555555555556,
              "#d8576b"
             ],
             [
              0.6666666666666666,
              "#ed7953"
             ],
             [
              0.7777777777777778,
              "#fb9f3a"
             ],
             [
              0.8888888888888888,
              "#fdca26"
             ],
             [
              1,
              "#f0f921"
             ]
            ],
            "type": "histogram2d"
           }
          ],
          "histogram2dcontour": [
           {
            "colorbar": {
             "outlinewidth": 0,
             "ticks": ""
            },
            "colorscale": [
             [
              0,
              "#0d0887"
             ],
             [
              0.1111111111111111,
              "#46039f"
             ],
             [
              0.2222222222222222,
              "#7201a8"
             ],
             [
              0.3333333333333333,
              "#9c179e"
             ],
             [
              0.4444444444444444,
              "#bd3786"
             ],
             [
              0.5555555555555556,
              "#d8576b"
             ],
             [
              0.6666666666666666,
              "#ed7953"
             ],
             [
              0.7777777777777778,
              "#fb9f3a"
             ],
             [
              0.8888888888888888,
              "#fdca26"
             ],
             [
              1,
              "#f0f921"
             ]
            ],
            "type": "histogram2dcontour"
           }
          ],
          "mesh3d": [
           {
            "colorbar": {
             "outlinewidth": 0,
             "ticks": ""
            },
            "type": "mesh3d"
           }
          ],
          "parcoords": [
           {
            "line": {
             "colorbar": {
              "outlinewidth": 0,
              "ticks": ""
             }
            },
            "type": "parcoords"
           }
          ],
          "pie": [
           {
            "automargin": true,
            "type": "pie"
           }
          ],
          "scatter": [
           {
            "marker": {
             "colorbar": {
              "outlinewidth": 0,
              "ticks": ""
             }
            },
            "type": "scatter"
           }
          ],
          "scatter3d": [
           {
            "line": {
             "colorbar": {
              "outlinewidth": 0,
              "ticks": ""
             }
            },
            "marker": {
             "colorbar": {
              "outlinewidth": 0,
              "ticks": ""
             }
            },
            "type": "scatter3d"
           }
          ],
          "scattercarpet": [
           {
            "marker": {
             "colorbar": {
              "outlinewidth": 0,
              "ticks": ""
             }
            },
            "type": "scattercarpet"
           }
          ],
          "scattergeo": [
           {
            "marker": {
             "colorbar": {
              "outlinewidth": 0,
              "ticks": ""
             }
            },
            "type": "scattergeo"
           }
          ],
          "scattergl": [
           {
            "marker": {
             "colorbar": {
              "outlinewidth": 0,
              "ticks": ""
             }
            },
            "type": "scattergl"
           }
          ],
          "scattermapbox": [
           {
            "marker": {
             "colorbar": {
              "outlinewidth": 0,
              "ticks": ""
             }
            },
            "type": "scattermapbox"
           }
          ],
          "scatterpolar": [
           {
            "marker": {
             "colorbar": {
              "outlinewidth": 0,
              "ticks": ""
             }
            },
            "type": "scatterpolar"
           }
          ],
          "scatterpolargl": [
           {
            "marker": {
             "colorbar": {
              "outlinewidth": 0,
              "ticks": ""
             }
            },
            "type": "scatterpolargl"
           }
          ],
          "scatterternary": [
           {
            "marker": {
             "colorbar": {
              "outlinewidth": 0,
              "ticks": ""
             }
            },
            "type": "scatterternary"
           }
          ],
          "surface": [
           {
            "colorbar": {
             "outlinewidth": 0,
             "ticks": ""
            },
            "colorscale": [
             [
              0,
              "#0d0887"
             ],
             [
              0.1111111111111111,
              "#46039f"
             ],
             [
              0.2222222222222222,
              "#7201a8"
             ],
             [
              0.3333333333333333,
              "#9c179e"
             ],
             [
              0.4444444444444444,
              "#bd3786"
             ],
             [
              0.5555555555555556,
              "#d8576b"
             ],
             [
              0.6666666666666666,
              "#ed7953"
             ],
             [
              0.7777777777777778,
              "#fb9f3a"
             ],
             [
              0.8888888888888888,
              "#fdca26"
             ],
             [
              1,
              "#f0f921"
             ]
            ],
            "type": "surface"
           }
          ],
          "table": [
           {
            "cells": {
             "fill": {
              "color": "#EBF0F8"
             },
             "line": {
              "color": "white"
             }
            },
            "header": {
             "fill": {
              "color": "#C8D4E3"
             },
             "line": {
              "color": "white"
             }
            },
            "type": "table"
           }
          ]
         },
         "layout": {
          "annotationdefaults": {
           "arrowcolor": "#2a3f5f",
           "arrowhead": 0,
           "arrowwidth": 1
          },
          "autotypenumbers": "strict",
          "coloraxis": {
           "colorbar": {
            "outlinewidth": 0,
            "ticks": ""
           }
          },
          "colorscale": {
           "diverging": [
            [
             0,
             "#8e0152"
            ],
            [
             0.1,
             "#c51b7d"
            ],
            [
             0.2,
             "#de77ae"
            ],
            [
             0.3,
             "#f1b6da"
            ],
            [
             0.4,
             "#fde0ef"
            ],
            [
             0.5,
             "#f7f7f7"
            ],
            [
             0.6,
             "#e6f5d0"
            ],
            [
             0.7,
             "#b8e186"
            ],
            [
             0.8,
             "#7fbc41"
            ],
            [
             0.9,
             "#4d9221"
            ],
            [
             1,
             "#276419"
            ]
           ],
           "sequential": [
            [
             0,
             "#0d0887"
            ],
            [
             0.1111111111111111,
             "#46039f"
            ],
            [
             0.2222222222222222,
             "#7201a8"
            ],
            [
             0.3333333333333333,
             "#9c179e"
            ],
            [
             0.4444444444444444,
             "#bd3786"
            ],
            [
             0.5555555555555556,
             "#d8576b"
            ],
            [
             0.6666666666666666,
             "#ed7953"
            ],
            [
             0.7777777777777778,
             "#fb9f3a"
            ],
            [
             0.8888888888888888,
             "#fdca26"
            ],
            [
             1,
             "#f0f921"
            ]
           ],
           "sequentialminus": [
            [
             0,
             "#0d0887"
            ],
            [
             0.1111111111111111,
             "#46039f"
            ],
            [
             0.2222222222222222,
             "#7201a8"
            ],
            [
             0.3333333333333333,
             "#9c179e"
            ],
            [
             0.4444444444444444,
             "#bd3786"
            ],
            [
             0.5555555555555556,
             "#d8576b"
            ],
            [
             0.6666666666666666,
             "#ed7953"
            ],
            [
             0.7777777777777778,
             "#fb9f3a"
            ],
            [
             0.8888888888888888,
             "#fdca26"
            ],
            [
             1,
             "#f0f921"
            ]
           ]
          },
          "colorway": [
           "#636efa",
           "#EF553B",
           "#00cc96",
           "#ab63fa",
           "#FFA15A",
           "#19d3f3",
           "#FF6692",
           "#B6E880",
           "#FF97FF",
           "#FECB52"
          ],
          "font": {
           "color": "#2a3f5f"
          },
          "geo": {
           "bgcolor": "white",
           "lakecolor": "white",
           "landcolor": "#E5ECF6",
           "showlakes": true,
           "showland": true,
           "subunitcolor": "white"
          },
          "hoverlabel": {
           "align": "left"
          },
          "hovermode": "closest",
          "mapbox": {
           "style": "light"
          },
          "paper_bgcolor": "white",
          "plot_bgcolor": "#E5ECF6",
          "polar": {
           "angularaxis": {
            "gridcolor": "white",
            "linecolor": "white",
            "ticks": ""
           },
           "bgcolor": "#E5ECF6",
           "radialaxis": {
            "gridcolor": "white",
            "linecolor": "white",
            "ticks": ""
           }
          },
          "scene": {
           "xaxis": {
            "backgroundcolor": "#E5ECF6",
            "gridcolor": "white",
            "gridwidth": 2,
            "linecolor": "white",
            "showbackground": true,
            "ticks": "",
            "zerolinecolor": "white"
           },
           "yaxis": {
            "backgroundcolor": "#E5ECF6",
            "gridcolor": "white",
            "gridwidth": 2,
            "linecolor": "white",
            "showbackground": true,
            "ticks": "",
            "zerolinecolor": "white"
           },
           "zaxis": {
            "backgroundcolor": "#E5ECF6",
            "gridcolor": "white",
            "gridwidth": 2,
            "linecolor": "white",
            "showbackground": true,
            "ticks": "",
            "zerolinecolor": "white"
           }
          },
          "shapedefaults": {
           "line": {
            "color": "#2a3f5f"
           }
          },
          "ternary": {
           "aaxis": {
            "gridcolor": "white",
            "linecolor": "white",
            "ticks": ""
           },
           "baxis": {
            "gridcolor": "white",
            "linecolor": "white",
            "ticks": ""
           },
           "bgcolor": "#E5ECF6",
           "caxis": {
            "gridcolor": "white",
            "linecolor": "white",
            "ticks": ""
           }
          },
          "title": {
           "x": 0.05
          },
          "xaxis": {
           "automargin": true,
           "gridcolor": "white",
           "linecolor": "white",
           "ticks": "",
           "title": {
            "standoff": 15
           },
           "zerolinecolor": "white",
           "zerolinewidth": 2
          },
          "yaxis": {
           "automargin": true,
           "gridcolor": "white",
           "linecolor": "white",
           "ticks": "",
           "title": {
            "standoff": 15
           },
           "zerolinecolor": "white",
           "zerolinewidth": 2
          }
         }
        },
        "title": {
         "text": "Mr Beast Videos, Likes vs Views"
        },
        "width": 800,
        "xaxis": {
         "anchor": "y",
         "autorange": true,
         "domain": [
          0,
          1
         ],
         "range": [
          -11392559.323028143,
          190169741.32302815
         ],
         "title": {
          "text": "viewCount"
         },
         "type": "linear"
        },
        "yaxis": {
         "anchor": "x",
         "autorange": true,
         "domain": [
          0,
          1
         ],
         "range": [
          -5723.963562753037,
          91409.96356275304
         ],
         "title": {
          "text": "duration_seconds"
         },
         "type": "linear"
        }
       }
      },
      "image/png": "[encoded data removed]",
      "text/html": [
       "<div>                            <div id=\"24330796-21ff-473f-a594-190fd01694f2\" class=\"plotly-graph-div\" style=\"height:600px; width:800px;\"></div>            <script type=\"text/javascript\">                require([\"plotly\"], function(Plotly) {                    window.PLOTLYENV=window.PLOTLYENV || {};                                    if (document.getElementById(\"24330796-21ff-473f-a594-190fd01694f2\")) {                    Plotly.newPlot(                        \"24330796-21ff-473f-a594-190fd01694f2\",                        [{\"customdata\":[[\"I Got Hunted By A Real Bounty Hunter\"],[\"Extreme $1,000,000 Hide And Seek\"],[\"MrBeast\"],[\"I Bought The World&#39;s Largest Mystery Box! ($500,000)\"],[\"First To Rob Bank Wins $100,000\"],[\"Press This Button To Win $100,000!\"],[\"I Survived 50 Hours In A Maximum Security Prison\"],[\"I Spent 50 Hours Buried Alive\"],[\"I Spent 24 Hours In A Doomsday Bunker\"],[\"I Filled My Brother\\u2019s House With Slime &amp; Bought Him A New One\"],[\"I Got Hunted By The FBI\"],[\"Extreme $500,000 Game Of Tag!\"],[\"Last To Leave Revolving Door Wins $50,000\"],[\"$1,000,000 Influencer Tournament!\"],[\"I Got Hunted By The Military\"],[\"Would YOU Quit School For $100,000?\"],[\"Extreme $100,000 Game of Tag!\"],[\"I Won Every Prize At A Theme Park\"],[\"I Ate The World\\u2019s Largest Slice Of Pizza\"],[\"Steal This $100,000 Diamond, You Keep It\"],[\"I Survived 24 Hours Straight In Ice\"],[\"Last To Leave Circle Wins $500,000\"],[\"I Bought The World&#39;s Largest Firework ($600,000)\"],[\"I Adopted EVERY Dog In A Dog Shelter\"],[\"I Bought A Private Island\"],[\"I Spent $1,000,000 On Lottery Tickets and WON\"],[\"Last To Stop Running Wins $20,000\"],[\"I Bought Everything In 5 Stores\"],[\"I Ate $100,000 Golden Ice Cream\"],[\"The Real Way Dinosaurs Went Extinct\"],[\"I Spent 50 Hours In Solitary Confinement\"],[\"Surviving 24 Hours Straight In The Bermuda Triangle\"],[\"I Put 1,000,000 Christmas Lights On A House (World Record)\"],[\"I Opened A Restaurant That Pays You To Eat At It\"],[\"I Cleaned The World\\u2019s Dirtiest Beach #TeamSeas\"],[\"Offering People $100,000 To Quit Their Job\"],[\"Last To Leave VR Wins $20,000\"],[\"I Gave Him One Hour To Spend $100,000!\"],[\"Surviving 24 Hours Straight In A Desert\"],[\"Last to Stop Swinging Wins $1,000,000 (Part 2)\"],[\"Last To Fall Wins $1,000,000 (Part 1)\"],[\"Spending $1,000,000 In 24 Hours\"],[\"Spending 24 Hours On Top Of A Mountain\"],[\"I Ate A $70,000 Golden Pizza\"],[\"Surviving 24 Hours On A Deserted Island\"],[\"Last To Take Hand Off House Keeps It!\"],[\"Planting 20,000,000 Trees, My Biggest Project Ever!\"],[\"Surviving 24 Hours Straight In A Rain Forest\"],[\"Last To Stop Riding Bike Wins $1,000,000 (Part 4)\"],[\"$456,000 Squid Game In Real Life!\"],[\"Videos I Could Not Upload...\"],[\"I Went Back To Boy Scouts For A Day\"],[\"$60,000 Extreme Hide And Seek - Challenge\"],[\"I Uber\\u2019d People And Let Them Keep The Car\"],[\"Last To Leave $800,000 Island Keeps It\"],[\"$50,000 Game Of Extreme Hide And Seek - Challenge\"],[\"Last To Take Hand Off Boat, Keeps It\"],[\"Last To Leave Toilet Wins $1,000,000 (Part 3)\"],[\"I Sold My House For $1\"],[\"Molten Lava Vs Giant Ice Block Experiment\"],[\"If You Can Carry $1,000,000 You Keep It!\"],[\"Going Through The Same Drive Thru 1,000 Times\"],[\"Would You Sit In Snakes For $10,000?\"],[\"Last To Take Hand Off Lamborghini, Keeps It\"],[\"I Ordered Pizza And Tipped The House\"],[\"I Searched 100 Dumpsters, Here&#39;s What I Found\"],[\"Spending 24 Hours In A City With No Laws\"],[\"Going Around A Ferris Wheel 1,000 Times Straight\"],[\"Ordering Water Then Tipping $30,000\"],[\"World&#39;s Largest Game Of Dodgeball\"],[\"Destroying My Friend&#39;s Car And Surprising Him With A New One\"],[\"I Gave A Homeless Man A Home\"],[\"I Can&#39;t Believe I Found This Stuff On Amazon..\"],[\"I Went Back To 1st Grade For A Day\"],[\"Why I Haven\\u2019t Been Uploading\"],[\"I Broke Into A House\"],[\"I Bought Everything In A Store - Challenge\"],[\"I Opened A FREE BANK\"],[\"Hit The Target, Win $300,000\"],[\"Youtube Rewind 2020, Thank God It&#39;s Over\"],[\"Surprising TFue With A Fortnite Battle Bus In Real Life\"],[\"Anything You Can Fit In The Triangle I\\u2019ll Pay For\"],[\"I Gave People $1,000,000 But ONLY 1 Minute To Spend It!\"],[\"I Spent 24 Hours Straight In Insane Asylum\"],[\"I Gave My Credit Card To Random People\"],[\"Things That SHOULDN&#39;T Be Sold On Amazon\"],[\"Surprising Tfue With $10,000 Live - Fortnite\"],[\"Last To Take Hand Off $1,000,000 Keeps It\"],[\"I Built The World&#39;s Largest Lego Tower\"],[\"Last To Leave Roller Coaster Wins $20,000 - Challenge\"],[\"$70,000 Extreme Hide And Seek - Challenge\"],[\"24 Hours In The Most Haunted Place On Earth\"],[\"Anything You Can Carry, I&#39;ll Pay For Challenge\"],[\"Last To Leave The Tesla, Keeps It Challenge\"],[\"I Opened A Free Car Dealership\"],[\"Lamborghini Race, Winner Keeps Lamborghini\"],[\"Can A Glowing 1000 Degree Sword Slice A Car In Half?\"],[\"I Hope This Magic Trick Works\"],[\"Important Youtube Announcement (please watch)\"],[\"Paying People $10,000 To Eat Ghost Pepper\"],[\"Why Do We Do Things That Are Bad For Us?????\"],[\"I Spent 50 Hours In Solitary Confinement\"],[\"I Bought One Snickers Bar From Every Walmart\"],[\"Last To Leave Slime Pit Wins $20,000 - Challenge\"],[\"I Advertised Pewdiepie At The Super Bowl\"],[\"$456,000 Squid Game In Real Life!\"],[\"I Spent 24 Hours Straight In Insane Asylum\"],[\"SELLING ORGANS FOR $1,000,000\"],[\"I Made Money Grow On Trees\"],[\"This is a block? Since when lol.\"],[\"I Built A Giant House Using Only Legos\"],[\"I Bought Everything In 5 Stores\"],[\"I Built A Mansion Using Only Cardboard Boxes\"],[\"MrBeast6000&#39;s First Video (So Bad lol)\"],[\"We Drove 3,000 Miles For The World&#39;s Best Burger\"],[\"Why I Haven&#39;t Been Uploading\"],[\"Big Channel&#39;s Starting Over???\"],[\"I Got Hunted By The Military\"],[\"I Ran A Marathon In The World&#39;s Largest Shoes\"],[\"I Gave $20,000 To People From An Ice Cream Truck\"],[\"Press This Button To Win $100,000!\"],[\"I Spent 24 Hours In A Doomsday Bunker\"],[\"I Gave My Credit Card To Random People\"],[\"I Gave My 40,000,000th Subscriber 40 Cars\"],[\"Donating $100,000 To A Random Fortnite Streamer\"],[\"Attempting The Impossible Maze - $10,000 Challenge\"],[\"Would You Sit In Snakes For $10,000?\"],[\"The Real Way Dinosaurs Went Extinct\"],[\"Destroying My Friend&#39;s Car And Surprising Him With A New One - Slime\"],[\"24 Hours In The Most Haunted Place On Earth\"],[\"I Survived 24 Hours Straight In Ice\"],[\"Last To Leave Ramen Noodle Pool Wins $20,000\"],[\"Things That SHOULDN&#39;T Be Sold On Amazon\"],[\"Dear Future Me (Scheduled Uploaded 6 Months Ago)\"],[\"I Spent 24 Hours Straight In Slime\"],[\"5,000 Hype\"],[\"Surprising Tfue With $10,000 Live - Fortnite\"],[\"I Hope This Magic Trick Works\"],[\"World&#39;s Largest Bowl Of Cereal\"],[\"I Spent 24 Hours Straight At Area 51\"],[\"WHY DO THEY SELL THIS ON AMAZON?\"],[\"I Adopted EVERY Dog In A Dog Shelter\"],[\"More birds IN MINECRAFT!!\"],[\"Am I Ian From Smosh????\"],[\"Ordering Water Then Tipping $30,000\"],[\"I Built A Working Car Using Only LEGOS\"],[\"5 Youtubers I Think Will Be Famous...\"],[\"Would YOU Quit School For $100,000?\"],[\"If You Can Carry $1,000,000 You Keep It!\"],[\"How Much Money Do I Make?????\"],[\"Hi Me In 5 Years\"],[\"Fidget Spinner Vs Face (Legit Had To Get Stitches)\"],[\"Donating $100,000 To A Random Fortnite Streamer\"],[\"Would You Rather Have A Giant Diamond or $100,000?\"],[\"Returning Destroyed Rental Cars Prank\"],[\"Microwaving A Microwave\"],[\"Last To Remove Hand, Gets Lamborghini Challenge\"],[\"Rocket League In Real Life!\"],[\"Can 1,000 Rolls Of Duct Tape Stop A Car??\"],[\"We Are Better Than Dude Perfect\"],[\"I Put 10 Million Legos in Friend&#39;s House\"],[\"Destroying My Friend&#39;s Car And Surprising Him With A New One\"],[\"I Donated $50,000 To Ninja - Fortnite\"],[\"I Put 100 Million Orbeez In My Friend&#39;s Backyard\"],[\"I Dropped $20,000 From A Drone\"],[\"Spending 24 Hours Straight Under Water Challenge\"],[\"I Took Apart My Friends Car And Put It In His Room\"],[\"I Put Millions Of Pennies In My Friends Backyard\"],[\"$250,000 Influencer Rock, Paper, Scissors Tournament\"],[\"If You Press This, I\\u2019ll Pay...\"],[\"WHY DO THEY SELL THIS ON AMAZON?\"],[\"I Gave $20,000 To Random Homeless People\"],[\"I Built A Giant House Using Only Legos\"],[\"Donating $100,000 To Shroud In Real Life\"],[\"We Drove 3,000 Miles For The World&#39;s Best Burger\"],[\"Playing Battleship With Real Ships\"],[\"STUPIDEST PERSN ON EART (Really Dumb)\"],[\"Breaking Glass Using Only Megaphones\"],[\"Surprising Strangers With 100 Zombies - Experiment\"],[\"I Bought An Abandoned Storage Unit And Found This..\"],[\"How I Gave Away $1,000,000\"],[\"Attempting The Impossible Maze - $10,000 Challenge\"],[\"I Gave $200,000 To People Who Lost Their Jobs (Corona Virus)\"],[\"Life Hacks You Need To Know\"],[\"Winning A Game Of Fortnite In The Middle Of The Ocean\"],[\"$200,000 Youtuber Battle Royale\"],[\"$10,000 Games Of Rock Paper Scissors\"],[\"I Donated $30,000 To A Random Twitch Streamer (world record)\"],[\"Tipping Pizza Delivery Guys $10,000\"],[\"Giving $100,000 To A Homeless Person\"],[\"Donating $10000 To Pewdiepie\"],[\"Giving 3,000,000 Pennies To My 3,000,000th Subscriber\"],[\"Dear Future Me (Scheduled Uploaded 6 Months Ago)\"],[\"I Spent $30,000 On Lottery Tickets And Won ____\"],[\"MrBeast6000&#39;s First Video (So Bad lol)\"],[\"Surprising My 8,000,000th Subscriber With 8,000,000 ___\"],[\"Why Do We Do Things That Are Bad For Us?????\"],[\"I Flew Using Only Balloons AND Leaf Blowers\"],[\"What is Crohn&#39;s Disease?????\"],[\"5 Youtubers I Think Will Be Famous...\"],[\"Make This Video The Most Liked Video On Youtube\"],[\"I Bought Every Billboard In My City For This\"],[\"I Gave My 6,000,000th Subscriber 6,000,000 ____\"],[\"I Got Bored Of Studying So This Happened\"],[\"How Much Money Does Penguinz0 Make????? 2016\"],[\"Minecraft Mansion Timelapse\"],[\"I Gave $500,000 To Random People\"],[\"Am I Ian From Smosh????\"],[\"What Is Crohns Disease?????\"],[\"Why I Haven&#39;t Been Uploading\"],[\"How Much Money Does Tobuscus Make?????\"],[\"Big Channel&#39;s Starting Over???\"],[\"1k Subs\"],[\"MrBeast6000Subs\"],[\"How Much Money Do I Make?????\"],[\"Flat Earth PROVEN By Independent Research\"],[\"I Hate Youtubers That Ask For Likes\"],[\"Reacting To The Reaction Of The Reaction To The Reaction Of The Reaction Of The Reaction To The Reac\"],[\"Watching Dance Till You&#39;re Dead For 10 Hours\"],[\"i&#39;m really sorry\"],[\"More birds IN MINECRAFT!!\"],[\"How Much Does Pewdiepie Make?\"],[\"New Optic Gaming Gear Coming To Advanced Warfare, My Thoughts\"],[\"Counting To 10000 In One Sitting\"],[\"Watching It&#39;s Everyday Bro For 10 Hours Straight\"],[\"I Counted To 100,000!\"],[\"Saying Pewdiepie 100,000 Times\"],[\"5,000 Hype\"],[\"This is a block? Since when lol.\"],[\"Subscriber Goals For 2016\"],[\"Counting To 200,000 (Road To A Mil)\"],[\"I Hate Pewdiepie!!!!!\"],[\"How Many People Get The Diamond Play Button?????\"],[\"Funny Noob Tubing Reaction Montage!\"],[\"Battle Pirates!\"],[\"Most Epic Thing In Minecraft!?!?!?!?!?!!?????\"],[\"How Much Does PewDiePie Make????? 2016\"],[\"Epic Ghost Multiplayer EasterEggs! (PrisonBreak, Sovereign, and Flooded)\"],[\"Money Problems\"],[\"This Kid Should Quit COD....\"],[\"100k Subs With No Videos????\"],[\"Epic Minecraft city! (w/ download link!)\"],[\"Remember When COD Was Fun?\"],[\"Insane Gun Sync - 7 Hours To Make\"],[\"MY MESSAGE TO COD YOUTUBERS (Watch till end plz)\"],[\"L0114R - Biblical Creeper Post for Post @L0114R\"],[\"How Much Money Do You Make As An Uber Driver??????\"]],\"hovertemplate\":\"viewCount=%{x}<br>duration_seconds=%{y}<br>title=%{customdata[0]}<br>commentCount=%{marker.color}<extra></extra>\",\"legendgroup\":\"\",\"marker\":{\"color\":[128922.0,73593.0,null,162796.0,120621.0,83853.0,94886.0,233576.0,77842.0,116266.0,88986.0,99670.0,173872.0,80603.0,90170.0,78869.0,121200.0,65304.0,125468.0,92745.0,187948.0,94926.0,169970.0,190567.0,127362.0,83396.0,67034.0,187773.0,163287.0,44254.0,106104.0,90444.0,111013.0,726861.0,177576.0,118980.0,90163.0,70116.0,87816.0,80284.0,52860.0,121346.0,107422.0,104376.0,74133.0,43997.0,165127.0,69857.0,94562.0,571946.0,60701.0,44487.0,48182.0,83065.0,225860.0,50048.0,57148.0,47812.0,115383.0,42358.0,67953.0,124528.0,133872.0,116591.0,102806.0,49545.0,62530.0,46098.0,47639.0,54769.0,60791.0,114574.0,25163.0,134931.0,98498.0,182264.0,181956.0,90447.0,84362.0,297513.0,64576.0,87041.0,170811.0,134616.0,94482.0,49576.0,48151.0,301017.0,73663.0,64659.0,67234.0,114242.0,93083.0,44302.0,138144.0,54821.0,39103.0,19884.0,135828.0,36349.0,90.0,106104.0,73226.0,70057.0,68123.0,571946.0,134616.0,8072.0,37412.0,3081.0,50622.0,187773.0,23953.0,33521.0,96737.0,1312.0,92.0,90170.0,61076.0,21838.0,83853.0,77842.0,94482.0,178670.0,51877.0,32951.0,133872.0,44254.0,64569.0,114242.0,187948.0,43030.0,49576.0,12064.0,34343.0,457.0,48151.0,19884.0,80215.0,90618.0,16243.0,190567.0,2586.0,421.0,47639.0,101318.0,634.0,78869.0,67953.0,497.0,202949.0,80540.0,51877.0,72896.0,18067.0,42810.0,75483.0,16674.0,25163.0,38139.0,60152.0,36674.0,63348.0,136009.0,17835.0,105267.0,12424.0,57745.0,57088.0,155975.0,16243.0,75178.0,50622.0,21552.0,96737.0,35715.0,13369.0,78126.0,56359.0,23978.0,35392.0,32951.0,67596.0,11227.0,49482.0,146908.0,26100.0,57446.0,41836.0,73387.0,51873.0,22969.0,12064.0,23161.0,33521.0,19078.0,90.0,46185.0,940.0,634.0,277088.0,112106.0,33235.0,626.0,318.0,2286.0,31579.0,421.0,441.0,1312.0,160.0,92.0,94529.0,2429.0,497.0,137631.0,653.0,26108.0,null,10353.0,2586.0,152.0,118.0,48241.0,72610.0,123360.0,173172.0,457.0,3081.0,392.0,19482.0,15901.0,2775.0,333.0,425.0,1379.0,284.0,213.0,295.0,139.0,2844.0,741.0,145.0,105.0,117.0,134.0,59.0],\"coloraxis\":\"coloraxis\",\"symbol\":\"circle\"},\"mode\":\"markers\",\"name\":\"\",\"orientation\":\"v\",\"showlegend\":false,\"type\":\"scatter\",\"x\":[84717282.0,32090178.0,null,101745632.0,50008942.0,145527042.0,79464833.0,154322660.0,102795467.0,95079717.0,71993932.0,57633714.0,97585126.0,34223993.0,43165039.0,55202068.0,84989496.0,90623591.0,99174289.0,103902204.0,85113492.0,95809336.0,106594059.0,104797858.0,76692327.0,58842218.0,83179815.0,74045114.0,99700649.0,24150678.0,158424466.0,109909726.0,54785723.0,93929098.0,52448898.0,77042095.0,82682475.0,63835088.0,87553418.0,58637341.0,83659525.0,100601425.0,101663010.0,127179753.0,107006436.0,57359031.0,64630566.0,72343261.0,38421073.0,178763228.0,65825475.0,67041958.0,79723782.0,62936687.0,119576253.0,92759192.0,68554762.0,49275426.0,73190107.0,62502385.0,59015812.0,138440792.0,109152270.0,52868114.0,86437502.0,71845651.0,86936731.0,54521829.0,39714916.0,42172274.0,72016728.0,63719508.0,26928544.0,119352796.0,32929921.0,74412826.0,100371975.0,66772832.0,76492851.0,57131190.0,89583695.0,64846876.0,91681798.0,91428157.0,101244292.0,86162309.0,64588022.0,84619778.0,81391428.0,79468147.0,72718526.0,53637455.0,71865419.0,71745185.0,87814365.0,75289471.0,60674883.0,38328312.0,32540299.0,35878816.0,17555.0,158424466.0,40462318.0,80841407.0,39453220.0,178763228.0,91428157.0,3453554.0,15956954.0,360054.0,54418062.0,74045114.0,23717561.0,10953561.0,45984373.0,365229.0,20549.0,43165039.0,63756654.0,14142927.0,145527042.0,102795467.0,101244292.0,87102771.0,49107493.0,49047821.0,109152270.0,24150678.0,85399212.0,53637455.0,85113492.0,42663444.0,86162309.0,1720103.0,37343693.0,68280.0,64588022.0,38328312.0,94292762.0,75223134.0,8221419.0,104797858.0,508657.0,336265.0,39714916.0,60094101.0,115490.0,55202068.0,59015812.0,84770.0,54420826.0,34564059.0,49107493.0,84145733.0,31253076.0,10839661.0,69218300.0,25522152.0,24391194.0,22953310.0,46254313.0,36327719.0,89812159.0,151143603.0,7497101.0,96310085.0,14751108.0,72734247.0,42637553.0,43238893.0,8221419.0,43245962.0,54418062.0,29240368.0,45984373.0,31104058.0,2440007.0,49984992.0,48247473.0,33946503.0,14038257.0,49047821.0,34770962.0,7027186.0,28869730.0,44391052.0,16997867.0,32025776.0,21665288.0,28172177.0,43585366.0,8486338.0,1720103.0,16658791.0,10953561.0,26058263.0,17555.0,30133231.0,243103.0,115490.0,96523287.0,35854023.0,15049764.0,234742.0,51573.0,512942.0,12798771.0,336265.0,104858.0,365229.0,24967.0,20549.0,16308305.0,246087.0,84770.0,24425400.0,104983.0,5799526.0,41577835.0,5020906.0,508657.0,74080.0,13954.0,28634115.0,26678886.0,24636026.0,21226054.0,68280.0,360054.0,24379.0,3357112.0,2660347.0,1711032.0,52419.0,35238.0,188255.0,155556.0,37057.0,102688.0,35121.0,378886.0,142709.0,16312.0,15740.0,18502.0,16627.0,18773.0],\"xaxis\":\"x\",\"y\":[861,729,0,709,482,911,754,760,719,625,1000,760,824,725,662,694,1014,802,483,843,694,1166,669,964,697,613,898,854,797,351,952,701,748,639,295,677,858,830,844,783,1017,910,924,776,832,1050,443,789,705,1542,812,818,1079,851,1336,903,1008,946,649,458,645,938,849,943,782,1028,869,776,723,677,893,840,501,1066,382,897,1016,703,904,391,865,968,858,978,1008,846,923,1023,836,917,1121,907,909,1109,999,923,613,982,155,886,204,952,640,1088,793,1542,978,335,634,52,829,854,431,187,926,363,199,662,899,822,911,719,1008,1031,1382,1187,849,351,971,907,694,872,846,145,878,184,923,982,942,919,612,964,126,138,723,750,264,694,645,250,128,427,1382,805,630,604,1187,775,623,158,917,912,1322,891,711,911,734,881,1680,719,612,656,829,854,926,932,326,552,721,729,914,1187,992,604,615,1584,787,1106,769,884,915,610,145,1052,187,1132,204,680,424,264,791,931,1113,129,175,302,903,138,261,363,142,199,195,332,250,712,256,2009,36001,207,126,233,151,12581,36011,85686,42520,184,52,248,84878,126,236,149,215,273,207,100,242,77,257,154,216,134,292,109,304],\"yaxis\":\"y\"}],                        {\"coloraxis\":{\"colorbar\":{\"title\":{\"text\":\"commentCount\"}},\"colorscale\":[[0.0,\"#0d0887\"],[0.1111111111111111,\"#46039f\"],[0.2222222222222222,\"#7201a8\"],[0.3333333333333333,\"#9c179e\"],[0.4444444444444444,\"#bd3786\"],[0.5555555555555556,\"#d8576b\"],[0.6666666666666666,\"#ed7953\"],[0.7777777777777778,\"#fb9f3a\"],[0.8888888888888888,\"#fdca26\"],[1.0,\"#f0f921\"]]},\"height\":600,\"legend\":{\"tracegroupgap\":0},\"template\":{\"data\":{\"bar\":[{\"error_x\":{\"color\":\"#2a3f5f\"},\"error_y\":{\"color\":\"#2a3f5f\"},\"marker\":{\"line\":{\"color\":\"#E5ECF6\",\"width\":0.5},\"pattern\":{\"fillmode\":\"overlay\",\"size\":10,\"solidity\":0.2}},\"type\":\"bar\"}],\"barpolar\":[{\"marker\":{\"line\":{\"color\":\"#E5ECF6\",\"width\":0.5},\"pattern\":{\"fillmode\":\"overlay\",\"size\":10,\"solidity\":0.2}},\"type\":\"barpolar\"}],\"carpet\":[{\"aaxis\":{\"endlinecolor\":\"#2a3f5f\",\"gridcolor\":\"white\",\"linecolor\":\"white\",\"minorgridcolor\":\"white\",\"startlinecolor\":\"#2a3f5f\"},\"baxis\":{\"endlinecolor\":\"#2a3f5f\",\"gridcolor\":\"white\",\"linecolor\":\"white\",\"minorgridcolor\":\"white\",\"startlinecolor\":\"#2a3f5f\"},\"type\":\"carpet\"}],\"choropleth\":[{\"colorbar\":{\"outlinewidth\":0,\"ticks\":\"\"},\"type\":\"choropleth\"}],\"contour\":[{\"colorbar\":{\"outlinewidth\":0,\"ticks\":\"\"},\"colorscale\":[[0.0,\"#0d0887\"],[0.1111111111111111,\"#46039f\"],[0.2222222222222222,\"#7201a8\"],[0.3333333333333333,\"#9c179e\"],[0.4444444444444444,\"#bd3786\"],[0.5555555555555556,\"#d8576b\"],[0.6666666666666666,\"#ed7953\"],[0.7777777777777778,\"#fb9f3a\"],[0.8888888888888888,\"#fdca26\"],[1.0,\"#f0f921\"]],\"type\":\"contour\"}],\"contourcarpet\":[{\"colorbar\":{\"outlinewidth\":0,\"ticks\":\"\"},\"type\":\"contourcarpet\"}],\"heatmap\":[{\"colorbar\":{\"outlinewidth\":0,\"ticks\":\"\"},\"colorscale\":[[0.0,\"#0d0887\"],[0.1111111111111111,\"#46039f\"],[0.2222222222222222,\"#7201a8\"],[0.3333333333333333,\"#9c179e\"],[0.4444444444444444,\"#bd3786\"],[0.5555555555555556,\"#d8576b\"],[0.6666666666666666,\"#ed7953\"],[0.7777777777777778,\"#fb9f3a\"],[0.8888888888888888,\"#fdca26\"],[1.0,\"#f0f921\"]],\"type\":\"heatmap\"}],\"heatmapgl\":[{\"colorbar\":{\"outlinewidth\":0,\"ticks\":\"\"},\"colorscale\":[[0.0,\"#0d0887\"],[0.1111111111111111,\"#46039f\"],[0.2222222222222222,\"#7201a8\"],[0.3333333333333333,\"#9c179e\"],[0.4444444444444444,\"#bd3786\"],[0.5555555555555556,\"#d8576b\"],[0.6666666666666666,\"#ed7953\"],[0.7777777777777778,\"#fb9f3a\"],[0.8888888888888888,\"#fdca26\"],[1.0,\"#f0f921\"]],\"type\":\"heatmapgl\"}],\"histogram\":[{\"marker\":{\"pattern\":{\"fillmode\":\"overlay\",\"size\":10,\"solidity\":0.2}},\"type\":\"histogram\"}],\"histogram2d\":[{\"colorbar\":{\"outlinewidth\":0,\"ticks\":\"\"},\"colorscale\":[[0.0,\"#0d0887\"],[0.1111111111111111,\"#46039f\"],[0.2222222222222222,\"#7201a8\"],[0.3333333333333333,\"#9c179e\"],[0.4444444444444444,\"#bd3786\"],[0.5555555555555556,\"#d8576b\"],[0.6666666666666666,\"#ed7953\"],[0.7777777777777778,\"#fb9f3a\"],[0.8888888888888888,\"#fdca26\"],[1.0,\"#f0f921\"]],\"type\":\"histogram2d\"}],\"histogram2dcontour\":[{\"colorbar\":{\"outlinewidth\":0,\"ticks\":\"\"},\"colorscale\":[[0.0,\"#0d0887\"],[0.1111111111111111,\"#46039f\"],[0.2222222222222222,\"#7201a8\"],[0.3333333333333333,\"#9c179e\"],[0.4444444444444444,\"#bd3786\"],[0.5555555555555556,\"#d8576b\"],[0.6666666666666666,\"#ed7953\"],[0.7777777777777778,\"#fb9f3a\"],[0.8888888888888888,\"#fdca26\"],[1.0,\"#f0f921\"]],\"type\":\"histogram2dcontour\"}],\"mesh3d\":[{\"colorbar\":{\"outlinewidth\":0,\"ticks\":\"\"},\"type\":\"mesh3d\"}],\"parcoords\":[{\"line\":{\"colorbar\":{\"outlinewidth\":0,\"ticks\":\"\"}},\"type\":\"parcoords\"}],\"pie\":[{\"automargin\":true,\"type\":\"pie\"}],\"scatter\":[{\"marker\":{\"colorbar\":{\"outlinewidth\":0,\"ticks\":\"\"}},\"type\":\"scatter\"}],\"scatter3d\":[{\"line\":{\"colorbar\":{\"outlinewidth\":0,\"ticks\":\"\"}},\"marker\":{\"colorbar\":{\"outlinewidth\":0,\"ticks\":\"\"}},\"type\":\"scatter3d\"}],\"scattercarpet\":[{\"marker\":{\"colorbar\":{\"outlinewidth\":0,\"ticks\":\"\"}},\"type\":\"scattercarpet\"}],\"scattergeo\":[{\"marker\":{\"colorbar\":{\"outlinewidth\":0,\"ticks\":\"\"}},\"type\":\"scattergeo\"}],\"scattergl\":[{\"marker\":{\"colorbar\":{\"outlinewidth\":0,\"ticks\":\"\"}},\"type\":\"scattergl\"}],\"scattermapbox\":[{\"marker\":{\"colorbar\":{\"outlinewidth\":0,\"ticks\":\"\"}},\"type\":\"scattermapbox\"}],\"scatterpolar\":[{\"marker\":{\"colorbar\":{\"outlinewidth\":0,\"ticks\":\"\"}},\"type\":\"scatterpolar\"}],\"scatterpolargl\":[{\"marker\":{\"colorbar\":{\"outlinewidth\":0,\"ticks\":\"\"}},\"type\":\"scatterpolargl\"}],\"scatterternary\":[{\"marker\":{\"colorbar\":{\"outlinewidth\":0,\"ticks\":\"\"}},\"type\":\"scatterternary\"}],\"surface\":[{\"colorbar\":{\"outlinewidth\":0,\"ticks\":\"\"},\"colorscale\":[[0.0,\"#0d0887\"],[0.1111111111111111,\"#46039f\"],[0.2222222222222222,\"#7201a8\"],[0.3333333333333333,\"#9c179e\"],[0.4444444444444444,\"#bd3786\"],[0.5555555555555556,\"#d8576b\"],[0.6666666666666666,\"#ed7953\"],[0.7777777777777778,\"#fb9f3a\"],[0.8888888888888888,\"#fdca26\"],[1.0,\"#f0f921\"]],\"type\":\"surface\"}],\"table\":[{\"cells\":{\"fill\":{\"color\":\"#EBF0F8\"},\"line\":{\"color\":\"white\"}},\"header\":{\"fill\":{\"color\":\"#C8D4E3\"},\"line\":{\"color\":\"white\"}},\"type\":\"table\"}]},\"layout\":{\"annotationdefaults\":{\"arrowcolor\":\"#2a3f5f\",\"arrowhead\":0,\"arrowwidth\":1},\"autotypenumbers\":\"strict\",\"coloraxis\":{\"colorbar\":{\"outlinewidth\":0,\"ticks\":\"\"}},\"colorscale\":{\"diverging\":[[0,\"#8e0152\"],[0.1,\"#c51b7d\"],[0.2,\"#de77ae\"],[0.3,\"#f1b6da\"],[0.4,\"#fde0ef\"],[0.5,\"#f7f7f7\"],[0.6,\"#e6f5d0\"],[0.7,\"#b8e186\"],[0.8,\"#7fbc41\"],[0.9,\"#4d9221\"],[1,\"#276419\"]],\"sequential\":[[0.0,\"#0d0887\"],[0.1111111111111111,\"#46039f\"],[0.2222222222222222,\"#7201a8\"],[0.3333333333333333,\"#9c179e\"],[0.4444444444444444,\"#bd3786\"],[0.5555555555555556,\"#d8576b\"],[0.6666666666666666,\"#ed7953\"],[0.7777777777777778,\"#fb9f3a\"],[0.8888888888888888,\"#fdca26\"],[1.0,\"#f0f921\"]],\"sequentialminus\":[[0.0,\"#0d0887\"],[0.1111111111111111,\"#46039f\"],[0.2222222222222222,\"#7201a8\"],[0.3333333333333333,\"#9c179e\"],[0.4444444444444444,\"#bd3786\"],[0.5555555555555556,\"#d8576b\"],[0.6666666666666666,\"#ed7953\"],[0.7777777777777778,\"#fb9f3a\"],[0.8888888888888888,\"#fdca26\"],[1.0,\"#f0f921\"]]},\"colorway\":[\"#636efa\",\"#EF553B\",\"#00cc96\",\"#ab63fa\",\"#FFA15A\",\"#19d3f3\",\"#FF6692\",\"#B6E880\",\"#FF97FF\",\"#FECB52\"],\"font\":{\"color\":\"#2a3f5f\"},\"geo\":{\"bgcolor\":\"white\",\"lakecolor\":\"white\",\"landcolor\":\"#E5ECF6\",\"showlakes\":true,\"showland\":true,\"subunitcolor\":\"white\"},\"hoverlabel\":{\"align\":\"left\"},\"hovermode\":\"closest\",\"mapbox\":{\"style\":\"light\"},\"paper_bgcolor\":\"white\",\"plot_bgcolor\":\"#E5ECF6\",\"polar\":{\"angularaxis\":{\"gridcolor\":\"white\",\"linecolor\":\"white\",\"ticks\":\"\"},\"bgcolor\":\"#E5ECF6\",\"radialaxis\":{\"gridcolor\":\"white\",\"linecolor\":\"white\",\"ticks\":\"\"}},\"scene\":{\"xaxis\":{\"backgroundcolor\":\"#E5ECF6\",\"gridcolor\":\"white\",\"gridwidth\":2,\"linecolor\":\"white\",\"showbackground\":true,\"ticks\":\"\",\"zerolinecolor\":\"white\"},\"yaxis\":{\"backgroundcolor\":\"#E5ECF6\",\"gridcolor\":\"white\",\"gridwidth\":2,\"linecolor\":\"white\",\"showbackground\":true,\"ticks\":\"\",\"zerolinecolor\":\"white\"},\"zaxis\":{\"backgroundcolor\":\"#E5ECF6\",\"gridcolor\":\"white\",\"gridwidth\":2,\"linecolor\":\"white\",\"showbackground\":true,\"ticks\":\"\",\"zerolinecolor\":\"white\"}},\"shapedefaults\":{\"line\":{\"color\":\"#2a3f5f\"}},\"ternary\":{\"aaxis\":{\"gridcolor\":\"white\",\"linecolor\":\"white\",\"ticks\":\"\"},\"baxis\":{\"gridcolor\":\"white\",\"linecolor\":\"white\",\"ticks\":\"\"},\"bgcolor\":\"#E5ECF6\",\"caxis\":{\"gridcolor\":\"white\",\"linecolor\":\"white\",\"ticks\":\"\"}},\"title\":{\"x\":0.05},\"xaxis\":{\"automargin\":true,\"gridcolor\":\"white\",\"linecolor\":\"white\",\"ticks\":\"\",\"title\":{\"standoff\":15},\"zerolinecolor\":\"white\",\"zerolinewidth\":2},\"yaxis\":{\"automargin\":true,\"gridcolor\":\"white\",\"linecolor\":\"white\",\"ticks\":\"\",\"title\":{\"standoff\":15},\"zerolinecolor\":\"white\",\"zerolinewidth\":2}}},\"title\":{\"text\":\"Mr Beast Videos, Likes vs Views\"},\"width\":800,\"xaxis\":{\"anchor\":\"y\",\"domain\":[0.0,1.0],\"title\":{\"text\":\"viewCount\"}},\"yaxis\":{\"anchor\":\"x\",\"domain\":[0.0,1.0],\"title\":{\"text\":\"duration_seconds\"}}},                        {\"responsive\": true}                    ).then(function(){\n",
       "                            \n",
       "var gd = document.getElementById('24330796-21ff-473f-a594-190fd01694f2');\n",
       "var x = new MutationObserver(function (mutations, observer) {{\n",
       "        var display = window.getComputedStyle(gd).display;\n",
       "        if (!display || display === 'none') {{\n",
       "            console.log([gd, 'removed!']);\n",
       "            Plotly.purge(gd);\n",
       "            observer.disconnect();\n",
       "        }}\n",
       "}});\n",
       "\n",
       "// Listen for the removal of the full notebook cells\n",
       "var notebookContainer = gd.closest('#notebook-container');\n",
       "if (notebookContainer) {{\n",
       "    x.observe(notebookContainer, {childList: true});\n",
       "}}\n",
       "\n",
       "// Listen for the clearing of the current output cell\n",
       "var outputEl = gd.closest('.output');\n",
       "if (outputEl) {{\n",
       "    x.observe(outputEl, {childList: true});\n",
       "}}\n",
       "\n",
       "                        })                };                });            </script>        </div>"
      ]
     },
     "metadata": {},
     "output_type": "display_data"
    }
   ],
   "source": [
    "px.scatter(\n",
    "    data_frame=df_final,\n",
    "    x=\"viewCount\",\n",
    "    y=\"duration_seconds\",\n",
    "    color=\"commentCount\",\n",
    "    height=600,\n",
    "    width=800,\n",
    "    hover_data=[\"title\"],\n",
    "    title=\"Mr Beast Videos, Likes vs Views\",\n",
    ")"
   ]
  },
  {
   "cell_type": "code",
   "execution_count": 92,
   "metadata": {},
   "outputs": [
    {
     "data": {
      "image/png": "[encoded data removed]",
      "text/plain": [
       "<Figure size 640x480 with 1 Axes>"
      ]
     },
     "metadata": {},
     "output_type": "display_data"
    }
   ],
   "source": [
    "ax = df_final.set_index(\"publishTime\")[\"viewCount\"].plot(style=\".\")\n",
    "plt.show()"
   ]
  },
  {
   "cell_type": "code",
   "execution_count": 108,
   "metadata": {},
   "outputs": [],
   "source": [
    "channelTitle = df[\"channelTitle\"].values[0]"
   ]
  },
  {
   "cell_type": "code",
   "execution_count": 124,
   "metadata": {},
   "outputs": [],
   "source": [
    "df_final.to_csv(f\"../out/{channelTitle}/{channelTitle}_youtube_stats.csv\", index=False)"
   ]
  },
  {
   "cell_type": "markdown",
   "metadata": {},
   "source": [
    "# Pull Video Thumbnails?"
   ]
  },
  {
   "cell_type": "code",
   "execution_count": 125,
   "metadata": {},
   "outputs": [],
   "source": [
    "# !wget https://i.ytimg.com/vi/TQHEJj68Jew/hqdefault.jpg"
   ]
  },
  {
   "cell_type": "code",
   "execution_count": 131,
   "metadata": {},
   "outputs": [],
   "source": [
    "for i, d in df_final.dropna(subset=[\"thumbnails.high.url\"]).iterrows():\n",
    "    myurl = d[\"thumbnails.high.url\"]\n",
    "    videoId = d[\"id\"]\n",
    "    urllib.request.urlretrieve(myurl, f\"../out/{channelTitle}/thumbnails/{videoId}.jpg\")"
   ]
  },
  {
   "cell_type": "code",
   "execution_count": null,
   "metadata": {},
   "outputs": [],
   "source": []
  }
 ],
 "metadata": {
  "kernelspec": {
   "display_name": "Python 3 (ipykernel)",
   "language": "python",
   "name": "python3"
  },
  "language_info": {
   "codemirror_mode": {
    "name": "ipython",
    "version": 3
   },
   "file_extension": ".py",
   "mimetype": "text/x-python",
   "name": "python",
   "nbconvert_exporter": "python",
   "pygments_lexer": "ipython3",
   "version": "3.8.5"
  }
 },
 "nbformat": 4,
 "nbformat_minor": 4
}
