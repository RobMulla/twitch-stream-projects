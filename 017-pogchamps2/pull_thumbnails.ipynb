{
 "cells": [
  {
   "cell_type": "markdown",
   "id": "fad2ffa2-f119-4488-a2e4-643422e2d23a",
   "metadata": {},
   "source": [
    "# Pull Random Youtube Thumbnails"
   ]
  },
  {
   "cell_type": "code",
   "execution_count": 3,
   "id": "85f0bcde-cce1-408c-938d-7e54cb121b7f",
   "metadata": {},
   "outputs": [
    {
     "name": "stdout",
     "output_type": "stream",
     "text": [
      "/home/robmulla/anaconda3/envs/kaggle2/bin/python\n"
     ]
    }
   ],
   "source": [
    "!which python"
   ]
  },
  {
   "cell_type": "code",
   "execution_count": 4,
   "id": "b1f9c22b-51af-4327-b58d-f0c90e7acebb",
   "metadata": {},
   "outputs": [],
   "source": [
    "import pandas as pd\n",
    "import numpy as np\n",
    "import matplotlib.pylab as plt\n",
    "import os\n",
    "from googleapiclient.discovery import build\n",
    "\n",
    "%matplotlib inline\n",
    "%load_ext lab_black"
   ]
  },
  {
   "cell_type": "code",
   "execution_count": 98,
   "id": "107c0da0-c2d1-4196-baa5-6e23170a9e4f",
   "metadata": {},
   "outputs": [],
   "source": [
    "# with open(\"/home/robmulla/Repos/data-science-youtube-stats/apikey/youtube.key\") as f:\n",
    "#     youTubeApiKey = f.read()\n",
    "# # youTubeApiKey = _ #Read here\n",
    "# youtube = build(\"youtube\", \"v3\", developerKey=youTubeApiKey)"
   ]
  },
  {
   "cell_type": "code",
   "execution_count": 99,
   "id": "9ee38f35-1003-4c31-9926-7a087a8c1f51",
   "metadata": {},
   "outputs": [],
   "source": [
    "# youtube."
   ]
  },
  {
   "cell_type": "code",
   "execution_count": 108,
   "id": "f08de10c-ec03-4c0a-9a2d-8c63e26d56fb",
   "metadata": {},
   "outputs": [
    {
     "name": "stdout",
     "output_type": "stream",
     "text": [
      "Q1QW\n"
     ]
    }
   ],
   "source": [
    "import random, string\n",
    "\n",
    "ran = \"\".join(random.choices(string.ascii_letters + string.digits, k=4))\n",
    "print(ran)"
   ]
  },
  {
   "cell_type": "markdown",
   "id": "03f6374c-7548-491c-a9e3-a15c3ebac46f",
   "metadata": {},
   "source": [
    "# Different Categories"
   ]
  },
  {
   "cell_type": "code",
   "execution_count": 96,
   "id": "466820c2-64b6-41ca-a71b-47aa5d12fc16",
   "metadata": {},
   "outputs": [],
   "source": [
    "cats = {\n",
    "    1: \"Film & Animation\",\n",
    "    2: \"Autos & Vehicles\",\n",
    "    10: \"Music\",\n",
    "    15: \"Pets & Animals\",\n",
    "    17: \"Sports\",\n",
    "    19: \"Travel & Events\",\n",
    "    20: \"Gaming\",\n",
    "    22: \"People & Blogs\",\n",
    "    23: \"Comedy\",\n",
    "    24: \"Entertainment\",\n",
    "    25: \"News & Politics\",\n",
    "    26: \"Howto & Style\",\n",
    "    27: \"Education\",\n",
    "    28: \"Science & Technology\",\n",
    "    29: \"Nonprofits & Activism\",\n",
    "}"
   ]
  },
  {
   "cell_type": "markdown",
   "id": "c71066d2-4790-4877-b64c-324022f21a9a",
   "metadata": {},
   "source": [
    "# Get the official List of cats"
   ]
  },
  {
   "cell_type": "code",
   "execution_count": 97,
   "id": "e24824ac-8520-4b7f-979f-fba745c25f81",
   "metadata": {},
   "outputs": [
    {
     "ename": "TypeError",
     "evalue": "Missing required parameter \"part\"",
     "output_type": "error",
     "traceback": [
      "\u001b[0;31m---------------------------------------------------------------------------\u001b[0m",
      "\u001b[0;31mTypeError\u001b[0m                                 Traceback (most recent call last)",
      "\u001b[0;32m/tmp/ipykernel_2883502/3407190176.py\u001b[0m in \u001b[0;36m<module>\u001b[0;34m\u001b[0m\n\u001b[0;32m----> 1\u001b[0;31m request = youtube.videoCategories().list(\n\u001b[0m\u001b[1;32m      2\u001b[0m \u001b[0;34m\u001b[0m\u001b[0m\n\u001b[1;32m      3\u001b[0m )\n\u001b[1;32m      4\u001b[0m \u001b[0mresponse\u001b[0m \u001b[0;34m=\u001b[0m \u001b[0mrequest\u001b[0m\u001b[0;34m.\u001b[0m\u001b[0mexecute\u001b[0m\u001b[0;34m(\u001b[0m\u001b[0;34m)\u001b[0m\u001b[0;34m\u001b[0m\u001b[0;34m\u001b[0m\u001b[0m\n",
      "\u001b[0;32m~/anaconda3/envs/kaggle2/lib/python3.8/site-packages/googleapiclient/discovery.py\u001b[0m in \u001b[0;36mmethod\u001b[0;34m(self, **kwargs)\u001b[0m\n\u001b[1;32m   1032\u001b[0m                     \u001b[0m_methodProperties\u001b[0m\u001b[0;34m(\u001b[0m\u001b[0mmethodDesc\u001b[0m\u001b[0;34m,\u001b[0m \u001b[0mschema\u001b[0m\u001b[0;34m,\u001b[0m \u001b[0;34m\"response\"\u001b[0m\u001b[0;34m)\u001b[0m\u001b[0;34m\u001b[0m\u001b[0;34m\u001b[0m\u001b[0m\n\u001b[1;32m   1033\u001b[0m                 ):\n\u001b[0;32m-> 1034\u001b[0;31m                     \u001b[0;32mraise\u001b[0m \u001b[0mTypeError\u001b[0m\u001b[0;34m(\u001b[0m\u001b[0;34m'Missing required parameter \"%s\"'\u001b[0m \u001b[0;34m%\u001b[0m \u001b[0mname\u001b[0m\u001b[0;34m)\u001b[0m\u001b[0;34m\u001b[0m\u001b[0;34m\u001b[0m\u001b[0m\n\u001b[0m\u001b[1;32m   1035\u001b[0m \u001b[0;34m\u001b[0m\u001b[0m\n\u001b[1;32m   1036\u001b[0m         \u001b[0;32mfor\u001b[0m \u001b[0mname\u001b[0m\u001b[0;34m,\u001b[0m \u001b[0mregex\u001b[0m \u001b[0;32min\u001b[0m \u001b[0mparameters\u001b[0m\u001b[0;34m.\u001b[0m\u001b[0mpattern_params\u001b[0m\u001b[0;34m.\u001b[0m\u001b[0mitems\u001b[0m\u001b[0;34m(\u001b[0m\u001b[0;34m)\u001b[0m\u001b[0;34m:\u001b[0m\u001b[0;34m\u001b[0m\u001b[0;34m\u001b[0m\u001b[0m\n",
      "\u001b[0;31mTypeError\u001b[0m: Missing required parameter \"part\""
     ]
    }
   ],
   "source": [
    "request = youtube.videoCategories().list(\n",
    "\n",
    ")\n",
    "response = request.execute()"
   ]
  },
  {
   "cell_type": "code",
   "execution_count": 94,
   "id": "d7b3b6ce-da8f-4389-ad68-19c36d9b83b6",
   "metadata": {},
   "outputs": [],
   "source": [
    "for i in range(50):\n",
    "    request = youtube.search().list(\n",
    "        q=ran,\n",
    "        part=\"id,snippet\",\n",
    "        maxResults=1,\n",
    "        type=\"video\",\n",
    "        videoCategoryId=i,\n",
    "    )\n",
    "    response = request.execute()"
   ]
  },
  {
   "cell_type": "code",
   "execution_count": 89,
   "id": "66e0235d-4064-4780-8998-d5decb3b98bf",
   "metadata": {},
   "outputs": [
    {
     "data": {
      "text/plain": [
       "{'publishedAt': '2012-06-14T08:39:09Z',\n",
       " 'channelId': 'UCoge7KAFjebOZ96ORaoNYOg',\n",
       " 'title': 'Pokemon Rainbow - Face off of the vas Qwib Qwib time lapse',\n",
       " 'description': 'Pokemon (c) of nintendo games Maximillian \"Maxi\" and Rigby vas Qwib Qwib (c) of me :) Role Play characters for Pokemon ...',\n",
       " 'thumbnails': {'default': {'url': 'https://i.ytimg.com/vi/4IRKSneW31g/default.jpg',\n",
       "   'width': 120,\n",
       "   'height': 90},\n",
       "  'medium': {'url': 'https://i.ytimg.com/vi/4IRKSneW31g/mqdefault.jpg',\n",
       "   'width': 320,\n",
       "   'height': 180},\n",
       "  'high': {'url': 'https://i.ytimg.com/vi/4IRKSneW31g/hqdefault.jpg',\n",
       "   'width': 480,\n",
       "   'height': 360}},\n",
       " 'channelTitle': 'HowdyHeth',\n",
       " 'liveBroadcastContent': 'none',\n",
       " 'publishTime': '2012-06-14T08:39:09Z'}"
      ]
     },
     "execution_count": 89,
     "metadata": {},
     "output_type": "execute_result"
    }
   ],
   "source": [
    "response[\"items\"][0][\"snippet\"]"
   ]
  },
  {
   "cell_type": "code",
   "execution_count": null,
   "id": "ed67e259-0387-466a-910f-33c6980f4f21",
   "metadata": {},
   "outputs": [],
   "source": []
  },
  {
   "cell_type": "code",
   "execution_count": 49,
   "id": "ec80faf2-9179-46e8-8b1e-da33587fadc4",
   "metadata": {},
   "outputs": [],
   "source": [
    "from tqdm import tqdm\n",
    "import pandas as pd\n",
    "\n",
    "\n",
    "def get_search_results(query, channel_id, youtube):\n",
    "    nextPageToken = None\n",
    "    items = []\n",
    "    for _ in tqdm(range(20)):\n",
    "        r = (\n",
    "            youtube.search()\n",
    "            .list(\n",
    "                q=query,\n",
    "                part=\"id,snippet,categoryID\",\n",
    "                channelId=channel_id,\n",
    "                maxResults=50,\n",
    "                pageToken=nextPageToken,\n",
    "            )\n",
    "            .execute()\n",
    "        )\n",
    "        items += r[\"items\"]\n",
    "        if \"nextPageToken\" not in r.keys():\n",
    "            break\n",
    "        nextPageToken = r[\"nextPageToken\"]\n",
    "\n",
    "    df = pd.DataFrame(items)\n",
    "    df = pd.concat(\n",
    "        [\n",
    "            pd.json_normalize(df[\"id\"]),\n",
    "            pd.json_normalize(df[\"snippet\"]),\n",
    "        ],\n",
    "        axis=1,\n",
    "    )\n",
    "    return df"
   ]
  },
  {
   "cell_type": "code",
   "execution_count": 51,
   "id": "d9c48955-a93d-4a9d-bddd-f01d7cf9ad14",
   "metadata": {},
   "outputs": [
    {
     "name": "stderr",
     "output_type": "stream",
     "text": [
      "  5%|████▎                                                                                | 1/20 [00:00<00:08,  2.20it/s]\n"
     ]
    }
   ],
   "source": [
    "df = get_search_results(ran, None, youtube)"
   ]
  },
  {
   "cell_type": "code",
   "execution_count": 54,
   "id": "ebbd9d2d-3f60-4546-8a3a-72a74911a81b",
   "metadata": {},
   "outputs": [
    {
     "ename": "TypeError",
     "evalue": "Missing required parameter \"part\"",
     "output_type": "error",
     "traceback": [
      "\u001b[0;31m---------------------------------------------------------------------------\u001b[0m",
      "\u001b[0;31mTypeError\u001b[0m                                 Traceback (most recent call last)",
      "\u001b[0;32m/tmp/ipykernel_2883502/3963985774.py\u001b[0m in \u001b[0;36m<module>\u001b[0;34m\u001b[0m\n\u001b[0;32m----> 1\u001b[0;31m \u001b[0myoutube\u001b[0m\u001b[0;34m.\u001b[0m\u001b[0mvideos\u001b[0m\u001b[0;34m(\u001b[0m\u001b[0;34m)\u001b[0m\u001b[0;34m.\u001b[0m\u001b[0mlist\u001b[0m\u001b[0;34m(\u001b[0m\u001b[0;34m)\u001b[0m\u001b[0;34m\u001b[0m\u001b[0;34m\u001b[0m\u001b[0m\n\u001b[0m",
      "\u001b[0;32m~/anaconda3/envs/kaggle2/lib/python3.8/site-packages/googleapiclient/discovery.py\u001b[0m in \u001b[0;36mmethod\u001b[0;34m(self, **kwargs)\u001b[0m\n\u001b[1;32m   1032\u001b[0m                     \u001b[0m_methodProperties\u001b[0m\u001b[0;34m(\u001b[0m\u001b[0mmethodDesc\u001b[0m\u001b[0;34m,\u001b[0m \u001b[0mschema\u001b[0m\u001b[0;34m,\u001b[0m \u001b[0;34m\"response\"\u001b[0m\u001b[0;34m)\u001b[0m\u001b[0;34m\u001b[0m\u001b[0;34m\u001b[0m\u001b[0m\n\u001b[1;32m   1033\u001b[0m                 ):\n\u001b[0;32m-> 1034\u001b[0;31m                     \u001b[0;32mraise\u001b[0m \u001b[0mTypeError\u001b[0m\u001b[0;34m(\u001b[0m\u001b[0;34m'Missing required parameter \"%s\"'\u001b[0m \u001b[0;34m%\u001b[0m \u001b[0mname\u001b[0m\u001b[0;34m)\u001b[0m\u001b[0;34m\u001b[0m\u001b[0;34m\u001b[0m\u001b[0m\n\u001b[0m\u001b[1;32m   1035\u001b[0m \u001b[0;34m\u001b[0m\u001b[0m\n\u001b[1;32m   1036\u001b[0m         \u001b[0;32mfor\u001b[0m \u001b[0mname\u001b[0m\u001b[0;34m,\u001b[0m \u001b[0mregex\u001b[0m \u001b[0;32min\u001b[0m \u001b[0mparameters\u001b[0m\u001b[0;34m.\u001b[0m\u001b[0mpattern_params\u001b[0m\u001b[0;34m.\u001b[0m\u001b[0mitems\u001b[0m\u001b[0;34m(\u001b[0m\u001b[0;34m)\u001b[0m\u001b[0;34m:\u001b[0m\u001b[0;34m\u001b[0m\u001b[0;34m\u001b[0m\u001b[0m\n",
      "\u001b[0;31mTypeError\u001b[0m: Missing required parameter \"part\""
     ]
    }
   ],
   "source": [
    "youtube.videos().list()"
   ]
  }
 ],
 "metadata": {
  "kernelspec": {
   "display_name": "Python 3 (ipykernel)",
   "language": "python",
   "name": "python3"
  },
  "language_info": {
   "codemirror_mode": {
    "name": "ipython",
    "version": 3
   },
   "file_extension": ".py",
   "mimetype": "text/x-python",
   "name": "python",
   "nbconvert_exporter": "python",
   "pygments_lexer": "ipython3",
   "version": "3.8.5"
  }
 },
 "nbformat": 4,
 "nbformat_minor": 5
}
