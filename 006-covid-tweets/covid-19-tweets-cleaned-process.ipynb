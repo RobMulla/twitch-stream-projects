{
 "cells": [
  {
   "cell_type": "markdown",
   "metadata": {},
   "source": [
    "# Reviewing the Covid19 Tweet Dataset\n",
    "https://github.com/thepanacealab/covid19_twitter\n",
    "\n",
    "- \"Clean\" Dataset"
   ]
  },
  {
   "cell_type": "code",
   "execution_count": 1,
   "metadata": {},
   "outputs": [],
   "source": [
    "import pandas as pd\n",
    "\n",
    "%load_ext lab_black\n",
    "%matplotlib inline"
   ]
  },
  {
   "cell_type": "code",
   "execution_count": 2,
   "metadata": {},
   "outputs": [],
   "source": [
    "from glob import glob\n",
    "from tqdm import tqdm"
   ]
  },
  {
   "cell_type": "markdown",
   "metadata": {},
   "source": [
    "# Data To Gather\n",
    "1. Counts of Tweets Per Minute\n",
    "    - Clean dataset\n",
    "    - Raw Dataset\n",
    "2. Top 1000 Terms / Day\n",
    "3. \"\" Bigrams\n",
    "4. \"\" Trigrams"
   ]
  },
  {
   "cell_type": "markdown",
   "metadata": {},
   "source": [
    "# Covid19 Tweet Counts\n",
    "- Clean removes reweets\n",
    "- Raw includes everything"
   ]
  },
  {
   "cell_type": "code",
   "execution_count": 3,
   "metadata": {},
   "outputs": [],
   "source": [
    "dss = glob(\"covid19_twitter/dailies/*/*-dataset.tsv.gz\")\n",
    "dss_clean = [c for c in dss if \"clean\" in c]\n",
    "dss_raw = [c for c in dss if \"clean\" not in c]"
   ]
  },
  {
   "cell_type": "code",
   "execution_count": 5,
   "metadata": {},
   "outputs": [],
   "source": [
    "def by_minute_stats(filename):\n",
    "    \"\"\"\n",
    "    Read in a file from the covid-19 twitter chatter dataset\n",
    "    and format to by minute stats\n",
    "    \"\"\"\n",
    "    df = pd.read_csv(filename, sep=\"\\t\")\n",
    "    df[\"datetime\"] = df[\"date\"] + \" \" + df[\"time\"]\n",
    "    df[\"datetime\"] = pd.to_datetime(df[\"datetime\"])\n",
    "    df[\"datetime_round\"] = df[\"datetime\"].round(\"60s\")\n",
    "    if \"country_code\" in df.columns:\n",
    "        df[\"country_code\"] = df[\"country_code\"].fillna(\"None\")\n",
    "        df_counts = (\n",
    "            df.groupby([\"datetime_round\", \"lang\", \"country_code\"])\n",
    "            .size()\n",
    "            .reset_index()\n",
    "            .rename(columns={0: \"count\"})\n",
    "        )\n",
    "    else:\n",
    "        df_counts = (\n",
    "            df.groupby([\"datetime_round\"])\n",
    "            .size()\n",
    "            .reset_index()\n",
    "            .rename(columns={0: \"count\"})\n",
    "        )\n",
    "    return df_counts"
   ]
  },
  {
   "cell_type": "code",
   "execution_count": 6,
   "metadata": {},
   "outputs": [
    {
     "name": "stderr",
     "output_type": "stream",
     "text": [
      " 16%|█▋        | 102/624 [01:02<05:44,  1.51it/s]/home/robmulla/anaconda3/envs/kaggle/lib/python3.7/site-packages/ipykernel_launcher.py:4: DtypeWarning: Columns (4) have mixed types.Specify dtype option on import or set low_memory=False.\n",
      "  after removing the cwd from sys.path.\n",
      "100%|██████████| 624/624 [06:03<00:00,  1.72it/s]\n"
     ]
    }
   ],
   "source": [
    "# Read all Raw Tweet Counts\n",
    "all_counts = []\n",
    "for ds in tqdm(dss_clean):\n",
    "    df_counts = by_minute_stats(ds)\n",
    "    all_counts.append(df_counts)\n",
    "all_counts = pd.concat(all_counts)"
   ]
  },
  {
   "cell_type": "code",
   "execution_count": 12,
   "metadata": {},
   "outputs": [],
   "source": [
    "all_counts.to_csv(\"covid_tweet_chatter_clean.csv\", index=False)"
   ]
  },
  {
   "cell_type": "code",
   "execution_count": 13,
   "metadata": {},
   "outputs": [],
   "source": [
    "all_counts.to_parquet(\"covid_tweet_chatter_clean.parquet\")"
   ]
  },
  {
   "cell_type": "markdown",
   "metadata": {},
   "source": [
    "# DONE!"
   ]
  }
 ],
 "metadata": {
  "kernelspec": {
   "display_name": "Python 3",
   "language": "python",
   "name": "python3"
  },
  "language_info": {
   "codemirror_mode": {
    "name": "ipython",
    "version": 3
   },
   "file_extension": ".py",
   "mimetype": "text/x-python",
   "name": "python",
   "nbconvert_exporter": "python",
   "pygments_lexer": "ipython3",
   "version": "3.7.7"
  }
 },
 "nbformat": 4,
 "nbformat_minor": 4
}
