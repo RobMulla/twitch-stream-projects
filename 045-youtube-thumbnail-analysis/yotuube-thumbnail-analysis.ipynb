{
 "cells": [
  {
   "cell_type": "markdown",
   "id": "a9463aa7-6da2-430a-8c0f-0471e6e43d16",
   "metadata": {},
   "source": [
    "# Youtube Thumbnail Analysis"
   ]
  },
  {
   "cell_type": "code",
   "execution_count": 34,
   "id": "f24b3446-3f19-4031-9e75-975577d27dbb",
   "metadata": {},
   "outputs": [
    {
     "name": "stdout",
     "output_type": "stream",
     "text": [
      "The lab_black extension is already loaded. To reload it, use:\n",
      "  %reload_ext lab_black\n"
     ]
    }
   ],
   "source": [
    "import pandas as pd\n",
    "from tqdm import tqdm\n",
    "import urllib\n",
    "\n",
    "%load_ext lab_black"
   ]
  },
  {
   "cell_type": "markdown",
   "id": "f07d4624-60b0-49fe-a139-ec4ae382ef75",
   "metadata": {},
   "source": [
    "# Step 1. Download Thumbnails"
   ]
  },
  {
   "cell_type": "code",
   "execution_count": 35,
   "id": "b1db3f0e-b178-4f79-b2d5-fee8a1dd053a",
   "metadata": {},
   "outputs": [],
   "source": [
    "df = pd.read_csv(\"youtube-trending-video-dataset/US_youtube_trending_data.csv\")\n",
    "df[\"thumbnail_hq_link\"] = df[\"thumbnail_link\"].str.replace(\n",
    "    \"default.jpg\", \"hqdefault.jpg\", regex=False\n",
    ")\n",
    "df = df[[\"video_id\", \"thumbnail_hq_link\"]].drop_duplicates().reset_index(drop=True)"
   ]
  },
  {
   "cell_type": "code",
   "execution_count": 41,
   "id": "0d8097b8-b254-4786-9fbb-4f7156d01cca",
   "metadata": {},
   "outputs": [],
   "source": [
    "from urllib.error import HTTPError"
   ]
  },
  {
   "cell_type": "code",
   "execution_count": 44,
   "id": "15bce30c-bfcb-4987-ae81-c2e32ad34520",
   "metadata": {},
   "outputs": [],
   "source": [
    "def pull_thumbnails(df):\n",
    "    for i, d in tqdm(df.iterrows(), total=len(df)):\n",
    "        try:\n",
    "            myurl = d[\"thumbnail_hq_link\"]\n",
    "            videoId = d[\"video_id\"]\n",
    "            urllib.request.urlretrieve(myurl, f\"./thumbnails/{videoId}.jpg\")\n",
    "        except HTTPError:\n",
    "            # print(f\"No image for: {videoId} {myurl}\")\n",
    "            pass"
   ]
  },
  {
   "cell_type": "code",
   "execution_count": 45,
   "id": "ba0b1c67-efde-45f6-aecb-2423126c7513",
   "metadata": {},
   "outputs": [
    {
     "name": "stderr",
     "output_type": "stream",
     "text": [
      "100%|█████████████████████████████████████████████████████████████████████████████| 26374/26374 [28:11<00:00, 15.59it/s]\n"
     ]
    }
   ],
   "source": [
    "pull_thumbnails(df)"
   ]
  },
  {
   "cell_type": "code",
   "execution_count": null,
   "id": "b2d4ceba-75cf-4758-9d5c-50f7e1182e2e",
   "metadata": {},
   "outputs": [],
   "source": []
  }
 ],
 "metadata": {
  "kernelspec": {
   "display_name": "Python 3 (ipykernel)",
   "language": "python",
   "name": "python3"
  },
  "language_info": {
   "codemirror_mode": {
    "name": "ipython",
    "version": 3
   },
   "file_extension": ".py",
   "mimetype": "text/x-python",
   "name": "python",
   "nbconvert_exporter": "python",
   "pygments_lexer": "ipython3",
   "version": "3.8.5"
  }
 },
 "nbformat": 4,
 "nbformat_minor": 5
}
