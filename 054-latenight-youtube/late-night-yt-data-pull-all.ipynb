{
 "cells": [
  {
   "cell_type": "markdown",
   "id": "9db2d7ed-dbd3-49be-9297-621b20d505a2",
   "metadata": {},
   "source": [
    "# Pull All Late Night TV Show Youtube Stats"
   ]
  },
  {
   "cell_type": "code",
   "execution_count": 1,
   "id": "04a0cf72-eb3b-4499-8b17-51b7d4204a21",
   "metadata": {},
   "outputs": [],
   "source": [
    "import pandas as pd\n",
    "import matplotlib.pyplot as plt\n",
    "import sys\n",
    "from googleapiclient.discovery import build\n",
    "import os\n",
    "\n",
    "sys.path.append(\"../007-youtube-data-pull/\")\n",
    "\n",
    "from yt_pullers import pull_all_video_info, get_channel_id\n",
    "\n",
    "with open(\"/home/robmulla/Repos/data-science-youtube-stats/apikey/youtube.key\") as f:\n",
    "    youTubeApiKey = f.read()\n",
    "# youTubeApiKey = _ #Read here\n",
    "youtube = build(\"youtube\", \"v3\", developerKey=youTubeApiKey)\n",
    "\n",
    "%load_ext lab_black"
   ]
  },
  {
   "cell_type": "code",
   "execution_count": 2,
   "id": "a2551765-c7e9-4838-8e17-944930e65504",
   "metadata": {},
   "outputs": [],
   "source": [
    "def add_publish_cols(df):\n",
    "    df[\"publish_hour\"] = df[\"publishTime\"].dt.hour\n",
    "    df[\"publish_minute\"] = df[\"publishTime\"].dt.minute\n",
    "    df[\"publish_clock\"] = df[\"publish_hour\"] + df[\"publish_minute\"] / 60\n",
    "    df[\"publishTime\"] = pd.to_datetime(df[\"publishTime\"])\n",
    "    df[\"publishTimeEastern\"] = df[\"publishTime\"].dt.tz_convert(\"US/Eastern\")\n",
    "    df[\"publish_hour_eastern\"] = df[\"publishTimeEastern\"].dt.hour\n",
    "    df[\"publish_minute_eastern\"] = df[\"publishTimeEastern\"].dt.minute\n",
    "    df[\"publish_clock_eastern\"] = (\n",
    "        df[\"publish_hour_eastern\"] + df[\"publish_minute_eastern\"] / 60\n",
    "    )\n",
    "\n",
    "    df[\"viewCountM\"] = df[\"viewCount\"] / 1_000_000  # Million Views\n",
    "    return df"
   ]
  },
  {
   "cell_type": "markdown",
   "id": "ef3e77fb-3647-4584-9954-2fad1400a048",
   "metadata": {},
   "source": [
    "# Loop Through Channels and Years and Pull Video Data"
   ]
  },
  {
   "cell_type": "code",
   "execution_count": 3,
   "id": "ed75f64b-2fc6-444d-b3ba-0a0407487c2c",
   "metadata": {},
   "outputs": [
    {
     "name": "stdout",
     "output_type": "stream",
     "text": [
      "It exists! The_Late_Show_with_Stephen_Colbert-2020.csv\n",
      "It exists! The_Late_Show_with_Stephen_Colbert-2021.csv\n",
      "It exists! The_Late_Show_with_Stephen_Colbert-2022.csv\n",
      "It exists! Jimmy_Kimmel_Live-2020.csv\n",
      "It exists! Jimmy_Kimmel_Live-2021.csv\n",
      "It exists! Jimmy_Kimmel_Live-2022.csv\n"
     ]
    },
    {
     "name": "stderr",
     "output_type": "stream",
     "text": [
      " 20%|██████████████▊                                                           | 8/40 [00:02<00:11,  2.78it/s]\n"
     ]
    },
    {
     "name": "stdout",
     "output_type": "stream",
     "text": [
      "It exists! The_Tonight_Show_Starring_Jimmy_Fallon-2021.csv\n",
      "It exists! The_Tonight_Show_Starring_Jimmy_Fallon-2022.csv\n"
     ]
    },
    {
     "name": "stderr",
     "output_type": "stream",
     "text": [
      " 20%|██████████████▊                                                           | 8/40 [00:02<00:10,  3.01it/s]\n"
     ]
    },
    {
     "name": "stdout",
     "output_type": "stream",
     "text": [
      "It exists! Late_Night_with_Seth_Meyers-2021.csv\n",
      "It exists! Late_Night_with_Seth_Meyers-2022.csv\n"
     ]
    },
    {
     "name": "stderr",
     "output_type": "stream",
     "text": [
      " 22%|████████████████▋                                                         | 9/40 [00:03<00:10,  2.87it/s]\n"
     ]
    },
    {
     "name": "stdout",
     "output_type": "stream",
     "text": [
      "It exists! The_Daily_Show_with_Trevor_Noah-2021.csv\n",
      "It exists! The_Daily_Show_with_Trevor_Noah-2022.csv\n"
     ]
    }
   ],
   "source": [
    "channels = [\n",
    "    \"Stephen Colbert\",\n",
    "    \"Jimmy Kimmel\",\n",
    "    \"Jimmy Fallon\",\n",
    "    \"Seth Meyers\",\n",
    "    \"Daily Show\",\n",
    "]\n",
    "\n",
    "for channel in channels:\n",
    "    for year in [2020, 2021, 2022]:\n",
    "        _, channelTitle = get_channel_id(channel, youtube, return_name=True)\n",
    "        channelTitle = \"_\".join(channelTitle.split(\" \"))\n",
    "        if os.path.exists(f\"{channelTitle}-{year}.csv\"):\n",
    "            print(f\"It exists! {channelTitle}-{year}.csv\")\n",
    "            continue\n",
    "        df = pull_all_video_info(\n",
    "            channel,\n",
    "            youtube,\n",
    "            return_df=True,\n",
    "            publishedAfter=f\"{year}-01-01T00:00:00Z\",\n",
    "            publishedBefore=f\"{year}-12-31T00:00:00Z\",\n",
    "            max_results=2_000,\n",
    "        )\n",
    "        channelTitle = df[\"channelTitle\"].values[0]\n",
    "        df = add_publish_cols(df)\n",
    "        df.to_csv(f\"{channelTitle}-{year}.csv\", index=False)"
   ]
  },
  {
   "cell_type": "code",
   "execution_count": null,
   "id": "5c8b1e31-bf34-42e5-b358-9efb8d6a1c8e",
   "metadata": {},
   "outputs": [],
   "source": []
  }
 ],
 "metadata": {
  "kernelspec": {
   "display_name": "Python 3 (ipykernel)",
   "language": "python",
   "name": "python3"
  },
  "language_info": {
   "codemirror_mode": {
    "name": "ipython",
    "version": 3
   },
   "file_extension": ".py",
   "mimetype": "text/x-python",
   "name": "python",
   "nbconvert_exporter": "python",
   "pygments_lexer": "ipython3",
   "version": "3.8.5"
  }
 },
 "nbformat": 4,
 "nbformat_minor": 5
}
