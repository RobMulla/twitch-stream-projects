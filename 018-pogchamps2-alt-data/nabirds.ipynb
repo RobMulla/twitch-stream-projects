{
 "cells": [
  {
   "cell_type": "markdown",
   "id": "c04ca3bc-59bc-4cf4-978f-d2b9b78657e0",
   "metadata": {},
   "source": [
    "# NABirds Dataset"
   ]
  },
  {
   "cell_type": "code",
   "execution_count": 1,
   "id": "7ea5cffc-f57c-450f-9c08-ed82f8b818e1",
   "metadata": {},
   "outputs": [],
   "source": [
    "%load_ext lab_black"
   ]
  },
  {
   "cell_type": "code",
   "execution_count": 2,
   "id": "11b83531-8ba5-4ca7-96c0-410f1f0d2bd6",
   "metadata": {},
   "outputs": [],
   "source": [
    "import pandas as pd"
   ]
  },
  {
   "cell_type": "code",
   "execution_count": 3,
   "id": "8405716a-ae28-4a0c-898d-4351916b5eb4",
   "metadata": {},
   "outputs": [
    {
     "data": {
      "text/plain": [
       "((48562, 2), (48562, 2), (48562, 2), (48562, 3))"
      ]
     },
     "execution_count": 3,
     "metadata": {},
     "output_type": "execute_result"
    }
   ],
   "source": [
    "imgs = pd.read_csv(\"nabirds/images.txt\", sep=\" \", names=[\"id\", \"img\"])\n",
    "img_cls = pd.read_csv(\"nabirds/image_class_labels.txt\", sep=\" \", names=[\"id\", \"class\"])\n",
    "img_split = pd.read_csv(\n",
    "    \"nabirds/train_test_split.txt\", sep=\" \", names=[\"id\", \"is_test\"]\n",
    ")\n",
    "photogs = pd.read_csv(\n",
    "    \"nabirds/photographers.txt\", sep=\" \", names=[\"id\", \"photog_first\", \"photog_last\"]\n",
    ")\n",
    "imgs.shape, img_cls.shape, img_split.shape, photogs.shape"
   ]
  },
  {
   "cell_type": "code",
   "execution_count": 4,
   "id": "cf908f36-3f19-46de-b4e9-9fb56bf90b21",
   "metadata": {},
   "outputs": [],
   "source": [
    "cls_name = pd.read_csv(\"nabirds/classes.txt\", sep=\" \", names=[\"class\", \"name\"])"
   ]
  },
  {
   "cell_type": "code",
   "execution_count": 5,
   "id": "8ad27b04-1d46-4c57-a7ab-97af75392d39",
   "metadata": {},
   "outputs": [],
   "source": [
    "imgs = imgs.merge(img_cls).merge(img_split).merge(photogs).merge(cls_name)"
   ]
  },
  {
   "cell_type": "code",
   "execution_count": 8,
   "id": "fc805c5b-6cce-4bf1-b722-0b05e10aac91",
   "metadata": {},
   "outputs": [
    {
     "data": {
      "text/plain": [
       "120    79\n",
       "119    18\n",
       "116    15\n",
       "118    14\n",
       "103    12\n",
       "       ..\n",
       "30      1\n",
       "34      1\n",
       "52      1\n",
       "21      1\n",
       "13      1\n",
       "Name: class, Length: 95, dtype: int64"
      ]
     },
     "execution_count": 8,
     "metadata": {},
     "output_type": "execute_result"
    }
   ],
   "source": [
    "imgs[\"class\"].value_counts().value_counts()"
   ]
  },
  {
   "cell_type": "code",
   "execution_count": null,
   "id": "66dd91f0-7d81-4d82-86ef-9adc2fd0555a",
   "metadata": {},
   "outputs": [],
   "source": []
  }
 ],
 "metadata": {
  "kernelspec": {
   "display_name": "Python 3 (ipykernel)",
   "language": "python",
   "name": "python3"
  },
  "language_info": {
   "codemirror_mode": {
    "name": "ipython",
    "version": 3
   },
   "file_extension": ".py",
   "mimetype": "text/x-python",
   "name": "python",
   "nbconvert_exporter": "python",
   "pygments_lexer": "ipython3",
   "version": "3.8.5"
  }
 },
 "nbformat": 4,
 "nbformat_minor": 5
}
