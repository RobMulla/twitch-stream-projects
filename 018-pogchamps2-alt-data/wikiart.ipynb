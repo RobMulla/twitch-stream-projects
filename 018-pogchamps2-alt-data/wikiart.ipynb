{
 "cells": [
  {
   "cell_type": "markdown",
   "id": "46016fbc-34eb-4950-8586-5d0f0218402f",
   "metadata": {},
   "source": [
    "# Wikiart Dataset"
   ]
  },
  {
   "cell_type": "code",
   "execution_count": 4,
   "id": "8ae437b9-be44-460a-8fd3-3fb7b1d46b9c",
   "metadata": {},
   "outputs": [],
   "source": [
    "import pandas as pd\n",
    "from glob import glob"
   ]
  },
  {
   "cell_type": "code",
   "execution_count": 3,
   "id": "396302fc-dbf5-4978-b595-dd9329fa3bb0",
   "metadata": {},
   "outputs": [
    {
     "name": "stdout",
     "output_type": "stream",
     "text": [
      "total 10396\n",
      "-rw-rw-r-- 1 robmulla robmulla     406 Nov  9  2016 artist_class.txt\n",
      "-rw-rw-r-- 1 robmulla robmulla  865929 Feb 17  2017 artist_train.csv\n",
      "-rw-rw-r-- 1 robmulla robmulla  370345 Feb 17  2017 artist_val.csv\n",
      "-rw-rw-r-- 1 robmulla robmulla     156 Nov  5  2016 genre_class.txt\n",
      "-rw-rw-r-- 1 robmulla robmulla 2900018 Feb 17  2017 genre_train.csv\n",
      "-rw-rw-r-- 1 robmulla robmulla 1248086 Feb 17  2017 genre_val.csv\n",
      "-rw-rw-r-- 1 robmulla robmulla     462 Nov  8  2016 style_class.txt\n",
      "-rw-rw-r-- 1 robmulla robmulla 3658221 Feb 17  2017 style_train.csv\n",
      "-rw-rw-r-- 1 robmulla robmulla 1575672 Feb 17  2017 style_val.csv\n"
     ]
    }
   ],
   "source": [
    "!ls -l wikiart/"
   ]
  },
  {
   "cell_type": "code",
   "execution_count": 6,
   "id": "6b2ade1d-9d90-4468-8d7a-9b12da8df4c3",
   "metadata": {},
   "outputs": [],
   "source": [
    "csvs = glob('wikiart/*.csv')"
   ]
  },
  {
   "cell_type": "code",
   "execution_count": 15,
   "id": "f4429b0e-d7e7-461e-82e2-e7ca4ba483f3",
   "metadata": {},
   "outputs": [],
   "source": [
    "df = pd.read_csv(csvs[0], names=['img','label'])"
   ]
  },
  {
   "cell_type": "code",
   "execution_count": null,
   "id": "78e52915-95f8-46b7-96c5-2ddcd889d2c5",
   "metadata": {},
   "outputs": [],
   "source": []
  }
 ],
 "metadata": {
  "kernelspec": {
   "display_name": "Python 3 (ipykernel)",
   "language": "python",
   "name": "python3"
  },
  "language_info": {
   "codemirror_mode": {
    "name": "ipython",
    "version": 3
   },
   "file_extension": ".py",
   "mimetype": "text/x-python",
   "name": "python",
   "nbconvert_exporter": "python",
   "pygments_lexer": "ipython3",
   "version": "3.8.5"
  }
 },
 "nbformat": 4,
 "nbformat_minor": 5
}
