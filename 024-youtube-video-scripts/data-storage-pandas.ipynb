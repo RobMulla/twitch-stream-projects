{
 "cells": [
  {
   "cell_type": "code",
   "execution_count": 1,
   "id": "666d978a-77e5-4b8f-9a0f-ce9d3aee0d96",
   "metadata": {},
   "outputs": [],
   "source": [
    "import pandas as pd\n",
    "import numpy as np"
   ]
  },
  {
   "cell_type": "markdown",
   "id": "8785489a-b744-4d60-a40e-62e027a5d40f",
   "metadata": {},
   "source": [
    "## Create our dataset"
   ]
  },
  {
   "cell_type": "code",
   "execution_count": 79,
   "id": "a77aacae-e915-4c6b-ab19-956977b46d65",
   "metadata": {},
   "outputs": [],
   "source": [
    "def get_dataset(size):\n",
    "    # Create Fake Dataset\n",
    "    df = pd.DataFrame()\n",
    "    df['size'] = np.random.choice(['big','medium','small'], size)\n",
    "    df['age'] = np.random.randint(1, 50, size)\n",
    "    df['team'] = np.random.choice(['red','blue','yellow','green'], size)\n",
    "    df['win'] = np.random.choice(['yes','no'], size)\n",
    "    dates = pd.date_range('2020-01-01', '2022-12-31')\n",
    "    df['date'] = np.random.choice(dates, size)\n",
    "    df['prob'] = np.random.uniform(0, 1, size)\n",
    "    return df\n",
    "\n",
    "def set_dtypes(df):\n",
    "    df['size'] = df['size'].astype('category')\n",
    "    df['team'] = df['team'].astype('category')\n",
    "    df['age'] = df['age'].astype('int16')\n",
    "    df['win'] = df['win'].map({'yes':True, 'no': False})\n",
    "    df['prob'] = df['prob'].astype('float32')\n",
    "    return df\n"
   ]
  },
  {
   "cell_type": "markdown",
   "id": "f74ca422-bf13-4dd7-916c-03ed731f69fb",
   "metadata": {},
   "source": [
    "## CSV\n",
    "- 46 MB\n",
    "- 8.8s to save\n",
    "- 0.5s to read"
   ]
  },
  {
   "cell_type": "code",
   "execution_count": 26,
   "id": "e246ab60-f851-4d3c-abb0-95d78dad6a17",
   "metadata": {},
   "outputs": [
    {
     "name": "stdout",
     "output_type": "stream",
     "text": [
      "8.82 s ± 22.7 ms per loop (mean ± std. dev. of 7 runs, 1 loop each)\n"
     ]
    }
   ],
   "source": [
    "%%timeit\n",
    "df = get_dataset(1_000_000)\n",
    "df.to_csv('test_csv.csv', index=True)"
   ]
  },
  {
   "cell_type": "code",
   "execution_count": 27,
   "id": "69315595-5dd4-4408-ade8-177143b48801",
   "metadata": {},
   "outputs": [
    {
     "name": "stdout",
     "output_type": "stream",
     "text": [
      "562 ms ± 1.2 ms per loop (mean ± std. dev. of 7 runs, 1 loop each)\n"
     ]
    }
   ],
   "source": [
    "%%timeit\n",
    "df = pd.read_csv('test_csv.csv', index_col=[0])"
   ]
  },
  {
   "cell_type": "code",
   "execution_count": 28,
   "id": "1d05a744-1226-4ced-92ae-3991f82214db",
   "metadata": {},
   "outputs": [
    {
     "name": "stdout",
     "output_type": "stream",
     "text": [
      "53M -rw-rw-r-- 1 robmulla 53M Apr  2 14:12 test_csv.csv\n"
     ]
    }
   ],
   "source": [
    "!ls -GFlash test_csv.csv"
   ]
  },
  {
   "cell_type": "code",
   "execution_count": 31,
   "id": "48265ec2-7b37-4e27-a6c8-163bf96ed12c",
   "metadata": {},
   "outputs": [
    {
     "name": "stdout",
     "output_type": "stream",
     "text": [
      "<class 'pandas.core.frame.DataFrame'>\n",
      "RangeIndex: 1000000 entries, 0 to 999999\n",
      "Data columns (total 6 columns):\n",
      " #   Column  Non-Null Count    Dtype         \n",
      "---  ------  --------------    -----         \n",
      " 0   size    1000000 non-null  category      \n",
      " 1   age     1000000 non-null  int16         \n",
      " 2   team    1000000 non-null  category      \n",
      " 3   win     1000000 non-null  bool          \n",
      " 4   date    1000000 non-null  datetime64[ns]\n",
      " 5   prob    1000000 non-null  float16       \n",
      "dtypes: bool(1), category(2), datetime64[ns](1), float16(1), int16(1)\n",
      "memory usage: 14.3 MB\n"
     ]
    }
   ],
   "source": [
    "df = get_dataset(1_000_000)\n",
    "df = set_dtypes(df)\n",
    "df.info()"
   ]
  },
  {
   "cell_type": "code",
   "execution_count": 32,
   "id": "3d872213-fce1-4b6c-a420-01c1754f73d2",
   "metadata": {},
   "outputs": [],
   "source": [
    "df.to_csv('test_csv.csv', index=False)\n",
    "df = pd.read_csv('test_csv.csv')"
   ]
  },
  {
   "cell_type": "code",
   "execution_count": 33,
   "id": "71c18539-5b6f-40c4-b9be-025c97e183ba",
   "metadata": {},
   "outputs": [
    {
     "name": "stdout",
     "output_type": "stream",
     "text": [
      "<class 'pandas.core.frame.DataFrame'>\n",
      "RangeIndex: 1000000 entries, 0 to 999999\n",
      "Data columns (total 6 columns):\n",
      " #   Column  Non-Null Count    Dtype  \n",
      "---  ------  --------------    -----  \n",
      " 0   size    1000000 non-null  object \n",
      " 1   age     1000000 non-null  int64  \n",
      " 2   team    1000000 non-null  object \n",
      " 3   win     1000000 non-null  bool   \n",
      " 4   date    1000000 non-null  object \n",
      " 5   prob    1000000 non-null  float64\n",
      "dtypes: bool(1), float64(1), int64(1), object(3)\n",
      "memory usage: 39.1+ MB\n"
     ]
    }
   ],
   "source": [
    "df.info()"
   ]
  },
  {
   "cell_type": "code",
   "execution_count": 46,
   "id": "cc795695-ba02-45b2-8c66-7f529d686919",
   "metadata": {},
   "outputs": [
    {
     "name": "stdout",
     "output_type": "stream",
     "text": [
      "<class 'pandas.core.frame.DataFrame'>\n",
      "RangeIndex: 1000000 entries, 0 to 999999\n",
      "Data columns (total 6 columns):\n",
      " #   Column  Non-Null Count    Dtype   \n",
      "---  ------  --------------    -----   \n",
      " 0   size    1000000 non-null  category\n",
      " 1   age     1000000 non-null  int64   \n",
      " 2   team    1000000 non-null  category\n",
      " 3   win     1000000 non-null  bool    \n",
      " 4   date    1000000 non-null  object  \n",
      " 5   prob    1000000 non-null  float64 \n",
      "dtypes: bool(1), category(2), float64(1), int64(1), object(1)\n",
      "memory usage: 25.7+ MB\n"
     ]
    }
   ],
   "source": [
    "df = pd.read_csv('test_csv.csv',\n",
    "                 dtype={'size':'category',\n",
    "                       'int64':'int16',\n",
    "                       'team':'category',})\n",
    "df.info()"
   ]
  },
  {
   "cell_type": "markdown",
   "id": "f59a5b8a-436e-4927-8ebe-6d399c9eae82",
   "metadata": {},
   "source": [
    "# Pickle\n",
    "- 0.8s to write\n",
    "- 0.3s to read\n",
    "- 43MB"
   ]
  },
  {
   "cell_type": "code",
   "execution_count": 47,
   "id": "2581d528-8927-4cf6-87db-1dfe43bd3895",
   "metadata": {},
   "outputs": [
    {
     "name": "stdout",
     "output_type": "stream",
     "text": [
      "822 ms ± 9.87 ms per loop (mean ± std. dev. of 7 runs, 1 loop each)\n",
      "302 ms ± 2.75 ms per loop (mean ± std. dev. of 7 runs, 1 loop each)\n"
     ]
    }
   ],
   "source": [
    "df = get_dataset(1_000_000)\n",
    "%timeit df.to_pickle('test.pickle')\n",
    "%timeit df_pickle = pd.read_pickle('test.pickle')"
   ]
  },
  {
   "cell_type": "code",
   "execution_count": 48,
   "id": "727fc2dc-fabe-48e2-bbf1-a1317e25b3c0",
   "metadata": {},
   "outputs": [
    {
     "name": "stdout",
     "output_type": "stream",
     "text": [
      "43M -rw-rw-r-- 1 robmulla 43M Apr  2 14:22 test.pickle\n"
     ]
    }
   ],
   "source": [
    "!ls -GFlash test.pickle"
   ]
  },
  {
   "cell_type": "code",
   "execution_count": 49,
   "id": "82135207-3836-40f6-a00e-3f64e8bf3a38",
   "metadata": {},
   "outputs": [],
   "source": [
    "df = get_dataset(1_000_000)\n",
    "df = set_dtypes(df)\n",
    "df.to_pickle('test.pickle')\n",
    "df_pickle = pd.read_pickle('test.pickle')"
   ]
  },
  {
   "cell_type": "code",
   "execution_count": 51,
   "id": "c9210c43-1371-4133-9e83-272f00a982f4",
   "metadata": {},
   "outputs": [
    {
     "name": "stdout",
     "output_type": "stream",
     "text": [
      "<class 'pandas.core.frame.DataFrame'>\n",
      "RangeIndex: 1000000 entries, 0 to 999999\n",
      "Data columns (total 6 columns):\n",
      " #   Column  Non-Null Count    Dtype         \n",
      "---  ------  --------------    -----         \n",
      " 0   size    1000000 non-null  category      \n",
      " 1   age     1000000 non-null  int16         \n",
      " 2   team    1000000 non-null  category      \n",
      " 3   win     1000000 non-null  bool          \n",
      " 4   date    1000000 non-null  datetime64[ns]\n",
      " 5   prob    1000000 non-null  float16       \n",
      "dtypes: bool(1), category(2), datetime64[ns](1), float16(1), int16(1)\n",
      "memory usage: 14.3 MB\n"
     ]
    }
   ],
   "source": [
    "df_pickle.info()"
   ]
  },
  {
   "cell_type": "markdown",
   "id": "432c8c3e-2818-43be-9f31-184c90384940",
   "metadata": {},
   "source": [
    "# Parquet\n",
    "```\n",
    "!pip install pyarrow\n",
    "!pip install fastparquet\n",
    "```\n",
    "\n",
    "- 0.3ms to write\n",
    "- 0.08ms to read\n",
    "- 11MB"
   ]
  },
  {
   "cell_type": "code",
   "execution_count": 52,
   "id": "192ca518-f708-4fa2-af4c-b1363a315f51",
   "metadata": {},
   "outputs": [
    {
     "name": "stdout",
     "output_type": "stream",
     "text": [
      "308 ms ± 11.5 ms per loop (mean ± std. dev. of 7 runs, 1 loop each)\n",
      "82.3 ms ± 3.19 ms per loop (mean ± std. dev. of 7 runs, 10 loops each)\n"
     ]
    }
   ],
   "source": [
    "df = get_dataset(1_000_000)\n",
    "%timeit df.to_parquet('test.parquet')\n",
    "%timeit df_parquet = pd.read_parquet('test.parquet')"
   ]
  },
  {
   "cell_type": "code",
   "execution_count": 53,
   "id": "690ece0f-1afe-4def-b5a2-d08f03c025a1",
   "metadata": {},
   "outputs": [
    {
     "name": "stdout",
     "output_type": "stream",
     "text": [
      "11M -rw-rw-r-- 1 robmulla 11M Apr  2 14:25 test.parquet\n"
     ]
    }
   ],
   "source": [
    "!ls -GFlash test.parquet"
   ]
  },
  {
   "cell_type": "code",
   "execution_count": 56,
   "id": "54155385-eb54-4ffa-aaf7-5912b04b214a",
   "metadata": {},
   "outputs": [],
   "source": [
    "# Read in specific columns\n",
    "df_example = pd.read_parquet('test.parquet', columns=['date','win'])"
   ]
  },
  {
   "cell_type": "markdown",
   "id": "123f5358-a777-4f36-80e0-08f6d4778a98",
   "metadata": {},
   "source": [
    "# Feather\n",
    "- 0.22s write\n",
    "- 0.075s read\n",
    "- 29MB"
   ]
  },
  {
   "cell_type": "code",
   "execution_count": 57,
   "id": "7d92aba6-4f3a-4a84-9434-b562ef91bd1c",
   "metadata": {},
   "outputs": [
    {
     "name": "stdout",
     "output_type": "stream",
     "text": [
      "220 ms ± 3.18 ms per loop (mean ± std. dev. of 7 runs, 10 loops each)\n",
      "75.7 ms ± 1.74 ms per loop (mean ± std. dev. of 7 runs, 10 loops each)\n"
     ]
    }
   ],
   "source": [
    "df = get_dataset(1_000_000)\n",
    "%timeit df.to_feather('test.feather')\n",
    "%timeit df_feather = pd.read_feather('test.feather')"
   ]
  },
  {
   "cell_type": "code",
   "execution_count": 60,
   "id": "dffa2291-aab0-4e91-83d0-9f20c8b3cfe7",
   "metadata": {},
   "outputs": [
    {
     "name": "stdout",
     "output_type": "stream",
     "text": [
      "29M -rw-rw-r-- 1 robmulla 29M Apr  2 14:28 test.feather\n"
     ]
    }
   ],
   "source": [
    "!ls -GFlash test.feather"
   ]
  },
  {
   "cell_type": "markdown",
   "id": "9bf2ce98-457c-4b78-8bda-938cd7ec0c18",
   "metadata": {},
   "source": [
    "# CSV vs Pickle vs Parquet vs Feather"
   ]
  },
  {
   "cell_type": "code",
   "execution_count": 70,
   "id": "2245e087-9451-4643-94c8-620c487a8ff9",
   "metadata": {},
   "outputs": [
    {
     "name": "stdout",
     "output_type": "stream",
     "text": [
      "Reading and writing CSV\n",
      "CPU times: user 39 s, sys: 254 ms, total: 39.2 s\n",
      "Wall time: 39.3 s\n",
      "CPU times: user 2.12 s, sys: 124 ms, total: 2.24 s\n",
      "Wall time: 2.24 s\n"
     ]
    }
   ],
   "source": [
    "print('Reading and writing CSV')\n",
    "df = get_dataset(5_000_000)\n",
    "df = set_dtypes(df)\n",
    "%time df.to_csv('test.csv')\n",
    "%time df_csv = pd.read_csv('test.csv')"
   ]
  },
  {
   "cell_type": "code",
   "execution_count": 83,
   "id": "257cc020-d9d2-412e-81ad-fcae1ef59a13",
   "metadata": {},
   "outputs": [
    {
     "name": "stdout",
     "output_type": "stream",
     "text": [
      "Reading and writing Pickle\n",
      "CPU times: user 5.32 ms, sys: 64.2 ms, total: 69.5 ms\n",
      "Wall time: 249 ms\n",
      "CPU times: user 0 ns, sys: 30.2 ms, total: 30.2 ms\n",
      "Wall time: 30.2 ms\n"
     ]
    }
   ],
   "source": [
    "print('Reading and writing Pickle')\n",
    "df = get_dataset(5_000_000)\n",
    "df = set_dtypes(df)\n",
    "%time df.to_pickle('test.pickle')\n",
    "%time df_pickle = pd.read_pickle('test.pickle')"
   ]
  },
  {
   "cell_type": "code",
   "execution_count": 84,
   "id": "df797997-06b1-4bc4-a1b6-e1befd4c8889",
   "metadata": {},
   "outputs": [
    {
     "name": "stdout",
     "output_type": "stream",
     "text": [
      "Reading and writing Parquet\n",
      "CPU times: user 472 ms, sys: 52.3 ms, total: 524 ms\n",
      "Wall time: 512 ms\n",
      "CPU times: user 280 ms, sys: 124 ms, total: 404 ms\n",
      "Wall time: 129 ms\n"
     ]
    }
   ],
   "source": [
    "print('Reading and writing Parquet')\n",
    "df = get_dataset(5_000_000)\n",
    "df = set_dtypes(df)\n",
    "%time df.to_parquet('test.parquet')\n",
    "%time df_parquet = pd.read_parquet('test.parquet')"
   ]
  },
  {
   "cell_type": "code",
   "execution_count": 85,
   "id": "b054a17e-c8b1-42d8-bae4-6895ddc3b444",
   "metadata": {},
   "outputs": [
    {
     "name": "stdout",
     "output_type": "stream",
     "text": [
      "Reading and writing Feather\n",
      "CPU times: user 308 ms, sys: 79.3 ms, total: 387 ms\n",
      "Wall time: 307 ms\n",
      "CPU times: user 142 ms, sys: 88.3 ms, total: 230 ms\n",
      "Wall time: 102 ms\n"
     ]
    }
   ],
   "source": [
    "print('Reading and writing Feather')\n",
    "df = get_dataset(5_000_000)\n",
    "df = set_dtypes(df)\n",
    "%time df.to_feather('test.feather')\n",
    "%time df_feather = pd.read_feather('test.feather')"
   ]
  },
  {
   "cell_type": "code",
   "execution_count": 86,
   "id": "cbfc1f70-5db3-4f77-b07f-8e5c80ce81fa",
   "metadata": {},
   "outputs": [
    {
     "name": "stdout",
     "output_type": "stream",
     "text": [
      "215M -rw-rw-r-- 1 robmulla 215M Apr  2 14:41 test.csv\n",
      " 49M -rw-rw-r-- 1 robmulla  49M Apr  2 14:45 test.feather\n",
      " 33M -rw-rw-r-- 1 robmulla  33M Apr  2 14:45 test.parquet\n",
      " 82M -rw-rw-r-- 1 robmulla  82M Apr  2 14:45 test.pickle\n"
     ]
    }
   ],
   "source": [
    "!ls -GFlash test.csv test.pickle test.parquet test.feather"
   ]
  },
  {
   "cell_type": "code",
   "execution_count": null,
   "id": "db4a1fee-e8d8-4397-901a-e836111bc96f",
   "metadata": {},
   "outputs": [],
   "source": []
  }
 ],
 "metadata": {
  "kernelspec": {
   "display_name": "Python 3 (ipykernel)",
   "language": "python",
   "name": "python3"
  },
  "language_info": {
   "codemirror_mode": {
    "name": "ipython",
    "version": 3
   },
   "file_extension": ".py",
   "mimetype": "text/x-python",
   "name": "python",
   "nbconvert_exporter": "python",
   "pygments_lexer": "ipython3",
   "version": "3.8.5"
  }
 },
 "nbformat": 4,
 "nbformat_minor": 5
}
