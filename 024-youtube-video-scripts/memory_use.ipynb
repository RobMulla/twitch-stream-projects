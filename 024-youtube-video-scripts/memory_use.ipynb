{
 "cells": [
  {
   "cell_type": "markdown",
   "id": "cfce4a1a-75bb-4626-91d4-1bf63bc6f42c",
   "metadata": {},
   "source": [
    "# Efficient Memory use in Pandas"
   ]
  },
  {
   "cell_type": "code",
   "execution_count": 2,
   "id": "0d6f3b3b-32e0-4b32-bb7a-755bda2b9043",
   "metadata": {},
   "outputs": [],
   "source": [
    "import pandas as pd\n",
    "import numpy as np"
   ]
  },
  {
   "cell_type": "markdown",
   "id": "827987b9-af28-4c55-a643-51d139275d9a",
   "metadata": {},
   "source": [
    "## Create our Data"
   ]
  },
  {
   "cell_type": "code",
   "execution_count": 3,
   "id": "9466f30f-c208-4822-b4fe-d3c49a672ff4",
   "metadata": {},
   "outputs": [],
   "source": [
    "def get_dataset(size):\n",
    "    df = pd.DataFrame()\n",
    "    df['position'] = np.random.choice(['left','middle','right'], size)\n",
    "    df['age'] = np.random.randint(1, 50, size)\n",
    "    df['team'] = np.random.choice(['red','blue','yellow','green'], size)\n",
    "    df['win'] = np.random.choice(['yes','no'], size)\n",
    "    df['prob'] = np.random.uniform(0, 1, size)\n",
    "    return df"
   ]
  },
  {
   "cell_type": "code",
   "execution_count": 4,
   "id": "571fab7e-2d88-497d-b160-b0577e3685d6",
   "metadata": {},
   "outputs": [
    {
     "name": "stdout",
     "output_type": "stream",
     "text": [
      "<class 'pandas.core.frame.DataFrame'>\n",
      "RangeIndex: 1000000 entries, 0 to 999999\n",
      "Data columns (total 5 columns):\n",
      " #   Column    Non-Null Count    Dtype  \n",
      "---  ------    --------------    -----  \n",
      " 0   position  1000000 non-null  object \n",
      " 1   age       1000000 non-null  int64  \n",
      " 2   team      1000000 non-null  object \n",
      " 3   win       1000000 non-null  object \n",
      " 4   prob      1000000 non-null  float64\n",
      "dtypes: float64(1), int64(1), object(3)\n",
      "memory usage: 38.1+ MB\n"
     ]
    }
   ],
   "source": [
    "df = get_dataset(1_000_000)\n",
    "df.info()"
   ]
  },
  {
   "cell_type": "code",
   "execution_count": 5,
   "id": "3271fac7-7b9a-4c67-8dce-28ad35a01f35",
   "metadata": {},
   "outputs": [
    {
     "name": "stdout",
     "output_type": "stream",
     "text": [
      "397 ms ± 9.23 ms per loop (mean ± std. dev. of 7 runs, 1 loop each)\n",
      "441 ms ± 9.3 ms per loop (mean ± std. dev. of 7 runs, 1 loop each)\n",
      "510 ms ± 13.2 ms per loop (mean ± std. dev. of 7 runs, 1 loop each)\n"
     ]
    }
   ],
   "source": [
    "%timeit df['age_rank'] = df.groupby(['team','position'])['age'].rank()\n",
    "%timeit df['prob_rank'] = df.groupby(['team','position'])['prob'].rank()\n",
    "%timeit df['win_prob_rank'] = df.groupby(['team','position','win'])['prob'].rank()"
   ]
  },
  {
   "cell_type": "code",
   "execution_count": 6,
   "id": "41bc2704-d66d-4c35-a4cb-ddff8901ff87",
   "metadata": {},
   "outputs": [
    {
     "name": "stdout",
     "output_type": "stream",
     "text": [
      "<class 'pandas.core.frame.DataFrame'>\n",
      "RangeIndex: 1000000 entries, 0 to 999999\n",
      "Data columns (total 5 columns):\n",
      " #   Column    Non-Null Count    Dtype   \n",
      "---  ------    --------------    -----   \n",
      " 0   position  1000000 non-null  category\n",
      " 1   age       1000000 non-null  int64   \n",
      " 2   team      1000000 non-null  category\n",
      " 3   win       1000000 non-null  object  \n",
      " 4   prob      1000000 non-null  float64 \n",
      "dtypes: category(2), float64(1), int64(1), object(1)\n",
      "memory usage: 24.8+ MB\n"
     ]
    }
   ],
   "source": [
    "df = get_dataset(1_000_000)\n",
    "df['position'] = df['position'].astype('category')\n",
    "df['team'] = df['team'].astype('category')\n",
    "df.info()"
   ]
  },
  {
   "cell_type": "markdown",
   "id": "3be06ff3-baed-4e9c-b2a3-ee004eaa5549",
   "metadata": {},
   "source": [
    "## Downcasting Ints\n",
    "Value Range\n",
    "- int8 can store integers from -128 to 127.\n",
    "- int16 can store integers from -32768 to 32767.\n",
    "- int64 can store integers from -9223372036854775808 to 9223372036854775807."
   ]
  },
  {
   "cell_type": "code",
   "execution_count": 7,
   "id": "d37589c0-cfd1-4b8e-a67a-ec36d7609dbb",
   "metadata": {},
   "outputs": [
    {
     "name": "stdout",
     "output_type": "stream",
     "text": [
      "<class 'pandas.core.frame.DataFrame'>\n",
      "RangeIndex: 1000000 entries, 0 to 999999\n",
      "Data columns (total 5 columns):\n",
      " #   Column    Non-Null Count    Dtype   \n",
      "---  ------    --------------    -----   \n",
      " 0   position  1000000 non-null  category\n",
      " 1   age       1000000 non-null  int8    \n",
      " 2   team      1000000 non-null  category\n",
      " 3   win       1000000 non-null  object  \n",
      " 4   prob      1000000 non-null  float64 \n",
      "dtypes: category(2), float64(1), int8(1), object(1)\n",
      "memory usage: 18.1+ MB\n"
     ]
    }
   ],
   "source": [
    "df['age'] = df['age'].astype('int8')\n",
    "df.info()"
   ]
  },
  {
   "cell_type": "markdown",
   "id": "169cd894-725f-4548-9468-d7a177cb652b",
   "metadata": {},
   "source": [
    "## Downcasting Floats"
   ]
  },
  {
   "cell_type": "code",
   "execution_count": 8,
   "id": "062dca65-36b6-4ef8-945b-b65babfdcde2",
   "metadata": {},
   "outputs": [
    {
     "name": "stdout",
     "output_type": "stream",
     "text": [
      "<class 'pandas.core.frame.DataFrame'>\n",
      "RangeIndex: 1000000 entries, 0 to 999999\n",
      "Data columns (total 5 columns):\n",
      " #   Column    Non-Null Count    Dtype   \n",
      "---  ------    --------------    -----   \n",
      " 0   position  1000000 non-null  category\n",
      " 1   age       1000000 non-null  int8    \n",
      " 2   team      1000000 non-null  category\n",
      " 3   win       1000000 non-null  object  \n",
      " 4   prob      1000000 non-null  float32 \n",
      "dtypes: category(2), float32(1), int8(1), object(1)\n",
      "memory usage: 14.3+ MB\n"
     ]
    }
   ],
   "source": [
    "df['prob'] = df['prob'].astype('float32')\n",
    "df.info()"
   ]
  },
  {
   "cell_type": "markdown",
   "id": "36019b5f-6f73-4d48-855f-b50aa26d7296",
   "metadata": {},
   "source": [
    "## Casting bool (true/false)"
   ]
  },
  {
   "cell_type": "code",
   "execution_count": 9,
   "id": "7d8c22ad-1ad2-4b9e-99a7-e05b674d6e6a",
   "metadata": {},
   "outputs": [],
   "source": [
    "def set_dtypes(df):\n",
    "    df['position'] = df['position'].astype('category')\n",
    "    df['team'] = df['team'].astype('category')\n",
    "    df['age'] = df['age'].astype('int8')\n",
    "    df['prob'] = df['prob'].astype('float32')\n",
    "    df['win'] = df['win'].map({'yes':True, 'no':False})\n",
    "    return df"
   ]
  },
  {
   "cell_type": "markdown",
   "id": "571e175a-2e5c-4469-98c6-961f090309eb",
   "metadata": {},
   "source": [
    "## Time Comparison before/after casting dtypes"
   ]
  },
  {
   "cell_type": "code",
   "execution_count": 10,
   "id": "512f04cb-4d83-4c36-b351-25a44e2bf50d",
   "metadata": {},
   "outputs": [
    {
     "name": "stdout",
     "output_type": "stream",
     "text": [
      "359 ms ± 24.1 ms per loop (mean ± std. dev. of 7 runs, 1 loop each)\n",
      "459 ms ± 31.3 ms per loop (mean ± std. dev. of 7 runs, 1 loop each)\n",
      "530 ms ± 20.6 ms per loop (mean ± std. dev. of 7 runs, 1 loop each)\n"
     ]
    }
   ],
   "source": [
    "df = get_dataset(1_000_000)\n",
    "%timeit df['age_rank'] = df.groupby(['team','position'])['age'].rank()\n",
    "%timeit df['prob_rank'] = df.groupby(['team','position'])['prob'].rank()\n",
    "%timeit df['win_prob_rank'] = df.groupby(['team','position','win'])['prob'].rank()"
   ]
  },
  {
   "cell_type": "code",
   "execution_count": 11,
   "id": "12672e2b-db56-4a97-9dcc-8f22b3d9c423",
   "metadata": {},
   "outputs": [
    {
     "name": "stdout",
     "output_type": "stream",
     "text": [
      "215 ms ± 2.79 ms per loop (mean ± std. dev. of 7 runs, 1 loop each)\n",
      "324 ms ± 5.09 ms per loop (mean ± std. dev. of 7 runs, 1 loop each)\n",
      "349 ms ± 13.7 ms per loop (mean ± std. dev. of 7 runs, 1 loop each)\n"
     ]
    }
   ],
   "source": [
    "df = get_dataset(1_000_000)\n",
    "df = set_dtypes(df)\n",
    "%timeit df['age_rank'] = df.groupby(['team','position'])['age'].rank()\n",
    "%timeit df['prob_rank'] = df.groupby(['team','position'])['prob'].rank()\n",
    "%timeit df['win_prob_rank'] = df.groupby(['team','position','win'])['prob'].rank()"
   ]
  },
  {
   "cell_type": "markdown",
   "id": "11edd7df-d5ee-4e46-9688-c609d10bbdb3",
   "metadata": {},
   "source": [
    "## Larger Data"
   ]
  },
  {
   "cell_type": "code",
   "execution_count": null,
   "id": "52b07d7b-de8b-4538-ba28-5dee215cea4a",
   "metadata": {},
   "outputs": [],
   "source": [
    "df = get_dataset(10_000_000)\n",
    "%timeit df['age_rank'] = df.groupby(['team','position'])['age'].rank()\n",
    "%timeit df['prob_rank'] = df.groupby(['team','position'])['prob'].rank()\n",
    "%timeit df['win_prob_rank'] = df.groupby(['team','position','win'])['prob'].rank()"
   ]
  },
  {
   "cell_type": "code",
   "execution_count": null,
   "id": "bfda7b93-bdaf-4480-a0dc-388732191730",
   "metadata": {},
   "outputs": [],
   "source": [
    "df = get_dataset(10_000_000)\n",
    "df = set_dtypes(df)\n",
    "%timeit df['age_rank'] = df.groupby(['team','position'])['age'].rank()\n",
    "%timeit df['prob_rank'] = df.groupby(['team','position'])['prob'].rank()\n",
    "%timeit df['win_prob_rank'] = df.groupby(['team','position','win'])['prob'].rank()"
   ]
  }
 ],
 "metadata": {
  "kernelspec": {
   "display_name": "Python 3 (ipykernel)",
   "language": "python",
   "name": "python3"
  },
  "language_info": {
   "codemirror_mode": {
    "name": "ipython",
    "version": 3
   },
   "file_extension": ".py",
   "mimetype": "text/x-python",
   "name": "python",
   "nbconvert_exporter": "python",
   "pygments_lexer": "ipython3",
   "version": "3.8.5"
  }
 },
 "nbformat": 4,
 "nbformat_minor": 5
}
