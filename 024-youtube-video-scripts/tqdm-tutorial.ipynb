{
 "cells": [
  {
   "cell_type": "markdown",
   "id": "f59719ea-8ef7-4477-b5e6-900c63ae2870",
   "metadata": {},
   "source": [
    "# `tqdm` - An excelent progress bar for python\n",
    "![image.png](https://raw.githubusercontent.com/tqdm/tqdm/master/images/logo.gif)\n",
    "\n"
   ]
  },
  {
   "cell_type": "code",
   "execution_count": 1,
   "id": "4160fdd8-849b-47be-822e-e8d98718e981",
   "metadata": {},
   "outputs": [],
   "source": [
    "import pandas as pd\n",
    "import numpy as np\n",
    "from time import sleep\n",
    "from tqdm import tqdm, trange"
   ]
  },
  {
   "cell_type": "markdown",
   "id": "4dc0d470-171a-4e83-b2fe-4410b1ef9742",
   "metadata": {},
   "source": [
    "## Fake Data"
   ]
  },
  {
   "cell_type": "code",
   "execution_count": 2,
   "id": "192922c2-240b-4120-9466-e20ac436499c",
   "metadata": {},
   "outputs": [],
   "source": [
    "dogs = np.random.choice(['labradoodle','beagle','mutt'], size=50_000)\n",
    "smell = np.random.randint(0, 100, size=50_000)\n",
    "df = pd.DataFrame(data=np.array([dogs, smell]).T,\n",
    "                  columns=['dog','smell'])"
   ]
  },
  {
   "cell_type": "markdown",
   "id": "156936e7-4100-46d7-806f-ba56965ec902",
   "metadata": {},
   "source": [
    "## TQDM Basics"
   ]
  },
  {
   "cell_type": "code",
   "execution_count": 4,
   "id": "22c36213-55d5-4aa4-90ba-e8c1d495e1ac",
   "metadata": {},
   "outputs": [
    {
     "name": "stderr",
     "output_type": "stream",
     "text": [
      "  0%|                                                                           | 0/50000 [00:00<?, ?it/s]\n"
     ]
    }
   ],
   "source": [
    "for dog in tqdm(dogs):\n",
    "    sleep(0.000001)\n",
    "    break"
   ]
  },
  {
   "cell_type": "code",
   "execution_count": 7,
   "id": "f7a418e0-80e4-435b-af59-81d1723a1561",
   "metadata": {},
   "outputs": [
    {
     "name": "stderr",
     "output_type": "stream",
     "text": [
      " 90%|████████████████▏ | 45/50 [00:04<00:00,  9.70it/s]"
     ]
    },
    {
     "name": "stdout",
     "output_type": "stream",
     "text": [
      "done\n"
     ]
    },
    {
     "name": "stderr",
     "output_type": "stream",
     "text": [
      "\n"
     ]
    }
   ],
   "source": [
    "#trange example\n",
    "for i in trange(50, ncols=55):\n",
    "    sleep(0.1)\n",
    "print('done')"
   ]
  },
  {
   "cell_type": "code",
   "execution_count": 5,
   "id": "215d1b1b-99b6-4dc5-8beb-95afa89e27e8",
   "metadata": {},
   "outputs": [
    {
     "name": "stderr",
     "output_type": "stream",
     "text": [
      "100%|██████████████████████████████████████████████████████████████████▉| 50000/50001 [00:03<00:00, 15281.88it/s]\n"
     ]
    }
   ],
   "source": [
    "# Manually entering total length\n",
    "for dog in tqdm(dogs, total=50_001):\n",
    "    sleep(0.00001)"
   ]
  },
  {
   "cell_type": "code",
   "execution_count": 6,
   "id": "d861070b-8c3a-4a91-855f-6e05f6857814",
   "metadata": {},
   "outputs": [
    {
     "name": "stderr",
     "output_type": "stream",
     "text": [
      "100%|███████████████████████████████████████████████████████████████████| 50000/50000 [00:03<00:00, 15152.13it/s]\n"
     ]
    }
   ],
   "source": [
    "pbar = tqdm(total=50_000)\n",
    "for s in smell:\n",
    "    pbar.update(1)\n",
    "    sleep(0.00001)\n",
    "pbar.close()"
   ]
  },
  {
   "cell_type": "markdown",
   "id": "6a419c12-fcdb-40a2-90d0-b1853ebf745c",
   "metadata": {},
   "source": [
    "## Setting description and unit"
   ]
  },
  {
   "cell_type": "code",
   "execution_count": 7,
   "id": "d1ca4731-031d-4660-a636-82bc5008e1b4",
   "metadata": {},
   "outputs": [
    {
     "name": "stderr",
     "output_type": "stream",
     "text": [
      "dog counter: 100%|███████████████████████████████████████████████████| 50000/50000 [00:03<00:00, 15324.65barks/s]\n"
     ]
    }
   ],
   "source": [
    "for dog in tqdm(dogs, desc='dog counter', unit='barks'):\n",
    "    sleep(0.00001)"
   ]
  },
  {
   "cell_type": "markdown",
   "id": "cc933d87-3cf7-468f-9140-705c27e19277",
   "metadata": {},
   "source": [
    "## Nested progress bar"
   ]
  },
  {
   "cell_type": "code",
   "execution_count": 12,
   "id": "f9a5a296-6845-4a7d-9453-0b6ca0be4a11",
   "metadata": {},
   "outputs": [
    {
     "name": "stderr",
     "output_type": "stream",
     "text": [
      "dog counter:   0%|                                                                         | 0/5 [00:00<?, ?it/s]\n",
      "smell counter:   0%|                                                                       | 0/2 [00:00<?, ?it/s]\u001b[A\n",
      "smell counter:  50%|███████████████████████████████▌                               | 1/2 [00:00<00:00,  9.99it/s]\u001b[A\n",
      "smell counter: 100%|███████████████████████████████████████████████████████████████| 2/2 [00:00<00:00,  9.83it/s]\u001b[A\n",
      "dog counter:  20%|█████████████                                                    | 1/5 [00:00<00:00,  4.87it/s]\n",
      "smell counter:   0%|                                                                       | 0/2 [00:00<?, ?it/s]\u001b[A\n",
      "smell counter:  50%|███████████████████████████████▌                               | 1/2 [00:00<00:00,  9.98it/s]\u001b[A\n",
      "smell counter: 100%|███████████████████████████████████████████████████████████████| 2/2 [00:00<00:00,  9.76it/s]\u001b[A\n",
      "dog counter:  40%|██████████████████████████                                       | 2/5 [00:00<00:00,  4.82it/s]\n",
      "smell counter:   0%|                                                                       | 0/2 [00:00<?, ?it/s]\u001b[A\n",
      "smell counter:  50%|███████████████████████████████▌                               | 1/2 [00:00<00:00,  9.99it/s]\u001b[A\n",
      "smell counter: 100%|███████████████████████████████████████████████████████████████| 2/2 [00:00<00:00,  9.82it/s]\u001b[A\n",
      "dog counter:  60%|███████████████████████████████████████                          | 3/5 [00:00<00:00,  4.82it/s]\n",
      "smell counter:   0%|                                                                       | 0/2 [00:00<?, ?it/s]\u001b[A\n",
      "smell counter:  50%|███████████████████████████████▌                               | 1/2 [00:00<00:00,  9.99it/s]\u001b[A\n",
      "smell counter: 100%|███████████████████████████████████████████████████████████████| 2/2 [00:00<00:00,  9.83it/s]\u001b[A\n",
      "dog counter:  80%|████████████████████████████████████████████████████             | 4/5 [00:00<00:00,  4.82it/s]\n",
      "smell counter:   0%|                                                                       | 0/2 [00:00<?, ?it/s]\u001b[A\n",
      "smell counter:  50%|███████████████████████████████▌                               | 1/2 [00:00<00:00,  9.99it/s]\u001b[A\n",
      "smell counter: 100%|███████████████████████████████████████████████████████████████| 2/2 [00:00<00:00,  9.81it/s]\u001b[A\n",
      "dog counter: 100%|█████████████████████████████████████████████████████████████████| 5/5 [00:01<00:00,  4.82it/s]\n"
     ]
    }
   ],
   "source": [
    "for dog in tqdm(dogs[:5], desc='dog counter', total=5):\n",
    "    for s in tqdm(smell[:2], desc='smell counter', total=2):\n",
    "        sleep(0.1)"
   ]
  },
  {
   "cell_type": "markdown",
   "id": "0f1ed8b6-bcf8-40df-a067-a0f538cd06ad",
   "metadata": {},
   "source": [
    "## Dynamic description"
   ]
  },
  {
   "cell_type": "code",
   "execution_count": 19,
   "id": "4f69d850-8078-4801-a9e0-aadea315ea5f",
   "metadata": {},
   "outputs": [
    {
     "name": "stderr",
     "output_type": "stream",
     "text": [
      "Procressing beagle: 100%|████████████████████████████████████████████████████████| 10/10 [00:05<00:00,  1.99it/s]\n"
     ]
    }
   ],
   "source": [
    "pbar = tqdm(dogs[:10])\n",
    "for dog in pbar:\n",
    "    sleep(0.5)\n",
    "    pbar.set_description(f'Procressing {dog}')"
   ]
  },
  {
   "cell_type": "markdown",
   "id": "aaa60ff6-33b5-4178-bee9-00fe0f6fb2fc",
   "metadata": {},
   "source": [
    "## Control bar size"
   ]
  },
  {
   "cell_type": "code",
   "execution_count": 21,
   "id": "bd51e09d-0248-402b-a0a8-7cd9ccad91e0",
   "metadata": {},
   "outputs": [
    {
     "name": "stderr",
     "output_type": "stream",
     "text": [
      "100%|███| 9999999/9999999 [00:01<00:00, 5141150.25it/s]\n"
     ]
    }
   ],
   "source": [
    "for i in tqdm(range(9999999), ncols=55):\n",
    "    pass"
   ]
  },
  {
   "cell_type": "code",
   "execution_count": 22,
   "id": "a677d11c-bce7-41ca-9461-b156c622cc38",
   "metadata": {},
   "outputs": [
    {
     "name": "stderr",
     "output_type": "stream",
     "text": [
      "100%|█| 9999999/9999\n"
     ]
    }
   ],
   "source": [
    "# Remove the time stats\n",
    "for i in tqdm(range(9999999), ncols=20):\n",
    "    pass"
   ]
  },
  {
   "cell_type": "code",
   "execution_count": 23,
   "id": "8ca608c7-fa45-4287-9397-8e65552475d2",
   "metadata": {},
   "outputs": [
    {
     "name": "stderr",
     "output_type": "stream",
     "text": [
      "100%\n"
     ]
    }
   ],
   "source": [
    "# Only show %\n",
    "for i in tqdm(range(9999999), ncols=4):\n",
    "    pass"
   ]
  },
  {
   "cell_type": "markdown",
   "id": "b55b9720-9092-424d-92c3-d4f6d1df2784",
   "metadata": {},
   "source": [
    "## Setting the interval"
   ]
  },
  {
   "cell_type": "code",
   "execution_count": 33,
   "id": "0e70a602-d03c-482d-ad3e-dd6bc5862604",
   "metadata": {},
   "outputs": [
    {
     "name": "stderr",
     "output_type": "stream",
     "text": [
      "100%|███████████████████████████████████████████████████████████████████| 50000/50000 [00:03<00:00, 15402.51it/s]\n"
     ]
    }
   ],
   "source": [
    "for dog in tqdm(dogs, mininterval=1):\n",
    "    sleep(0.00001)"
   ]
  },
  {
   "cell_type": "code",
   "execution_count": 35,
   "id": "3794dbc2-44c9-4feb-9dce-6c6d99e89c64",
   "metadata": {},
   "outputs": [
    {
     "name": "stderr",
     "output_type": "stream",
     "text": [
      "100%|███████████████████████████████████████████████████████████████████| 50000/50000 [00:03<00:00, 15220.95it/s]\n"
     ]
    }
   ],
   "source": [
    "for dog in tqdm(dogs, maxinterval=100):\n",
    "    sleep(0.00001)"
   ]
  },
  {
   "cell_type": "markdown",
   "id": "e0fe1b92-9933-4520-8c31-fc3b7933d326",
   "metadata": {},
   "source": [
    "## Disabling progress bar"
   ]
  },
  {
   "cell_type": "code",
   "execution_count": 39,
   "id": "9d609386-971d-48eb-8792-717cf82ae997",
   "metadata": {},
   "outputs": [],
   "source": [
    "debug = False\n",
    "for s in tqdm(smell, disable=not debug):\n",
    "    sleep(0.00001)"
   ]
  },
  {
   "cell_type": "markdown",
   "id": "5854d65b-58f7-4feb-9414-d62794b82126",
   "metadata": {},
   "source": [
    "## Custom bar formatting\n",
    "\n",
    "```\n",
    "l_bar, bar, r_bar, n, n_fmt, total, total_fmt,\n",
    " |            percentage, elapsed, elapsed_s, ncols, nrows, desc, unit,\n",
    " |            rate, rate_fmt, rate_noinv, rate_noinv_fmt,\n",
    " |            rate_inv, rate_inv_fmt, postfix, unit_divisor,\n",
    " |            remaining, remaining_s, eta.\n",
    " ```"
   ]
  },
  {
   "cell_type": "code",
   "execution_count": 49,
   "id": "16d5294c-80c4-45a7-af5e-a7a32a5f5cb0",
   "metadata": {},
   "outputs": [
    {
     "name": "stderr",
     "output_type": "stream",
     "text": [
      "| 50000/50000 [00:00<00:00, 1273517.37it/s]████████████████████████████████████████████████████100%|\n"
     ]
    }
   ],
   "source": [
    "for dog in tqdm(dogs, bar_format='{r_bar}{bar}{l_bar}', ncols=100):\n",
    "    pass"
   ]
  },
  {
   "cell_type": "markdown",
   "id": "35e3c304-203b-485d-8895-d5b1630502ca",
   "metadata": {},
   "source": [
    "# TQDM + Pandas"
   ]
  },
  {
   "cell_type": "code",
   "execution_count": 60,
   "id": "976619e3-fd1c-4f3c-99b0-5bfb373d7d9b",
   "metadata": {},
   "outputs": [
    {
     "name": "stderr",
     "output_type": "stream",
     "text": [
      "dog bar: 100%|██████████████████████████████████████████████████████████| 50000/50000 [00:00<00:00, 96546.80it/s]\n"
     ]
    }
   ],
   "source": [
    "tqdm.pandas(desc='dog bar')\n",
    "\n",
    "out = df.progress_apply(lambda row: row['smell']**2, axis=1)"
   ]
  },
  {
   "cell_type": "code",
   "execution_count": 64,
   "id": "3fd6e0f7-705c-48f1-8e0d-b2b9aadde45c",
   "metadata": {},
   "outputs": [
    {
     "name": "stderr",
     "output_type": "stream",
     "text": [
      "dog bar: 100%|████████████████████████████████████████████████████████████████████| 3/3 [00:00<00:00, 241.26it/s]\n"
     ]
    }
   ],
   "source": [
    "out = df.groupby('dog').progress_apply(lambda row: row['smell']**2)"
   ]
  },
  {
   "cell_type": "markdown",
   "id": "defd53e5-f5ef-4d49-8704-fa96e06e6e2c",
   "metadata": {},
   "source": [
    "## TQDM in Notebook"
   ]
  },
  {
   "cell_type": "code",
   "execution_count": 66,
   "id": "edb8ffd0-7143-4984-9388-361f1d762544",
   "metadata": {},
   "outputs": [],
   "source": [
    "from tqdm.notebook import tqdm"
   ]
  },
  {
   "cell_type": "code",
   "execution_count": 67,
   "id": "1317a115-2fc0-486e-8d98-59b745243fb1",
   "metadata": {},
   "outputs": [
    {
     "data": {
      "application/vnd.jupyter.widget-view+json": {
       "model_id": "953eecf466794c898350b1560b1a79c4",
       "version_major": 2,
       "version_minor": 0
      },
      "text/plain": [
       "  0%|          | 0/50000 [00:00<?, ?it/s]"
      ]
     },
     "metadata": {},
     "output_type": "display_data"
    }
   ],
   "source": [
    "for dog in tqdm(dogs):\n",
    "    sleep(0.000001)"
   ]
  },
  {
   "cell_type": "code",
   "execution_count": 76,
   "id": "ffb4e07b-cea6-4dd6-b192-491c67d3417c",
   "metadata": {},
   "outputs": [
    {
     "data": {
      "application/vnd.jupyter.widget-view+json": {
       "model_id": "e2aa6b1570eb45419f5d6d85901534b9",
       "version_major": 2,
       "version_minor": 0
      },
      "text/plain": [
       "  0%|          | 0/50000 [00:00<?, ?it/s]"
      ]
     },
     "metadata": {},
     "output_type": "display_data"
    }
   ],
   "source": [
    "counter = 0\n",
    "for dog in tqdm(dogs):\n",
    "    if dog == \"beagle\":\n",
    "        counter += 1\n",
    "    if counter == 10_000:\n",
    "        break"
   ]
  },
  {
   "cell_type": "markdown",
   "id": "2995f37f-c88c-4a02-8e6b-6c82b3523b61",
   "metadata": {},
   "source": [
    "## TQDM auto"
   ]
  },
  {
   "cell_type": "code",
   "execution_count": 77,
   "id": "2a5be318-d3e5-4693-b8f6-02686a87b892",
   "metadata": {},
   "outputs": [],
   "source": [
    "from tqdm.auto import tqdm"
   ]
  },
  {
   "cell_type": "markdown",
   "id": "a4ab706b-2d12-4bcb-a6ba-3c44a3c8e5a7",
   "metadata": {},
   "source": [
    "## TQDM in the command line"
   ]
  },
  {
   "cell_type": "code",
   "execution_count": 81,
   "id": "50b95fd5-50f5-4855-98d2-bfdaa69d6b3c",
   "metadata": {},
   "outputs": [
    {
     "name": "stdout",
     "output_type": "stream",
     "text": [
      "75.2MB [00:00, 271MB/s]\n",
      "9999999\n"
     ]
    }
   ],
   "source": [
    "!seq 9999999 | python3 -m tqdm --bytes | wc -l"
   ]
  },
  {
   "cell_type": "markdown",
   "id": "b78f7009-1ec9-4fa9-bdb5-d991ecdc646c",
   "metadata": {},
   "source": [
    "## Read the docs!"
   ]
  },
  {
   "cell_type": "code",
   "execution_count": 82,
   "id": "d9c0782f-b962-47af-bca7-32427518364b",
   "metadata": {},
   "outputs": [
    {
     "name": "stdout",
     "output_type": "stream",
     "text": [
      "Help on class tqdm in module tqdm.auto:\n",
      "\n",
      "class tqdm(tqdm.notebook.tqdm_notebook, tqdm.asyncio.tqdm_asyncio)\n",
      " |  tqdm(*_, **__)\n",
      " |  \n",
      " |  Experimental IPython/Jupyter Notebook widget using tqdm!\n",
      " |  \n",
      " |  Method resolution order:\n",
      " |      tqdm\n",
      " |      tqdm.notebook.tqdm_notebook\n",
      " |      tqdm.asyncio.tqdm_asyncio\n",
      " |      tqdm.std.tqdm\n",
      " |      tqdm.utils.Comparable\n",
      " |      builtins.object\n",
      " |  \n",
      " |  Methods inherited from tqdm.notebook.tqdm_notebook:\n",
      " |  \n",
      " |  __init__(self, *args, **kwargs)\n",
      " |      Supports the usual `tqdm.tqdm` parameters as well as those listed below.\n",
      " |      \n",
      " |      Parameters\n",
      " |      ----------\n",
      " |      display  : Whether to call `display(self.container)` immediately\n",
      " |          [default: True].\n",
      " |  \n",
      " |  __iter__(self)\n",
      " |      Backward-compatibility to use: for x in tqdm(iterable)\n",
      " |  \n",
      " |  clear(self, *_, **__)\n",
      " |      Clear current bar display.\n",
      " |  \n",
      " |  close(self)\n",
      " |      Cleanup and (if leave=False) close the progressbar.\n",
      " |  \n",
      " |  display(self, msg=None, pos=None, close=False, bar_style=None, check_delay=True)\n",
      " |      Use `self.sp` to display `msg` in the specified `pos`.\n",
      " |      \n",
      " |      Consider overloading this function when inheriting to use e.g.:\n",
      " |      `self.some_frontend(**self.format_dict)` instead of `self.sp`.\n",
      " |      \n",
      " |      Parameters\n",
      " |      ----------\n",
      " |      msg  : str, optional. What to display (default: `repr(self)`).\n",
      " |      pos  : int, optional. Position to `moveto`\n",
      " |        (default: `abs(self.pos)`).\n",
      " |  \n",
      " |  reset(self, total=None)\n",
      " |      Resets to 0 iterations for repeated use.\n",
      " |      \n",
      " |      Consider combining with `leave=True`.\n",
      " |      \n",
      " |      Parameters\n",
      " |      ----------\n",
      " |      total  : int or float, optional. Total to use for the new bar.\n",
      " |  \n",
      " |  update(self, n=1)\n",
      " |      Manually update the progress bar, useful for streams\n",
      " |      such as reading files.\n",
      " |      E.g.:\n",
      " |      >>> t = tqdm(total=filesize) # Initialise\n",
      " |      >>> for current_buffer in stream:\n",
      " |      ...    ...\n",
      " |      ...    t.update(len(current_buffer))\n",
      " |      >>> t.close()\n",
      " |      The last line is highly recommended, but possibly not necessary if\n",
      " |      `t.update()` will be called in such a way that `filesize` will be\n",
      " |      exactly reached and printed.\n",
      " |      \n",
      " |      Parameters\n",
      " |      ----------\n",
      " |      n  : int or float, optional\n",
      " |          Increment to add to the internal counter of iterations\n",
      " |          [default: 1]. If using float, consider specifying `{n:.3f}`\n",
      " |          or similar in `bar_format`, or specifying `unit_scale`.\n",
      " |      \n",
      " |      Returns\n",
      " |      -------\n",
      " |      out  : bool or None\n",
      " |          True if a `display()` was triggered.\n",
      " |  \n",
      " |  ----------------------------------------------------------------------\n",
      " |  Static methods inherited from tqdm.notebook.tqdm_notebook:\n",
      " |  \n",
      " |  status_printer(_, total=None, desc=None, ncols=None)\n",
      " |      Manage the printing of an IPython/Jupyter Notebook progress bar widget.\n",
      " |  \n",
      " |  ----------------------------------------------------------------------\n",
      " |  Data descriptors inherited from tqdm.notebook.tqdm_notebook:\n",
      " |  \n",
      " |  colour\n",
      " |  \n",
      " |  ----------------------------------------------------------------------\n",
      " |  Methods inherited from tqdm.asyncio.tqdm_asyncio:\n",
      " |  \n",
      " |  __aiter__(self)\n",
      " |  \n",
      " |  async __anext__(self)\n",
      " |  \n",
      " |  send(self, *args, **kwargs)\n",
      " |  \n",
      " |  ----------------------------------------------------------------------\n",
      " |  Class methods inherited from tqdm.asyncio.tqdm_asyncio:\n",
      " |  \n",
      " |  as_completed(fs, *, loop=None, timeout=None, total=None, **tqdm_kwargs) from builtins.type\n",
      " |      Wrapper for `asyncio.as_completed`.\n",
      " |  \n",
      " |  async gather(*fs, loop=None, timeout=None, total=None, **tqdm_kwargs) from builtins.type\n",
      " |      Wrapper for `asyncio.gather`.\n",
      " |  \n",
      " |  ----------------------------------------------------------------------\n",
      " |  Methods inherited from tqdm.std.tqdm:\n",
      " |  \n",
      " |  __bool__(self)\n",
      " |  \n",
      " |  __del__(self)\n",
      " |  \n",
      " |  __enter__(self)\n",
      " |  \n",
      " |  __exit__(self, exc_type, exc_value, traceback)\n",
      " |  \n",
      " |  __hash__(self)\n",
      " |      Return hash(self).\n",
      " |  \n",
      " |  __len__(self)\n",
      " |  \n",
      " |  __nonzero__(self)\n",
      " |  \n",
      " |  __str__(self)\n",
      " |      Return str(self).\n",
      " |  \n",
      " |  moveto(self, n)\n",
      " |  \n",
      " |  refresh(self, nolock=False, lock_args=None)\n",
      " |      Force refresh the display of this bar.\n",
      " |      \n",
      " |      Parameters\n",
      " |      ----------\n",
      " |      nolock  : bool, optional\n",
      " |          If `True`, does not lock.\n",
      " |          If [default: `False`]: calls `acquire()` on internal lock.\n",
      " |      lock_args  : tuple, optional\n",
      " |          Passed to internal lock's `acquire()`.\n",
      " |          If specified, will only `display()` if `acquire()` returns `True`.\n",
      " |  \n",
      " |  set_description(self, desc=None, refresh=True)\n",
      " |      Set/modify description of the progress bar.\n",
      " |      \n",
      " |      Parameters\n",
      " |      ----------\n",
      " |      desc  : str, optional\n",
      " |      refresh  : bool, optional\n",
      " |          Forces refresh [default: True].\n",
      " |  \n",
      " |  set_description_str(self, desc=None, refresh=True)\n",
      " |      Set/modify description without ': ' appended.\n",
      " |  \n",
      " |  set_postfix(self, ordered_dict=None, refresh=True, **kwargs)\n",
      " |      Set/modify postfix (additional stats)\n",
      " |      with automatic formatting based on datatype.\n",
      " |      \n",
      " |      Parameters\n",
      " |      ----------\n",
      " |      ordered_dict  : dict or OrderedDict, optional\n",
      " |      refresh  : bool, optional\n",
      " |          Forces refresh [default: True].\n",
      " |      kwargs  : dict, optional\n",
      " |  \n",
      " |  set_postfix_str(self, s='', refresh=True)\n",
      " |      Postfix without dictionary expansion, similar to prefix handling.\n",
      " |  \n",
      " |  unpause(self)\n",
      " |      Restart tqdm timer from last print time.\n",
      " |  \n",
      " |  ----------------------------------------------------------------------\n",
      " |  Class methods inherited from tqdm.std.tqdm:\n",
      " |  \n",
      " |  external_write_mode(file=None, nolock=False) from builtins.type\n",
      " |      Disable tqdm within context and refresh tqdm when exits.\n",
      " |      Useful when writing to standard output stream\n",
      " |  \n",
      " |  get_lock() from builtins.type\n",
      " |      Get the global lock. Construct it if it does not exist.\n",
      " |  \n",
      " |  pandas(**tqdm_kwargs) from builtins.type\n",
      " |      Registers the current `tqdm` class with\n",
      " |          pandas.core.\n",
      " |          ( frame.DataFrame\n",
      " |          | series.Series\n",
      " |          | groupby.(generic.)DataFrameGroupBy\n",
      " |          | groupby.(generic.)SeriesGroupBy\n",
      " |          ).progress_apply\n",
      " |      \n",
      " |      A new instance will be create every time `progress_apply` is called,\n",
      " |      and each instance will automatically `close()` upon completion.\n",
      " |      \n",
      " |      Parameters\n",
      " |      ----------\n",
      " |      tqdm_kwargs  : arguments for the tqdm instance\n",
      " |      \n",
      " |      Examples\n",
      " |      --------\n",
      " |      >>> import pandas as pd\n",
      " |      >>> import numpy as np\n",
      " |      >>> from tqdm import tqdm\n",
      " |      >>> from tqdm.gui import tqdm as tqdm_gui\n",
      " |      >>>\n",
      " |      >>> df = pd.DataFrame(np.random.randint(0, 100, (100000, 6)))\n",
      " |      >>> tqdm.pandas(ncols=50)  # can use tqdm_gui, optional kwargs, etc\n",
      " |      >>> # Now you can use `progress_apply` instead of `apply`\n",
      " |      >>> df.groupby(0).progress_apply(lambda x: x**2)\n",
      " |      \n",
      " |      References\n",
      " |      ----------\n",
      " |      <https://stackoverflow.com/questions/18603270/        progress-indicator-during-pandas-operations-python>\n",
      " |  \n",
      " |  set_lock(lock) from builtins.type\n",
      " |      Set the global lock.\n",
      " |  \n",
      " |  wrapattr(stream, method, total=None, bytes=True, **tqdm_kwargs) from builtins.type\n",
      " |      stream  : file-like object.\n",
      " |      method  : str, \"read\" or \"write\". The result of `read()` and\n",
      " |          the first argument of `write()` should have a `len()`.\n",
      " |      \n",
      " |      >>> with tqdm.wrapattr(file_obj, \"read\", total=file_obj.size) as fobj:\n",
      " |      ...     while True:\n",
      " |      ...         chunk = fobj.read(chunk_size)\n",
      " |      ...         if not chunk:\n",
      " |      ...             break\n",
      " |  \n",
      " |  write(s, file=None, end='\\n', nolock=False) from builtins.type\n",
      " |      Print a message via tqdm (without overlap with bars).\n",
      " |  \n",
      " |  ----------------------------------------------------------------------\n",
      " |  Static methods inherited from tqdm.std.tqdm:\n",
      " |  \n",
      " |  __new__(cls, *_, **__)\n",
      " |      Create and return a new object.  See help(type) for accurate signature.\n",
      " |  \n",
      " |  format_interval(t)\n",
      " |      Formats a number of seconds as a clock time, [H:]MM:SS\n",
      " |      \n",
      " |      Parameters\n",
      " |      ----------\n",
      " |      t  : int\n",
      " |          Number of seconds.\n",
      " |      \n",
      " |      Returns\n",
      " |      -------\n",
      " |      out  : str\n",
      " |          [H:]MM:SS\n",
      " |  \n",
      " |  format_meter(n, total, elapsed, ncols=None, prefix='', ascii=False, unit='it', unit_scale=False, rate=None, bar_format=None, postfix=None, unit_divisor=1000, initial=0, colour=None, **extra_kwargs)\n",
      " |      Return a string-based progress bar given some parameters\n",
      " |      \n",
      " |      Parameters\n",
      " |      ----------\n",
      " |      n  : int or float\n",
      " |          Number of finished iterations.\n",
      " |      total  : int or float\n",
      " |          The expected total number of iterations. If meaningless (None),\n",
      " |          only basic progress statistics are displayed (no ETA).\n",
      " |      elapsed  : float\n",
      " |          Number of seconds passed since start.\n",
      " |      ncols  : int, optional\n",
      " |          The width of the entire output message. If specified,\n",
      " |          dynamically resizes `{bar}` to stay within this bound\n",
      " |          [default: None]. If `0`, will not print any bar (only stats).\n",
      " |          The fallback is `{bar:10}`.\n",
      " |      prefix  : str, optional\n",
      " |          Prefix message (included in total width) [default: ''].\n",
      " |          Use as {desc} in bar_format string.\n",
      " |      ascii  : bool, optional or str, optional\n",
      " |          If not set, use unicode (smooth blocks) to fill the meter\n",
      " |          [default: False]. The fallback is to use ASCII characters\n",
      " |          \" 123456789#\".\n",
      " |      unit  : str, optional\n",
      " |          The iteration unit [default: 'it'].\n",
      " |      unit_scale  : bool or int or float, optional\n",
      " |          If 1 or True, the number of iterations will be printed with an\n",
      " |          appropriate SI metric prefix (k = 10^3, M = 10^6, etc.)\n",
      " |          [default: False]. If any other non-zero number, will scale\n",
      " |          `total` and `n`.\n",
      " |      rate  : float, optional\n",
      " |          Manual override for iteration rate.\n",
      " |          If [default: None], uses n/elapsed.\n",
      " |      bar_format  : str, optional\n",
      " |          Specify a custom bar string formatting. May impact performance.\n",
      " |          [default: '{l_bar}{bar}{r_bar}'], where\n",
      " |          l_bar='{desc}: {percentage:3.0f}%|' and\n",
      " |          r_bar='| {n_fmt}/{total_fmt} [{elapsed}<{remaining}, '\n",
      " |            '{rate_fmt}{postfix}]'\n",
      " |          Possible vars: l_bar, bar, r_bar, n, n_fmt, total, total_fmt,\n",
      " |            percentage, elapsed, elapsed_s, ncols, nrows, desc, unit,\n",
      " |            rate, rate_fmt, rate_noinv, rate_noinv_fmt,\n",
      " |            rate_inv, rate_inv_fmt, postfix, unit_divisor,\n",
      " |            remaining, remaining_s, eta.\n",
      " |          Note that a trailing \": \" is automatically removed after {desc}\n",
      " |          if the latter is empty.\n",
      " |      postfix  : *, optional\n",
      " |          Similar to `prefix`, but placed at the end\n",
      " |          (e.g. for additional stats).\n",
      " |          Note: postfix is usually a string (not a dict) for this method,\n",
      " |          and will if possible be set to postfix = ', ' + postfix.\n",
      " |          However other types are supported (#382).\n",
      " |      unit_divisor  : float, optional\n",
      " |          [default: 1000], ignored unless `unit_scale` is True.\n",
      " |      initial  : int or float, optional\n",
      " |          The initial counter value [default: 0].\n",
      " |      colour  : str, optional\n",
      " |          Bar colour (e.g. 'green', '#00ff00').\n",
      " |      \n",
      " |      Returns\n",
      " |      -------\n",
      " |      out  : Formatted meter and stats, ready to display.\n",
      " |  \n",
      " |  format_num(n)\n",
      " |      Intelligent scientific notation (.3g).\n",
      " |      \n",
      " |      Parameters\n",
      " |      ----------\n",
      " |      n  : int or float or Numeric\n",
      " |          A Number.\n",
      " |      \n",
      " |      Returns\n",
      " |      -------\n",
      " |      out  : str\n",
      " |          Formatted number.\n",
      " |  \n",
      " |  format_sizeof(num, suffix='', divisor=1000)\n",
      " |      Formats a number (greater than unity) with SI Order of Magnitude\n",
      " |      prefixes.\n",
      " |      \n",
      " |      Parameters\n",
      " |      ----------\n",
      " |      num  : float\n",
      " |          Number ( >= 1) to format.\n",
      " |      suffix  : str, optional\n",
      " |          Post-postfix [default: ''].\n",
      " |      divisor  : float, optional\n",
      " |          Divisor between prefixes [default: 1000].\n",
      " |      \n",
      " |      Returns\n",
      " |      -------\n",
      " |      out  : str\n",
      " |          Number with Order of Magnitude SI unit postfix.\n",
      " |  \n",
      " |  ----------------------------------------------------------------------\n",
      " |  Readonly properties inherited from tqdm.std.tqdm:\n",
      " |  \n",
      " |  format_dict\n",
      " |      Public API for read-only member access.\n",
      " |  \n",
      " |  ----------------------------------------------------------------------\n",
      " |  Data and other attributes inherited from tqdm.std.tqdm:\n",
      " |  \n",
      " |  monitor = <TMonitor(Thread-8, started daemon 140476811454208)>\n",
      " |  \n",
      " |  monitor_interval = 10\n",
      " |  \n",
      " |  ----------------------------------------------------------------------\n",
      " |  Methods inherited from tqdm.utils.Comparable:\n",
      " |  \n",
      " |  __eq__(self, other)\n",
      " |      Return self==value.\n",
      " |  \n",
      " |  __ge__(self, other)\n",
      " |      Return self>=value.\n",
      " |  \n",
      " |  __gt__(self, other)\n",
      " |      Return self>value.\n",
      " |  \n",
      " |  __le__(self, other)\n",
      " |      Return self<=value.\n",
      " |  \n",
      " |  __lt__(self, other)\n",
      " |      Return self<value.\n",
      " |  \n",
      " |  __ne__(self, other)\n",
      " |      Return self!=value.\n",
      " |  \n",
      " |  ----------------------------------------------------------------------\n",
      " |  Data descriptors inherited from tqdm.utils.Comparable:\n",
      " |  \n",
      " |  __dict__\n",
      " |      dictionary for instance variables (if defined)\n",
      " |  \n",
      " |  __weakref__\n",
      " |      list of weak references to the object (if defined)\n",
      "\n"
     ]
    }
   ],
   "source": [
    "help(tqdm)"
   ]
  }
 ],
 "metadata": {
  "kernelspec": {
   "display_name": "Python 3 (ipykernel)",
   "language": "python",
   "name": "python3"
  },
  "language_info": {
   "codemirror_mode": {
    "name": "ipython",
    "version": 3
   },
   "file_extension": ".py",
   "mimetype": "text/x-python",
   "name": "python",
   "nbconvert_exporter": "python",
   "pygments_lexer": "ipython3",
   "version": "3.8.5"
  }
 },
 "nbformat": 4,
 "nbformat_minor": 5
}
