{
 "cells": [
  {
   "cell_type": "markdown",
   "id": "c0237b3c",
   "metadata": {
    "papermill": {
     "duration": 0.025635,
     "end_time": "2022-03-26T17:11:37.639009",
     "exception": false,
     "start_time": "2022-03-26T17:11:37.613374",
     "status": "completed"
    },
    "tags": []
   },
   "source": [
    "# Ideas"
   ]
  },
  {
   "cell_type": "code",
   "execution_count": 1,
   "id": "94c1040e",
   "metadata": {
    "execution": {
     "iopub.execute_input": "2022-03-26T17:11:37.699538Z",
     "iopub.status.busy": "2022-03-26T17:11:37.698614Z",
     "iopub.status.idle": "2022-03-26T17:11:37.703023Z",
     "shell.execute_reply": "2022-03-26T17:11:37.703681Z"
    },
    "papermill": {
     "duration": 0.038924,
     "end_time": "2022-03-26T17:11:37.703987",
     "exception": false,
     "start_time": "2022-03-26T17:11:37.665063",
     "status": "completed"
    },
    "tags": []
   },
   "outputs": [],
   "source": [
    "import pandas as pd\n",
    "import numpy as np"
   ]
  },
  {
   "cell_type": "markdown",
   "id": "42c93a06",
   "metadata": {
    "_cell_guid": "b1076dfc-b9ad-4769-8c92-a6c4dae69d19",
    "_uuid": "8f2839f25d086af736a60e9eeb907d3b93b6e0e5",
    "papermill": {
     "duration": 0.024751,
     "end_time": "2022-03-26T17:11:37.754207",
     "exception": false,
     "start_time": "2022-03-26T17:11:37.729456",
     "status": "completed"
    },
    "tags": []
   },
   "source": [
    "## I1. Speed up Pandas Code\n",
    "- Reduce Memory Useage"
   ]
  },
  {
   "cell_type": "code",
   "execution_count": 2,
   "id": "3bc14c0e",
   "metadata": {
    "execution": {
     "iopub.execute_input": "2022-03-26T17:11:37.808922Z",
     "iopub.status.busy": "2022-03-26T17:11:37.807947Z",
     "iopub.status.idle": "2022-03-26T17:11:37.815361Z",
     "shell.execute_reply": "2022-03-26T17:11:37.815919Z"
    },
    "papermill": {
     "duration": 0.036922,
     "end_time": "2022-03-26T17:11:37.816099",
     "exception": false,
     "start_time": "2022-03-26T17:11:37.779177",
     "status": "completed"
    },
    "tags": []
   },
   "outputs": [],
   "source": [
    "def get_dataset(size):\n",
    "    # Create Fake Dataset\n",
    "    df = pd.DataFrame()\n",
    "    df['size'] = np.random.choice(['big','medium','small'], size)\n",
    "    df['age'] = np.random.randint(1, 50, size)\n",
    "    df['team'] = np.random.choice(['red','blue','yellow','green'], size)\n",
    "    df['win'] = np.random.choice(['yes','no'], size)\n",
    "    dates = pd.date_range('2020-01-01', '2022-12-31')\n",
    "    df['date'] = np.random.choice(dates, size)\n",
    "    df['prob'] = np.random.uniform(0, 1, size)\n",
    "    return df"
   ]
  },
  {
   "cell_type": "code",
   "execution_count": 3,
   "id": "2961086d",
   "metadata": {
    "execution": {
     "iopub.execute_input": "2022-03-26T17:11:37.870635Z",
     "iopub.status.busy": "2022-03-26T17:11:37.869648Z",
     "iopub.status.idle": "2022-03-26T17:12:03.577183Z",
     "shell.execute_reply": "2022-03-26T17:12:03.576245Z"
    },
    "papermill": {
     "duration": 25.736274,
     "end_time": "2022-03-26T17:12:03.577383",
     "exception": false,
     "start_time": "2022-03-26T17:11:37.841109",
     "status": "completed"
    },
    "tags": []
   },
   "outputs": [
    {
     "name": "stdout",
     "output_type": "stream",
     "text": [
      "1.56 ms ± 26.1 µs per loop (mean ± std. dev. of 7 runs, 1000 loops each)\n",
      "1.6 ms ± 20.5 µs per loop (mean ± std. dev. of 7 runs, 1000 loops each)\n"
     ]
    }
   ],
   "source": [
    "df = get_dataset(1_000)\n",
    "%timeit df['age_rank'] = df.groupby(['team','size'])['age'].rank()\n",
    "%timeit df['date_rank'] = df.groupby(['team','size'])['date'].rank()"
   ]
  },
  {
   "cell_type": "code",
   "execution_count": 4,
   "id": "6debd995",
   "metadata": {
    "execution": {
     "iopub.execute_input": "2022-03-26T17:12:03.640310Z",
     "iopub.status.busy": "2022-03-26T17:12:03.639204Z",
     "iopub.status.idle": "2022-03-26T17:12:17.501063Z",
     "shell.execute_reply": "2022-03-26T17:12:17.501581Z"
    },
    "papermill": {
     "duration": 13.896965,
     "end_time": "2022-03-26T17:12:17.501771",
     "exception": false,
     "start_time": "2022-03-26T17:12:03.604806",
     "status": "completed"
    },
    "tags": []
   },
   "outputs": [
    {
     "name": "stdout",
     "output_type": "stream",
     "text": [
      "492 ms ± 8.49 ms per loop (mean ± std. dev. of 7 runs, 1 loop each)\n",
      "551 ms ± 15.2 ms per loop (mean ± std. dev. of 7 runs, 1 loop each)\n",
      "592 ms ± 5.97 ms per loop (mean ± std. dev. of 7 runs, 1 loop each)\n"
     ]
    }
   ],
   "source": [
    "df = get_dataset(1_000_000)\n",
    "%timeit df['age_rank'] = df.groupby(['team','size'])['age'].rank()\n",
    "%timeit df['date_rank'] = df.groupby(['team','size'])['date'].rank()\n",
    "%timeit df['prob_rank'] = df.groupby(['team','size'])['prob'].rank()"
   ]
  },
  {
   "cell_type": "code",
   "execution_count": 5,
   "id": "8f196681",
   "metadata": {
    "execution": {
     "iopub.execute_input": "2022-03-26T17:12:17.559783Z",
     "iopub.status.busy": "2022-03-26T17:12:17.559113Z",
     "iopub.status.idle": "2022-03-26T17:12:28.799360Z",
     "shell.execute_reply": "2022-03-26T17:12:28.799860Z"
    },
    "papermill": {
     "duration": 11.270594,
     "end_time": "2022-03-26T17:12:28.800047",
     "exception": false,
     "start_time": "2022-03-26T17:12:17.529453",
     "status": "completed"
    },
    "tags": []
   },
   "outputs": [
    {
     "name": "stdout",
     "output_type": "stream",
     "text": [
      "363 ms ± 6.93 ms per loop (mean ± std. dev. of 7 runs, 1 loop each)\n",
      "433 ms ± 8.63 ms per loop (mean ± std. dev. of 7 runs, 1 loop each)\n",
      "493 ms ± 3.89 ms per loop (mean ± std. dev. of 7 runs, 1 loop each)\n"
     ]
    }
   ],
   "source": [
    "df = get_dataset(1_000_000)\n",
    "df['size'] = df['size'].astype('category')\n",
    "%timeit df['age_rank'] = df.groupby(['team','size'])['age'].rank()\n",
    "%timeit df['date_rank'] = df.groupby(['team','size'])['date'].rank()\n",
    "%timeit df['prob_rank'] = df.groupby(['team','size'])['prob'].rank()"
   ]
  },
  {
   "cell_type": "code",
   "execution_count": 6,
   "id": "e82841e8",
   "metadata": {
    "execution": {
     "iopub.execute_input": "2022-03-26T17:12:28.869141Z",
     "iopub.status.busy": "2022-03-26T17:12:28.868425Z",
     "iopub.status.idle": "2022-03-26T17:12:38.055491Z",
     "shell.execute_reply": "2022-03-26T17:12:38.056357Z"
    },
    "papermill": {
     "duration": 9.228115,
     "end_time": "2022-03-26T17:12:38.056643",
     "exception": false,
     "start_time": "2022-03-26T17:12:28.828528",
     "status": "completed"
    },
    "tags": []
   },
   "outputs": [
    {
     "name": "stdout",
     "output_type": "stream",
     "text": [
      "288 ms ± 7.54 ms per loop (mean ± std. dev. of 7 runs, 1 loop each)\n",
      "350 ms ± 16.7 ms per loop (mean ± std. dev. of 7 runs, 1 loop each)\n",
      "393 ms ± 6.18 ms per loop (mean ± std. dev. of 7 runs, 1 loop each)\n"
     ]
    }
   ],
   "source": [
    "df = get_dataset(1_000_000)\n",
    "df['size'] = df['size'].astype('category')\n",
    "df['team'] = df['team'].astype('category')\n",
    "%timeit df['age_rank'] = df.groupby(['team','size'])['age'].rank()\n",
    "%timeit df['date_rank'] = df.groupby(['team','size'])['date'].rank()\n",
    "%timeit df['prob_rank'] = df.groupby(['team','size'])['prob'].rank()"
   ]
  },
  {
   "cell_type": "code",
   "execution_count": 7,
   "id": "bcbf6bce",
   "metadata": {
    "execution": {
     "iopub.execute_input": "2022-03-26T17:12:38.124222Z",
     "iopub.status.busy": "2022-03-26T17:12:38.123477Z",
     "iopub.status.idle": "2022-03-26T17:12:39.179518Z",
     "shell.execute_reply": "2022-03-26T17:12:39.180029Z"
    },
    "papermill": {
     "duration": 1.092737,
     "end_time": "2022-03-26T17:12:39.180218",
     "exception": false,
     "start_time": "2022-03-26T17:12:38.087481",
     "status": "completed"
    },
    "tags": []
   },
   "outputs": [
    {
     "name": "stdout",
     "output_type": "stream",
     "text": [
      "<class 'pandas.core.frame.DataFrame'>\n",
      "RangeIndex: 1000000 entries, 0 to 999999\n",
      "Data columns (total 6 columns):\n",
      " #   Column  Non-Null Count    Dtype         \n",
      "---  ------  --------------    -----         \n",
      " 0   size    1000000 non-null  object        \n",
      " 1   age     1000000 non-null  int64         \n",
      " 2   team    1000000 non-null  object        \n",
      " 3   dq      1000000 non-null  object        \n",
      " 4   date    1000000 non-null  datetime64[ns]\n",
      " 5   prob    1000000 non-null  float64       \n",
      "dtypes: datetime64[ns](1), float64(1), int64(1), object(3)\n",
      "memory usage: 45.8+ MB\n"
     ]
    }
   ],
   "source": [
    "df = get_dataset(1_000_000)\n",
    "df.info()"
   ]
  },
  {
   "cell_type": "code",
   "execution_count": 8,
   "id": "7225844f",
   "metadata": {
    "execution": {
     "iopub.execute_input": "2022-03-26T17:12:39.247406Z",
     "iopub.status.busy": "2022-03-26T17:12:39.246427Z",
     "iopub.status.idle": "2022-03-26T17:12:40.240319Z",
     "shell.execute_reply": "2022-03-26T17:12:40.239195Z"
    },
    "papermill": {
     "duration": 1.030363,
     "end_time": "2022-03-26T17:12:40.240547",
     "exception": false,
     "start_time": "2022-03-26T17:12:39.210184",
     "status": "completed"
    },
    "tags": []
   },
   "outputs": [
    {
     "name": "stdout",
     "output_type": "stream",
     "text": [
      "<class 'pandas.core.frame.DataFrame'>\n",
      "RangeIndex: 1000000 entries, 0 to 999999\n",
      "Columns: 6 entries, size to prob\n",
      "dtypes: category(2), datetime64[ns](1), float64(1), int16(1), object(1)\n",
      "memory usage: 26.7+ MB\n"
     ]
    }
   ],
   "source": [
    "df = get_dataset(1_000_000)\n",
    "df['size'] = df['size'].astype('category')\n",
    "df['team'] = df['team'].astype('category')\n",
    "df['age'] = df['age'].astype('int16')\n",
    "df.info(verbose=False, show_counts=False)"
   ]
  },
  {
   "cell_type": "code",
   "execution_count": 9,
   "id": "e279e121",
   "metadata": {
    "execution": {
     "iopub.execute_input": "2022-03-26T17:12:40.311797Z",
     "iopub.status.busy": "2022-03-26T17:12:40.310823Z",
     "iopub.status.idle": "2022-03-26T17:12:41.425383Z",
     "shell.execute_reply": "2022-03-26T17:12:41.424800Z"
    },
    "papermill": {
     "duration": 1.152511,
     "end_time": "2022-03-26T17:12:41.425524",
     "exception": false,
     "start_time": "2022-03-26T17:12:40.273013",
     "status": "completed"
    },
    "tags": []
   },
   "outputs": [
    {
     "name": "stdout",
     "output_type": "stream",
     "text": [
      "<class 'pandas.core.frame.DataFrame'>\n",
      "RangeIndex: 1000000 entries, 0 to 999999\n",
      "Columns: 6 entries, size to prob\n",
      "dtypes: bool(1), category(2), datetime64[ns](1), float16(1), int16(1)\n",
      "memory usage: 14.3 MB\n"
     ]
    }
   ],
   "source": [
    "df = get_dataset(1_000_000)\n",
    "df['size'] = df['size'].astype('category')\n",
    "df['team'] = df['team'].astype('category')\n",
    "df['age'] = df['age'].astype('int16')\n",
    "df['dq'] = df['dq'].map({'yes':True, 'no': False})\n",
    "df['prob'] = df['prob'].astype('float16')\n",
    "df.info(verbose=False, show_counts=False)"
   ]
  },
  {
   "cell_type": "code",
   "execution_count": 10,
   "id": "1ce49b04",
   "metadata": {
    "execution": {
     "iopub.execute_input": "2022-03-26T17:12:41.499272Z",
     "iopub.status.busy": "2022-03-26T17:12:41.498294Z",
     "iopub.status.idle": "2022-03-26T17:12:47.482316Z",
     "shell.execute_reply": "2022-03-26T17:12:47.483184Z"
    },
    "papermill": {
     "duration": 6.02655,
     "end_time": "2022-03-26T17:12:47.483360",
     "exception": false,
     "start_time": "2022-03-26T17:12:41.456810",
     "status": "completed"
    },
    "tags": []
   },
   "outputs": [
    {
     "name": "stdout",
     "output_type": "stream",
     "text": [
      "298 ms ± 8.25 ms per loop (mean ± std. dev. of 7 runs, 1 loop each)\n",
      "334 ms ± 3.9 ms per loop (mean ± std. dev. of 7 runs, 1 loop each)\n"
     ]
    }
   ],
   "source": [
    "df = get_dataset(1_000_000)\n",
    "df['size'] = df['size'].astype('category')\n",
    "df['team'] = df['team'].astype('category')\n",
    "df['age'] = df['age'].astype('int16')\n",
    "%timeit df['age_rank'] = df.groupby(['team','size'])['age'].rank()\n",
    "%timeit df['date_rank'] = df.groupby(['team','size'])['date'].rank()"
   ]
  },
  {
   "cell_type": "code",
   "execution_count": 11,
   "id": "2223dbfc",
   "metadata": {
    "execution": {
     "iopub.execute_input": "2022-03-26T17:12:47.556384Z",
     "iopub.status.busy": "2022-03-26T17:12:47.550639Z",
     "iopub.status.idle": "2022-03-26T17:12:56.642370Z",
     "shell.execute_reply": "2022-03-26T17:12:56.643187Z"
    },
    "papermill": {
     "duration": 9.127881,
     "end_time": "2022-03-26T17:12:56.643427",
     "exception": false,
     "start_time": "2022-03-26T17:12:47.515546",
     "status": "completed"
    },
    "tags": []
   },
   "outputs": [
    {
     "name": "stdout",
     "output_type": "stream",
     "text": [
      "282 ms ± 6.41 ms per loop (mean ± std. dev. of 7 runs, 1 loop each)\n",
      "350 ms ± 4.52 ms per loop (mean ± std. dev. of 7 runs, 1 loop each)\n",
      "360 ms ± 10.7 ms per loop (mean ± std. dev. of 7 runs, 1 loop each)\n"
     ]
    }
   ],
   "source": [
    "df = get_dataset(1_000_000)\n",
    "df['size'] = df['size'].astype('category')\n",
    "df['team'] = df['team'].astype('category')\n",
    "df['age'] = df['age'].astype('int16')\n",
    "df['dq'] = df['dq'].map({'yes':True, 'no': False})\n",
    "df['prob'] = df['prob'].astype('float16')\n",
    "%timeit df['age_rank'] = df.groupby(['team','size'])['age'].rank()\n",
    "%timeit df['date_rank'] = df.groupby(['team','size'])['date'].rank()\n",
    "%timeit df['prob_rank'] = df.groupby(['team','size'])['prob'].rank()"
   ]
  },
  {
   "cell_type": "markdown",
   "id": "cb820fa5",
   "metadata": {
    "execution": {
     "iopub.execute_input": "2022-03-26T16:25:15.885595Z",
     "iopub.status.busy": "2022-03-26T16:25:15.885200Z",
     "iopub.status.idle": "2022-03-26T16:25:15.891765Z",
     "shell.execute_reply": "2022-03-26T16:25:15.891066Z",
     "shell.execute_reply.started": "2022-03-26T16:25:15.885545Z"
    },
    "papermill": {
     "duration": 0.033491,
     "end_time": "2022-03-26T17:12:56.712340",
     "exception": false,
     "start_time": "2022-03-26T17:12:56.678849",
     "status": "completed"
    },
    "tags": []
   },
   "source": [
    "# Dataformat Comparison"
   ]
  },
  {
   "cell_type": "code",
   "execution_count": 12,
   "id": "a379e029",
   "metadata": {
    "execution": {
     "iopub.execute_input": "2022-03-26T17:12:56.782915Z",
     "iopub.status.busy": "2022-03-26T17:12:56.782271Z",
     "iopub.status.idle": "2022-03-26T17:12:56.787296Z",
     "shell.execute_reply": "2022-03-26T17:12:56.787833Z"
    },
    "papermill": {
     "duration": 0.042138,
     "end_time": "2022-03-26T17:12:56.788065",
     "exception": false,
     "start_time": "2022-03-26T17:12:56.745927",
     "status": "completed"
    },
    "tags": []
   },
   "outputs": [],
   "source": [
    "def set_dtypes(df):\n",
    "    df['size'] = df['size'].astype('category')\n",
    "    df['team'] = df['team'].astype('category')\n",
    "    df['age'] = df['age'].astype('int16')\n",
    "    df['dq'] = df['dq'].map({'yes':True, 'no': False})\n",
    "    df['prob'] = df['prob'].astype('float16')\n",
    "    return df"
   ]
  },
  {
   "cell_type": "code",
   "execution_count": 13,
   "id": "7167cb45",
   "metadata": {
    "execution": {
     "iopub.execute_input": "2022-03-26T17:12:56.859181Z",
     "iopub.status.busy": "2022-03-26T17:12:56.858478Z",
     "iopub.status.idle": "2022-03-26T17:13:11.075625Z",
     "shell.execute_reply": "2022-03-26T17:13:11.076291Z"
    },
    "papermill": {
     "duration": 14.254652,
     "end_time": "2022-03-26T17:13:11.076520",
     "exception": false,
     "start_time": "2022-03-26T17:12:56.821868",
     "status": "completed"
    },
    "tags": []
   },
   "outputs": [
    {
     "name": "stdout",
     "output_type": "stream",
     "text": [
      "14.8 ms ± 479 µs per loop (mean ± std. dev. of 7 runs, 100 loops each)\n",
      "2.73 ms ± 38.1 µs per loop (mean ± std. dev. of 7 runs, 100 loops each)\n"
     ]
    }
   ],
   "source": [
    "df = get_dataset(1_000)\n",
    "%timeit df.to_csv('test.csv')\n",
    "%timeit df_csv = pd.read_csv('test.csv')"
   ]
  },
  {
   "cell_type": "code",
   "execution_count": 14,
   "id": "a5de0721",
   "metadata": {
    "execution": {
     "iopub.execute_input": "2022-03-26T17:13:11.152414Z",
     "iopub.status.busy": "2022-03-26T17:13:11.151744Z",
     "iopub.status.idle": "2022-03-26T17:13:11.904257Z",
     "shell.execute_reply": "2022-03-26T17:13:11.903480Z"
    },
    "papermill": {
     "duration": 0.792105,
     "end_time": "2022-03-26T17:13:11.904415",
     "exception": false,
     "start_time": "2022-03-26T17:13:11.112310",
     "status": "completed"
    },
    "tags": []
   },
   "outputs": [
    {
     "name": "stdout",
     "output_type": "stream",
     "text": [
      "52K -rw-r--r-- 1 root 51K Mar 26 17:13 test.csv\n"
     ]
    }
   ],
   "source": [
    "# 51k\n",
    "!ls -GFlash test.csv"
   ]
  },
  {
   "cell_type": "code",
   "execution_count": 15,
   "id": "4b8bd2ee",
   "metadata": {
    "execution": {
     "iopub.execute_input": "2022-03-26T17:13:11.990327Z",
     "iopub.status.busy": "2022-03-26T17:13:11.984846Z",
     "iopub.status.idle": "2022-03-26T17:13:26.801366Z",
     "shell.execute_reply": "2022-03-26T17:13:26.800507Z"
    },
    "papermill": {
     "duration": 14.861407,
     "end_time": "2022-03-26T17:13:26.801562",
     "exception": false,
     "start_time": "2022-03-26T17:13:11.940155",
     "status": "completed"
    },
    "tags": []
   },
   "outputs": [
    {
     "name": "stdout",
     "output_type": "stream",
     "text": [
      "973 µs ± 289 µs per loop (mean ± std. dev. of 7 runs, 1000 loops each)\n",
      "867 µs ± 8.84 µs per loop (mean ± std. dev. of 7 runs, 1000 loops each)\n"
     ]
    }
   ],
   "source": [
    "df = get_dataset(1_000)\n",
    "%timeit df.to_pickle('test.pickle')\n",
    "%timeit df_pickle = pd.read_pickle('test.pickle')"
   ]
  },
  {
   "cell_type": "code",
   "execution_count": 16,
   "id": "cc19445e",
   "metadata": {
    "execution": {
     "iopub.execute_input": "2022-03-26T17:13:26.880291Z",
     "iopub.status.busy": "2022-03-26T17:13:26.879275Z",
     "iopub.status.idle": "2022-03-26T17:13:27.637665Z",
     "shell.execute_reply": "2022-03-26T17:13:27.637062Z"
    },
    "papermill": {
     "duration": 0.798933,
     "end_time": "2022-03-26T17:13:27.637812",
     "exception": false,
     "start_time": "2022-03-26T17:13:26.838879",
     "status": "completed"
    },
    "tags": []
   },
   "outputs": [
    {
     "name": "stdout",
     "output_type": "stream",
     "text": [
      "48K -rw-r--r-- 1 root 46K Mar 26 17:13 test.pickle\n"
     ]
    }
   ],
   "source": [
    "# 46k\n",
    "!ls -GFlash test.pickle"
   ]
  },
  {
   "cell_type": "code",
   "execution_count": 17,
   "id": "bf1bcab4",
   "metadata": {
    "execution": {
     "iopub.execute_input": "2022-03-26T17:13:27.715807Z",
     "iopub.status.busy": "2022-03-26T17:13:27.714793Z",
     "iopub.status.idle": "2022-03-26T17:13:33.953087Z",
     "shell.execute_reply": "2022-03-26T17:13:33.953622Z"
    },
    "papermill": {
     "duration": 6.279129,
     "end_time": "2022-03-26T17:13:33.953797",
     "exception": false,
     "start_time": "2022-03-26T17:13:27.674668",
     "status": "completed"
    },
    "tags": []
   },
   "outputs": [
    {
     "name": "stdout",
     "output_type": "stream",
     "text": [
      "3.88 ms ± 207 µs per loop (mean ± std. dev. of 7 runs, 100 loops each)\n",
      "3.64 ms ± 92.6 µs per loop (mean ± std. dev. of 7 runs, 100 loops each)\n"
     ]
    }
   ],
   "source": [
    "df = get_dataset(1_000)\n",
    "%timeit df.to_parquet('test.parquet')\n",
    "%timeit df_parquet = pd.read_parquet('test.parquet')"
   ]
  },
  {
   "cell_type": "code",
   "execution_count": 18,
   "id": "632e830e",
   "metadata": {
    "execution": {
     "iopub.execute_input": "2022-03-26T17:13:34.033977Z",
     "iopub.status.busy": "2022-03-26T17:13:34.033338Z",
     "iopub.status.idle": "2022-03-26T17:13:34.787922Z",
     "shell.execute_reply": "2022-03-26T17:13:34.787093Z"
    },
    "papermill": {
     "duration": 0.796587,
     "end_time": "2022-03-26T17:13:34.788082",
     "exception": false,
     "start_time": "2022-03-26T17:13:33.991495",
     "status": "completed"
    },
    "tags": []
   },
   "outputs": [
    {
     "name": "stdout",
     "output_type": "stream",
     "text": [
      "24K -rw-r--r-- 1 root 21K Mar 26 17:13 test.parquet\n"
     ]
    }
   ],
   "source": [
    "# 21k\n",
    "!ls -GFlash test.parquet"
   ]
  },
  {
   "cell_type": "code",
   "execution_count": 19,
   "id": "2c8dd972",
   "metadata": {
    "execution": {
     "iopub.execute_input": "2022-03-26T17:13:34.874015Z",
     "iopub.status.busy": "2022-03-26T17:13:34.873270Z",
     "iopub.status.idle": "2022-03-26T17:13:39.348270Z",
     "shell.execute_reply": "2022-03-26T17:13:39.348830Z"
    },
    "papermill": {
     "duration": 4.522706,
     "end_time": "2022-03-26T17:13:39.349038",
     "exception": false,
     "start_time": "2022-03-26T17:13:34.826332",
     "status": "completed"
    },
    "tags": []
   },
   "outputs": [
    {
     "name": "stdout",
     "output_type": "stream",
     "text": [
      "3.17 ms ± 66.5 µs per loop (mean ± std. dev. of 7 runs, 100 loops each)\n",
      "2.34 ms ± 138 µs per loop (mean ± std. dev. of 7 runs, 100 loops each)\n"
     ]
    }
   ],
   "source": [
    "df = get_dataset(1_000)\n",
    "%timeit df.to_feather('test.feather')\n",
    "%timeit df_feather = pd.read_feather('test.feather')"
   ]
  },
  {
   "cell_type": "code",
   "execution_count": 20,
   "id": "309f375f",
   "metadata": {
    "execution": {
     "iopub.execute_input": "2022-03-26T17:13:39.460501Z",
     "iopub.status.busy": "2022-03-26T17:13:39.459397Z",
     "iopub.status.idle": "2022-03-26T17:13:40.241713Z",
     "shell.execute_reply": "2022-03-26T17:13:40.240870Z"
    },
    "papermill": {
     "duration": 0.84968,
     "end_time": "2022-03-26T17:13:40.241950",
     "exception": false,
     "start_time": "2022-03-26T17:13:39.392270",
     "status": "completed"
    },
    "tags": []
   },
   "outputs": [
    {
     "name": "stdout",
     "output_type": "stream",
     "text": [
      "36K -rw-r--r-- 1 root 36K Mar 26 17:13 test.feather\n"
     ]
    }
   ],
   "source": [
    "# 36k\n",
    "!ls -GFlash test.feather"
   ]
  },
  {
   "cell_type": "code",
   "execution_count": 21,
   "id": "497695b5",
   "metadata": {
    "execution": {
     "iopub.execute_input": "2022-03-26T17:13:40.335646Z",
     "iopub.status.busy": "2022-03-26T17:13:40.334412Z",
     "iopub.status.idle": "2022-03-26T17:13:40.352721Z",
     "shell.execute_reply": "2022-03-26T17:13:40.353449Z"
    },
    "papermill": {
     "duration": 0.066399,
     "end_time": "2022-03-26T17:13:40.353727",
     "exception": false,
     "start_time": "2022-03-26T17:13:40.287328",
     "status": "completed"
    },
    "tags": []
   },
   "outputs": [],
   "source": [
    "df_csv = pd.read_csv('test.csv', index_col=[0])\n",
    "df_pickle = pd.read_pickle('test.pickle')\n",
    "df_feather = pd.read_feather('test.feather')\n",
    "df_parquet = pd.read_parquet('test.parquet')"
   ]
  },
  {
   "cell_type": "code",
   "execution_count": 22,
   "id": "4d45f630",
   "metadata": {
    "execution": {
     "iopub.execute_input": "2022-03-26T17:13:40.462644Z",
     "iopub.status.busy": "2022-03-26T17:13:40.455200Z",
     "iopub.status.idle": "2022-03-26T17:13:40.467438Z",
     "shell.execute_reply": "2022-03-26T17:13:40.468214Z"
    },
    "papermill": {
     "duration": 0.070675,
     "end_time": "2022-03-26T17:13:40.468458",
     "exception": false,
     "start_time": "2022-03-26T17:13:40.397783",
     "status": "completed"
    },
    "tags": []
   },
   "outputs": [
    {
     "name": "stdout",
     "output_type": "stream",
     "text": [
      "<class 'pandas.core.frame.DataFrame'>\n",
      "Int64Index: 1000 entries, 0 to 999\n",
      "Data columns (total 6 columns):\n",
      " #   Column  Non-Null Count  Dtype  \n",
      "---  ------  --------------  -----  \n",
      " 0   size    1000 non-null   object \n",
      " 1   age     1000 non-null   int64  \n",
      " 2   team    1000 non-null   object \n",
      " 3   dq      1000 non-null   object \n",
      " 4   date    1000 non-null   object \n",
      " 5   prob    1000 non-null   float64\n",
      "dtypes: float64(1), int64(1), object(4)\n",
      "memory usage: 54.7+ KB\n",
      "<class 'pandas.core.frame.DataFrame'>\n",
      "RangeIndex: 1000 entries, 0 to 999\n",
      "Data columns (total 6 columns):\n",
      " #   Column  Non-Null Count  Dtype         \n",
      "---  ------  --------------  -----         \n",
      " 0   size    1000 non-null   object        \n",
      " 1   age     1000 non-null   int64         \n",
      " 2   team    1000 non-null   object        \n",
      " 3   dq      1000 non-null   object        \n",
      " 4   date    1000 non-null   datetime64[ns]\n",
      " 5   prob    1000 non-null   float64       \n",
      "dtypes: datetime64[ns](1), float64(1), int64(1), object(3)\n",
      "memory usage: 47.0+ KB\n"
     ]
    }
   ],
   "source": [
    "df_csv.info()\n",
    "df_pickle.info()"
   ]
  },
  {
   "cell_type": "code",
   "execution_count": 23,
   "id": "9dd4d3a0",
   "metadata": {
    "execution": {
     "iopub.execute_input": "2022-03-26T17:13:40.565019Z",
     "iopub.status.busy": "2022-03-26T17:13:40.563950Z",
     "iopub.status.idle": "2022-03-26T17:13:40.575388Z",
     "shell.execute_reply": "2022-03-26T17:13:40.576028Z"
    },
    "papermill": {
     "duration": 0.062736,
     "end_time": "2022-03-26T17:13:40.576217",
     "exception": false,
     "start_time": "2022-03-26T17:13:40.513481",
     "status": "completed"
    },
    "tags": []
   },
   "outputs": [
    {
     "name": "stdout",
     "output_type": "stream",
     "text": [
      "<class 'pandas.core.frame.DataFrame'>\n",
      "RangeIndex: 1000 entries, 0 to 999\n",
      "Data columns (total 6 columns):\n",
      " #   Column  Non-Null Count  Dtype         \n",
      "---  ------  --------------  -----         \n",
      " 0   size    1000 non-null   object        \n",
      " 1   age     1000 non-null   int64         \n",
      " 2   team    1000 non-null   object        \n",
      " 3   dq      1000 non-null   object        \n",
      " 4   date    1000 non-null   datetime64[ns]\n",
      " 5   prob    1000 non-null   float64       \n",
      "dtypes: datetime64[ns](1), float64(1), int64(1), object(3)\n",
      "memory usage: 47.0+ KB\n"
     ]
    }
   ],
   "source": [
    "df_feather.info()"
   ]
  },
  {
   "cell_type": "code",
   "execution_count": 24,
   "id": "03595532",
   "metadata": {
    "execution": {
     "iopub.execute_input": "2022-03-26T17:13:40.675825Z",
     "iopub.status.busy": "2022-03-26T17:13:40.670370Z",
     "iopub.status.idle": "2022-03-26T17:13:40.681430Z",
     "shell.execute_reply": "2022-03-26T17:13:40.680581Z"
    },
    "papermill": {
     "duration": 0.061237,
     "end_time": "2022-03-26T17:13:40.681648",
     "exception": false,
     "start_time": "2022-03-26T17:13:40.620411",
     "status": "completed"
    },
    "tags": []
   },
   "outputs": [
    {
     "name": "stdout",
     "output_type": "stream",
     "text": [
      "<class 'pandas.core.frame.DataFrame'>\n",
      "RangeIndex: 1000 entries, 0 to 999\n",
      "Data columns (total 6 columns):\n",
      " #   Column  Non-Null Count  Dtype         \n",
      "---  ------  --------------  -----         \n",
      " 0   size    1000 non-null   object        \n",
      " 1   age     1000 non-null   int64         \n",
      " 2   team    1000 non-null   object        \n",
      " 3   dq      1000 non-null   object        \n",
      " 4   date    1000 non-null   datetime64[ns]\n",
      " 5   prob    1000 non-null   float64       \n",
      "dtypes: datetime64[ns](1), float64(1), int64(1), object(3)\n",
      "memory usage: 47.0+ KB\n"
     ]
    }
   ],
   "source": [
    "df_pickle.info()"
   ]
  },
  {
   "cell_type": "markdown",
   "id": "52b6292d",
   "metadata": {
    "papermill": {
     "duration": 0.041176,
     "end_time": "2022-03-26T17:13:40.765415",
     "exception": false,
     "start_time": "2022-03-26T17:13:40.724239",
     "status": "completed"
    },
    "tags": []
   },
   "source": [
    "# 10 Pandas Dataframe Functions to know"
   ]
  },
  {
   "cell_type": "code",
   "execution_count": 25,
   "id": "7b9857a9",
   "metadata": {
    "execution": {
     "iopub.execute_input": "2022-03-26T17:13:40.858321Z",
     "iopub.status.busy": "2022-03-26T17:13:40.855586Z",
     "iopub.status.idle": "2022-03-26T17:13:40.863472Z",
     "shell.execute_reply": "2022-03-26T17:13:40.862801Z"
    },
    "papermill": {
     "duration": 0.056211,
     "end_time": "2022-03-26T17:13:40.863635",
     "exception": false,
     "start_time": "2022-03-26T17:13:40.807424",
     "status": "completed"
    },
    "tags": []
   },
   "outputs": [],
   "source": [
    "df = get_dataset(1_000)"
   ]
  },
  {
   "cell_type": "code",
   "execution_count": 26,
   "id": "6158bba2",
   "metadata": {
    "execution": {
     "iopub.execute_input": "2022-03-26T17:13:40.958490Z",
     "iopub.status.busy": "2022-03-26T17:13:40.956443Z",
     "iopub.status.idle": "2022-03-26T17:13:40.978558Z",
     "shell.execute_reply": "2022-03-26T17:13:40.979114Z"
    },
    "papermill": {
     "duration": 0.073368,
     "end_time": "2022-03-26T17:13:40.979296",
     "exception": false,
     "start_time": "2022-03-26T17:13:40.905928",
     "status": "completed"
    },
    "tags": []
   },
   "outputs": [
    {
     "data": {
      "text/html": [
       "<div>\n",
       "<style scoped>\n",
       "    .dataframe tbody tr th:only-of-type {\n",
       "        vertical-align: middle;\n",
       "    }\n",
       "\n",
       "    .dataframe tbody tr th {\n",
       "        vertical-align: top;\n",
       "    }\n",
       "\n",
       "    .dataframe thead th {\n",
       "        text-align: right;\n",
       "    }\n",
       "</style>\n",
       "<table border=\"1\" class=\"dataframe\">\n",
       "  <thead>\n",
       "    <tr style=\"text-align: right;\">\n",
       "      <th></th>\n",
       "      <th>size</th>\n",
       "      <th>age</th>\n",
       "      <th>team</th>\n",
       "      <th>dq</th>\n",
       "      <th>date</th>\n",
       "      <th>prob</th>\n",
       "    </tr>\n",
       "  </thead>\n",
       "  <tbody>\n",
       "    <tr>\n",
       "      <th>0</th>\n",
       "      <td>medium</td>\n",
       "      <td>14</td>\n",
       "      <td>yellow</td>\n",
       "      <td>yes</td>\n",
       "      <td>2022-12-22</td>\n",
       "      <td>0.374009</td>\n",
       "    </tr>\n",
       "    <tr>\n",
       "      <th>1</th>\n",
       "      <td>medium</td>\n",
       "      <td>25</td>\n",
       "      <td>green</td>\n",
       "      <td>no</td>\n",
       "      <td>2020-03-08</td>\n",
       "      <td>0.865554</td>\n",
       "    </tr>\n",
       "    <tr>\n",
       "      <th>2</th>\n",
       "      <td>small</td>\n",
       "      <td>42</td>\n",
       "      <td>red</td>\n",
       "      <td>yes</td>\n",
       "      <td>2021-11-02</td>\n",
       "      <td>0.427245</td>\n",
       "    </tr>\n",
       "    <tr>\n",
       "      <th>3</th>\n",
       "      <td>big</td>\n",
       "      <td>31</td>\n",
       "      <td>blue</td>\n",
       "      <td>no</td>\n",
       "      <td>2021-07-18</td>\n",
       "      <td>0.867769</td>\n",
       "    </tr>\n",
       "    <tr>\n",
       "      <th>4</th>\n",
       "      <td>small</td>\n",
       "      <td>47</td>\n",
       "      <td>blue</td>\n",
       "      <td>yes</td>\n",
       "      <td>2020-04-24</td>\n",
       "      <td>0.673837</td>\n",
       "    </tr>\n",
       "    <tr>\n",
       "      <th>...</th>\n",
       "      <td>...</td>\n",
       "      <td>...</td>\n",
       "      <td>...</td>\n",
       "      <td>...</td>\n",
       "      <td>...</td>\n",
       "      <td>...</td>\n",
       "    </tr>\n",
       "    <tr>\n",
       "      <th>995</th>\n",
       "      <td>medium</td>\n",
       "      <td>31</td>\n",
       "      <td>yellow</td>\n",
       "      <td>yes</td>\n",
       "      <td>2021-11-25</td>\n",
       "      <td>0.122868</td>\n",
       "    </tr>\n",
       "    <tr>\n",
       "      <th>996</th>\n",
       "      <td>medium</td>\n",
       "      <td>18</td>\n",
       "      <td>green</td>\n",
       "      <td>yes</td>\n",
       "      <td>2020-10-06</td>\n",
       "      <td>0.289478</td>\n",
       "    </tr>\n",
       "    <tr>\n",
       "      <th>997</th>\n",
       "      <td>big</td>\n",
       "      <td>6</td>\n",
       "      <td>red</td>\n",
       "      <td>yes</td>\n",
       "      <td>2020-10-05</td>\n",
       "      <td>0.831830</td>\n",
       "    </tr>\n",
       "    <tr>\n",
       "      <th>998</th>\n",
       "      <td>big</td>\n",
       "      <td>15</td>\n",
       "      <td>green</td>\n",
       "      <td>yes</td>\n",
       "      <td>2021-12-01</td>\n",
       "      <td>0.557518</td>\n",
       "    </tr>\n",
       "    <tr>\n",
       "      <th>999</th>\n",
       "      <td>medium</td>\n",
       "      <td>30</td>\n",
       "      <td>red</td>\n",
       "      <td>no</td>\n",
       "      <td>2021-04-02</td>\n",
       "      <td>0.454238</td>\n",
       "    </tr>\n",
       "  </tbody>\n",
       "</table>\n",
       "<p>1000 rows × 6 columns</p>\n",
       "</div>"
      ],
      "text/plain": [
       "       size  age    team   dq       date      prob\n",
       "0    medium   14  yellow  yes 2022-12-22  0.374009\n",
       "1    medium   25   green   no 2020-03-08  0.865554\n",
       "2     small   42     red  yes 2021-11-02  0.427245\n",
       "3       big   31    blue   no 2021-07-18  0.867769\n",
       "4     small   47    blue  yes 2020-04-24  0.673837\n",
       "..      ...  ...     ...  ...        ...       ...\n",
       "995  medium   31  yellow  yes 2021-11-25  0.122868\n",
       "996  medium   18   green  yes 2020-10-06  0.289478\n",
       "997     big    6     red  yes 2020-10-05  0.831830\n",
       "998     big   15   green  yes 2021-12-01  0.557518\n",
       "999  medium   30     red   no 2021-04-02  0.454238\n",
       "\n",
       "[1000 rows x 6 columns]"
      ]
     },
     "execution_count": 26,
     "metadata": {},
     "output_type": "execute_result"
    }
   ],
   "source": [
    "df"
   ]
  }
 ],
 "metadata": {
  "kernelspec": {
   "display_name": "Python 3 (ipykernel)",
   "language": "python",
   "name": "python3"
  },
  "language_info": {
   "codemirror_mode": {
    "name": "ipython",
    "version": 3
   },
   "file_extension": ".py",
   "mimetype": "text/x-python",
   "name": "python",
   "nbconvert_exporter": "python",
   "pygments_lexer": "ipython3",
   "version": "3.8.5"
  },
  "papermill": {
   "default_parameters": {},
   "duration": 133.94929,
   "end_time": "2022-03-26T17:13:41.734837",
   "environment_variables": {},
   "exception": null,
   "input_path": "__notebook__.ipynb",
   "output_path": "__notebook__.ipynb",
   "parameters": {},
   "start_time": "2022-03-26T17:11:27.785547",
   "version": "2.3.3"
  }
 },
 "nbformat": 4,
 "nbformat_minor": 5
}
